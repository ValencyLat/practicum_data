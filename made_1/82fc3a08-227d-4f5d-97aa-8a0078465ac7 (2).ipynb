{
 "cells": [
  {
   "cell_type": "markdown",
   "metadata": {},
   "source": [
    "# Сборный проект. Выявление закономерностей, определяющих успешность игры."
   ]
  },
  {
   "cell_type": "markdown",
   "metadata": {},
   "source": [
    "Описание проекта: Вы работаете в интернет-магазине «Стримчик», который продаёт по всему миру компьютерные игры. Из открытых источников доступны исторические данные о продажах игр, оценки пользователей и экспертов, жанры и платформы (например, Xbox или PlayStation). Вам нужно выявить определяющие успешность игры закономерности. Это позволит сделать ставку на потенциально популярный продукт и спланировать рекламные кампании.\n",
    "Перед вами данные до 2016 года. Представим, что сейчас декабрь 2016 г., и вы планируете кампанию на 2017-й. Нужно отработать принцип работы с данными. Неважно, прогнозируете ли вы продажи на 2017 год по данным 2016-го или же 2027-й — по данным 2026 года.\n",
    "В наборе данных попадается аббревиатура ESRB (Entertainment Software Rating Board) — это ассоциация, определяющая возрастной рейтинг компьютерных игр. ESRB оценивает игровой контент и присваивает ему подходящую возрастную категорию, например, «Для взрослых», «Для детей младшего возраста» или «Для подростков»."
   ]
  },
  {
   "cell_type": "markdown",
   "metadata": {},
   "source": [
    "Цель: Выявить закономерности, определяющие успешность игры.  Это позволит сделать ставку на потенциально популярный продукт и спланировать рекламные кампании. "
   ]
  },
  {
   "cell_type": "markdown",
   "metadata": {},
   "source": [
    "Описание данных: Из открытых источников взяты исторические данные (до 2016 года) о продажах игр, оценки пользователей и экспертов, жанры и платформы (например, Xbox или PlayStation)."
   ]
  },
  {
   "cell_type": "markdown",
   "metadata": {},
   "source": [
    "\n",
    "План работы:\n",
    "\n",
    "    1. Изучить данные\n",
    "    2. Предобработка данных\n",
    "    3. Суммарные продажи\n",
    "    4. Исследовательский анализ данных\n",
    "    \n",
    "        4.1 Выбрать данные за определенный актуальный период.\n",
    "        4.2 Выбрать платформы с наибольшими суммарными продажами и построено распределение по годам. \n",
    "        4.3 Определить за какой характерный срок появляются новые и исчезают старые платформы.\n",
    "        4.4 Выбрать несколько потенциально прибыльных платформ. \n",
    "        4.5 Построить график «ящик с усами» по глобальным продажам игр в разбивке по платформам. \n",
    "        4.6 Рассмотреть влияют ли на продажи внутри одной популярной платформы отзывы пользователей и критиков.\n",
    "        4.7. Построить диаграмма рассеяния и посчитана корреляция между отзывами и продажами. \n",
    "        4.8 Рассмотреть общее распределение игр по жанрам.\n",
    "        \n",
    "    5. Составить портрет пользователя каждого региона \n",
    "        5.1 Определить для пользователя каждого региона (NA, EU, JP):\n",
    "            Самые популярные платформы (топ-5). \n",
    "            Самые популярные жанры (топ-5). \n",
    "        5.2 Рассмотреть влияет ли рейтинг ESRB на продажи в отдельном регионе.\n",
    "\n",
    "    6. Проверить гипотезы \n",
    "        Средние пользовательские рейтинги платформ Xbox One и PC одинаковые;\n",
    "        Средние пользовательские рейтинги жанров Action (англ. «действие», экшен-игры) и Sports (англ. «спортивные соревнования») разные.\n",
    "    7. Вывод.\n",
    "\n"
   ]
  },
  {
   "cell_type": "markdown",
   "metadata": {},
   "source": [
    "## Откроем таблицу и изучим общую информацию о данных"
   ]
  },
  {
   "cell_type": "code",
   "execution_count": 1,
   "metadata": {},
   "outputs": [],
   "source": [
    "#импорт библиотек\n",
    "import pandas as pd\n",
    "import matplotlib.pyplot as plt \n",
    "import seaborn as sns\n",
    "from scipy import stats as st\n",
    "import numpy as np\n",
    "\n",
    "\n",
    "data = pd.read_csv('/datasets/games.csv')\n"
   ]
  },
  {
   "cell_type": "code",
   "execution_count": 2,
   "metadata": {},
   "outputs": [
    {
     "data": {
      "text/html": [
       "<div>\n",
       "<style scoped>\n",
       "    .dataframe tbody tr th:only-of-type {\n",
       "        vertical-align: middle;\n",
       "    }\n",
       "\n",
       "    .dataframe tbody tr th {\n",
       "        vertical-align: top;\n",
       "    }\n",
       "\n",
       "    .dataframe thead th {\n",
       "        text-align: right;\n",
       "    }\n",
       "</style>\n",
       "<table border=\"1\" class=\"dataframe\">\n",
       "  <thead>\n",
       "    <tr style=\"text-align: right;\">\n",
       "      <th></th>\n",
       "      <th>Name</th>\n",
       "      <th>Platform</th>\n",
       "      <th>Year_of_Release</th>\n",
       "      <th>Genre</th>\n",
       "      <th>NA_sales</th>\n",
       "      <th>EU_sales</th>\n",
       "      <th>JP_sales</th>\n",
       "      <th>Other_sales</th>\n",
       "      <th>Critic_Score</th>\n",
       "      <th>User_Score</th>\n",
       "      <th>Rating</th>\n",
       "    </tr>\n",
       "  </thead>\n",
       "  <tbody>\n",
       "    <tr>\n",
       "      <th>0</th>\n",
       "      <td>Wii Sports</td>\n",
       "      <td>Wii</td>\n",
       "      <td>2006.0</td>\n",
       "      <td>Sports</td>\n",
       "      <td>41.36</td>\n",
       "      <td>28.96</td>\n",
       "      <td>3.77</td>\n",
       "      <td>8.45</td>\n",
       "      <td>76.0</td>\n",
       "      <td>8</td>\n",
       "      <td>E</td>\n",
       "    </tr>\n",
       "    <tr>\n",
       "      <th>1</th>\n",
       "      <td>Super Mario Bros.</td>\n",
       "      <td>NES</td>\n",
       "      <td>1985.0</td>\n",
       "      <td>Platform</td>\n",
       "      <td>29.08</td>\n",
       "      <td>3.58</td>\n",
       "      <td>6.81</td>\n",
       "      <td>0.77</td>\n",
       "      <td>NaN</td>\n",
       "      <td>NaN</td>\n",
       "      <td>NaN</td>\n",
       "    </tr>\n",
       "    <tr>\n",
       "      <th>2</th>\n",
       "      <td>Mario Kart Wii</td>\n",
       "      <td>Wii</td>\n",
       "      <td>2008.0</td>\n",
       "      <td>Racing</td>\n",
       "      <td>15.68</td>\n",
       "      <td>12.76</td>\n",
       "      <td>3.79</td>\n",
       "      <td>3.29</td>\n",
       "      <td>82.0</td>\n",
       "      <td>8.3</td>\n",
       "      <td>E</td>\n",
       "    </tr>\n",
       "    <tr>\n",
       "      <th>3</th>\n",
       "      <td>Wii Sports Resort</td>\n",
       "      <td>Wii</td>\n",
       "      <td>2009.0</td>\n",
       "      <td>Sports</td>\n",
       "      <td>15.61</td>\n",
       "      <td>10.93</td>\n",
       "      <td>3.28</td>\n",
       "      <td>2.95</td>\n",
       "      <td>80.0</td>\n",
       "      <td>8</td>\n",
       "      <td>E</td>\n",
       "    </tr>\n",
       "    <tr>\n",
       "      <th>4</th>\n",
       "      <td>Pokemon Red/Pokemon Blue</td>\n",
       "      <td>GB</td>\n",
       "      <td>1996.0</td>\n",
       "      <td>Role-Playing</td>\n",
       "      <td>11.27</td>\n",
       "      <td>8.89</td>\n",
       "      <td>10.22</td>\n",
       "      <td>1.00</td>\n",
       "      <td>NaN</td>\n",
       "      <td>NaN</td>\n",
       "      <td>NaN</td>\n",
       "    </tr>\n",
       "  </tbody>\n",
       "</table>\n",
       "</div>"
      ],
      "text/plain": [
       "                       Name Platform  Year_of_Release         Genre  NA_sales  \\\n",
       "0                Wii Sports      Wii           2006.0        Sports     41.36   \n",
       "1         Super Mario Bros.      NES           1985.0      Platform     29.08   \n",
       "2            Mario Kart Wii      Wii           2008.0        Racing     15.68   \n",
       "3         Wii Sports Resort      Wii           2009.0        Sports     15.61   \n",
       "4  Pokemon Red/Pokemon Blue       GB           1996.0  Role-Playing     11.27   \n",
       "\n",
       "   EU_sales  JP_sales  Other_sales  Critic_Score User_Score Rating  \n",
       "0     28.96      3.77         8.45          76.0          8      E  \n",
       "1      3.58      6.81         0.77           NaN        NaN    NaN  \n",
       "2     12.76      3.79         3.29          82.0        8.3      E  \n",
       "3     10.93      3.28         2.95          80.0          8      E  \n",
       "4      8.89     10.22         1.00           NaN        NaN    NaN  "
      ]
     },
     "execution_count": 2,
     "metadata": {},
     "output_type": "execute_result"
    }
   ],
   "source": [
    "#Изучим данные\n",
    "pd.set_option('display.max_columns', None)\n",
    "data.head()"
   ]
  },
  {
   "cell_type": "code",
   "execution_count": 3,
   "metadata": {},
   "outputs": [
    {
     "name": "stdout",
     "output_type": "stream",
     "text": [
      "<class 'pandas.core.frame.DataFrame'>\n",
      "RangeIndex: 16715 entries, 0 to 16714\n",
      "Data columns (total 11 columns):\n",
      " #   Column           Non-Null Count  Dtype  \n",
      "---  ------           --------------  -----  \n",
      " 0   Name             16713 non-null  object \n",
      " 1   Platform         16715 non-null  object \n",
      " 2   Year_of_Release  16446 non-null  float64\n",
      " 3   Genre            16713 non-null  object \n",
      " 4   NA_sales         16715 non-null  float64\n",
      " 5   EU_sales         16715 non-null  float64\n",
      " 6   JP_sales         16715 non-null  float64\n",
      " 7   Other_sales      16715 non-null  float64\n",
      " 8   Critic_Score     8137 non-null   float64\n",
      " 9   User_Score       10014 non-null  object \n",
      " 10  Rating           9949 non-null   object \n",
      "dtypes: float64(6), object(5)\n",
      "memory usage: 1.4+ MB\n"
     ]
    }
   ],
   "source": [
    "data.info()"
   ]
  },
  {
   "cell_type": "markdown",
   "metadata": {},
   "source": [
    "В таблице 11 столбцов, 16715 строк. Названия столбцов необходимо привести к нижнему регистру.\n",
    "\n",
    "    Типы данных:\n",
    "    - вещественные float64(14)-Year_of_Release,NA_sales,EU_sales,JP_sales,Other_sales,Critic_Score.\n",
    "    - строки object(3)-Name, Platform, Genre, User_Score,Rating.\n",
    "\n",
    "    Нужно заменить типы следующих столбцов:Year_of_Release-на целочисленный (int), User_Score-на вещественный (float64).\n",
    "    Замечены пропуски в столбцах: Name, Year_of_Release, Genre, Critic_Score, User_Score, Rating.\n",
    "\n"
   ]
  },
  {
   "cell_type": "code",
   "execution_count": 4,
   "metadata": {},
   "outputs": [
    {
     "data": {
      "text/plain": [
       "0"
      ]
     },
     "execution_count": 4,
     "metadata": {},
     "output_type": "execute_result"
    }
   ],
   "source": [
    "#проверим данные на явные дубликаты\n",
    "data.duplicated().sum()"
   ]
  },
  {
   "cell_type": "markdown",
   "metadata": {},
   "source": [
    "Дубликатов нет"
   ]
  },
  {
   "cell_type": "markdown",
   "metadata": {},
   "source": [
    "##  Подготовка данных "
   ]
  },
  {
   "cell_type": "markdown",
   "metadata": {},
   "source": [
    "### Приведем к нижнему регистру названия столбцов."
   ]
  },
  {
   "cell_type": "code",
   "execution_count": 5,
   "metadata": {},
   "outputs": [],
   "source": [
    "data = data.rename(columns={'Name': 'name', 'Platform': 'platform', 'Year_of_Release': 'year_of_release', 'Genre': 'genre', 'NA_sales': 'na_sales', 'EU_sales': 'eu_sales', 'JP_sales': 'jp_sales', 'Other_sales': 'other_sales', 'Critic_Score':'critic_score', 'User_Score': 'user_score', 'Rating': 'rating'}) \n"
   ]
  },
  {
   "cell_type": "markdown",
   "metadata": {},
   "source": [
    "Name — название игры;\n",
    "Platform — платформа;\n",
    "Year_of_Release — год выпуска;\n",
    "Genre — жанр игры;\n",
    "NA_sales — продажи в Северной Америке (миллионы проданных копий);\n",
    "EU_sales — продажи в Европе (миллионы проданных копий);\n",
    "JP_sales — продажи в Японии (миллионы проданных копий);\n",
    "Other_sales — продажи в других странах (миллионы проданных копий);\n",
    "Critic_Score — оценка критиков (максимум 100);\n",
    "User_Score — оценка пользователей (максимум 10);\n",
    "Rating — рейтинг от организации ESRB (англ. Entertainment Software Rating Board). Эта ассоциация определяет рейтинг компьютерных игр и присваивает им подходящую возрастную категорию.\n"
   ]
  },
  {
   "cell_type": "markdown",
   "metadata": {},
   "source": [
    "### Преобразуем данные в нужные типы. "
   ]
  },
  {
   "cell_type": "code",
   "execution_count": 6,
   "metadata": {},
   "outputs": [],
   "source": [
    "#Преобразуйте данные в нужные типы. Опишите, в каких столбцах заменили тип данных и почему"
   ]
  },
  {
   "cell_type": "code",
   "execution_count": 7,
   "metadata": {},
   "outputs": [
    {
     "name": "stdout",
     "output_type": "stream",
     "text": [
      "<class 'pandas.core.frame.DataFrame'>\n",
      "RangeIndex: 16715 entries, 0 to 16714\n",
      "Data columns (total 11 columns):\n",
      " #   Column           Non-Null Count  Dtype  \n",
      "---  ------           --------------  -----  \n",
      " 0   name             16713 non-null  object \n",
      " 1   platform         16715 non-null  object \n",
      " 2   year_of_release  16446 non-null  float64\n",
      " 3   genre            16713 non-null  object \n",
      " 4   na_sales         16715 non-null  float64\n",
      " 5   eu_sales         16715 non-null  float64\n",
      " 6   jp_sales         16715 non-null  float64\n",
      " 7   other_sales      16715 non-null  float64\n",
      " 8   critic_score     8137 non-null   float64\n",
      " 9   user_score       10014 non-null  object \n",
      " 10  rating           9949 non-null   object \n",
      "dtypes: float64(6), object(5)\n",
      "memory usage: 1.4+ MB\n"
     ]
    }
   ],
   "source": [
    "data.info()"
   ]
  },
  {
   "cell_type": "code",
   "execution_count": 8,
   "metadata": {},
   "outputs": [],
   "source": [
    "#для возможности совершения мат.операций заменим object на float64 столбец \"user_score\": \n"
   ]
  },
  {
   "cell_type": "code",
   "execution_count": 9,
   "metadata": {},
   "outputs": [
    {
     "data": {
      "text/plain": [
       "tbd    2424\n",
       "7.8     324\n",
       "8       290\n",
       "8.2     282\n",
       "8.3     254\n",
       "       ... \n",
       "0.2       2\n",
       "9.6       2\n",
       "0.3       2\n",
       "9.7       1\n",
       "0         1\n",
       "Name: user_score, Length: 96, dtype: int64"
      ]
     },
     "execution_count": 9,
     "metadata": {},
     "output_type": "execute_result"
    }
   ],
   "source": [
    "data['user_score'].value_counts()"
   ]
  },
  {
   "cell_type": "markdown",
   "metadata": {},
   "source": [
    "tbd - To Be Determined, то есть \"Будет определено\", пока заменим на NAN"
   ]
  },
  {
   "cell_type": "code",
   "execution_count": 10,
   "metadata": {},
   "outputs": [],
   "source": [
    "#заменим tbd на NaN\n",
    "data['user_score'] = data['user_score'].replace('tbd', 'NaN') "
   ]
  },
  {
   "cell_type": "code",
   "execution_count": 11,
   "metadata": {},
   "outputs": [
    {
     "data": {
      "text/plain": [
       "NaN    2424\n",
       "7.8     324\n",
       "8       290\n",
       "8.2     282\n",
       "8.3     254\n",
       "       ... \n",
       "0.2       2\n",
       "9.6       2\n",
       "0.3       2\n",
       "9.7       1\n",
       "0         1\n",
       "Name: user_score, Length: 96, dtype: int64"
      ]
     },
     "execution_count": 11,
     "metadata": {},
     "output_type": "execute_result"
    }
   ],
   "source": [
    "data['user_score'].value_counts()"
   ]
  },
  {
   "cell_type": "code",
   "execution_count": 12,
   "metadata": {},
   "outputs": [],
   "source": [
    "#заменим тип на float\n",
    "data['user_score'] = data['user_score'].astype('float')"
   ]
  },
  {
   "cell_type": "code",
   "execution_count": null,
   "metadata": {},
   "outputs": [],
   "source": []
  },
  {
   "cell_type": "code",
   "execution_count": 13,
   "metadata": {},
   "outputs": [],
   "source": [
    "#заменим тип столбца year_of_release на int:\n",
    "data['year_of_release'] = data['year_of_release'].fillna(0).astype('int')\n"
   ]
  },
  {
   "cell_type": "code",
   "execution_count": 14,
   "metadata": {},
   "outputs": [
    {
     "name": "stdout",
     "output_type": "stream",
     "text": [
      "<class 'pandas.core.frame.DataFrame'>\n",
      "RangeIndex: 16715 entries, 0 to 16714\n",
      "Data columns (total 11 columns):\n",
      " #   Column           Non-Null Count  Dtype  \n",
      "---  ------           --------------  -----  \n",
      " 0   name             16713 non-null  object \n",
      " 1   platform         16715 non-null  object \n",
      " 2   year_of_release  16715 non-null  int64  \n",
      " 3   genre            16713 non-null  object \n",
      " 4   na_sales         16715 non-null  float64\n",
      " 5   eu_sales         16715 non-null  float64\n",
      " 6   jp_sales         16715 non-null  float64\n",
      " 7   other_sales      16715 non-null  float64\n",
      " 8   critic_score     8137 non-null   float64\n",
      " 9   user_score       7590 non-null   float64\n",
      " 10  rating           9949 non-null   object \n",
      "dtypes: float64(6), int64(1), object(4)\n",
      "memory usage: 1.4+ MB\n"
     ]
    }
   ],
   "source": [
    "data.info()"
   ]
  },
  {
   "cell_type": "code",
   "execution_count": 15,
   "metadata": {},
   "outputs": [
    {
     "data": {
      "text/html": [
       "<div>\n",
       "<style scoped>\n",
       "    .dataframe tbody tr th:only-of-type {\n",
       "        vertical-align: middle;\n",
       "    }\n",
       "\n",
       "    .dataframe tbody tr th {\n",
       "        vertical-align: top;\n",
       "    }\n",
       "\n",
       "    .dataframe thead th {\n",
       "        text-align: right;\n",
       "    }\n",
       "</style>\n",
       "<table border=\"1\" class=\"dataframe\">\n",
       "  <thead>\n",
       "    <tr style=\"text-align: right;\">\n",
       "      <th></th>\n",
       "      <th>count</th>\n",
       "      <th>unique</th>\n",
       "      <th>top</th>\n",
       "      <th>freq</th>\n",
       "      <th>mean</th>\n",
       "      <th>std</th>\n",
       "      <th>min</th>\n",
       "      <th>25%</th>\n",
       "      <th>50%</th>\n",
       "      <th>75%</th>\n",
       "      <th>max</th>\n",
       "    </tr>\n",
       "  </thead>\n",
       "  <tbody>\n",
       "    <tr>\n",
       "      <th>name</th>\n",
       "      <td>16713</td>\n",
       "      <td>11559</td>\n",
       "      <td>Need for Speed: Most Wanted</td>\n",
       "      <td>12</td>\n",
       "      <td>NaN</td>\n",
       "      <td>NaN</td>\n",
       "      <td>NaN</td>\n",
       "      <td>NaN</td>\n",
       "      <td>NaN</td>\n",
       "      <td>NaN</td>\n",
       "      <td>NaN</td>\n",
       "    </tr>\n",
       "    <tr>\n",
       "      <th>platform</th>\n",
       "      <td>16715</td>\n",
       "      <td>31</td>\n",
       "      <td>PS2</td>\n",
       "      <td>2161</td>\n",
       "      <td>NaN</td>\n",
       "      <td>NaN</td>\n",
       "      <td>NaN</td>\n",
       "      <td>NaN</td>\n",
       "      <td>NaN</td>\n",
       "      <td>NaN</td>\n",
       "      <td>NaN</td>\n",
       "    </tr>\n",
       "    <tr>\n",
       "      <th>year_of_release</th>\n",
       "      <td>16715.0</td>\n",
       "      <td>NaN</td>\n",
       "      <td>NaN</td>\n",
       "      <td>NaN</td>\n",
       "      <td>1974.193599</td>\n",
       "      <td>252.55993</td>\n",
       "      <td>0.0</td>\n",
       "      <td>2003.0</td>\n",
       "      <td>2007.0</td>\n",
       "      <td>2010.0</td>\n",
       "      <td>2016.0</td>\n",
       "    </tr>\n",
       "    <tr>\n",
       "      <th>genre</th>\n",
       "      <td>16713</td>\n",
       "      <td>12</td>\n",
       "      <td>Action</td>\n",
       "      <td>3369</td>\n",
       "      <td>NaN</td>\n",
       "      <td>NaN</td>\n",
       "      <td>NaN</td>\n",
       "      <td>NaN</td>\n",
       "      <td>NaN</td>\n",
       "      <td>NaN</td>\n",
       "      <td>NaN</td>\n",
       "    </tr>\n",
       "    <tr>\n",
       "      <th>na_sales</th>\n",
       "      <td>16715.0</td>\n",
       "      <td>NaN</td>\n",
       "      <td>NaN</td>\n",
       "      <td>NaN</td>\n",
       "      <td>0.263377</td>\n",
       "      <td>0.813604</td>\n",
       "      <td>0.0</td>\n",
       "      <td>0.0</td>\n",
       "      <td>0.08</td>\n",
       "      <td>0.24</td>\n",
       "      <td>41.36</td>\n",
       "    </tr>\n",
       "    <tr>\n",
       "      <th>eu_sales</th>\n",
       "      <td>16715.0</td>\n",
       "      <td>NaN</td>\n",
       "      <td>NaN</td>\n",
       "      <td>NaN</td>\n",
       "      <td>0.14506</td>\n",
       "      <td>0.503339</td>\n",
       "      <td>0.0</td>\n",
       "      <td>0.0</td>\n",
       "      <td>0.02</td>\n",
       "      <td>0.11</td>\n",
       "      <td>28.96</td>\n",
       "    </tr>\n",
       "    <tr>\n",
       "      <th>jp_sales</th>\n",
       "      <td>16715.0</td>\n",
       "      <td>NaN</td>\n",
       "      <td>NaN</td>\n",
       "      <td>NaN</td>\n",
       "      <td>0.077617</td>\n",
       "      <td>0.308853</td>\n",
       "      <td>0.0</td>\n",
       "      <td>0.0</td>\n",
       "      <td>0.0</td>\n",
       "      <td>0.04</td>\n",
       "      <td>10.22</td>\n",
       "    </tr>\n",
       "    <tr>\n",
       "      <th>other_sales</th>\n",
       "      <td>16715.0</td>\n",
       "      <td>NaN</td>\n",
       "      <td>NaN</td>\n",
       "      <td>NaN</td>\n",
       "      <td>0.047342</td>\n",
       "      <td>0.186731</td>\n",
       "      <td>0.0</td>\n",
       "      <td>0.0</td>\n",
       "      <td>0.01</td>\n",
       "      <td>0.03</td>\n",
       "      <td>10.57</td>\n",
       "    </tr>\n",
       "    <tr>\n",
       "      <th>critic_score</th>\n",
       "      <td>8137.0</td>\n",
       "      <td>NaN</td>\n",
       "      <td>NaN</td>\n",
       "      <td>NaN</td>\n",
       "      <td>68.967679</td>\n",
       "      <td>13.938165</td>\n",
       "      <td>13.0</td>\n",
       "      <td>60.0</td>\n",
       "      <td>71.0</td>\n",
       "      <td>79.0</td>\n",
       "      <td>98.0</td>\n",
       "    </tr>\n",
       "    <tr>\n",
       "      <th>user_score</th>\n",
       "      <td>7590.0</td>\n",
       "      <td>NaN</td>\n",
       "      <td>NaN</td>\n",
       "      <td>NaN</td>\n",
       "      <td>7.125046</td>\n",
       "      <td>1.500006</td>\n",
       "      <td>0.0</td>\n",
       "      <td>6.4</td>\n",
       "      <td>7.5</td>\n",
       "      <td>8.2</td>\n",
       "      <td>9.7</td>\n",
       "    </tr>\n",
       "    <tr>\n",
       "      <th>rating</th>\n",
       "      <td>9949</td>\n",
       "      <td>8</td>\n",
       "      <td>E</td>\n",
       "      <td>3990</td>\n",
       "      <td>NaN</td>\n",
       "      <td>NaN</td>\n",
       "      <td>NaN</td>\n",
       "      <td>NaN</td>\n",
       "      <td>NaN</td>\n",
       "      <td>NaN</td>\n",
       "      <td>NaN</td>\n",
       "    </tr>\n",
       "  </tbody>\n",
       "</table>\n",
       "</div>"
      ],
      "text/plain": [
       "                   count unique                          top  freq  \\\n",
       "name               16713  11559  Need for Speed: Most Wanted    12   \n",
       "platform           16715     31                          PS2  2161   \n",
       "year_of_release  16715.0    NaN                          NaN   NaN   \n",
       "genre              16713     12                       Action  3369   \n",
       "na_sales         16715.0    NaN                          NaN   NaN   \n",
       "eu_sales         16715.0    NaN                          NaN   NaN   \n",
       "jp_sales         16715.0    NaN                          NaN   NaN   \n",
       "other_sales      16715.0    NaN                          NaN   NaN   \n",
       "critic_score      8137.0    NaN                          NaN   NaN   \n",
       "user_score        7590.0    NaN                          NaN   NaN   \n",
       "rating              9949      8                            E  3990   \n",
       "\n",
       "                        mean        std   min     25%     50%     75%     max  \n",
       "name                     NaN        NaN   NaN     NaN     NaN     NaN     NaN  \n",
       "platform                 NaN        NaN   NaN     NaN     NaN     NaN     NaN  \n",
       "year_of_release  1974.193599  252.55993   0.0  2003.0  2007.0  2010.0  2016.0  \n",
       "genre                    NaN        NaN   NaN     NaN     NaN     NaN     NaN  \n",
       "na_sales            0.263377   0.813604   0.0     0.0    0.08    0.24   41.36  \n",
       "eu_sales             0.14506   0.503339   0.0     0.0    0.02    0.11   28.96  \n",
       "jp_sales            0.077617   0.308853   0.0     0.0     0.0    0.04   10.22  \n",
       "other_sales         0.047342   0.186731   0.0     0.0    0.01    0.03   10.57  \n",
       "critic_score       68.967679  13.938165  13.0    60.0    71.0    79.0    98.0  \n",
       "user_score          7.125046   1.500006   0.0     6.4     7.5     8.2     9.7  \n",
       "rating                   NaN        NaN   NaN     NaN     NaN     NaN     NaN  "
      ]
     },
     "execution_count": 15,
     "metadata": {},
     "output_type": "execute_result"
    }
   ],
   "source": [
    "data.describe(include='all').T\n"
   ]
  },
  {
   "cell_type": "code",
   "execution_count": 16,
   "metadata": {},
   "outputs": [
    {
     "data": {
      "text/html": [
       "<div>\n",
       "<style scoped>\n",
       "    .dataframe tbody tr th:only-of-type {\n",
       "        vertical-align: middle;\n",
       "    }\n",
       "\n",
       "    .dataframe tbody tr th {\n",
       "        vertical-align: top;\n",
       "    }\n",
       "\n",
       "    .dataframe thead th {\n",
       "        text-align: right;\n",
       "    }\n",
       "</style>\n",
       "<table border=\"1\" class=\"dataframe\">\n",
       "  <thead>\n",
       "    <tr style=\"text-align: right;\">\n",
       "      <th></th>\n",
       "      <th>name</th>\n",
       "      <th>platform</th>\n",
       "      <th>year_of_release</th>\n",
       "      <th>genre</th>\n",
       "      <th>na_sales</th>\n",
       "      <th>eu_sales</th>\n",
       "      <th>jp_sales</th>\n",
       "      <th>other_sales</th>\n",
       "      <th>critic_score</th>\n",
       "      <th>user_score</th>\n",
       "      <th>rating</th>\n",
       "    </tr>\n",
       "  </thead>\n",
       "  <tbody>\n",
       "    <tr>\n",
       "      <th>0</th>\n",
       "      <td>Wii Sports</td>\n",
       "      <td>Wii</td>\n",
       "      <td>2006</td>\n",
       "      <td>Sports</td>\n",
       "      <td>41.36</td>\n",
       "      <td>28.96</td>\n",
       "      <td>3.77</td>\n",
       "      <td>8.45</td>\n",
       "      <td>76.0</td>\n",
       "      <td>8.0</td>\n",
       "      <td>E</td>\n",
       "    </tr>\n",
       "    <tr>\n",
       "      <th>1</th>\n",
       "      <td>Super Mario Bros.</td>\n",
       "      <td>NES</td>\n",
       "      <td>1985</td>\n",
       "      <td>Platform</td>\n",
       "      <td>29.08</td>\n",
       "      <td>3.58</td>\n",
       "      <td>6.81</td>\n",
       "      <td>0.77</td>\n",
       "      <td>NaN</td>\n",
       "      <td>NaN</td>\n",
       "      <td>NaN</td>\n",
       "    </tr>\n",
       "    <tr>\n",
       "      <th>2</th>\n",
       "      <td>Mario Kart Wii</td>\n",
       "      <td>Wii</td>\n",
       "      <td>2008</td>\n",
       "      <td>Racing</td>\n",
       "      <td>15.68</td>\n",
       "      <td>12.76</td>\n",
       "      <td>3.79</td>\n",
       "      <td>3.29</td>\n",
       "      <td>82.0</td>\n",
       "      <td>8.3</td>\n",
       "      <td>E</td>\n",
       "    </tr>\n",
       "    <tr>\n",
       "      <th>3</th>\n",
       "      <td>Wii Sports Resort</td>\n",
       "      <td>Wii</td>\n",
       "      <td>2009</td>\n",
       "      <td>Sports</td>\n",
       "      <td>15.61</td>\n",
       "      <td>10.93</td>\n",
       "      <td>3.28</td>\n",
       "      <td>2.95</td>\n",
       "      <td>80.0</td>\n",
       "      <td>8.0</td>\n",
       "      <td>E</td>\n",
       "    </tr>\n",
       "    <tr>\n",
       "      <th>4</th>\n",
       "      <td>Pokemon Red/Pokemon Blue</td>\n",
       "      <td>GB</td>\n",
       "      <td>1996</td>\n",
       "      <td>Role-Playing</td>\n",
       "      <td>11.27</td>\n",
       "      <td>8.89</td>\n",
       "      <td>10.22</td>\n",
       "      <td>1.00</td>\n",
       "      <td>NaN</td>\n",
       "      <td>NaN</td>\n",
       "      <td>NaN</td>\n",
       "    </tr>\n",
       "  </tbody>\n",
       "</table>\n",
       "</div>"
      ],
      "text/plain": [
       "                       name platform  year_of_release         genre  na_sales  \\\n",
       "0                Wii Sports      Wii             2006        Sports     41.36   \n",
       "1         Super Mario Bros.      NES             1985      Platform     29.08   \n",
       "2            Mario Kart Wii      Wii             2008        Racing     15.68   \n",
       "3         Wii Sports Resort      Wii             2009        Sports     15.61   \n",
       "4  Pokemon Red/Pokemon Blue       GB             1996  Role-Playing     11.27   \n",
       "\n",
       "   eu_sales  jp_sales  other_sales  critic_score  user_score rating  \n",
       "0     28.96      3.77         8.45          76.0         8.0      E  \n",
       "1      3.58      6.81         0.77           NaN         NaN    NaN  \n",
       "2     12.76      3.79         3.29          82.0         8.3      E  \n",
       "3     10.93      3.28         2.95          80.0         8.0      E  \n",
       "4      8.89     10.22         1.00           NaN         NaN    NaN  "
      ]
     },
     "execution_count": 16,
     "metadata": {},
     "output_type": "execute_result"
    }
   ],
   "source": [
    "data.head()"
   ]
  },
  {
   "cell_type": "markdown",
   "metadata": {},
   "source": [
    "###  Обработка пропусков"
   ]
  },
  {
   "cell_type": "markdown",
   "metadata": {},
   "source": [
    "Обработайте пропуски при необходимости: \n",
    "Объясните, почему заполнили пропуски определённым образом или почему не стали это делать;\n",
    "Опишите причины, которые могли привести к пропускам;\n"
   ]
  },
  {
   "cell_type": "code",
   "execution_count": 17,
   "metadata": {},
   "outputs": [
    {
     "name": "stdout",
     "output_type": "stream",
     "text": [
      "Null or Na count is 2\n",
      "count                           16713\n",
      "unique                          11559\n",
      "top       Need for Speed: Most Wanted\n",
      "freq                               12\n",
      "Name: name, dtype: object\n"
     ]
    }
   ],
   "source": [
    "\n",
    "print('Null or Na count is', data[\"name\"].isna().sum())\n",
    "print(data[\"name\"].describe())\n"
   ]
  },
  {
   "cell_type": "markdown",
   "metadata": {},
   "source": [
    " * Вывод\n",
    "\t- Обнаруженные аномалии:нет\n",
    "\t- Пропусков 2\n",
    " \n"
   ]
  },
  {
   "cell_type": "code",
   "execution_count": 18,
   "metadata": {},
   "outputs": [
    {
     "name": "stdout",
     "output_type": "stream",
     "text": [
      "Null or Na count is 2\n",
      "count      16713\n",
      "unique        12\n",
      "top       Action\n",
      "freq        3369\n",
      "Name: genre, dtype: object\n"
     ]
    }
   ],
   "source": [
    "print('Null or Na count is', data[\"genre\"].isna().sum())\n",
    "print(data[\"genre\"].describe())\n",
    "\n"
   ]
  },
  {
   "cell_type": "markdown",
   "metadata": {},
   "source": [
    "* Вывод\n",
    "\t- Обнаруженные аномалии:нет\n",
    "\t- Пропусков 2\n"
   ]
  },
  {
   "cell_type": "code",
   "execution_count": 19,
   "metadata": {},
   "outputs": [
    {
     "data": {
      "text/html": [
       "<div>\n",
       "<style scoped>\n",
       "    .dataframe tbody tr th:only-of-type {\n",
       "        vertical-align: middle;\n",
       "    }\n",
       "\n",
       "    .dataframe tbody tr th {\n",
       "        vertical-align: top;\n",
       "    }\n",
       "\n",
       "    .dataframe thead th {\n",
       "        text-align: right;\n",
       "    }\n",
       "</style>\n",
       "<table border=\"1\" class=\"dataframe\">\n",
       "  <thead>\n",
       "    <tr style=\"text-align: right;\">\n",
       "      <th></th>\n",
       "      <th>name</th>\n",
       "      <th>platform</th>\n",
       "      <th>year_of_release</th>\n",
       "      <th>genre</th>\n",
       "      <th>na_sales</th>\n",
       "      <th>eu_sales</th>\n",
       "      <th>jp_sales</th>\n",
       "      <th>other_sales</th>\n",
       "      <th>critic_score</th>\n",
       "      <th>user_score</th>\n",
       "      <th>rating</th>\n",
       "    </tr>\n",
       "  </thead>\n",
       "  <tbody>\n",
       "    <tr>\n",
       "      <th>0</th>\n",
       "      <td>Wii Sports</td>\n",
       "      <td>Wii</td>\n",
       "      <td>2006</td>\n",
       "      <td>Sports</td>\n",
       "      <td>41.36</td>\n",
       "      <td>28.96</td>\n",
       "      <td>3.77</td>\n",
       "      <td>8.45</td>\n",
       "      <td>76.0</td>\n",
       "      <td>8.0</td>\n",
       "      <td>E</td>\n",
       "    </tr>\n",
       "    <tr>\n",
       "      <th>1</th>\n",
       "      <td>Super Mario Bros.</td>\n",
       "      <td>NES</td>\n",
       "      <td>1985</td>\n",
       "      <td>Platform</td>\n",
       "      <td>29.08</td>\n",
       "      <td>3.58</td>\n",
       "      <td>6.81</td>\n",
       "      <td>0.77</td>\n",
       "      <td>NaN</td>\n",
       "      <td>NaN</td>\n",
       "      <td>NaN</td>\n",
       "    </tr>\n",
       "    <tr>\n",
       "      <th>2</th>\n",
       "      <td>Mario Kart Wii</td>\n",
       "      <td>Wii</td>\n",
       "      <td>2008</td>\n",
       "      <td>Racing</td>\n",
       "      <td>15.68</td>\n",
       "      <td>12.76</td>\n",
       "      <td>3.79</td>\n",
       "      <td>3.29</td>\n",
       "      <td>82.0</td>\n",
       "      <td>8.3</td>\n",
       "      <td>E</td>\n",
       "    </tr>\n",
       "    <tr>\n",
       "      <th>3</th>\n",
       "      <td>Wii Sports Resort</td>\n",
       "      <td>Wii</td>\n",
       "      <td>2009</td>\n",
       "      <td>Sports</td>\n",
       "      <td>15.61</td>\n",
       "      <td>10.93</td>\n",
       "      <td>3.28</td>\n",
       "      <td>2.95</td>\n",
       "      <td>80.0</td>\n",
       "      <td>8.0</td>\n",
       "      <td>E</td>\n",
       "    </tr>\n",
       "    <tr>\n",
       "      <th>4</th>\n",
       "      <td>Pokemon Red/Pokemon Blue</td>\n",
       "      <td>GB</td>\n",
       "      <td>1996</td>\n",
       "      <td>Role-Playing</td>\n",
       "      <td>11.27</td>\n",
       "      <td>8.89</td>\n",
       "      <td>10.22</td>\n",
       "      <td>1.00</td>\n",
       "      <td>NaN</td>\n",
       "      <td>NaN</td>\n",
       "      <td>NaN</td>\n",
       "    </tr>\n",
       "    <tr>\n",
       "      <th>...</th>\n",
       "      <td>...</td>\n",
       "      <td>...</td>\n",
       "      <td>...</td>\n",
       "      <td>...</td>\n",
       "      <td>...</td>\n",
       "      <td>...</td>\n",
       "      <td>...</td>\n",
       "      <td>...</td>\n",
       "      <td>...</td>\n",
       "      <td>...</td>\n",
       "      <td>...</td>\n",
       "    </tr>\n",
       "    <tr>\n",
       "      <th>16708</th>\n",
       "      <td>Samurai Warriors: Sanada Maru</td>\n",
       "      <td>PS3</td>\n",
       "      <td>2016</td>\n",
       "      <td>Action</td>\n",
       "      <td>0.00</td>\n",
       "      <td>0.00</td>\n",
       "      <td>0.01</td>\n",
       "      <td>0.00</td>\n",
       "      <td>NaN</td>\n",
       "      <td>NaN</td>\n",
       "      <td>NaN</td>\n",
       "    </tr>\n",
       "    <tr>\n",
       "      <th>16709</th>\n",
       "      <td>LMA Manager 2007</td>\n",
       "      <td>X360</td>\n",
       "      <td>2006</td>\n",
       "      <td>Sports</td>\n",
       "      <td>0.00</td>\n",
       "      <td>0.01</td>\n",
       "      <td>0.00</td>\n",
       "      <td>0.00</td>\n",
       "      <td>NaN</td>\n",
       "      <td>NaN</td>\n",
       "      <td>NaN</td>\n",
       "    </tr>\n",
       "    <tr>\n",
       "      <th>16710</th>\n",
       "      <td>Haitaka no Psychedelica</td>\n",
       "      <td>PSV</td>\n",
       "      <td>2016</td>\n",
       "      <td>Adventure</td>\n",
       "      <td>0.00</td>\n",
       "      <td>0.00</td>\n",
       "      <td>0.01</td>\n",
       "      <td>0.00</td>\n",
       "      <td>NaN</td>\n",
       "      <td>NaN</td>\n",
       "      <td>NaN</td>\n",
       "    </tr>\n",
       "    <tr>\n",
       "      <th>16711</th>\n",
       "      <td>Spirits &amp; Spells</td>\n",
       "      <td>GBA</td>\n",
       "      <td>2003</td>\n",
       "      <td>Platform</td>\n",
       "      <td>0.01</td>\n",
       "      <td>0.00</td>\n",
       "      <td>0.00</td>\n",
       "      <td>0.00</td>\n",
       "      <td>NaN</td>\n",
       "      <td>NaN</td>\n",
       "      <td>NaN</td>\n",
       "    </tr>\n",
       "    <tr>\n",
       "      <th>16712</th>\n",
       "      <td>Winning Post 8 2016</td>\n",
       "      <td>PSV</td>\n",
       "      <td>2016</td>\n",
       "      <td>Simulation</td>\n",
       "      <td>0.00</td>\n",
       "      <td>0.00</td>\n",
       "      <td>0.01</td>\n",
       "      <td>0.00</td>\n",
       "      <td>NaN</td>\n",
       "      <td>NaN</td>\n",
       "      <td>NaN</td>\n",
       "    </tr>\n",
       "  </tbody>\n",
       "</table>\n",
       "<p>16713 rows × 11 columns</p>\n",
       "</div>"
      ],
      "text/plain": [
       "                                name platform  year_of_release         genre  \\\n",
       "0                         Wii Sports      Wii             2006        Sports   \n",
       "1                  Super Mario Bros.      NES             1985      Platform   \n",
       "2                     Mario Kart Wii      Wii             2008        Racing   \n",
       "3                  Wii Sports Resort      Wii             2009        Sports   \n",
       "4           Pokemon Red/Pokemon Blue       GB             1996  Role-Playing   \n",
       "...                              ...      ...              ...           ...   \n",
       "16708  Samurai Warriors: Sanada Maru      PS3             2016        Action   \n",
       "16709               LMA Manager 2007     X360             2006        Sports   \n",
       "16710        Haitaka no Psychedelica      PSV             2016     Adventure   \n",
       "16711               Spirits & Spells      GBA             2003      Platform   \n",
       "16712            Winning Post 8 2016      PSV             2016    Simulation   \n",
       "\n",
       "       na_sales  eu_sales  jp_sales  other_sales  critic_score  user_score  \\\n",
       "0         41.36     28.96      3.77         8.45          76.0         8.0   \n",
       "1         29.08      3.58      6.81         0.77           NaN         NaN   \n",
       "2         15.68     12.76      3.79         3.29          82.0         8.3   \n",
       "3         15.61     10.93      3.28         2.95          80.0         8.0   \n",
       "4         11.27      8.89     10.22         1.00           NaN         NaN   \n",
       "...         ...       ...       ...          ...           ...         ...   \n",
       "16708      0.00      0.00      0.01         0.00           NaN         NaN   \n",
       "16709      0.00      0.01      0.00         0.00           NaN         NaN   \n",
       "16710      0.00      0.00      0.01         0.00           NaN         NaN   \n",
       "16711      0.01      0.00      0.00         0.00           NaN         NaN   \n",
       "16712      0.00      0.00      0.01         0.00           NaN         NaN   \n",
       "\n",
       "      rating  \n",
       "0          E  \n",
       "1        NaN  \n",
       "2          E  \n",
       "3          E  \n",
       "4        NaN  \n",
       "...      ...  \n",
       "16708    NaN  \n",
       "16709    NaN  \n",
       "16710    NaN  \n",
       "16711    NaN  \n",
       "16712    NaN  \n",
       "\n",
       "[16713 rows x 11 columns]"
      ]
     },
     "execution_count": 19,
     "metadata": {},
     "output_type": "execute_result"
    }
   ],
   "source": [
    "#удалим в строки с пропущенными занчениями, тк заменить наименование и жанр мы не сможем\n",
    "\n",
    "data = data.dropna(subset=['genre', 'name'])\n",
    "data.reset_index(drop=True)"
   ]
  },
  {
   "cell_type": "code",
   "execution_count": 20,
   "metadata": {},
   "outputs": [
    {
     "name": "stdout",
     "output_type": "stream",
     "text": [
      "Null or Na count is 8576\n",
      "count    8137.000000\n",
      "mean       68.967679\n",
      "std        13.938165\n",
      "min        13.000000\n",
      "25%        60.000000\n",
      "50%        71.000000\n",
      "75%        79.000000\n",
      "max        98.000000\n",
      "Name: critic_score, dtype: float64\n"
     ]
    }
   ],
   "source": [
    "#рассмотрим столбец Critic_Score — оценка критиков (максимум 100);\n",
    "print('Null or Na count is', data[\"critic_score\"].isna().sum())\n",
    "print(data[\"critic_score\"].describe())\n"
   ]
  },
  {
   "cell_type": "markdown",
   "metadata": {},
   "source": [
    "* Вывод\n",
    "\t- Обнаруженные аномалии:нет\n",
    "\t- Пропусков 8576"
   ]
  },
  {
   "cell_type": "code",
   "execution_count": 21,
   "metadata": {},
   "outputs": [
    {
     "name": "stdout",
     "output_type": "stream",
     "text": [
      "Null or Na count is 9123\n",
      "count    7590.000000\n",
      "mean        7.125046\n",
      "std         1.500006\n",
      "min         0.000000\n",
      "25%         6.400000\n",
      "50%         7.500000\n",
      "75%         8.200000\n",
      "max         9.700000\n",
      "Name: user_score, dtype: float64\n"
     ]
    }
   ],
   "source": [
    "#рассмотрим столбец User_Score — оценка пользователей (максимум 10);\n",
    "print('Null or Na count is', data[\"user_score\"].isna().sum())\n",
    "print(data[\"user_score\"].describe())"
   ]
  },
  {
   "cell_type": "markdown",
   "metadata": {},
   "source": [
    "* Вывод\n",
    "\t- Обнаруженные аномалии:нет\n",
    "\t- Пропусков  9123"
   ]
  },
  {
   "cell_type": "code",
   "execution_count": 22,
   "metadata": {},
   "outputs": [
    {
     "name": "stdout",
     "output_type": "stream",
     "text": [
      "Null or Na count is 6764\n",
      "count     9949\n",
      "unique       8\n",
      "top          E\n",
      "freq      3990\n",
      "Name: rating, dtype: object\n"
     ]
    }
   ],
   "source": [
    "#рассмотрим столбец Rating — рейтинг от организации ESRB (англ. Entertainment Software Rating Board).\n",
    "print('Null or Na count is', data[\"rating\"].isna().sum())\n",
    "print(data[\"rating\"].describe())"
   ]
  },
  {
   "cell_type": "markdown",
   "metadata": {},
   "source": [
    "* Вывод\n",
    "\t- Обнаруженные аномалии:нет\n",
    "\t- Пропусков  6764"
   ]
  },
  {
   "cell_type": "markdown",
   "metadata": {},
   "source": [
    "Для возможности совершения мат.операций заменила object на float64 столбец \"user_score\", сделана замена tbd на NaN.\n",
    "Заменен тип столбца Year_of_Release-на целочисленный (int).\n",
    "Замечены пропуски в столбцах: Name, Year_of_Release, Genre, Critic_Score, User_Score, Rating.\n",
    "Явных дубликатов нет.\n",
    "Удалены 2 строки с пропущенными значениями в столбцах 'genre', 'name' , тк заменить наименование и жанр мы не сможем.\n",
    "Названия столбцов приведены к нижнему регистру.\n",
    "\n"
   ]
  },
  {
   "cell_type": "markdown",
   "metadata": {},
   "source": [
    "### Посчитайте суммарные продажи во всех регионах и запишите их в отдельный столбец"
   ]
  },
  {
   "cell_type": "code",
   "execution_count": 23,
   "metadata": {
    "scrolled": true
   },
   "outputs": [
    {
     "data": {
      "text/html": [
       "<div>\n",
       "<style scoped>\n",
       "    .dataframe tbody tr th:only-of-type {\n",
       "        vertical-align: middle;\n",
       "    }\n",
       "\n",
       "    .dataframe tbody tr th {\n",
       "        vertical-align: top;\n",
       "    }\n",
       "\n",
       "    .dataframe thead th {\n",
       "        text-align: right;\n",
       "    }\n",
       "</style>\n",
       "<table border=\"1\" class=\"dataframe\">\n",
       "  <thead>\n",
       "    <tr style=\"text-align: right;\">\n",
       "      <th></th>\n",
       "      <th>name</th>\n",
       "      <th>platform</th>\n",
       "      <th>year_of_release</th>\n",
       "      <th>genre</th>\n",
       "      <th>na_sales</th>\n",
       "      <th>eu_sales</th>\n",
       "      <th>jp_sales</th>\n",
       "      <th>other_sales</th>\n",
       "      <th>critic_score</th>\n",
       "      <th>user_score</th>\n",
       "      <th>rating</th>\n",
       "      <th>sum_sales</th>\n",
       "    </tr>\n",
       "  </thead>\n",
       "  <tbody>\n",
       "    <tr>\n",
       "      <th>0</th>\n",
       "      <td>Wii Sports</td>\n",
       "      <td>Wii</td>\n",
       "      <td>2006</td>\n",
       "      <td>Sports</td>\n",
       "      <td>41.36</td>\n",
       "      <td>28.96</td>\n",
       "      <td>3.77</td>\n",
       "      <td>8.45</td>\n",
       "      <td>76.0</td>\n",
       "      <td>8.0</td>\n",
       "      <td>E</td>\n",
       "      <td>82.54</td>\n",
       "    </tr>\n",
       "    <tr>\n",
       "      <th>1</th>\n",
       "      <td>Super Mario Bros.</td>\n",
       "      <td>NES</td>\n",
       "      <td>1985</td>\n",
       "      <td>Platform</td>\n",
       "      <td>29.08</td>\n",
       "      <td>3.58</td>\n",
       "      <td>6.81</td>\n",
       "      <td>0.77</td>\n",
       "      <td>NaN</td>\n",
       "      <td>NaN</td>\n",
       "      <td>NaN</td>\n",
       "      <td>40.24</td>\n",
       "    </tr>\n",
       "    <tr>\n",
       "      <th>2</th>\n",
       "      <td>Mario Kart Wii</td>\n",
       "      <td>Wii</td>\n",
       "      <td>2008</td>\n",
       "      <td>Racing</td>\n",
       "      <td>15.68</td>\n",
       "      <td>12.76</td>\n",
       "      <td>3.79</td>\n",
       "      <td>3.29</td>\n",
       "      <td>82.0</td>\n",
       "      <td>8.3</td>\n",
       "      <td>E</td>\n",
       "      <td>35.52</td>\n",
       "    </tr>\n",
       "    <tr>\n",
       "      <th>3</th>\n",
       "      <td>Wii Sports Resort</td>\n",
       "      <td>Wii</td>\n",
       "      <td>2009</td>\n",
       "      <td>Sports</td>\n",
       "      <td>15.61</td>\n",
       "      <td>10.93</td>\n",
       "      <td>3.28</td>\n",
       "      <td>2.95</td>\n",
       "      <td>80.0</td>\n",
       "      <td>8.0</td>\n",
       "      <td>E</td>\n",
       "      <td>32.77</td>\n",
       "    </tr>\n",
       "    <tr>\n",
       "      <th>4</th>\n",
       "      <td>Pokemon Red/Pokemon Blue</td>\n",
       "      <td>GB</td>\n",
       "      <td>1996</td>\n",
       "      <td>Role-Playing</td>\n",
       "      <td>11.27</td>\n",
       "      <td>8.89</td>\n",
       "      <td>10.22</td>\n",
       "      <td>1.00</td>\n",
       "      <td>NaN</td>\n",
       "      <td>NaN</td>\n",
       "      <td>NaN</td>\n",
       "      <td>31.38</td>\n",
       "    </tr>\n",
       "  </tbody>\n",
       "</table>\n",
       "</div>"
      ],
      "text/plain": [
       "                       name platform  year_of_release         genre  na_sales  \\\n",
       "0                Wii Sports      Wii             2006        Sports     41.36   \n",
       "1         Super Mario Bros.      NES             1985      Platform     29.08   \n",
       "2            Mario Kart Wii      Wii             2008        Racing     15.68   \n",
       "3         Wii Sports Resort      Wii             2009        Sports     15.61   \n",
       "4  Pokemon Red/Pokemon Blue       GB             1996  Role-Playing     11.27   \n",
       "\n",
       "   eu_sales  jp_sales  other_sales  critic_score  user_score rating  sum_sales  \n",
       "0     28.96      3.77         8.45          76.0         8.0      E      82.54  \n",
       "1      3.58      6.81         0.77           NaN         NaN    NaN      40.24  \n",
       "2     12.76      3.79         3.29          82.0         8.3      E      35.52  \n",
       "3     10.93      3.28         2.95          80.0         8.0      E      32.77  \n",
       "4      8.89     10.22         1.00           NaN         NaN    NaN      31.38  "
      ]
     },
     "execution_count": 23,
     "metadata": {},
     "output_type": "execute_result"
    }
   ],
   "source": [
    "data['sum_sales'] = data['na_sales']+data['eu_sales']+data['jp_sales']+data['other_sales']\n",
    "data.head()"
   ]
  },
  {
   "cell_type": "markdown",
   "metadata": {},
   "source": [
    "## Исследовательский анализ данных"
   ]
  },
  {
   "cell_type": "markdown",
   "metadata": {},
   "source": [
    "### Посмотрите, сколько игр выпускалось в разные годы. Важны ли данные за все периоды?"
   ]
  },
  {
   "cell_type": "code",
   "execution_count": 24,
   "metadata": {},
   "outputs": [
    {
     "data": {
      "text/html": [
       "<div>\n",
       "<style scoped>\n",
       "    .dataframe tbody tr th:only-of-type {\n",
       "        vertical-align: middle;\n",
       "    }\n",
       "\n",
       "    .dataframe tbody tr th {\n",
       "        vertical-align: top;\n",
       "    }\n",
       "\n",
       "    .dataframe thead th {\n",
       "        text-align: right;\n",
       "    }\n",
       "</style>\n",
       "<table border=\"1\" class=\"dataframe\">\n",
       "  <thead>\n",
       "    <tr style=\"text-align: right;\">\n",
       "      <th></th>\n",
       "      <th>name</th>\n",
       "    </tr>\n",
       "    <tr>\n",
       "      <th>year_of_release</th>\n",
       "      <th></th>\n",
       "    </tr>\n",
       "  </thead>\n",
       "  <tbody>\n",
       "    <tr>\n",
       "      <th>0</th>\n",
       "      <td>269</td>\n",
       "    </tr>\n",
       "    <tr>\n",
       "      <th>1980</th>\n",
       "      <td>9</td>\n",
       "    </tr>\n",
       "    <tr>\n",
       "      <th>1981</th>\n",
       "      <td>46</td>\n",
       "    </tr>\n",
       "    <tr>\n",
       "      <th>1982</th>\n",
       "      <td>36</td>\n",
       "    </tr>\n",
       "    <tr>\n",
       "      <th>1983</th>\n",
       "      <td>17</td>\n",
       "    </tr>\n",
       "    <tr>\n",
       "      <th>1984</th>\n",
       "      <td>14</td>\n",
       "    </tr>\n",
       "    <tr>\n",
       "      <th>1985</th>\n",
       "      <td>14</td>\n",
       "    </tr>\n",
       "    <tr>\n",
       "      <th>1986</th>\n",
       "      <td>21</td>\n",
       "    </tr>\n",
       "    <tr>\n",
       "      <th>1987</th>\n",
       "      <td>16</td>\n",
       "    </tr>\n",
       "    <tr>\n",
       "      <th>1988</th>\n",
       "      <td>15</td>\n",
       "    </tr>\n",
       "    <tr>\n",
       "      <th>1989</th>\n",
       "      <td>17</td>\n",
       "    </tr>\n",
       "    <tr>\n",
       "      <th>1990</th>\n",
       "      <td>16</td>\n",
       "    </tr>\n",
       "    <tr>\n",
       "      <th>1991</th>\n",
       "      <td>41</td>\n",
       "    </tr>\n",
       "    <tr>\n",
       "      <th>1992</th>\n",
       "      <td>43</td>\n",
       "    </tr>\n",
       "    <tr>\n",
       "      <th>1993</th>\n",
       "      <td>60</td>\n",
       "    </tr>\n",
       "    <tr>\n",
       "      <th>1994</th>\n",
       "      <td>121</td>\n",
       "    </tr>\n",
       "    <tr>\n",
       "      <th>1995</th>\n",
       "      <td>219</td>\n",
       "    </tr>\n",
       "    <tr>\n",
       "      <th>1996</th>\n",
       "      <td>263</td>\n",
       "    </tr>\n",
       "    <tr>\n",
       "      <th>1997</th>\n",
       "      <td>289</td>\n",
       "    </tr>\n",
       "    <tr>\n",
       "      <th>1998</th>\n",
       "      <td>379</td>\n",
       "    </tr>\n",
       "    <tr>\n",
       "      <th>1999</th>\n",
       "      <td>338</td>\n",
       "    </tr>\n",
       "    <tr>\n",
       "      <th>2000</th>\n",
       "      <td>350</td>\n",
       "    </tr>\n",
       "    <tr>\n",
       "      <th>2001</th>\n",
       "      <td>482</td>\n",
       "    </tr>\n",
       "    <tr>\n",
       "      <th>2002</th>\n",
       "      <td>829</td>\n",
       "    </tr>\n",
       "    <tr>\n",
       "      <th>2003</th>\n",
       "      <td>775</td>\n",
       "    </tr>\n",
       "    <tr>\n",
       "      <th>2004</th>\n",
       "      <td>762</td>\n",
       "    </tr>\n",
       "    <tr>\n",
       "      <th>2005</th>\n",
       "      <td>939</td>\n",
       "    </tr>\n",
       "    <tr>\n",
       "      <th>2006</th>\n",
       "      <td>1006</td>\n",
       "    </tr>\n",
       "    <tr>\n",
       "      <th>2007</th>\n",
       "      <td>1197</td>\n",
       "    </tr>\n",
       "    <tr>\n",
       "      <th>2008</th>\n",
       "      <td>1427</td>\n",
       "    </tr>\n",
       "    <tr>\n",
       "      <th>2009</th>\n",
       "      <td>1426</td>\n",
       "    </tr>\n",
       "    <tr>\n",
       "      <th>2010</th>\n",
       "      <td>1255</td>\n",
       "    </tr>\n",
       "    <tr>\n",
       "      <th>2011</th>\n",
       "      <td>1136</td>\n",
       "    </tr>\n",
       "    <tr>\n",
       "      <th>2012</th>\n",
       "      <td>653</td>\n",
       "    </tr>\n",
       "    <tr>\n",
       "      <th>2013</th>\n",
       "      <td>544</td>\n",
       "    </tr>\n",
       "    <tr>\n",
       "      <th>2014</th>\n",
       "      <td>581</td>\n",
       "    </tr>\n",
       "    <tr>\n",
       "      <th>2015</th>\n",
       "      <td>606</td>\n",
       "    </tr>\n",
       "    <tr>\n",
       "      <th>2016</th>\n",
       "      <td>502</td>\n",
       "    </tr>\n",
       "  </tbody>\n",
       "</table>\n",
       "</div>"
      ],
      "text/plain": [
       "                 name\n",
       "year_of_release      \n",
       "0                 269\n",
       "1980                9\n",
       "1981               46\n",
       "1982               36\n",
       "1983               17\n",
       "1984               14\n",
       "1985               14\n",
       "1986               21\n",
       "1987               16\n",
       "1988               15\n",
       "1989               17\n",
       "1990               16\n",
       "1991               41\n",
       "1992               43\n",
       "1993               60\n",
       "1994              121\n",
       "1995              219\n",
       "1996              263\n",
       "1997              289\n",
       "1998              379\n",
       "1999              338\n",
       "2000              350\n",
       "2001              482\n",
       "2002              829\n",
       "2003              775\n",
       "2004              762\n",
       "2005              939\n",
       "2006             1006\n",
       "2007             1197\n",
       "2008             1427\n",
       "2009             1426\n",
       "2010             1255\n",
       "2011             1136\n",
       "2012              653\n",
       "2013              544\n",
       "2014              581\n",
       "2015              606\n",
       "2016              502"
      ]
     },
     "execution_count": 24,
     "metadata": {},
     "output_type": "execute_result"
    }
   ],
   "source": [
    "game_year = data.pivot_table(index=['year_of_release'], values='name',aggfunc='count')\n",
    "\n",
    "game_year"
   ]
  },
  {
   "cell_type": "code",
   "execution_count": 25,
   "metadata": {
    "scrolled": true
   },
   "outputs": [
    {
     "data": {
      "image/png": "[encoded data removed]",
      "text/plain": [
       "<Figure size 720x360 with 1 Axes>"
      ]
     },
     "metadata": {
      "needs_background": "light"
     },
     "output_type": "display_data"
    }
   ],
   "source": [
    "game_year.plot(grid=True, style='o-', xlim=(1980,2016), figsize=(10, 5))\n",
    "#game_year.plot(grid=True, kind='bar', style='o-', xlim=(1980,2016), figsize=(10, 5))\n",
    "\n",
    "plt.title('Распределение количества выхода игр по годам')\n",
    "plt.xlabel('Год')\n",
    "plt.ylabel('Количество игр')\n",
    "plt.show()\n",
    "\n"
   ]
  },
  {
   "cell_type": "markdown",
   "metadata": {},
   "source": [
    "C 1980-1993 годы выпускалось примерно одинаковое малое кол-во игр, рост пошел с 1993-2008г, в 2009 году количество выпущенных игр было на уровне 2008, затем резкий спад. Можно отбросить данные до 1995 года."
   ]
  },
  {
   "cell_type": "markdown",
   "metadata": {},
   "source": [
    "### Посмотрите, как менялись продажи по платформам. Выберите платформы с наибольшими суммарными продажами и постройте распределение по годам. За  какой характерный срок появляются новые и исчезают старые платформы?"
   ]
  },
  {
   "cell_type": "code",
   "execution_count": 26,
   "metadata": {},
   "outputs": [],
   "source": [
    "#Построим зависимость количество продаж на разных платформах\n",
    "sales_platform = data.pivot_table(index=['platform'], values='sum_sales',aggfunc=sum)\n"
   ]
  },
  {
   "cell_type": "code",
   "execution_count": 27,
   "metadata": {},
   "outputs": [
    {
     "data": {
      "image/png": "[encoded data removed]",
      "text/plain": [
       "<Figure size 720x360 with 1 Axes>"
      ]
     },
     "metadata": {
      "needs_background": "light"
     },
     "output_type": "display_data"
    }
   ],
   "source": [
    "sales_platform.sort_values(by='sum_sales', ascending=False).plot(grid=True, kind='bar', figsize=(10, 5));\n",
    "plt.title('Продажи игр по платформам')\n",
    "plt.xlabel('Платформа')\n",
    "plt.ylabel('Сумма продаж')\n",
    "plt.show()\n"
   ]
  },
  {
   "cell_type": "markdown",
   "metadata": {},
   "source": [
    "\n",
    "Возьмем 6 платформ, выделяющихся на общем фоне, с наибольшими суммарными продажами (PS-730.86\n",
    "DS-806.12\n",
    "Wii-907.51\n",
    "PS3-939.65\n",
    "X360-971.42\n",
    "PS2-1255.7) и постром распределение по годам."
   ]
  },
  {
   "cell_type": "code",
   "execution_count": 28,
   "metadata": {},
   "outputs": [
    {
     "data": {
      "image/png": "[encoded data removed]",
      "text/plain": [
       "<Figure size 720x360 with 1 Axes>"
      ]
     },
     "metadata": {
      "needs_background": "light"
     },
     "output_type": "display_data"
    }
   ],
   "source": [
    "top=['PS','DS', 'Wii', 'PS3', 'X360', 'PS2']\n",
    "\n",
    "top_platform_year=data.query('platform in @top').pivot_table(index = 'year_of_release',columns = 'platform', values='sum_sales', aggfunc='sum').plot(grid=True, style='o-', xlim=(1993,2017), figsize=(10, 5))\n",
    "plt.title('Продажи игр топ-6 платформ по годам')\n",
    "plt.xlabel('Год')\n",
    "plt.ylabel('Сумма продаж')\n",
    "plt.show()\n"
   ]
  },
  {
   "cell_type": "code",
   "execution_count": 29,
   "metadata": {},
   "outputs": [
    {
     "data": {
      "text/html": [
       "<div>\n",
       "<style scoped>\n",
       "    .dataframe tbody tr th:only-of-type {\n",
       "        vertical-align: middle;\n",
       "    }\n",
       "\n",
       "    .dataframe tbody tr th {\n",
       "        vertical-align: top;\n",
       "    }\n",
       "\n",
       "    .dataframe thead th {\n",
       "        text-align: right;\n",
       "    }\n",
       "</style>\n",
       "<table border=\"1\" class=\"dataframe\">\n",
       "  <thead>\n",
       "    <tr style=\"text-align: right;\">\n",
       "      <th>platform</th>\n",
       "      <th>DS</th>\n",
       "      <th>PS</th>\n",
       "      <th>PS2</th>\n",
       "      <th>PS3</th>\n",
       "      <th>Wii</th>\n",
       "      <th>X360</th>\n",
       "    </tr>\n",
       "    <tr>\n",
       "      <th>year_of_release</th>\n",
       "      <th></th>\n",
       "      <th></th>\n",
       "      <th></th>\n",
       "      <th></th>\n",
       "      <th></th>\n",
       "      <th></th>\n",
       "    </tr>\n",
       "  </thead>\n",
       "  <tbody>\n",
       "    <tr>\n",
       "      <th>0</th>\n",
       "      <td>3.34</td>\n",
       "      <td>3.28</td>\n",
       "      <td>22.21</td>\n",
       "      <td>8.31</td>\n",
       "      <td>16.33</td>\n",
       "      <td>10.18</td>\n",
       "    </tr>\n",
       "    <tr>\n",
       "      <th>1985</th>\n",
       "      <td>0.02</td>\n",
       "      <td>NaN</td>\n",
       "      <td>NaN</td>\n",
       "      <td>NaN</td>\n",
       "      <td>NaN</td>\n",
       "      <td>NaN</td>\n",
       "    </tr>\n",
       "    <tr>\n",
       "      <th>1994</th>\n",
       "      <td>NaN</td>\n",
       "      <td>6.03</td>\n",
       "      <td>NaN</td>\n",
       "      <td>NaN</td>\n",
       "      <td>NaN</td>\n",
       "      <td>NaN</td>\n",
       "    </tr>\n",
       "    <tr>\n",
       "      <th>1995</th>\n",
       "      <td>NaN</td>\n",
       "      <td>35.96</td>\n",
       "      <td>NaN</td>\n",
       "      <td>NaN</td>\n",
       "      <td>NaN</td>\n",
       "      <td>NaN</td>\n",
       "    </tr>\n",
       "    <tr>\n",
       "      <th>1996</th>\n",
       "      <td>NaN</td>\n",
       "      <td>94.70</td>\n",
       "      <td>NaN</td>\n",
       "      <td>NaN</td>\n",
       "      <td>NaN</td>\n",
       "      <td>NaN</td>\n",
       "    </tr>\n",
       "    <tr>\n",
       "      <th>1997</th>\n",
       "      <td>NaN</td>\n",
       "      <td>136.17</td>\n",
       "      <td>NaN</td>\n",
       "      <td>NaN</td>\n",
       "      <td>NaN</td>\n",
       "      <td>NaN</td>\n",
       "    </tr>\n",
       "    <tr>\n",
       "      <th>1998</th>\n",
       "      <td>NaN</td>\n",
       "      <td>169.49</td>\n",
       "      <td>NaN</td>\n",
       "      <td>NaN</td>\n",
       "      <td>NaN</td>\n",
       "      <td>NaN</td>\n",
       "    </tr>\n",
       "    <tr>\n",
       "      <th>1999</th>\n",
       "      <td>NaN</td>\n",
       "      <td>144.53</td>\n",
       "      <td>NaN</td>\n",
       "      <td>NaN</td>\n",
       "      <td>NaN</td>\n",
       "      <td>NaN</td>\n",
       "    </tr>\n",
       "    <tr>\n",
       "      <th>2000</th>\n",
       "      <td>NaN</td>\n",
       "      <td>96.37</td>\n",
       "      <td>39.17</td>\n",
       "      <td>NaN</td>\n",
       "      <td>NaN</td>\n",
       "      <td>NaN</td>\n",
       "    </tr>\n",
       "    <tr>\n",
       "      <th>2001</th>\n",
       "      <td>NaN</td>\n",
       "      <td>35.59</td>\n",
       "      <td>166.43</td>\n",
       "      <td>NaN</td>\n",
       "      <td>NaN</td>\n",
       "      <td>NaN</td>\n",
       "    </tr>\n",
       "    <tr>\n",
       "      <th>2002</th>\n",
       "      <td>NaN</td>\n",
       "      <td>6.67</td>\n",
       "      <td>205.38</td>\n",
       "      <td>NaN</td>\n",
       "      <td>NaN</td>\n",
       "      <td>NaN</td>\n",
       "    </tr>\n",
       "    <tr>\n",
       "      <th>2003</th>\n",
       "      <td>NaN</td>\n",
       "      <td>2.07</td>\n",
       "      <td>184.31</td>\n",
       "      <td>NaN</td>\n",
       "      <td>NaN</td>\n",
       "      <td>NaN</td>\n",
       "    </tr>\n",
       "    <tr>\n",
       "      <th>2004</th>\n",
       "      <td>17.27</td>\n",
       "      <td>NaN</td>\n",
       "      <td>211.81</td>\n",
       "      <td>NaN</td>\n",
       "      <td>NaN</td>\n",
       "      <td>NaN</td>\n",
       "    </tr>\n",
       "    <tr>\n",
       "      <th>2005</th>\n",
       "      <td>130.14</td>\n",
       "      <td>NaN</td>\n",
       "      <td>160.66</td>\n",
       "      <td>NaN</td>\n",
       "      <td>NaN</td>\n",
       "      <td>8.25</td>\n",
       "    </tr>\n",
       "    <tr>\n",
       "      <th>2006</th>\n",
       "      <td>119.81</td>\n",
       "      <td>NaN</td>\n",
       "      <td>103.42</td>\n",
       "      <td>20.96</td>\n",
       "      <td>137.15</td>\n",
       "      <td>51.62</td>\n",
       "    </tr>\n",
       "    <tr>\n",
       "      <th>2007</th>\n",
       "      <td>146.94</td>\n",
       "      <td>NaN</td>\n",
       "      <td>75.99</td>\n",
       "      <td>73.19</td>\n",
       "      <td>152.77</td>\n",
       "      <td>95.41</td>\n",
       "    </tr>\n",
       "    <tr>\n",
       "      <th>2008</th>\n",
       "      <td>145.31</td>\n",
       "      <td>NaN</td>\n",
       "      <td>53.90</td>\n",
       "      <td>118.52</td>\n",
       "      <td>171.32</td>\n",
       "      <td>135.26</td>\n",
       "    </tr>\n",
       "    <tr>\n",
       "      <th>2009</th>\n",
       "      <td>119.54</td>\n",
       "      <td>NaN</td>\n",
       "      <td>26.40</td>\n",
       "      <td>130.93</td>\n",
       "      <td>206.97</td>\n",
       "      <td>120.29</td>\n",
       "    </tr>\n",
       "    <tr>\n",
       "      <th>2010</th>\n",
       "      <td>85.02</td>\n",
       "      <td>NaN</td>\n",
       "      <td>5.64</td>\n",
       "      <td>142.17</td>\n",
       "      <td>127.95</td>\n",
       "      <td>170.03</td>\n",
       "    </tr>\n",
       "    <tr>\n",
       "      <th>2011</th>\n",
       "      <td>26.18</td>\n",
       "      <td>NaN</td>\n",
       "      <td>0.45</td>\n",
       "      <td>156.78</td>\n",
       "      <td>59.65</td>\n",
       "      <td>143.84</td>\n",
       "    </tr>\n",
       "    <tr>\n",
       "      <th>2012</th>\n",
       "      <td>11.01</td>\n",
       "      <td>NaN</td>\n",
       "      <td>NaN</td>\n",
       "      <td>107.36</td>\n",
       "      <td>21.71</td>\n",
       "      <td>99.74</td>\n",
       "    </tr>\n",
       "    <tr>\n",
       "      <th>2013</th>\n",
       "      <td>1.54</td>\n",
       "      <td>NaN</td>\n",
       "      <td>NaN</td>\n",
       "      <td>113.25</td>\n",
       "      <td>8.59</td>\n",
       "      <td>88.58</td>\n",
       "    </tr>\n",
       "    <tr>\n",
       "      <th>2014</th>\n",
       "      <td>NaN</td>\n",
       "      <td>NaN</td>\n",
       "      <td>NaN</td>\n",
       "      <td>47.76</td>\n",
       "      <td>3.75</td>\n",
       "      <td>34.74</td>\n",
       "    </tr>\n",
       "    <tr>\n",
       "      <th>2015</th>\n",
       "      <td>NaN</td>\n",
       "      <td>NaN</td>\n",
       "      <td>NaN</td>\n",
       "      <td>16.82</td>\n",
       "      <td>1.14</td>\n",
       "      <td>11.96</td>\n",
       "    </tr>\n",
       "    <tr>\n",
       "      <th>2016</th>\n",
       "      <td>NaN</td>\n",
       "      <td>NaN</td>\n",
       "      <td>NaN</td>\n",
       "      <td>3.60</td>\n",
       "      <td>0.18</td>\n",
       "      <td>1.52</td>\n",
       "    </tr>\n",
       "  </tbody>\n",
       "</table>\n",
       "</div>"
      ],
      "text/plain": [
       "platform             DS      PS     PS2     PS3     Wii    X360\n",
       "year_of_release                                                \n",
       "0                  3.34    3.28   22.21    8.31   16.33   10.18\n",
       "1985               0.02     NaN     NaN     NaN     NaN     NaN\n",
       "1994                NaN    6.03     NaN     NaN     NaN     NaN\n",
       "1995                NaN   35.96     NaN     NaN     NaN     NaN\n",
       "1996                NaN   94.70     NaN     NaN     NaN     NaN\n",
       "1997                NaN  136.17     NaN     NaN     NaN     NaN\n",
       "1998                NaN  169.49     NaN     NaN     NaN     NaN\n",
       "1999                NaN  144.53     NaN     NaN     NaN     NaN\n",
       "2000                NaN   96.37   39.17     NaN     NaN     NaN\n",
       "2001                NaN   35.59  166.43     NaN     NaN     NaN\n",
       "2002                NaN    6.67  205.38     NaN     NaN     NaN\n",
       "2003                NaN    2.07  184.31     NaN     NaN     NaN\n",
       "2004              17.27     NaN  211.81     NaN     NaN     NaN\n",
       "2005             130.14     NaN  160.66     NaN     NaN    8.25\n",
       "2006             119.81     NaN  103.42   20.96  137.15   51.62\n",
       "2007             146.94     NaN   75.99   73.19  152.77   95.41\n",
       "2008             145.31     NaN   53.90  118.52  171.32  135.26\n",
       "2009             119.54     NaN   26.40  130.93  206.97  120.29\n",
       "2010              85.02     NaN    5.64  142.17  127.95  170.03\n",
       "2011              26.18     NaN    0.45  156.78   59.65  143.84\n",
       "2012              11.01     NaN     NaN  107.36   21.71   99.74\n",
       "2013               1.54     NaN     NaN  113.25    8.59   88.58\n",
       "2014                NaN     NaN     NaN   47.76    3.75   34.74\n",
       "2015                NaN     NaN     NaN   16.82    1.14   11.96\n",
       "2016                NaN     NaN     NaN    3.60    0.18    1.52"
      ]
     },
     "execution_count": 29,
     "metadata": {},
     "output_type": "execute_result"
    }
   ],
   "source": [
    "top_platform_year=data.query('platform in @top').pivot_table(index = 'year_of_release',columns = 'platform', values='sum_sales', aggfunc='sum')\n",
    "top_platform_year"
   ]
  },
  {
   "cell_type": "markdown",
   "metadata": {},
   "source": [
    "Вывод: \n",
    "За какой характерный срок появляются новые и исчезают старые платформы?\n",
    "Срок жизни платформы: PS-9 лет,DS-9 лет, Wii-10 лет, PS3-10 лет,X360-11 лет, PS2-11 лет. Средний срок -10 лет.\n",
    "В среднем пика продаж достигается за 4 года (PS-4 лет,DS-3 лет, Wii-3 лет, PS3-5 лет,X360-5 лет, PS2-4 лет), затем идет спад.\n",
    "Интересно, что у платформ X360, PS2,DS-по 2 пика."
   ]
  },
  {
   "cell_type": "markdown",
   "metadata": {},
   "source": [
    "### Возьмите данные за соответствующий актуальный период. Актуальный период определите самостоятельно в результате исследования предыдущих вопросов. Основной фактор — эти данные помогут построить прогноз на 2017 год."
   ]
  },
  {
   "cell_type": "markdown",
   "metadata": {},
   "source": [
    "Для прогнозирования продаж на 2017г возьмем данные после 2014 года (последнюю тенденцию по графику \"Распределение количества выхода игр по годам\"). "
   ]
  },
  {
   "cell_type": "markdown",
   "metadata": {},
   "source": [
    "###  Какие платформы лидируют по продажам, растут или падают?  Выберите несколько потенциально прибыльных платформ"
   ]
  },
  {
   "cell_type": "markdown",
   "metadata": {},
   "source": [
    "лидеры продаж: PS-730.86 DS-806.12 Wii-907.51 PS3-939.65 X360-971.42 PS2-1255.7. Но у всех идет спад продаж. Возьмем топ 10 лидеров продаж и посмотрим в какой фазе роста/падения находятся они. "
   ]
  },
  {
   "cell_type": "code",
   "execution_count": 30,
   "metadata": {},
   "outputs": [
    {
     "data": {
      "image/png": "[encoded data removed]",
      "text/plain": [
       "<Figure size 720x360 with 1 Axes>"
      ]
     },
     "metadata": {
      "needs_background": "light"
     },
     "output_type": "display_data"
    }
   ],
   "source": [
    "correct_data=data.query('year_of_release>=2014')\n",
    "top10=['PC','PSP', 'PS4', 'GBA','PS','DS', 'Wii', 'PS3', 'X360', 'PS2']\n",
    "\n",
    "top_platform_year=correct_data.query('platform in @top10').pivot_table(index = 'year_of_release',columns = 'platform', values='sum_sales', aggfunc='sum').plot(grid=True, style='o-', xlim=(2014,2016), figsize=(10, 5))\n",
    "\n",
    "plt.title('Продажи игр топ-10 платформ по годам')\n",
    "plt.xlabel('Год')\n",
    "plt.ylabel('Сумма продаж')\n",
    "plt.show()\n"
   ]
  },
  {
   "cell_type": "markdown",
   "metadata": {},
   "source": [
    "PS4 находится в активной фазе развития"
   ]
  },
  {
   "cell_type": "markdown",
   "metadata": {},
   "source": [
    "### Постройте график «ящик с усами» по глобальным продажам игр в разбивке по платформам. Опишите результат."
   ]
  },
  {
   "cell_type": "code",
   "execution_count": 31,
   "metadata": {},
   "outputs": [
    {
     "data": {
      "image/png": "[encoded data removed]",
      "text/plain": [
       "<Figure size 432x288 with 1 Axes>"
      ]
     },
     "metadata": {
      "needs_background": "light"
     },
     "output_type": "display_data"
    }
   ],
   "source": [
    "correct_data.query('platform in @top10').boxplot(column='sum_sales', by='platform',)\n",
    "#plt.show()\n",
    "plt.ylim(0,0.8);"
   ]
  },
  {
   "cell_type": "markdown",
   "metadata": {},
   "source": [
    "Лидеры по максимальному значению продаж Wii,PS4,X360, по медианному  PS4, Wii,X360.\n"
   ]
  },
  {
   "cell_type": "markdown",
   "metadata": {},
   "source": [
    "### Постройте диаграмму рассеяния и посчитайте корреляцию между отзывами и продажами.  Сформулируйте выводы."
   ]
  },
  {
   "cell_type": "code",
   "execution_count": 32,
   "metadata": {
    "scrolled": true
   },
   "outputs": [
    {
     "data": {
      "image/png": "[encoded data removed]",
      "text/plain": [
       "<Figure size 432x288 with 1 Axes>"
      ]
     },
     "metadata": {
      "needs_background": "light"
     },
     "output_type": "display_data"
    }
   ],
   "source": [
    "#Посмотрите, как влияют на продажи внутри одной популярной платформы отзывы пользователей и критиков. Постройте диаграмму рассеяния и посчитайте корреляцию между отзывами и продажами. Сформулируйте выводы.\n",
    "data_ps4=correct_data.query('platform ==\"PS4\"')\n",
    "\n",
    "import seaborn\n",
    "x_coordinates = data_ps4['user_score']\n",
    "\n",
    "\n",
    "y_coordinates = data_ps4['sum_sales']\n",
    "\n",
    "seaborn.scatterplot(x=x_coordinates, y=y_coordinates);\n",
    "plt.title('Влияние на продажи на платформе PS4 отзывов пользователей');\n",
    "\n",
    "\n"
   ]
  },
  {
   "cell_type": "code",
   "execution_count": 33,
   "metadata": {},
   "outputs": [
    {
     "data": {
      "image/png": "[encoded data removed]",
      "text/plain": [
       "<Figure size 432x288 with 1 Axes>"
      ]
     },
     "metadata": {
      "needs_background": "light"
     },
     "output_type": "display_data"
    }
   ],
   "source": [
    "x_coordinates = data_ps4['critic_score']\n",
    "\n",
    "y_coordinates = data_ps4['sum_sales']\n",
    "\n",
    "seaborn.scatterplot(x=x_coordinates, y=y_coordinates)\n",
    "plt.title('Влияние на продажи на платформе PS4 отзывов критиков');"
   ]
  },
  {
   "cell_type": "code",
   "execution_count": 34,
   "metadata": {},
   "outputs": [
    {
     "data": {
      "text/plain": [
       "-0.040131589472697356"
      ]
     },
     "execution_count": 34,
     "metadata": {},
     "output_type": "execute_result"
    }
   ],
   "source": [
    "#посчитаем корреляцию\n",
    "data_ps4['sum_sales'].corr(data_ps4['user_score'])\n"
   ]
  },
  {
   "cell_type": "code",
   "execution_count": 35,
   "metadata": {},
   "outputs": [
    {
     "data": {
      "text/plain": [
       "0.40266141068104083"
      ]
     },
     "execution_count": 35,
     "metadata": {},
     "output_type": "execute_result"
    }
   ],
   "source": [
    "data_ps4['sum_sales'].corr(data_ps4['critic_score'])"
   ]
  },
  {
   "cell_type": "markdown",
   "metadata": {},
   "source": [
    "Продажи внутри одной популярной платформы PS4 не зависят от оценок пользователей, есть небольшая зависимость от оценки критиков."
   ]
  },
  {
   "cell_type": "markdown",
   "metadata": {},
   "source": [
    "Посмотрим на зависимость продаж от оценок на других платформах:"
   ]
  },
  {
   "cell_type": "code",
   "execution_count": 36,
   "metadata": {},
   "outputs": [
    {
     "data": {
      "image/png": "[encoded data removed]",
      "text/plain": [
       "<Figure size 432x288 with 1 Axes>"
      ]
     },
     "metadata": {
      "needs_background": "light"
     },
     "output_type": "display_data"
    }
   ],
   "source": [
    "data_ps3=correct_data.query('platform ==\"PS3\"')\n",
    "\n",
    "x_coordinates = data_ps3['user_score']\n",
    "\n",
    "y_coordinates = data_ps3['sum_sales']\n",
    "\n",
    "seaborn.scatterplot(x=x_coordinates, y=y_coordinates);\n",
    "plt.title('Влияние на продажи на платформе PS3 отзывов пользователей');\n"
   ]
  },
  {
   "cell_type": "code",
   "execution_count": 37,
   "metadata": {},
   "outputs": [
    {
     "data": {
      "image/png": "[encoded data removed]",
      "text/plain": [
       "<Figure size 432x288 with 1 Axes>"
      ]
     },
     "metadata": {
      "needs_background": "light"
     },
     "output_type": "display_data"
    }
   ],
   "source": [
    "x_coordinates = data_ps3['critic_score']\n",
    "\n",
    "y_coordinates = data_ps3['sum_sales']\n",
    "\n",
    "seaborn.scatterplot(x=x_coordinates, y=y_coordinates)\n",
    "plt.title('Влияние на продажи на платформе PS3 отзывов критиков');"
   ]
  },
  {
   "cell_type": "code",
   "execution_count": 38,
   "metadata": {},
   "outputs": [
    {
     "data": {
      "text/plain": [
       "-0.16676141347662116"
      ]
     },
     "execution_count": 38,
     "metadata": {},
     "output_type": "execute_result"
    }
   ],
   "source": [
    "#посчитаем корреляцию\n",
    "data_ps3['sum_sales'].corr(data_ps3['user_score'])\n"
   ]
  },
  {
   "cell_type": "code",
   "execution_count": 39,
   "metadata": {},
   "outputs": [
    {
     "data": {
      "text/plain": [
       "0.44657460493190704"
      ]
     },
     "execution_count": 39,
     "metadata": {},
     "output_type": "execute_result"
    }
   ],
   "source": [
    "data_ps3['sum_sales'].corr(data_ps3['critic_score'])"
   ]
  },
  {
   "cell_type": "code",
   "execution_count": 40,
   "metadata": {},
   "outputs": [
    {
     "data": {
      "image/png": "[encoded data removed]",
      "text/plain": [
       "<Figure size 432x288 with 1 Axes>"
      ]
     },
     "metadata": {
      "needs_background": "light"
     },
     "output_type": "display_data"
    }
   ],
   "source": [
    "data_x360=correct_data.query('platform ==\"X360\"')\n",
    "\n",
    "x_coordinates = data_x360['user_score']\n",
    "\n",
    "y_coordinates = data_x360['sum_sales']\n",
    "\n",
    "seaborn.scatterplot(x=x_coordinates, y=y_coordinates);\n",
    "plt.title('Влияние на продажи на платформе x360 отзывов пользователей');\n"
   ]
  },
  {
   "cell_type": "code",
   "execution_count": 41,
   "metadata": {},
   "outputs": [
    {
     "data": {
      "image/png": "[encoded data removed]",
      "text/plain": [
       "<Figure size 432x288 with 1 Axes>"
      ]
     },
     "metadata": {
      "needs_background": "light"
     },
     "output_type": "display_data"
    }
   ],
   "source": [
    "x_coordinates = data_x360['critic_score']\n",
    "\n",
    "y_coordinates = data_x360['sum_sales']\n",
    "\n",
    "seaborn.scatterplot(x=x_coordinates, y=y_coordinates)\n",
    "plt.title('Влияние на продажи на платформе x360 отзывов критиков');"
   ]
  },
  {
   "cell_type": "code",
   "execution_count": 42,
   "metadata": {},
   "outputs": [
    {
     "data": {
      "text/plain": [
       "-0.138444570945665"
      ]
     },
     "execution_count": 42,
     "metadata": {},
     "output_type": "execute_result"
    }
   ],
   "source": [
    "#посчитаем корреляцию\n",
    "data_x360['sum_sales'].corr(data_x360['user_score'])\n"
   ]
  },
  {
   "cell_type": "code",
   "execution_count": 43,
   "metadata": {},
   "outputs": [
    {
     "data": {
      "text/plain": [
       "0.5257228356581523"
      ]
     },
     "execution_count": 43,
     "metadata": {},
     "output_type": "execute_result"
    }
   ],
   "source": [
    "data_x360['sum_sales'].corr(data_x360['critic_score'])"
   ]
  },
  {
   "cell_type": "markdown",
   "metadata": {},
   "source": [
    "### Соотнесите выводы с продажами игр на других платформах."
   ]
  },
  {
   "cell_type": "markdown",
   "metadata": {},
   "source": [
    "Продажи внутри других платформы, как и у PS4 не зависят от оценок пользователей, есть небольшая зависимость от оценки критиков."
   ]
  },
  {
   "cell_type": "markdown",
   "metadata": {},
   "source": [
    "### Посмотрите на общее распределение игр по жанрам. Что можно сказать о самых прибыльных жанрах? Выделяются ли жанры с высокими и низкими продажами?"
   ]
  },
  {
   "cell_type": "code",
   "execution_count": 44,
   "metadata": {
    "scrolled": true
   },
   "outputs": [
    {
     "data": {
      "image/png": "[encoded data removed]",
      "text/plain": [
       "<Figure size 360x360 with 1 Axes>"
      ]
     },
     "metadata": {
      "needs_background": "light"
     },
     "output_type": "display_data"
    }
   ],
   "source": [
    "#общее распределение игр по жанрам\n",
    "#correct_data['genre'].value_counts().plot(kind='pie', figsize=(5, 5),autopct='%.0f%%',explode=explode)\n",
    "#explode = (0.05, 0.05, 0.05, 0.05,0.05,0.05 ,0.05 ,0.05 ,0.05 ,0.05)\n",
    "correct_data['genre'].value_counts().plot(kind='bar', figsize=(5, 5))\n",
    "plt.title('Распределение игр по жанрам');"
   ]
  },
  {
   "cell_type": "code",
   "execution_count": 45,
   "metadata": {
    "scrolled": true
   },
   "outputs": [
    {
     "data": {
      "text/plain": [
       "Action          619\n",
       "Role-Playing    221\n",
       "Adventure       185\n",
       "Sports          161\n",
       "Shooter         128\n",
       "Misc            113\n",
       "Racing           69\n",
       "Fighting         60\n",
       "Simulation       44\n",
       "Platform         38\n",
       "Strategy         37\n",
       "Puzzle           14\n",
       "Name: genre, dtype: int64"
      ]
     },
     "execution_count": 45,
     "metadata": {},
     "output_type": "execute_result"
    }
   ],
   "source": [
    "correct_data['genre'].value_counts()"
   ]
  },
  {
   "cell_type": "markdown",
   "metadata": {},
   "source": [
    "Лидирует Action (37%),на втором месте Role-Playing(13%),на третьем-Adventure(11%).\n"
   ]
  },
  {
   "cell_type": "code",
   "execution_count": 46,
   "metadata": {
    "scrolled": false
   },
   "outputs": [
    {
     "data": {
      "text/html": [
       "<div>\n",
       "<style scoped>\n",
       "    .dataframe tbody tr th:only-of-type {\n",
       "        vertical-align: middle;\n",
       "    }\n",
       "\n",
       "    .dataframe tbody tr th {\n",
       "        vertical-align: top;\n",
       "    }\n",
       "\n",
       "    .dataframe thead th {\n",
       "        text-align: right;\n",
       "    }\n",
       "</style>\n",
       "<table border=\"1\" class=\"dataframe\">\n",
       "  <thead>\n",
       "    <tr style=\"text-align: right;\">\n",
       "      <th></th>\n",
       "      <th>sum_sales</th>\n",
       "    </tr>\n",
       "    <tr>\n",
       "      <th>genre</th>\n",
       "      <th></th>\n",
       "    </tr>\n",
       "  </thead>\n",
       "  <tbody>\n",
       "    <tr>\n",
       "      <th>Action</th>\n",
       "      <td>199.36</td>\n",
       "    </tr>\n",
       "    <tr>\n",
       "      <th>Shooter</th>\n",
       "      <td>170.94</td>\n",
       "    </tr>\n",
       "    <tr>\n",
       "      <th>Sports</th>\n",
       "      <td>109.48</td>\n",
       "    </tr>\n",
       "    <tr>\n",
       "      <th>Role-Playing</th>\n",
       "      <td>101.44</td>\n",
       "    </tr>\n",
       "    <tr>\n",
       "      <th>Misc</th>\n",
       "      <td>37.55</td>\n",
       "    </tr>\n",
       "    <tr>\n",
       "      <th>Fighting</th>\n",
       "      <td>28.22</td>\n",
       "    </tr>\n",
       "    <tr>\n",
       "      <th>Racing</th>\n",
       "      <td>27.52</td>\n",
       "    </tr>\n",
       "    <tr>\n",
       "      <th>Platform</th>\n",
       "      <td>18.09</td>\n",
       "    </tr>\n",
       "    <tr>\n",
       "      <th>Adventure</th>\n",
       "      <td>17.55</td>\n",
       "    </tr>\n",
       "    <tr>\n",
       "      <th>Simulation</th>\n",
       "      <td>13.13</td>\n",
       "    </tr>\n",
       "    <tr>\n",
       "      <th>Strategy</th>\n",
       "      <td>3.96</td>\n",
       "    </tr>\n",
       "    <tr>\n",
       "      <th>Puzzle</th>\n",
       "      <td>2.21</td>\n",
       "    </tr>\n",
       "  </tbody>\n",
       "</table>\n",
       "</div>"
      ],
      "text/plain": [
       "              sum_sales\n",
       "genre                  \n",
       "Action           199.36\n",
       "Shooter          170.94\n",
       "Sports           109.48\n",
       "Role-Playing     101.44\n",
       "Misc              37.55\n",
       "Fighting          28.22\n",
       "Racing            27.52\n",
       "Platform          18.09\n",
       "Adventure         17.55\n",
       "Simulation        13.13\n",
       "Strategy           3.96\n",
       "Puzzle             2.21"
      ]
     },
     "execution_count": 46,
     "metadata": {},
     "output_type": "execute_result"
    }
   ],
   "source": [
    "#Посмотрим самые прибыльные жанры\n",
    "sale_genre = correct_data.pivot_table(index='genre', values='sum_sales', aggfunc='sum')\n",
    "sale_genre.sort_values('sum_sales', ascending=False)\n"
   ]
  },
  {
   "cell_type": "markdown",
   "metadata": {},
   "source": [
    "По продажам лидируют Action, Shooter, Sports, самые маленькие продажи у жанра Puzzle."
   ]
  },
  {
   "cell_type": "code",
   "execution_count": 66,
   "metadata": {},
   "outputs": [
    {
     "data": {
      "image/png": "[encoded data removed]",
      "text/plain": [
       "<Figure size 1440x720 with 1 Axes>"
      ]
     },
     "metadata": {
      "needs_background": "light"
     },
     "output_type": "display_data"
    }
   ],
   "source": [
    "plt.figure(figsize=(20, 10))\n",
    "sns.boxplot(x='genre', y='sum_sales', data=correct_data)\n",
    "plt.ylim(0,2);\n",
    "\n"
   ]
  },
  {
   "cell_type": "markdown",
   "metadata": {},
   "source": [
    "Лидирует Shooter по максимальным и средним продажам."
   ]
  },
  {
   "cell_type": "markdown",
   "metadata": {},
   "source": [
    "## Составьте портрет пользователя каждого региона"
   ]
  },
  {
   "cell_type": "markdown",
   "metadata": {},
   "source": [
    "### Составьте портрет пользователя каждого региона Определите для пользователя каждого региона (NA, EU, JP)"
   ]
  },
  {
   "cell_type": "markdown",
   "metadata": {},
   "source": [
    "#Определите для пользователя каждого региона (NA, EU, JP):\n",
    "Самые популярные платформы (топ-5). Опишите различия в долях продаж.\n",
    "Самые популярные жанры (топ-5). Поясните разницу.\n",
    "Влияет ли рейтинг ESRB на продажи в отдельном регионе?"
   ]
  },
  {
   "cell_type": "code",
   "execution_count": 48,
   "metadata": {},
   "outputs": [
    {
     "data": {
      "image/png": "[encoded data removed]",
      "text/plain": [
       "<Figure size 360x360 with 1 Axes>"
      ]
     },
     "metadata": {
      "needs_background": "light"
     },
     "output_type": "display_data"
    },
    {
     "data": {
      "image/png": "[encoded data removed]",
      "text/plain": [
       "<Figure size 360x360 with 1 Axes>"
      ]
     },
     "metadata": {
      "needs_background": "light"
     },
     "output_type": "display_data"
    },
    {
     "data": {
      "image/png": "[encoded data removed]",
      "text/plain": [
       "<Figure size 360x360 with 1 Axes>"
      ]
     },
     "metadata": {
      "needs_background": "light"
     },
     "output_type": "display_data"
    }
   ],
   "source": [
    "\n",
    "sales_region = correct_data.pivot_table(index='platform', aggfunc={'na_sales':sum, 'eu_sales':sum, 'jp_sales':sum})\n",
    "#explode = (0.05, 0.05, 0.05, 0.05,0.05,0.05 ,0.05 ,0.05 ,0.05 ,0.05)\n",
    "#sales_region.plot(y='na_sales',kind='pie',figsize=(5, 5),autopct='%.0f%%',explode=explode)\n",
    "#sales_region.plot(y='jp_sales',kind='pie',figsize=(5, 5),autopct='%.0f%%',explode=explode)\n",
    "#sales_region.plot(y='eu_sales',kind='pie',figsize=(5, 5),autopct='%.0f%%',explode=explode);\n",
    "\n",
    "sales_region.sort_values('na_sales', ascending=False).plot(y='na_sales',kind='bar',figsize=(5, 5))\n",
    "sales_region.sort_values('eu_sales', ascending=False).plot(y='eu_sales',kind='bar',figsize=(5, 5))\n",
    "sales_region.sort_values('jp_sales', ascending=False).plot(y='jp_sales',kind='bar',figsize=(5, 5));\n"
   ]
  },
  {
   "cell_type": "code",
   "execution_count": 49,
   "metadata": {},
   "outputs": [],
   "source": [
    "#топ-5 платформ для разных регионов:\n",
    "top_na=['PS4','XOne', 'X360', '3DS', 'PS3']\n",
    "top_jp=['3DS', 'PS4', 'PSV', 'PS3', 'WiiU']\n",
    "top_eu=['PS4', 'XOne', 'PS3', 'PC', '3DS']\n"
   ]
  },
  {
   "cell_type": "markdown",
   "metadata": {},
   "source": [
    "В Америке лидирует платформа PS4, в Японии -3DS, в Европе-PS4.\n"
   ]
  },
  {
   "cell_type": "code",
   "execution_count": 50,
   "metadata": {},
   "outputs": [
    {
     "data": {
      "image/png": "[encoded data removed]",
      "text/plain": [
       "<Figure size 360x360 with 1 Axes>"
      ]
     },
     "metadata": {
      "needs_background": "light"
     },
     "output_type": "display_data"
    },
    {
     "data": {
      "image/png": "[encoded data removed]",
      "text/plain": [
       "<Figure size 360x360 with 1 Axes>"
      ]
     },
     "metadata": {
      "needs_background": "light"
     },
     "output_type": "display_data"
    },
    {
     "data": {
      "image/png": "[encoded data removed]",
      "text/plain": [
       "<Figure size 360x360 with 1 Axes>"
      ]
     },
     "metadata": {
      "needs_background": "light"
     },
     "output_type": "display_data"
    }
   ],
   "source": [
    "# распределение игр по жанрам в регионах\n",
    "genre_region = correct_data.pivot_table(index='genre', aggfunc={'na_sales':sum, 'eu_sales':sum, 'jp_sales':sum})\n",
    "#genre_region.plot(y='na_sales',kind='pie',figsize=(8, 8),autopct='%.0f%%')\n",
    "#genre_region.plot(y='jp_sales',kind='pie',figsize=(8, 8),autopct='%.0f%%')\n",
    "#genre_region.plot(y='eu_sales',kind='pie',figsize=(8, 8),autopct='%.0f%%');\n",
    "\n",
    "genre_region.sort_values('na_sales', ascending=False).plot(y='na_sales',kind='bar',figsize=(5, 5))\n",
    "genre_region.sort_values('jp_sales', ascending=False).plot(y='jp_sales',kind='bar',figsize=(5, 5))\n",
    "genre_region.sort_values('eu_sales', ascending=False).plot(y='eu_sales',kind='bar',figsize=(5, 5));"
   ]
  },
  {
   "cell_type": "code",
   "execution_count": 51,
   "metadata": {},
   "outputs": [],
   "source": [
    "#топ-5 жанров для разных регионов:\n",
    "top_na=['Shooter','Action','Sports', 'Role-Playing''Misc']\n",
    "top_jp=['Role-Playing', 'Action', 'Fighting', 'Misc', 'Shooter']\n",
    "top_eu=['Action', 'Shooter', 'Sports', 'Role-Playing', 'Racing']\n"
   ]
  },
  {
   "cell_type": "markdown",
   "metadata": {},
   "source": [
    "В Америке лидирует 'Shooter', в Европе лидирует Action, в Японии- Role-Playing."
   ]
  },
  {
   "cell_type": "markdown",
   "metadata": {},
   "source": [
    "Entertainment Software Rating Board (ESRB) — негосударственная организация, основное направление деятельности — принятие и определение рейтингов для компьютерных видеоигр и другого развлекательного программного обеспечения в США и Канаде.\n",
    "«EC» («Early childhood») — «Для детей младшего возраста»\n",
    "«E» («Everyone») — «Для всех»\n",
    "«E10+» («Everyone 10 and older») — «Для всех от 10 лет и старше»\n",
    "«T» («Teen») — «Подросткам»\n",
    "«M» («Mature») — «Для взрослых»\n",
    "«AO» («Adults Only 18+») — «Только для взрослых»\n",
    "«RP» («Rating Pending») — «Рейтинг ожидается»\n",
    "«RP 17+» («Rating Pending») — «Рейтинг ожидается - примерно 17+»"
   ]
  },
  {
   "cell_type": "code",
   "execution_count": 52,
   "metadata": {},
   "outputs": [
    {
     "data": {
      "image/png": "[encoded data removed]",
      "text/plain": [
       "<Figure size 360x360 with 1 Axes>"
      ]
     },
     "metadata": {
      "needs_background": "light"
     },
     "output_type": "display_data"
    },
    {
     "data": {
      "image/png": "[encoded data removed]",
      "text/plain": [
       "<Figure size 360x360 with 1 Axes>"
      ]
     },
     "metadata": {
      "needs_background": "light"
     },
     "output_type": "display_data"
    },
    {
     "data": {
      "image/png": "[encoded data removed]",
      "text/plain": [
       "<Figure size 360x360 with 1 Axes>"
      ]
     },
     "metadata": {
      "needs_background": "light"
     },
     "output_type": "display_data"
    }
   ],
   "source": [
    "#рассмотрим влияет ли рейтинг ESRB на продажи в отдельном регионе\n",
    "\n",
    "genre_region = correct_data.pivot_table(index='rating', aggfunc={'na_sales':sum, 'eu_sales':sum, 'jp_sales':sum})\n",
    "#genre_region.plot(y='na_sales',kind='pie',figsize=(5, 5),autopct='%.0f%%')\n",
    "#genre_region.plot(y='jp_sales',kind='pie',figsize=(5, 5),autopct='%.0f%%')\n",
    "#genre_region.plot(y='eu_sales',kind='pie',figsize=(5, 5),autopct='%.0f%%');\n",
    "\n",
    "genre_region.sort_values('na_sales', ascending=False).plot(y='na_sales',kind='bar',figsize=(5, 5))\n",
    "genre_region.sort_values('jp_sales', ascending=False).plot(y='jp_sales',kind='bar',figsize=(5, 5))\n",
    "genre_region.sort_values('eu_sales', ascending=False).plot(y='eu_sales',kind='bar',figsize=(5, 5));"
   ]
  },
  {
   "cell_type": "markdown",
   "metadata": {},
   "source": [
    "Лидируют:\n",
    "В Америке: «M» («Mature») — «Для взрослых».\n",
    "В Японии: «T» («Teen») — «Подросткам».\n",
    "В Европе: «M» («Mature») — «Для взрослых»."
   ]
  },
  {
   "cell_type": "markdown",
   "metadata": {},
   "source": [
    "## Проверьте гипотезы"
   ]
  },
  {
   "cell_type": "markdown",
   "metadata": {},
   "source": [
    "### Средние пользовательские рейтинги платформ Xbox One и PC одинаковые; Средние пользовательские рейтинги жанров Action и Sports разные."
   ]
  },
  {
   "cell_type": "markdown",
   "metadata": {},
   "source": [
    "\n",
    "Проверка гипотезы: Средние пользовательские рейтинги платформ Xbox One и PC одинаковые;\n"
   ]
  },
  {
   "cell_type": "markdown",
   "metadata": {},
   "source": [
    "уровень статистической значимости 5% \n",
    "𝐻0 — средние пользовательские рейтинги платформ Xbox One и PC одинаковые.(всегда формулируется со знаком=)\n",
    "\n",
    "𝐻1— средние пользовательские рейтинги платформ Xbox One и PC различаются.\n"
   ]
  },
  {
   "cell_type": "code",
   "execution_count": 53,
   "metadata": {},
   "outputs": [
    {
     "name": "stdout",
     "output_type": "stream",
     "text": [
      "p-значение: 0.11601398086668832\n",
      "Не получилось отвергнуть нулевую гипотезу\n"
     ]
    }
   ],
   "source": [
    "xbox_one=correct_data.query('(platform == \"XOne\")&(user_score > 0)')['user_score']\n",
    "pc=correct_data.query('(platform == \"PC\")&(user_score > 0)')['user_score']\n",
    "\n",
    "alpha = 0.05 # ваш код: задайте критический уровень статистической значимости\n",
    "\n",
    "\n",
    "results = st.ttest_ind(xbox_one, pc,equal_var = False)\n",
    "alpha = 0.05\n",
    "print('p-значение:', results.pvalue)\n",
    "\n",
    "if results.pvalue < alpha:\n",
    "    print(\"Отвергаем нулевую гипотезу\")\n",
    "else:\n",
    "    print(\"Не получилось отвергнуть нулевую гипотезу\") \n",
    "\n",
    "\n"
   ]
  },
  {
   "cell_type": "code",
   "execution_count": 54,
   "metadata": {},
   "outputs": [
    {
     "name": "stdout",
     "output_type": "stream",
     "text": [
      "6.594545454545456\n",
      "6.298360655737705\n"
     ]
    }
   ],
   "source": [
    "#проверка\n",
    "print(xbox_one.mean())\n",
    "print(pc.mean())"
   ]
  },
  {
   "cell_type": "markdown",
   "metadata": {},
   "source": [
    "𝐻0 — средние пользовательские рейтинги жанров Action и Sports одинаковые.(всегда формулируется со знаком=)\n",
    "\n",
    "𝐻1— средние пользовательские рейтинги жанров Action и Sports разные."
   ]
  },
  {
   "cell_type": "code",
   "execution_count": 55,
   "metadata": {},
   "outputs": [
    {
     "name": "stdout",
     "output_type": "stream",
     "text": [
      "p-значение: 1.1825550382644557e-14\n",
      "Отвергаем нулевую гипотезу\n"
     ]
    }
   ],
   "source": [
    "#проверка гипотезы: Средние пользовательские рейтинги жанров Action и Sports разные\n",
    "action=correct_data.query('(genre == \"Action\")&(user_score > 0)')['user_score']\n",
    "sports=correct_data.query('(genre == \"Sports\")&(user_score > 0)')['user_score']\n",
    "\n",
    "alpha = 0.05 # ваш код: задайте критический уровень статистической значимости\n",
    "\n",
    "\n",
    "results = st.ttest_ind(action, sports,equal_var=False)\n",
    "alpha = 0.05\n",
    "print('p-значение:', results.pvalue)\n",
    "\n",
    "if results.pvalue < alpha:\n",
    "    print(\"Отвергаем нулевую гипотезу\")\n",
    "else:\n",
    "    print(\"Не получилось отвергнуть нулевую гипотезу\") \n",
    "\n"
   ]
  },
  {
   "cell_type": "code",
   "execution_count": 56,
   "metadata": {},
   "outputs": [
    {
     "name": "stdout",
     "output_type": "stream",
     "text": [
      "6.760606060606061\n",
      "5.2251968503937\n"
     ]
    }
   ],
   "source": [
    "print(action.mean())\n",
    "print(sports.mean())"
   ]
  },
  {
   "cell_type": "markdown",
   "metadata": {},
   "source": [
    "### Поясните гипотезы. Как вы сформулировали нулевую и альтернативную гипотезы; Какой критерий применили для проверки гипотез и почему."
   ]
  },
  {
   "cell_type": "markdown",
   "metadata": {},
   "source": [
    "уровень статистической значимости 5%\n",
    "первая гипотеза:\n",
    "𝐻0 — средние пользовательские рейтинги платформ Xbox One и PC одинаковые.(всегда формулируется со знаком=)\n",
    "\n",
    "𝐻1— средние пользовательские рейтинги платформ Xbox One и PC различаются.\n",
    "\n",
    "\n",
    "вторая гипотеза:\n",
    "𝐻0 — средние пользовательские рейтинги жанров Action и Sports одинаковые.(всегда формулируется со знаком=)\n",
    "\n",
    "𝐻1— средние пользовательские рейтинги жанров Action и Sports разные.\n",
    "\n",
    "Вывод: средний рейтинг платформ Xbox One и PC  не отличается.Средние пользовательские рейтинги жанров Action и Sports разные."
   ]
  },
  {
   "cell_type": "markdown",
   "metadata": {},
   "source": [
    "## Напишите общий вывод"
   ]
  },
  {
   "cell_type": "markdown",
   "metadata": {},
   "source": [
    "ВЫВОД:\n",
    "     Целью исследования было выявить определяющие успешность игры закономерности. Это позволит сделать ставку на потенциально популярный продукт и спланировать рекламные кампании.\n",
    "     Входные данные: Из открытых источников доступны исторические данные о продажах игр, оценки пользователей и экспертов, жанры и платформы (например, Xbox или PlayStation)(данные до 2016 года).  \n",
    "\n",
    "    В ходе исследования было сделано:\n",
    "     1. Подготовка данных.\n",
    "    1.1 Заменены названия столбцов (приведены к нижнему регистру);\n",
    "    1.2 Преобразованы данные в нужные типы. \n",
    "    1.3 Обработаны пропуски.\n",
    "    1.4 Посчитаны суммарные продажи во всех регионах.\n",
    "     2. Проведен исследовательский анализ данных\n",
    "    2.1 Выбраны данные за определенный актуальный период.\n",
    "    2.2 Выбраны платформы с наибольшими суммарными продажами и построено распределение по годам.\n",
    "    2.3 Определено за какой характерный срок появляются новые и исчезают старые платформы.\n",
    "    2.4 Выбраны несколько потенциально прибыльных платформ.\n",
    "    2.5 Построен график «ящик с усами» по глобальным продажам игр в разбивке по платформам. \n",
    "    2.6 Рассмотрено влияют ли на продажи внутри одной популярной платформы отзывы пользователей и критиков. \n",
    "        Построена диаграмма рассеяния и посчитана корреляция между отзывами и продажами. \n",
    "    2.6 Рассмотрено общее распределение игр по жанрам.\n",
    "\n",
    "     3. Составлен портрет пользователя каждого региона\n",
    "    3.1 Определено для пользователя каждого региона (NA, EU, JP):\n",
    "        Самые популярные платформы (топ-5). \n",
    "        Самые популярные жанры (топ-5). \n",
    "    3.2 Рассмотрено влияет ли рейтинг ESRB на продажи в отдельном регионе.\n",
    "     4. Проверены гипотезы\n",
    "    Средние пользовательские рейтинги платформ Xbox One и PC одинаковые;\n",
    "    Средние пользовательские рейтинги жанров Action (англ. «действие», экшен-игры) и Sports (англ. «спортивные соревнования») разные.\n",
    "\n",
    "Результаты выявили следующие закономерности,определяющие успешность игры:\n",
    "Продажи внутри других платформы, как и у PS4 не зависят от оценок пользователей, есть небольшая зависимость от оценки критиков.\n",
    "Общее распределение игр по жанрам: Action (37%), Role-Playing(13%),на третьем-Adventure(11%).\n",
    "По общим продажам лидируют Action, Shooter, Sports, самые маленькие продажи у жанра Puzzle.\n",
    "По максимальным и средним продажам лидирует Shooter.\n",
    "Популярные платформы в разных регионах: в Америке  PS4, в Японии -3DS, в Европе-PS4.\n",
    "\n",
    "топ 5 платформ в разных регионах\n",
    "top_na=['PS4','XOne', 'X360', '3DS', 'PS3']\n",
    "top_jp=['3DS', 'PS4', 'PSV', 'PS3', 'WiiU']\n",
    "top_eu=['PS4', 'XOne', 'PS3', 'PC', '3DS']\n",
    "\n",
    "топ-5 жанров для разных регионов:\n",
    "top_na=['Shooter','Action','Sports', 'Role-Playing''Misc']\n",
    "top_jp=['Role-Playing', 'Action', 'Fighting', 'Misc', 'Shooter']\n",
    "top_eu=['Action', 'Shooter', 'Sports', 'Role-Playing', 'Racing']\n",
    "В Америке лидирует 'Shooter', в Европе лидирует Action, в Японии- Role-Playing.\n",
    "По рейтингу ESRB лидируют:в Америке: «M» («Mature») — «Для взрослых». В Японии: «T» («Teen») — «Подросткам». В Европе: «M» («Mature») — «Для взрослых».\n"
   ]
  },
  {
   "cell_type": "code",
   "execution_count": null,
   "metadata": {},
   "outputs": [],
   "source": []
  }
 ],
 "metadata": {
  "ExecuteTimeLog": [
   {
    "duration": 4,
    "start_time": "2023-01-30T10:37:10.086Z"
   },
   {
    "duration": 1467,
    "start_time": "2023-01-30T10:46:08.811Z"
   },
   {
    "duration": 12,
    "start_time": "2023-01-30T10:46:12.212Z"
   },
   {
    "duration": 55,
    "start_time": "2023-01-30T10:46:38.530Z"
   },
   {
    "duration": 6,
    "start_time": "2023-01-30T10:46:40.594Z"
   },
   {
    "duration": 51,
    "start_time": "2023-01-30T10:46:52.563Z"
   },
   {
    "duration": 14,
    "start_time": "2023-01-30T10:46:55.572Z"
   },
   {
    "duration": 52,
    "start_time": "2023-01-30T10:47:12.956Z"
   },
   {
    "duration": 22,
    "start_time": "2023-01-30T10:48:17.825Z"
   },
   {
    "duration": 3,
    "start_time": "2023-01-30T10:51:12.277Z"
   },
   {
    "duration": 3,
    "start_time": "2023-01-30T10:51:14.761Z"
   },
   {
    "duration": 96,
    "start_time": "2023-01-30T11:03:36.575Z"
   },
   {
    "duration": 5,
    "start_time": "2023-01-30T11:12:12.881Z"
   },
   {
    "duration": 6,
    "start_time": "2023-01-30T11:12:16.290Z"
   },
   {
    "duration": 12,
    "start_time": "2023-01-30T11:12:38.374Z"
   },
   {
    "duration": 2,
    "start_time": "2023-01-30T11:18:58.393Z"
   },
   {
    "duration": 2,
    "start_time": "2023-01-30T11:19:02.203Z"
   },
   {
    "duration": 3,
    "start_time": "2023-01-30T11:19:53.616Z"
   },
   {
    "duration": 2,
    "start_time": "2023-01-30T12:28:10.034Z"
   },
   {
    "duration": 3,
    "start_time": "2023-01-30T12:34:23.922Z"
   },
   {
    "duration": 3,
    "start_time": "2023-01-30T12:34:27.057Z"
   },
   {
    "duration": 2,
    "start_time": "2023-01-30T12:44:21.585Z"
   },
   {
    "duration": 1231,
    "start_time": "2023-01-30T12:52:47.787Z"
   },
   {
    "duration": 23,
    "start_time": "2023-01-30T12:52:49.023Z"
   },
   {
    "duration": 31,
    "start_time": "2023-01-30T12:52:49.048Z"
   },
   {
    "duration": 12,
    "start_time": "2023-01-30T12:52:49.082Z"
   },
   {
    "duration": 16,
    "start_time": "2023-01-30T12:52:49.096Z"
   },
   {
    "duration": 72,
    "start_time": "2023-01-30T12:52:49.114Z"
   },
   {
    "duration": 0,
    "start_time": "2023-01-30T12:52:49.189Z"
   },
   {
    "duration": 0,
    "start_time": "2023-01-30T12:52:49.190Z"
   },
   {
    "duration": 4,
    "start_time": "2023-01-30T12:53:14.462Z"
   },
   {
    "duration": 14,
    "start_time": "2023-01-30T12:54:33.039Z"
   },
   {
    "duration": 7,
    "start_time": "2023-01-30T12:57:11.233Z"
   },
   {
    "duration": 12,
    "start_time": "2023-01-30T12:59:05.496Z"
   },
   {
    "duration": 21,
    "start_time": "2023-01-30T12:59:16.689Z"
   },
   {
    "duration": 14,
    "start_time": "2023-01-30T12:59:37.692Z"
   },
   {
    "duration": 69,
    "start_time": "2023-01-30T13:00:50.343Z"
   },
   {
    "duration": 16,
    "start_time": "2023-01-30T13:01:00.403Z"
   },
   {
    "duration": 20,
    "start_time": "2023-01-30T13:01:03.108Z"
   },
   {
    "duration": 120,
    "start_time": "2023-01-30T13:07:09.724Z"
   },
   {
    "duration": 18,
    "start_time": "2023-01-30T13:07:19.128Z"
   },
   {
    "duration": 13,
    "start_time": "2023-01-30T13:10:12.392Z"
   },
   {
    "duration": 9,
    "start_time": "2023-01-30T13:10:16.967Z"
   },
   {
    "duration": 6,
    "start_time": "2023-01-30T13:10:27.451Z"
   },
   {
    "duration": 6,
    "start_time": "2023-01-30T13:10:50.921Z"
   },
   {
    "duration": 9,
    "start_time": "2023-01-30T13:10:53.999Z"
   },
   {
    "duration": 7,
    "start_time": "2023-01-30T13:10:56.062Z"
   },
   {
    "duration": 13,
    "start_time": "2023-01-30T13:10:58.920Z"
   },
   {
    "duration": 16,
    "start_time": "2023-01-30T13:12:14.787Z"
   },
   {
    "duration": 10,
    "start_time": "2023-01-30T13:12:22.861Z"
   },
   {
    "duration": 7,
    "start_time": "2023-01-30T13:12:37.699Z"
   },
   {
    "duration": 646,
    "start_time": "2023-01-30T13:14:44.224Z"
   },
   {
    "duration": 1216,
    "start_time": "2023-01-30T13:15:10.119Z"
   },
   {
    "duration": 18,
    "start_time": "2023-01-30T13:15:11.337Z"
   },
   {
    "duration": 16,
    "start_time": "2023-01-30T13:15:11.357Z"
   },
   {
    "duration": 5,
    "start_time": "2023-01-30T13:15:11.376Z"
   },
   {
    "duration": 15,
    "start_time": "2023-01-30T13:15:11.382Z"
   },
   {
    "duration": 30,
    "start_time": "2023-01-30T13:15:11.399Z"
   },
   {
    "duration": 889,
    "start_time": "2023-01-30T13:15:11.431Z"
   },
   {
    "duration": 0,
    "start_time": "2023-01-30T13:15:12.321Z"
   },
   {
    "duration": 0,
    "start_time": "2023-01-30T13:15:12.323Z"
   },
   {
    "duration": 0,
    "start_time": "2023-01-30T13:15:12.324Z"
   },
   {
    "duration": 573,
    "start_time": "2023-01-30T13:15:38.420Z"
   },
   {
    "duration": 591,
    "start_time": "2023-01-30T13:15:49.144Z"
   },
   {
    "duration": 8,
    "start_time": "2023-01-30T13:15:59.991Z"
   },
   {
    "duration": 17,
    "start_time": "2023-01-30T13:16:03.064Z"
   },
   {
    "duration": 7,
    "start_time": "2023-01-30T18:54:00.467Z"
   },
   {
    "duration": 1536,
    "start_time": "2023-01-30T18:54:05.240Z"
   },
   {
    "duration": 19,
    "start_time": "2023-01-30T18:54:06.778Z"
   },
   {
    "duration": 15,
    "start_time": "2023-01-30T18:54:06.927Z"
   },
   {
    "duration": 6,
    "start_time": "2023-01-30T18:54:10.995Z"
   },
   {
    "duration": 5,
    "start_time": "2023-01-30T18:54:13.237Z"
   },
   {
    "duration": 14,
    "start_time": "2023-01-30T18:54:42.329Z"
   },
   {
    "duration": 3,
    "start_time": "2023-01-30T18:54:43.708Z"
   },
   {
    "duration": 65,
    "start_time": "2023-01-30T18:54:47.121Z"
   },
   {
    "duration": 14,
    "start_time": "2023-01-30T18:54:48.770Z"
   },
   {
    "duration": 412,
    "start_time": "2023-01-30T19:03:09.752Z"
   },
   {
    "duration": 6,
    "start_time": "2023-01-30T19:03:35.441Z"
   },
   {
    "duration": 4,
    "start_time": "2023-01-30T19:03:45.588Z"
   },
   {
    "duration": 14,
    "start_time": "2023-01-30T19:03:56.452Z"
   },
   {
    "duration": 1541,
    "start_time": "2023-01-30T19:11:40.925Z"
   },
   {
    "duration": 8,
    "start_time": "2023-01-30T19:11:45.710Z"
   },
   {
    "duration": 54,
    "start_time": "2023-01-31T09:59:06.267Z"
   },
   {
    "duration": 1437,
    "start_time": "2023-01-31T09:59:16.913Z"
   },
   {
    "duration": 18,
    "start_time": "2023-01-31T09:59:18.352Z"
   },
   {
    "duration": 14,
    "start_time": "2023-01-31T09:59:18.371Z"
   },
   {
    "duration": 11,
    "start_time": "2023-01-31T09:59:18.387Z"
   },
   {
    "duration": 5,
    "start_time": "2023-01-31T09:59:18.400Z"
   },
   {
    "duration": 15,
    "start_time": "2023-01-31T09:59:18.406Z"
   },
   {
    "duration": 3,
    "start_time": "2023-01-31T09:59:18.422Z"
   },
   {
    "duration": 28,
    "start_time": "2023-01-31T09:59:18.426Z"
   },
   {
    "duration": 6,
    "start_time": "2023-01-31T09:59:18.456Z"
   },
   {
    "duration": 395,
    "start_time": "2023-01-31T09:59:18.464Z"
   },
   {
    "duration": 0,
    "start_time": "2023-01-31T09:59:18.861Z"
   },
   {
    "duration": 0,
    "start_time": "2023-01-31T09:59:18.863Z"
   },
   {
    "duration": 0,
    "start_time": "2023-01-31T09:59:18.865Z"
   },
   {
    "duration": 0,
    "start_time": "2023-01-31T09:59:18.867Z"
   },
   {
    "duration": 4,
    "start_time": "2023-01-31T09:59:32.933Z"
   },
   {
    "duration": 8,
    "start_time": "2023-01-31T09:59:45.263Z"
   },
   {
    "duration": 4,
    "start_time": "2023-01-31T10:02:18.450Z"
   },
   {
    "duration": 11,
    "start_time": "2023-01-31T10:02:21.389Z"
   },
   {
    "duration": 5,
    "start_time": "2023-01-31T10:02:29.292Z"
   },
   {
    "duration": 8,
    "start_time": "2023-01-31T10:02:31.533Z"
   },
   {
    "duration": 1341,
    "start_time": "2023-01-31T10:03:15.628Z"
   },
   {
    "duration": 18,
    "start_time": "2023-01-31T10:03:16.971Z"
   },
   {
    "duration": 21,
    "start_time": "2023-01-31T10:03:16.990Z"
   },
   {
    "duration": 6,
    "start_time": "2023-01-31T10:03:17.013Z"
   },
   {
    "duration": 10,
    "start_time": "2023-01-31T10:03:17.020Z"
   },
   {
    "duration": 191,
    "start_time": "2023-01-31T10:03:17.032Z"
   },
   {
    "duration": 3,
    "start_time": "2023-01-31T10:03:17.225Z"
   },
   {
    "duration": 11,
    "start_time": "2023-01-31T10:03:17.230Z"
   },
   {
    "duration": 8,
    "start_time": "2023-01-31T10:03:17.242Z"
   },
   {
    "duration": 19,
    "start_time": "2023-01-31T10:03:17.252Z"
   },
   {
    "duration": 390,
    "start_time": "2023-01-31T10:03:17.273Z"
   },
   {
    "duration": 0,
    "start_time": "2023-01-31T10:03:17.665Z"
   },
   {
    "duration": 0,
    "start_time": "2023-01-31T10:03:17.666Z"
   },
   {
    "duration": 0,
    "start_time": "2023-01-31T10:03:17.668Z"
   },
   {
    "duration": 0,
    "start_time": "2023-01-31T10:03:17.669Z"
   },
   {
    "duration": 287,
    "start_time": "2023-01-31T10:03:54.870Z"
   },
   {
    "duration": 7,
    "start_time": "2023-01-31T10:04:29.274Z"
   },
   {
    "duration": 19,
    "start_time": "2023-01-31T10:05:23.228Z"
   },
   {
    "duration": 7,
    "start_time": "2023-01-31T10:06:32.867Z"
   },
   {
    "duration": 4,
    "start_time": "2023-01-31T10:06:35.974Z"
   },
   {
    "duration": 13,
    "start_time": "2023-01-31T10:10:33.182Z"
   },
   {
    "duration": 6,
    "start_time": "2023-01-31T10:13:08.073Z"
   },
   {
    "duration": 7,
    "start_time": "2023-01-31T10:13:43.963Z"
   },
   {
    "duration": 1091,
    "start_time": "2023-01-31T10:14:17.089Z"
   },
   {
    "duration": 18,
    "start_time": "2023-01-31T10:14:18.182Z"
   },
   {
    "duration": 17,
    "start_time": "2023-01-31T10:14:18.202Z"
   },
   {
    "duration": 6,
    "start_time": "2023-01-31T10:14:18.222Z"
   },
   {
    "duration": 20,
    "start_time": "2023-01-31T10:14:18.229Z"
   },
   {
    "duration": 21,
    "start_time": "2023-01-31T10:14:18.251Z"
   },
   {
    "duration": 2,
    "start_time": "2023-01-31T10:14:18.274Z"
   },
   {
    "duration": 10,
    "start_time": "2023-01-31T10:14:18.278Z"
   },
   {
    "duration": 9,
    "start_time": "2023-01-31T10:14:18.289Z"
   },
   {
    "duration": 9,
    "start_time": "2023-01-31T10:14:18.301Z"
   },
   {
    "duration": 8,
    "start_time": "2023-01-31T10:14:18.312Z"
   },
   {
    "duration": 31,
    "start_time": "2023-01-31T10:14:18.321Z"
   },
   {
    "duration": 6,
    "start_time": "2023-01-31T10:14:18.354Z"
   },
   {
    "duration": 7,
    "start_time": "2023-01-31T10:14:18.362Z"
   },
   {
    "duration": 59,
    "start_time": "2023-01-31T10:14:18.372Z"
   },
   {
    "duration": 38,
    "start_time": "2023-01-31T10:14:18.433Z"
   },
   {
    "duration": 8,
    "start_time": "2023-01-31T10:14:18.473Z"
   },
   {
    "duration": 74,
    "start_time": "2023-01-31T10:14:18.482Z"
   },
   {
    "duration": 13,
    "start_time": "2023-01-31T10:15:58.392Z"
   },
   {
    "duration": 1197,
    "start_time": "2023-01-31T10:25:39.347Z"
   },
   {
    "duration": 20,
    "start_time": "2023-01-31T10:25:40.546Z"
   },
   {
    "duration": 23,
    "start_time": "2023-01-31T10:25:40.568Z"
   },
   {
    "duration": 5,
    "start_time": "2023-01-31T10:25:40.593Z"
   },
   {
    "duration": 11,
    "start_time": "2023-01-31T10:25:40.600Z"
   },
   {
    "duration": 34,
    "start_time": "2023-01-31T10:25:40.612Z"
   },
   {
    "duration": 3,
    "start_time": "2023-01-31T10:25:40.647Z"
   },
   {
    "duration": 23,
    "start_time": "2023-01-31T10:25:40.652Z"
   },
   {
    "duration": 8,
    "start_time": "2023-01-31T10:25:40.677Z"
   },
   {
    "duration": 16,
    "start_time": "2023-01-31T10:25:40.689Z"
   },
   {
    "duration": 10,
    "start_time": "2023-01-31T10:25:40.706Z"
   },
   {
    "duration": 5,
    "start_time": "2023-01-31T10:25:40.718Z"
   },
   {
    "duration": 7,
    "start_time": "2023-01-31T10:25:40.724Z"
   },
   {
    "duration": 29,
    "start_time": "2023-01-31T10:25:40.733Z"
   },
   {
    "duration": 66,
    "start_time": "2023-01-31T10:25:40.764Z"
   },
   {
    "duration": 25,
    "start_time": "2023-01-31T10:25:40.832Z"
   },
   {
    "duration": 7,
    "start_time": "2023-01-31T10:25:40.859Z"
   },
   {
    "duration": 84,
    "start_time": "2023-01-31T10:25:40.868Z"
   },
   {
    "duration": 3,
    "start_time": "2023-01-31T10:33:00.475Z"
   },
   {
    "duration": 18,
    "start_time": "2023-01-31T10:33:55.464Z"
   },
   {
    "duration": 9,
    "start_time": "2023-01-31T10:36:53.725Z"
   },
   {
    "duration": 92,
    "start_time": "2023-01-31T10:39:54.634Z"
   },
   {
    "duration": 15,
    "start_time": "2023-01-31T10:40:08.025Z"
   },
   {
    "duration": 88,
    "start_time": "2023-01-31T10:43:59.188Z"
   },
   {
    "duration": 9,
    "start_time": "2023-01-31T10:47:26.121Z"
   },
   {
    "duration": 9,
    "start_time": "2023-01-31T10:47:29.987Z"
   },
   {
    "duration": 9,
    "start_time": "2023-01-31T10:47:42.217Z"
   },
   {
    "duration": 13,
    "start_time": "2023-01-31T10:48:05.210Z"
   },
   {
    "duration": 1166,
    "start_time": "2023-01-31T10:48:20.867Z"
   },
   {
    "duration": 18,
    "start_time": "2023-01-31T10:48:22.035Z"
   },
   {
    "duration": 21,
    "start_time": "2023-01-31T10:48:22.054Z"
   },
   {
    "duration": 19,
    "start_time": "2023-01-31T10:48:22.077Z"
   },
   {
    "duration": 22,
    "start_time": "2023-01-31T10:48:22.097Z"
   },
   {
    "duration": 31,
    "start_time": "2023-01-31T10:48:22.120Z"
   },
   {
    "duration": 11,
    "start_time": "2023-01-31T10:48:22.152Z"
   },
   {
    "duration": 28,
    "start_time": "2023-01-31T10:48:22.165Z"
   },
   {
    "duration": 24,
    "start_time": "2023-01-31T10:48:22.194Z"
   },
   {
    "duration": 23,
    "start_time": "2023-01-31T10:48:22.220Z"
   },
   {
    "duration": 24,
    "start_time": "2023-01-31T10:48:22.245Z"
   },
   {
    "duration": 23,
    "start_time": "2023-01-31T10:48:22.270Z"
   },
   {
    "duration": 19,
    "start_time": "2023-01-31T10:48:22.294Z"
   },
   {
    "duration": 36,
    "start_time": "2023-01-31T10:48:22.314Z"
   },
   {
    "duration": 53,
    "start_time": "2023-01-31T10:48:22.352Z"
   },
   {
    "duration": 11,
    "start_time": "2023-01-31T10:48:22.407Z"
   },
   {
    "duration": 27,
    "start_time": "2023-01-31T10:48:22.420Z"
   },
   {
    "duration": 26,
    "start_time": "2023-01-31T10:48:22.448Z"
   },
   {
    "duration": 30,
    "start_time": "2023-01-31T10:48:22.475Z"
   },
   {
    "duration": 10,
    "start_time": "2023-01-31T10:48:22.506Z"
   },
   {
    "duration": 72,
    "start_time": "2023-01-31T10:48:22.518Z"
   },
   {
    "duration": 11,
    "start_time": "2023-01-31T10:51:22.959Z"
   },
   {
    "duration": 9,
    "start_time": "2023-01-31T10:56:45.963Z"
   },
   {
    "duration": 9,
    "start_time": "2023-01-31T10:57:35.901Z"
   },
   {
    "duration": 9,
    "start_time": "2023-01-31T10:59:14.522Z"
   },
   {
    "duration": 70,
    "start_time": "2023-01-31T10:59:34.531Z"
   },
   {
    "duration": 1177,
    "start_time": "2023-01-31T10:59:46.729Z"
   },
   {
    "duration": 20,
    "start_time": "2023-01-31T10:59:47.908Z"
   },
   {
    "duration": 14,
    "start_time": "2023-01-31T10:59:47.929Z"
   },
   {
    "duration": 9,
    "start_time": "2023-01-31T10:59:47.945Z"
   },
   {
    "duration": 9,
    "start_time": "2023-01-31T10:59:47.955Z"
   },
   {
    "duration": 20,
    "start_time": "2023-01-31T10:59:47.966Z"
   },
   {
    "duration": 3,
    "start_time": "2023-01-31T10:59:47.988Z"
   },
   {
    "duration": 18,
    "start_time": "2023-01-31T10:59:47.993Z"
   },
   {
    "duration": 9,
    "start_time": "2023-01-31T10:59:48.012Z"
   },
   {
    "duration": 12,
    "start_time": "2023-01-31T10:59:48.024Z"
   },
   {
    "duration": 9,
    "start_time": "2023-01-31T10:59:48.038Z"
   },
   {
    "duration": 10,
    "start_time": "2023-01-31T10:59:48.048Z"
   },
   {
    "duration": 15,
    "start_time": "2023-01-31T10:59:48.060Z"
   },
   {
    "duration": 49,
    "start_time": "2023-01-31T10:59:48.076Z"
   },
   {
    "duration": 25,
    "start_time": "2023-01-31T10:59:48.126Z"
   },
   {
    "duration": 25,
    "start_time": "2023-01-31T10:59:48.154Z"
   },
   {
    "duration": 10,
    "start_time": "2023-01-31T10:59:48.181Z"
   },
   {
    "duration": 13,
    "start_time": "2023-01-31T10:59:48.193Z"
   },
   {
    "duration": 10,
    "start_time": "2023-01-31T10:59:48.208Z"
   },
   {
    "duration": 29,
    "start_time": "2023-01-31T10:59:48.220Z"
   },
   {
    "duration": 10,
    "start_time": "2023-01-31T10:59:48.251Z"
   },
   {
    "duration": 8,
    "start_time": "2023-01-31T10:59:48.262Z"
   },
   {
    "duration": 75,
    "start_time": "2023-01-31T10:59:48.272Z"
   },
   {
    "duration": 4,
    "start_time": "2023-01-31T11:12:00.822Z"
   },
   {
    "duration": 13,
    "start_time": "2023-01-31T11:12:16.001Z"
   },
   {
    "duration": 17,
    "start_time": "2023-01-31T11:12:31.499Z"
   },
   {
    "duration": 14,
    "start_time": "2023-01-31T11:15:59.266Z"
   },
   {
    "duration": 89,
    "start_time": "2023-01-31T11:19:00.763Z"
   },
   {
    "duration": 18,
    "start_time": "2023-01-31T11:20:59.340Z"
   },
   {
    "duration": 17,
    "start_time": "2023-01-31T11:21:01.330Z"
   },
   {
    "duration": 26,
    "start_time": "2023-01-31T11:21:31.181Z"
   },
   {
    "duration": 22,
    "start_time": "2023-01-31T11:23:26.115Z"
   },
   {
    "duration": 1156,
    "start_time": "2023-01-31T11:23:35.464Z"
   },
   {
    "duration": 23,
    "start_time": "2023-01-31T11:23:36.623Z"
   },
   {
    "duration": 18,
    "start_time": "2023-01-31T11:23:36.647Z"
   },
   {
    "duration": 8,
    "start_time": "2023-01-31T11:23:36.667Z"
   },
   {
    "duration": 16,
    "start_time": "2023-01-31T11:23:36.677Z"
   },
   {
    "duration": 26,
    "start_time": "2023-01-31T11:23:36.696Z"
   },
   {
    "duration": 2,
    "start_time": "2023-01-31T11:23:36.724Z"
   },
   {
    "duration": 11,
    "start_time": "2023-01-31T11:23:36.728Z"
   },
   {
    "duration": 7,
    "start_time": "2023-01-31T11:23:36.741Z"
   },
   {
    "duration": 11,
    "start_time": "2023-01-31T11:23:36.750Z"
   },
   {
    "duration": 9,
    "start_time": "2023-01-31T11:23:36.762Z"
   },
   {
    "duration": 6,
    "start_time": "2023-01-31T11:23:36.773Z"
   },
   {
    "duration": 15,
    "start_time": "2023-01-31T11:23:36.781Z"
   },
   {
    "duration": 64,
    "start_time": "2023-01-31T11:23:36.799Z"
   },
   {
    "duration": 11,
    "start_time": "2023-01-31T11:23:36.865Z"
   },
   {
    "duration": 14,
    "start_time": "2023-01-31T11:23:36.878Z"
   },
   {
    "duration": 10,
    "start_time": "2023-01-31T11:23:36.894Z"
   },
   {
    "duration": 10,
    "start_time": "2023-01-31T11:23:36.905Z"
   },
   {
    "duration": 36,
    "start_time": "2023-01-31T11:23:36.916Z"
   },
   {
    "duration": 9,
    "start_time": "2023-01-31T11:23:36.953Z"
   },
   {
    "duration": 9,
    "start_time": "2023-01-31T11:23:36.964Z"
   },
   {
    "duration": 17,
    "start_time": "2023-01-31T11:23:36.975Z"
   },
   {
    "duration": 20,
    "start_time": "2023-01-31T11:23:36.993Z"
   },
   {
    "duration": 34,
    "start_time": "2023-01-31T11:23:37.015Z"
   },
   {
    "duration": 91,
    "start_time": "2023-01-31T11:23:37.051Z"
   },
   {
    "duration": 44,
    "start_time": "2023-01-31T11:33:15.137Z"
   },
   {
    "duration": 15,
    "start_time": "2023-01-31T11:36:24.185Z"
   },
   {
    "duration": 11,
    "start_time": "2023-01-31T11:38:06.663Z"
   },
   {
    "duration": 12,
    "start_time": "2023-01-31T11:38:09.814Z"
   },
   {
    "duration": 1177,
    "start_time": "2023-01-31T11:38:50.049Z"
   },
   {
    "duration": 18,
    "start_time": "2023-01-31T11:38:51.228Z"
   },
   {
    "duration": 19,
    "start_time": "2023-01-31T11:38:51.247Z"
   },
   {
    "duration": 6,
    "start_time": "2023-01-31T11:38:51.267Z"
   },
   {
    "duration": 22,
    "start_time": "2023-01-31T11:38:51.275Z"
   },
   {
    "duration": 42,
    "start_time": "2023-01-31T11:38:51.299Z"
   },
   {
    "duration": 9,
    "start_time": "2023-01-31T11:38:51.343Z"
   },
   {
    "duration": 14,
    "start_time": "2023-01-31T11:38:51.353Z"
   },
   {
    "duration": 6,
    "start_time": "2023-01-31T11:38:51.369Z"
   },
   {
    "duration": 12,
    "start_time": "2023-01-31T11:38:51.376Z"
   },
   {
    "duration": 17,
    "start_time": "2023-01-31T11:38:51.389Z"
   },
   {
    "duration": 7,
    "start_time": "2023-01-31T11:38:51.408Z"
   },
   {
    "duration": 23,
    "start_time": "2023-01-31T11:38:51.417Z"
   },
   {
    "duration": 47,
    "start_time": "2023-01-31T11:38:51.443Z"
   },
   {
    "duration": 12,
    "start_time": "2023-01-31T11:38:51.491Z"
   },
   {
    "duration": 18,
    "start_time": "2023-01-31T11:38:51.505Z"
   },
   {
    "duration": 8,
    "start_time": "2023-01-31T11:38:51.527Z"
   },
   {
    "duration": 21,
    "start_time": "2023-01-31T11:38:51.537Z"
   },
   {
    "duration": 9,
    "start_time": "2023-01-31T11:38:51.559Z"
   },
   {
    "duration": 18,
    "start_time": "2023-01-31T11:38:51.569Z"
   },
   {
    "duration": 17,
    "start_time": "2023-01-31T11:38:51.588Z"
   },
   {
    "duration": 32,
    "start_time": "2023-01-31T11:38:51.606Z"
   },
   {
    "duration": 17,
    "start_time": "2023-01-31T11:38:51.640Z"
   },
   {
    "duration": 3,
    "start_time": "2023-01-31T11:38:51.658Z"
   },
   {
    "duration": 80,
    "start_time": "2023-01-31T11:38:51.662Z"
   },
   {
    "duration": 11,
    "start_time": "2023-01-31T11:42:01.295Z"
   },
   {
    "duration": 10,
    "start_time": "2023-01-31T11:42:04.144Z"
   },
   {
    "duration": 11,
    "start_time": "2023-01-31T11:42:15.209Z"
   },
   {
    "duration": 11,
    "start_time": "2023-01-31T11:42:16.449Z"
   },
   {
    "duration": 11,
    "start_time": "2023-01-31T11:42:17.260Z"
   },
   {
    "duration": 10,
    "start_time": "2023-01-31T11:42:19.130Z"
   },
   {
    "duration": 11,
    "start_time": "2023-01-31T11:42:23.197Z"
   },
   {
    "duration": 61,
    "start_time": "2023-01-31T18:31:03.924Z"
   },
   {
    "duration": 1861,
    "start_time": "2023-01-31T18:31:14.457Z"
   },
   {
    "duration": 17,
    "start_time": "2023-01-31T18:31:16.320Z"
   },
   {
    "duration": 18,
    "start_time": "2023-01-31T18:31:16.338Z"
   },
   {
    "duration": 9,
    "start_time": "2023-01-31T18:31:16.358Z"
   },
   {
    "duration": 7,
    "start_time": "2023-01-31T18:31:16.369Z"
   },
   {
    "duration": 16,
    "start_time": "2023-01-31T18:31:16.377Z"
   },
   {
    "duration": 3,
    "start_time": "2023-01-31T18:31:16.394Z"
   },
   {
    "duration": 15,
    "start_time": "2023-01-31T18:31:16.398Z"
   },
   {
    "duration": 5,
    "start_time": "2023-01-31T18:31:16.415Z"
   },
   {
    "duration": 33,
    "start_time": "2023-01-31T18:31:16.422Z"
   },
   {
    "duration": 16,
    "start_time": "2023-01-31T18:31:16.457Z"
   },
   {
    "duration": 14,
    "start_time": "2023-01-31T18:31:16.475Z"
   },
   {
    "duration": 16,
    "start_time": "2023-01-31T18:31:16.491Z"
   },
   {
    "duration": 64,
    "start_time": "2023-01-31T18:31:16.509Z"
   },
   {
    "duration": 15,
    "start_time": "2023-01-31T18:31:16.574Z"
   },
   {
    "duration": 15,
    "start_time": "2023-01-31T18:31:16.591Z"
   },
   {
    "duration": 11,
    "start_time": "2023-01-31T18:31:16.608Z"
   },
   {
    "duration": 29,
    "start_time": "2023-01-31T18:31:16.620Z"
   },
   {
    "duration": 11,
    "start_time": "2023-01-31T18:31:16.652Z"
   },
   {
    "duration": 15,
    "start_time": "2023-01-31T18:31:16.666Z"
   },
   {
    "duration": 10,
    "start_time": "2023-01-31T18:31:16.683Z"
   },
   {
    "duration": 56,
    "start_time": "2023-01-31T18:31:16.694Z"
   },
   {
    "duration": 14,
    "start_time": "2023-01-31T18:31:16.752Z"
   },
   {
    "duration": 6,
    "start_time": "2023-01-31T18:31:16.768Z"
   },
   {
    "duration": 9,
    "start_time": "2023-01-31T18:31:21.464Z"
   },
   {
    "duration": 8,
    "start_time": "2023-01-31T18:31:24.164Z"
   },
   {
    "duration": 14,
    "start_time": "2023-01-31T18:31:31.005Z"
   },
   {
    "duration": 99,
    "start_time": "2023-01-31T18:48:09.843Z"
   },
   {
    "duration": 1397,
    "start_time": "2023-01-31T18:48:57.680Z"
   },
   {
    "duration": 264,
    "start_time": "2023-01-31T18:49:15.538Z"
   },
   {
    "duration": 1119,
    "start_time": "2023-01-31T18:53:19.404Z"
   },
   {
    "duration": 25,
    "start_time": "2023-01-31T18:53:20.526Z"
   },
   {
    "duration": 15,
    "start_time": "2023-01-31T18:53:20.553Z"
   },
   {
    "duration": 5,
    "start_time": "2023-01-31T18:53:20.571Z"
   },
   {
    "duration": 9,
    "start_time": "2023-01-31T18:53:20.578Z"
   },
   {
    "duration": 21,
    "start_time": "2023-01-31T18:53:20.589Z"
   },
   {
    "duration": 2,
    "start_time": "2023-01-31T18:53:20.612Z"
   },
   {
    "duration": 7,
    "start_time": "2023-01-31T18:53:20.644Z"
   },
   {
    "duration": 9,
    "start_time": "2023-01-31T18:53:20.653Z"
   },
   {
    "duration": 10,
    "start_time": "2023-01-31T18:53:20.665Z"
   },
   {
    "duration": 9,
    "start_time": "2023-01-31T18:53:20.677Z"
   },
   {
    "duration": 27,
    "start_time": "2023-01-31T18:53:20.689Z"
   },
   {
    "duration": 25,
    "start_time": "2023-01-31T18:53:20.719Z"
   },
   {
    "duration": 57,
    "start_time": "2023-01-31T18:53:20.746Z"
   },
   {
    "duration": 12,
    "start_time": "2023-01-31T18:53:20.805Z"
   },
   {
    "duration": 34,
    "start_time": "2023-01-31T18:53:20.818Z"
   },
   {
    "duration": 9,
    "start_time": "2023-01-31T18:53:20.854Z"
   },
   {
    "duration": 10,
    "start_time": "2023-01-31T18:53:20.865Z"
   },
   {
    "duration": 22,
    "start_time": "2023-01-31T18:53:20.876Z"
   },
   {
    "duration": 16,
    "start_time": "2023-01-31T18:53:20.900Z"
   },
   {
    "duration": 13,
    "start_time": "2023-01-31T18:53:20.918Z"
   },
   {
    "duration": 18,
    "start_time": "2023-01-31T18:53:20.944Z"
   },
   {
    "duration": 21,
    "start_time": "2023-01-31T18:53:20.964Z"
   },
   {
    "duration": 1480,
    "start_time": "2023-01-31T18:53:20.987Z"
   },
   {
    "duration": 0,
    "start_time": "2023-01-31T18:53:22.468Z"
   },
   {
    "duration": 142,
    "start_time": "2023-01-31T18:54:28.622Z"
   },
   {
    "duration": 16,
    "start_time": "2023-01-31T18:55:15.677Z"
   },
   {
    "duration": 11,
    "start_time": "2023-01-31T18:55:58.775Z"
   },
   {
    "duration": 158,
    "start_time": "2023-01-31T18:59:51.513Z"
   },
   {
    "duration": 154,
    "start_time": "2023-01-31T19:00:33.044Z"
   },
   {
    "duration": 170,
    "start_time": "2023-01-31T19:07:43.711Z"
   },
   {
    "duration": 4,
    "start_time": "2023-01-31T19:08:33.649Z"
   },
   {
    "duration": 4,
    "start_time": "2023-01-31T19:08:37.734Z"
   },
   {
    "duration": 12,
    "start_time": "2023-01-31T19:08:45.949Z"
   },
   {
    "duration": 11,
    "start_time": "2023-01-31T19:08:50.129Z"
   },
   {
    "duration": 11,
    "start_time": "2023-01-31T19:08:52.674Z"
   },
   {
    "duration": 9,
    "start_time": "2023-01-31T19:08:55.124Z"
   },
   {
    "duration": 1227,
    "start_time": "2023-01-31T19:09:01.251Z"
   },
   {
    "duration": 17,
    "start_time": "2023-01-31T19:09:02.480Z"
   },
   {
    "duration": 17,
    "start_time": "2023-01-31T19:09:02.498Z"
   },
   {
    "duration": 11,
    "start_time": "2023-01-31T19:09:02.516Z"
   },
   {
    "duration": 11,
    "start_time": "2023-01-31T19:09:02.529Z"
   },
   {
    "duration": 29,
    "start_time": "2023-01-31T19:09:02.541Z"
   },
   {
    "duration": 19,
    "start_time": "2023-01-31T19:09:02.571Z"
   },
   {
    "duration": 26,
    "start_time": "2023-01-31T19:09:02.592Z"
   },
   {
    "duration": 12,
    "start_time": "2023-01-31T19:09:02.619Z"
   },
   {
    "duration": 27,
    "start_time": "2023-01-31T19:09:02.632Z"
   },
   {
    "duration": 15,
    "start_time": "2023-01-31T19:09:02.661Z"
   },
   {
    "duration": 31,
    "start_time": "2023-01-31T19:09:02.678Z"
   },
   {
    "duration": 18,
    "start_time": "2023-01-31T19:09:02.711Z"
   },
   {
    "duration": 45,
    "start_time": "2023-01-31T19:09:02.731Z"
   },
   {
    "duration": 11,
    "start_time": "2023-01-31T19:09:02.778Z"
   },
   {
    "duration": 21,
    "start_time": "2023-01-31T19:09:02.790Z"
   },
   {
    "duration": 17,
    "start_time": "2023-01-31T19:09:02.813Z"
   },
   {
    "duration": 14,
    "start_time": "2023-01-31T19:09:02.832Z"
   },
   {
    "duration": 10,
    "start_time": "2023-01-31T19:09:02.847Z"
   },
   {
    "duration": 20,
    "start_time": "2023-01-31T19:09:02.859Z"
   },
   {
    "duration": 11,
    "start_time": "2023-01-31T19:09:02.880Z"
   },
   {
    "duration": 26,
    "start_time": "2023-01-31T19:09:02.892Z"
   },
   {
    "duration": 8,
    "start_time": "2023-01-31T19:09:02.920Z"
   },
   {
    "duration": 163,
    "start_time": "2023-01-31T19:09:02.929Z"
   },
   {
    "duration": 3,
    "start_time": "2023-01-31T19:09:03.093Z"
   },
   {
    "duration": 13,
    "start_time": "2023-01-31T19:09:17.395Z"
   },
   {
    "duration": 224,
    "start_time": "2023-01-31T19:12:43.226Z"
   },
   {
    "duration": 259,
    "start_time": "2023-01-31T19:13:03.722Z"
   },
   {
    "duration": 70,
    "start_time": "2023-01-31T19:13:47.790Z"
   },
   {
    "duration": 182,
    "start_time": "2023-01-31T19:13:58.558Z"
   },
   {
    "duration": 302,
    "start_time": "2023-01-31T19:18:52.892Z"
   },
   {
    "duration": 288,
    "start_time": "2023-01-31T19:19:03.798Z"
   },
   {
    "duration": 15,
    "start_time": "2023-01-31T19:19:30.942Z"
   },
   {
    "duration": 241,
    "start_time": "2023-01-31T19:20:27.733Z"
   },
   {
    "duration": 168,
    "start_time": "2023-01-31T19:24:06.963Z"
   },
   {
    "duration": 248,
    "start_time": "2023-01-31T19:24:18.435Z"
   },
   {
    "duration": 379,
    "start_time": "2023-01-31T19:25:10.094Z"
   },
   {
    "duration": 144,
    "start_time": "2023-01-31T19:26:33.185Z"
   },
   {
    "duration": 386,
    "start_time": "2023-01-31T19:27:01.402Z"
   },
   {
    "duration": 355,
    "start_time": "2023-01-31T19:30:00.109Z"
   },
   {
    "duration": 198,
    "start_time": "2023-01-31T19:30:36.726Z"
   },
   {
    "duration": 41,
    "start_time": "2023-01-31T19:41:32.336Z"
   },
   {
    "duration": 28,
    "start_time": "2023-01-31T19:42:28.231Z"
   },
   {
    "duration": 14,
    "start_time": "2023-01-31T19:42:38.483Z"
   },
   {
    "duration": 3,
    "start_time": "2023-01-31T19:43:29.683Z"
   },
   {
    "duration": 351,
    "start_time": "2023-01-31T19:43:34.241Z"
   },
   {
    "duration": 416,
    "start_time": "2023-01-31T19:44:26.463Z"
   },
   {
    "duration": 148,
    "start_time": "2023-01-31T19:44:35.263Z"
   },
   {
    "duration": 322,
    "start_time": "2023-01-31T19:45:14.273Z"
   },
   {
    "duration": 328,
    "start_time": "2023-01-31T19:45:39.288Z"
   },
   {
    "duration": 16,
    "start_time": "2023-01-31T19:47:42.423Z"
   },
   {
    "duration": 91,
    "start_time": "2023-01-31T19:48:09.702Z"
   },
   {
    "duration": 13,
    "start_time": "2023-01-31T19:48:13.911Z"
   },
   {
    "duration": 14,
    "start_time": "2023-01-31T19:48:36.566Z"
   },
   {
    "duration": 10,
    "start_time": "2023-01-31T19:50:55.130Z"
   },
   {
    "duration": 9,
    "start_time": "2023-01-31T19:51:47.703Z"
   },
   {
    "duration": 9,
    "start_time": "2023-01-31T19:51:58.602Z"
   },
   {
    "duration": 379,
    "start_time": "2023-01-31T19:52:52.372Z"
   },
   {
    "duration": 10,
    "start_time": "2023-01-31T19:53:17.688Z"
   },
   {
    "duration": 9,
    "start_time": "2023-01-31T19:53:20.288Z"
   },
   {
    "duration": 290,
    "start_time": "2023-01-31T19:53:27.867Z"
   },
   {
    "duration": 400,
    "start_time": "2023-01-31T19:53:44.502Z"
   },
   {
    "duration": 309,
    "start_time": "2023-01-31T19:55:45.487Z"
   },
   {
    "duration": 329,
    "start_time": "2023-01-31T19:57:43.734Z"
   },
   {
    "duration": 299,
    "start_time": "2023-01-31T19:59:00.582Z"
   },
   {
    "duration": 14,
    "start_time": "2023-01-31T20:01:07.823Z"
   },
   {
    "duration": 1476,
    "start_time": "2023-02-01T07:35:52.106Z"
   },
   {
    "duration": 19,
    "start_time": "2023-02-01T07:35:53.584Z"
   },
   {
    "duration": 29,
    "start_time": "2023-02-01T07:35:53.605Z"
   },
   {
    "duration": 5,
    "start_time": "2023-02-01T07:35:53.637Z"
   },
   {
    "duration": 23,
    "start_time": "2023-02-01T07:35:53.644Z"
   },
   {
    "duration": 38,
    "start_time": "2023-02-01T07:35:53.669Z"
   },
   {
    "duration": 17,
    "start_time": "2023-02-01T07:35:53.709Z"
   },
   {
    "duration": 26,
    "start_time": "2023-02-01T07:35:53.728Z"
   },
   {
    "duration": 40,
    "start_time": "2023-02-01T07:35:53.757Z"
   },
   {
    "duration": 20,
    "start_time": "2023-02-01T07:35:53.801Z"
   },
   {
    "duration": 39,
    "start_time": "2023-02-01T07:35:53.823Z"
   },
   {
    "duration": 38,
    "start_time": "2023-02-01T07:35:53.864Z"
   },
   {
    "duration": 59,
    "start_time": "2023-02-01T07:35:53.905Z"
   },
   {
    "duration": 76,
    "start_time": "2023-02-01T07:35:53.965Z"
   },
   {
    "duration": 15,
    "start_time": "2023-02-01T07:35:54.043Z"
   },
   {
    "duration": 37,
    "start_time": "2023-02-01T07:35:54.059Z"
   },
   {
    "duration": 39,
    "start_time": "2023-02-01T07:35:54.098Z"
   },
   {
    "duration": 32,
    "start_time": "2023-02-01T07:35:54.140Z"
   },
   {
    "duration": 24,
    "start_time": "2023-02-01T07:35:54.174Z"
   },
   {
    "duration": 30,
    "start_time": "2023-02-01T07:35:54.200Z"
   },
   {
    "duration": 64,
    "start_time": "2023-02-01T07:35:54.232Z"
   },
   {
    "duration": 40,
    "start_time": "2023-02-01T07:35:54.303Z"
   },
   {
    "duration": 24,
    "start_time": "2023-02-01T07:35:54.345Z"
   },
   {
    "duration": 222,
    "start_time": "2023-02-01T07:35:54.371Z"
   },
   {
    "duration": 14,
    "start_time": "2023-02-01T07:35:54.595Z"
   },
   {
    "duration": 324,
    "start_time": "2023-02-01T07:35:54.610Z"
   },
   {
    "duration": 3,
    "start_time": "2023-02-01T07:35:54.936Z"
   },
   {
    "duration": 119,
    "start_time": "2023-02-01T08:55:46.550Z"
   },
   {
    "duration": 335,
    "start_time": "2023-02-01T08:56:52.938Z"
   },
   {
    "duration": 276,
    "start_time": "2023-02-01T08:57:31.548Z"
   },
   {
    "duration": 367,
    "start_time": "2023-02-01T08:57:50.496Z"
   },
   {
    "duration": 21,
    "start_time": "2023-02-01T08:59:08.788Z"
   },
   {
    "duration": 6,
    "start_time": "2023-02-01T08:59:55.734Z"
   },
   {
    "duration": 5,
    "start_time": "2023-02-01T09:02:39.821Z"
   },
   {
    "duration": 341,
    "start_time": "2023-02-01T09:02:45.730Z"
   },
   {
    "duration": 224,
    "start_time": "2023-02-01T09:03:29.872Z"
   },
   {
    "duration": 365,
    "start_time": "2023-02-01T09:05:00.538Z"
   },
   {
    "duration": 333,
    "start_time": "2023-02-01T09:05:49.802Z"
   },
   {
    "duration": 307,
    "start_time": "2023-02-01T09:06:26.380Z"
   },
   {
    "duration": 314,
    "start_time": "2023-02-01T09:08:59.169Z"
   },
   {
    "duration": 352,
    "start_time": "2023-02-01T09:11:59.548Z"
   },
   {
    "duration": 330,
    "start_time": "2023-02-01T09:12:34.049Z"
   },
   {
    "duration": 47,
    "start_time": "2023-02-01T09:13:46.462Z"
   },
   {
    "duration": 286,
    "start_time": "2023-02-01T09:13:49.853Z"
   },
   {
    "duration": 77,
    "start_time": "2023-02-01T09:36:29.784Z"
   },
   {
    "duration": 1227,
    "start_time": "2023-02-01T09:36:41.655Z"
   },
   {
    "duration": 23,
    "start_time": "2023-02-01T09:36:42.884Z"
   },
   {
    "duration": 38,
    "start_time": "2023-02-01T09:36:42.909Z"
   },
   {
    "duration": 7,
    "start_time": "2023-02-01T09:36:42.950Z"
   },
   {
    "duration": 22,
    "start_time": "2023-02-01T09:36:42.960Z"
   },
   {
    "duration": 49,
    "start_time": "2023-02-01T09:36:42.985Z"
   },
   {
    "duration": 2,
    "start_time": "2023-02-01T09:36:43.037Z"
   },
   {
    "duration": 18,
    "start_time": "2023-02-01T09:36:43.041Z"
   },
   {
    "duration": 15,
    "start_time": "2023-02-01T09:36:43.061Z"
   },
   {
    "duration": 19,
    "start_time": "2023-02-01T09:36:43.077Z"
   },
   {
    "duration": 38,
    "start_time": "2023-02-01T09:36:43.098Z"
   },
   {
    "duration": 10,
    "start_time": "2023-02-01T09:36:43.138Z"
   },
   {
    "duration": 18,
    "start_time": "2023-02-01T09:36:43.151Z"
   },
   {
    "duration": 67,
    "start_time": "2023-02-01T09:36:43.172Z"
   },
   {
    "duration": 16,
    "start_time": "2023-02-01T09:36:43.241Z"
   },
   {
    "duration": 32,
    "start_time": "2023-02-01T09:36:43.259Z"
   },
   {
    "duration": 12,
    "start_time": "2023-02-01T09:36:43.292Z"
   },
   {
    "duration": 36,
    "start_time": "2023-02-01T09:36:43.308Z"
   },
   {
    "duration": 10,
    "start_time": "2023-02-01T09:36:43.347Z"
   },
   {
    "duration": 12,
    "start_time": "2023-02-01T09:36:43.359Z"
   },
   {
    "duration": 18,
    "start_time": "2023-02-01T09:36:43.373Z"
   },
   {
    "duration": 28,
    "start_time": "2023-02-01T09:36:43.393Z"
   },
   {
    "duration": 30,
    "start_time": "2023-02-01T09:36:43.423Z"
   },
   {
    "duration": 245,
    "start_time": "2023-02-01T09:36:43.455Z"
   },
   {
    "duration": 11,
    "start_time": "2023-02-01T09:36:43.702Z"
   },
   {
    "duration": 363,
    "start_time": "2023-02-01T09:36:43.715Z"
   },
   {
    "duration": 288,
    "start_time": "2023-02-01T09:36:44.080Z"
   },
   {
    "duration": 58,
    "start_time": "2023-02-01T09:36:44.370Z"
   },
   {
    "duration": 4,
    "start_time": "2023-02-01T09:36:44.431Z"
   },
   {
    "duration": 40,
    "start_time": "2023-02-01T10:04:01.923Z"
   },
   {
    "duration": 37,
    "start_time": "2023-02-01T10:04:12.376Z"
   },
   {
    "duration": 177,
    "start_time": "2023-02-01T10:06:35.833Z"
   },
   {
    "duration": 107,
    "start_time": "2023-02-01T10:19:57.597Z"
   },
   {
    "duration": 13,
    "start_time": "2023-02-01T10:20:32.090Z"
   },
   {
    "duration": 15,
    "start_time": "2023-02-01T10:24:16.694Z"
   },
   {
    "duration": 14,
    "start_time": "2023-02-01T10:24:31.641Z"
   },
   {
    "duration": 18,
    "start_time": "2023-02-01T10:24:46.401Z"
   },
   {
    "duration": 17,
    "start_time": "2023-02-01T10:25:54.609Z"
   },
   {
    "duration": 52,
    "start_time": "2023-02-01T10:29:41.638Z"
   },
   {
    "duration": 53,
    "start_time": "2023-02-01T10:31:23.197Z"
   },
   {
    "duration": 1498,
    "start_time": "2023-02-01T10:31:37.323Z"
   },
   {
    "duration": 28,
    "start_time": "2023-02-01T10:31:38.823Z"
   },
   {
    "duration": 31,
    "start_time": "2023-02-01T10:31:38.853Z"
   },
   {
    "duration": 15,
    "start_time": "2023-02-01T10:31:38.887Z"
   },
   {
    "duration": 45,
    "start_time": "2023-02-01T10:31:38.905Z"
   },
   {
    "duration": 36,
    "start_time": "2023-02-01T10:31:38.952Z"
   },
   {
    "duration": 17,
    "start_time": "2023-02-01T10:31:38.990Z"
   },
   {
    "duration": 51,
    "start_time": "2023-02-01T10:31:39.009Z"
   },
   {
    "duration": 26,
    "start_time": "2023-02-01T10:31:39.062Z"
   },
   {
    "duration": 56,
    "start_time": "2023-02-01T10:31:39.090Z"
   },
   {
    "duration": 23,
    "start_time": "2023-02-01T10:31:39.148Z"
   },
   {
    "duration": 41,
    "start_time": "2023-02-01T10:31:39.174Z"
   },
   {
    "duration": 59,
    "start_time": "2023-02-01T10:31:39.217Z"
   },
   {
    "duration": 73,
    "start_time": "2023-02-01T10:31:39.281Z"
   },
   {
    "duration": 19,
    "start_time": "2023-02-01T10:31:39.356Z"
   },
   {
    "duration": 39,
    "start_time": "2023-02-01T10:31:39.377Z"
   },
   {
    "duration": 42,
    "start_time": "2023-02-01T10:31:39.422Z"
   },
   {
    "duration": 27,
    "start_time": "2023-02-01T10:31:39.468Z"
   },
   {
    "duration": 36,
    "start_time": "2023-02-01T10:31:39.498Z"
   },
   {
    "duration": 14,
    "start_time": "2023-02-01T10:31:39.536Z"
   },
   {
    "duration": 52,
    "start_time": "2023-02-01T10:31:39.552Z"
   },
   {
    "duration": 50,
    "start_time": "2023-02-01T10:31:39.611Z"
   },
   {
    "duration": 56,
    "start_time": "2023-02-01T10:31:39.663Z"
   },
   {
    "duration": 323,
    "start_time": "2023-02-01T10:31:39.729Z"
   },
   {
    "duration": 11,
    "start_time": "2023-02-01T10:31:40.054Z"
   },
   {
    "duration": 399,
    "start_time": "2023-02-01T10:31:40.067Z"
   },
   {
    "duration": 273,
    "start_time": "2023-02-01T10:31:40.469Z"
   },
   {
    "duration": 67,
    "start_time": "2023-02-01T10:31:40.746Z"
   },
   {
    "duration": 179,
    "start_time": "2023-02-01T10:31:40.816Z"
   },
   {
    "duration": 0,
    "start_time": "2023-02-01T10:31:41.002Z"
   },
   {
    "duration": 59,
    "start_time": "2023-02-01T10:32:16.504Z"
   },
   {
    "duration": 270,
    "start_time": "2023-02-01T10:43:04.937Z"
   },
   {
    "duration": 287,
    "start_time": "2023-02-01T10:56:06.855Z"
   },
   {
    "duration": 2,
    "start_time": "2023-02-01T10:58:15.653Z"
   },
   {
    "duration": 215,
    "start_time": "2023-02-01T10:58:20.110Z"
   },
   {
    "duration": 325,
    "start_time": "2023-02-01T11:01:20.130Z"
   },
   {
    "duration": 393,
    "start_time": "2023-02-01T11:01:44.362Z"
   },
   {
    "duration": 244,
    "start_time": "2023-02-01T11:01:53.755Z"
   },
   {
    "duration": 340,
    "start_time": "2023-02-01T11:05:55.053Z"
   },
   {
    "duration": 1330,
    "start_time": "2023-02-02T06:26:11.381Z"
   },
   {
    "duration": 19,
    "start_time": "2023-02-02T06:26:12.713Z"
   },
   {
    "duration": 56,
    "start_time": "2023-02-02T06:26:12.733Z"
   },
   {
    "duration": 33,
    "start_time": "2023-02-02T06:26:12.792Z"
   },
   {
    "duration": 39,
    "start_time": "2023-02-02T06:26:12.826Z"
   },
   {
    "duration": 66,
    "start_time": "2023-02-02T06:26:12.866Z"
   },
   {
    "duration": 45,
    "start_time": "2023-02-02T06:26:12.933Z"
   },
   {
    "duration": 34,
    "start_time": "2023-02-02T06:26:12.980Z"
   },
   {
    "duration": 37,
    "start_time": "2023-02-02T06:26:13.015Z"
   },
   {
    "duration": 48,
    "start_time": "2023-02-02T06:26:13.054Z"
   },
   {
    "duration": 29,
    "start_time": "2023-02-02T06:26:13.103Z"
   },
   {
    "duration": 47,
    "start_time": "2023-02-02T06:26:13.133Z"
   },
   {
    "duration": 44,
    "start_time": "2023-02-02T06:26:13.181Z"
   },
   {
    "duration": 76,
    "start_time": "2023-02-02T06:26:13.226Z"
   },
   {
    "duration": 18,
    "start_time": "2023-02-02T06:26:13.303Z"
   },
   {
    "duration": 46,
    "start_time": "2023-02-02T06:26:13.323Z"
   },
   {
    "duration": 26,
    "start_time": "2023-02-02T06:26:13.371Z"
   },
   {
    "duration": 44,
    "start_time": "2023-02-02T06:26:13.399Z"
   },
   {
    "duration": 61,
    "start_time": "2023-02-02T06:26:13.445Z"
   },
   {
    "duration": 27,
    "start_time": "2023-02-02T06:26:13.508Z"
   },
   {
    "duration": 51,
    "start_time": "2023-02-02T06:26:13.537Z"
   },
   {
    "duration": 44,
    "start_time": "2023-02-02T06:26:13.591Z"
   },
   {
    "duration": 31,
    "start_time": "2023-02-02T06:26:13.637Z"
   },
   {
    "duration": 205,
    "start_time": "2023-02-02T06:26:13.669Z"
   },
   {
    "duration": 8,
    "start_time": "2023-02-02T06:26:13.875Z"
   },
   {
    "duration": 291,
    "start_time": "2023-02-02T06:26:13.885Z"
   },
   {
    "duration": 206,
    "start_time": "2023-02-02T06:26:14.178Z"
   },
   {
    "duration": 26,
    "start_time": "2023-02-02T06:26:14.386Z"
   },
   {
    "duration": 207,
    "start_time": "2023-02-02T06:26:14.413Z"
   },
   {
    "duration": 3,
    "start_time": "2023-02-02T06:26:14.621Z"
   },
   {
    "duration": 194,
    "start_time": "2023-02-02T06:26:14.625Z"
   },
   {
    "duration": 44,
    "start_time": "2023-02-02T06:26:14.820Z"
   },
   {
    "duration": 0,
    "start_time": "2023-02-02T06:26:14.865Z"
   },
   {
    "duration": 110,
    "start_time": "2023-02-02T06:26:24.400Z"
   },
   {
    "duration": 183,
    "start_time": "2023-02-02T06:34:28.656Z"
   },
   {
    "duration": 246,
    "start_time": "2023-02-02T06:35:56.568Z"
   },
   {
    "duration": 225,
    "start_time": "2023-02-02T07:28:12.271Z"
   },
   {
    "duration": 210,
    "start_time": "2023-02-02T07:29:22.632Z"
   },
   {
    "duration": 46,
    "start_time": "2023-02-02T07:30:36.596Z"
   },
   {
    "duration": 127,
    "start_time": "2023-02-02T07:30:48.840Z"
   },
   {
    "duration": 212,
    "start_time": "2023-02-02T07:31:13.059Z"
   },
   {
    "duration": 224,
    "start_time": "2023-02-02T07:31:42.643Z"
   },
   {
    "duration": 42,
    "start_time": "2023-02-02T07:31:55.983Z"
   },
   {
    "duration": 215,
    "start_time": "2023-02-02T07:32:07.018Z"
   },
   {
    "duration": 219,
    "start_time": "2023-02-02T07:32:40.179Z"
   },
   {
    "duration": 213,
    "start_time": "2023-02-02T07:33:38.159Z"
   },
   {
    "duration": 181,
    "start_time": "2023-02-02T07:36:38.079Z"
   },
   {
    "duration": 248,
    "start_time": "2023-02-02T07:39:27.644Z"
   },
   {
    "duration": 203,
    "start_time": "2023-02-02T07:39:42.241Z"
   },
   {
    "duration": 28,
    "start_time": "2023-02-02T08:33:46.940Z"
   },
   {
    "duration": 10,
    "start_time": "2023-02-02T08:34:17.064Z"
   },
   {
    "duration": 17,
    "start_time": "2023-02-02T08:34:42.450Z"
   },
   {
    "duration": 11,
    "start_time": "2023-02-02T08:34:45.029Z"
   },
   {
    "duration": 16,
    "start_time": "2023-02-02T08:35:02.593Z"
   },
   {
    "duration": 14,
    "start_time": "2023-02-02T08:35:38.485Z"
   },
   {
    "duration": 1132,
    "start_time": "2023-02-02T08:44:32.530Z"
   },
   {
    "duration": 17,
    "start_time": "2023-02-02T08:44:33.663Z"
   },
   {
    "duration": 15,
    "start_time": "2023-02-02T08:44:33.681Z"
   },
   {
    "duration": 3,
    "start_time": "2023-02-02T08:44:33.698Z"
   },
   {
    "duration": 9,
    "start_time": "2023-02-02T08:44:33.703Z"
   },
   {
    "duration": 24,
    "start_time": "2023-02-02T08:44:33.713Z"
   },
   {
    "duration": 2,
    "start_time": "2023-02-02T08:44:33.738Z"
   },
   {
    "duration": 10,
    "start_time": "2023-02-02T08:44:33.742Z"
   },
   {
    "duration": 6,
    "start_time": "2023-02-02T08:44:33.753Z"
   },
   {
    "duration": 7,
    "start_time": "2023-02-02T08:44:33.761Z"
   },
   {
    "duration": 25,
    "start_time": "2023-02-02T08:44:33.769Z"
   },
   {
    "duration": 5,
    "start_time": "2023-02-02T08:44:33.796Z"
   },
   {
    "duration": 18,
    "start_time": "2023-02-02T08:44:33.803Z"
   },
   {
    "duration": 49,
    "start_time": "2023-02-02T08:44:33.822Z"
   },
   {
    "duration": 11,
    "start_time": "2023-02-02T08:44:33.873Z"
   },
   {
    "duration": 36,
    "start_time": "2023-02-02T08:44:33.885Z"
   },
   {
    "duration": 14,
    "start_time": "2023-02-02T08:44:33.922Z"
   },
   {
    "duration": 18,
    "start_time": "2023-02-02T08:44:33.937Z"
   },
   {
    "duration": 16,
    "start_time": "2023-02-02T08:44:33.957Z"
   },
   {
    "duration": 17,
    "start_time": "2023-02-02T08:44:33.975Z"
   },
   {
    "duration": 7,
    "start_time": "2023-02-02T08:44:33.994Z"
   },
   {
    "duration": 22,
    "start_time": "2023-02-02T08:44:34.003Z"
   },
   {
    "duration": 12,
    "start_time": "2023-02-02T08:44:34.027Z"
   },
   {
    "duration": 169,
    "start_time": "2023-02-02T08:44:34.041Z"
   },
   {
    "duration": 10,
    "start_time": "2023-02-02T08:44:34.211Z"
   },
   {
    "duration": 288,
    "start_time": "2023-02-02T08:44:34.222Z"
   },
   {
    "duration": 193,
    "start_time": "2023-02-02T08:44:34.512Z"
   },
   {
    "duration": 31,
    "start_time": "2023-02-02T08:44:34.708Z"
   },
   {
    "duration": 212,
    "start_time": "2023-02-02T08:44:34.741Z"
   },
   {
    "duration": 189,
    "start_time": "2023-02-02T08:44:34.954Z"
   },
   {
    "duration": 103,
    "start_time": "2023-02-02T08:44:35.144Z"
   },
   {
    "duration": 12,
    "start_time": "2023-02-02T08:47:57.420Z"
   },
   {
    "duration": 13,
    "start_time": "2023-02-02T08:48:28.859Z"
   },
   {
    "duration": 11,
    "start_time": "2023-02-02T08:48:49.758Z"
   },
   {
    "duration": 1115,
    "start_time": "2023-02-02T08:48:56.431Z"
   },
   {
    "duration": 15,
    "start_time": "2023-02-02T08:48:57.548Z"
   },
   {
    "duration": 18,
    "start_time": "2023-02-02T08:48:57.564Z"
   },
   {
    "duration": 14,
    "start_time": "2023-02-02T08:48:57.583Z"
   },
   {
    "duration": 16,
    "start_time": "2023-02-02T08:48:57.598Z"
   },
   {
    "duration": 32,
    "start_time": "2023-02-02T08:48:57.615Z"
   },
   {
    "duration": 14,
    "start_time": "2023-02-02T08:48:57.648Z"
   },
   {
    "duration": 32,
    "start_time": "2023-02-02T08:48:57.664Z"
   },
   {
    "duration": 34,
    "start_time": "2023-02-02T08:48:57.697Z"
   },
   {
    "duration": 26,
    "start_time": "2023-02-02T08:48:57.733Z"
   },
   {
    "duration": 33,
    "start_time": "2023-02-02T08:48:57.761Z"
   },
   {
    "duration": 15,
    "start_time": "2023-02-02T08:48:57.795Z"
   },
   {
    "duration": 43,
    "start_time": "2023-02-02T08:48:57.812Z"
   },
   {
    "duration": 52,
    "start_time": "2023-02-02T08:48:57.857Z"
   },
   {
    "duration": 12,
    "start_time": "2023-02-02T08:48:57.910Z"
   },
   {
    "duration": 32,
    "start_time": "2023-02-02T08:48:57.924Z"
   },
   {
    "duration": 17,
    "start_time": "2023-02-02T08:48:57.957Z"
   },
   {
    "duration": 28,
    "start_time": "2023-02-02T08:48:57.976Z"
   },
   {
    "duration": 30,
    "start_time": "2023-02-02T08:48:58.005Z"
   },
   {
    "duration": 23,
    "start_time": "2023-02-02T08:48:58.037Z"
   },
   {
    "duration": 28,
    "start_time": "2023-02-02T08:48:58.062Z"
   },
   {
    "duration": 34,
    "start_time": "2023-02-02T08:48:58.091Z"
   },
   {
    "duration": 33,
    "start_time": "2023-02-02T08:48:58.127Z"
   },
   {
    "duration": 184,
    "start_time": "2023-02-02T08:48:58.161Z"
   },
   {
    "duration": 11,
    "start_time": "2023-02-02T08:48:58.347Z"
   },
   {
    "duration": 286,
    "start_time": "2023-02-02T08:48:58.360Z"
   },
   {
    "duration": 191,
    "start_time": "2023-02-02T08:48:58.648Z"
   },
   {
    "duration": 24,
    "start_time": "2023-02-02T08:48:58.842Z"
   },
   {
    "duration": 228,
    "start_time": "2023-02-02T08:48:58.868Z"
   },
   {
    "duration": 178,
    "start_time": "2023-02-02T08:48:59.098Z"
   },
   {
    "duration": 96,
    "start_time": "2023-02-02T08:48:59.278Z"
   },
   {
    "duration": 14,
    "start_time": "2023-02-02T08:49:58.423Z"
   },
   {
    "duration": 125,
    "start_time": "2023-02-02T08:50:25.378Z"
   },
   {
    "duration": 188,
    "start_time": "2023-02-02T08:50:41.401Z"
   },
   {
    "duration": 137,
    "start_time": "2023-02-02T08:53:47.414Z"
   },
   {
    "duration": 148,
    "start_time": "2023-02-02T08:55:38.038Z"
   },
   {
    "duration": 141,
    "start_time": "2023-02-02T08:56:44.612Z"
   },
   {
    "duration": 47,
    "start_time": "2023-02-02T08:56:55.884Z"
   },
   {
    "duration": 146,
    "start_time": "2023-02-02T08:57:07.952Z"
   },
   {
    "duration": 142,
    "start_time": "2023-02-02T08:57:25.287Z"
   },
   {
    "duration": 133,
    "start_time": "2023-02-02T08:57:35.414Z"
   },
   {
    "duration": 172,
    "start_time": "2023-02-02T08:58:02.486Z"
   },
   {
    "duration": 134,
    "start_time": "2023-02-02T08:58:39.253Z"
   },
   {
    "duration": 4,
    "start_time": "2023-02-02T09:12:07.678Z"
   },
   {
    "duration": 5,
    "start_time": "2023-02-02T09:12:58.568Z"
   },
   {
    "duration": 4,
    "start_time": "2023-02-02T09:13:00.508Z"
   },
   {
    "duration": 5,
    "start_time": "2023-02-02T09:13:29.561Z"
   },
   {
    "duration": 5,
    "start_time": "2023-02-02T09:13:38.159Z"
   },
   {
    "duration": 5,
    "start_time": "2023-02-02T09:13:41.941Z"
   },
   {
    "duration": 6,
    "start_time": "2023-02-02T09:13:55.784Z"
   },
   {
    "duration": 5,
    "start_time": "2023-02-02T09:14:01.599Z"
   },
   {
    "duration": 48,
    "start_time": "2023-02-02T09:16:16.543Z"
   },
   {
    "duration": 1078,
    "start_time": "2023-02-02T09:16:23.070Z"
   },
   {
    "duration": 17,
    "start_time": "2023-02-02T09:16:24.149Z"
   },
   {
    "duration": 41,
    "start_time": "2023-02-02T09:16:24.167Z"
   },
   {
    "duration": 5,
    "start_time": "2023-02-02T09:16:24.210Z"
   },
   {
    "duration": 11,
    "start_time": "2023-02-02T09:16:24.216Z"
   },
   {
    "duration": 19,
    "start_time": "2023-02-02T09:16:24.229Z"
   },
   {
    "duration": 3,
    "start_time": "2023-02-02T09:16:24.249Z"
   },
   {
    "duration": 11,
    "start_time": "2023-02-02T09:16:24.253Z"
   },
   {
    "duration": 10,
    "start_time": "2023-02-02T09:16:24.265Z"
   },
   {
    "duration": 30,
    "start_time": "2023-02-02T09:16:24.278Z"
   },
   {
    "duration": 19,
    "start_time": "2023-02-02T09:16:24.309Z"
   },
   {
    "duration": 18,
    "start_time": "2023-02-02T09:16:24.330Z"
   },
   {
    "duration": 19,
    "start_time": "2023-02-02T09:16:24.350Z"
   },
   {
    "duration": 46,
    "start_time": "2023-02-02T09:16:24.371Z"
   },
   {
    "duration": 17,
    "start_time": "2023-02-02T09:16:24.419Z"
   },
   {
    "duration": 18,
    "start_time": "2023-02-02T09:16:24.438Z"
   },
   {
    "duration": 20,
    "start_time": "2023-02-02T09:16:24.458Z"
   },
   {
    "duration": 14,
    "start_time": "2023-02-02T09:16:24.480Z"
   },
   {
    "duration": 21,
    "start_time": "2023-02-02T09:16:24.496Z"
   },
   {
    "duration": 16,
    "start_time": "2023-02-02T09:16:24.518Z"
   },
   {
    "duration": 9,
    "start_time": "2023-02-02T09:16:24.535Z"
   },
   {
    "duration": 36,
    "start_time": "2023-02-02T09:16:24.545Z"
   },
   {
    "duration": 12,
    "start_time": "2023-02-02T09:16:24.583Z"
   },
   {
    "duration": 179,
    "start_time": "2023-02-02T09:16:24.597Z"
   },
   {
    "duration": 9,
    "start_time": "2023-02-02T09:16:24.778Z"
   },
   {
    "duration": 277,
    "start_time": "2023-02-02T09:16:24.789Z"
   },
   {
    "duration": 194,
    "start_time": "2023-02-02T09:16:25.068Z"
   },
   {
    "duration": 27,
    "start_time": "2023-02-02T09:16:25.265Z"
   },
   {
    "duration": 235,
    "start_time": "2023-02-02T09:16:25.294Z"
   },
   {
    "duration": 193,
    "start_time": "2023-02-02T09:16:25.536Z"
   },
   {
    "duration": 138,
    "start_time": "2023-02-02T09:16:25.731Z"
   },
   {
    "duration": 218,
    "start_time": "2023-02-02T09:16:25.871Z"
   },
   {
    "duration": 5,
    "start_time": "2023-02-02T09:16:26.090Z"
   },
   {
    "duration": 10,
    "start_time": "2023-02-02T09:16:26.096Z"
   },
   {
    "duration": 44,
    "start_time": "2023-02-02T09:16:26.108Z"
   },
   {
    "duration": 114,
    "start_time": "2023-02-02T09:27:16.670Z"
   },
   {
    "duration": 116,
    "start_time": "2023-02-02T09:27:58.875Z"
   },
   {
    "duration": 5,
    "start_time": "2023-02-02T09:28:27.754Z"
   },
   {
    "duration": 4,
    "start_time": "2023-02-02T09:29:08.110Z"
   },
   {
    "duration": 120,
    "start_time": "2023-02-02T09:30:18.026Z"
   },
   {
    "duration": 130,
    "start_time": "2023-02-02T09:31:40.842Z"
   },
   {
    "duration": 5,
    "start_time": "2023-02-02T09:32:36.243Z"
   },
   {
    "duration": 4,
    "start_time": "2023-02-02T09:32:38.603Z"
   },
   {
    "duration": 54,
    "start_time": "2023-02-02T09:33:59.178Z"
   },
   {
    "duration": 1133,
    "start_time": "2023-02-02T09:34:14.649Z"
   },
   {
    "duration": 17,
    "start_time": "2023-02-02T09:34:15.784Z"
   },
   {
    "duration": 14,
    "start_time": "2023-02-02T09:34:15.802Z"
   },
   {
    "duration": 20,
    "start_time": "2023-02-02T09:34:15.819Z"
   },
   {
    "duration": 5,
    "start_time": "2023-02-02T09:34:15.841Z"
   },
   {
    "duration": 15,
    "start_time": "2023-02-02T09:34:15.847Z"
   },
   {
    "duration": 3,
    "start_time": "2023-02-02T09:34:15.863Z"
   },
   {
    "duration": 10,
    "start_time": "2023-02-02T09:34:15.867Z"
   },
   {
    "duration": 9,
    "start_time": "2023-02-02T09:34:15.878Z"
   },
   {
    "duration": 16,
    "start_time": "2023-02-02T09:34:15.891Z"
   },
   {
    "duration": 29,
    "start_time": "2023-02-02T09:34:15.909Z"
   },
   {
    "duration": 9,
    "start_time": "2023-02-02T09:34:15.940Z"
   },
   {
    "duration": 20,
    "start_time": "2023-02-02T09:34:15.951Z"
   },
   {
    "duration": 53,
    "start_time": "2023-02-02T09:34:15.972Z"
   },
   {
    "duration": 13,
    "start_time": "2023-02-02T09:34:16.036Z"
   },
   {
    "duration": 13,
    "start_time": "2023-02-02T09:34:16.051Z"
   },
   {
    "duration": 8,
    "start_time": "2023-02-02T09:34:16.065Z"
   },
   {
    "duration": 10,
    "start_time": "2023-02-02T09:34:16.075Z"
   },
   {
    "duration": 7,
    "start_time": "2023-02-02T09:34:16.087Z"
   },
   {
    "duration": 8,
    "start_time": "2023-02-02T09:34:16.095Z"
   },
   {
    "duration": 37,
    "start_time": "2023-02-02T09:34:16.105Z"
   },
   {
    "duration": 14,
    "start_time": "2023-02-02T09:34:16.144Z"
   },
   {
    "duration": 12,
    "start_time": "2023-02-02T09:34:16.160Z"
   },
   {
    "duration": 200,
    "start_time": "2023-02-02T09:34:16.173Z"
   },
   {
    "duration": 9,
    "start_time": "2023-02-02T09:34:16.374Z"
   },
   {
    "duration": 292,
    "start_time": "2023-02-02T09:34:16.385Z"
   },
   {
    "duration": 211,
    "start_time": "2023-02-02T09:34:16.678Z"
   },
   {
    "duration": 26,
    "start_time": "2023-02-02T09:34:16.892Z"
   },
   {
    "duration": 218,
    "start_time": "2023-02-02T09:34:16.919Z"
   },
   {
    "duration": 186,
    "start_time": "2023-02-02T09:34:17.138Z"
   },
   {
    "duration": 143,
    "start_time": "2023-02-02T09:34:17.325Z"
   },
   {
    "duration": 208,
    "start_time": "2023-02-02T09:34:17.469Z"
   },
   {
    "duration": 4,
    "start_time": "2023-02-02T09:34:17.678Z"
   },
   {
    "duration": 10,
    "start_time": "2023-02-02T09:34:17.684Z"
   },
   {
    "duration": 133,
    "start_time": "2023-02-02T09:34:17.696Z"
   },
   {
    "duration": 118,
    "start_time": "2023-02-02T09:34:17.831Z"
   },
   {
    "duration": 5,
    "start_time": "2023-02-02T09:34:17.950Z"
   },
   {
    "duration": 9,
    "start_time": "2023-02-02T09:34:17.956Z"
   },
   {
    "duration": 123,
    "start_time": "2023-02-02T09:34:17.966Z"
   },
   {
    "duration": 135,
    "start_time": "2023-02-02T09:34:18.090Z"
   },
   {
    "duration": 11,
    "start_time": "2023-02-02T09:34:18.227Z"
   },
   {
    "duration": 4,
    "start_time": "2023-02-02T09:34:18.239Z"
   },
   {
    "duration": 87,
    "start_time": "2023-02-02T09:49:21.359Z"
   },
   {
    "duration": 141,
    "start_time": "2023-02-02T09:49:51.637Z"
   },
   {
    "duration": 131,
    "start_time": "2023-02-02T09:50:18.074Z"
   },
   {
    "duration": 136,
    "start_time": "2023-02-02T09:50:50.555Z"
   },
   {
    "duration": 6,
    "start_time": "2023-02-02T09:51:23.520Z"
   },
   {
    "duration": 294,
    "start_time": "2023-02-02T09:52:33.152Z"
   },
   {
    "duration": 142,
    "start_time": "2023-02-02T09:52:54.122Z"
   },
   {
    "duration": 148,
    "start_time": "2023-02-02T09:53:08.068Z"
   },
   {
    "duration": 131,
    "start_time": "2023-02-02T09:53:15.521Z"
   },
   {
    "duration": 201,
    "start_time": "2023-02-02T09:53:34.119Z"
   },
   {
    "duration": 198,
    "start_time": "2023-02-02T09:53:58.800Z"
   },
   {
    "duration": 57,
    "start_time": "2023-02-02T09:57:15.990Z"
   },
   {
    "duration": 1128,
    "start_time": "2023-02-02T09:57:28.376Z"
   },
   {
    "duration": 18,
    "start_time": "2023-02-02T09:57:29.506Z"
   },
   {
    "duration": 15,
    "start_time": "2023-02-02T09:57:29.526Z"
   },
   {
    "duration": 6,
    "start_time": "2023-02-02T09:57:29.544Z"
   },
   {
    "duration": 6,
    "start_time": "2023-02-02T09:57:29.551Z"
   },
   {
    "duration": 19,
    "start_time": "2023-02-02T09:57:29.559Z"
   },
   {
    "duration": 2,
    "start_time": "2023-02-02T09:57:29.580Z"
   },
   {
    "duration": 13,
    "start_time": "2023-02-02T09:57:29.584Z"
   },
   {
    "duration": 14,
    "start_time": "2023-02-02T09:57:29.598Z"
   },
   {
    "duration": 23,
    "start_time": "2023-02-02T09:57:29.616Z"
   },
   {
    "duration": 20,
    "start_time": "2023-02-02T09:57:29.640Z"
   },
   {
    "duration": 13,
    "start_time": "2023-02-02T09:57:29.661Z"
   },
   {
    "duration": 21,
    "start_time": "2023-02-02T09:57:29.676Z"
   },
   {
    "duration": 52,
    "start_time": "2023-02-02T09:57:29.698Z"
   },
   {
    "duration": 13,
    "start_time": "2023-02-02T09:57:29.752Z"
   },
   {
    "duration": 21,
    "start_time": "2023-02-02T09:57:29.767Z"
   },
   {
    "duration": 15,
    "start_time": "2023-02-02T09:57:29.789Z"
   },
   {
    "duration": 14,
    "start_time": "2023-02-02T09:57:29.806Z"
   },
   {
    "duration": 20,
    "start_time": "2023-02-02T09:57:29.821Z"
   },
   {
    "duration": 9,
    "start_time": "2023-02-02T09:57:29.843Z"
   },
   {
    "duration": 8,
    "start_time": "2023-02-02T09:57:29.854Z"
   },
   {
    "duration": 18,
    "start_time": "2023-02-02T09:57:29.864Z"
   },
   {
    "duration": 14,
    "start_time": "2023-02-02T09:57:29.884Z"
   },
   {
    "duration": 229,
    "start_time": "2023-02-02T09:57:29.899Z"
   },
   {
    "duration": 17,
    "start_time": "2023-02-02T09:57:30.129Z"
   },
   {
    "duration": 336,
    "start_time": "2023-02-02T09:57:30.147Z"
   },
   {
    "duration": 204,
    "start_time": "2023-02-02T09:57:30.485Z"
   },
   {
    "duration": 27,
    "start_time": "2023-02-02T09:57:30.692Z"
   },
   {
    "duration": 242,
    "start_time": "2023-02-02T09:57:30.721Z"
   },
   {
    "duration": 194,
    "start_time": "2023-02-02T09:57:30.964Z"
   },
   {
    "duration": 145,
    "start_time": "2023-02-02T09:57:31.160Z"
   },
   {
    "duration": 221,
    "start_time": "2023-02-02T09:57:31.307Z"
   },
   {
    "duration": 7,
    "start_time": "2023-02-02T09:57:31.530Z"
   },
   {
    "duration": 21,
    "start_time": "2023-02-02T09:57:31.539Z"
   },
   {
    "duration": 148,
    "start_time": "2023-02-02T09:57:31.562Z"
   },
   {
    "duration": 122,
    "start_time": "2023-02-02T09:57:31.712Z"
   },
   {
    "duration": 5,
    "start_time": "2023-02-02T09:57:31.837Z"
   },
   {
    "duration": 37,
    "start_time": "2023-02-02T09:57:31.843Z"
   },
   {
    "duration": 148,
    "start_time": "2023-02-02T09:57:31.882Z"
   },
   {
    "duration": 139,
    "start_time": "2023-02-02T09:57:32.032Z"
   },
   {
    "duration": 5,
    "start_time": "2023-02-02T09:57:32.172Z"
   },
   {
    "duration": 29,
    "start_time": "2023-02-02T09:57:32.178Z"
   },
   {
    "duration": 157,
    "start_time": "2023-02-02T09:57:32.208Z"
   },
   {
    "duration": 6,
    "start_time": "2023-02-02T09:57:32.367Z"
   },
   {
    "duration": 89,
    "start_time": "2023-02-02T09:59:19.294Z"
   },
   {
    "duration": 14,
    "start_time": "2023-02-02T10:00:46.179Z"
   },
   {
    "duration": 13,
    "start_time": "2023-02-02T10:01:15.518Z"
   },
   {
    "duration": 13,
    "start_time": "2023-02-02T10:02:19.988Z"
   },
   {
    "duration": 753,
    "start_time": "2023-02-02T10:03:26.591Z"
   },
   {
    "duration": 171,
    "start_time": "2023-02-02T10:03:49.319Z"
   },
   {
    "duration": 158,
    "start_time": "2023-02-02T10:05:54.675Z"
   },
   {
    "duration": 158,
    "start_time": "2023-02-02T10:06:03.225Z"
   },
   {
    "duration": 164,
    "start_time": "2023-02-02T10:06:49.572Z"
   },
   {
    "duration": 13,
    "start_time": "2023-02-02T10:07:12.738Z"
   },
   {
    "duration": 49,
    "start_time": "2023-02-02T10:08:49.584Z"
   },
   {
    "duration": 48,
    "start_time": "2023-02-02T15:44:11.408Z"
   },
   {
    "duration": 1447,
    "start_time": "2023-02-02T15:44:31.120Z"
   },
   {
    "duration": 20,
    "start_time": "2023-02-02T15:44:32.569Z"
   },
   {
    "duration": 14,
    "start_time": "2023-02-02T15:44:32.591Z"
   },
   {
    "duration": 5,
    "start_time": "2023-02-02T15:44:32.607Z"
   },
   {
    "duration": 13,
    "start_time": "2023-02-02T15:44:32.614Z"
   },
   {
    "duration": 14,
    "start_time": "2023-02-02T15:44:32.629Z"
   },
   {
    "duration": 2,
    "start_time": "2023-02-02T15:44:32.645Z"
   },
   {
    "duration": 16,
    "start_time": "2023-02-02T15:44:32.667Z"
   },
   {
    "duration": 6,
    "start_time": "2023-02-02T15:44:32.685Z"
   },
   {
    "duration": 9,
    "start_time": "2023-02-02T15:44:32.693Z"
   },
   {
    "duration": 8,
    "start_time": "2023-02-02T15:44:32.703Z"
   },
   {
    "duration": 5,
    "start_time": "2023-02-02T15:44:32.712Z"
   },
   {
    "duration": 14,
    "start_time": "2023-02-02T15:44:32.718Z"
   },
   {
    "duration": 61,
    "start_time": "2023-02-02T15:44:32.734Z"
   },
   {
    "duration": 13,
    "start_time": "2023-02-02T15:44:32.797Z"
   },
   {
    "duration": 13,
    "start_time": "2023-02-02T15:44:32.812Z"
   },
   {
    "duration": 7,
    "start_time": "2023-02-02T15:44:32.827Z"
   },
   {
    "duration": 12,
    "start_time": "2023-02-02T15:44:32.836Z"
   },
   {
    "duration": 8,
    "start_time": "2023-02-02T15:44:32.867Z"
   },
   {
    "duration": 9,
    "start_time": "2023-02-02T15:44:32.877Z"
   },
   {
    "duration": 8,
    "start_time": "2023-02-02T15:44:32.888Z"
   },
   {
    "duration": 15,
    "start_time": "2023-02-02T15:44:32.897Z"
   },
   {
    "duration": 13,
    "start_time": "2023-02-02T15:44:32.913Z"
   },
   {
    "duration": 205,
    "start_time": "2023-02-02T15:44:32.927Z"
   },
   {
    "duration": 11,
    "start_time": "2023-02-02T15:44:33.134Z"
   },
   {
    "duration": 312,
    "start_time": "2023-02-02T15:44:33.147Z"
   },
   {
    "duration": 216,
    "start_time": "2023-02-02T15:44:33.461Z"
   },
   {
    "duration": 31,
    "start_time": "2023-02-02T15:44:33.680Z"
   },
   {
    "duration": 257,
    "start_time": "2023-02-02T15:44:33.713Z"
   },
   {
    "duration": 198,
    "start_time": "2023-02-02T15:44:33.972Z"
   },
   {
    "duration": 148,
    "start_time": "2023-02-02T15:44:34.171Z"
   },
   {
    "duration": 211,
    "start_time": "2023-02-02T15:44:34.321Z"
   },
   {
    "duration": 5,
    "start_time": "2023-02-02T15:44:34.533Z"
   },
   {
    "duration": 7,
    "start_time": "2023-02-02T15:44:34.539Z"
   },
   {
    "duration": 140,
    "start_time": "2023-02-02T15:44:34.548Z"
   },
   {
    "duration": 144,
    "start_time": "2023-02-02T15:44:34.689Z"
   },
   {
    "duration": 6,
    "start_time": "2023-02-02T15:44:34.835Z"
   },
   {
    "duration": 27,
    "start_time": "2023-02-02T15:44:34.843Z"
   },
   {
    "duration": 169,
    "start_time": "2023-02-02T15:44:34.872Z"
   },
   {
    "duration": 153,
    "start_time": "2023-02-02T15:44:35.043Z"
   },
   {
    "duration": 6,
    "start_time": "2023-02-02T15:44:35.198Z"
   },
   {
    "duration": 16,
    "start_time": "2023-02-02T15:44:35.206Z"
   },
   {
    "duration": 155,
    "start_time": "2023-02-02T15:44:35.225Z"
   },
   {
    "duration": 6,
    "start_time": "2023-02-02T15:44:35.382Z"
   },
   {
    "duration": 33,
    "start_time": "2023-02-02T15:44:35.390Z"
   },
   {
    "duration": 13,
    "start_time": "2023-02-02T15:44:35.425Z"
   },
   {
    "duration": 100,
    "start_time": "2023-02-02T15:49:22.186Z"
   },
   {
    "duration": 9,
    "start_time": "2023-02-02T15:50:10.823Z"
   },
   {
    "duration": 10,
    "start_time": "2023-02-02T15:50:15.704Z"
   },
   {
    "duration": 11,
    "start_time": "2023-02-02T15:50:19.010Z"
   },
   {
    "duration": 19,
    "start_time": "2023-02-02T15:50:33.294Z"
   },
   {
    "duration": 73,
    "start_time": "2023-02-02T15:51:35.781Z"
   },
   {
    "duration": 163,
    "start_time": "2023-02-02T15:51:55.638Z"
   },
   {
    "duration": 26,
    "start_time": "2023-02-02T15:54:14.604Z"
   },
   {
    "duration": 86,
    "start_time": "2023-02-02T16:00:10.428Z"
   },
   {
    "duration": 10,
    "start_time": "2023-02-02T16:01:00.665Z"
   },
   {
    "duration": 10,
    "start_time": "2023-02-02T16:01:04.257Z"
   },
   {
    "duration": 15,
    "start_time": "2023-02-02T16:01:20.075Z"
   },
   {
    "duration": 17,
    "start_time": "2023-02-02T16:01:23.991Z"
   },
   {
    "duration": 16,
    "start_time": "2023-02-02T16:02:23.288Z"
   },
   {
    "duration": 72,
    "start_time": "2023-02-02T16:03:10.057Z"
   },
   {
    "duration": 16,
    "start_time": "2023-02-02T16:03:17.791Z"
   },
   {
    "duration": 19,
    "start_time": "2023-02-02T16:03:32.981Z"
   },
   {
    "duration": 21,
    "start_time": "2023-02-02T16:05:55.056Z"
   },
   {
    "duration": 17,
    "start_time": "2023-02-02T16:06:07.731Z"
   },
   {
    "duration": 17,
    "start_time": "2023-02-02T16:19:45.521Z"
   },
   {
    "duration": 16,
    "start_time": "2023-02-02T16:22:50.152Z"
   },
   {
    "duration": 158,
    "start_time": "2023-02-02T16:24:27.417Z"
   },
   {
    "duration": 3,
    "start_time": "2023-02-02T16:27:26.566Z"
   },
   {
    "duration": 85,
    "start_time": "2023-02-02T16:33:14.679Z"
   },
   {
    "duration": 68,
    "start_time": "2023-02-02T16:33:29.431Z"
   },
   {
    "duration": 1185,
    "start_time": "2023-02-02T16:33:51.666Z"
   },
   {
    "duration": 218,
    "start_time": "2023-02-02T16:34:12.406Z"
   },
   {
    "duration": 18,
    "start_time": "2023-02-02T16:34:30.462Z"
   },
   {
    "duration": 10,
    "start_time": "2023-02-02T16:34:44.053Z"
   },
   {
    "duration": 22,
    "start_time": "2023-02-02T16:34:55.337Z"
   },
   {
    "duration": 19,
    "start_time": "2023-02-02T16:39:03.957Z"
   },
   {
    "duration": 21,
    "start_time": "2023-02-02T16:41:00.810Z"
   },
   {
    "duration": 18,
    "start_time": "2023-02-02T16:42:49.917Z"
   },
   {
    "duration": 20,
    "start_time": "2023-02-02T16:43:50.175Z"
   },
   {
    "duration": 63,
    "start_time": "2023-02-02T16:45:23.515Z"
   },
   {
    "duration": 1299,
    "start_time": "2023-02-02T16:45:45.748Z"
   },
   {
    "duration": 18,
    "start_time": "2023-02-02T16:45:47.051Z"
   },
   {
    "duration": 15,
    "start_time": "2023-02-02T16:45:47.071Z"
   },
   {
    "duration": 5,
    "start_time": "2023-02-02T16:45:47.087Z"
   },
   {
    "duration": 5,
    "start_time": "2023-02-02T16:45:47.094Z"
   },
   {
    "duration": 17,
    "start_time": "2023-02-02T16:45:47.101Z"
   },
   {
    "duration": 3,
    "start_time": "2023-02-02T16:45:47.120Z"
   },
   {
    "duration": 11,
    "start_time": "2023-02-02T16:45:47.124Z"
   },
   {
    "duration": 7,
    "start_time": "2023-02-02T16:45:47.168Z"
   },
   {
    "duration": 10,
    "start_time": "2023-02-02T16:45:47.178Z"
   },
   {
    "duration": 9,
    "start_time": "2023-02-02T16:45:47.189Z"
   },
   {
    "duration": 8,
    "start_time": "2023-02-02T16:45:47.199Z"
   },
   {
    "duration": 15,
    "start_time": "2023-02-02T16:45:47.208Z"
   },
   {
    "duration": 60,
    "start_time": "2023-02-02T16:45:47.225Z"
   },
   {
    "duration": 12,
    "start_time": "2023-02-02T16:45:47.286Z"
   },
   {
    "duration": 14,
    "start_time": "2023-02-02T16:45:47.300Z"
   },
   {
    "duration": 11,
    "start_time": "2023-02-02T16:45:47.315Z"
   },
   {
    "duration": 11,
    "start_time": "2023-02-02T16:45:47.328Z"
   },
   {
    "duration": 30,
    "start_time": "2023-02-02T16:45:47.341Z"
   },
   {
    "duration": 11,
    "start_time": "2023-02-02T16:45:47.373Z"
   },
   {
    "duration": 13,
    "start_time": "2023-02-02T16:45:47.386Z"
   },
   {
    "duration": 22,
    "start_time": "2023-02-02T16:45:47.400Z"
   },
   {
    "duration": 13,
    "start_time": "2023-02-02T16:45:47.423Z"
   },
   {
    "duration": 194,
    "start_time": "2023-02-02T16:45:47.438Z"
   },
   {
    "duration": 11,
    "start_time": "2023-02-02T16:45:47.634Z"
   },
   {
    "duration": 302,
    "start_time": "2023-02-02T16:45:47.647Z"
   },
   {
    "duration": 220,
    "start_time": "2023-02-02T16:45:47.951Z"
   },
   {
    "duration": 29,
    "start_time": "2023-02-02T16:45:48.176Z"
   },
   {
    "duration": 260,
    "start_time": "2023-02-02T16:45:48.207Z"
   },
   {
    "duration": 198,
    "start_time": "2023-02-02T16:45:48.469Z"
   },
   {
    "duration": 153,
    "start_time": "2023-02-02T16:45:48.668Z"
   },
   {
    "duration": 238,
    "start_time": "2023-02-02T16:45:48.822Z"
   },
   {
    "duration": 7,
    "start_time": "2023-02-02T16:45:49.063Z"
   },
   {
    "duration": 22,
    "start_time": "2023-02-02T16:45:49.071Z"
   },
   {
    "duration": 139,
    "start_time": "2023-02-02T16:45:49.094Z"
   },
   {
    "duration": 129,
    "start_time": "2023-02-02T16:45:49.235Z"
   },
   {
    "duration": 5,
    "start_time": "2023-02-02T16:45:49.366Z"
   },
   {
    "duration": 6,
    "start_time": "2023-02-02T16:45:49.373Z"
   },
   {
    "duration": 129,
    "start_time": "2023-02-02T16:45:49.381Z"
   },
   {
    "duration": 157,
    "start_time": "2023-02-02T16:45:49.512Z"
   },
   {
    "duration": 5,
    "start_time": "2023-02-02T16:45:49.671Z"
   },
   {
    "duration": 14,
    "start_time": "2023-02-02T16:45:49.677Z"
   },
   {
    "duration": 161,
    "start_time": "2023-02-02T16:45:49.692Z"
   },
   {
    "duration": 14,
    "start_time": "2023-02-02T16:45:49.855Z"
   },
   {
    "duration": 14,
    "start_time": "2023-02-02T16:45:49.871Z"
   },
   {
    "duration": 19,
    "start_time": "2023-02-02T16:45:49.887Z"
   },
   {
    "duration": 4,
    "start_time": "2023-02-02T16:45:49.908Z"
   },
   {
    "duration": 29,
    "start_time": "2023-02-02T16:45:49.913Z"
   },
   {
    "duration": 3,
    "start_time": "2023-02-02T16:45:49.943Z"
   },
   {
    "duration": 1213,
    "start_time": "2023-02-02T16:51:36.981Z"
   },
   {
    "duration": 20,
    "start_time": "2023-02-02T16:51:38.196Z"
   },
   {
    "duration": 22,
    "start_time": "2023-02-02T16:51:38.218Z"
   },
   {
    "duration": 25,
    "start_time": "2023-02-02T16:51:38.243Z"
   },
   {
    "duration": 15,
    "start_time": "2023-02-02T16:51:38.270Z"
   },
   {
    "duration": 38,
    "start_time": "2023-02-02T16:51:38.287Z"
   },
   {
    "duration": 2,
    "start_time": "2023-02-02T16:51:38.327Z"
   },
   {
    "duration": 14,
    "start_time": "2023-02-02T16:51:38.331Z"
   },
   {
    "duration": 10,
    "start_time": "2023-02-02T16:51:38.347Z"
   },
   {
    "duration": 18,
    "start_time": "2023-02-02T16:51:38.361Z"
   },
   {
    "duration": 23,
    "start_time": "2023-02-02T16:51:38.381Z"
   },
   {
    "duration": 14,
    "start_time": "2023-02-02T16:51:38.406Z"
   },
   {
    "duration": 32,
    "start_time": "2023-02-02T16:51:38.422Z"
   },
   {
    "duration": 55,
    "start_time": "2023-02-02T16:51:38.456Z"
   },
   {
    "duration": 16,
    "start_time": "2023-02-02T16:51:38.513Z"
   },
   {
    "duration": 13,
    "start_time": "2023-02-02T16:51:38.531Z"
   },
   {
    "duration": 28,
    "start_time": "2023-02-02T16:51:38.546Z"
   },
   {
    "duration": 22,
    "start_time": "2023-02-02T16:51:38.576Z"
   },
   {
    "duration": 8,
    "start_time": "2023-02-02T16:51:38.600Z"
   },
   {
    "duration": 18,
    "start_time": "2023-02-02T16:51:38.610Z"
   },
   {
    "duration": 9,
    "start_time": "2023-02-02T16:51:38.630Z"
   },
   {
    "duration": 32,
    "start_time": "2023-02-02T16:51:38.641Z"
   },
   {
    "duration": 17,
    "start_time": "2023-02-02T16:51:38.675Z"
   },
   {
    "duration": 219,
    "start_time": "2023-02-02T16:51:38.694Z"
   },
   {
    "duration": 10,
    "start_time": "2023-02-02T16:51:38.915Z"
   },
   {
    "duration": 320,
    "start_time": "2023-02-02T16:51:38.927Z"
   },
   {
    "duration": 208,
    "start_time": "2023-02-02T16:51:39.248Z"
   },
   {
    "duration": 45,
    "start_time": "2023-02-02T16:51:39.460Z"
   },
   {
    "duration": 270,
    "start_time": "2023-02-02T16:51:39.507Z"
   },
   {
    "duration": 238,
    "start_time": "2023-02-02T16:51:39.779Z"
   },
   {
    "duration": 155,
    "start_time": "2023-02-02T16:51:40.019Z"
   },
   {
    "duration": 218,
    "start_time": "2023-02-02T16:51:40.176Z"
   },
   {
    "duration": 5,
    "start_time": "2023-02-02T16:51:40.395Z"
   },
   {
    "duration": 15,
    "start_time": "2023-02-02T16:51:40.402Z"
   },
   {
    "duration": 135,
    "start_time": "2023-02-02T16:51:40.419Z"
   },
   {
    "duration": 133,
    "start_time": "2023-02-02T16:51:40.555Z"
   },
   {
    "duration": 5,
    "start_time": "2023-02-02T16:51:40.690Z"
   },
   {
    "duration": 18,
    "start_time": "2023-02-02T16:51:40.697Z"
   },
   {
    "duration": 139,
    "start_time": "2023-02-02T16:51:40.717Z"
   },
   {
    "duration": 168,
    "start_time": "2023-02-02T16:51:40.858Z"
   },
   {
    "duration": 6,
    "start_time": "2023-02-02T16:51:41.028Z"
   },
   {
    "duration": 46,
    "start_time": "2023-02-02T16:51:41.036Z"
   },
   {
    "duration": 202,
    "start_time": "2023-02-02T16:51:41.084Z"
   },
   {
    "duration": 7,
    "start_time": "2023-02-02T16:51:41.288Z"
   },
   {
    "duration": 38,
    "start_time": "2023-02-02T16:51:41.297Z"
   },
   {
    "duration": 38,
    "start_time": "2023-02-02T16:51:41.339Z"
   },
   {
    "duration": 4,
    "start_time": "2023-02-02T16:51:41.379Z"
   },
   {
    "duration": 43,
    "start_time": "2023-02-02T16:51:41.385Z"
   },
   {
    "duration": 16,
    "start_time": "2023-02-02T16:51:41.430Z"
   },
   {
    "duration": 618,
    "start_time": "2023-02-02T19:12:34.428Z"
   },
   {
    "duration": 636,
    "start_time": "2023-02-02T19:13:12.674Z"
   },
   {
    "duration": 652,
    "start_time": "2023-02-02T19:14:04.292Z"
   },
   {
    "duration": 471,
    "start_time": "2023-02-02T19:15:03.194Z"
   },
   {
    "duration": 278,
    "start_time": "2023-02-02T19:21:20.566Z"
   },
   {
    "duration": 284,
    "start_time": "2023-02-02T19:23:09.358Z"
   },
   {
    "duration": 1294,
    "start_time": "2023-02-02T19:29:27.772Z"
   },
   {
    "duration": 22,
    "start_time": "2023-02-02T19:29:29.068Z"
   },
   {
    "duration": 31,
    "start_time": "2023-02-02T19:29:29.095Z"
   },
   {
    "duration": 5,
    "start_time": "2023-02-02T19:29:29.128Z"
   },
   {
    "duration": 7,
    "start_time": "2023-02-02T19:29:29.134Z"
   },
   {
    "duration": 30,
    "start_time": "2023-02-02T19:29:29.142Z"
   },
   {
    "duration": 6,
    "start_time": "2023-02-02T19:29:29.174Z"
   },
   {
    "duration": 18,
    "start_time": "2023-02-02T19:29:29.187Z"
   },
   {
    "duration": 10,
    "start_time": "2023-02-02T19:29:29.206Z"
   },
   {
    "duration": 14,
    "start_time": "2023-02-02T19:29:29.218Z"
   },
   {
    "duration": 17,
    "start_time": "2023-02-02T19:29:29.234Z"
   },
   {
    "duration": 9,
    "start_time": "2023-02-02T19:29:29.253Z"
   },
   {
    "duration": 47,
    "start_time": "2023-02-02T19:29:29.263Z"
   },
   {
    "duration": 67,
    "start_time": "2023-02-02T19:29:29.312Z"
   },
   {
    "duration": 18,
    "start_time": "2023-02-02T19:29:29.386Z"
   },
   {
    "duration": 16,
    "start_time": "2023-02-02T19:29:29.407Z"
   },
   {
    "duration": 12,
    "start_time": "2023-02-02T19:29:29.425Z"
   },
   {
    "duration": 11,
    "start_time": "2023-02-02T19:29:29.439Z"
   },
   {
    "duration": 23,
    "start_time": "2023-02-02T19:29:29.451Z"
   },
   {
    "duration": 32,
    "start_time": "2023-02-02T19:29:29.476Z"
   },
   {
    "duration": 16,
    "start_time": "2023-02-02T19:29:29.509Z"
   },
   {
    "duration": 19,
    "start_time": "2023-02-02T19:29:29.526Z"
   },
   {
    "duration": 14,
    "start_time": "2023-02-02T19:29:29.546Z"
   },
   {
    "duration": 236,
    "start_time": "2023-02-02T19:29:29.562Z"
   },
   {
    "duration": 10,
    "start_time": "2023-02-02T19:29:29.801Z"
   },
   {
    "duration": 392,
    "start_time": "2023-02-02T19:29:29.812Z"
   },
   {
    "duration": 243,
    "start_time": "2023-02-02T19:29:30.208Z"
   },
   {
    "duration": 46,
    "start_time": "2023-02-02T19:29:30.456Z"
   },
   {
    "duration": 331,
    "start_time": "2023-02-02T19:29:30.506Z"
   },
   {
    "duration": 288,
    "start_time": "2023-02-02T19:29:30.839Z"
   },
   {
    "duration": 183,
    "start_time": "2023-02-02T19:29:31.130Z"
   },
   {
    "duration": 253,
    "start_time": "2023-02-02T19:29:31.315Z"
   },
   {
    "duration": 6,
    "start_time": "2023-02-02T19:29:31.574Z"
   },
   {
    "duration": 61,
    "start_time": "2023-02-02T19:29:31.582Z"
   },
   {
    "duration": 194,
    "start_time": "2023-02-02T19:29:31.645Z"
   },
   {
    "duration": 154,
    "start_time": "2023-02-02T19:29:31.841Z"
   },
   {
    "duration": 6,
    "start_time": "2023-02-02T19:29:31.996Z"
   },
   {
    "duration": 37,
    "start_time": "2023-02-02T19:29:32.004Z"
   },
   {
    "duration": 192,
    "start_time": "2023-02-02T19:29:32.044Z"
   },
   {
    "duration": 179,
    "start_time": "2023-02-02T19:29:32.238Z"
   },
   {
    "duration": 6,
    "start_time": "2023-02-02T19:29:32.419Z"
   },
   {
    "duration": 34,
    "start_time": "2023-02-02T19:29:32.427Z"
   },
   {
    "duration": 208,
    "start_time": "2023-02-02T19:29:32.463Z"
   },
   {
    "duration": 9,
    "start_time": "2023-02-02T19:29:32.683Z"
   },
   {
    "duration": 30,
    "start_time": "2023-02-02T19:29:32.694Z"
   },
   {
    "duration": 226,
    "start_time": "2023-02-02T19:29:32.726Z"
   },
   {
    "duration": 5,
    "start_time": "2023-02-02T19:29:32.954Z"
   },
   {
    "duration": 335,
    "start_time": "2023-02-02T19:29:32.960Z"
   },
   {
    "duration": 16,
    "start_time": "2023-02-02T19:29:33.309Z"
   },
   {
    "duration": 179,
    "start_time": "2023-02-02T19:29:33.327Z"
   },
   {
    "duration": 15,
    "start_time": "2023-02-02T19:42:03.116Z"
   },
   {
    "duration": 11,
    "start_time": "2023-02-02T19:42:39.318Z"
   },
   {
    "duration": 12,
    "start_time": "2023-02-02T19:43:47.896Z"
   },
   {
    "duration": 138,
    "start_time": "2023-02-02T19:55:42.652Z"
   },
   {
    "duration": 50,
    "start_time": "2023-02-02T19:58:12.838Z"
   },
   {
    "duration": 15,
    "start_time": "2023-02-02T19:58:46.936Z"
   },
   {
    "duration": 13,
    "start_time": "2023-02-02T19:58:52.309Z"
   },
   {
    "duration": 13,
    "start_time": "2023-02-02T20:07:11.915Z"
   },
   {
    "duration": 18,
    "start_time": "2023-02-02T20:07:27.559Z"
   },
   {
    "duration": 14,
    "start_time": "2023-02-02T20:10:57.429Z"
   },
   {
    "duration": 18,
    "start_time": "2023-02-02T20:13:37.559Z"
   },
   {
    "duration": 46,
    "start_time": "2023-02-03T05:46:50.664Z"
   },
   {
    "duration": 1429,
    "start_time": "2023-02-03T05:47:04.073Z"
   },
   {
    "duration": 17,
    "start_time": "2023-02-03T05:47:05.504Z"
   },
   {
    "duration": 13,
    "start_time": "2023-02-03T05:47:05.522Z"
   },
   {
    "duration": 5,
    "start_time": "2023-02-03T05:47:05.537Z"
   },
   {
    "duration": 5,
    "start_time": "2023-02-03T05:47:05.543Z"
   },
   {
    "duration": 15,
    "start_time": "2023-02-03T05:47:05.550Z"
   },
   {
    "duration": 8,
    "start_time": "2023-02-03T05:47:05.566Z"
   },
   {
    "duration": 29,
    "start_time": "2023-02-03T05:47:05.575Z"
   },
   {
    "duration": 3,
    "start_time": "2023-02-03T05:47:05.606Z"
   },
   {
    "duration": 11,
    "start_time": "2023-02-03T05:47:05.612Z"
   },
   {
    "duration": 9,
    "start_time": "2023-02-03T05:47:05.624Z"
   },
   {
    "duration": 10,
    "start_time": "2023-02-03T05:47:05.634Z"
   },
   {
    "duration": 16,
    "start_time": "2023-02-03T05:47:05.645Z"
   },
   {
    "duration": 54,
    "start_time": "2023-02-03T05:47:05.662Z"
   },
   {
    "duration": 13,
    "start_time": "2023-02-03T05:47:05.717Z"
   },
   {
    "duration": 16,
    "start_time": "2023-02-03T05:47:05.731Z"
   },
   {
    "duration": 7,
    "start_time": "2023-02-03T05:47:05.748Z"
   },
   {
    "duration": 23,
    "start_time": "2023-02-03T05:47:05.757Z"
   },
   {
    "duration": 12,
    "start_time": "2023-02-03T05:47:05.782Z"
   },
   {
    "duration": 8,
    "start_time": "2023-02-03T05:47:05.803Z"
   },
   {
    "duration": 15,
    "start_time": "2023-02-03T05:47:05.812Z"
   },
   {
    "duration": 21,
    "start_time": "2023-02-03T05:47:05.829Z"
   },
   {
    "duration": 14,
    "start_time": "2023-02-03T05:47:05.852Z"
   },
   {
    "duration": 215,
    "start_time": "2023-02-03T05:47:05.867Z"
   },
   {
    "duration": 23,
    "start_time": "2023-02-03T05:47:06.084Z"
   },
   {
    "duration": 283,
    "start_time": "2023-02-03T05:47:06.108Z"
   },
   {
    "duration": 207,
    "start_time": "2023-02-03T05:47:06.392Z"
   },
   {
    "duration": 31,
    "start_time": "2023-02-03T05:47:06.603Z"
   },
   {
    "duration": 273,
    "start_time": "2023-02-03T05:47:06.636Z"
   },
   {
    "duration": 201,
    "start_time": "2023-02-03T05:47:06.911Z"
   },
   {
    "duration": 151,
    "start_time": "2023-02-03T05:47:07.113Z"
   },
   {
    "duration": 206,
    "start_time": "2023-02-03T05:47:07.266Z"
   },
   {
    "duration": 5,
    "start_time": "2023-02-03T05:47:07.474Z"
   },
   {
    "duration": 6,
    "start_time": "2023-02-03T05:47:07.481Z"
   },
   {
    "duration": 140,
    "start_time": "2023-02-03T05:47:07.488Z"
   },
   {
    "duration": 124,
    "start_time": "2023-02-03T05:47:07.629Z"
   },
   {
    "duration": 5,
    "start_time": "2023-02-03T05:47:07.756Z"
   },
   {
    "duration": 6,
    "start_time": "2023-02-03T05:47:07.763Z"
   },
   {
    "duration": 136,
    "start_time": "2023-02-03T05:47:07.771Z"
   },
   {
    "duration": 145,
    "start_time": "2023-02-03T05:47:07.908Z"
   },
   {
    "duration": 4,
    "start_time": "2023-02-03T05:47:08.055Z"
   },
   {
    "duration": 6,
    "start_time": "2023-02-03T05:47:08.061Z"
   },
   {
    "duration": 165,
    "start_time": "2023-02-03T05:47:08.069Z"
   },
   {
    "duration": 5,
    "start_time": "2023-02-03T05:47:08.236Z"
   },
   {
    "duration": 13,
    "start_time": "2023-02-03T05:47:08.243Z"
   },
   {
    "duration": 182,
    "start_time": "2023-02-03T05:47:08.257Z"
   },
   {
    "duration": 3,
    "start_time": "2023-02-03T05:47:08.441Z"
   },
   {
    "duration": 187,
    "start_time": "2023-02-03T05:47:08.445Z"
   },
   {
    "duration": 3,
    "start_time": "2023-02-03T05:47:08.634Z"
   },
   {
    "duration": 13,
    "start_time": "2023-02-03T05:47:08.638Z"
   },
   {
    "duration": 9,
    "start_time": "2023-02-03T05:47:08.653Z"
   },
   {
    "duration": 1325,
    "start_time": "2023-02-03T05:53:14.439Z"
   },
   {
    "duration": 18,
    "start_time": "2023-02-03T05:54:14.412Z"
   },
   {
    "duration": 177,
    "start_time": "2023-02-03T05:54:47.878Z"
   },
   {
    "duration": 1381,
    "start_time": "2023-02-03T05:55:19.566Z"
   },
   {
    "duration": 557,
    "start_time": "2023-02-03T05:55:46.901Z"
   },
   {
    "duration": 709,
    "start_time": "2023-02-03T05:56:52.015Z"
   },
   {
    "duration": 1170,
    "start_time": "2023-02-03T06:13:47.124Z"
   },
   {
    "duration": 1121,
    "start_time": "2023-02-03T06:14:41.059Z"
   },
   {
    "duration": 17,
    "start_time": "2023-02-03T06:14:42.182Z"
   },
   {
    "duration": 13,
    "start_time": "2023-02-03T06:14:42.200Z"
   },
   {
    "duration": 4,
    "start_time": "2023-02-03T06:14:42.215Z"
   },
   {
    "duration": 5,
    "start_time": "2023-02-03T06:14:42.221Z"
   },
   {
    "duration": 16,
    "start_time": "2023-02-03T06:14:42.228Z"
   },
   {
    "duration": 2,
    "start_time": "2023-02-03T06:14:42.245Z"
   },
   {
    "duration": 11,
    "start_time": "2023-02-03T06:14:42.248Z"
   },
   {
    "duration": 5,
    "start_time": "2023-02-03T06:14:42.260Z"
   },
   {
    "duration": 7,
    "start_time": "2023-02-03T06:14:42.268Z"
   },
   {
    "duration": 28,
    "start_time": "2023-02-03T06:14:42.277Z"
   },
   {
    "duration": 7,
    "start_time": "2023-02-03T06:14:42.306Z"
   },
   {
    "duration": 17,
    "start_time": "2023-02-03T06:14:42.314Z"
   },
   {
    "duration": 46,
    "start_time": "2023-02-03T06:14:42.332Z"
   },
   {
    "duration": 25,
    "start_time": "2023-02-03T06:14:42.380Z"
   },
   {
    "duration": 15,
    "start_time": "2023-02-03T06:14:42.406Z"
   },
   {
    "duration": 8,
    "start_time": "2023-02-03T06:14:42.423Z"
   },
   {
    "duration": 15,
    "start_time": "2023-02-03T06:14:42.432Z"
   },
   {
    "duration": 8,
    "start_time": "2023-02-03T06:14:42.448Z"
   },
   {
    "duration": 8,
    "start_time": "2023-02-03T06:14:42.457Z"
   },
   {
    "duration": 40,
    "start_time": "2023-02-03T06:14:42.466Z"
   },
   {
    "duration": 18,
    "start_time": "2023-02-03T06:14:42.507Z"
   },
   {
    "duration": 17,
    "start_time": "2023-02-03T06:14:42.527Z"
   },
   {
    "duration": 192,
    "start_time": "2023-02-03T06:14:42.545Z"
   },
   {
    "duration": 10,
    "start_time": "2023-02-03T06:14:42.738Z"
   },
   {
    "duration": 297,
    "start_time": "2023-02-03T06:14:42.749Z"
   },
   {
    "duration": 206,
    "start_time": "2023-02-03T06:14:43.047Z"
   },
   {
    "duration": 25,
    "start_time": "2023-02-03T06:14:43.256Z"
   },
   {
    "duration": 254,
    "start_time": "2023-02-03T06:14:43.282Z"
   },
   {
    "duration": 212,
    "start_time": "2023-02-03T06:14:43.538Z"
   },
   {
    "duration": 149,
    "start_time": "2023-02-03T06:14:43.752Z"
   },
   {
    "duration": 207,
    "start_time": "2023-02-03T06:14:43.903Z"
   },
   {
    "duration": 4,
    "start_time": "2023-02-03T06:14:44.112Z"
   },
   {
    "duration": 13,
    "start_time": "2023-02-03T06:14:44.117Z"
   },
   {
    "duration": 141,
    "start_time": "2023-02-03T06:14:44.131Z"
   },
   {
    "duration": 118,
    "start_time": "2023-02-03T06:14:44.274Z"
   },
   {
    "duration": 12,
    "start_time": "2023-02-03T06:14:44.394Z"
   },
   {
    "duration": 8,
    "start_time": "2023-02-03T06:14:44.407Z"
   },
   {
    "duration": 125,
    "start_time": "2023-02-03T06:14:44.417Z"
   },
   {
    "duration": 143,
    "start_time": "2023-02-03T06:14:44.543Z"
   },
   {
    "duration": 5,
    "start_time": "2023-02-03T06:14:44.687Z"
   },
   {
    "duration": 11,
    "start_time": "2023-02-03T06:14:44.693Z"
   },
   {
    "duration": 165,
    "start_time": "2023-02-03T06:14:44.705Z"
   },
   {
    "duration": 6,
    "start_time": "2023-02-03T06:14:44.871Z"
   },
   {
    "duration": 21,
    "start_time": "2023-02-03T06:14:44.878Z"
   },
   {
    "duration": 1154,
    "start_time": "2023-02-03T06:14:44.903Z"
   },
   {
    "duration": 3,
    "start_time": "2023-02-03T06:14:46.058Z"
   },
   {
    "duration": 182,
    "start_time": "2023-02-03T06:14:46.062Z"
   },
   {
    "duration": 3,
    "start_time": "2023-02-03T06:14:46.247Z"
   },
   {
    "duration": 14,
    "start_time": "2023-02-03T06:14:46.252Z"
   },
   {
    "duration": 15,
    "start_time": "2023-02-03T06:14:46.303Z"
   },
   {
    "duration": 1059,
    "start_time": "2023-02-03T06:28:27.827Z"
   },
   {
    "duration": 1013,
    "start_time": "2023-02-03T06:32:59.764Z"
   },
   {
    "duration": 1275,
    "start_time": "2023-02-03T06:34:14.569Z"
   },
   {
    "duration": 17,
    "start_time": "2023-02-03T06:34:15.845Z"
   },
   {
    "duration": 13,
    "start_time": "2023-02-03T06:34:15.863Z"
   },
   {
    "duration": 4,
    "start_time": "2023-02-03T06:34:15.878Z"
   },
   {
    "duration": 5,
    "start_time": "2023-02-03T06:34:15.884Z"
   },
   {
    "duration": 18,
    "start_time": "2023-02-03T06:34:15.891Z"
   },
   {
    "duration": 3,
    "start_time": "2023-02-03T06:34:15.910Z"
   },
   {
    "duration": 7,
    "start_time": "2023-02-03T06:34:15.916Z"
   },
   {
    "duration": 7,
    "start_time": "2023-02-03T06:34:15.924Z"
   },
   {
    "duration": 12,
    "start_time": "2023-02-03T06:34:15.933Z"
   },
   {
    "duration": 9,
    "start_time": "2023-02-03T06:34:15.947Z"
   },
   {
    "duration": 8,
    "start_time": "2023-02-03T06:34:15.957Z"
   },
   {
    "duration": 37,
    "start_time": "2023-02-03T06:34:15.967Z"
   },
   {
    "duration": 48,
    "start_time": "2023-02-03T06:34:16.006Z"
   },
   {
    "duration": 13,
    "start_time": "2023-02-03T06:34:16.056Z"
   },
   {
    "duration": 35,
    "start_time": "2023-02-03T06:34:16.070Z"
   },
   {
    "duration": 9,
    "start_time": "2023-02-03T06:34:16.107Z"
   },
   {
    "duration": 18,
    "start_time": "2023-02-03T06:34:16.118Z"
   },
   {
    "duration": 8,
    "start_time": "2023-02-03T06:34:16.138Z"
   },
   {
    "duration": 9,
    "start_time": "2023-02-03T06:34:16.147Z"
   },
   {
    "duration": 7,
    "start_time": "2023-02-03T06:34:16.158Z"
   },
   {
    "duration": 41,
    "start_time": "2023-02-03T06:34:16.167Z"
   },
   {
    "duration": 13,
    "start_time": "2023-02-03T06:34:16.210Z"
   },
   {
    "duration": 208,
    "start_time": "2023-02-03T06:34:16.225Z"
   },
   {
    "duration": 10,
    "start_time": "2023-02-03T06:34:16.435Z"
   },
   {
    "duration": 362,
    "start_time": "2023-02-03T06:34:16.447Z"
   },
   {
    "duration": 215,
    "start_time": "2023-02-03T06:34:16.811Z"
   },
   {
    "duration": 30,
    "start_time": "2023-02-03T06:34:17.031Z"
   },
   {
    "duration": 251,
    "start_time": "2023-02-03T06:34:17.063Z"
   },
   {
    "duration": 209,
    "start_time": "2023-02-03T06:34:17.316Z"
   },
   {
    "duration": 152,
    "start_time": "2023-02-03T06:34:17.526Z"
   },
   {
    "duration": 215,
    "start_time": "2023-02-03T06:34:17.680Z"
   },
   {
    "duration": 9,
    "start_time": "2023-02-03T06:34:17.897Z"
   },
   {
    "duration": 6,
    "start_time": "2023-02-03T06:34:17.907Z"
   },
   {
    "duration": 141,
    "start_time": "2023-02-03T06:34:17.914Z"
   },
   {
    "duration": 143,
    "start_time": "2023-02-03T06:34:18.057Z"
   },
   {
    "duration": 5,
    "start_time": "2023-02-03T06:34:18.204Z"
   },
   {
    "duration": 9,
    "start_time": "2023-02-03T06:34:18.211Z"
   },
   {
    "duration": 188,
    "start_time": "2023-02-03T06:34:18.222Z"
   },
   {
    "duration": 146,
    "start_time": "2023-02-03T06:34:18.412Z"
   },
   {
    "duration": 5,
    "start_time": "2023-02-03T06:34:18.559Z"
   },
   {
    "duration": 7,
    "start_time": "2023-02-03T06:34:18.565Z"
   },
   {
    "duration": 178,
    "start_time": "2023-02-03T06:34:18.574Z"
   },
   {
    "duration": 9,
    "start_time": "2023-02-03T06:34:18.754Z"
   },
   {
    "duration": 31,
    "start_time": "2023-02-03T06:34:18.764Z"
   },
   {
    "duration": 988,
    "start_time": "2023-02-03T06:34:18.797Z"
   },
   {
    "duration": 3,
    "start_time": "2023-02-03T06:34:19.786Z"
   },
   {
    "duration": 1082,
    "start_time": "2023-02-03T06:34:19.791Z"
   },
   {
    "duration": 4,
    "start_time": "2023-02-03T06:34:20.875Z"
   },
   {
    "duration": 12,
    "start_time": "2023-02-03T06:34:20.881Z"
   },
   {
    "duration": 20,
    "start_time": "2023-02-03T06:34:20.894Z"
   },
   {
    "duration": 14,
    "start_time": "2023-02-03T06:34:20.916Z"
   },
   {
    "duration": 101,
    "start_time": "2023-02-03T06:38:54.085Z"
   },
   {
    "duration": 685,
    "start_time": "2023-02-03T06:42:44.668Z"
   },
   {
    "duration": 522,
    "start_time": "2023-02-03T06:43:27.863Z"
   },
   {
    "duration": 1224,
    "start_time": "2023-02-03T06:43:55.585Z"
   },
   {
    "duration": 23,
    "start_time": "2023-02-03T06:43:56.812Z"
   },
   {
    "duration": 32,
    "start_time": "2023-02-03T06:43:56.837Z"
   },
   {
    "duration": 6,
    "start_time": "2023-02-03T06:43:56.872Z"
   },
   {
    "duration": 9,
    "start_time": "2023-02-03T06:43:56.880Z"
   },
   {
    "duration": 16,
    "start_time": "2023-02-03T06:43:56.891Z"
   },
   {
    "duration": 2,
    "start_time": "2023-02-03T06:43:56.909Z"
   },
   {
    "duration": 9,
    "start_time": "2023-02-03T06:43:56.913Z"
   },
   {
    "duration": 6,
    "start_time": "2023-02-03T06:43:56.924Z"
   },
   {
    "duration": 7,
    "start_time": "2023-02-03T06:43:56.932Z"
   },
   {
    "duration": 9,
    "start_time": "2023-02-03T06:43:56.940Z"
   },
   {
    "duration": 6,
    "start_time": "2023-02-03T06:43:56.950Z"
   },
   {
    "duration": 24,
    "start_time": "2023-02-03T06:43:56.957Z"
   },
   {
    "duration": 49,
    "start_time": "2023-02-03T06:43:57.004Z"
   },
   {
    "duration": 13,
    "start_time": "2023-02-03T06:43:57.054Z"
   },
   {
    "duration": 13,
    "start_time": "2023-02-03T06:43:57.069Z"
   },
   {
    "duration": 12,
    "start_time": "2023-02-03T06:43:57.107Z"
   },
   {
    "duration": 13,
    "start_time": "2023-02-03T06:43:57.121Z"
   },
   {
    "duration": 14,
    "start_time": "2023-02-03T06:43:57.136Z"
   },
   {
    "duration": 8,
    "start_time": "2023-02-03T06:43:57.152Z"
   },
   {
    "duration": 13,
    "start_time": "2023-02-03T06:43:57.162Z"
   },
   {
    "duration": 29,
    "start_time": "2023-02-03T06:43:57.176Z"
   },
   {
    "duration": 14,
    "start_time": "2023-02-03T06:43:57.207Z"
   },
   {
    "duration": 205,
    "start_time": "2023-02-03T06:43:57.222Z"
   },
   {
    "duration": 9,
    "start_time": "2023-02-03T06:43:57.429Z"
   },
   {
    "duration": 302,
    "start_time": "2023-02-03T06:43:57.439Z"
   },
   {
    "duration": 208,
    "start_time": "2023-02-03T06:43:57.743Z"
   },
   {
    "duration": 28,
    "start_time": "2023-02-03T06:43:57.956Z"
   },
   {
    "duration": 244,
    "start_time": "2023-02-03T06:43:57.985Z"
   },
   {
    "duration": 204,
    "start_time": "2023-02-03T06:43:58.232Z"
   },
   {
    "duration": 152,
    "start_time": "2023-02-03T06:43:58.438Z"
   },
   {
    "duration": 216,
    "start_time": "2023-02-03T06:43:58.591Z"
   },
   {
    "duration": 4,
    "start_time": "2023-02-03T06:43:58.809Z"
   },
   {
    "duration": 6,
    "start_time": "2023-02-03T06:43:58.815Z"
   },
   {
    "duration": 151,
    "start_time": "2023-02-03T06:43:58.823Z"
   },
   {
    "duration": 147,
    "start_time": "2023-02-03T06:43:58.976Z"
   },
   {
    "duration": 6,
    "start_time": "2023-02-03T06:43:59.124Z"
   },
   {
    "duration": 15,
    "start_time": "2023-02-03T06:43:59.131Z"
   },
   {
    "duration": 126,
    "start_time": "2023-02-03T06:43:59.148Z"
   },
   {
    "duration": 152,
    "start_time": "2023-02-03T06:43:59.276Z"
   },
   {
    "duration": 5,
    "start_time": "2023-02-03T06:43:59.430Z"
   },
   {
    "duration": 8,
    "start_time": "2023-02-03T06:43:59.437Z"
   },
   {
    "duration": 175,
    "start_time": "2023-02-03T06:43:59.447Z"
   },
   {
    "duration": 6,
    "start_time": "2023-02-03T06:43:59.623Z"
   },
   {
    "duration": 19,
    "start_time": "2023-02-03T06:43:59.631Z"
   },
   {
    "duration": 1011,
    "start_time": "2023-02-03T06:43:59.651Z"
   },
   {
    "duration": 4,
    "start_time": "2023-02-03T06:44:00.663Z"
   },
   {
    "duration": 1099,
    "start_time": "2023-02-03T06:44:00.668Z"
   },
   {
    "duration": 4,
    "start_time": "2023-02-03T06:44:01.768Z"
   },
   {
    "duration": 661,
    "start_time": "2023-02-03T06:44:01.773Z"
   },
   {
    "duration": 12,
    "start_time": "2023-02-03T06:44:02.436Z"
   },
   {
    "duration": 18,
    "start_time": "2023-02-03T06:44:02.449Z"
   },
   {
    "duration": 96,
    "start_time": "2023-02-03T06:47:34.018Z"
   },
   {
    "duration": 74,
    "start_time": "2023-02-03T06:59:47.327Z"
   },
   {
    "duration": 4,
    "start_time": "2023-02-03T07:01:07.079Z"
   },
   {
    "duration": 4,
    "start_time": "2023-02-03T07:01:24.234Z"
   },
   {
    "duration": 4,
    "start_time": "2023-02-03T07:01:49.129Z"
   },
   {
    "duration": 16,
    "start_time": "2023-02-03T07:04:35.443Z"
   },
   {
    "duration": 4,
    "start_time": "2023-02-03T07:06:22.936Z"
   },
   {
    "duration": 15,
    "start_time": "2023-02-03T07:08:18.722Z"
   },
   {
    "duration": 5,
    "start_time": "2023-02-03T08:41:47.193Z"
   },
   {
    "duration": 1152,
    "start_time": "2023-02-03T08:43:06.205Z"
   },
   {
    "duration": 17,
    "start_time": "2023-02-03T08:43:07.358Z"
   },
   {
    "duration": 13,
    "start_time": "2023-02-03T08:43:07.377Z"
   },
   {
    "duration": 7,
    "start_time": "2023-02-03T08:43:07.392Z"
   },
   {
    "duration": 21,
    "start_time": "2023-02-03T08:43:07.401Z"
   },
   {
    "duration": 17,
    "start_time": "2023-02-03T08:43:07.423Z"
   },
   {
    "duration": 10,
    "start_time": "2023-02-03T08:43:07.441Z"
   },
   {
    "duration": 16,
    "start_time": "2023-02-03T08:43:07.453Z"
   },
   {
    "duration": 10,
    "start_time": "2023-02-03T08:43:07.471Z"
   },
   {
    "duration": 15,
    "start_time": "2023-02-03T08:43:07.484Z"
   },
   {
    "duration": 20,
    "start_time": "2023-02-03T08:43:07.501Z"
   },
   {
    "duration": 13,
    "start_time": "2023-02-03T08:43:07.523Z"
   },
   {
    "duration": 30,
    "start_time": "2023-02-03T08:43:07.538Z"
   },
   {
    "duration": 58,
    "start_time": "2023-02-03T08:43:07.570Z"
   },
   {
    "duration": 12,
    "start_time": "2023-02-03T08:43:07.631Z"
   },
   {
    "duration": 32,
    "start_time": "2023-02-03T08:43:07.645Z"
   },
   {
    "duration": 10,
    "start_time": "2023-02-03T08:43:07.679Z"
   },
   {
    "duration": 21,
    "start_time": "2023-02-03T08:43:07.690Z"
   },
   {
    "duration": 8,
    "start_time": "2023-02-03T08:43:07.713Z"
   },
   {
    "duration": 21,
    "start_time": "2023-02-03T08:43:07.722Z"
   },
   {
    "duration": 8,
    "start_time": "2023-02-03T08:43:07.745Z"
   },
   {
    "duration": 31,
    "start_time": "2023-02-03T08:43:07.755Z"
   },
   {
    "duration": 13,
    "start_time": "2023-02-03T08:43:07.787Z"
   },
   {
    "duration": 179,
    "start_time": "2023-02-03T08:43:07.802Z"
   },
   {
    "duration": 9,
    "start_time": "2023-02-03T08:43:07.983Z"
   },
   {
    "duration": 303,
    "start_time": "2023-02-03T08:43:08.003Z"
   },
   {
    "duration": 302,
    "start_time": "2023-02-03T08:43:08.308Z"
   },
   {
    "duration": 30,
    "start_time": "2023-02-03T08:43:08.613Z"
   },
   {
    "duration": 273,
    "start_time": "2023-02-03T08:43:08.644Z"
   },
   {
    "duration": 211,
    "start_time": "2023-02-03T08:43:08.918Z"
   },
   {
    "duration": 162,
    "start_time": "2023-02-03T08:43:09.131Z"
   },
   {
    "duration": 214,
    "start_time": "2023-02-03T08:43:09.295Z"
   },
   {
    "duration": 5,
    "start_time": "2023-02-03T08:43:09.511Z"
   },
   {
    "duration": 10,
    "start_time": "2023-02-03T08:43:09.518Z"
   },
   {
    "duration": 139,
    "start_time": "2023-02-03T08:43:09.529Z"
   },
   {
    "duration": 139,
    "start_time": "2023-02-03T08:43:09.670Z"
   },
   {
    "duration": 5,
    "start_time": "2023-02-03T08:43:09.811Z"
   },
   {
    "duration": 9,
    "start_time": "2023-02-03T08:43:09.817Z"
   },
   {
    "duration": 145,
    "start_time": "2023-02-03T08:43:09.828Z"
   },
   {
    "duration": 151,
    "start_time": "2023-02-03T08:43:09.975Z"
   },
   {
    "duration": 4,
    "start_time": "2023-02-03T08:43:10.128Z"
   },
   {
    "duration": 5,
    "start_time": "2023-02-03T08:43:10.134Z"
   },
   {
    "duration": 193,
    "start_time": "2023-02-03T08:43:10.141Z"
   },
   {
    "duration": 6,
    "start_time": "2023-02-03T08:43:10.336Z"
   },
   {
    "duration": 16,
    "start_time": "2023-02-03T08:43:10.344Z"
   },
   {
    "duration": 1054,
    "start_time": "2023-02-03T08:43:10.362Z"
   },
   {
    "duration": 3,
    "start_time": "2023-02-03T08:43:11.418Z"
   },
   {
    "duration": 1059,
    "start_time": "2023-02-03T08:43:11.422Z"
   },
   {
    "duration": 3,
    "start_time": "2023-02-03T08:43:12.483Z"
   },
   {
    "duration": 651,
    "start_time": "2023-02-03T08:43:12.487Z"
   },
   {
    "duration": 12,
    "start_time": "2023-02-03T08:43:13.141Z"
   },
   {
    "duration": 6,
    "start_time": "2023-02-03T08:43:13.155Z"
   },
   {
    "duration": 15,
    "start_time": "2023-02-03T08:43:13.162Z"
   },
   {
    "duration": 6,
    "start_time": "2023-02-03T08:43:13.179Z"
   },
   {
    "duration": 80,
    "start_time": "2023-02-03T08:43:13.186Z"
   },
   {
    "duration": 1209,
    "start_time": "2023-02-03T09:39:51.428Z"
   },
   {
    "duration": 20,
    "start_time": "2023-02-03T09:39:52.640Z"
   },
   {
    "duration": 14,
    "start_time": "2023-02-03T09:39:52.661Z"
   },
   {
    "duration": 5,
    "start_time": "2023-02-03T09:39:52.678Z"
   },
   {
    "duration": 6,
    "start_time": "2023-02-03T09:39:52.685Z"
   },
   {
    "duration": 18,
    "start_time": "2023-02-03T09:39:52.693Z"
   },
   {
    "duration": 2,
    "start_time": "2023-02-03T09:39:52.713Z"
   },
   {
    "duration": 9,
    "start_time": "2023-02-03T09:39:52.716Z"
   },
   {
    "duration": 9,
    "start_time": "2023-02-03T09:39:52.727Z"
   },
   {
    "duration": 21,
    "start_time": "2023-02-03T09:39:52.739Z"
   },
   {
    "duration": 12,
    "start_time": "2023-02-03T09:39:52.762Z"
   },
   {
    "duration": 6,
    "start_time": "2023-02-03T09:39:52.776Z"
   },
   {
    "duration": 19,
    "start_time": "2023-02-03T09:39:52.784Z"
   },
   {
    "duration": 61,
    "start_time": "2023-02-03T09:39:52.804Z"
   },
   {
    "duration": 19,
    "start_time": "2023-02-03T09:39:52.867Z"
   },
   {
    "duration": 27,
    "start_time": "2023-02-03T09:39:52.888Z"
   },
   {
    "duration": 11,
    "start_time": "2023-02-03T09:39:52.917Z"
   },
   {
    "duration": 26,
    "start_time": "2023-02-03T09:39:52.930Z"
   },
   {
    "duration": 52,
    "start_time": "2023-02-03T09:39:52.959Z"
   },
   {
    "duration": 9,
    "start_time": "2023-02-03T09:39:53.013Z"
   },
   {
    "duration": 12,
    "start_time": "2023-02-03T09:39:53.024Z"
   },
   {
    "duration": 24,
    "start_time": "2023-02-03T09:39:53.038Z"
   },
   {
    "duration": 57,
    "start_time": "2023-02-03T09:39:53.064Z"
   },
   {
    "duration": 281,
    "start_time": "2023-02-03T09:39:53.123Z"
   },
   {
    "duration": 12,
    "start_time": "2023-02-03T09:39:53.405Z"
   },
   {
    "duration": 432,
    "start_time": "2023-02-03T09:39:53.419Z"
   },
   {
    "duration": 217,
    "start_time": "2023-02-03T09:39:53.853Z"
   },
   {
    "duration": 43,
    "start_time": "2023-02-03T09:39:54.073Z"
   },
   {
    "duration": 271,
    "start_time": "2023-02-03T09:39:54.118Z"
   },
   {
    "duration": 229,
    "start_time": "2023-02-03T09:39:54.391Z"
   },
   {
    "duration": 161,
    "start_time": "2023-02-03T09:39:54.622Z"
   },
   {
    "duration": 220,
    "start_time": "2023-02-03T09:39:54.785Z"
   },
   {
    "duration": 5,
    "start_time": "2023-02-03T09:39:55.007Z"
   },
   {
    "duration": 10,
    "start_time": "2023-02-03T09:39:55.013Z"
   },
   {
    "duration": 164,
    "start_time": "2023-02-03T09:39:55.025Z"
   },
   {
    "duration": 131,
    "start_time": "2023-02-03T09:39:55.190Z"
   },
   {
    "duration": 5,
    "start_time": "2023-02-03T09:39:55.323Z"
   },
   {
    "duration": 7,
    "start_time": "2023-02-03T09:39:55.330Z"
   },
   {
    "duration": 154,
    "start_time": "2023-02-03T09:39:55.338Z"
   },
   {
    "duration": 161,
    "start_time": "2023-02-03T09:39:55.494Z"
   },
   {
    "duration": 5,
    "start_time": "2023-02-03T09:39:55.657Z"
   },
   {
    "duration": 6,
    "start_time": "2023-02-03T09:39:55.664Z"
   },
   {
    "duration": 178,
    "start_time": "2023-02-03T09:39:55.671Z"
   },
   {
    "duration": 6,
    "start_time": "2023-02-03T09:39:55.851Z"
   },
   {
    "duration": 15,
    "start_time": "2023-02-03T09:39:55.859Z"
   },
   {
    "duration": 1049,
    "start_time": "2023-02-03T09:39:55.875Z"
   },
   {
    "duration": 4,
    "start_time": "2023-02-03T09:39:56.927Z"
   },
   {
    "duration": 1058,
    "start_time": "2023-02-03T09:39:56.933Z"
   },
   {
    "duration": 3,
    "start_time": "2023-02-03T09:39:57.993Z"
   },
   {
    "duration": 664,
    "start_time": "2023-02-03T09:39:58.004Z"
   },
   {
    "duration": 13,
    "start_time": "2023-02-03T09:39:58.670Z"
   },
   {
    "duration": 19,
    "start_time": "2023-02-03T09:39:58.685Z"
   },
   {
    "duration": 12,
    "start_time": "2023-02-03T09:39:58.706Z"
   },
   {
    "duration": 8,
    "start_time": "2023-02-03T09:39:58.720Z"
   },
   {
    "duration": 47,
    "start_time": "2023-02-03T10:10:46.757Z"
   },
   {
    "duration": 1097,
    "start_time": "2023-02-03T10:11:04.433Z"
   },
   {
    "duration": 17,
    "start_time": "2023-02-03T10:11:05.531Z"
   },
   {
    "duration": 18,
    "start_time": "2023-02-03T10:11:05.550Z"
   },
   {
    "duration": 5,
    "start_time": "2023-02-03T10:11:05.570Z"
   },
   {
    "duration": 5,
    "start_time": "2023-02-03T10:11:05.576Z"
   },
   {
    "duration": 21,
    "start_time": "2023-02-03T10:11:05.583Z"
   },
   {
    "duration": 5,
    "start_time": "2023-02-03T10:11:05.605Z"
   },
   {
    "duration": 14,
    "start_time": "2023-02-03T10:11:05.613Z"
   },
   {
    "duration": 7,
    "start_time": "2023-02-03T10:11:05.629Z"
   },
   {
    "duration": 11,
    "start_time": "2023-02-03T10:11:05.640Z"
   },
   {
    "duration": 9,
    "start_time": "2023-02-03T10:11:05.652Z"
   },
   {
    "duration": 8,
    "start_time": "2023-02-03T10:11:05.664Z"
   },
   {
    "duration": 40,
    "start_time": "2023-02-03T10:11:05.674Z"
   },
   {
    "duration": 57,
    "start_time": "2023-02-03T10:11:05.716Z"
   },
   {
    "duration": 18,
    "start_time": "2023-02-03T10:11:05.775Z"
   },
   {
    "duration": 22,
    "start_time": "2023-02-03T10:11:05.795Z"
   },
   {
    "duration": 13,
    "start_time": "2023-02-03T10:11:05.819Z"
   },
   {
    "duration": 10,
    "start_time": "2023-02-03T10:11:05.834Z"
   },
   {
    "duration": 10,
    "start_time": "2023-02-03T10:11:05.845Z"
   },
   {
    "duration": 9,
    "start_time": "2023-02-03T10:11:05.857Z"
   },
   {
    "duration": 31,
    "start_time": "2023-02-03T10:11:05.868Z"
   },
   {
    "duration": 24,
    "start_time": "2023-02-03T10:11:05.901Z"
   },
   {
    "duration": 14,
    "start_time": "2023-02-03T10:11:05.927Z"
   },
   {
    "duration": 200,
    "start_time": "2023-02-03T10:11:05.942Z"
   },
   {
    "duration": 10,
    "start_time": "2023-02-03T10:11:06.144Z"
   },
   {
    "duration": 314,
    "start_time": "2023-02-03T10:11:06.156Z"
   },
   {
    "duration": 225,
    "start_time": "2023-02-03T10:11:06.472Z"
   },
   {
    "duration": 31,
    "start_time": "2023-02-03T10:11:06.702Z"
   },
   {
    "duration": 262,
    "start_time": "2023-02-03T10:11:06.735Z"
   },
   {
    "duration": 217,
    "start_time": "2023-02-03T10:11:06.999Z"
   },
   {
    "duration": 158,
    "start_time": "2023-02-03T10:11:07.217Z"
   },
   {
    "duration": 228,
    "start_time": "2023-02-03T10:11:07.377Z"
   },
   {
    "duration": 4,
    "start_time": "2023-02-03T10:11:07.606Z"
   },
   {
    "duration": 10,
    "start_time": "2023-02-03T10:11:07.612Z"
   },
   {
    "duration": 136,
    "start_time": "2023-02-03T10:11:07.623Z"
   },
   {
    "duration": 127,
    "start_time": "2023-02-03T10:11:07.761Z"
   },
   {
    "duration": 7,
    "start_time": "2023-02-03T10:11:07.889Z"
   },
   {
    "duration": 7,
    "start_time": "2023-02-03T10:11:07.897Z"
   },
   {
    "duration": 138,
    "start_time": "2023-02-03T10:11:07.905Z"
   },
   {
    "duration": 153,
    "start_time": "2023-02-03T10:11:08.044Z"
   },
   {
    "duration": 4,
    "start_time": "2023-02-03T10:11:08.199Z"
   },
   {
    "duration": 12,
    "start_time": "2023-02-03T10:11:08.204Z"
   },
   {
    "duration": 164,
    "start_time": "2023-02-03T10:11:08.218Z"
   },
   {
    "duration": 12,
    "start_time": "2023-02-03T10:11:08.384Z"
   },
   {
    "duration": 15,
    "start_time": "2023-02-03T10:11:08.398Z"
   },
   {
    "duration": 984,
    "start_time": "2023-02-03T10:11:08.415Z"
   },
   {
    "duration": 3,
    "start_time": "2023-02-03T10:11:09.401Z"
   },
   {
    "duration": 1005,
    "start_time": "2023-02-03T10:11:09.406Z"
   },
   {
    "duration": 3,
    "start_time": "2023-02-03T10:11:10.412Z"
   },
   {
    "duration": 606,
    "start_time": "2023-02-03T10:11:10.416Z"
   },
   {
    "duration": 12,
    "start_time": "2023-02-03T10:11:11.023Z"
   },
   {
    "duration": 8,
    "start_time": "2023-02-03T10:11:11.037Z"
   },
   {
    "duration": 13,
    "start_time": "2023-02-03T10:11:11.047Z"
   },
   {
    "duration": 4,
    "start_time": "2023-02-03T10:11:11.061Z"
   },
   {
    "duration": 69,
    "start_time": "2023-02-03T10:27:03.310Z"
   },
   {
    "duration": 52,
    "start_time": "2023-02-03T15:07:41.045Z"
   },
   {
    "duration": 44,
    "start_time": "2023-02-03T15:17:49.454Z"
   },
   {
    "duration": 43,
    "start_time": "2023-02-03T15:19:34.111Z"
   },
   {
    "duration": 43,
    "start_time": "2023-02-03T15:21:40.354Z"
   },
   {
    "duration": 1534,
    "start_time": "2023-02-03T15:23:45.205Z"
   },
   {
    "duration": 20,
    "start_time": "2023-02-03T15:23:46.742Z"
   },
   {
    "duration": 15,
    "start_time": "2023-02-03T15:23:46.764Z"
   },
   {
    "duration": 5,
    "start_time": "2023-02-03T15:23:46.781Z"
   },
   {
    "duration": 10,
    "start_time": "2023-02-03T15:23:46.787Z"
   },
   {
    "duration": 19,
    "start_time": "2023-02-03T15:23:46.799Z"
   },
   {
    "duration": 2,
    "start_time": "2023-02-03T15:23:46.820Z"
   },
   {
    "duration": 12,
    "start_time": "2023-02-03T15:23:46.824Z"
   },
   {
    "duration": 7,
    "start_time": "2023-02-03T15:23:46.838Z"
   },
   {
    "duration": 14,
    "start_time": "2023-02-03T15:23:46.847Z"
   },
   {
    "duration": 25,
    "start_time": "2023-02-03T15:23:46.863Z"
   },
   {
    "duration": 7,
    "start_time": "2023-02-03T15:23:46.890Z"
   },
   {
    "duration": 30,
    "start_time": "2023-02-03T15:23:46.899Z"
   },
   {
    "duration": 61,
    "start_time": "2023-02-03T15:23:46.932Z"
   },
   {
    "duration": 15,
    "start_time": "2023-02-03T15:23:46.995Z"
   },
   {
    "duration": 18,
    "start_time": "2023-02-03T15:23:47.011Z"
   },
   {
    "duration": 9,
    "start_time": "2023-02-03T15:23:47.031Z"
   },
   {
    "duration": 11,
    "start_time": "2023-02-03T15:23:47.042Z"
   },
   {
    "duration": 30,
    "start_time": "2023-02-03T15:23:47.055Z"
   },
   {
    "duration": 8,
    "start_time": "2023-02-03T15:23:47.088Z"
   },
   {
    "duration": 9,
    "start_time": "2023-02-03T15:23:47.098Z"
   },
   {
    "duration": 20,
    "start_time": "2023-02-03T15:23:47.109Z"
   },
   {
    "duration": 14,
    "start_time": "2023-02-03T15:23:47.131Z"
   },
   {
    "duration": 227,
    "start_time": "2023-02-03T15:23:47.147Z"
   },
   {
    "duration": 15,
    "start_time": "2023-02-03T15:23:47.375Z"
   },
   {
    "duration": 344,
    "start_time": "2023-02-03T15:23:47.392Z"
   },
   {
    "duration": 226,
    "start_time": "2023-02-03T15:23:47.738Z"
   },
   {
    "duration": 38,
    "start_time": "2023-02-03T15:23:47.968Z"
   },
   {
    "duration": 257,
    "start_time": "2023-02-03T15:23:48.008Z"
   },
   {
    "duration": 213,
    "start_time": "2023-02-03T15:23:48.267Z"
   },
   {
    "duration": 178,
    "start_time": "2023-02-03T15:23:48.485Z"
   },
   {
    "duration": 235,
    "start_time": "2023-02-03T15:23:48.664Z"
   },
   {
    "duration": 6,
    "start_time": "2023-02-03T15:23:48.901Z"
   },
   {
    "duration": 15,
    "start_time": "2023-02-03T15:23:48.908Z"
   },
   {
    "duration": 153,
    "start_time": "2023-02-03T15:23:48.924Z"
   },
   {
    "duration": 136,
    "start_time": "2023-02-03T15:23:49.079Z"
   },
   {
    "duration": 6,
    "start_time": "2023-02-03T15:23:49.217Z"
   },
   {
    "duration": 8,
    "start_time": "2023-02-03T15:23:49.225Z"
   },
   {
    "duration": 150,
    "start_time": "2023-02-03T15:23:49.234Z"
   },
   {
    "duration": 162,
    "start_time": "2023-02-03T15:23:49.385Z"
   },
   {
    "duration": 5,
    "start_time": "2023-02-03T15:23:49.549Z"
   },
   {
    "duration": 17,
    "start_time": "2023-02-03T15:23:49.559Z"
   },
   {
    "duration": 230,
    "start_time": "2023-02-03T15:23:49.586Z"
   },
   {
    "duration": 8,
    "start_time": "2023-02-03T15:23:49.818Z"
   },
   {
    "duration": 33,
    "start_time": "2023-02-03T15:23:49.828Z"
   },
   {
    "duration": 1032,
    "start_time": "2023-02-03T15:23:49.865Z"
   },
   {
    "duration": 4,
    "start_time": "2023-02-03T15:23:50.898Z"
   },
   {
    "duration": 1105,
    "start_time": "2023-02-03T15:23:50.903Z"
   },
   {
    "duration": 3,
    "start_time": "2023-02-03T15:23:52.010Z"
   },
   {
    "duration": 690,
    "start_time": "2023-02-03T15:23:52.015Z"
   },
   {
    "duration": 15,
    "start_time": "2023-02-03T15:23:52.707Z"
   },
   {
    "duration": 5,
    "start_time": "2023-02-03T15:23:52.724Z"
   },
   {
    "duration": 23,
    "start_time": "2023-02-03T15:23:52.731Z"
   },
   {
    "duration": 34,
    "start_time": "2023-02-03T15:23:52.757Z"
   },
   {
    "duration": 42,
    "start_time": "2023-02-03T15:35:21.855Z"
   },
   {
    "duration": 51,
    "start_time": "2023-02-03T18:57:21.773Z"
   },
   {
    "duration": 1492,
    "start_time": "2023-02-03T18:57:36.564Z"
   },
   {
    "duration": 18,
    "start_time": "2023-02-03T18:57:38.058Z"
   },
   {
    "duration": 14,
    "start_time": "2023-02-03T18:57:38.078Z"
   },
   {
    "duration": 14,
    "start_time": "2023-02-03T18:57:38.094Z"
   },
   {
    "duration": 4,
    "start_time": "2023-02-03T18:57:38.110Z"
   },
   {
    "duration": 10,
    "start_time": "2023-02-03T18:57:38.116Z"
   },
   {
    "duration": 31,
    "start_time": "2023-02-03T18:57:38.128Z"
   },
   {
    "duration": 3,
    "start_time": "2023-02-03T18:57:38.161Z"
   },
   {
    "duration": 8,
    "start_time": "2023-02-03T18:57:38.166Z"
   },
   {
    "duration": 6,
    "start_time": "2023-02-03T18:57:38.177Z"
   },
   {
    "duration": 12,
    "start_time": "2023-02-03T18:57:38.184Z"
   },
   {
    "duration": 6,
    "start_time": "2023-02-03T18:57:38.198Z"
   },
   {
    "duration": 5,
    "start_time": "2023-02-03T18:57:38.205Z"
   },
   {
    "duration": 39,
    "start_time": "2023-02-03T18:57:38.212Z"
   },
   {
    "duration": 49,
    "start_time": "2023-02-03T18:57:38.252Z"
   },
   {
    "duration": 12,
    "start_time": "2023-02-03T18:57:38.303Z"
   },
   {
    "duration": 36,
    "start_time": "2023-02-03T18:57:38.316Z"
   },
   {
    "duration": 13,
    "start_time": "2023-02-03T18:57:38.354Z"
   },
   {
    "duration": 11,
    "start_time": "2023-02-03T18:57:38.368Z"
   },
   {
    "duration": 10,
    "start_time": "2023-02-03T18:57:38.380Z"
   },
   {
    "duration": 10,
    "start_time": "2023-02-03T18:57:38.391Z"
   },
   {
    "duration": 9,
    "start_time": "2023-02-03T18:57:38.403Z"
   },
   {
    "duration": 37,
    "start_time": "2023-02-03T18:57:38.414Z"
   },
   {
    "duration": 14,
    "start_time": "2023-02-03T18:57:38.452Z"
   },
   {
    "duration": 195,
    "start_time": "2023-02-03T18:57:38.467Z"
   },
   {
    "duration": 9,
    "start_time": "2023-02-03T18:57:38.663Z"
   },
   {
    "duration": 310,
    "start_time": "2023-02-03T18:57:38.674Z"
   },
   {
    "duration": 213,
    "start_time": "2023-02-03T18:57:38.987Z"
   },
   {
    "duration": 29,
    "start_time": "2023-02-03T18:57:39.203Z"
   },
   {
    "duration": 255,
    "start_time": "2023-02-03T18:57:39.234Z"
   },
   {
    "duration": 210,
    "start_time": "2023-02-03T18:57:39.491Z"
   },
   {
    "duration": 164,
    "start_time": "2023-02-03T18:57:39.702Z"
   },
   {
    "duration": 223,
    "start_time": "2023-02-03T18:57:39.868Z"
   },
   {
    "duration": 4,
    "start_time": "2023-02-03T18:57:40.093Z"
   },
   {
    "duration": 9,
    "start_time": "2023-02-03T18:57:40.099Z"
   },
   {
    "duration": 147,
    "start_time": "2023-02-03T18:57:40.109Z"
   },
   {
    "duration": 137,
    "start_time": "2023-02-03T18:57:40.258Z"
   },
   {
    "duration": 5,
    "start_time": "2023-02-03T18:57:40.396Z"
   },
   {
    "duration": 13,
    "start_time": "2023-02-03T18:57:40.403Z"
   },
   {
    "duration": 145,
    "start_time": "2023-02-03T18:57:40.417Z"
   },
   {
    "duration": 160,
    "start_time": "2023-02-03T18:57:40.564Z"
   },
   {
    "duration": 5,
    "start_time": "2023-02-03T18:57:40.726Z"
   },
   {
    "duration": 18,
    "start_time": "2023-02-03T18:57:40.732Z"
   },
   {
    "duration": 173,
    "start_time": "2023-02-03T18:57:40.751Z"
   },
   {
    "duration": 5,
    "start_time": "2023-02-03T18:57:40.926Z"
   },
   {
    "duration": 27,
    "start_time": "2023-02-03T18:57:40.933Z"
   },
   {
    "duration": 997,
    "start_time": "2023-02-03T18:57:40.961Z"
   },
   {
    "duration": 3,
    "start_time": "2023-02-03T18:57:41.959Z"
   },
   {
    "duration": 1027,
    "start_time": "2023-02-03T18:57:41.964Z"
   },
   {
    "duration": 3,
    "start_time": "2023-02-03T18:57:42.993Z"
   },
   {
    "duration": 725,
    "start_time": "2023-02-03T18:57:42.997Z"
   },
   {
    "duration": 24,
    "start_time": "2023-02-03T18:57:43.724Z"
   },
   {
    "duration": 4,
    "start_time": "2023-02-03T18:57:43.751Z"
   },
   {
    "duration": 29,
    "start_time": "2023-02-03T18:57:43.757Z"
   },
   {
    "duration": 6,
    "start_time": "2023-02-03T18:57:43.788Z"
   },
   {
    "duration": 14,
    "start_time": "2023-02-03T18:58:07.176Z"
   },
   {
    "duration": 14,
    "start_time": "2023-02-03T18:58:19.597Z"
   },
   {
    "duration": 7,
    "start_time": "2023-02-03T19:06:16.998Z"
   },
   {
    "duration": 75,
    "start_time": "2023-02-03T19:16:52.379Z"
   },
   {
    "duration": 73,
    "start_time": "2023-02-03T19:17:52.378Z"
   },
   {
    "duration": 123,
    "start_time": "2023-02-03T19:29:46.248Z"
   },
   {
    "duration": 9,
    "start_time": "2023-02-03T19:30:00.265Z"
   },
   {
    "duration": 305,
    "start_time": "2023-02-03T19:32:36.939Z"
   },
   {
    "duration": 10,
    "start_time": "2023-02-03T19:51:40.918Z"
   },
   {
    "duration": 1234,
    "start_time": "2023-02-03T19:52:13.247Z"
   },
   {
    "duration": 17,
    "start_time": "2023-02-03T19:52:14.483Z"
   },
   {
    "duration": 15,
    "start_time": "2023-02-03T19:52:14.502Z"
   },
   {
    "duration": 19,
    "start_time": "2023-02-03T19:52:14.519Z"
   },
   {
    "duration": 10,
    "start_time": "2023-02-03T19:52:14.540Z"
   },
   {
    "duration": 12,
    "start_time": "2023-02-03T19:52:14.551Z"
   },
   {
    "duration": 18,
    "start_time": "2023-02-03T19:52:14.564Z"
   },
   {
    "duration": 2,
    "start_time": "2023-02-03T19:52:14.584Z"
   },
   {
    "duration": 13,
    "start_time": "2023-02-03T19:52:14.588Z"
   },
   {
    "duration": 8,
    "start_time": "2023-02-03T19:52:14.604Z"
   },
   {
    "duration": 11,
    "start_time": "2023-02-03T19:52:14.613Z"
   },
   {
    "duration": 25,
    "start_time": "2023-02-03T19:52:14.625Z"
   },
   {
    "duration": 5,
    "start_time": "2023-02-03T19:52:14.651Z"
   },
   {
    "duration": 23,
    "start_time": "2023-02-03T19:52:14.657Z"
   },
   {
    "duration": 58,
    "start_time": "2023-02-03T19:52:14.681Z"
   },
   {
    "duration": 12,
    "start_time": "2023-02-03T19:52:14.741Z"
   },
   {
    "duration": 28,
    "start_time": "2023-02-03T19:52:14.754Z"
   },
   {
    "duration": 13,
    "start_time": "2023-02-03T19:52:14.783Z"
   },
   {
    "duration": 21,
    "start_time": "2023-02-03T19:52:14.798Z"
   },
   {
    "duration": 94,
    "start_time": "2023-02-03T19:52:14.820Z"
   },
   {
    "duration": 0,
    "start_time": "2023-02-03T19:52:14.916Z"
   },
   {
    "duration": 0,
    "start_time": "2023-02-03T19:52:14.918Z"
   },
   {
    "duration": 0,
    "start_time": "2023-02-03T19:52:14.919Z"
   },
   {
    "duration": 0,
    "start_time": "2023-02-03T19:52:14.920Z"
   },
   {
    "duration": 0,
    "start_time": "2023-02-03T19:52:14.921Z"
   },
   {
    "duration": 0,
    "start_time": "2023-02-03T19:52:14.922Z"
   },
   {
    "duration": 0,
    "start_time": "2023-02-03T19:52:14.923Z"
   },
   {
    "duration": 0,
    "start_time": "2023-02-03T19:52:14.925Z"
   },
   {
    "duration": 0,
    "start_time": "2023-02-03T19:52:14.926Z"
   },
   {
    "duration": 0,
    "start_time": "2023-02-03T19:52:14.927Z"
   },
   {
    "duration": 0,
    "start_time": "2023-02-03T19:52:14.948Z"
   },
   {
    "duration": 0,
    "start_time": "2023-02-03T19:52:14.950Z"
   },
   {
    "duration": 0,
    "start_time": "2023-02-03T19:52:14.950Z"
   },
   {
    "duration": 0,
    "start_time": "2023-02-03T19:52:14.952Z"
   },
   {
    "duration": 0,
    "start_time": "2023-02-03T19:52:14.953Z"
   },
   {
    "duration": 0,
    "start_time": "2023-02-03T19:52:14.954Z"
   },
   {
    "duration": 0,
    "start_time": "2023-02-03T19:52:14.955Z"
   },
   {
    "duration": 0,
    "start_time": "2023-02-03T19:52:14.956Z"
   },
   {
    "duration": 0,
    "start_time": "2023-02-03T19:52:14.957Z"
   },
   {
    "duration": 0,
    "start_time": "2023-02-03T19:52:14.958Z"
   },
   {
    "duration": 0,
    "start_time": "2023-02-03T19:52:14.959Z"
   },
   {
    "duration": 0,
    "start_time": "2023-02-03T19:52:14.961Z"
   },
   {
    "duration": 0,
    "start_time": "2023-02-03T19:52:14.961Z"
   },
   {
    "duration": 0,
    "start_time": "2023-02-03T19:52:14.962Z"
   },
   {
    "duration": 0,
    "start_time": "2023-02-03T19:52:14.964Z"
   },
   {
    "duration": 0,
    "start_time": "2023-02-03T19:52:14.965Z"
   },
   {
    "duration": 0,
    "start_time": "2023-02-03T19:52:14.966Z"
   },
   {
    "duration": 0,
    "start_time": "2023-02-03T19:52:14.967Z"
   },
   {
    "duration": 0,
    "start_time": "2023-02-03T19:52:14.968Z"
   },
   {
    "duration": 0,
    "start_time": "2023-02-03T19:52:14.970Z"
   },
   {
    "duration": 0,
    "start_time": "2023-02-03T19:52:14.971Z"
   },
   {
    "duration": 0,
    "start_time": "2023-02-03T19:52:14.972Z"
   },
   {
    "duration": 0,
    "start_time": "2023-02-03T19:52:14.973Z"
   },
   {
    "duration": 0,
    "start_time": "2023-02-03T19:52:14.974Z"
   },
   {
    "duration": 0,
    "start_time": "2023-02-03T19:52:14.975Z"
   },
   {
    "duration": 11,
    "start_time": "2023-02-03T19:52:35.393Z"
   },
   {
    "duration": 10,
    "start_time": "2023-02-03T19:52:52.955Z"
   },
   {
    "duration": 51,
    "start_time": "2023-02-03T19:53:37.940Z"
   },
   {
    "duration": 13,
    "start_time": "2023-02-03T19:53:38.774Z"
   },
   {
    "duration": 14,
    "start_time": "2023-02-03T19:53:41.172Z"
   },
   {
    "duration": 17,
    "start_time": "2023-02-03T19:53:42.714Z"
   },
   {
    "duration": 5,
    "start_time": "2023-02-03T19:53:46.393Z"
   },
   {
    "duration": 2,
    "start_time": "2023-02-03T19:53:50.150Z"
   },
   {
    "duration": 14,
    "start_time": "2023-02-03T19:53:53.154Z"
   },
   {
    "duration": 2,
    "start_time": "2023-02-03T19:53:53.929Z"
   },
   {
    "duration": 7,
    "start_time": "2023-02-03T19:53:55.129Z"
   },
   {
    "duration": 4,
    "start_time": "2023-02-03T19:53:57.436Z"
   },
   {
    "duration": 7,
    "start_time": "2023-02-03T19:53:57.926Z"
   },
   {
    "duration": 5,
    "start_time": "2023-02-03T19:53:58.246Z"
   },
   {
    "duration": 5,
    "start_time": "2023-02-03T19:53:58.922Z"
   },
   {
    "duration": 12,
    "start_time": "2023-02-03T19:53:59.283Z"
   },
   {
    "duration": 45,
    "start_time": "2023-02-03T19:53:59.800Z"
   },
   {
    "duration": 14,
    "start_time": "2023-02-03T19:54:00.631Z"
   },
   {
    "duration": 11,
    "start_time": "2023-02-03T19:54:06.090Z"
   },
   {
    "duration": 9,
    "start_time": "2023-02-03T19:54:08.755Z"
   },
   {
    "duration": 8,
    "start_time": "2023-02-03T19:54:11.747Z"
   },
   {
    "duration": 8,
    "start_time": "2023-02-03T19:54:34.650Z"
   },
   {
    "duration": 10,
    "start_time": "2023-02-03T19:55:06.945Z"
   },
   {
    "duration": 1136,
    "start_time": "2023-02-03T19:55:26.484Z"
   },
   {
    "duration": 18,
    "start_time": "2023-02-03T19:55:27.622Z"
   },
   {
    "duration": 16,
    "start_time": "2023-02-03T19:55:27.641Z"
   },
   {
    "duration": 14,
    "start_time": "2023-02-03T19:55:27.659Z"
   },
   {
    "duration": 5,
    "start_time": "2023-02-03T19:55:27.674Z"
   },
   {
    "duration": 6,
    "start_time": "2023-02-03T19:55:27.681Z"
   },
   {
    "duration": 15,
    "start_time": "2023-02-03T19:55:27.689Z"
   },
   {
    "duration": 2,
    "start_time": "2023-02-03T19:55:27.706Z"
   },
   {
    "duration": 9,
    "start_time": "2023-02-03T19:55:27.710Z"
   },
   {
    "duration": 4,
    "start_time": "2023-02-03T19:55:27.748Z"
   },
   {
    "duration": 9,
    "start_time": "2023-02-03T19:55:27.754Z"
   },
   {
    "duration": 9,
    "start_time": "2023-02-03T19:55:27.765Z"
   },
   {
    "duration": 6,
    "start_time": "2023-02-03T19:55:27.775Z"
   },
   {
    "duration": 15,
    "start_time": "2023-02-03T19:55:27.782Z"
   },
   {
    "duration": 81,
    "start_time": "2023-02-03T19:55:27.799Z"
   },
   {
    "duration": 13,
    "start_time": "2023-02-03T19:55:27.883Z"
   },
   {
    "duration": 14,
    "start_time": "2023-02-03T19:55:27.898Z"
   },
   {
    "duration": 10,
    "start_time": "2023-02-03T19:55:27.913Z"
   },
   {
    "duration": 31,
    "start_time": "2023-02-03T19:55:27.924Z"
   },
   {
    "duration": 10,
    "start_time": "2023-02-03T19:55:27.956Z"
   },
   {
    "duration": 8,
    "start_time": "2023-02-03T19:55:27.967Z"
   },
   {
    "duration": 12,
    "start_time": "2023-02-03T19:55:27.976Z"
   },
   {
    "duration": 28,
    "start_time": "2023-02-03T19:55:27.990Z"
   },
   {
    "duration": 13,
    "start_time": "2023-02-03T19:55:28.020Z"
   },
   {
    "duration": 180,
    "start_time": "2023-02-03T19:55:28.049Z"
   },
   {
    "duration": 17,
    "start_time": "2023-02-03T19:55:28.231Z"
   },
   {
    "duration": 306,
    "start_time": "2023-02-03T19:55:28.250Z"
   },
   {
    "duration": 202,
    "start_time": "2023-02-03T19:55:28.559Z"
   },
   {
    "duration": 27,
    "start_time": "2023-02-03T19:55:28.763Z"
   },
   {
    "duration": 249,
    "start_time": "2023-02-03T19:55:28.792Z"
   },
   {
    "duration": 201,
    "start_time": "2023-02-03T19:55:29.043Z"
   },
   {
    "duration": 166,
    "start_time": "2023-02-03T19:55:29.248Z"
   },
   {
    "duration": 233,
    "start_time": "2023-02-03T19:55:29.417Z"
   },
   {
    "duration": 5,
    "start_time": "2023-02-03T19:55:29.652Z"
   },
   {
    "duration": 12,
    "start_time": "2023-02-03T19:55:29.658Z"
   },
   {
    "duration": 136,
    "start_time": "2023-02-03T19:55:29.671Z"
   },
   {
    "duration": 133,
    "start_time": "2023-02-03T19:55:29.809Z"
   },
   {
    "duration": 7,
    "start_time": "2023-02-03T19:55:29.944Z"
   },
   {
    "duration": 13,
    "start_time": "2023-02-03T19:55:29.952Z"
   },
   {
    "duration": 132,
    "start_time": "2023-02-03T19:55:29.967Z"
   },
   {
    "duration": 156,
    "start_time": "2023-02-03T19:55:30.101Z"
   },
   {
    "duration": 6,
    "start_time": "2023-02-03T19:55:30.259Z"
   },
   {
    "duration": 29,
    "start_time": "2023-02-03T19:55:30.266Z"
   },
   {
    "duration": 165,
    "start_time": "2023-02-03T19:55:30.297Z"
   },
   {
    "duration": 7,
    "start_time": "2023-02-03T19:55:30.464Z"
   },
   {
    "duration": 44,
    "start_time": "2023-02-03T19:55:30.473Z"
   },
   {
    "duration": 1007,
    "start_time": "2023-02-03T19:55:30.519Z"
   },
   {
    "duration": 4,
    "start_time": "2023-02-03T19:55:31.528Z"
   },
   {
    "duration": 1049,
    "start_time": "2023-02-03T19:55:31.533Z"
   },
   {
    "duration": 3,
    "start_time": "2023-02-03T19:55:32.584Z"
   },
   {
    "duration": 616,
    "start_time": "2023-02-03T19:55:32.589Z"
   },
   {
    "duration": 12,
    "start_time": "2023-02-03T19:55:33.206Z"
   },
   {
    "duration": 8,
    "start_time": "2023-02-03T19:55:33.219Z"
   },
   {
    "duration": 24,
    "start_time": "2023-02-03T19:55:33.229Z"
   },
   {
    "duration": 4,
    "start_time": "2023-02-03T19:55:33.255Z"
   },
   {
    "duration": 208,
    "start_time": "2023-02-03T19:55:56.532Z"
   },
   {
    "duration": 209,
    "start_time": "2023-02-03T19:56:31.789Z"
   },
   {
    "duration": 232,
    "start_time": "2023-02-03T19:57:23.741Z"
   },
   {
    "duration": 240,
    "start_time": "2023-02-03T19:57:37.147Z"
   },
   {
    "duration": 8,
    "start_time": "2023-02-03T19:59:20.526Z"
   },
   {
    "duration": 26,
    "start_time": "2023-02-03T20:02:21.138Z"
   },
   {
    "duration": 1159,
    "start_time": "2023-02-03T20:02:39.474Z"
   },
   {
    "duration": 18,
    "start_time": "2023-02-03T20:02:40.634Z"
   },
   {
    "duration": 14,
    "start_time": "2023-02-03T20:02:40.654Z"
   },
   {
    "duration": 20,
    "start_time": "2023-02-03T20:02:40.670Z"
   },
   {
    "duration": 4,
    "start_time": "2023-02-03T20:02:40.692Z"
   },
   {
    "duration": 8,
    "start_time": "2023-02-03T20:02:40.697Z"
   },
   {
    "duration": 20,
    "start_time": "2023-02-03T20:02:40.706Z"
   },
   {
    "duration": 2,
    "start_time": "2023-02-03T20:02:40.728Z"
   },
   {
    "duration": 159,
    "start_time": "2023-02-03T20:02:40.731Z"
   },
   {
    "duration": 6,
    "start_time": "2023-02-03T20:02:40.893Z"
   },
   {
    "duration": 8,
    "start_time": "2023-02-03T20:02:40.901Z"
   },
   {
    "duration": 8,
    "start_time": "2023-02-03T20:02:40.910Z"
   },
   {
    "duration": 7,
    "start_time": "2023-02-03T20:02:40.919Z"
   },
   {
    "duration": 15,
    "start_time": "2023-02-03T20:02:40.928Z"
   },
   {
    "duration": 47,
    "start_time": "2023-02-03T20:02:40.945Z"
   },
   {
    "duration": 13,
    "start_time": "2023-02-03T20:02:40.993Z"
   },
   {
    "duration": 15,
    "start_time": "2023-02-03T20:02:41.008Z"
   },
   {
    "duration": 23,
    "start_time": "2023-02-03T20:02:41.025Z"
   },
   {
    "duration": 24,
    "start_time": "2023-02-03T20:02:41.050Z"
   },
   {
    "duration": 9,
    "start_time": "2023-02-03T20:02:41.076Z"
   },
   {
    "duration": 9,
    "start_time": "2023-02-03T20:02:41.086Z"
   },
   {
    "duration": 9,
    "start_time": "2023-02-03T20:02:41.096Z"
   },
   {
    "duration": 49,
    "start_time": "2023-02-03T20:02:41.106Z"
   },
   {
    "duration": 14,
    "start_time": "2023-02-03T20:02:41.157Z"
   },
   {
    "duration": 200,
    "start_time": "2023-02-03T20:02:41.172Z"
   },
   {
    "duration": 10,
    "start_time": "2023-02-03T20:02:41.374Z"
   },
   {
    "duration": 298,
    "start_time": "2023-02-03T20:02:41.386Z"
   },
   {
    "duration": 210,
    "start_time": "2023-02-03T20:02:41.688Z"
   },
   {
    "duration": 28,
    "start_time": "2023-02-03T20:02:41.900Z"
   },
   {
    "duration": 247,
    "start_time": "2023-02-03T20:02:41.930Z"
   },
   {
    "duration": 182,
    "start_time": "2023-02-03T20:02:42.179Z"
   },
   {
    "duration": 148,
    "start_time": "2023-02-03T20:02:42.363Z"
   },
   {
    "duration": 168,
    "start_time": "2023-02-03T20:02:42.513Z"
   },
   {
    "duration": 5,
    "start_time": "2023-02-03T20:02:42.683Z"
   },
   {
    "duration": 7,
    "start_time": "2023-02-03T20:02:42.689Z"
   },
   {
    "duration": 216,
    "start_time": "2023-02-03T20:02:42.698Z"
   },
   {
    "duration": 130,
    "start_time": "2023-02-03T20:02:42.916Z"
   },
   {
    "duration": 5,
    "start_time": "2023-02-03T20:02:43.048Z"
   },
   {
    "duration": 9,
    "start_time": "2023-02-03T20:02:43.054Z"
   },
   {
    "duration": 138,
    "start_time": "2023-02-03T20:02:43.064Z"
   },
   {
    "duration": 156,
    "start_time": "2023-02-03T20:02:43.203Z"
   },
   {
    "duration": 5,
    "start_time": "2023-02-03T20:02:43.361Z"
   },
   {
    "duration": 8,
    "start_time": "2023-02-03T20:02:43.368Z"
   },
   {
    "duration": 228,
    "start_time": "2023-02-03T20:02:43.377Z"
   },
   {
    "duration": 6,
    "start_time": "2023-02-03T20:02:43.608Z"
   },
   {
    "duration": 34,
    "start_time": "2023-02-03T20:02:43.616Z"
   },
   {
    "duration": 924,
    "start_time": "2023-02-03T20:02:43.652Z"
   },
   {
    "duration": 4,
    "start_time": "2023-02-03T20:02:44.578Z"
   },
   {
    "duration": 1080,
    "start_time": "2023-02-03T20:02:44.584Z"
   },
   {
    "duration": 4,
    "start_time": "2023-02-03T20:02:45.666Z"
   },
   {
    "duration": 533,
    "start_time": "2023-02-03T20:02:45.672Z"
   },
   {
    "duration": 12,
    "start_time": "2023-02-03T20:02:46.207Z"
   },
   {
    "duration": 6,
    "start_time": "2023-02-03T20:02:46.221Z"
   },
   {
    "duration": 37,
    "start_time": "2023-02-03T20:02:46.229Z"
   },
   {
    "duration": 17,
    "start_time": "2023-02-03T20:02:46.268Z"
   },
   {
    "duration": 164,
    "start_time": "2023-02-03T20:07:57.945Z"
   },
   {
    "duration": 170,
    "start_time": "2023-02-03T20:08:16.645Z"
   },
   {
    "duration": 172,
    "start_time": "2023-02-03T20:08:29.189Z"
   },
   {
    "duration": 203,
    "start_time": "2023-02-03T20:09:13.305Z"
   },
   {
    "duration": 149,
    "start_time": "2023-02-03T20:10:50.532Z"
   },
   {
    "duration": 5,
    "start_time": "2023-02-03T20:11:19.301Z"
   },
   {
    "duration": 6,
    "start_time": "2023-02-03T20:11:35.406Z"
   },
   {
    "duration": 126,
    "start_time": "2023-02-03T20:12:50.038Z"
   },
   {
    "duration": 139,
    "start_time": "2023-02-03T20:13:00.259Z"
   },
   {
    "duration": 5,
    "start_time": "2023-02-03T20:13:06.342Z"
   },
   {
    "duration": 5,
    "start_time": "2023-02-03T20:13:09.386Z"
   },
   {
    "duration": 140,
    "start_time": "2023-02-03T20:13:25.418Z"
   },
   {
    "duration": 139,
    "start_time": "2023-02-03T20:13:35.614Z"
   },
   {
    "duration": 5,
    "start_time": "2023-02-03T20:13:39.545Z"
   },
   {
    "duration": 5,
    "start_time": "2023-02-03T20:13:41.983Z"
   },
   {
    "duration": 156,
    "start_time": "2023-02-03T20:14:24.224Z"
   },
   {
    "duration": 1193,
    "start_time": "2023-02-03T20:14:46.120Z"
   },
   {
    "duration": 18,
    "start_time": "2023-02-03T20:14:47.315Z"
   },
   {
    "duration": 14,
    "start_time": "2023-02-03T20:14:47.335Z"
   },
   {
    "duration": 17,
    "start_time": "2023-02-03T20:14:47.351Z"
   },
   {
    "duration": 4,
    "start_time": "2023-02-03T20:14:47.369Z"
   },
   {
    "duration": 31,
    "start_time": "2023-02-03T20:14:47.375Z"
   },
   {
    "duration": 25,
    "start_time": "2023-02-03T20:14:47.407Z"
   },
   {
    "duration": 2,
    "start_time": "2023-02-03T20:14:47.434Z"
   },
   {
    "duration": 18,
    "start_time": "2023-02-03T20:14:47.438Z"
   },
   {
    "duration": 8,
    "start_time": "2023-02-03T20:14:47.458Z"
   },
   {
    "duration": 9,
    "start_time": "2023-02-03T20:14:47.468Z"
   },
   {
    "duration": 11,
    "start_time": "2023-02-03T20:14:47.478Z"
   },
   {
    "duration": 7,
    "start_time": "2023-02-03T20:14:47.490Z"
   },
   {
    "duration": 18,
    "start_time": "2023-02-03T20:14:47.499Z"
   },
   {
    "duration": 49,
    "start_time": "2023-02-03T20:14:47.519Z"
   },
   {
    "duration": 14,
    "start_time": "2023-02-03T20:14:47.570Z"
   },
   {
    "duration": 17,
    "start_time": "2023-02-03T20:14:47.586Z"
   },
   {
    "duration": 10,
    "start_time": "2023-02-03T20:14:47.605Z"
   },
   {
    "duration": 54,
    "start_time": "2023-02-03T20:14:47.616Z"
   },
   {
    "duration": 10,
    "start_time": "2023-02-03T20:14:47.672Z"
   },
   {
    "duration": 9,
    "start_time": "2023-02-03T20:14:47.683Z"
   },
   {
    "duration": 14,
    "start_time": "2023-02-03T20:14:47.693Z"
   },
   {
    "duration": 47,
    "start_time": "2023-02-03T20:14:47.708Z"
   },
   {
    "duration": 17,
    "start_time": "2023-02-03T20:14:47.757Z"
   },
   {
    "duration": 201,
    "start_time": "2023-02-03T20:14:47.776Z"
   },
   {
    "duration": 9,
    "start_time": "2023-02-03T20:14:47.979Z"
   },
   {
    "duration": 307,
    "start_time": "2023-02-03T20:14:47.990Z"
   },
   {
    "duration": 213,
    "start_time": "2023-02-03T20:14:48.301Z"
   },
   {
    "duration": 37,
    "start_time": "2023-02-03T20:14:48.516Z"
   },
   {
    "duration": 249,
    "start_time": "2023-02-03T20:14:48.554Z"
   },
   {
    "duration": 184,
    "start_time": "2023-02-03T20:14:48.805Z"
   },
   {
    "duration": 162,
    "start_time": "2023-02-03T20:14:48.990Z"
   },
   {
    "duration": 147,
    "start_time": "2023-02-03T20:14:49.153Z"
   },
   {
    "duration": 4,
    "start_time": "2023-02-03T20:14:49.302Z"
   },
   {
    "duration": 8,
    "start_time": "2023-02-03T20:14:49.307Z"
   },
   {
    "duration": 205,
    "start_time": "2023-02-03T20:14:49.317Z"
   },
   {
    "duration": 150,
    "start_time": "2023-02-03T20:14:49.523Z"
   },
   {
    "duration": 4,
    "start_time": "2023-02-03T20:14:49.675Z"
   },
   {
    "duration": 8,
    "start_time": "2023-02-03T20:14:49.680Z"
   },
   {
    "duration": 151,
    "start_time": "2023-02-03T20:14:49.690Z"
   },
   {
    "duration": 144,
    "start_time": "2023-02-03T20:14:49.843Z"
   },
   {
    "duration": 4,
    "start_time": "2023-02-03T20:14:49.989Z"
   },
   {
    "duration": 13,
    "start_time": "2023-02-03T20:14:49.995Z"
   },
   {
    "duration": 166,
    "start_time": "2023-02-03T20:14:50.010Z"
   },
   {
    "duration": 5,
    "start_time": "2023-02-03T20:14:50.178Z"
   },
   {
    "duration": 20,
    "start_time": "2023-02-03T20:14:50.185Z"
   },
   {
    "duration": 862,
    "start_time": "2023-02-03T20:14:50.207Z"
   },
   {
    "duration": 3,
    "start_time": "2023-02-03T20:14:51.071Z"
   },
   {
    "duration": 1044,
    "start_time": "2023-02-03T20:14:51.075Z"
   },
   {
    "duration": 4,
    "start_time": "2023-02-03T20:14:52.121Z"
   },
   {
    "duration": 524,
    "start_time": "2023-02-03T20:14:52.127Z"
   },
   {
    "duration": 12,
    "start_time": "2023-02-03T20:14:52.652Z"
   },
   {
    "duration": 12,
    "start_time": "2023-02-03T20:14:52.666Z"
   },
   {
    "duration": 16,
    "start_time": "2023-02-03T20:14:52.680Z"
   },
   {
    "duration": 10,
    "start_time": "2023-02-03T20:14:52.697Z"
   },
   {
    "duration": 1192,
    "start_time": "2023-02-03T20:18:49.022Z"
   },
   {
    "duration": 20,
    "start_time": "2023-02-03T20:18:50.216Z"
   },
   {
    "duration": 13,
    "start_time": "2023-02-03T20:18:50.237Z"
   },
   {
    "duration": 17,
    "start_time": "2023-02-03T20:18:50.252Z"
   },
   {
    "duration": 4,
    "start_time": "2023-02-03T20:18:50.271Z"
   },
   {
    "duration": 6,
    "start_time": "2023-02-03T20:18:50.276Z"
   },
   {
    "duration": 15,
    "start_time": "2023-02-03T20:18:50.283Z"
   },
   {
    "duration": 7,
    "start_time": "2023-02-03T20:18:50.299Z"
   },
   {
    "duration": 13,
    "start_time": "2023-02-03T20:18:50.307Z"
   },
   {
    "duration": 5,
    "start_time": "2023-02-03T20:18:50.323Z"
   },
   {
    "duration": 22,
    "start_time": "2023-02-03T20:18:50.329Z"
   },
   {
    "duration": 14,
    "start_time": "2023-02-03T20:18:50.353Z"
   },
   {
    "duration": 8,
    "start_time": "2023-02-03T20:18:50.368Z"
   },
   {
    "duration": 25,
    "start_time": "2023-02-03T20:18:50.377Z"
   },
   {
    "duration": 48,
    "start_time": "2023-02-03T20:18:50.404Z"
   },
   {
    "duration": 13,
    "start_time": "2023-02-03T20:18:50.454Z"
   },
   {
    "duration": 18,
    "start_time": "2023-02-03T20:18:50.469Z"
   },
   {
    "duration": 10,
    "start_time": "2023-02-03T20:18:50.488Z"
   },
   {
    "duration": 29,
    "start_time": "2023-02-03T20:18:50.499Z"
   },
   {
    "duration": 27,
    "start_time": "2023-02-03T20:18:50.530Z"
   },
   {
    "duration": 8,
    "start_time": "2023-02-03T20:18:50.558Z"
   },
   {
    "duration": 39,
    "start_time": "2023-02-03T20:18:50.568Z"
   },
   {
    "duration": 22,
    "start_time": "2023-02-03T20:18:50.608Z"
   },
   {
    "duration": 13,
    "start_time": "2023-02-03T20:18:50.631Z"
   },
   {
    "duration": 180,
    "start_time": "2023-02-03T20:18:50.646Z"
   },
   {
    "duration": 15,
    "start_time": "2023-02-03T20:18:50.827Z"
   },
   {
    "duration": 284,
    "start_time": "2023-02-03T20:18:50.848Z"
   },
   {
    "duration": 204,
    "start_time": "2023-02-03T20:18:51.136Z"
   },
   {
    "duration": 28,
    "start_time": "2023-02-03T20:18:51.342Z"
   },
   {
    "duration": 244,
    "start_time": "2023-02-03T20:18:51.372Z"
   },
   {
    "duration": 184,
    "start_time": "2023-02-03T20:18:51.617Z"
   },
   {
    "duration": 150,
    "start_time": "2023-02-03T20:18:51.802Z"
   },
   {
    "duration": 148,
    "start_time": "2023-02-03T20:18:51.953Z"
   },
   {
    "duration": 4,
    "start_time": "2023-02-03T20:18:52.102Z"
   },
   {
    "duration": 9,
    "start_time": "2023-02-03T20:18:52.108Z"
   },
   {
    "duration": 200,
    "start_time": "2023-02-03T20:18:52.118Z"
   },
   {
    "duration": 143,
    "start_time": "2023-02-03T20:18:52.320Z"
   },
   {
    "duration": 4,
    "start_time": "2023-02-03T20:18:52.464Z"
   },
   {
    "duration": 9,
    "start_time": "2023-02-03T20:18:52.470Z"
   },
   {
    "duration": 152,
    "start_time": "2023-02-03T20:18:52.481Z"
   },
   {
    "duration": 141,
    "start_time": "2023-02-03T20:18:52.635Z"
   },
   {
    "duration": 5,
    "start_time": "2023-02-03T20:18:52.778Z"
   },
   {
    "duration": 10,
    "start_time": "2023-02-03T20:18:52.785Z"
   },
   {
    "duration": 167,
    "start_time": "2023-02-03T20:18:52.797Z"
   },
   {
    "duration": 5,
    "start_time": "2023-02-03T20:18:52.966Z"
   },
   {
    "duration": 19,
    "start_time": "2023-02-03T20:18:52.972Z"
   },
   {
    "duration": 840,
    "start_time": "2023-02-03T20:18:52.992Z"
   },
   {
    "duration": 2,
    "start_time": "2023-02-03T20:18:53.834Z"
   },
   {
    "duration": 1020,
    "start_time": "2023-02-03T20:18:53.838Z"
   },
   {
    "duration": 3,
    "start_time": "2023-02-03T20:18:54.859Z"
   },
   {
    "duration": 623,
    "start_time": "2023-02-03T20:18:54.863Z"
   },
   {
    "duration": 66,
    "start_time": "2023-02-03T20:18:55.488Z"
   },
   {
    "duration": 7,
    "start_time": "2023-02-03T20:18:55.556Z"
   },
   {
    "duration": 13,
    "start_time": "2023-02-03T20:18:55.565Z"
   },
   {
    "duration": 11,
    "start_time": "2023-02-03T20:18:55.580Z"
   },
   {
    "duration": 60,
    "start_time": "2023-02-04T07:45:01.450Z"
   },
   {
    "duration": 1480,
    "start_time": "2023-02-04T07:45:12.257Z"
   },
   {
    "duration": 19,
    "start_time": "2023-02-04T07:45:13.739Z"
   },
   {
    "duration": 19,
    "start_time": "2023-02-04T07:45:13.760Z"
   },
   {
    "duration": 23,
    "start_time": "2023-02-04T07:45:13.781Z"
   },
   {
    "duration": 5,
    "start_time": "2023-02-04T07:45:13.806Z"
   },
   {
    "duration": 9,
    "start_time": "2023-02-04T07:45:13.812Z"
   },
   {
    "duration": 24,
    "start_time": "2023-02-04T07:45:13.823Z"
   },
   {
    "duration": 3,
    "start_time": "2023-02-04T07:45:13.848Z"
   },
   {
    "duration": 17,
    "start_time": "2023-02-04T07:45:13.853Z"
   },
   {
    "duration": 27,
    "start_time": "2023-02-04T07:45:13.872Z"
   },
   {
    "duration": 38,
    "start_time": "2023-02-04T07:45:13.902Z"
   },
   {
    "duration": 11,
    "start_time": "2023-02-04T07:45:13.942Z"
   },
   {
    "duration": 16,
    "start_time": "2023-02-04T07:45:13.956Z"
   },
   {
    "duration": 25,
    "start_time": "2023-02-04T07:45:13.974Z"
   },
   {
    "duration": 71,
    "start_time": "2023-02-04T07:45:14.001Z"
   },
   {
    "duration": 30,
    "start_time": "2023-02-04T07:45:14.075Z"
   },
   {
    "duration": 29,
    "start_time": "2023-02-04T07:45:14.107Z"
   },
   {
    "duration": 24,
    "start_time": "2023-02-04T07:45:14.139Z"
   },
   {
    "duration": 36,
    "start_time": "2023-02-04T07:45:14.165Z"
   },
   {
    "duration": 10,
    "start_time": "2023-02-04T07:45:14.203Z"
   },
   {
    "duration": 13,
    "start_time": "2023-02-04T07:45:14.215Z"
   },
   {
    "duration": 10,
    "start_time": "2023-02-04T07:45:14.229Z"
   },
   {
    "duration": 18,
    "start_time": "2023-02-04T07:45:14.240Z"
   },
   {
    "duration": 58,
    "start_time": "2023-02-04T07:45:14.260Z"
   },
   {
    "duration": 225,
    "start_time": "2023-02-04T07:45:14.321Z"
   },
   {
    "duration": 13,
    "start_time": "2023-02-04T07:45:14.547Z"
   },
   {
    "duration": 357,
    "start_time": "2023-02-04T07:45:14.561Z"
   },
   {
    "duration": 281,
    "start_time": "2023-02-04T07:45:14.924Z"
   },
   {
    "duration": 35,
    "start_time": "2023-02-04T07:45:15.208Z"
   },
   {
    "duration": 326,
    "start_time": "2023-02-04T07:45:15.246Z"
   },
   {
    "duration": 227,
    "start_time": "2023-02-04T07:45:15.575Z"
   },
   {
    "duration": 197,
    "start_time": "2023-02-04T07:45:15.804Z"
   },
   {
    "duration": 205,
    "start_time": "2023-02-04T07:45:16.004Z"
   },
   {
    "duration": 5,
    "start_time": "2023-02-04T07:45:16.211Z"
   },
   {
    "duration": 9,
    "start_time": "2023-02-04T07:45:16.218Z"
   },
   {
    "duration": 291,
    "start_time": "2023-02-04T07:45:16.229Z"
   },
   {
    "duration": 164,
    "start_time": "2023-02-04T07:45:16.522Z"
   },
   {
    "duration": 13,
    "start_time": "2023-02-04T07:45:16.688Z"
   },
   {
    "duration": 6,
    "start_time": "2023-02-04T07:45:16.703Z"
   },
   {
    "duration": 188,
    "start_time": "2023-02-04T07:45:16.711Z"
   },
   {
    "duration": 166,
    "start_time": "2023-02-04T07:45:16.900Z"
   },
   {
    "duration": 8,
    "start_time": "2023-02-04T07:45:17.068Z"
   },
   {
    "duration": 21,
    "start_time": "2023-02-04T07:45:17.079Z"
   },
   {
    "duration": 192,
    "start_time": "2023-02-04T07:45:17.102Z"
   },
   {
    "duration": 8,
    "start_time": "2023-02-04T07:45:17.295Z"
   },
   {
    "duration": 25,
    "start_time": "2023-02-04T07:45:17.305Z"
   },
   {
    "duration": 1199,
    "start_time": "2023-02-04T07:45:17.332Z"
   },
   {
    "duration": 4,
    "start_time": "2023-02-04T07:45:18.533Z"
   },
   {
    "duration": 1182,
    "start_time": "2023-02-04T07:45:18.539Z"
   },
   {
    "duration": 4,
    "start_time": "2023-02-04T07:45:19.722Z"
   },
   {
    "duration": 589,
    "start_time": "2023-02-04T07:45:19.727Z"
   },
   {
    "duration": 13,
    "start_time": "2023-02-04T07:45:20.319Z"
   },
   {
    "duration": 24,
    "start_time": "2023-02-04T07:45:20.334Z"
   },
   {
    "duration": 34,
    "start_time": "2023-02-04T07:45:20.361Z"
   },
   {
    "duration": 19,
    "start_time": "2023-02-04T07:45:20.396Z"
   },
   {
    "duration": 14,
    "start_time": "2023-02-04T07:45:37.084Z"
   },
   {
    "duration": 12,
    "start_time": "2023-02-04T07:47:03.074Z"
   },
   {
    "duration": 110,
    "start_time": "2023-02-04T07:50:09.968Z"
   },
   {
    "duration": 13,
    "start_time": "2023-02-04T07:50:12.521Z"
   },
   {
    "duration": 531,
    "start_time": "2023-02-04T07:50:32.325Z"
   },
   {
    "duration": 112,
    "start_time": "2023-02-04T08:12:20.628Z"
   },
   {
    "duration": 262,
    "start_time": "2023-02-04T08:12:43.867Z"
   },
   {
    "duration": 120,
    "start_time": "2023-02-04T08:13:33.435Z"
   },
   {
    "duration": 932,
    "start_time": "2023-02-04T08:14:03.832Z"
   },
   {
    "duration": 12,
    "start_time": "2023-02-04T08:18:25.043Z"
   },
   {
    "duration": 287,
    "start_time": "2023-02-04T08:19:25.133Z"
   },
   {
    "duration": 52,
    "start_time": "2023-02-04T08:22:27.929Z"
   },
   {
    "duration": 692,
    "start_time": "2023-02-04T08:22:33.934Z"
   },
   {
    "duration": 265,
    "start_time": "2023-02-04T08:22:49.283Z"
   },
   {
    "duration": 45,
    "start_time": "2023-02-04T08:23:39.530Z"
   },
   {
    "duration": 66,
    "start_time": "2023-02-04T08:23:50.765Z"
   },
   {
    "duration": 65,
    "start_time": "2023-02-04T08:23:58.683Z"
   },
   {
    "duration": 149,
    "start_time": "2023-02-04T08:24:05.587Z"
   },
   {
    "duration": 121,
    "start_time": "2023-02-04T08:24:33.562Z"
   },
   {
    "duration": 125,
    "start_time": "2023-02-04T08:24:49.365Z"
   },
   {
    "duration": 130,
    "start_time": "2023-02-04T08:24:58.931Z"
   },
   {
    "duration": 324,
    "start_time": "2023-02-04T08:25:14.945Z"
   },
   {
    "duration": 248,
    "start_time": "2023-02-04T08:25:48.630Z"
   },
   {
    "duration": 226,
    "start_time": "2023-02-04T08:26:04.921Z"
   },
   {
    "duration": 290,
    "start_time": "2023-02-04T08:26:20.482Z"
   },
   {
    "duration": 356,
    "start_time": "2023-02-04T08:28:30.333Z"
   },
   {
    "duration": 263,
    "start_time": "2023-02-04T08:28:40.268Z"
   },
   {
    "duration": 251,
    "start_time": "2023-02-04T08:28:47.428Z"
   },
   {
    "duration": 278,
    "start_time": "2023-02-04T08:28:56.831Z"
   },
   {
    "duration": 385,
    "start_time": "2023-02-04T08:29:03.556Z"
   },
   {
    "duration": 236,
    "start_time": "2023-02-04T08:29:08.724Z"
   },
   {
    "duration": 277,
    "start_time": "2023-02-04T08:29:32.926Z"
   },
   {
    "duration": 132,
    "start_time": "2023-02-04T08:38:31.561Z"
   },
   {
    "duration": 366,
    "start_time": "2023-02-04T08:38:44.053Z"
   },
   {
    "duration": 280,
    "start_time": "2023-02-04T08:41:22.475Z"
   },
   {
    "duration": 386,
    "start_time": "2023-02-04T08:41:35.688Z"
   },
   {
    "duration": 100,
    "start_time": "2023-02-04T08:47:03.247Z"
   },
   {
    "duration": 74,
    "start_time": "2023-02-04T08:49:30.197Z"
   },
   {
    "duration": 372,
    "start_time": "2023-02-04T09:28:40.486Z"
   },
   {
    "duration": 395,
    "start_time": "2023-02-04T09:28:57.072Z"
   },
   {
    "duration": 1675,
    "start_time": "2023-02-04T09:29:16.486Z"
   },
   {
    "duration": 403,
    "start_time": "2023-02-04T09:30:01.699Z"
   },
   {
    "duration": 704,
    "start_time": "2023-02-04T09:30:16.498Z"
   },
   {
    "duration": 430,
    "start_time": "2023-02-04T09:30:34.184Z"
   },
   {
    "duration": 565,
    "start_time": "2023-02-04T09:30:54.129Z"
   },
   {
    "duration": 325,
    "start_time": "2023-02-04T09:31:01.543Z"
   },
   {
    "duration": 348,
    "start_time": "2023-02-04T09:31:18.954Z"
   },
   {
    "duration": 304,
    "start_time": "2023-02-04T09:31:32.576Z"
   },
   {
    "duration": 421,
    "start_time": "2023-02-04T09:31:40.246Z"
   },
   {
    "duration": 969,
    "start_time": "2023-02-04T09:37:57.478Z"
   },
   {
    "duration": 929,
    "start_time": "2023-02-04T09:38:32.758Z"
   },
   {
    "duration": 28,
    "start_time": "2023-02-04T09:39:16.468Z"
   },
   {
    "duration": 878,
    "start_time": "2023-02-04T09:39:38.260Z"
   },
   {
    "duration": 1023,
    "start_time": "2023-02-04T09:40:53.538Z"
   },
   {
    "duration": 1029,
    "start_time": "2023-02-04T09:41:37.938Z"
   },
   {
    "duration": 923,
    "start_time": "2023-02-04T09:41:47.594Z"
   },
   {
    "duration": 977,
    "start_time": "2023-02-04T09:42:05.674Z"
   },
   {
    "duration": 1048,
    "start_time": "2023-02-04T09:42:15.132Z"
   },
   {
    "duration": 21,
    "start_time": "2023-02-04T09:43:16.017Z"
   },
   {
    "duration": 918,
    "start_time": "2023-02-04T09:43:24.309Z"
   },
   {
    "duration": 140,
    "start_time": "2023-02-04T09:46:23.209Z"
   },
   {
    "duration": 107,
    "start_time": "2023-02-04T09:46:55.231Z"
   },
   {
    "duration": 307,
    "start_time": "2023-02-04T09:47:37.005Z"
   },
   {
    "duration": 177,
    "start_time": "2023-02-04T09:53:32.230Z"
   },
   {
    "duration": 185,
    "start_time": "2023-02-04T09:54:16.792Z"
   },
   {
    "duration": 926,
    "start_time": "2023-02-04T09:55:58.728Z"
   },
   {
    "duration": 905,
    "start_time": "2023-02-04T09:56:36.789Z"
   },
   {
    "duration": 837,
    "start_time": "2023-02-04T09:56:54.699Z"
   },
   {
    "duration": 921,
    "start_time": "2023-02-04T09:57:27.387Z"
   },
   {
    "duration": 1368,
    "start_time": "2023-02-04T10:03:14.796Z"
   },
   {
    "duration": 20,
    "start_time": "2023-02-04T10:03:16.166Z"
   },
   {
    "duration": 22,
    "start_time": "2023-02-04T10:03:16.188Z"
   },
   {
    "duration": 20,
    "start_time": "2023-02-04T10:03:16.217Z"
   },
   {
    "duration": 6,
    "start_time": "2023-02-04T10:03:16.240Z"
   },
   {
    "duration": 8,
    "start_time": "2023-02-04T10:03:16.248Z"
   },
   {
    "duration": 22,
    "start_time": "2023-02-04T10:03:16.258Z"
   },
   {
    "duration": 3,
    "start_time": "2023-02-04T10:03:16.281Z"
   },
   {
    "duration": 17,
    "start_time": "2023-02-04T10:03:16.299Z"
   },
   {
    "duration": 10,
    "start_time": "2023-02-04T10:03:16.321Z"
   },
   {
    "duration": 12,
    "start_time": "2023-02-04T10:03:16.333Z"
   },
   {
    "duration": 11,
    "start_time": "2023-02-04T10:03:16.347Z"
   },
   {
    "duration": 31,
    "start_time": "2023-02-04T10:03:16.360Z"
   },
   {
    "duration": 18,
    "start_time": "2023-02-04T10:03:16.395Z"
   },
   {
    "duration": 66,
    "start_time": "2023-02-04T10:03:16.415Z"
   },
   {
    "duration": 20,
    "start_time": "2023-02-04T10:03:16.483Z"
   },
   {
    "duration": 30,
    "start_time": "2023-02-04T10:03:16.505Z"
   },
   {
    "duration": 18,
    "start_time": "2023-02-04T10:03:16.537Z"
   },
   {
    "duration": 26,
    "start_time": "2023-02-04T10:03:16.557Z"
   },
   {
    "duration": 28,
    "start_time": "2023-02-04T10:03:16.585Z"
   },
   {
    "duration": 22,
    "start_time": "2023-02-04T10:03:16.614Z"
   },
   {
    "duration": 9,
    "start_time": "2023-02-04T10:03:16.638Z"
   },
   {
    "duration": 20,
    "start_time": "2023-02-04T10:03:16.649Z"
   },
   {
    "duration": 45,
    "start_time": "2023-02-04T10:03:16.671Z"
   },
   {
    "duration": 214,
    "start_time": "2023-02-04T10:03:16.718Z"
   },
   {
    "duration": 11,
    "start_time": "2023-02-04T10:03:16.933Z"
   },
   {
    "duration": 376,
    "start_time": "2023-02-04T10:03:16.946Z"
   },
   {
    "duration": 274,
    "start_time": "2023-02-04T10:03:17.325Z"
   },
   {
    "duration": 41,
    "start_time": "2023-02-04T10:03:17.613Z"
   },
   {
    "duration": 292,
    "start_time": "2023-02-04T10:03:17.656Z"
   },
   {
    "duration": 343,
    "start_time": "2023-02-04T10:03:18.000Z"
   },
   {
    "duration": 191,
    "start_time": "2023-02-04T10:03:18.345Z"
   },
   {
    "duration": 192,
    "start_time": "2023-02-04T10:03:18.538Z"
   },
   {
    "duration": 5,
    "start_time": "2023-02-04T10:03:18.732Z"
   },
   {
    "duration": 8,
    "start_time": "2023-02-04T10:03:18.739Z"
   },
   {
    "duration": 256,
    "start_time": "2023-02-04T10:03:18.749Z"
   },
   {
    "duration": 167,
    "start_time": "2023-02-04T10:03:19.014Z"
   },
   {
    "duration": 6,
    "start_time": "2023-02-04T10:03:19.182Z"
   },
   {
    "duration": 11,
    "start_time": "2023-02-04T10:03:19.203Z"
   },
   {
    "duration": 155,
    "start_time": "2023-02-04T10:03:19.218Z"
   },
   {
    "duration": 165,
    "start_time": "2023-02-04T10:03:19.378Z"
   },
   {
    "duration": 4,
    "start_time": "2023-02-04T10:03:19.545Z"
   },
   {
    "duration": 9,
    "start_time": "2023-02-04T10:03:19.551Z"
   },
   {
    "duration": 183,
    "start_time": "2023-02-04T10:03:19.561Z"
   },
   {
    "duration": 6,
    "start_time": "2023-02-04T10:03:19.746Z"
   },
   {
    "duration": 23,
    "start_time": "2023-02-04T10:03:19.754Z"
   },
   {
    "duration": 292,
    "start_time": "2023-02-04T10:03:19.779Z"
   },
   {
    "duration": 947,
    "start_time": "2023-02-04T10:03:20.072Z"
   },
   {
    "duration": 4,
    "start_time": "2023-02-04T10:03:21.022Z"
   },
   {
    "duration": 1233,
    "start_time": "2023-02-04T10:03:21.028Z"
   },
   {
    "duration": 3,
    "start_time": "2023-02-04T10:03:22.264Z"
   },
   {
    "duration": 486,
    "start_time": "2023-02-04T10:03:22.268Z"
   },
   {
    "duration": 11,
    "start_time": "2023-02-04T10:03:22.756Z"
   },
   {
    "duration": 9,
    "start_time": "2023-02-04T10:03:22.769Z"
   },
   {
    "duration": 31,
    "start_time": "2023-02-04T10:03:22.780Z"
   },
   {
    "duration": 17,
    "start_time": "2023-02-04T10:03:22.812Z"
   },
   {
    "duration": 853,
    "start_time": "2023-02-04T10:07:16.962Z"
   },
   {
    "duration": 738,
    "start_time": "2023-02-04T10:07:25.120Z"
   },
   {
    "duration": 780,
    "start_time": "2023-02-04T10:07:39.734Z"
   },
   {
    "duration": 969,
    "start_time": "2023-02-04T10:07:50.422Z"
   },
   {
    "duration": 794,
    "start_time": "2023-02-04T10:08:11.733Z"
   },
   {
    "duration": 912,
    "start_time": "2023-02-04T10:08:19.972Z"
   },
   {
    "duration": 828,
    "start_time": "2023-02-04T10:08:23.384Z"
   },
   {
    "duration": 920,
    "start_time": "2023-02-04T10:08:34.919Z"
   },
   {
    "duration": 848,
    "start_time": "2023-02-04T10:09:01.531Z"
   },
   {
    "duration": 27,
    "start_time": "2023-02-04T10:10:36.952Z"
   },
   {
    "duration": 17,
    "start_time": "2023-02-04T10:11:08.860Z"
   },
   {
    "duration": 18,
    "start_time": "2023-02-04T10:11:22.164Z"
   },
   {
    "duration": 24,
    "start_time": "2023-02-04T10:12:05.994Z"
   },
   {
    "duration": 17,
    "start_time": "2023-02-04T10:12:13.633Z"
   },
   {
    "duration": 23,
    "start_time": "2023-02-04T10:13:18.818Z"
   },
   {
    "duration": 19,
    "start_time": "2023-02-04T10:15:30.747Z"
   },
   {
    "duration": 4,
    "start_time": "2023-02-04T10:16:15.637Z"
   },
   {
    "duration": 1208,
    "start_time": "2023-02-04T10:16:21.443Z"
   },
   {
    "duration": 25,
    "start_time": "2023-02-04T10:16:22.654Z"
   },
   {
    "duration": 15,
    "start_time": "2023-02-04T10:16:22.680Z"
   },
   {
    "duration": 33,
    "start_time": "2023-02-04T10:16:22.697Z"
   },
   {
    "duration": 6,
    "start_time": "2023-02-04T10:16:22.731Z"
   },
   {
    "duration": 16,
    "start_time": "2023-02-04T10:16:22.739Z"
   },
   {
    "duration": 16,
    "start_time": "2023-02-04T10:16:22.757Z"
   },
   {
    "duration": 3,
    "start_time": "2023-02-04T10:16:22.775Z"
   },
   {
    "duration": 15,
    "start_time": "2023-02-04T10:16:22.779Z"
   },
   {
    "duration": 21,
    "start_time": "2023-02-04T10:16:22.796Z"
   },
   {
    "duration": 9,
    "start_time": "2023-02-04T10:16:22.819Z"
   },
   {
    "duration": 7,
    "start_time": "2023-02-04T10:16:22.830Z"
   },
   {
    "duration": 16,
    "start_time": "2023-02-04T10:16:22.839Z"
   },
   {
    "duration": 34,
    "start_time": "2023-02-04T10:16:22.856Z"
   },
   {
    "duration": 52,
    "start_time": "2023-02-04T10:16:22.891Z"
   },
   {
    "duration": 12,
    "start_time": "2023-02-04T10:16:22.945Z"
   },
   {
    "duration": 24,
    "start_time": "2023-02-04T10:16:22.958Z"
   },
   {
    "duration": 27,
    "start_time": "2023-02-04T10:16:22.984Z"
   },
   {
    "duration": 29,
    "start_time": "2023-02-04T10:16:23.015Z"
   },
   {
    "duration": 8,
    "start_time": "2023-02-04T10:16:23.046Z"
   },
   {
    "duration": 12,
    "start_time": "2023-02-04T10:16:23.056Z"
   },
   {
    "duration": 9,
    "start_time": "2023-02-04T10:16:23.070Z"
   },
   {
    "duration": 32,
    "start_time": "2023-02-04T10:16:23.081Z"
   },
   {
    "duration": 20,
    "start_time": "2023-02-04T10:16:23.115Z"
   },
   {
    "duration": 234,
    "start_time": "2023-02-04T10:16:23.137Z"
   },
   {
    "duration": 10,
    "start_time": "2023-02-04T10:16:23.373Z"
   },
   {
    "duration": 363,
    "start_time": "2023-02-04T10:16:23.385Z"
   },
   {
    "duration": 259,
    "start_time": "2023-02-04T10:16:23.752Z"
   },
   {
    "duration": 38,
    "start_time": "2023-02-04T10:16:24.018Z"
   },
   {
    "duration": 381,
    "start_time": "2023-02-04T10:16:24.059Z"
   },
   {
    "duration": 215,
    "start_time": "2023-02-04T10:16:24.442Z"
   },
   {
    "duration": 181,
    "start_time": "2023-02-04T10:16:24.658Z"
   },
   {
    "duration": 175,
    "start_time": "2023-02-04T10:16:24.841Z"
   },
   {
    "duration": 5,
    "start_time": "2023-02-04T10:16:25.018Z"
   },
   {
    "duration": 22,
    "start_time": "2023-02-04T10:16:25.025Z"
   },
   {
    "duration": 249,
    "start_time": "2023-02-04T10:16:25.049Z"
   },
   {
    "duration": 161,
    "start_time": "2023-02-04T10:16:25.300Z"
   },
   {
    "duration": 5,
    "start_time": "2023-02-04T10:16:25.464Z"
   },
   {
    "duration": 20,
    "start_time": "2023-02-04T10:16:25.471Z"
   },
   {
    "duration": 191,
    "start_time": "2023-02-04T10:16:25.493Z"
   },
   {
    "duration": 151,
    "start_time": "2023-02-04T10:16:25.686Z"
   },
   {
    "duration": 5,
    "start_time": "2023-02-04T10:16:25.839Z"
   },
   {
    "duration": 23,
    "start_time": "2023-02-04T10:16:25.845Z"
   },
   {
    "duration": 159,
    "start_time": "2023-02-04T10:16:25.870Z"
   },
   {
    "duration": 6,
    "start_time": "2023-02-04T10:16:26.031Z"
   },
   {
    "duration": 17,
    "start_time": "2023-02-04T10:16:26.039Z"
   },
   {
    "duration": 288,
    "start_time": "2023-02-04T10:16:26.058Z"
   },
   {
    "duration": 20,
    "start_time": "2023-02-04T10:16:26.347Z"
   },
   {
    "duration": 12,
    "start_time": "2023-02-04T10:16:26.369Z"
   },
   {
    "duration": 1147,
    "start_time": "2023-02-04T10:16:26.383Z"
   },
   {
    "duration": 3,
    "start_time": "2023-02-04T10:16:27.532Z"
   },
   {
    "duration": 554,
    "start_time": "2023-02-04T10:16:27.536Z"
   },
   {
    "duration": 27,
    "start_time": "2023-02-04T10:16:28.098Z"
   },
   {
    "duration": 8,
    "start_time": "2023-02-04T10:16:28.128Z"
   },
   {
    "duration": 17,
    "start_time": "2023-02-04T10:16:28.138Z"
   },
   {
    "duration": 11,
    "start_time": "2023-02-04T10:16:28.157Z"
   },
   {
    "duration": 112,
    "start_time": "2023-02-04T10:23:20.708Z"
   },
   {
    "duration": 191,
    "start_time": "2023-02-04T10:23:30.934Z"
   },
   {
    "duration": 735,
    "start_time": "2023-02-04T10:24:41.697Z"
   },
   {
    "duration": 469,
    "start_time": "2023-02-04T10:25:12.013Z"
   },
   {
    "duration": 545,
    "start_time": "2023-02-04T10:26:37.229Z"
   },
   {
    "duration": 1152,
    "start_time": "2023-02-04T10:28:25.382Z"
   },
   {
    "duration": 1089,
    "start_time": "2023-02-04T10:30:06.817Z"
   },
   {
    "duration": 928,
    "start_time": "2023-02-04T10:30:36.223Z"
   },
   {
    "duration": 916,
    "start_time": "2023-02-04T10:31:05.305Z"
   },
   {
    "duration": 535,
    "start_time": "2023-02-04T10:31:27.964Z"
   },
   {
    "duration": 653,
    "start_time": "2023-02-04T10:32:06.239Z"
   },
   {
    "duration": 3,
    "start_time": "2023-02-04T10:33:36.241Z"
   },
   {
    "duration": 453,
    "start_time": "2023-02-04T10:38:16.536Z"
   },
   {
    "duration": 444,
    "start_time": "2023-02-04T10:39:11.166Z"
   },
   {
    "duration": 372,
    "start_time": "2023-02-04T10:40:07.442Z"
   },
   {
    "duration": 48,
    "start_time": "2023-02-04T10:42:15.843Z"
   },
   {
    "duration": 56,
    "start_time": "2023-02-04T10:42:37.955Z"
   },
   {
    "duration": 3,
    "start_time": "2023-02-04T10:43:17.000Z"
   },
   {
    "duration": 47,
    "start_time": "2023-02-04T10:44:10.550Z"
   },
   {
    "duration": 1279,
    "start_time": "2023-02-04T10:44:23.667Z"
   },
   {
    "duration": 17,
    "start_time": "2023-02-04T10:44:24.948Z"
   },
   {
    "duration": 27,
    "start_time": "2023-02-04T10:44:24.966Z"
   },
   {
    "duration": 19,
    "start_time": "2023-02-04T10:44:24.994Z"
   },
   {
    "duration": 15,
    "start_time": "2023-02-04T10:44:25.015Z"
   },
   {
    "duration": 16,
    "start_time": "2023-02-04T10:44:25.031Z"
   },
   {
    "duration": 38,
    "start_time": "2023-02-04T10:44:25.049Z"
   },
   {
    "duration": 6,
    "start_time": "2023-02-04T10:44:25.089Z"
   },
   {
    "duration": 31,
    "start_time": "2023-02-04T10:44:25.096Z"
   },
   {
    "duration": 9,
    "start_time": "2023-02-04T10:44:25.129Z"
   },
   {
    "duration": 11,
    "start_time": "2023-02-04T10:44:25.139Z"
   },
   {
    "duration": 7,
    "start_time": "2023-02-04T10:44:25.152Z"
   },
   {
    "duration": 9,
    "start_time": "2023-02-04T10:44:25.160Z"
   },
   {
    "duration": 15,
    "start_time": "2023-02-04T10:44:25.172Z"
   },
   {
    "duration": 49,
    "start_time": "2023-02-04T10:44:25.189Z"
   },
   {
    "duration": 13,
    "start_time": "2023-02-04T10:44:25.240Z"
   },
   {
    "duration": 14,
    "start_time": "2023-02-04T10:44:25.254Z"
   },
   {
    "duration": 9,
    "start_time": "2023-02-04T10:44:25.270Z"
   },
   {
    "duration": 25,
    "start_time": "2023-02-04T10:44:25.304Z"
   },
   {
    "duration": 8,
    "start_time": "2023-02-04T10:44:25.331Z"
   },
   {
    "duration": 8,
    "start_time": "2023-02-04T10:44:25.341Z"
   },
   {
    "duration": 13,
    "start_time": "2023-02-04T10:44:25.350Z"
   },
   {
    "duration": 36,
    "start_time": "2023-02-04T10:44:25.365Z"
   },
   {
    "duration": 14,
    "start_time": "2023-02-04T10:44:25.413Z"
   },
   {
    "duration": 203,
    "start_time": "2023-02-04T10:44:25.429Z"
   },
   {
    "duration": 10,
    "start_time": "2023-02-04T10:44:25.634Z"
   },
   {
    "duration": 311,
    "start_time": "2023-02-04T10:44:25.646Z"
   },
   {
    "duration": 220,
    "start_time": "2023-02-04T10:44:25.959Z"
   },
   {
    "duration": 39,
    "start_time": "2023-02-04T10:44:26.181Z"
   },
   {
    "duration": 262,
    "start_time": "2023-02-04T10:44:26.221Z"
   },
   {
    "duration": 186,
    "start_time": "2023-02-04T10:44:26.485Z"
   },
   {
    "duration": 172,
    "start_time": "2023-02-04T10:44:26.673Z"
   },
   {
    "duration": 157,
    "start_time": "2023-02-04T10:44:26.847Z"
   },
   {
    "duration": 9,
    "start_time": "2023-02-04T10:44:27.005Z"
   },
   {
    "duration": 7,
    "start_time": "2023-02-04T10:44:27.017Z"
   },
   {
    "duration": 236,
    "start_time": "2023-02-04T10:44:27.025Z"
   },
   {
    "duration": 151,
    "start_time": "2023-02-04T10:44:27.263Z"
   },
   {
    "duration": 5,
    "start_time": "2023-02-04T10:44:27.416Z"
   },
   {
    "duration": 36,
    "start_time": "2023-02-04T10:44:27.423Z"
   },
   {
    "duration": 157,
    "start_time": "2023-02-04T10:44:27.461Z"
   },
   {
    "duration": 168,
    "start_time": "2023-02-04T10:44:27.622Z"
   },
   {
    "duration": 22,
    "start_time": "2023-02-04T10:44:27.792Z"
   },
   {
    "duration": 10,
    "start_time": "2023-02-04T10:44:27.816Z"
   },
   {
    "duration": 161,
    "start_time": "2023-02-04T10:44:27.827Z"
   },
   {
    "duration": 24,
    "start_time": "2023-02-04T10:44:27.989Z"
   },
   {
    "duration": 22,
    "start_time": "2023-02-04T10:44:28.015Z"
   },
   {
    "duration": 273,
    "start_time": "2023-02-04T10:44:28.038Z"
   },
   {
    "duration": 466,
    "start_time": "2023-02-04T10:44:28.313Z"
   },
   {
    "duration": 2,
    "start_time": "2023-02-04T10:44:28.781Z"
   },
   {
    "duration": 545,
    "start_time": "2023-02-04T10:44:28.785Z"
   },
   {
    "duration": 4,
    "start_time": "2023-02-04T10:44:29.331Z"
   },
   {
    "duration": 477,
    "start_time": "2023-02-04T10:44:29.336Z"
   },
   {
    "duration": 12,
    "start_time": "2023-02-04T10:44:29.815Z"
   },
   {
    "duration": 5,
    "start_time": "2023-02-04T10:44:29.828Z"
   },
   {
    "duration": 12,
    "start_time": "2023-02-04T10:44:29.834Z"
   },
   {
    "duration": 6,
    "start_time": "2023-02-04T10:44:29.848Z"
   },
   {
    "duration": 1154,
    "start_time": "2023-02-04T10:57:19.292Z"
   },
   {
    "duration": 17,
    "start_time": "2023-02-04T10:57:20.448Z"
   },
   {
    "duration": 21,
    "start_time": "2023-02-04T10:57:20.467Z"
   },
   {
    "duration": 18,
    "start_time": "2023-02-04T10:57:20.490Z"
   },
   {
    "duration": 8,
    "start_time": "2023-02-04T10:57:20.509Z"
   },
   {
    "duration": 6,
    "start_time": "2023-02-04T10:57:20.518Z"
   },
   {
    "duration": 25,
    "start_time": "2023-02-04T10:57:20.525Z"
   },
   {
    "duration": 3,
    "start_time": "2023-02-04T10:57:20.551Z"
   },
   {
    "duration": 14,
    "start_time": "2023-02-04T10:57:20.556Z"
   },
   {
    "duration": 14,
    "start_time": "2023-02-04T10:57:20.573Z"
   },
   {
    "duration": 20,
    "start_time": "2023-02-04T10:57:20.588Z"
   },
   {
    "duration": 9,
    "start_time": "2023-02-04T10:57:20.610Z"
   },
   {
    "duration": 16,
    "start_time": "2023-02-04T10:57:20.621Z"
   },
   {
    "duration": 21,
    "start_time": "2023-02-04T10:57:20.639Z"
   },
   {
    "duration": 47,
    "start_time": "2023-02-04T10:57:20.662Z"
   },
   {
    "duration": 13,
    "start_time": "2023-02-04T10:57:20.710Z"
   },
   {
    "duration": 29,
    "start_time": "2023-02-04T10:57:20.725Z"
   },
   {
    "duration": 11,
    "start_time": "2023-02-04T10:57:20.756Z"
   },
   {
    "duration": 37,
    "start_time": "2023-02-04T10:57:20.769Z"
   },
   {
    "duration": 9,
    "start_time": "2023-02-04T10:57:20.808Z"
   },
   {
    "duration": 23,
    "start_time": "2023-02-04T10:57:20.818Z"
   },
   {
    "duration": 41,
    "start_time": "2023-02-04T10:57:20.843Z"
   },
   {
    "duration": 43,
    "start_time": "2023-02-04T10:57:20.886Z"
   },
   {
    "duration": 34,
    "start_time": "2023-02-04T10:57:20.931Z"
   },
   {
    "duration": 184,
    "start_time": "2023-02-04T10:57:20.967Z"
   },
   {
    "duration": 9,
    "start_time": "2023-02-04T10:57:21.153Z"
   },
   {
    "duration": 297,
    "start_time": "2023-02-04T10:57:21.164Z"
   },
   {
    "duration": 215,
    "start_time": "2023-02-04T10:57:21.464Z"
   },
   {
    "duration": 35,
    "start_time": "2023-02-04T10:57:21.681Z"
   },
   {
    "duration": 261,
    "start_time": "2023-02-04T10:57:21.717Z"
   },
   {
    "duration": 178,
    "start_time": "2023-02-04T10:57:21.980Z"
   },
   {
    "duration": 165,
    "start_time": "2023-02-04T10:57:22.160Z"
   },
   {
    "duration": 155,
    "start_time": "2023-02-04T10:57:22.327Z"
   },
   {
    "duration": 6,
    "start_time": "2023-02-04T10:57:22.484Z"
   },
   {
    "duration": 8,
    "start_time": "2023-02-04T10:57:22.499Z"
   },
   {
    "duration": 206,
    "start_time": "2023-02-04T10:57:22.509Z"
   },
   {
    "duration": 142,
    "start_time": "2023-02-04T10:57:22.717Z"
   },
   {
    "duration": 5,
    "start_time": "2023-02-04T10:57:22.861Z"
   },
   {
    "duration": 15,
    "start_time": "2023-02-04T10:57:22.867Z"
   },
   {
    "duration": 148,
    "start_time": "2023-02-04T10:57:22.883Z"
   },
   {
    "duration": 149,
    "start_time": "2023-02-04T10:57:23.033Z"
   },
   {
    "duration": 4,
    "start_time": "2023-02-04T10:57:23.184Z"
   },
   {
    "duration": 22,
    "start_time": "2023-02-04T10:57:23.198Z"
   },
   {
    "duration": 145,
    "start_time": "2023-02-04T10:57:23.222Z"
   },
   {
    "duration": 5,
    "start_time": "2023-02-04T10:57:23.369Z"
   },
   {
    "duration": 29,
    "start_time": "2023-02-04T10:57:23.376Z"
   },
   {
    "duration": 239,
    "start_time": "2023-02-04T10:57:23.406Z"
   },
   {
    "duration": 482,
    "start_time": "2023-02-04T10:57:23.647Z"
   },
   {
    "duration": 3,
    "start_time": "2023-02-04T10:57:24.132Z"
   },
   {
    "duration": 549,
    "start_time": "2023-02-04T10:57:24.137Z"
   },
   {
    "duration": 11,
    "start_time": "2023-02-04T10:57:24.688Z"
   },
   {
    "duration": 461,
    "start_time": "2023-02-04T10:57:24.700Z"
   },
   {
    "duration": 12,
    "start_time": "2023-02-04T10:57:25.162Z"
   },
   {
    "duration": 15,
    "start_time": "2023-02-04T10:57:25.175Z"
   },
   {
    "duration": 11,
    "start_time": "2023-02-04T10:57:25.199Z"
   },
   {
    "duration": 14,
    "start_time": "2023-02-04T10:57:25.212Z"
   },
   {
    "duration": 96,
    "start_time": "2023-02-05T07:11:57.374Z"
   },
   {
    "duration": 80,
    "start_time": "2023-02-05T08:29:14.884Z"
   },
   {
    "duration": 49,
    "start_time": "2023-02-05T08:29:30.331Z"
   },
   {
    "duration": 1572,
    "start_time": "2023-02-05T08:29:41.437Z"
   },
   {
    "duration": 18,
    "start_time": "2023-02-05T08:29:43.012Z"
   },
   {
    "duration": 15,
    "start_time": "2023-02-05T08:29:43.032Z"
   },
   {
    "duration": 15,
    "start_time": "2023-02-05T08:29:43.049Z"
   },
   {
    "duration": 5,
    "start_time": "2023-02-05T08:29:43.066Z"
   },
   {
    "duration": 12,
    "start_time": "2023-02-05T08:29:43.072Z"
   },
   {
    "duration": 36,
    "start_time": "2023-02-05T08:29:43.086Z"
   },
   {
    "duration": 2,
    "start_time": "2023-02-05T08:29:43.125Z"
   },
   {
    "duration": 21,
    "start_time": "2023-02-05T08:29:43.129Z"
   },
   {
    "duration": 26,
    "start_time": "2023-02-05T08:29:43.153Z"
   },
   {
    "duration": 18,
    "start_time": "2023-02-05T08:29:43.181Z"
   },
   {
    "duration": 11,
    "start_time": "2023-02-05T08:29:43.200Z"
   },
   {
    "duration": 7,
    "start_time": "2023-02-05T08:29:43.213Z"
   },
   {
    "duration": 17,
    "start_time": "2023-02-05T08:29:43.222Z"
   },
   {
    "duration": 53,
    "start_time": "2023-02-05T08:29:43.241Z"
   },
   {
    "duration": 27,
    "start_time": "2023-02-05T08:29:43.296Z"
   },
   {
    "duration": 17,
    "start_time": "2023-02-05T08:29:43.325Z"
   },
   {
    "duration": 9,
    "start_time": "2023-02-05T08:29:43.344Z"
   },
   {
    "duration": 29,
    "start_time": "2023-02-05T08:29:43.355Z"
   },
   {
    "duration": 9,
    "start_time": "2023-02-05T08:29:43.385Z"
   },
   {
    "duration": 9,
    "start_time": "2023-02-05T08:29:43.420Z"
   },
   {
    "duration": 8,
    "start_time": "2023-02-05T08:29:43.431Z"
   },
   {
    "duration": 17,
    "start_time": "2023-02-05T08:29:43.441Z"
   },
   {
    "duration": 16,
    "start_time": "2023-02-05T08:29:43.460Z"
   },
   {
    "duration": 236,
    "start_time": "2023-02-05T08:29:43.477Z"
   },
   {
    "duration": 11,
    "start_time": "2023-02-05T08:29:43.720Z"
   },
   {
    "duration": 339,
    "start_time": "2023-02-05T08:29:43.733Z"
   },
   {
    "duration": 219,
    "start_time": "2023-02-05T08:29:44.075Z"
   },
   {
    "duration": 40,
    "start_time": "2023-02-05T08:29:44.296Z"
   },
   {
    "duration": 295,
    "start_time": "2023-02-05T08:29:44.338Z"
   },
   {
    "duration": 213,
    "start_time": "2023-02-05T08:29:44.635Z"
   },
   {
    "duration": 176,
    "start_time": "2023-02-05T08:29:44.850Z"
   },
   {
    "duration": 176,
    "start_time": "2023-02-05T08:29:45.028Z"
   },
   {
    "duration": 5,
    "start_time": "2023-02-05T08:29:45.205Z"
   },
   {
    "duration": 4,
    "start_time": "2023-02-05T08:29:45.221Z"
   },
   {
    "duration": 227,
    "start_time": "2023-02-05T08:29:45.227Z"
   },
   {
    "duration": 159,
    "start_time": "2023-02-05T08:29:45.456Z"
   },
   {
    "duration": 4,
    "start_time": "2023-02-05T08:29:45.620Z"
   },
   {
    "duration": 11,
    "start_time": "2023-02-05T08:29:45.626Z"
   },
   {
    "duration": 160,
    "start_time": "2023-02-05T08:29:45.639Z"
   },
   {
    "duration": 170,
    "start_time": "2023-02-05T08:29:45.801Z"
   },
   {
    "duration": 5,
    "start_time": "2023-02-05T08:29:45.972Z"
   },
   {
    "duration": 6,
    "start_time": "2023-02-05T08:29:45.979Z"
   },
   {
    "duration": 181,
    "start_time": "2023-02-05T08:29:45.986Z"
   },
   {
    "duration": 5,
    "start_time": "2023-02-05T08:29:46.169Z"
   },
   {
    "duration": 16,
    "start_time": "2023-02-05T08:29:46.176Z"
   },
   {
    "duration": 240,
    "start_time": "2023-02-05T08:29:46.194Z"
   },
   {
    "duration": 0,
    "start_time": "2023-02-05T08:29:46.435Z"
   },
   {
    "duration": 0,
    "start_time": "2023-02-05T08:29:46.437Z"
   },
   {
    "duration": 0,
    "start_time": "2023-02-05T08:29:46.437Z"
   },
   {
    "duration": 0,
    "start_time": "2023-02-05T08:29:46.439Z"
   },
   {
    "duration": 0,
    "start_time": "2023-02-05T08:29:46.440Z"
   },
   {
    "duration": 0,
    "start_time": "2023-02-05T08:29:46.441Z"
   },
   {
    "duration": 0,
    "start_time": "2023-02-05T08:29:46.442Z"
   },
   {
    "duration": 0,
    "start_time": "2023-02-05T08:29:46.443Z"
   },
   {
    "duration": 0,
    "start_time": "2023-02-05T08:29:46.444Z"
   },
   {
    "duration": 117,
    "start_time": "2023-02-05T08:31:00.110Z"
   },
   {
    "duration": 111,
    "start_time": "2023-02-05T08:31:10.717Z"
   },
   {
    "duration": 110,
    "start_time": "2023-02-05T08:31:28.416Z"
   },
   {
    "duration": 109,
    "start_time": "2023-02-05T08:43:22.336Z"
   },
   {
    "duration": 128,
    "start_time": "2023-02-05T08:43:38.216Z"
   },
   {
    "duration": 105,
    "start_time": "2023-02-05T08:44:02.568Z"
   },
   {
    "duration": 337,
    "start_time": "2023-02-05T08:49:17.699Z"
   },
   {
    "duration": 56,
    "start_time": "2023-02-06T19:08:02.149Z"
   },
   {
    "duration": 1449,
    "start_time": "2023-02-06T19:08:10.210Z"
   },
   {
    "duration": 18,
    "start_time": "2023-02-06T19:08:11.661Z"
   },
   {
    "duration": 20,
    "start_time": "2023-02-06T19:08:11.681Z"
   },
   {
    "duration": 15,
    "start_time": "2023-02-06T19:08:11.703Z"
   },
   {
    "duration": 4,
    "start_time": "2023-02-06T19:08:11.720Z"
   },
   {
    "duration": 7,
    "start_time": "2023-02-06T19:08:11.726Z"
   },
   {
    "duration": 35,
    "start_time": "2023-02-06T19:08:11.735Z"
   },
   {
    "duration": 5,
    "start_time": "2023-02-06T19:08:11.772Z"
   },
   {
    "duration": 9,
    "start_time": "2023-02-06T19:08:11.779Z"
   },
   {
    "duration": 8,
    "start_time": "2023-02-06T19:08:11.789Z"
   },
   {
    "duration": 11,
    "start_time": "2023-02-06T19:08:11.798Z"
   },
   {
    "duration": 9,
    "start_time": "2023-02-06T19:08:11.810Z"
   },
   {
    "duration": 6,
    "start_time": "2023-02-06T19:08:11.821Z"
   },
   {
    "duration": 39,
    "start_time": "2023-02-06T19:08:11.829Z"
   },
   {
    "duration": 47,
    "start_time": "2023-02-06T19:08:11.869Z"
   },
   {
    "duration": 13,
    "start_time": "2023-02-06T19:08:11.918Z"
   },
   {
    "duration": 34,
    "start_time": "2023-02-06T19:08:11.933Z"
   },
   {
    "duration": 8,
    "start_time": "2023-02-06T19:08:11.969Z"
   },
   {
    "duration": 25,
    "start_time": "2023-02-06T19:08:11.978Z"
   },
   {
    "duration": 10,
    "start_time": "2023-02-06T19:08:12.004Z"
   },
   {
    "duration": 9,
    "start_time": "2023-02-06T19:08:12.015Z"
   },
   {
    "duration": 49,
    "start_time": "2023-02-06T19:08:12.026Z"
   },
   {
    "duration": 17,
    "start_time": "2023-02-06T19:08:12.077Z"
   },
   {
    "duration": 13,
    "start_time": "2023-02-06T19:08:12.096Z"
   },
   {
    "duration": 204,
    "start_time": "2023-02-06T19:08:12.110Z"
   },
   {
    "duration": 9,
    "start_time": "2023-02-06T19:08:12.316Z"
   },
   {
    "duration": 304,
    "start_time": "2023-02-06T19:08:12.326Z"
   },
   {
    "duration": 211,
    "start_time": "2023-02-06T19:08:12.632Z"
   },
   {
    "duration": 39,
    "start_time": "2023-02-06T19:08:12.844Z"
   },
   {
    "duration": 254,
    "start_time": "2023-02-06T19:08:12.885Z"
   },
   {
    "duration": 187,
    "start_time": "2023-02-06T19:08:13.141Z"
   },
   {
    "duration": 177,
    "start_time": "2023-02-06T19:08:13.330Z"
   },
   {
    "duration": 184,
    "start_time": "2023-02-06T19:08:13.509Z"
   },
   {
    "duration": 5,
    "start_time": "2023-02-06T19:08:13.695Z"
   },
   {
    "duration": 11,
    "start_time": "2023-02-06T19:08:13.702Z"
   },
   {
    "duration": 208,
    "start_time": "2023-02-06T19:08:13.714Z"
   },
   {
    "duration": 145,
    "start_time": "2023-02-06T19:08:13.924Z"
   },
   {
    "duration": 5,
    "start_time": "2023-02-06T19:08:14.070Z"
   },
   {
    "duration": 7,
    "start_time": "2023-02-06T19:08:14.077Z"
   },
   {
    "duration": 162,
    "start_time": "2023-02-06T19:08:14.086Z"
   },
   {
    "duration": 147,
    "start_time": "2023-02-06T19:08:14.252Z"
   },
   {
    "duration": 5,
    "start_time": "2023-02-06T19:08:14.401Z"
   },
   {
    "duration": 7,
    "start_time": "2023-02-06T19:08:14.408Z"
   },
   {
    "duration": 187,
    "start_time": "2023-02-06T19:08:14.417Z"
   },
   {
    "duration": 7,
    "start_time": "2023-02-06T19:08:14.606Z"
   },
   {
    "duration": 20,
    "start_time": "2023-02-06T19:08:14.614Z"
   },
   {
    "duration": 299,
    "start_time": "2023-02-06T19:08:14.636Z"
   },
   {
    "duration": 475,
    "start_time": "2023-02-06T19:08:14.937Z"
   },
   {
    "duration": 3,
    "start_time": "2023-02-06T19:08:15.414Z"
   },
   {
    "duration": 498,
    "start_time": "2023-02-06T19:08:15.418Z"
   },
   {
    "duration": 3,
    "start_time": "2023-02-06T19:08:15.918Z"
   },
   {
    "duration": 463,
    "start_time": "2023-02-06T19:08:15.923Z"
   },
   {
    "duration": 10,
    "start_time": "2023-02-06T19:08:16.387Z"
   },
   {
    "duration": 5,
    "start_time": "2023-02-06T19:08:16.399Z"
   },
   {
    "duration": 13,
    "start_time": "2023-02-06T19:08:16.406Z"
   },
   {
    "duration": 5,
    "start_time": "2023-02-06T19:08:16.421Z"
   },
   {
    "duration": 400,
    "start_time": "2023-02-06T19:09:04.981Z"
   },
   {
    "duration": 325,
    "start_time": "2023-02-06T19:09:15.001Z"
   },
   {
    "duration": 236,
    "start_time": "2023-02-06T19:09:44.216Z"
   },
   {
    "duration": 156,
    "start_time": "2023-02-06T19:09:59.579Z"
   },
   {
    "duration": 523,
    "start_time": "2023-02-06T19:10:21.986Z"
   },
   {
    "duration": 340,
    "start_time": "2023-02-06T19:10:38.995Z"
   },
   {
    "duration": 307,
    "start_time": "2023-02-06T19:10:51.684Z"
   },
   {
    "duration": 327,
    "start_time": "2023-02-06T19:11:01.999Z"
   },
   {
    "duration": 321,
    "start_time": "2023-02-06T19:11:13.614Z"
   },
   {
    "duration": 311,
    "start_time": "2023-02-06T19:11:27.029Z"
   }
  ],
  "kernelspec": {
   "display_name": "Python 3 (ipykernel)",
   "language": "python",
   "name": "python3"
  },
  "language_info": {
   "codemirror_mode": {
    "name": "ipython",
    "version": 3
   },
   "file_extension": ".py",
   "mimetype": "text/x-python",
   "name": "python",
   "nbconvert_exporter": "python",
   "pygments_lexer": "ipython3",
   "version": "3.9.5"
  },
  "toc": {
   "base_numbering": 1,
   "nav_menu": {},
   "number_sections": true,
   "sideBar": true,
   "skip_h1_title": true,
   "title_cell": "Table of Contents",
   "title_sidebar": "Contents",
   "toc_cell": false,
   "toc_position": {
    "height": "503px",
    "left": "209px",
    "top": "384.141px",
    "width": "270.188px"
   },
   "toc_section_display": true,
   "toc_window_display": true
  }
 },
 "nbformat": 4,
 "nbformat_minor": 2
}
