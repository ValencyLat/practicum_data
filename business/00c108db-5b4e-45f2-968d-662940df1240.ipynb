{
 "cells": [
  {
   "cell_type": "markdown",
   "metadata": {},
   "source": [
    "# Проект. Принятие решений в бизнесе на основе данных"
   ]
  },
  {
   "cell_type": "markdown",
   "metadata": {},
   "source": [
    "\n",
    "Описание проекта\n",
    "\n",
    "Вы — аналитик крупного интернет-магазина. Вместе с отделом маркетинга вы подготовили список гипотез для увеличения выручки.\n",
    "\n"
   ]
  },
  {
   "cell_type": "markdown",
   "metadata": {},
   "source": [
    "Цель: Приоритизировать гипотезы, запустить A/B-тест и проанализировать результаты.\n",
    "\n",
    "Описание данных: Описание данных\n",
    "\n",
    "Данные для первой части\n",
    "Файл /datasets/hypothesis.csv. Скачать датасет\n",
    "Hypothesis — краткое описание гипотезы;\n",
    "Reach — охват пользователей по 10-балльной шкале;\n",
    "Impact — влияние на пользователей по 10-балльной шкале;\n",
    "Confidence — уверенность в гипотезе по 10-балльной шкале;\n",
    "Efforts — затраты ресурсов на проверку гипотезы по 10-балльной шкале. Чем больше значение Efforts, тем дороже проверка гипотезы.\n",
    "Данные для второй части\n",
    "Файл /datasets/orders.csv. Скачать датасет\n",
    "transactionId — идентификатор заказа;\n",
    "visitorId — идентификатор пользователя, совершившего заказ;\n",
    "date — дата, когда был совершён заказ;\n",
    "revenue — выручка заказа;\n",
    "group — группа A/B-теста, в которую попал заказ.\n",
    "Файл /datasets/visitors.csv. Скачать датасет\n",
    "date — дата;\n",
    "group — группа A/B-теста;\n",
    "visitors — количество пользователей в указанную дату в указанной группе A/B-теста\n",
    "\n",
    "План работы:\n",
    "\n",
    "\n",
    "Часть 1. Приоритизация гипотез.\n",
    "\n",
    "В файле /datasets/hypothesis.csv 9 гипотез по увеличению выручки интернет-магазина с указанными параметрами Reach, Impact, Confidence, Effort.\n",
    "Задача\n",
    "Примените фреймворк ICE для приоритизации гипотез. Отсортируйте их по убыванию приоритета.\n",
    "Примените фреймворк RICE для приоритизации гипотез. Отсортируйте их по убыванию приоритета.\n",
    "Укажите, как изменилась приоритизация гипотез при применении RICE вместо ICE. Объясните, почему так произошло.\n",
    "Часть 2. Анализ A/B-те\n",
    "ста\n",
    "\n",
    "Вы провели A/B-тест и получили результаты, которые описаны в файлах /datasets/orders.csv и /datasets/visitors.csv.\n",
    "Задача\n",
    "Проанализируйте A/B-тест:\n",
    "Постройте график кумулятивной выручки по группам. Сделайте выводы и предположения.\n",
    "Постройте график кумулятивного среднего чека по группам. Сделайте выводы и предположения.\n",
    "Постройте график относительного изменения кумулятивного среднего чека группы B к группе A. Сделайте выводы и предположения.\n",
    "Постройте график кумулятивного среднего количества заказов на посетителя по группам. Сделайте выводы и предположения.\n",
    "Постройте график относительного изменения кумулятивного среднего количества заказов на посетителя группы B к группе A. Сделайте выводы и предположения.\n",
    "Постройте точечный график количества заказов по пользователям. Сделайте выводы и предположения.\n",
    "Посчитайте 95-й и 99-й перцентили количества заказов на пользователя. Выберите границу для определения аномальных пользователей.\n",
    "Постройте точечный график стоимостей заказов. Сделайте выводы и предположения.\n",
    "Посчитайте 95-й и 99-й перцентили стоимости заказов. Выберите границу для определения аномальных заказов.\n",
    "Посчитайте статистическую значимость различий в среднем количестве заказов на посетителя между группами по «сырым» данным. Сделайте выводы и предположения.\n",
    "Посчитайте статистическую значимость различий в среднем чеке заказа между группами по «сырым» данным. Сделайте выводы и предположения.\n",
    "Посчитайте статистическую значимость различий в среднем количестве заказов на посетителя между группами по «очищенным» данным. Сделайте выводы и предположения.\n",
    "Посчитайте статистическую значимость различий в среднем чеке заказа между группами по «очищенным» данным. Сделайте выводы и предположения.\n",
    "Примите решение по результатам теста и объясните его. Варианты решений: 1. Остановить тест, зафиксировать победу одной из групп. 2. Остановить тест, зафиксировать отсутствие различий между группами. 3. Продолжить тест.\n"
   ]
  },
  {
   "cell_type": "code",
   "execution_count": 1,
   "metadata": {},
   "outputs": [],
   "source": [
    "\n",
    "#импорт библиотек\n",
    "import pandas as pd\n",
    "import datetime as dt\n",
    "import numpy as np\n",
    "import scipy.stats as stats\n",
    "import matplotlib.pyplot as plt\n",
    "from pandas.plotting import register_matplotlib_converters\n",
    "import warnings\n",
    "# конвертеры, которые позволяют использовать типы pandas в matplotlib  \n",
    "register_matplotlib_converters()"
   ]
  },
  {
   "cell_type": "markdown",
   "metadata": {},
   "source": [
    "Откроем таблицу и изучим общую информацию о данных"
   ]
  },
  {
   "cell_type": "code",
   "execution_count": 2,
   "metadata": {
    "scrolled": true
   },
   "outputs": [
    {
     "data": {
      "text/html": [
       "<div>\n",
       "<style scoped>\n",
       "    .dataframe tbody tr th:only-of-type {\n",
       "        vertical-align: middle;\n",
       "    }\n",
       "\n",
       "    .dataframe tbody tr th {\n",
       "        vertical-align: top;\n",
       "    }\n",
       "\n",
       "    .dataframe thead th {\n",
       "        text-align: right;\n",
       "    }\n",
       "</style>\n",
       "<table border=\"1\" class=\"dataframe\">\n",
       "  <thead>\n",
       "    <tr style=\"text-align: right;\">\n",
       "      <th></th>\n",
       "      <th>Hypothesis</th>\n",
       "      <th>Reach</th>\n",
       "      <th>Impact</th>\n",
       "      <th>Confidence</th>\n",
       "      <th>Efforts</th>\n",
       "    </tr>\n",
       "  </thead>\n",
       "  <tbody>\n",
       "    <tr>\n",
       "      <th>0</th>\n",
       "      <td>Добавить два новых канала привлечения трафика,...</td>\n",
       "      <td>3</td>\n",
       "      <td>10</td>\n",
       "      <td>8</td>\n",
       "      <td>6</td>\n",
       "    </tr>\n",
       "    <tr>\n",
       "      <th>1</th>\n",
       "      <td>Запустить собственную службу доставки, что сок...</td>\n",
       "      <td>2</td>\n",
       "      <td>5</td>\n",
       "      <td>4</td>\n",
       "      <td>10</td>\n",
       "    </tr>\n",
       "    <tr>\n",
       "      <th>2</th>\n",
       "      <td>Добавить блоки рекомендаций товаров на сайт ин...</td>\n",
       "      <td>8</td>\n",
       "      <td>3</td>\n",
       "      <td>7</td>\n",
       "      <td>3</td>\n",
       "    </tr>\n",
       "    <tr>\n",
       "      <th>3</th>\n",
       "      <td>Изменить структура категорий, что увеличит кон...</td>\n",
       "      <td>8</td>\n",
       "      <td>3</td>\n",
       "      <td>3</td>\n",
       "      <td>8</td>\n",
       "    </tr>\n",
       "    <tr>\n",
       "      <th>4</th>\n",
       "      <td>Изменить цвет фона главной страницы, чтобы уве...</td>\n",
       "      <td>3</td>\n",
       "      <td>1</td>\n",
       "      <td>1</td>\n",
       "      <td>1</td>\n",
       "    </tr>\n",
       "    <tr>\n",
       "      <th>5</th>\n",
       "      <td>Добавить страницу отзывов клиентов о магазине,...</td>\n",
       "      <td>3</td>\n",
       "      <td>2</td>\n",
       "      <td>2</td>\n",
       "      <td>3</td>\n",
       "    </tr>\n",
       "    <tr>\n",
       "      <th>6</th>\n",
       "      <td>Показать на главной странице баннеры с актуаль...</td>\n",
       "      <td>5</td>\n",
       "      <td>3</td>\n",
       "      <td>8</td>\n",
       "      <td>3</td>\n",
       "    </tr>\n",
       "    <tr>\n",
       "      <th>7</th>\n",
       "      <td>Добавить форму подписки на все основные страни...</td>\n",
       "      <td>10</td>\n",
       "      <td>7</td>\n",
       "      <td>8</td>\n",
       "      <td>5</td>\n",
       "    </tr>\n",
       "    <tr>\n",
       "      <th>8</th>\n",
       "      <td>Запустить акцию, дающую скидку на товар в день...</td>\n",
       "      <td>1</td>\n",
       "      <td>9</td>\n",
       "      <td>9</td>\n",
       "      <td>5</td>\n",
       "    </tr>\n",
       "  </tbody>\n",
       "</table>\n",
       "</div>"
      ],
      "text/plain": [
       "                                          Hypothesis  Reach  Impact  \\\n",
       "0  Добавить два новых канала привлечения трафика,...      3      10   \n",
       "1  Запустить собственную службу доставки, что сок...      2       5   \n",
       "2  Добавить блоки рекомендаций товаров на сайт ин...      8       3   \n",
       "3  Изменить структура категорий, что увеличит кон...      8       3   \n",
       "4  Изменить цвет фона главной страницы, чтобы уве...      3       1   \n",
       "5  Добавить страницу отзывов клиентов о магазине,...      3       2   \n",
       "6  Показать на главной странице баннеры с актуаль...      5       3   \n",
       "7  Добавить форму подписки на все основные страни...     10       7   \n",
       "8  Запустить акцию, дающую скидку на товар в день...      1       9   \n",
       "\n",
       "   Confidence  Efforts  \n",
       "0           8        6  \n",
       "1           4       10  \n",
       "2           7        3  \n",
       "3           3        8  \n",
       "4           1        1  \n",
       "5           2        3  \n",
       "6           8        3  \n",
       "7           8        5  \n",
       "8           9        5  "
      ]
     },
     "execution_count": 2,
     "metadata": {},
     "output_type": "execute_result"
    }
   ],
   "source": [
    "\n",
    "\n",
    "data = pd.read_csv('/datasets/hypothesis.csv', sep=',')\n",
    "\n",
    "#Изучим данные\n",
    "\n",
    "data.head(10)"
   ]
  },
  {
   "cell_type": "code",
   "execution_count": 3,
   "metadata": {},
   "outputs": [
    {
     "name": "stdout",
     "output_type": "stream",
     "text": [
      "<class 'pandas.core.frame.DataFrame'>\n",
      "RangeIndex: 9 entries, 0 to 8\n",
      "Data columns (total 5 columns):\n",
      " #   Column      Non-Null Count  Dtype \n",
      "---  ------      --------------  ----- \n",
      " 0   Hypothesis  9 non-null      object\n",
      " 1   Reach       9 non-null      int64 \n",
      " 2   Impact      9 non-null      int64 \n",
      " 3   Confidence  9 non-null      int64 \n",
      " 4   Efforts     9 non-null      int64 \n",
      "dtypes: int64(4), object(1)\n",
      "memory usage: 488.0+ bytes\n"
     ]
    }
   ],
   "source": [
    "data.info()"
   ]
  },
  {
   "cell_type": "markdown",
   "metadata": {},
   "source": [
    "В таблице 5 столбцов, 9 строк. Названия столбцов необходимо привести к нижнему регистру.\n",
    "\n",
    "Типы данных:\n",
    "- целочисленные int64-Reach,Impact,Confidence,Efforts.\n",
    "- строки object(3)-Hypothesis.\n"
   ]
  },
  {
   "cell_type": "code",
   "execution_count": 4,
   "metadata": {},
   "outputs": [],
   "source": [
    "data = data.rename(columns={'Hypothesis': 'hypothesis', 'Reach': 'reach', 'Impact': 'impact', 'Confidence': 'confidence', 'Efforts': 'efforts'}) \n"
   ]
  },
  {
   "cell_type": "code",
   "execution_count": 5,
   "metadata": {},
   "outputs": [
    {
     "data": {
      "text/plain": [
       "0"
      ]
     },
     "execution_count": 5,
     "metadata": {},
     "output_type": "execute_result"
    }
   ],
   "source": [
    "#проверим данные на явные дубликаты\n",
    "data.duplicated().sum()"
   ]
  },
  {
   "cell_type": "markdown",
   "metadata": {},
   "source": [
    "Явных дубликатов нет."
   ]
  },
  {
   "cell_type": "markdown",
   "metadata": {},
   "source": [
    "##  Приоритизация гипотез.\n"
   ]
  },
  {
   "cell_type": "markdown",
   "metadata": {},
   "source": [
    "### Примените фреймворк ICE для приоритизации гипотез. Отсортируйте их по убыванию приоритета."
   ]
  },
  {
   "cell_type": "code",
   "execution_count": 6,
   "metadata": {
    "scrolled": false
   },
   "outputs": [
    {
     "data": {
      "text/html": [
       "<div>\n",
       "<style scoped>\n",
       "    .dataframe tbody tr th:only-of-type {\n",
       "        vertical-align: middle;\n",
       "    }\n",
       "\n",
       "    .dataframe tbody tr th {\n",
       "        vertical-align: top;\n",
       "    }\n",
       "\n",
       "    .dataframe thead th {\n",
       "        text-align: right;\n",
       "    }\n",
       "</style>\n",
       "<table border=\"1\" class=\"dataframe\">\n",
       "  <thead>\n",
       "    <tr style=\"text-align: right;\">\n",
       "      <th></th>\n",
       "      <th>hypothesis</th>\n",
       "      <th>ICE</th>\n",
       "    </tr>\n",
       "  </thead>\n",
       "  <tbody>\n",
       "    <tr>\n",
       "      <th>8</th>\n",
       "      <td>Запустить акцию, дающую скидку на товар в день...</td>\n",
       "      <td>16.200000</td>\n",
       "    </tr>\n",
       "    <tr>\n",
       "      <th>0</th>\n",
       "      <td>Добавить два новых канала привлечения трафика,...</td>\n",
       "      <td>13.333333</td>\n",
       "    </tr>\n",
       "    <tr>\n",
       "      <th>7</th>\n",
       "      <td>Добавить форму подписки на все основные страни...</td>\n",
       "      <td>11.200000</td>\n",
       "    </tr>\n",
       "    <tr>\n",
       "      <th>6</th>\n",
       "      <td>Показать на главной странице баннеры с актуаль...</td>\n",
       "      <td>8.000000</td>\n",
       "    </tr>\n",
       "    <tr>\n",
       "      <th>2</th>\n",
       "      <td>Добавить блоки рекомендаций товаров на сайт ин...</td>\n",
       "      <td>7.000000</td>\n",
       "    </tr>\n",
       "    <tr>\n",
       "      <th>1</th>\n",
       "      <td>Запустить собственную службу доставки, что сок...</td>\n",
       "      <td>2.000000</td>\n",
       "    </tr>\n",
       "    <tr>\n",
       "      <th>5</th>\n",
       "      <td>Добавить страницу отзывов клиентов о магазине,...</td>\n",
       "      <td>1.333333</td>\n",
       "    </tr>\n",
       "    <tr>\n",
       "      <th>3</th>\n",
       "      <td>Изменить структура категорий, что увеличит кон...</td>\n",
       "      <td>1.125000</td>\n",
       "    </tr>\n",
       "    <tr>\n",
       "      <th>4</th>\n",
       "      <td>Изменить цвет фона главной страницы, чтобы уве...</td>\n",
       "      <td>1.000000</td>\n",
       "    </tr>\n",
       "  </tbody>\n",
       "</table>\n",
       "</div>"
      ],
      "text/plain": [
       "                                          hypothesis        ICE\n",
       "8  Запустить акцию, дающую скидку на товар в день...  16.200000\n",
       "0  Добавить два новых канала привлечения трафика,...  13.333333\n",
       "7  Добавить форму подписки на все основные страни...  11.200000\n",
       "6  Показать на главной странице баннеры с актуаль...   8.000000\n",
       "2  Добавить блоки рекомендаций товаров на сайт ин...   7.000000\n",
       "1  Запустить собственную службу доставки, что сок...   2.000000\n",
       "5  Добавить страницу отзывов клиентов о магазине,...   1.333333\n",
       "3  Изменить структура категорий, что увеличит кон...   1.125000\n",
       "4  Изменить цвет фона главной страницы, чтобы уве...   1.000000"
      ]
     },
     "metadata": {},
     "output_type": "display_data"
    }
   ],
   "source": [
    "data['ICE']=(data['impact']*data['confidence'])/data['efforts']\n",
    "display(data[['hypothesis','ICE']].sort_values(by='ICE',ascending=False))\n",
    "pd.options.display.max_colwidth = 1"
   ]
  },
  {
   "cell_type": "markdown",
   "metadata": {},
   "source": [
    "<div class=\"alert alert-block alert-warning\">\n",
    "\n",
    "    \n",
    "Можно увеличить ширину столбцов, если полностью не помещается информация, для этого можно написать следующий код: \n",
    "    \n",
    "    pd.options.display.max_colwidth = 1\n",
    "\n",
    "Вместо print() лучше использовать display(), тогда данные будут выведены в табличном виде.\n",
    "</div>"
   ]
  },
  {
   "cell_type": "markdown",
   "metadata": {},
   "source": [
    "\n",
    "Наиболее перспективные гипотезы по ICE: \n",
    "8\tЗапустить акцию, дающую скидку на товар в день рождения\t16.200000\n",
    "0\tДобавить два новых канала привлечения трафика, что позволит привлекать на 30% больше пользователей\t13.333333\n",
    "7\tДобавить форму подписки на все основные страницы, чтобы собрать базу клиентов для email-рассылок\t11.200000\n",
    "6\tПоказать на главной странице баннеры с актуальными акциями и распродажами, чтобы увеличить конверсию\t8.000000\n",
    "\n",
    "\n",
    "\n"
   ]
  },
  {
   "cell_type": "markdown",
   "metadata": {},
   "source": [
    "### Примените фреймворк RICE для приоритизации гипотез. Отсортируйте их по убыванию приоритета."
   ]
  },
  {
   "cell_type": "code",
   "execution_count": 7,
   "metadata": {},
   "outputs": [
    {
     "data": {
      "text/html": [
       "<div>\n",
       "<style scoped>\n",
       "    .dataframe tbody tr th:only-of-type {\n",
       "        vertical-align: middle;\n",
       "    }\n",
       "\n",
       "    .dataframe tbody tr th {\n",
       "        vertical-align: top;\n",
       "    }\n",
       "\n",
       "    .dataframe thead th {\n",
       "        text-align: right;\n",
       "    }\n",
       "</style>\n",
       "<table border=\"1\" class=\"dataframe\">\n",
       "  <thead>\n",
       "    <tr style=\"text-align: right;\">\n",
       "      <th></th>\n",
       "      <th>hypothesis</th>\n",
       "      <th>RICE</th>\n",
       "    </tr>\n",
       "  </thead>\n",
       "  <tbody>\n",
       "    <tr>\n",
       "      <th>7</th>\n",
       "      <td>Добавить форму подписки на все основные страницы, чтобы собрать базу клиентов для email-рассылок</td>\n",
       "      <td>112.0</td>\n",
       "    </tr>\n",
       "    <tr>\n",
       "      <th>2</th>\n",
       "      <td>Добавить блоки рекомендаций товаров на сайт интернет магазина, чтобы повысить конверсию и средний чек заказа</td>\n",
       "      <td>56.0</td>\n",
       "    </tr>\n",
       "    <tr>\n",
       "      <th>0</th>\n",
       "      <td>Добавить два новых канала привлечения трафика, что позволит привлекать на 30% больше пользователей</td>\n",
       "      <td>40.0</td>\n",
       "    </tr>\n",
       "    <tr>\n",
       "      <th>6</th>\n",
       "      <td>Показать на главной странице баннеры с актуальными акциями и распродажами, чтобы увеличить конверсию</td>\n",
       "      <td>40.0</td>\n",
       "    </tr>\n",
       "    <tr>\n",
       "      <th>8</th>\n",
       "      <td>Запустить акцию, дающую скидку на товар в день рождения</td>\n",
       "      <td>16.2</td>\n",
       "    </tr>\n",
       "    <tr>\n",
       "      <th>3</th>\n",
       "      <td>Изменить структура категорий, что увеличит конверсию, т.к. пользователи быстрее найдут нужный товар</td>\n",
       "      <td>9.0</td>\n",
       "    </tr>\n",
       "    <tr>\n",
       "      <th>1</th>\n",
       "      <td>Запустить собственную службу доставки, что сократит срок доставки заказов</td>\n",
       "      <td>4.0</td>\n",
       "    </tr>\n",
       "    <tr>\n",
       "      <th>5</th>\n",
       "      <td>Добавить страницу отзывов клиентов о магазине, что позволит увеличить количество заказов</td>\n",
       "      <td>4.0</td>\n",
       "    </tr>\n",
       "    <tr>\n",
       "      <th>4</th>\n",
       "      <td>Изменить цвет фона главной страницы, чтобы увеличить вовлеченность пользователей</td>\n",
       "      <td>3.0</td>\n",
       "    </tr>\n",
       "  </tbody>\n",
       "</table>\n",
       "</div>"
      ],
      "text/plain": [
       "                                                                                                     hypothesis  \\\n",
       "7  Добавить форму подписки на все основные страницы, чтобы собрать базу клиентов для email-рассылок               \n",
       "2  Добавить блоки рекомендаций товаров на сайт интернет магазина, чтобы повысить конверсию и средний чек заказа   \n",
       "0  Добавить два новых канала привлечения трафика, что позволит привлекать на 30% больше пользователей             \n",
       "6  Показать на главной странице баннеры с актуальными акциями и распродажами, чтобы увеличить конверсию           \n",
       "8  Запустить акцию, дающую скидку на товар в день рождения                                                        \n",
       "3  Изменить структура категорий, что увеличит конверсию, т.к. пользователи быстрее найдут нужный товар            \n",
       "1  Запустить собственную службу доставки, что сократит срок доставки заказов                                      \n",
       "5  Добавить страницу отзывов клиентов о магазине, что позволит увеличить количество заказов                       \n",
       "4  Изменить цвет фона главной страницы, чтобы увеличить вовлеченность пользователей                               \n",
       "\n",
       "    RICE  \n",
       "7  112.0  \n",
       "2  56.0   \n",
       "0  40.0   \n",
       "6  40.0   \n",
       "8  16.2   \n",
       "3  9.0    \n",
       "1  4.0    \n",
       "5  4.0    \n",
       "4  3.0    "
      ]
     },
     "metadata": {},
     "output_type": "display_data"
    }
   ],
   "source": [
    "data['RICE']=(data['reach']*data['impact']*data['confidence'])/data['efforts']\n",
    "display(data[['hypothesis','RICE']].sort_values(by='RICE',ascending=False))\n",
    "\n"
   ]
  },
  {
   "cell_type": "markdown",
   "metadata": {},
   "source": [
    "7\tДобавить форму подписки на все основные страницы, чтобы собрать базу клиентов для email-рассылок\t112.0\n",
    "2\tДобавить блоки рекомендаций товаров на сайт интернет магазина, чтобы повысить конверсию и средний чек заказа\t56.0\n",
    "0\tДобавить два новых канала привлечения трафика, что позволит привлекать на 30% больше пользователей\t40.0\n",
    "6\tПоказать на главной странице баннеры с актуальными акциями и распродажами, чтобы увеличить конверсию\t40.0"
   ]
  },
  {
   "cell_type": "markdown",
   "metadata": {},
   "source": [
    "### Укажите, как изменилась приоритизация гипотез при применении RICE вместо ICE. Объясните, почему так произошло."
   ]
  },
  {
   "cell_type": "markdown",
   "metadata": {},
   "source": [
    "\n",
    "В лидерах уже гипотезы под номером 7, 2. Так получилось, потому что параметр Reach этих гипотез равен 10 и 8 соответственно, в то время как у других гипотез он меньше (учитывает как много пользователей она затронет).\n"
   ]
  },
  {
   "cell_type": "markdown",
   "metadata": {},
   "source": [
    "## Анализ A/B-теста"
   ]
  },
  {
   "cell_type": "markdown",
   "metadata": {},
   "source": [
    "### Постройте график кумулятивной выручки по группам. Сделайте выводы и предположения."
   ]
  },
  {
   "cell_type": "code",
   "execution_count": 8,
   "metadata": {},
   "outputs": [
    {
     "name": "stdout",
     "output_type": "stream",
     "text": [
      "      orderId      userId       date  revenue group\n",
      "0  3667963787  3312258926 2019-08-15  1650     B   \n",
      "1  2804400009  3642806036 2019-08-15  730      B   \n",
      "2  2961555356  4069496402 2019-08-15  400      A   \n",
      "3  3797467345  1196621759 2019-08-15  9759     B   \n",
      "4  2282983706  2322279887 2019-08-15  2308     B   \n",
      "        date group  visitors\n",
      "0 2019-08-01  A     719     \n",
      "1 2019-08-02  A     619     \n",
      "2 2019-08-03  A     507     \n",
      "3 2019-08-04  A     717     \n",
      "4 2019-08-05  A     756     \n"
     ]
    }
   ],
   "source": [
    "\n",
    "\n",
    "orders = pd.read_csv('/datasets/orders.csv', sep=',')\n",
    "orders['date'] = orders['date'].map(\n",
    "    lambda x: dt.datetime.strptime(x, '%Y-%m-%d')\n",
    ")\n",
    "orders = orders.rename(columns={'transactionId': 'orderId', 'visitorId': 'userId'})\n",
    "\n",
    "visitors = pd.read_csv('/datasets/visitors.csv', sep=',')\n",
    "visitors['date'] = visitors['date'].map(\n",
    "    lambda x: dt.datetime.strptime(x, '%Y-%m-%d')\n",
    ")\n",
    "\n",
    "print(orders.head(5))\n",
    "print(visitors.head(5))\n",
    "\n"
   ]
  },
  {
   "cell_type": "code",
   "execution_count": 9,
   "metadata": {},
   "outputs": [
    {
     "data": {
      "text/plain": [
       "0"
      ]
     },
     "execution_count": 9,
     "metadata": {},
     "output_type": "execute_result"
    }
   ],
   "source": [
    "#проверим данные на явные дубликаты\n",
    "orders.duplicated().sum()"
   ]
  },
  {
   "cell_type": "markdown",
   "metadata": {},
   "source": [
    "Дубликатов нет."
   ]
  },
  {
   "cell_type": "code",
   "execution_count": 10,
   "metadata": {},
   "outputs": [
    {
     "data": {
      "text/plain": [
       "0"
      ]
     },
     "execution_count": 10,
     "metadata": {},
     "output_type": "execute_result"
    }
   ],
   "source": [
    "#проверим данные на явные дубликаты\n",
    "visitors.duplicated().sum()"
   ]
  },
  {
   "cell_type": "markdown",
   "metadata": {},
   "source": [
    "Дубликатов нет."
   ]
  },
  {
   "cell_type": "code",
   "execution_count": 11,
   "metadata": {
    "scrolled": true
   },
   "outputs": [
    {
     "name": "stdout",
     "output_type": "stream",
     "text": [
      "<class 'pandas.core.frame.DataFrame'>\n",
      "RangeIndex: 1197 entries, 0 to 1196\n",
      "Data columns (total 5 columns):\n",
      " #   Column   Non-Null Count  Dtype         \n",
      "---  ------   --------------  -----         \n",
      " 0   orderId  1197 non-null   int64         \n",
      " 1   userId   1197 non-null   int64         \n",
      " 2   date     1197 non-null   datetime64[ns]\n",
      " 3   revenue  1197 non-null   int64         \n",
      " 4   group    1197 non-null   object        \n",
      "dtypes: datetime64[ns](1), int64(3), object(1)\n",
      "memory usage: 46.9+ KB\n"
     ]
    }
   ],
   "source": [
    "orders.info()"
   ]
  },
  {
   "cell_type": "markdown",
   "metadata": {},
   "source": [
    "В таблице 5 столбцов, 1197 строк, пропусков нет. \n",
    "\n",
    "Типы данных:\n",
    "\n",
    "целочисленные int64-orderId,userId,revenue.\n",
    "строки object-group.\n",
    "дата datetime64-date."
   ]
  },
  {
   "cell_type": "code",
   "execution_count": 12,
   "metadata": {},
   "outputs": [
    {
     "name": "stdout",
     "output_type": "stream",
     "text": [
      "<class 'pandas.core.frame.DataFrame'>\n",
      "RangeIndex: 62 entries, 0 to 61\n",
      "Data columns (total 3 columns):\n",
      " #   Column    Non-Null Count  Dtype         \n",
      "---  ------    --------------  -----         \n",
      " 0   date      62 non-null     datetime64[ns]\n",
      " 1   group     62 non-null     object        \n",
      " 2   visitors  62 non-null     int64         \n",
      "dtypes: datetime64[ns](1), int64(1), object(1)\n",
      "memory usage: 1.6+ KB\n"
     ]
    }
   ],
   "source": [
    "visitors.info()"
   ]
  },
  {
   "cell_type": "markdown",
   "metadata": {},
   "source": [
    "В таблице 3 столбца, 62 строки, пропусков нет. \n",
    "\n",
    "Типы данных:\n",
    "\n",
    "целочисленные int64-visitors.\n",
    "строки object-group.\n",
    "дата datetime64-date."
   ]
  },
  {
   "cell_type": "code",
   "execution_count": 13,
   "metadata": {},
   "outputs": [
    {
     "data": {
      "text/plain": [
       "503"
      ]
     },
     "execution_count": 13,
     "metadata": {},
     "output_type": "execute_result"
    }
   ],
   "source": [
    "orders.query('group == \"A\"')['userId'].nunique()"
   ]
  },
  {
   "cell_type": "code",
   "execution_count": 14,
   "metadata": {},
   "outputs": [
    {
     "data": {
      "text/plain": [
       "586"
      ]
     },
     "execution_count": 14,
     "metadata": {},
     "output_type": "execute_result"
    }
   ],
   "source": [
    "orders.query('group == \"B\"')['userId'].nunique()"
   ]
  },
  {
   "cell_type": "code",
   "execution_count": 15,
   "metadata": {
    "scrolled": true
   },
   "outputs": [
    {
     "data": {
      "text/plain": [
       "1031"
      ]
     },
     "execution_count": 15,
     "metadata": {},
     "output_type": "execute_result"
    }
   ],
   "source": [
    "orders['userId'].nunique()"
   ]
  },
  {
   "cell_type": "markdown",
   "metadata": {},
   "source": [
    "Всего 1031 пользователей, значит есть 58 пользователей попавших в обе группы (это 5,6%). В группе В больше пользователей, чем в А."
   ]
  },
  {
   "cell_type": "markdown",
   "metadata": {},
   "source": [
    "Формируем кумулятивные данные"
   ]
  },
  {
   "cell_type": "code",
   "execution_count": 16,
   "metadata": {},
   "outputs": [
    {
     "name": "stdout",
     "output_type": "stream",
     "text": [
      "        date group  orders  buyers  revenue  visitors\n",
      "0 2019-08-01  A     24      20      148579   719     \n",
      "1 2019-08-01  B     21      20      101217   713     \n",
      "2 2019-08-02  A     44      38      242401   1338    \n",
      "3 2019-08-02  B     45      43      266748   1294    \n",
      "4 2019-08-03  A     68      62      354874   1845    \n"
     ]
    }
   ],
   "source": [
    "# создаем массив уникальных пар значений дат и групп теста\n",
    "datesGroups = orders[['date','group']].drop_duplicates()\n",
    "\n",
    "# получаем агрегированные кумулятивные по дням данные о заказах \n",
    "ordersAggregated = datesGroups.apply(lambda x: orders[np.logical_and(orders['date'] <= x['date'], orders['group'] == x['group'])].agg({'date' : 'max', 'group' : 'max', 'orderId' : 'nunique', 'userId' : 'nunique', 'revenue' : 'sum'}), axis=1).sort_values(by=['date','group'])\n",
    "\n",
    "# получаем агрегированные кумулятивные по дням данные о посетителях интернет-магазина \n",
    "visitorsAggregated = datesGroups.apply(lambda x: visitors[np.logical_and(visitors['date'] <= x['date'], visitors['group'] == x['group'])].agg({'date' : 'max', 'group' : 'max', 'visitors' : 'sum'}), axis=1).sort_values(by=['date','group'])\n",
    "\n",
    "# объединяем кумулятивные данные в одной таблице и присваиваем ее столбцам понятные названия\n",
    "cumulativeData = ordersAggregated.merge(visitorsAggregated, left_on=['date', 'group'], right_on=['date', 'group'])\n",
    "cumulativeData.columns = ['date', 'group', 'orders', 'buyers', 'revenue', 'visitors']\n",
    "\n",
    "print(cumulativeData.head(5))"
   ]
  },
  {
   "cell_type": "code",
   "execution_count": null,
   "metadata": {},
   "outputs": [],
   "source": []
  },
  {
   "cell_type": "code",
   "execution_count": 17,
   "metadata": {},
   "outputs": [
    {
     "data": {
      "image/png": "[encoded data removed]",
      "text/plain": [
       "<Figure size 432x288 with 1 Axes>"
      ]
     },
     "metadata": {
      "needs_background": "light"
     },
     "output_type": "display_data"
    }
   ],
   "source": [
    "ordersAggregated = datesGroups.apply(\n",
    "    lambda x: orders[\n",
    "        np.logical_and(\n",
    "            orders['date'] <= x['date'], orders['group'] == x['group']\n",
    "        )\n",
    "    ].agg(\n",
    "        {\n",
    "            'date': 'max',\n",
    "            'group': 'max',\n",
    "            'orderId': 'nunique',\n",
    "            'userId': 'nunique',\n",
    "            'revenue': 'sum',\n",
    "        }\n",
    "    ),\n",
    "    axis=1,\n",
    ").sort_values(by=['date', 'group'])\n",
    "\n",
    "visitorsAggregated = datesGroups.apply(\n",
    "    lambda x: visitors[\n",
    "        np.logical_and(\n",
    "            visitors['date'] <= x['date'], visitors['group'] == x['group']\n",
    "        )\n",
    "    ].agg({'date': 'max', 'group': 'max', 'visitors': 'sum'}),\n",
    "    axis=1,\n",
    ").sort_values(by=['date', 'group'])\n",
    "\n",
    "cumulativeData = ordersAggregated.merge(\n",
    "    visitorsAggregated, left_on=['date', 'group'], right_on=['date', 'group']\n",
    ")\n",
    "cumulativeData.columns = [\n",
    "    'date',\n",
    "    'group',\n",
    "    'orders',\n",
    "    'buyers',\n",
    "    'revenue',\n",
    "    'visitors',\n",
    "]\n",
    "# датафрейм с кумулятивным количеством заказов и кумулятивной выручкой по дням в группе А\n",
    "cumulativeRevenueA = cumulativeData[cumulativeData['group']=='A'][['date','revenue', 'orders']]\n",
    "\n",
    "# датафрейм с кумулятивным количеством заказов и кумулятивной выручкой по дням в группе B\n",
    "cumulativeRevenueB = cumulativeData[cumulativeData['group']=='B'][['date','revenue', 'orders']]\n",
    "\n",
    "# Строим график выручки группы А\n",
    "plt.plot(cumulativeRevenueA['date'], cumulativeRevenueA['revenue'], label='A')\n",
    "\n",
    "# Строим график выручки группы B\n",
    "plt.plot(cumulativeRevenueB['date'], cumulativeRevenueB['revenue'], label='B')\n",
    "plt.legend() \n",
    "plt.xticks(rotation=90)\n",
    "plt.title('График кумулятивной выручки по дням и группам A/B-тестирования')\n",
    "plt.ylabel('Выручка')\n",
    "plt.show()\n",
    "\n",
    "\n"
   ]
  },
  {
   "cell_type": "markdown",
   "metadata": {},
   "source": [
    "\n",
    "    \n",
    "\n",
    "</div>\n",
    " новые библиотеки визуализации и новые методы в уже изученных.  Прикрепляю несколько интересных ссылок по визуализации:\n",
    "\n",
    "\n",
    "https://coderlessons.com/tutorials/python-technologies/izuchai-siborna/siborn-kratkoe-rukovodstvo\n",
    "\n",
    "https://tproger.ru/translations/python-data-vizualization/\n",
    "    \n",
    "____________________\n",
    " \n",
    "*Техническую строку над графиком можно убрать, если написатьв конце ячейки:*\n",
    "    \n",
    "    plt.show()\n",
    "</div>"
   ]
  },
  {
   "cell_type": "markdown",
   "metadata": {},
   "source": [
    "Выручка группы А равномерно увеличивается в течение всего теста. \n",
    "График выручки группы B также растет, но не плавно, в одной из точкек резкий рост. Это может сигнализировать о всплесках числа заказов, либо о появлении очень дорогих заказов в выборке. "
   ]
  },
  {
   "cell_type": "markdown",
   "metadata": {},
   "source": [
    "### Постройте график кумулятивного среднего чека по группам. Сделайте выводы и предположения."
   ]
  },
  {
   "cell_type": "code",
   "execution_count": 18,
   "metadata": {},
   "outputs": [
    {
     "data": {
      "image/png": "[encoded data removed]",
      "text/plain": [
       "<Figure size 432x288 with 1 Axes>"
      ]
     },
     "metadata": {
      "needs_background": "light"
     },
     "output_type": "display_data"
    }
   ],
   "source": [
    "plt.plot(cumulativeRevenueA['date'], cumulativeRevenueA['revenue']/cumulativeRevenueA['orders'], label='A')\n",
    "plt.plot(cumulativeRevenueB['date'], cumulativeRevenueB['revenue']/cumulativeRevenueB['orders'], label='B')\n",
    "plt.legend()\n",
    "plt.xticks(rotation=90)\n",
    "plt.title('График динамики среднего чека по дням и группам A/B-тестирования')\n",
    "plt.ylabel('Средний чек')\n",
    "plt.show()"
   ]
  },
  {
   "cell_type": "markdown",
   "metadata": {},
   "source": [
    "Средний чек становится равномерным ближе к концу теста: падает для группы B и увеличивается для группы А. \n",
    "На графике есть всплески в обеих группах, особенно явно выражено в группе В возможно, в группу B попали крупные заказы (резкий всплеск на графике). Нужен дополнительный анализ выбросов."
   ]
  },
  {
   "cell_type": "markdown",
   "metadata": {},
   "source": [
    "### Постройте график относительного изменения кумулятивного среднего чека группы B к группе A. Сделайте выводы и предположения."
   ]
  },
  {
   "cell_type": "code",
   "execution_count": 19,
   "metadata": {},
   "outputs": [
    {
     "data": {
      "image/png": "[encoded data removed]",
      "text/plain": [
       "<Figure size 432x288 with 1 Axes>"
      ]
     },
     "metadata": {
      "needs_background": "light"
     },
     "output_type": "display_data"
    }
   ],
   "source": [
    "# собираем данные в одном датафрейме\n",
    "mergedCumulativeRevenue = cumulativeRevenueA.merge(cumulativeRevenueB, left_on='date', right_on='date', how='left', suffixes=['A', 'B'])\n",
    "\n",
    "# cтроим отношение средних чеков\n",
    "plt.plot(mergedCumulativeRevenue['date'], (mergedCumulativeRevenue['revenueB']/mergedCumulativeRevenue['ordersB'])/(mergedCumulativeRevenue['revenueA']/mergedCumulativeRevenue['ordersA'])-1)\n",
    "\n",
    "# добавляем ось X\n",
    "plt.axhline(y=0, color='black', linestyle='--')\n",
    "plt.xticks(rotation=90)\n",
    "\n",
    "plt.title('График относительного изменения кумулятивного среднего чека группы B к группе A')\n",
    "plt.ylabel('Средний чек')\n",
    "plt.show()"
   ]
  },
  {
   "cell_type": "markdown",
   "metadata": {},
   "source": [
    "В нескольких точках график различия между сегментами резко «скачет». Нужно проверить на крупные заказы и выбросы."
   ]
  },
  {
   "cell_type": "markdown",
   "metadata": {},
   "source": [
    "### Постройте график кумулятивного среднего количества заказов на посетителя по группам. Сделайте выводы и предположения."
   ]
  },
  {
   "cell_type": "code",
   "execution_count": 20,
   "metadata": {},
   "outputs": [
    {
     "data": {
      "image/png": "[encoded data removed]",
      "text/plain": [
       "<Figure size 432x288 with 1 Axes>"
      ]
     },
     "metadata": {
      "needs_background": "light"
     },
     "output_type": "display_data"
    }
   ],
   "source": [
    "# считаем кумулятивную конверсию\n",
    "cumulativeData['conversion'] = cumulativeData['orders']/cumulativeData['visitors']\n",
    "\n",
    "# отделяем данные по группе A\n",
    "cumulativeDataA = cumulativeData[cumulativeData['group']=='A']\n",
    "\n",
    "# отделяем данные по группе B\n",
    "cumulativeDataB = cumulativeData[cumulativeData['group']=='B']\n",
    "\n",
    "# строим графики\n",
    "plt.plot(cumulativeDataA['date'], cumulativeDataA['conversion'], label='A')\n",
    "plt.plot(cumulativeDataB['date'], cumulativeDataB['conversion'], label='B')\n",
    "plt.legend()\n",
    "\n",
    "plt.xticks(rotation=90)\n",
    "plt.title('График кумулятивного среднего количества заказов на посетителя по группам')\n",
    "\n",
    "plt.show()"
   ]
  },
  {
   "cell_type": "markdown",
   "metadata": {},
   "source": [
    "Конверсия группы A падает, а конверсия группы B выше группы А, но постепенно тоже снижается."
   ]
  },
  {
   "cell_type": "markdown",
   "metadata": {},
   "source": [
    "### Постройте график относительного изменения кумулятивного среднего количества заказов на посетителя группы B к группе A. Сделайте выводы и предположения."
   ]
  },
  {
   "cell_type": "code",
   "execution_count": 21,
   "metadata": {
    "scrolled": false
   },
   "outputs": [
    {
     "data": {
      "image/png": "[encoded data removed]",
      "text/plain": [
       "<Figure size 432x288 with 1 Axes>"
      ]
     },
     "metadata": {
      "needs_background": "light"
     },
     "output_type": "display_data"
    }
   ],
   "source": [
    "mergedCumulativeConversions = cumulativeDataA[['date','conversion']].merge(cumulativeDataB[['date','conversion']], left_on='date', right_on='date', how='left', suffixes=['A', 'B'])\n",
    "\n",
    "plt.plot(mergedCumulativeConversions['date'], mergedCumulativeConversions['conversionB']/mergedCumulativeConversions['conversionA']-1)\n",
    "\n",
    "\n",
    "plt.axhline(y=0, color='black', linestyle='--')\n",
    "plt.axhline(y=-0.1, color='grey', linestyle='--')\n",
    "plt.xticks(rotation=90)\n",
    "\n",
    "plt.title('График  относительного изменения кумулятивного среднего количества заказов на посетителя группы B к группе A')\n",
    "plt.show()\n"
   ]
  },
  {
   "cell_type": "markdown",
   "metadata": {},
   "source": [
    "В начале теста группа B проигрывала группе A, затем вырвалась вперёд. Потом её конверсия снова начала снижаться, \n",
    "В целом конверсия группы В выше, чем А. На графике конверсия еще не установилась, выводы делать рано. Стоит проанализировать аномалии, возможно, они изменят картину. "
   ]
  },
  {
   "cell_type": "markdown",
   "metadata": {},
   "source": [
    "### Постройте точечный график количества заказов по пользователям. Сделайте выводы и предположения."
   ]
  },
  {
   "cell_type": "code",
   "execution_count": 22,
   "metadata": {},
   "outputs": [
    {
     "name": "stdout",
     "output_type": "stream",
     "text": [
      "          userId  orders\n",
      "1023  4256040402  11    \n",
      "591   2458001652  11    \n",
      "569   2378935119  9     \n",
      "487   2038680547  8     \n",
      "44    199603092   5     \n",
      "744   3062433592  5     \n",
      "55    237748145   5     \n",
      "917   3803269165  5     \n",
      "299   1230306981  5     \n",
      "897   3717692402  5     \n"
     ]
    },
    {
     "data": {
      "image/png": "[encoded data removed]",
      "text/plain": [
       "<Figure size 432x288 with 1 Axes>"
      ]
     },
     "metadata": {
      "needs_background": "light"
     },
     "output_type": "display_data"
    }
   ],
   "source": [
    "ordersByUsers = (\n",
    "    orders.groupby('userId', as_index=False)\n",
    "    .agg({'orderId': 'nunique'})\n",
    ")\n",
    "ordersByUsers.columns = ['userId', 'orders']\n",
    "x_values = pd.Series(range(0,len(ordersByUsers['orders'])))\n",
    "plt.scatter(x_values, ordersByUsers['orders']) \n",
    "\n",
    "print(ordersByUsers.sort_values(by='orders', ascending=False).head(10))\n",
    "\n",
    "plt.title('График количества заказов по пользователям')\n",
    "plt.ylabel('количество заказов')\n",
    "plt.show()\n",
    "#plt.hist(ordersByUsers['orders']) "
   ]
  },
  {
   "cell_type": "markdown",
   "metadata": {},
   "source": [
    "Большинство пользователей имеют 1-2 заказа.\n"
   ]
  },
  {
   "cell_type": "markdown",
   "metadata": {},
   "source": [
    "### Посчитайте 95-й и 99-й перцентили количества заказов на пользователя. Выберите границу для определения аномальных пользователей."
   ]
  },
  {
   "cell_type": "code",
   "execution_count": 23,
   "metadata": {},
   "outputs": [
    {
     "name": "stdout",
     "output_type": "stream",
     "text": [
      "[1. 2. 4.]\n"
     ]
    }
   ],
   "source": [
    "\n",
    "print(np.percentile(ordersByUsers['orders'], [90, 95, 99])) "
   ]
  },
  {
   "cell_type": "markdown",
   "metadata": {},
   "source": [
    " Не более 5% пользователей совершали более 2 заказов и не более 1% совершали больше 3 заказов. Можно выбрать 3 заказа на одного пользователя за верхнюю границу числа заказов, и отсеять аномальных пользователей по ней."
   ]
  },
  {
   "cell_type": "markdown",
   "metadata": {},
   "source": [
    "### Постройте точечный график стоимостей заказов. Сделайте выводы и предположения."
   ]
  },
  {
   "cell_type": "code",
   "execution_count": 24,
   "metadata": {},
   "outputs": [
    {
     "name": "stdout",
     "output_type": "stream",
     "text": [
      "         orderId      userId       date  revenue group\n",
      "425   590470918   1920142716 2019-08-19  1294500  B   \n",
      "1196  3936777065  2108080724 2019-08-15  202740   B   \n",
      "858   192721366   1316129916 2019-08-27  93940    A   \n",
      "1136  666610489   1307669133 2019-08-13  92550    A   \n",
      "744   3668308183  888512513  2019-08-27  86620    B   \n",
      "682   1216533772  4266935830 2019-08-29  78990    B   \n",
      "662   1811671147  4266935830 2019-08-29  78990    A   \n",
      "743   3603576309  4133034833 2019-08-09  67990    A   \n",
      "1103  1348774318  1164614297 2019-08-12  66350    A   \n",
      "1099  316924019   148427295  2019-08-12  65710    A   \n"
     ]
    },
    {
     "data": {
      "image/png": "[encoded data removed]",
      "text/plain": [
       "<Figure size 432x288 with 1 Axes>"
      ]
     },
     "metadata": {
      "needs_background": "light"
     },
     "output_type": "display_data"
    }
   ],
   "source": [
    "print(orders.sort_values(by='revenue', ascending=False).head(10))\n",
    "\n",
    "x_values = pd.Series(range(0, len(orders['revenue'])))\n",
    "plt.scatter(x_values, orders['revenue']) \n",
    "plt.ylim([0,150000])\n",
    "plt.title('График стоимостей заказов')\n",
    "plt.ylabel('стоимость заказа')\n",
    "plt.show()\n"
   ]
  },
  {
   "cell_type": "markdown",
   "metadata": {},
   "source": [
    "Есть 2 явно аномальных значения стоимости заказа."
   ]
  },
  {
   "cell_type": "markdown",
   "metadata": {},
   "source": [
    "<div class=\"alert alert-block alert-warning\">\n",
    "\n",
    "Можно увеличить масштаб графика, не учитывая аномально большие значения:\n",
    "    \n",
    "    plt.ylim([0,150000])\n",
    "</div>"
   ]
  },
  {
   "cell_type": "markdown",
   "metadata": {},
   "source": [
    "### Посчитайте 95-й и 99-й перцентили стоимости заказов. Выберите границу для определения аномальных заказов."
   ]
  },
  {
   "cell_type": "code",
   "execution_count": 25,
   "metadata": {},
   "outputs": [
    {
     "name": "stdout",
     "output_type": "stream",
     "text": [
      "[18168.  28000.  58233.2]\n"
     ]
    }
   ],
   "source": [
    "print(np.percentile(orders['revenue'], [90, 95, 99])) "
   ]
  },
  {
   "cell_type": "markdown",
   "metadata": {},
   "source": [
    "Не более 5% пользователей совершали покупку на сумму более 28000 и не более 1% совершали покупку на сумму более 58233.2. Границей аномальных заказов можно взять  сумму заказа 30000р."
   ]
  },
  {
   "cell_type": "markdown",
   "metadata": {},
   "source": [
    "### Посчитайте статистическую значимость различий в среднем количестве заказов на посетителя между группами по «сырым» данным. Сделайте выводы и предположения."
   ]
  },
  {
   "cell_type": "code",
   "execution_count": 26,
   "metadata": {},
   "outputs": [
    {
     "name": "stdout",
     "output_type": "stream",
     "text": [
      "        date  ordersPerDateA  revenuePerDateA  ordersPerDateB  \\\n",
      "0 2019-08-01  24              148579           21               \n",
      "1 2019-08-02  20              93822            24               \n",
      "2 2019-08-03  24              112473           16               \n",
      "3 2019-08-04  16              70825            17               \n",
      "4 2019-08-05  25              124218           23               \n",
      "\n",
      "   revenuePerDateB  ordersCummulativeA  revenueCummulativeA  \\\n",
      "0  101217           24                  148579                \n",
      "1  165531           44                  242401                \n",
      "2  114248           68                  354874                \n",
      "3  108571           84                  425699                \n",
      "4  92428            109                 549917                \n",
      "\n",
      "   ordersCummulativeB  revenueCummulativeB  visitorsPerDateA  \\\n",
      "0  21                  101217               719                \n",
      "1  45                  266748               619                \n",
      "2  61                  380996               507                \n",
      "3  78                  489567               717                \n",
      "4  101                 581995               756                \n",
      "\n",
      "   visitorsPerDateB  visitorsCummulativeA  visitorsCummulativeB  \n",
      "0  713               719                   713                   \n",
      "1  581               1338                  1294                  \n",
      "2  509               1845                  1803                  \n",
      "3  770               2562                  2573                  \n",
      "4  707               3318                  3280                  \n"
     ]
    }
   ],
   "source": [
    "\n",
    "\n",
    "visitorsADaily = visitors[visitors['group'] == 'A'][['date', 'visitors']]\n",
    "visitorsADaily.columns = ['date', 'visitorsPerDateA']\n",
    "\n",
    "visitorsACummulative = visitorsADaily.apply(\n",
    "    lambda x: visitorsADaily[visitorsADaily['date'] <= x['date']].agg(\n",
    "        {'date': 'max', 'visitorsPerDateA': 'sum'}\n",
    "    ),\n",
    "    axis=1,\n",
    ")\n",
    "visitorsACummulative.columns = ['date', 'visitorsCummulativeA']\n",
    "\n",
    "visitorsBDaily = visitors[visitors['group'] == 'B'][['date', 'visitors']]\n",
    "visitorsBDaily.columns = ['date', 'visitorsPerDateB']\n",
    "\n",
    "visitorsBCummulative = visitorsBDaily.apply(\n",
    "    lambda x: visitorsBDaily[visitorsBDaily['date'] <= x['date']].agg(\n",
    "        {'date': 'max', 'visitorsPerDateB': 'sum'}\n",
    "    ),\n",
    "    axis=1,\n",
    ")\n",
    "visitorsBCummulative.columns = ['date', 'visitorsCummulativeB']\n",
    "\n",
    "ordersADaily = (\n",
    "    orders[orders['group'] == 'A'][['date', 'orderId', 'userId', 'revenue']]\n",
    "    .groupby('date', as_index=False)\n",
    "    .agg({'orderId': pd.Series.nunique, 'revenue': 'sum'})\n",
    ")\n",
    "ordersADaily.columns = ['date', 'ordersPerDateA', 'revenuePerDateA']\n",
    "\n",
    "ordersACummulative = ordersADaily.apply(\n",
    "    lambda x: ordersADaily[ordersADaily['date'] <= x['date']].agg(\n",
    "        {'date': 'max', 'ordersPerDateA': 'sum', 'revenuePerDateA': 'sum'}\n",
    "    ),\n",
    "    axis=1,\n",
    ").sort_values(by=['date'])\n",
    "ordersACummulative.columns = [\n",
    "    'date',\n",
    "    'ordersCummulativeA',\n",
    "    'revenueCummulativeA',\n",
    "]\n",
    "\n",
    "ordersBDaily = (\n",
    "    orders[orders['group'] == 'B'][['date', 'orderId', 'userId', 'revenue']]\n",
    "    .groupby('date', as_index=False)\n",
    "    .agg({'orderId': pd.Series.nunique, 'revenue': 'sum'})\n",
    ")\n",
    "ordersBDaily.columns = ['date', 'ordersPerDateB', 'revenuePerDateB']\n",
    "\n",
    "ordersBCummulative = ordersBDaily.apply(\n",
    "    lambda x: ordersBDaily[ordersBDaily['date'] <= x['date']].agg(\n",
    "        {'date': 'max', 'ordersPerDateB': 'sum', 'revenuePerDateB': 'sum'}\n",
    "    ),\n",
    "    axis=1,\n",
    ").sort_values(by=['date'])\n",
    "ordersBCummulative.columns = [\n",
    "    'date',\n",
    "    'ordersCummulativeB',\n",
    "    'revenueCummulativeB',\n",
    "]\n",
    "\n",
    "data = (\n",
    "    ordersADaily.merge(\n",
    "        ordersBDaily, left_on='date', right_on='date', how='left'\n",
    "    )\n",
    "    .merge(ordersACummulative, left_on='date', right_on='date', how='left')\n",
    "    .merge(ordersBCummulative, left_on='date', right_on='date', how='left')\n",
    "    .merge(visitorsADaily, left_on='date', right_on='date', how='left')\n",
    "    .merge(visitorsBDaily, left_on='date', right_on='date', how='left')\n",
    "    .merge(visitorsACummulative, left_on='date', right_on='date', how='left')\n",
    "    .merge(visitorsBCummulative, left_on='date', right_on='date', how='left')\n",
    ")\n",
    "\n",
    "print(data.head(5))"
   ]
  },
  {
   "cell_type": "code",
   "execution_count": 27,
   "metadata": {},
   "outputs": [
    {
     "name": "stdout",
     "output_type": "stream",
     "text": [
      "0.017 p-value\n",
      "0.138 Относительный прирост среднего числа заказов группы B\n"
     ]
    }
   ],
   "source": [
    "#Посчитаем статистическую значимость различия в среднем количестве заказов между группами\n",
    "\n",
    "ordersByUsersA = (\n",
    "    orders[orders['group'] == 'A']\n",
    "    .groupby('userId', as_index=False)\n",
    "    .agg({'orderId': pd.Series.nunique})\n",
    ")\n",
    "ordersByUsersA.columns = ['userId', 'orders']\n",
    "\n",
    "ordersByUsersB = (\n",
    "    orders[orders['group'] == 'B']\n",
    "    .groupby('userId', as_index=False)\n",
    "    .agg({'orderId': pd.Series.nunique})\n",
    ")\n",
    "ordersByUsersB.columns = ['userId', 'orders']\n",
    "\n",
    "sampleA = pd.concat(\n",
    "    [\n",
    "        ordersByUsersA['orders'],\n",
    "        pd.Series(\n",
    "            0,\n",
    "            index=np.arange(\n",
    "                data['visitorsPerDateA'].sum() - len(ordersByUsersA['orders'])\n",
    "            ),\n",
    "            name='orders',\n",
    "        ),\n",
    "    ],\n",
    "    axis=0,\n",
    ")\n",
    "\n",
    "sampleB = pd.concat(\n",
    "    [\n",
    "        ordersByUsersB['orders'],\n",
    "        pd.Series(\n",
    "            0,\n",
    "            index=np.arange(\n",
    "                data['visitorsPerDateB'].sum() - len(ordersByUsersB['orders'])\n",
    "            ),\n",
    "            name='orders',\n",
    "        ),\n",
    "    ],\n",
    "    axis=0,\n",
    ")\n",
    "\n",
    "print(\"{0:.3f}\".format(stats.mannwhitneyu(sampleA, sampleB)[1]),'p-value')\n",
    "\n",
    "print(\"{0:.3f}\".format(sampleB.mean() / sampleA.mean() - 1),'Относительный прирост среднего числа заказов группы B')\n"
   ]
  },
  {
   "cell_type": "code",
   "execution_count": null,
   "metadata": {},
   "outputs": [],
   "source": [
    "\n"
   ]
  },
  {
   "cell_type": "markdown",
   "metadata": {},
   "source": [
    "\n",
    "ГИПОТЕЗЫ (Нулевая: различий в среднем количестве заказов между группами нет. Альтернативная: различия в среднем между группами есть) проверяем критерием Манна-Уитни.\n",
    "P-value=0,017 меньше 0.05, поэтому нулевую гипотезу отвергаем. Анализ «сырых данных» сообщает, что в среднем количестве заказов между группами есть статистически значимые различия. Относительный прирост среднего группы B к конверсии группы A равен 13.8%.\n",
    "\n",
    "\n",
    "\n",
    "\n"
   ]
  },
  {
   "cell_type": "markdown",
   "metadata": {},
   "source": [
    "### Посчитайте статистическую значимость различий в среднем чеке заказа между группами по «сырым» данным. Сделайте выводы и предположения."
   ]
  },
  {
   "cell_type": "code",
   "execution_count": null,
   "metadata": {},
   "outputs": [],
   "source": []
  },
  {
   "cell_type": "markdown",
   "metadata": {},
   "source": [
    "Нулевая гипотеза: различий в среднем чеке между группами нет. Альтернативная гипотеза: различия в среднем чеке между группами есть. Проверяем критерием Манна-Уитни."
   ]
  },
  {
   "cell_type": "code",
   "execution_count": 28,
   "metadata": {},
   "outputs": [
    {
     "name": "stdout",
     "output_type": "stream",
     "text": [
      "0.729 p-value\n",
      "0.259 Относительный прирост\n"
     ]
    }
   ],
   "source": [
    "print('{0:.3f}'.format(stats.mannwhitneyu(orders[orders['group']=='A']['revenue'], orders[orders['group']=='B']['revenue'])[1]),'p-value')\n",
    "print('{0:.3f}'.format(orders[orders['group']=='B']['revenue'].mean()/orders[orders['group']=='A']['revenue'].mean()-1),'Относительный прирост')"
   ]
  },
  {
   "cell_type": "markdown",
   "metadata": {},
   "source": [
    "\n",
    "P-value=0.729 больше 0.05 — статистически значимых отличий в среднем чеке между группами нет.\n",
    "Относительное различие среднего чека группы В значительно выше группы А на 25,9%.\n",
    "\n",
    "\n",
    "\n",
    "\n",
    "\n",
    "\n"
   ]
  },
  {
   "cell_type": "markdown",
   "metadata": {},
   "source": [
    "### Посчитайте статистическую значимость различий в среднем количестве заказов на посетителя между группами по «очищенным» данным. Сделайте выводы и предположения."
   ]
  },
  {
   "cell_type": "markdown",
   "metadata": {},
   "source": [
    " \n",
    "Примем за аномальных пользователей тех, кто совершил более 3 заказов или совершил заказ дороже 30 000 рублей. \n",
    "Так мы уберём 1%-5% пользователей с наибольшим числом заказов и 1%-5% пользователей с дорогими заказами. Сделаем срезы пользователей с числом заказов больше 3 — usersWithManyOrders и пользователей, совершивших заказы дороже 30 000 — usersWithExpensiveOrders. Объединим их в таблице abnormalUsers. \n"
   ]
  },
  {
   "cell_type": "code",
   "execution_count": 29,
   "metadata": {},
   "outputs": [
    {
     "name": "stdout",
     "output_type": "stream",
     "text": [
      "1099    148427295\n",
      "18      199603092\n",
      "928     204675465\n",
      "23      237748145\n",
      "684     358944393\n",
      "Name: userId, dtype: int64\n",
      "57\n"
     ]
    }
   ],
   "source": [
    "usersWithManyOrders = pd.concat(\n",
    "    [\n",
    "        ordersByUsersA[ordersByUsersA['orders'] > 3]['userId'],\n",
    "        ordersByUsersB[ordersByUsersB['orders'] > 3]['userId'],\n",
    "    ],\n",
    "    axis=0,\n",
    ")\n",
    "usersWithExpensiveOrders = orders[orders['revenue'] > 30000]['userId']\n",
    "abnormalUsers = (\n",
    "    pd.concat([usersWithManyOrders, usersWithExpensiveOrders], axis=0)\n",
    "    .drop_duplicates()\n",
    "    .sort_values()\n",
    ")\n",
    "print(abnormalUsers.head(5))\n",
    "print(abnormalUsers.shape[0])"
   ]
  },
  {
   "cell_type": "markdown",
   "metadata": {},
   "source": [
    "<div class=\"alert alert-block alert-warning\">\n",
    "\n",
    "\n",
    "    \n",
    "Стоит исключить ручной ввод данных, такой код неустойчив к изменениям исходных данных. Вместо этого лучше использовать перцентили:\n",
    "    \n",
    "    int(np.percentile(orders['revenue'], [95])) \n",
    "</div>"
   ]
  },
  {
   "cell_type": "code",
   "execution_count": 30,
   "metadata": {},
   "outputs": [],
   "source": [
    "#Сначала подготовим выборки количества заказов по пользователям по группам теста\n",
    "sampleAFiltered = pd.concat(\n",
    "    [\n",
    "        ordersByUsersA[\n",
    "            np.logical_not(ordersByUsersA['userId'].isin(abnormalUsers))\n",
    "        ]['orders'],\n",
    "        pd.Series(\n",
    "            0,\n",
    "            index=np.arange(\n",
    "                data['visitorsPerDateA'].sum() - len(ordersByUsersA['orders'])\n",
    "            ),\n",
    "            name='orders',\n",
    "        ),\n",
    "    ],\n",
    "    axis=0,\n",
    ")\n",
    "\n",
    "sampleBFiltered = pd.concat(\n",
    "    [\n",
    "        ordersByUsersB[\n",
    "            np.logical_not(ordersByUsersB['userId'].isin(abnormalUsers))\n",
    "        ]['orders'],\n",
    "        pd.Series(\n",
    "            0,\n",
    "            index=np.arange(\n",
    "                data['visitorsPerDateB'].sum() - len(ordersByUsersB['orders'])\n",
    "            ),\n",
    "            name='orders',\n",
    "        ),\n",
    "    ],\n",
    "    axis=0,\n",
    ")"
   ]
  },
  {
   "cell_type": "code",
   "execution_count": 31,
   "metadata": {},
   "outputs": [
    {
     "name": "stdout",
     "output_type": "stream",
     "text": [
      "0.018 P-value\n",
      "0.148 Относительный прирост\n"
     ]
    }
   ],
   "source": [
    "#Применим статистический критерий Манна-Уитни к полученным выборкам\n",
    "print('{0:.3f}'.format(stats.mannwhitneyu(sampleAFiltered, sampleBFiltered)[1]),'P-value')\n",
    "print('{0:.3f}'.format(sampleBFiltered.mean()/sampleAFiltered.mean()-1),'Относительный прирост')"
   ]
  },
  {
   "cell_type": "markdown",
   "metadata": {},
   "source": [
    "Результаты по среднему количеству заказов практически не изменились. \n",
    "P-value=0,018 меньше 0.05, поэтому нулевую гипотезу отвергаем. Анализ «очищенных данных» сообщает, что в среднем количестве заказов между группами есть статистически значимые различия. \n",
    "Относительный прирост среднего группы B к конверсии группы A равен 14.8%.\n"
   ]
  },
  {
   "cell_type": "markdown",
   "metadata": {},
   "source": [
    "### Посчитайте статистическую значимость различий в среднем чеке заказа между группами по «очищенным» данным. Сделайте выводы и предположения."
   ]
  },
  {
   "cell_type": "code",
   "execution_count": 32,
   "metadata": {},
   "outputs": [
    {
     "name": "stdout",
     "output_type": "stream",
     "text": [
      "0.958 P-value\n",
      "-0.020 Относительный прирост\n"
     ]
    }
   ],
   "source": [
    "#Применим статистический критерий Манна-Уитни к полученным выборкам\n",
    "print(\n",
    "    '{0:.3f}'.format(\n",
    "        stats.mannwhitneyu(\n",
    "            orders[\n",
    "                np.logical_and(\n",
    "                    orders['group'] == 'A',\n",
    "                    np.logical_not(orders['userId'].isin(abnormalUsers)),\n",
    "                )\n",
    "            ]['revenue'],\n",
    "            orders[\n",
    "                np.logical_and(\n",
    "                    orders['group'] == 'B',\n",
    "                    np.logical_not(orders['userId'].isin(abnormalUsers)),\n",
    "                )\n",
    "            ]['revenue'],\n",
    "        )[1]\n",
    "    ),'P-value')\n",
    "\n",
    "\n",
    "print(\n",
    "    \"{0:.3f}\".format(\n",
    "        orders[\n",
    "            np.logical_and(\n",
    "                orders['group'] == 'B',\n",
    "                np.logical_not(orders['userId'].isin(abnormalUsers)),\n",
    "            )\n",
    "        ]['revenue'].mean()\n",
    "        / orders[\n",
    "            np.logical_and(\n",
    "                orders['group'] == 'A',\n",
    "                np.logical_not(orders['userId'].isin(abnormalUsers)),\n",
    "            )\n",
    "        ]['revenue'].mean()\n",
    "        - 1\n",
    "    ),'Относительный прирост')\n"
   ]
  },
  {
   "cell_type": "markdown",
   "metadata": {},
   "source": [
    "\n",
    "P-value=0.958 больше 0.05 — статистически значимых отличий в среднем чеке между группами нет.\n",
    "Cредний чек группы B стал ниже среднего чека группы A на 2%."
   ]
  },
  {
   "cell_type": "markdown",
   "metadata": {},
   "source": [
    "ВЫВОД: Нет статистически значимого различия по среднему чеку между группами ни по «сырым», ни по данным после фильтрации аномалий;\n",
    "    В среднем количестве заказов между группами есть статистически значимые различия по \"сырым\" и \"очищенным\" данным.\n",
    "    График среднего количества заказов показывает, что результаты группы B лучше группы A: \n",
    "    имеют тенденцию к росту, либо зафиксировались около среднего значения.Относительный прирост среднего группы B к конверсии группы A равен 14.8%\n",
    "    Остановить тест, признать его успешным и перейти к проверке следующей гипотезы.\n",
    "    \n",
    "    Наиболее перспективные гипотезы по ICE: \n",
    "8\tЗапустить акцию, дающую скидку на товар в день рождения\t16.200000\n",
    "0\tДобавить два новых канала привлечения трафика, что позволит привлекать на 30% больше пользователей\t13.333333\n",
    "7\tДобавить форму подписки на все основные страницы, чтобы собрать базу клиентов для email-рассылок\t11.200000\n",
    "6\tПоказать на главной странице баннеры с актуальными акциями и распродажами, чтобы увеличить конверсию\t8.000000\n",
    "\n",
    "  Наиболее перспективные гипотезы по RICE:\n",
    "7\tДобавить форму подписки на все основные страницы, чтобы собрать базу клиентов для email-рассылок\t112.0\n",
    "2\tДобавить блоки рекомендаций товаров на сайт интернет магазина, чтобы повысить конверсию и средний чек заказа\t56.0\n",
    "0\tДобавить два новых канала привлечения трафика, что позволит привлекать на 30% больше пользователей\t40.0\n",
    "6\tПоказать на главной странице баннеры с актуальными акциями и распродажами, чтобы увеличить конверсию\t40.0\n",
    "\n",
    "    "
   ]
  },
  {
   "cell_type": "markdown",
   "metadata": {},
   "source": [
    "\n",
    "    \n",
    "* https://medium.com/statistics-experiments \n",
    "* https://your-scorpion.ru/ab-tests-check-mathematics/\n",
    "\n",
    "  "
   ]
  },
  {
   "cell_type": "code",
   "execution_count": null,
   "metadata": {},
   "outputs": [],
   "source": []
  }
 ],
 "metadata": {
  "ExecuteTimeLog": [
   {
    "duration": 1784,
    "start_time": "2023-04-01T13:13:36.134Z"
   },
   {
    "duration": 938,
    "start_time": "2023-04-01T13:14:25.446Z"
   },
   {
    "duration": 3,
    "start_time": "2023-04-01T13:15:01.874Z"
   },
   {
    "duration": 23,
    "start_time": "2023-04-01T13:15:02.609Z"
   },
   {
    "duration": 47,
    "start_time": "2023-04-01T13:15:06.429Z"
   },
   {
    "duration": 42,
    "start_time": "2023-04-01T13:15:09.274Z"
   },
   {
    "duration": 3,
    "start_time": "2023-04-01T13:16:02.774Z"
   },
   {
    "duration": 22,
    "start_time": "2023-04-01T13:28:42.800Z"
   },
   {
    "duration": 58,
    "start_time": "2023-04-01T13:29:20.824Z"
   },
   {
    "duration": 30,
    "start_time": "2023-04-01T13:30:18.504Z"
   },
   {
    "duration": 27,
    "start_time": "2023-04-01T13:30:47.104Z"
   },
   {
    "duration": 950,
    "start_time": "2023-04-01T13:32:15.932Z"
   },
   {
    "duration": 17,
    "start_time": "2023-04-01T13:32:58.812Z"
   },
   {
    "duration": 4,
    "start_time": "2023-04-01T13:38:41.205Z"
   },
   {
    "duration": 14,
    "start_time": "2023-04-01T13:38:52.796Z"
   },
   {
    "duration": 9,
    "start_time": "2023-04-01T13:39:13.213Z"
   },
   {
    "duration": 13,
    "start_time": "2023-04-01T13:43:21.873Z"
   },
   {
    "duration": 71,
    "start_time": "2023-04-01T13:47:44.903Z"
   },
   {
    "duration": 1603,
    "start_time": "2023-04-01T13:57:58.474Z"
   },
   {
    "duration": 123,
    "start_time": "2023-04-01T13:58:00.079Z"
   },
   {
    "duration": 0,
    "start_time": "2023-04-01T13:58:00.204Z"
   },
   {
    "duration": 0,
    "start_time": "2023-04-01T13:58:00.206Z"
   },
   {
    "duration": 0,
    "start_time": "2023-04-01T13:58:00.207Z"
   },
   {
    "duration": 0,
    "start_time": "2023-04-01T13:58:00.209Z"
   },
   {
    "duration": 0,
    "start_time": "2023-04-01T13:58:00.210Z"
   },
   {
    "duration": 67,
    "start_time": "2023-04-02T08:41:44.738Z"
   },
   {
    "duration": 405,
    "start_time": "2023-04-02T08:42:04.394Z"
   },
   {
    "duration": 141,
    "start_time": "2023-04-02T08:42:04.801Z"
   },
   {
    "duration": 34,
    "start_time": "2023-04-02T08:42:04.943Z"
   },
   {
    "duration": 18,
    "start_time": "2023-04-02T08:42:04.987Z"
   },
   {
    "duration": 9,
    "start_time": "2023-04-02T08:42:05.006Z"
   },
   {
    "duration": 8,
    "start_time": "2023-04-02T08:42:05.017Z"
   },
   {
    "duration": 918,
    "start_time": "2023-04-02T08:42:05.027Z"
   },
   {
    "duration": 86,
    "start_time": "2023-04-02T08:43:35.734Z"
   },
   {
    "duration": 57,
    "start_time": "2023-04-02T08:45:34.647Z"
   },
   {
    "duration": 696,
    "start_time": "2023-04-02T08:48:04.090Z"
   },
   {
    "duration": 1175,
    "start_time": "2023-04-02T08:51:57.176Z"
   },
   {
    "duration": 411,
    "start_time": "2023-04-02T08:52:36.631Z"
   },
   {
    "duration": 59,
    "start_time": "2023-04-02T08:52:37.044Z"
   },
   {
    "duration": 9,
    "start_time": "2023-04-02T08:52:37.104Z"
   },
   {
    "duration": 4,
    "start_time": "2023-04-02T08:52:37.114Z"
   },
   {
    "duration": 9,
    "start_time": "2023-04-02T08:52:37.119Z"
   },
   {
    "duration": 6,
    "start_time": "2023-04-02T08:52:37.129Z"
   },
   {
    "duration": 18,
    "start_time": "2023-04-02T08:52:37.197Z"
   },
   {
    "duration": 894,
    "start_time": "2023-04-02T08:52:37.216Z"
   },
   {
    "duration": 56,
    "start_time": "2023-04-02T08:52:48.242Z"
   },
   {
    "duration": 55,
    "start_time": "2023-04-02T08:52:50.375Z"
   },
   {
    "duration": 29,
    "start_time": "2023-04-02T08:52:53.217Z"
   },
   {
    "duration": 715,
    "start_time": "2023-04-02T08:55:20.905Z"
   },
   {
    "duration": 387,
    "start_time": "2023-04-02T08:55:21.892Z"
   },
   {
    "duration": 60,
    "start_time": "2023-04-02T08:55:23.931Z"
   },
   {
    "duration": 141,
    "start_time": "2023-04-02T09:27:10.215Z"
   },
   {
    "duration": 387,
    "start_time": "2023-04-02T09:33:24.379Z"
   },
   {
    "duration": 276,
    "start_time": "2023-04-02T09:35:05.963Z"
   },
   {
    "duration": 526,
    "start_time": "2023-04-02T09:35:28.418Z"
   },
   {
    "duration": 73,
    "start_time": "2023-04-02T09:35:52.080Z"
   },
   {
    "duration": 36,
    "start_time": "2023-04-02T09:36:06.158Z"
   },
   {
    "duration": 231,
    "start_time": "2023-04-02T09:36:50.448Z"
   },
   {
    "duration": 438,
    "start_time": "2023-04-02T09:37:47.186Z"
   },
   {
    "duration": 574,
    "start_time": "2023-04-02T09:37:52.650Z"
   },
   {
    "duration": 34,
    "start_time": "2023-04-02T09:37:53.226Z"
   },
   {
    "duration": 12,
    "start_time": "2023-04-02T09:37:53.262Z"
   },
   {
    "duration": 7,
    "start_time": "2023-04-02T09:37:53.276Z"
   },
   {
    "duration": 9,
    "start_time": "2023-04-02T09:37:53.285Z"
   },
   {
    "duration": 33,
    "start_time": "2023-04-02T09:37:53.296Z"
   },
   {
    "duration": 83,
    "start_time": "2023-04-02T09:37:53.331Z"
   },
   {
    "duration": 250,
    "start_time": "2023-04-02T09:37:53.415Z"
   },
   {
    "duration": 219,
    "start_time": "2023-04-02T09:38:16.443Z"
   },
   {
    "duration": 162,
    "start_time": "2023-04-02T09:43:29.481Z"
   },
   {
    "duration": 289,
    "start_time": "2023-04-02T09:51:25.014Z"
   },
   {
    "duration": 94,
    "start_time": "2023-04-02T09:54:23.046Z"
   },
   {
    "duration": 310,
    "start_time": "2023-04-02T09:58:34.913Z"
   },
   {
    "duration": 226,
    "start_time": "2023-04-02T10:00:19.379Z"
   },
   {
    "duration": 226,
    "start_time": "2023-04-02T10:00:32.615Z"
   },
   {
    "duration": 156,
    "start_time": "2023-04-02T10:01:06.684Z"
   },
   {
    "duration": 156,
    "start_time": "2023-04-02T10:02:13.167Z"
   },
   {
    "duration": 179,
    "start_time": "2023-04-02T10:03:38.940Z"
   },
   {
    "duration": 151,
    "start_time": "2023-04-02T10:04:20.467Z"
   },
   {
    "duration": 594,
    "start_time": "2023-04-02T10:05:06.141Z"
   },
   {
    "duration": 44,
    "start_time": "2023-04-02T10:05:06.737Z"
   },
   {
    "duration": 9,
    "start_time": "2023-04-02T10:05:06.782Z"
   },
   {
    "duration": 5,
    "start_time": "2023-04-02T10:05:06.792Z"
   },
   {
    "duration": 10,
    "start_time": "2023-04-02T10:05:06.798Z"
   },
   {
    "duration": 11,
    "start_time": "2023-04-02T10:05:06.809Z"
   },
   {
    "duration": 81,
    "start_time": "2023-04-02T10:05:06.821Z"
   },
   {
    "duration": 260,
    "start_time": "2023-04-02T10:05:06.903Z"
   },
   {
    "duration": 219,
    "start_time": "2023-04-02T10:05:07.164Z"
   },
   {
    "duration": 153,
    "start_time": "2023-04-02T10:05:07.385Z"
   },
   {
    "duration": 254,
    "start_time": "2023-04-02T10:05:07.540Z"
   },
   {
    "duration": 268,
    "start_time": "2023-04-02T10:05:07.796Z"
   },
   {
    "duration": 155,
    "start_time": "2023-04-02T10:05:57.620Z"
   },
   {
    "duration": 165,
    "start_time": "2023-04-02T10:07:37.927Z"
   },
   {
    "duration": 150,
    "start_time": "2023-04-02T10:07:52.792Z"
   },
   {
    "duration": 256,
    "start_time": "2023-04-02T10:13:02.665Z"
   },
   {
    "duration": 9,
    "start_time": "2023-04-02T10:21:27.929Z"
   },
   {
    "duration": 368,
    "start_time": "2023-04-02T10:27:42.082Z"
   },
   {
    "duration": 578,
    "start_time": "2023-04-02T10:39:44.757Z"
   },
   {
    "duration": 34,
    "start_time": "2023-04-02T10:39:45.337Z"
   },
   {
    "duration": 9,
    "start_time": "2023-04-02T10:39:45.372Z"
   },
   {
    "duration": 6,
    "start_time": "2023-04-02T10:39:45.382Z"
   },
   {
    "duration": 14,
    "start_time": "2023-04-02T10:39:45.389Z"
   },
   {
    "duration": 12,
    "start_time": "2023-04-02T10:39:45.404Z"
   },
   {
    "duration": 75,
    "start_time": "2023-04-02T10:39:45.418Z"
   },
   {
    "duration": 242,
    "start_time": "2023-04-02T10:39:45.495Z"
   },
   {
    "duration": 442,
    "start_time": "2023-04-02T10:39:45.739Z"
   },
   {
    "duration": 138,
    "start_time": "2023-04-02T10:39:46.183Z"
   },
   {
    "duration": 260,
    "start_time": "2023-04-02T10:39:46.322Z"
   },
   {
    "duration": 197,
    "start_time": "2023-04-02T10:39:46.585Z"
   },
   {
    "duration": 337,
    "start_time": "2023-04-02T10:39:46.784Z"
   },
   {
    "duration": 834,
    "start_time": "2023-04-02T18:58:45.690Z"
   },
   {
    "duration": 87,
    "start_time": "2023-04-02T18:58:46.526Z"
   },
   {
    "duration": 13,
    "start_time": "2023-04-02T18:58:46.615Z"
   },
   {
    "duration": 4,
    "start_time": "2023-04-02T18:58:46.630Z"
   },
   {
    "duration": 28,
    "start_time": "2023-04-02T18:58:46.636Z"
   },
   {
    "duration": 8,
    "start_time": "2023-04-02T18:58:46.666Z"
   },
   {
    "duration": 165,
    "start_time": "2023-04-02T18:58:46.676Z"
   },
   {
    "duration": 307,
    "start_time": "2023-04-02T18:58:46.843Z"
   },
   {
    "duration": 560,
    "start_time": "2023-04-02T18:58:47.151Z"
   },
   {
    "duration": 182,
    "start_time": "2023-04-02T18:58:47.717Z"
   },
   {
    "duration": 341,
    "start_time": "2023-04-02T18:58:47.901Z"
   },
   {
    "duration": 255,
    "start_time": "2023-04-02T18:58:48.244Z"
   },
   {
    "duration": 355,
    "start_time": "2023-04-02T18:58:48.500Z"
   },
   {
    "duration": 1365,
    "start_time": "2023-04-02T19:08:47.613Z"
   },
   {
    "duration": 640,
    "start_time": "2023-04-02T19:17:20.265Z"
   },
   {
    "duration": 43,
    "start_time": "2023-04-02T19:18:54.440Z"
   },
   {
    "duration": 646,
    "start_time": "2023-04-02T19:19:14.534Z"
   },
   {
    "duration": 38,
    "start_time": "2023-04-02T19:19:15.182Z"
   },
   {
    "duration": 11,
    "start_time": "2023-04-02T19:19:15.222Z"
   },
   {
    "duration": 22,
    "start_time": "2023-04-02T19:19:15.236Z"
   },
   {
    "duration": 23,
    "start_time": "2023-04-02T19:19:15.260Z"
   },
   {
    "duration": 12,
    "start_time": "2023-04-02T19:19:15.285Z"
   },
   {
    "duration": 88,
    "start_time": "2023-04-02T19:19:15.299Z"
   },
   {
    "duration": 280,
    "start_time": "2023-04-02T19:19:15.389Z"
   },
   {
    "duration": 535,
    "start_time": "2023-04-02T19:19:15.671Z"
   },
   {
    "duration": 185,
    "start_time": "2023-04-02T19:19:16.209Z"
   },
   {
    "duration": 301,
    "start_time": "2023-04-02T19:19:16.396Z"
   },
   {
    "duration": 278,
    "start_time": "2023-04-02T19:19:16.698Z"
   },
   {
    "duration": 357,
    "start_time": "2023-04-02T19:19:16.978Z"
   },
   {
    "duration": 89,
    "start_time": "2023-04-02T19:19:17.337Z"
   },
   {
    "duration": 0,
    "start_time": "2023-04-02T19:19:17.429Z"
   },
   {
    "duration": 112,
    "start_time": "2023-04-02T19:20:26.053Z"
   },
   {
    "duration": 120,
    "start_time": "2023-04-02T19:25:49.433Z"
   },
   {
    "duration": 127,
    "start_time": "2023-04-02T19:26:11.090Z"
   },
   {
    "duration": 4,
    "start_time": "2023-04-02T19:30:46.969Z"
   },
   {
    "duration": 140,
    "start_time": "2023-04-02T19:32:49.269Z"
   },
   {
    "duration": 703,
    "start_time": "2023-04-02T19:37:47.013Z"
   },
   {
    "duration": 36,
    "start_time": "2023-04-02T19:37:47.718Z"
   },
   {
    "duration": 11,
    "start_time": "2023-04-02T19:37:47.756Z"
   },
   {
    "duration": 37,
    "start_time": "2023-04-02T19:37:47.768Z"
   },
   {
    "duration": 57,
    "start_time": "2023-04-02T19:37:47.807Z"
   },
   {
    "duration": 37,
    "start_time": "2023-04-02T19:37:47.865Z"
   },
   {
    "duration": 93,
    "start_time": "2023-04-02T19:37:47.904Z"
   },
   {
    "duration": 287,
    "start_time": "2023-04-02T19:37:47.999Z"
   },
   {
    "duration": 540,
    "start_time": "2023-04-02T19:37:48.288Z"
   },
   {
    "duration": 188,
    "start_time": "2023-04-02T19:37:48.832Z"
   },
   {
    "duration": 285,
    "start_time": "2023-04-02T19:37:49.022Z"
   },
   {
    "duration": 269,
    "start_time": "2023-04-02T19:37:49.309Z"
   },
   {
    "duration": 346,
    "start_time": "2023-04-02T19:37:49.580Z"
   },
   {
    "duration": 131,
    "start_time": "2023-04-02T19:37:49.929Z"
   },
   {
    "duration": 206,
    "start_time": "2023-04-02T19:37:50.061Z"
   },
   {
    "duration": 0,
    "start_time": "2023-04-02T19:37:50.269Z"
   },
   {
    "duration": 126,
    "start_time": "2023-04-02T19:39:40.555Z"
   },
   {
    "duration": 4,
    "start_time": "2023-04-02T19:43:39.780Z"
   },
   {
    "duration": 4,
    "start_time": "2023-04-02T19:48:44.133Z"
   },
   {
    "duration": 84,
    "start_time": "2023-04-03T08:07:52.655Z"
   },
   {
    "duration": 743,
    "start_time": "2023-04-03T08:08:01.487Z"
   },
   {
    "duration": 91,
    "start_time": "2023-04-03T08:08:02.232Z"
   },
   {
    "duration": 12,
    "start_time": "2023-04-03T08:08:02.324Z"
   },
   {
    "duration": 40,
    "start_time": "2023-04-03T08:08:02.338Z"
   },
   {
    "duration": 42,
    "start_time": "2023-04-03T08:08:02.380Z"
   },
   {
    "duration": 20,
    "start_time": "2023-04-03T08:08:02.425Z"
   },
   {
    "duration": 213,
    "start_time": "2023-04-03T08:08:02.447Z"
   },
   {
    "duration": 306,
    "start_time": "2023-04-03T08:08:02.662Z"
   },
   {
    "duration": 489,
    "start_time": "2023-04-03T08:08:02.969Z"
   },
   {
    "duration": 153,
    "start_time": "2023-04-03T08:08:03.459Z"
   },
   {
    "duration": 329,
    "start_time": "2023-04-03T08:08:03.614Z"
   },
   {
    "duration": 239,
    "start_time": "2023-04-03T08:08:03.948Z"
   },
   {
    "duration": 262,
    "start_time": "2023-04-03T08:08:04.188Z"
   },
   {
    "duration": 136,
    "start_time": "2023-04-03T08:08:04.452Z"
   },
   {
    "duration": 4,
    "start_time": "2023-04-03T08:08:04.590Z"
   },
   {
    "duration": 171,
    "start_time": "2023-04-03T08:08:04.596Z"
   },
   {
    "duration": 5,
    "start_time": "2023-04-03T08:08:04.769Z"
   },
   {
    "duration": 87,
    "start_time": "2023-04-03T08:08:04.775Z"
   },
   {
    "duration": 0,
    "start_time": "2023-04-03T08:08:04.865Z"
   },
   {
    "duration": 215,
    "start_time": "2023-04-03T08:08:07.619Z"
   },
   {
    "duration": 154,
    "start_time": "2023-04-03T08:11:29.989Z"
   },
   {
    "duration": 199,
    "start_time": "2023-04-03T08:11:32.742Z"
   },
   {
    "duration": 234,
    "start_time": "2023-04-03T08:11:34.742Z"
   },
   {
    "duration": 299,
    "start_time": "2023-04-03T08:13:11.468Z"
   },
   {
    "duration": 371,
    "start_time": "2023-04-03T09:33:40.971Z"
   },
   {
    "duration": 980,
    "start_time": "2023-04-03T09:33:47.778Z"
   },
   {
    "duration": 35,
    "start_time": "2023-04-03T09:33:48.760Z"
   },
   {
    "duration": 21,
    "start_time": "2023-04-03T09:33:48.797Z"
   },
   {
    "duration": 16,
    "start_time": "2023-04-03T09:33:48.819Z"
   },
   {
    "duration": 46,
    "start_time": "2023-04-03T09:33:48.837Z"
   },
   {
    "duration": 24,
    "start_time": "2023-04-03T09:33:48.884Z"
   },
   {
    "duration": 101,
    "start_time": "2023-04-03T09:33:48.909Z"
   },
   {
    "duration": 252,
    "start_time": "2023-04-03T09:33:49.011Z"
   },
   {
    "duration": 492,
    "start_time": "2023-04-03T09:33:49.265Z"
   },
   {
    "duration": 186,
    "start_time": "2023-04-03T09:33:49.759Z"
   },
   {
    "duration": 277,
    "start_time": "2023-04-03T09:33:49.946Z"
   },
   {
    "duration": 188,
    "start_time": "2023-04-03T09:33:50.225Z"
   },
   {
    "duration": 295,
    "start_time": "2023-04-03T09:33:50.415Z"
   },
   {
    "duration": 111,
    "start_time": "2023-04-03T09:33:50.713Z"
   },
   {
    "duration": 4,
    "start_time": "2023-04-03T09:33:50.825Z"
   },
   {
    "duration": 146,
    "start_time": "2023-04-03T09:33:50.831Z"
   },
   {
    "duration": 4,
    "start_time": "2023-04-03T09:33:50.978Z"
   },
   {
    "duration": 108,
    "start_time": "2023-04-03T09:33:50.984Z"
   },
   {
    "duration": 0,
    "start_time": "2023-04-03T09:33:51.094Z"
   },
   {
    "duration": 0,
    "start_time": "2023-04-03T09:33:51.095Z"
   },
   {
    "duration": 1655,
    "start_time": "2023-04-03T09:33:56.818Z"
   },
   {
    "duration": 202,
    "start_time": "2023-04-03T09:37:47.985Z"
   },
   {
    "duration": 165,
    "start_time": "2023-04-03T09:37:58.527Z"
   },
   {
    "duration": 9,
    "start_time": "2023-04-03T09:49:34.203Z"
   },
   {
    "duration": 127,
    "start_time": "2023-04-03T09:56:03.339Z"
   },
   {
    "duration": 8,
    "start_time": "2023-04-03T10:04:01.507Z"
   },
   {
    "duration": 8,
    "start_time": "2023-04-03T10:04:39.553Z"
   },
   {
    "duration": 8,
    "start_time": "2023-04-03T10:05:07.412Z"
   },
   {
    "duration": 7,
    "start_time": "2023-04-03T10:05:18.870Z"
   },
   {
    "duration": 7,
    "start_time": "2023-04-03T10:08:12.729Z"
   },
   {
    "duration": 8,
    "start_time": "2023-04-03T10:09:07.959Z"
   },
   {
    "duration": 7,
    "start_time": "2023-04-03T10:10:35.975Z"
   },
   {
    "duration": 7,
    "start_time": "2023-04-03T10:10:38.310Z"
   },
   {
    "duration": 19,
    "start_time": "2023-04-03T10:11:16.674Z"
   },
   {
    "duration": 13,
    "start_time": "2023-04-03T10:19:38.705Z"
   },
   {
    "duration": 337,
    "start_time": "2023-04-03T10:23:13.157Z"
   },
   {
    "duration": 1117,
    "start_time": "2023-04-03T10:23:22.144Z"
   },
   {
    "duration": 35,
    "start_time": "2023-04-03T10:23:23.263Z"
   },
   {
    "duration": 11,
    "start_time": "2023-04-03T10:23:23.299Z"
   },
   {
    "duration": 4,
    "start_time": "2023-04-03T10:23:23.311Z"
   },
   {
    "duration": 10,
    "start_time": "2023-04-03T10:23:23.317Z"
   },
   {
    "duration": 8,
    "start_time": "2023-04-03T10:23:23.328Z"
   },
   {
    "duration": 65,
    "start_time": "2023-04-03T10:23:23.337Z"
   },
   {
    "duration": 264,
    "start_time": "2023-04-03T10:23:23.404Z"
   },
   {
    "duration": 490,
    "start_time": "2023-04-03T10:23:23.670Z"
   },
   {
    "duration": 159,
    "start_time": "2023-04-03T10:23:24.161Z"
   },
   {
    "duration": 323,
    "start_time": "2023-04-03T10:23:24.321Z"
   },
   {
    "duration": 212,
    "start_time": "2023-04-03T10:23:24.650Z"
   },
   {
    "duration": 297,
    "start_time": "2023-04-03T10:23:24.864Z"
   },
   {
    "duration": 109,
    "start_time": "2023-04-03T10:23:25.164Z"
   },
   {
    "duration": 4,
    "start_time": "2023-04-03T10:23:25.275Z"
   },
   {
    "duration": 130,
    "start_time": "2023-04-03T10:23:25.280Z"
   },
   {
    "duration": 4,
    "start_time": "2023-04-03T10:23:25.411Z"
   },
   {
    "duration": 211,
    "start_time": "2023-04-03T10:23:25.417Z"
   },
   {
    "duration": 171,
    "start_time": "2023-04-03T10:23:25.629Z"
   },
   {
    "duration": 274,
    "start_time": "2023-04-03T10:23:25.801Z"
   },
   {
    "duration": 0,
    "start_time": "2023-04-03T10:23:26.076Z"
   },
   {
    "duration": 0,
    "start_time": "2023-04-03T10:23:26.077Z"
   },
   {
    "duration": 0,
    "start_time": "2023-04-03T10:23:26.078Z"
   },
   {
    "duration": 0,
    "start_time": "2023-04-03T10:23:26.079Z"
   },
   {
    "duration": 0,
    "start_time": "2023-04-03T10:23:26.080Z"
   },
   {
    "duration": 0,
    "start_time": "2023-04-03T10:23:26.081Z"
   },
   {
    "duration": 0,
    "start_time": "2023-04-03T10:23:26.082Z"
   },
   {
    "duration": 1034,
    "start_time": "2023-04-03T10:28:25.845Z"
   },
   {
    "duration": 34,
    "start_time": "2023-04-03T10:28:26.881Z"
   },
   {
    "duration": 10,
    "start_time": "2023-04-03T10:28:26.917Z"
   },
   {
    "duration": 21,
    "start_time": "2023-04-03T10:28:26.928Z"
   },
   {
    "duration": 20,
    "start_time": "2023-04-03T10:28:26.951Z"
   },
   {
    "duration": 7,
    "start_time": "2023-04-03T10:28:26.972Z"
   },
   {
    "duration": 79,
    "start_time": "2023-04-03T10:28:26.981Z"
   },
   {
    "duration": 244,
    "start_time": "2023-04-03T10:28:27.062Z"
   },
   {
    "duration": 484,
    "start_time": "2023-04-03T10:28:27.308Z"
   },
   {
    "duration": 155,
    "start_time": "2023-04-03T10:28:27.794Z"
   },
   {
    "duration": 307,
    "start_time": "2023-04-03T10:28:27.950Z"
   },
   {
    "duration": 160,
    "start_time": "2023-04-03T10:28:28.259Z"
   },
   {
    "duration": 315,
    "start_time": "2023-04-03T10:28:28.421Z"
   },
   {
    "duration": 99,
    "start_time": "2023-04-03T10:28:28.739Z"
   },
   {
    "duration": 4,
    "start_time": "2023-04-03T10:28:28.839Z"
   },
   {
    "duration": 56,
    "start_time": "2023-04-04T08:25:45.031Z"
   },
   {
    "duration": 1427,
    "start_time": "2023-04-04T08:25:59.214Z"
   },
   {
    "duration": 67,
    "start_time": "2023-04-04T08:26:00.643Z"
   },
   {
    "duration": 16,
    "start_time": "2023-04-04T08:26:00.712Z"
   },
   {
    "duration": 37,
    "start_time": "2023-04-04T08:26:00.730Z"
   },
   {
    "duration": 79,
    "start_time": "2023-04-04T08:26:00.770Z"
   },
   {
    "duration": 30,
    "start_time": "2023-04-04T08:26:00.851Z"
   },
   {
    "duration": 177,
    "start_time": "2023-04-04T08:26:00.882Z"
   },
   {
    "duration": 308,
    "start_time": "2023-04-04T08:26:01.060Z"
   },
   {
    "duration": 581,
    "start_time": "2023-04-04T08:26:01.370Z"
   },
   {
    "duration": 208,
    "start_time": "2023-04-04T08:26:01.953Z"
   },
   {
    "duration": 302,
    "start_time": "2023-04-04T08:26:02.163Z"
   },
   {
    "duration": 217,
    "start_time": "2023-04-04T08:26:02.467Z"
   },
   {
    "duration": 362,
    "start_time": "2023-04-04T08:26:02.687Z"
   },
   {
    "duration": 139,
    "start_time": "2023-04-04T08:26:03.052Z"
   },
   {
    "duration": 5,
    "start_time": "2023-04-04T08:26:03.192Z"
   },
   {
    "duration": 153,
    "start_time": "2023-04-04T08:26:03.199Z"
   },
   {
    "duration": 4,
    "start_time": "2023-04-04T08:26:03.354Z"
   },
   {
    "duration": 245,
    "start_time": "2023-04-04T08:26:03.359Z"
   },
   {
    "duration": 184,
    "start_time": "2023-04-04T08:26:03.605Z"
   },
   {
    "duration": 50,
    "start_time": "2023-04-04T08:26:03.791Z"
   },
   {
    "duration": 0,
    "start_time": "2023-04-04T08:26:03.843Z"
   },
   {
    "duration": 0,
    "start_time": "2023-04-04T08:26:03.844Z"
   },
   {
    "duration": 0,
    "start_time": "2023-04-04T08:26:03.846Z"
   },
   {
    "duration": 0,
    "start_time": "2023-04-04T08:26:03.847Z"
   },
   {
    "duration": 0,
    "start_time": "2023-04-04T08:26:03.848Z"
   },
   {
    "duration": 0,
    "start_time": "2023-04-04T08:26:03.849Z"
   },
   {
    "duration": 0,
    "start_time": "2023-04-04T08:26:03.851Z"
   },
   {
    "duration": 0,
    "start_time": "2023-04-04T08:26:03.852Z"
   },
   {
    "duration": 0,
    "start_time": "2023-04-04T08:26:03.853Z"
   },
   {
    "duration": 0,
    "start_time": "2023-04-04T08:26:03.853Z"
   },
   {
    "duration": 218,
    "start_time": "2023-04-04T08:26:28.407Z"
   },
   {
    "duration": 286,
    "start_time": "2023-04-04T08:26:41.386Z"
   },
   {
    "duration": 297,
    "start_time": "2023-04-04T08:26:57.016Z"
   },
   {
    "duration": 323,
    "start_time": "2023-04-04T08:28:40.745Z"
   },
   {
    "duration": 1244,
    "start_time": "2023-04-04T08:30:03.986Z"
   },
   {
    "duration": 31,
    "start_time": "2023-04-04T08:30:05.232Z"
   },
   {
    "duration": 12,
    "start_time": "2023-04-04T08:30:05.265Z"
   },
   {
    "duration": 12,
    "start_time": "2023-04-04T08:30:05.279Z"
   },
   {
    "duration": 22,
    "start_time": "2023-04-04T08:30:05.293Z"
   },
   {
    "duration": 12,
    "start_time": "2023-04-04T08:30:05.317Z"
   },
   {
    "duration": 77,
    "start_time": "2023-04-04T08:30:05.331Z"
   },
   {
    "duration": 315,
    "start_time": "2023-04-04T08:30:05.409Z"
   },
   {
    "duration": 612,
    "start_time": "2023-04-04T08:30:05.727Z"
   },
   {
    "duration": 223,
    "start_time": "2023-04-04T08:30:06.343Z"
   },
   {
    "duration": 382,
    "start_time": "2023-04-04T08:30:06.568Z"
   },
   {
    "duration": 227,
    "start_time": "2023-04-04T08:30:06.952Z"
   },
   {
    "duration": 375,
    "start_time": "2023-04-04T08:30:07.181Z"
   },
   {
    "duration": 137,
    "start_time": "2023-04-04T08:30:07.558Z"
   },
   {
    "duration": 5,
    "start_time": "2023-04-04T08:30:07.697Z"
   },
   {
    "duration": 174,
    "start_time": "2023-04-04T08:30:07.704Z"
   },
   {
    "duration": 5,
    "start_time": "2023-04-04T08:30:07.880Z"
   },
   {
    "duration": 261,
    "start_time": "2023-04-04T08:30:07.887Z"
   },
   {
    "duration": 196,
    "start_time": "2023-04-04T08:30:08.150Z"
   },
   {
    "duration": 153,
    "start_time": "2023-04-04T08:30:08.348Z"
   },
   {
    "duration": 0,
    "start_time": "2023-04-04T08:30:08.503Z"
   },
   {
    "duration": 0,
    "start_time": "2023-04-04T08:30:08.504Z"
   },
   {
    "duration": 0,
    "start_time": "2023-04-04T08:30:08.506Z"
   },
   {
    "duration": 0,
    "start_time": "2023-04-04T08:30:08.508Z"
   },
   {
    "duration": 0,
    "start_time": "2023-04-04T08:30:08.509Z"
   },
   {
    "duration": 0,
    "start_time": "2023-04-04T08:30:08.510Z"
   },
   {
    "duration": 0,
    "start_time": "2023-04-04T08:30:08.511Z"
   },
   {
    "duration": 0,
    "start_time": "2023-04-04T08:30:08.512Z"
   },
   {
    "duration": 0,
    "start_time": "2023-04-04T08:30:08.513Z"
   },
   {
    "duration": 0,
    "start_time": "2023-04-04T08:30:08.514Z"
   },
   {
    "duration": 94,
    "start_time": "2023-04-04T08:31:13.585Z"
   },
   {
    "duration": 7,
    "start_time": "2023-04-04T08:34:04.931Z"
   },
   {
    "duration": 6,
    "start_time": "2023-04-04T08:35:25.664Z"
   },
   {
    "duration": 6,
    "start_time": "2023-04-04T08:35:48.611Z"
   },
   {
    "duration": 11,
    "start_time": "2023-04-04T08:36:29.880Z"
   },
   {
    "duration": 12,
    "start_time": "2023-04-04T08:36:52.708Z"
   },
   {
    "duration": 50,
    "start_time": "2023-04-04T08:41:37.922Z"
   },
   {
    "duration": 51,
    "start_time": "2023-04-04T08:53:29.683Z"
   },
   {
    "duration": 1190,
    "start_time": "2023-04-04T09:00:05.080Z"
   },
   {
    "duration": 31,
    "start_time": "2023-04-04T09:00:06.273Z"
   },
   {
    "duration": 12,
    "start_time": "2023-04-04T09:00:06.306Z"
   },
   {
    "duration": 6,
    "start_time": "2023-04-04T09:00:06.320Z"
   },
   {
    "duration": 9,
    "start_time": "2023-04-04T09:00:06.328Z"
   },
   {
    "duration": 14,
    "start_time": "2023-04-04T09:00:06.338Z"
   },
   {
    "duration": 10,
    "start_time": "2023-04-04T09:00:06.353Z"
   },
   {
    "duration": 61,
    "start_time": "2023-04-04T09:00:06.364Z"
   },
   {
    "duration": 6,
    "start_time": "2023-04-04T09:00:06.427Z"
   },
   {
    "duration": 35,
    "start_time": "2023-04-04T09:00:06.434Z"
   },
   {
    "duration": 34,
    "start_time": "2023-04-04T09:00:06.471Z"
   },
   {
    "duration": 31,
    "start_time": "2023-04-04T09:00:06.506Z"
   },
   {
    "duration": 337,
    "start_time": "2023-04-04T09:00:06.539Z"
   },
   {
    "duration": 612,
    "start_time": "2023-04-04T09:00:06.880Z"
   },
   {
    "duration": 219,
    "start_time": "2023-04-04T09:00:07.494Z"
   },
   {
    "duration": 310,
    "start_time": "2023-04-04T09:00:07.715Z"
   },
   {
    "duration": 231,
    "start_time": "2023-04-04T09:00:08.027Z"
   },
   {
    "duration": 312,
    "start_time": "2023-04-04T09:00:08.260Z"
   },
   {
    "duration": 143,
    "start_time": "2023-04-04T09:00:08.574Z"
   },
   {
    "duration": 8,
    "start_time": "2023-04-04T09:00:08.718Z"
   },
   {
    "duration": 172,
    "start_time": "2023-04-04T09:00:08.728Z"
   },
   {
    "duration": 6,
    "start_time": "2023-04-04T09:00:08.901Z"
   },
   {
    "duration": 256,
    "start_time": "2023-04-04T09:00:08.909Z"
   },
   {
    "duration": 197,
    "start_time": "2023-04-04T09:00:09.167Z"
   },
   {
    "duration": 11,
    "start_time": "2023-04-04T09:00:09.366Z"
   },
   {
    "duration": 11,
    "start_time": "2023-04-04T09:00:09.379Z"
   },
   {
    "duration": 28,
    "start_time": "2023-04-04T09:00:09.392Z"
   },
   {
    "duration": 39,
    "start_time": "2023-04-04T09:00:09.422Z"
   },
   {
    "duration": 77,
    "start_time": "2023-04-04T09:00:09.463Z"
   },
   {
    "duration": 0,
    "start_time": "2023-04-04T09:00:09.542Z"
   },
   {
    "duration": 1088,
    "start_time": "2023-04-04T10:54:53.840Z"
   },
   {
    "duration": 86,
    "start_time": "2023-04-04T10:54:54.931Z"
   },
   {
    "duration": 12,
    "start_time": "2023-04-04T10:54:55.019Z"
   },
   {
    "duration": 51,
    "start_time": "2023-04-04T10:54:55.032Z"
   },
   {
    "duration": 17,
    "start_time": "2023-04-04T10:54:55.086Z"
   },
   {
    "duration": 15,
    "start_time": "2023-04-04T10:54:55.105Z"
   },
   {
    "duration": 22,
    "start_time": "2023-04-04T10:54:55.122Z"
   },
   {
    "duration": 227,
    "start_time": "2023-04-04T10:54:55.146Z"
   },
   {
    "duration": 7,
    "start_time": "2023-04-04T10:54:55.375Z"
   },
   {
    "duration": 33,
    "start_time": "2023-04-04T10:54:55.384Z"
   },
   {
    "duration": 17,
    "start_time": "2023-04-04T10:54:55.419Z"
   },
   {
    "duration": 33,
    "start_time": "2023-04-04T10:54:55.438Z"
   },
   {
    "duration": 307,
    "start_time": "2023-04-04T10:54:55.473Z"
   },
   {
    "duration": 551,
    "start_time": "2023-04-04T10:54:55.783Z"
   },
   {
    "duration": 205,
    "start_time": "2023-04-04T10:54:56.336Z"
   },
   {
    "duration": 292,
    "start_time": "2023-04-04T10:54:56.542Z"
   },
   {
    "duration": 218,
    "start_time": "2023-04-04T10:54:56.836Z"
   },
   {
    "duration": 343,
    "start_time": "2023-04-04T10:54:57.056Z"
   },
   {
    "duration": 129,
    "start_time": "2023-04-04T10:54:57.401Z"
   },
   {
    "duration": 4,
    "start_time": "2023-04-04T10:54:57.532Z"
   },
   {
    "duration": 155,
    "start_time": "2023-04-04T10:54:57.538Z"
   },
   {
    "duration": 5,
    "start_time": "2023-04-04T10:54:57.694Z"
   },
   {
    "duration": 241,
    "start_time": "2023-04-04T10:54:57.700Z"
   },
   {
    "duration": 190,
    "start_time": "2023-04-04T10:54:57.943Z"
   },
   {
    "duration": 13,
    "start_time": "2023-04-04T10:54:58.135Z"
   },
   {
    "duration": 11,
    "start_time": "2023-04-04T10:54:58.150Z"
   },
   {
    "duration": 9,
    "start_time": "2023-04-04T10:54:58.188Z"
   },
   {
    "duration": 26,
    "start_time": "2023-04-04T10:54:58.199Z"
   },
   {
    "duration": 16,
    "start_time": "2023-04-04T10:54:58.227Z"
   },
   {
    "duration": 1200,
    "start_time": "2023-04-04T10:55:10.487Z"
   },
   {
    "duration": 36,
    "start_time": "2023-04-04T10:55:11.689Z"
   },
   {
    "duration": 13,
    "start_time": "2023-04-04T10:55:11.727Z"
   },
   {
    "duration": 11,
    "start_time": "2023-04-04T10:55:11.743Z"
   },
   {
    "duration": 10,
    "start_time": "2023-04-04T10:55:11.755Z"
   },
   {
    "duration": 20,
    "start_time": "2023-04-04T10:55:11.767Z"
   },
   {
    "duration": 10,
    "start_time": "2023-04-04T10:55:11.789Z"
   },
   {
    "duration": 71,
    "start_time": "2023-04-04T10:55:11.800Z"
   },
   {
    "duration": 8,
    "start_time": "2023-04-04T10:55:11.873Z"
   },
   {
    "duration": 12,
    "start_time": "2023-04-04T10:55:11.884Z"
   },
   {
    "duration": 13,
    "start_time": "2023-04-04T10:55:11.897Z"
   },
   {
    "duration": 9,
    "start_time": "2023-04-04T10:55:11.911Z"
   },
   {
    "duration": 312,
    "start_time": "2023-04-04T10:55:11.922Z"
   },
   {
    "duration": 582,
    "start_time": "2023-04-04T10:55:12.236Z"
   },
   {
    "duration": 203,
    "start_time": "2023-04-04T10:55:12.820Z"
   },
   {
    "duration": 276,
    "start_time": "2023-04-04T10:55:13.025Z"
   },
   {
    "duration": 213,
    "start_time": "2023-04-04T10:55:13.303Z"
   },
   {
    "duration": 313,
    "start_time": "2023-04-04T10:55:13.518Z"
   },
   {
    "duration": 138,
    "start_time": "2023-04-04T10:55:13.833Z"
   },
   {
    "duration": 16,
    "start_time": "2023-04-04T10:55:13.973Z"
   },
   {
    "duration": 159,
    "start_time": "2023-04-04T10:55:13.992Z"
   },
   {
    "duration": 4,
    "start_time": "2023-04-04T10:55:14.153Z"
   },
   {
    "duration": 240,
    "start_time": "2023-04-04T10:55:14.158Z"
   },
   {
    "duration": 191,
    "start_time": "2023-04-04T10:55:14.400Z"
   },
   {
    "duration": 11,
    "start_time": "2023-04-04T10:55:14.594Z"
   },
   {
    "duration": 26,
    "start_time": "2023-04-04T10:55:14.606Z"
   },
   {
    "duration": 15,
    "start_time": "2023-04-04T10:55:14.634Z"
   },
   {
    "duration": 28,
    "start_time": "2023-04-04T10:55:14.653Z"
   },
   {
    "duration": 13,
    "start_time": "2023-04-04T10:55:14.688Z"
   },
   {
    "duration": 1255,
    "start_time": "2023-04-04T12:13:45.498Z"
   },
   {
    "duration": 46,
    "start_time": "2023-04-04T12:13:46.755Z"
   },
   {
    "duration": 13,
    "start_time": "2023-04-04T12:13:46.803Z"
   },
   {
    "duration": 21,
    "start_time": "2023-04-04T12:13:46.818Z"
   },
   {
    "duration": 19,
    "start_time": "2023-04-04T12:13:46.841Z"
   },
   {
    "duration": 13,
    "start_time": "2023-04-04T12:13:46.862Z"
   },
   {
    "duration": 8,
    "start_time": "2023-04-04T12:13:46.877Z"
   },
   {
    "duration": 83,
    "start_time": "2023-04-04T12:13:46.887Z"
   },
   {
    "duration": 8,
    "start_time": "2023-04-04T12:13:46.972Z"
   },
   {
    "duration": 20,
    "start_time": "2023-04-04T12:13:46.982Z"
   },
   {
    "duration": 20,
    "start_time": "2023-04-04T12:13:47.004Z"
   },
   {
    "duration": 25,
    "start_time": "2023-04-04T12:13:47.026Z"
   },
   {
    "duration": 315,
    "start_time": "2023-04-04T12:13:47.054Z"
   },
   {
    "duration": 609,
    "start_time": "2023-04-04T12:13:47.373Z"
   },
   {
    "duration": 215,
    "start_time": "2023-04-04T12:13:47.989Z"
   },
   {
    "duration": 309,
    "start_time": "2023-04-04T12:13:48.206Z"
   },
   {
    "duration": 228,
    "start_time": "2023-04-04T12:13:48.517Z"
   },
   {
    "duration": 380,
    "start_time": "2023-04-04T12:13:48.747Z"
   },
   {
    "duration": 141,
    "start_time": "2023-04-04T12:13:49.129Z"
   },
   {
    "duration": 4,
    "start_time": "2023-04-04T12:13:49.271Z"
   },
   {
    "duration": 138,
    "start_time": "2023-04-04T12:13:49.301Z"
   },
   {
    "duration": 5,
    "start_time": "2023-04-04T12:13:49.441Z"
   },
   {
    "duration": 264,
    "start_time": "2023-04-04T12:13:49.448Z"
   },
   {
    "duration": 176,
    "start_time": "2023-04-04T12:13:49.714Z"
   },
   {
    "duration": 13,
    "start_time": "2023-04-04T12:13:49.892Z"
   },
   {
    "duration": 10,
    "start_time": "2023-04-04T12:13:49.907Z"
   },
   {
    "duration": 10,
    "start_time": "2023-04-04T12:13:49.918Z"
   },
   {
    "duration": 32,
    "start_time": "2023-04-04T12:13:49.929Z"
   },
   {
    "duration": 42,
    "start_time": "2023-04-04T12:13:49.963Z"
   },
   {
    "duration": 45,
    "start_time": "2023-04-04T14:27:22.838Z"
   },
   {
    "duration": 1233,
    "start_time": "2023-04-04T14:27:35.634Z"
   },
   {
    "duration": 91,
    "start_time": "2023-04-04T14:27:36.869Z"
   },
   {
    "duration": 10,
    "start_time": "2023-04-04T14:27:36.961Z"
   },
   {
    "duration": 8,
    "start_time": "2023-04-04T14:27:36.973Z"
   },
   {
    "duration": 8,
    "start_time": "2023-04-04T14:27:36.983Z"
   },
   {
    "duration": 16,
    "start_time": "2023-04-04T14:27:36.992Z"
   },
   {
    "duration": 6,
    "start_time": "2023-04-04T14:27:37.010Z"
   },
   {
    "duration": 171,
    "start_time": "2023-04-04T14:27:37.018Z"
   },
   {
    "duration": 5,
    "start_time": "2023-04-04T14:27:37.191Z"
   },
   {
    "duration": 7,
    "start_time": "2023-04-04T14:27:37.198Z"
   },
   {
    "duration": 11,
    "start_time": "2023-04-04T14:27:37.206Z"
   },
   {
    "duration": 13,
    "start_time": "2023-04-04T14:27:37.218Z"
   },
   {
    "duration": 271,
    "start_time": "2023-04-04T14:27:37.232Z"
   },
   {
    "duration": 504,
    "start_time": "2023-04-04T14:27:37.505Z"
   },
   {
    "duration": 169,
    "start_time": "2023-04-04T14:27:38.011Z"
   },
   {
    "duration": 313,
    "start_time": "2023-04-04T14:27:38.182Z"
   },
   {
    "duration": 193,
    "start_time": "2023-04-04T14:27:38.497Z"
   },
   {
    "duration": 281,
    "start_time": "2023-04-04T14:27:38.691Z"
   },
   {
    "duration": 113,
    "start_time": "2023-04-04T14:27:38.973Z"
   },
   {
    "duration": 4,
    "start_time": "2023-04-04T14:27:39.087Z"
   },
   {
    "duration": 136,
    "start_time": "2023-04-04T14:27:39.092Z"
   },
   {
    "duration": 4,
    "start_time": "2023-04-04T14:27:39.234Z"
   },
   {
    "duration": 213,
    "start_time": "2023-04-04T14:27:39.239Z"
   },
   {
    "duration": 161,
    "start_time": "2023-04-04T14:27:39.454Z"
   },
   {
    "duration": 20,
    "start_time": "2023-04-04T14:27:39.616Z"
   },
   {
    "duration": 18,
    "start_time": "2023-04-04T14:27:39.638Z"
   },
   {
    "duration": 26,
    "start_time": "2023-04-04T14:27:39.658Z"
   },
   {
    "duration": 59,
    "start_time": "2023-04-04T14:27:39.688Z"
   },
   {
    "duration": 14,
    "start_time": "2023-04-04T14:27:39.749Z"
   },
   {
    "duration": 288,
    "start_time": "2023-04-04T14:29:02.967Z"
   },
   {
    "duration": 2317,
    "start_time": "2023-04-04T14:30:14.244Z"
   },
   {
    "duration": 3,
    "start_time": "2023-04-04T14:30:43.850Z"
   },
   {
    "duration": 35,
    "start_time": "2023-04-04T14:30:44.537Z"
   },
   {
    "duration": 12,
    "start_time": "2023-04-04T14:30:44.785Z"
   },
   {
    "duration": 3,
    "start_time": "2023-04-04T14:30:45.615Z"
   },
   {
    "duration": 5,
    "start_time": "2023-04-04T14:30:46.359Z"
   },
   {
    "duration": 21,
    "start_time": "2023-04-04T14:31:02.116Z"
   },
   {
    "duration": 12,
    "start_time": "2023-04-04T14:31:22.080Z"
   },
   {
    "duration": 10,
    "start_time": "2023-04-04T14:31:30.028Z"
   },
   {
    "duration": 11,
    "start_time": "2023-04-04T14:32:09.690Z"
   },
   {
    "duration": 57,
    "start_time": "2023-04-05T08:18:59.548Z"
   },
   {
    "duration": 57,
    "start_time": "2023-04-05T08:24:01.405Z"
   },
   {
    "duration": 45,
    "start_time": "2023-04-05T08:25:18.865Z"
   },
   {
    "duration": 1286,
    "start_time": "2023-04-05T08:26:13.323Z"
   },
   {
    "duration": 70,
    "start_time": "2023-04-05T08:26:14.612Z"
   },
   {
    "duration": 12,
    "start_time": "2023-04-05T08:26:14.684Z"
   },
   {
    "duration": 12,
    "start_time": "2023-04-05T08:26:14.698Z"
   },
   {
    "duration": 16,
    "start_time": "2023-04-05T08:26:14.712Z"
   },
   {
    "duration": 22,
    "start_time": "2023-04-05T08:26:14.729Z"
   },
   {
    "duration": 13,
    "start_time": "2023-04-05T08:26:14.753Z"
   },
   {
    "duration": 176,
    "start_time": "2023-04-05T08:26:14.775Z"
   },
   {
    "duration": 6,
    "start_time": "2023-04-05T08:26:14.953Z"
   },
   {
    "duration": 45,
    "start_time": "2023-04-05T08:26:14.961Z"
   },
   {
    "duration": 0,
    "start_time": "2023-04-05T08:26:15.008Z"
   },
   {
    "duration": 0,
    "start_time": "2023-04-05T08:26:15.009Z"
   },
   {
    "duration": 0,
    "start_time": "2023-04-05T08:26:15.010Z"
   },
   {
    "duration": 0,
    "start_time": "2023-04-05T08:26:15.012Z"
   },
   {
    "duration": 0,
    "start_time": "2023-04-05T08:26:15.013Z"
   },
   {
    "duration": 0,
    "start_time": "2023-04-05T08:26:15.014Z"
   },
   {
    "duration": 0,
    "start_time": "2023-04-05T08:26:15.015Z"
   },
   {
    "duration": 0,
    "start_time": "2023-04-05T08:26:15.016Z"
   },
   {
    "duration": 0,
    "start_time": "2023-04-05T08:26:15.017Z"
   },
   {
    "duration": 0,
    "start_time": "2023-04-05T08:26:15.018Z"
   },
   {
    "duration": 0,
    "start_time": "2023-04-05T08:26:15.020Z"
   },
   {
    "duration": 0,
    "start_time": "2023-04-05T08:26:15.021Z"
   },
   {
    "duration": 0,
    "start_time": "2023-04-05T08:26:15.022Z"
   },
   {
    "duration": 0,
    "start_time": "2023-04-05T08:26:15.023Z"
   },
   {
    "duration": 0,
    "start_time": "2023-04-05T08:26:15.024Z"
   },
   {
    "duration": 0,
    "start_time": "2023-04-05T08:26:15.025Z"
   },
   {
    "duration": 0,
    "start_time": "2023-04-05T08:26:15.026Z"
   },
   {
    "duration": 0,
    "start_time": "2023-04-05T08:26:15.027Z"
   },
   {
    "duration": 0,
    "start_time": "2023-04-05T08:26:15.028Z"
   },
   {
    "duration": 0,
    "start_time": "2023-04-05T08:26:15.029Z"
   },
   {
    "duration": 0,
    "start_time": "2023-04-05T08:26:15.030Z"
   },
   {
    "duration": 1176,
    "start_time": "2023-04-05T08:40:39.017Z"
   },
   {
    "duration": 34,
    "start_time": "2023-04-05T08:40:40.194Z"
   },
   {
    "duration": 11,
    "start_time": "2023-04-05T08:40:40.231Z"
   },
   {
    "duration": 20,
    "start_time": "2023-04-05T08:40:40.245Z"
   },
   {
    "duration": 26,
    "start_time": "2023-04-05T08:40:40.267Z"
   },
   {
    "duration": 18,
    "start_time": "2023-04-05T08:40:40.295Z"
   },
   {
    "duration": 36,
    "start_time": "2023-04-05T08:40:40.315Z"
   },
   {
    "duration": 71,
    "start_time": "2023-04-05T08:40:40.353Z"
   },
   {
    "duration": 7,
    "start_time": "2023-04-05T08:40:40.426Z"
   },
   {
    "duration": 5,
    "start_time": "2023-04-05T08:40:40.436Z"
   },
   {
    "duration": 56,
    "start_time": "2023-04-05T08:40:40.443Z"
   },
   {
    "duration": 0,
    "start_time": "2023-04-05T08:40:40.501Z"
   },
   {
    "duration": 0,
    "start_time": "2023-04-05T08:40:40.502Z"
   },
   {
    "duration": 0,
    "start_time": "2023-04-05T08:40:40.503Z"
   },
   {
    "duration": 0,
    "start_time": "2023-04-05T08:40:40.504Z"
   },
   {
    "duration": 0,
    "start_time": "2023-04-05T08:40:40.505Z"
   },
   {
    "duration": 0,
    "start_time": "2023-04-05T08:40:40.506Z"
   },
   {
    "duration": 0,
    "start_time": "2023-04-05T08:40:40.508Z"
   },
   {
    "duration": 0,
    "start_time": "2023-04-05T08:40:40.509Z"
   },
   {
    "duration": 0,
    "start_time": "2023-04-05T08:40:40.510Z"
   },
   {
    "duration": 1,
    "start_time": "2023-04-05T08:40:40.511Z"
   },
   {
    "duration": 0,
    "start_time": "2023-04-05T08:40:40.513Z"
   },
   {
    "duration": 0,
    "start_time": "2023-04-05T08:40:40.514Z"
   },
   {
    "duration": 0,
    "start_time": "2023-04-05T08:40:40.516Z"
   },
   {
    "duration": 0,
    "start_time": "2023-04-05T08:40:40.517Z"
   },
   {
    "duration": 0,
    "start_time": "2023-04-05T08:40:40.518Z"
   },
   {
    "duration": 0,
    "start_time": "2023-04-05T08:40:40.519Z"
   },
   {
    "duration": 0,
    "start_time": "2023-04-05T08:40:40.520Z"
   },
   {
    "duration": 0,
    "start_time": "2023-04-05T08:40:40.521Z"
   },
   {
    "duration": 0,
    "start_time": "2023-04-05T08:40:40.523Z"
   },
   {
    "duration": 13,
    "start_time": "2023-04-05T08:44:07.087Z"
   },
   {
    "duration": 12,
    "start_time": "2023-04-05T08:44:20.133Z"
   },
   {
    "duration": 3,
    "start_time": "2023-04-05T08:45:07.419Z"
   },
   {
    "duration": 11,
    "start_time": "2023-04-05T08:45:20.439Z"
   },
   {
    "duration": 8,
    "start_time": "2023-04-05T08:45:53.352Z"
   },
   {
    "duration": 49,
    "start_time": "2023-04-05T08:46:42.899Z"
   },
   {
    "duration": 12,
    "start_time": "2023-04-05T08:48:32.170Z"
   },
   {
    "duration": 152,
    "start_time": "2023-04-05T08:51:25.764Z"
   },
   {
    "duration": 1155,
    "start_time": "2023-04-05T08:51:44.175Z"
   },
   {
    "duration": 14,
    "start_time": "2023-04-05T08:52:13.375Z"
   },
   {
    "duration": 8,
    "start_time": "2023-04-05T08:52:40.715Z"
   },
   {
    "duration": 11,
    "start_time": "2023-04-05T08:52:54.374Z"
   },
   {
    "duration": 9,
    "start_time": "2023-04-05T08:53:22.003Z"
   },
   {
    "duration": 1171,
    "start_time": "2023-04-05T09:10:44.439Z"
   },
   {
    "duration": 34,
    "start_time": "2023-04-05T09:10:45.612Z"
   },
   {
    "duration": 13,
    "start_time": "2023-04-05T09:10:45.648Z"
   },
   {
    "duration": 20,
    "start_time": "2023-04-05T09:10:45.663Z"
   },
   {
    "duration": 21,
    "start_time": "2023-04-05T09:10:45.685Z"
   },
   {
    "duration": 23,
    "start_time": "2023-04-05T09:10:45.708Z"
   },
   {
    "duration": 35,
    "start_time": "2023-04-05T09:10:45.733Z"
   },
   {
    "duration": 71,
    "start_time": "2023-04-05T09:10:45.770Z"
   },
   {
    "duration": 8,
    "start_time": "2023-04-05T09:10:45.843Z"
   },
   {
    "duration": 20,
    "start_time": "2023-04-05T09:10:45.852Z"
   },
   {
    "duration": 45,
    "start_time": "2023-04-05T09:10:45.876Z"
   },
   {
    "duration": 26,
    "start_time": "2023-04-05T09:10:45.923Z"
   },
   {
    "duration": 14,
    "start_time": "2023-04-05T09:10:45.952Z"
   },
   {
    "duration": 12,
    "start_time": "2023-04-05T09:10:45.968Z"
   },
   {
    "duration": 13,
    "start_time": "2023-04-05T09:10:45.984Z"
   },
   {
    "duration": 343,
    "start_time": "2023-04-05T09:10:46.001Z"
   },
   {
    "duration": 616,
    "start_time": "2023-04-05T09:10:46.346Z"
   },
   {
    "duration": 212,
    "start_time": "2023-04-05T09:10:46.964Z"
   },
   {
    "duration": 336,
    "start_time": "2023-04-05T09:10:47.182Z"
   },
   {
    "duration": 227,
    "start_time": "2023-04-05T09:10:47.520Z"
   },
   {
    "duration": 455,
    "start_time": "2023-04-05T09:10:47.748Z"
   },
   {
    "duration": 139,
    "start_time": "2023-04-05T09:10:48.205Z"
   },
   {
    "duration": 5,
    "start_time": "2023-04-05T09:10:48.346Z"
   },
   {
    "duration": 173,
    "start_time": "2023-04-05T09:10:48.352Z"
   },
   {
    "duration": 4,
    "start_time": "2023-04-05T09:10:48.527Z"
   },
   {
    "duration": 253,
    "start_time": "2023-04-05T09:10:48.532Z"
   },
   {
    "duration": 168,
    "start_time": "2023-04-05T09:10:48.790Z"
   },
   {
    "duration": 25,
    "start_time": "2023-04-05T09:10:48.960Z"
   },
   {
    "duration": 12,
    "start_time": "2023-04-05T09:10:48.987Z"
   },
   {
    "duration": 22,
    "start_time": "2023-04-05T09:10:49.001Z"
   },
   {
    "duration": 38,
    "start_time": "2023-04-05T09:10:49.024Z"
   },
   {
    "duration": 25,
    "start_time": "2023-04-05T09:10:49.064Z"
   },
   {
    "duration": 468,
    "start_time": "2023-04-05T09:13:08.879Z"
   },
   {
    "duration": 48,
    "start_time": "2023-04-05T09:28:50.898Z"
   },
   {
    "duration": 511,
    "start_time": "2023-04-05T09:34:39.257Z"
   },
   {
    "duration": 498,
    "start_time": "2023-04-05T09:40:07.905Z"
   },
   {
    "duration": 518,
    "start_time": "2023-04-05T09:40:19.036Z"
   },
   {
    "duration": 508,
    "start_time": "2023-04-05T09:40:47.042Z"
   },
   {
    "duration": 215,
    "start_time": "2023-04-05T09:44:26.613Z"
   },
   {
    "duration": 381,
    "start_time": "2023-04-05T09:45:57.641Z"
   },
   {
    "duration": 344,
    "start_time": "2023-04-05T09:46:00.793Z"
   },
   {
    "duration": 331,
    "start_time": "2023-04-05T09:48:37.393Z"
   },
   {
    "duration": 344,
    "start_time": "2023-04-05T09:51:10.711Z"
   },
   {
    "duration": 438,
    "start_time": "2023-04-05T09:52:27.000Z"
   },
   {
    "duration": 451,
    "start_time": "2023-04-05T09:55:10.093Z"
   },
   {
    "duration": 339,
    "start_time": "2023-04-05T09:55:39.427Z"
   },
   {
    "duration": 393,
    "start_time": "2023-04-05T09:57:58.553Z"
   },
   {
    "duration": 401,
    "start_time": "2023-04-05T09:58:07.594Z"
   },
   {
    "duration": 394,
    "start_time": "2023-04-05T09:58:14.240Z"
   },
   {
    "duration": 245,
    "start_time": "2023-04-05T10:04:51.592Z"
   },
   {
    "duration": 269,
    "start_time": "2023-04-05T10:06:34.373Z"
   },
   {
    "duration": 183,
    "start_time": "2023-04-05T10:09:54.814Z"
   },
   {
    "duration": 232,
    "start_time": "2023-04-05T10:10:57.374Z"
   },
   {
    "duration": 177,
    "start_time": "2023-04-05T10:18:38.727Z"
   },
   {
    "duration": 169,
    "start_time": "2023-04-05T10:19:07.253Z"
   },
   {
    "duration": 188,
    "start_time": "2023-04-05T11:11:32.120Z"
   },
   {
    "duration": 1101,
    "start_time": "2023-04-05T11:21:42.112Z"
   },
   {
    "duration": 35,
    "start_time": "2023-04-05T11:21:43.214Z"
   },
   {
    "duration": 16,
    "start_time": "2023-04-05T11:21:43.250Z"
   },
   {
    "duration": 5,
    "start_time": "2023-04-05T11:21:43.269Z"
   },
   {
    "duration": 15,
    "start_time": "2023-04-05T11:21:43.278Z"
   },
   {
    "duration": 17,
    "start_time": "2023-04-05T11:21:43.300Z"
   },
   {
    "duration": 12,
    "start_time": "2023-04-05T11:21:43.318Z"
   },
   {
    "duration": 73,
    "start_time": "2023-04-05T11:21:43.331Z"
   },
   {
    "duration": 6,
    "start_time": "2023-04-05T11:21:43.406Z"
   },
   {
    "duration": 5,
    "start_time": "2023-04-05T11:21:43.414Z"
   },
   {
    "duration": 11,
    "start_time": "2023-04-05T11:21:43.421Z"
   },
   {
    "duration": 11,
    "start_time": "2023-04-05T11:21:43.434Z"
   },
   {
    "duration": 8,
    "start_time": "2023-04-05T11:21:43.447Z"
   },
   {
    "duration": 32,
    "start_time": "2023-04-05T11:21:43.456Z"
   },
   {
    "duration": 11,
    "start_time": "2023-04-05T11:21:43.493Z"
   },
   {
    "duration": 309,
    "start_time": "2023-04-05T11:21:43.505Z"
   },
   {
    "duration": 687,
    "start_time": "2023-04-05T11:21:43.816Z"
   },
   {
    "duration": 233,
    "start_time": "2023-04-05T11:21:44.505Z"
   },
   {
    "duration": 368,
    "start_time": "2023-04-05T11:21:44.740Z"
   },
   {
    "duration": 250,
    "start_time": "2023-04-05T11:21:45.110Z"
   },
   {
    "duration": 350,
    "start_time": "2023-04-05T11:21:45.361Z"
   },
   {
    "duration": 155,
    "start_time": "2023-04-05T11:21:45.713Z"
   },
   {
    "duration": 11,
    "start_time": "2023-04-05T11:21:45.869Z"
   },
   {
    "duration": 204,
    "start_time": "2023-04-05T11:21:45.882Z"
   },
   {
    "duration": 5,
    "start_time": "2023-04-05T11:21:46.087Z"
   },
   {
    "duration": 268,
    "start_time": "2023-04-05T11:21:46.097Z"
   },
   {
    "duration": 221,
    "start_time": "2023-04-05T11:21:46.366Z"
   },
   {
    "duration": 16,
    "start_time": "2023-04-05T11:21:46.593Z"
   },
   {
    "duration": 11,
    "start_time": "2023-04-05T11:21:46.610Z"
   },
   {
    "duration": 13,
    "start_time": "2023-04-05T11:21:46.622Z"
   },
   {
    "duration": 24,
    "start_time": "2023-04-05T11:21:46.636Z"
   },
   {
    "duration": 34,
    "start_time": "2023-04-05T11:21:46.662Z"
   },
   {
    "duration": 12,
    "start_time": "2023-04-05T11:27:35.551Z"
   },
   {
    "duration": 26,
    "start_time": "2023-04-05T11:28:26.519Z"
   },
   {
    "duration": 24,
    "start_time": "2023-04-05T11:30:18.702Z"
   },
   {
    "duration": 1429,
    "start_time": "2023-04-05T11:30:50.108Z"
   },
   {
    "duration": 53,
    "start_time": "2023-04-05T11:30:51.540Z"
   },
   {
    "duration": 33,
    "start_time": "2023-04-05T11:30:51.595Z"
   },
   {
    "duration": 14,
    "start_time": "2023-04-05T11:30:51.631Z"
   },
   {
    "duration": 16,
    "start_time": "2023-04-05T11:30:51.647Z"
   },
   {
    "duration": 28,
    "start_time": "2023-04-05T11:30:51.664Z"
   },
   {
    "duration": 21,
    "start_time": "2023-04-05T11:30:51.694Z"
   },
   {
    "duration": 64,
    "start_time": "2023-04-05T11:30:51.717Z"
   },
   {
    "duration": 11,
    "start_time": "2023-04-05T11:30:51.783Z"
   },
   {
    "duration": 14,
    "start_time": "2023-04-05T11:30:51.798Z"
   },
   {
    "duration": 29,
    "start_time": "2023-04-05T11:30:51.814Z"
   },
   {
    "duration": 27,
    "start_time": "2023-04-05T11:30:51.845Z"
   },
   {
    "duration": 22,
    "start_time": "2023-04-05T11:30:51.874Z"
   },
   {
    "duration": 27,
    "start_time": "2023-04-05T11:30:51.901Z"
   },
   {
    "duration": 22,
    "start_time": "2023-04-05T11:30:51.929Z"
   },
   {
    "duration": 347,
    "start_time": "2023-04-05T11:30:51.953Z"
   },
   {
    "duration": 632,
    "start_time": "2023-04-05T11:30:52.308Z"
   },
   {
    "duration": 246,
    "start_time": "2023-04-05T11:30:52.942Z"
   },
   {
    "duration": 328,
    "start_time": "2023-04-05T11:30:53.190Z"
   },
   {
    "duration": 262,
    "start_time": "2023-04-05T11:30:53.520Z"
   },
   {
    "duration": 341,
    "start_time": "2023-04-05T11:30:53.790Z"
   },
   {
    "duration": 181,
    "start_time": "2023-04-05T11:30:54.133Z"
   },
   {
    "duration": 7,
    "start_time": "2023-04-05T11:30:54.317Z"
   },
   {
    "duration": 218,
    "start_time": "2023-04-05T11:30:54.328Z"
   },
   {
    "duration": 6,
    "start_time": "2023-04-05T11:30:54.548Z"
   },
   {
    "duration": 254,
    "start_time": "2023-04-05T11:30:54.556Z"
   },
   {
    "duration": 194,
    "start_time": "2023-04-05T11:30:54.812Z"
   },
   {
    "duration": 12,
    "start_time": "2023-04-05T11:30:55.010Z"
   },
   {
    "duration": 19,
    "start_time": "2023-04-05T11:30:55.024Z"
   },
   {
    "duration": 18,
    "start_time": "2023-04-05T11:30:55.045Z"
   },
   {
    "duration": 46,
    "start_time": "2023-04-05T11:30:55.065Z"
   },
   {
    "duration": 15,
    "start_time": "2023-04-05T11:30:55.113Z"
   },
   {
    "duration": 1125,
    "start_time": "2023-04-05T12:44:07.916Z"
   },
   {
    "duration": 34,
    "start_time": "2023-04-05T12:44:09.044Z"
   },
   {
    "duration": 12,
    "start_time": "2023-04-05T12:44:09.079Z"
   },
   {
    "duration": 4,
    "start_time": "2023-04-05T12:44:09.094Z"
   },
   {
    "duration": 7,
    "start_time": "2023-04-05T12:44:09.102Z"
   },
   {
    "duration": 16,
    "start_time": "2023-04-05T12:44:09.111Z"
   },
   {
    "duration": 47,
    "start_time": "2023-04-05T12:44:09.129Z"
   },
   {
    "duration": 64,
    "start_time": "2023-04-05T12:44:09.177Z"
   },
   {
    "duration": 5,
    "start_time": "2023-04-05T12:44:09.245Z"
   },
   {
    "duration": 5,
    "start_time": "2023-04-05T12:44:09.252Z"
   },
   {
    "duration": 12,
    "start_time": "2023-04-05T12:44:09.259Z"
   },
   {
    "duration": 18,
    "start_time": "2023-04-05T12:44:09.272Z"
   },
   {
    "duration": 11,
    "start_time": "2023-04-05T12:44:09.292Z"
   },
   {
    "duration": 7,
    "start_time": "2023-04-05T12:44:09.306Z"
   },
   {
    "duration": 14,
    "start_time": "2023-04-05T12:44:09.315Z"
   },
   {
    "duration": 337,
    "start_time": "2023-04-05T12:44:09.331Z"
   },
   {
    "duration": 542,
    "start_time": "2023-04-05T12:44:09.670Z"
   },
   {
    "duration": 188,
    "start_time": "2023-04-05T12:44:10.213Z"
   },
   {
    "duration": 267,
    "start_time": "2023-04-05T12:44:10.403Z"
   },
   {
    "duration": 197,
    "start_time": "2023-04-05T12:44:10.672Z"
   },
   {
    "duration": 306,
    "start_time": "2023-04-05T12:44:10.870Z"
   },
   {
    "duration": 118,
    "start_time": "2023-04-05T12:44:11.178Z"
   },
   {
    "duration": 4,
    "start_time": "2023-04-05T12:44:11.298Z"
   },
   {
    "duration": 135,
    "start_time": "2023-04-05T12:44:11.304Z"
   },
   {
    "duration": 4,
    "start_time": "2023-04-05T12:44:11.441Z"
   },
   {
    "duration": 206,
    "start_time": "2023-04-05T12:44:11.447Z"
   },
   {
    "duration": 165,
    "start_time": "2023-04-05T12:44:11.654Z"
   },
   {
    "duration": 9,
    "start_time": "2023-04-05T12:44:11.820Z"
   },
   {
    "duration": 8,
    "start_time": "2023-04-05T12:44:11.830Z"
   },
   {
    "duration": 29,
    "start_time": "2023-04-05T12:44:11.839Z"
   },
   {
    "duration": 20,
    "start_time": "2023-04-05T12:44:11.870Z"
   },
   {
    "duration": 11,
    "start_time": "2023-04-05T12:44:11.892Z"
   },
   {
    "duration": 1044,
    "start_time": "2023-04-05T12:54:14.219Z"
   },
   {
    "duration": 31,
    "start_time": "2023-04-05T12:54:15.265Z"
   },
   {
    "duration": 10,
    "start_time": "2023-04-05T12:54:15.298Z"
   },
   {
    "duration": 10,
    "start_time": "2023-04-05T12:54:15.310Z"
   },
   {
    "duration": 7,
    "start_time": "2023-04-05T12:54:15.321Z"
   },
   {
    "duration": 12,
    "start_time": "2023-04-05T12:54:15.329Z"
   },
   {
    "duration": 15,
    "start_time": "2023-04-05T12:54:15.342Z"
   },
   {
    "duration": 72,
    "start_time": "2023-04-05T12:54:15.359Z"
   },
   {
    "duration": 6,
    "start_time": "2023-04-05T12:54:15.432Z"
   },
   {
    "duration": 5,
    "start_time": "2023-04-05T12:54:15.440Z"
   },
   {
    "duration": 10,
    "start_time": "2023-04-05T12:54:15.446Z"
   },
   {
    "duration": 9,
    "start_time": "2023-04-05T12:54:15.458Z"
   },
   {
    "duration": 8,
    "start_time": "2023-04-05T12:54:15.468Z"
   },
   {
    "duration": 5,
    "start_time": "2023-04-05T12:54:15.478Z"
   },
   {
    "duration": 4,
    "start_time": "2023-04-05T12:54:15.484Z"
   },
   {
    "duration": 294,
    "start_time": "2023-04-05T12:54:15.489Z"
   },
   {
    "duration": 507,
    "start_time": "2023-04-05T12:54:15.784Z"
   },
   {
    "duration": 195,
    "start_time": "2023-04-05T12:54:16.292Z"
   },
   {
    "duration": 283,
    "start_time": "2023-04-05T12:54:16.489Z"
   },
   {
    "duration": 199,
    "start_time": "2023-04-05T12:54:16.774Z"
   },
   {
    "duration": 303,
    "start_time": "2023-04-05T12:54:16.975Z"
   },
   {
    "duration": 119,
    "start_time": "2023-04-05T12:54:17.280Z"
   },
   {
    "duration": 4,
    "start_time": "2023-04-05T12:54:17.400Z"
   },
   {
    "duration": 143,
    "start_time": "2023-04-05T12:54:17.406Z"
   },
   {
    "duration": 3,
    "start_time": "2023-04-05T12:54:17.551Z"
   },
   {
    "duration": 205,
    "start_time": "2023-04-05T12:54:17.569Z"
   },
   {
    "duration": 156,
    "start_time": "2023-04-05T12:54:17.776Z"
   },
   {
    "duration": 8,
    "start_time": "2023-04-05T12:54:17.934Z"
   },
   {
    "duration": 8,
    "start_time": "2023-04-05T12:54:17.944Z"
   },
   {
    "duration": 19,
    "start_time": "2023-04-05T12:54:17.953Z"
   },
   {
    "duration": 19,
    "start_time": "2023-04-05T12:54:17.974Z"
   },
   {
    "duration": 12,
    "start_time": "2023-04-05T12:54:17.994Z"
   },
   {
    "duration": 848,
    "start_time": "2023-04-05T14:29:33.803Z"
   },
   {
    "duration": 1093,
    "start_time": "2023-04-05T14:29:44.484Z"
   },
   {
    "duration": 33,
    "start_time": "2023-04-05T14:29:45.579Z"
   },
   {
    "duration": 11,
    "start_time": "2023-04-05T14:29:45.614Z"
   },
   {
    "duration": 18,
    "start_time": "2023-04-05T14:29:45.626Z"
   },
   {
    "duration": 13,
    "start_time": "2023-04-05T14:29:45.646Z"
   },
   {
    "duration": 34,
    "start_time": "2023-04-05T14:29:45.660Z"
   },
   {
    "duration": 24,
    "start_time": "2023-04-05T14:29:45.696Z"
   },
   {
    "duration": 70,
    "start_time": "2023-04-05T14:29:45.723Z"
   },
   {
    "duration": 6,
    "start_time": "2023-04-05T14:29:45.795Z"
   },
   {
    "duration": 5,
    "start_time": "2023-04-05T14:29:45.804Z"
   },
   {
    "duration": 10,
    "start_time": "2023-04-05T14:29:45.811Z"
   },
   {
    "duration": 11,
    "start_time": "2023-04-05T14:29:45.822Z"
   },
   {
    "duration": 16,
    "start_time": "2023-04-05T14:29:45.834Z"
   },
   {
    "duration": 27,
    "start_time": "2023-04-05T14:29:45.852Z"
   },
   {
    "duration": 15,
    "start_time": "2023-04-05T14:29:45.881Z"
   },
   {
    "duration": 322,
    "start_time": "2023-04-05T14:29:45.899Z"
   },
   {
    "duration": 617,
    "start_time": "2023-04-05T14:29:46.224Z"
   },
   {
    "duration": 212,
    "start_time": "2023-04-05T14:29:46.843Z"
   },
   {
    "duration": 335,
    "start_time": "2023-04-05T14:29:47.057Z"
   },
   {
    "duration": 232,
    "start_time": "2023-04-05T14:29:47.394Z"
   },
   {
    "duration": 360,
    "start_time": "2023-04-05T14:29:47.628Z"
   },
   {
    "duration": 144,
    "start_time": "2023-04-05T14:29:47.990Z"
   },
   {
    "duration": 4,
    "start_time": "2023-04-05T14:29:48.136Z"
   },
   {
    "duration": 168,
    "start_time": "2023-04-05T14:29:48.142Z"
   },
   {
    "duration": 4,
    "start_time": "2023-04-05T14:29:48.312Z"
   },
   {
    "duration": 253,
    "start_time": "2023-04-05T14:29:48.318Z"
   },
   {
    "duration": 173,
    "start_time": "2023-04-05T14:29:48.574Z"
   },
   {
    "duration": 11,
    "start_time": "2023-04-05T14:29:48.750Z"
   },
   {
    "duration": 9,
    "start_time": "2023-04-05T14:29:48.776Z"
   },
   {
    "duration": 9,
    "start_time": "2023-04-05T14:29:48.787Z"
   },
   {
    "duration": 22,
    "start_time": "2023-04-05T14:29:48.798Z"
   },
   {
    "duration": 15,
    "start_time": "2023-04-05T14:29:48.822Z"
   }
  ],
  "kernelspec": {
   "display_name": "Python 3 (ipykernel)",
   "language": "python",
   "name": "python3"
  },
  "language_info": {
   "codemirror_mode": {
    "name": "ipython",
    "version": 3
   },
   "file_extension": ".py",
   "mimetype": "text/x-python",
   "name": "python",
   "nbconvert_exporter": "python",
   "pygments_lexer": "ipython3",
   "version": "3.9.5"
  },
  "toc": {
   "base_numbering": 1,
   "nav_menu": {},
   "number_sections": true,
   "sideBar": true,
   "skip_h1_title": true,
   "title_cell": "Table of Contents",
   "title_sidebar": "Contents",
   "toc_cell": false,
   "toc_position": {},
   "toc_section_display": true,
   "toc_window_display": false
  }
 },
 "nbformat": 4,
 "nbformat_minor": 2
}
