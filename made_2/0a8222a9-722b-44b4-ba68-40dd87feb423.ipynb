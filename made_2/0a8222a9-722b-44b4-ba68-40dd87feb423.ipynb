{
 "cells": [
  {
   "cell_type": "markdown",
   "metadata": {},
   "source": [
    "# Сборный проект-2\n"
   ]
  },
  {
   "cell_type": "markdown",
   "metadata": {},
   "source": [
    "ОПИСАНИЕ ПРОЕКТА\n",
    "\n",
    "Вы работаете в стартапе, который продаёт продукты питания. \n",
    "\n",
    "ЦЕЛЬ: Нужно разобраться, как ведут себя пользователи вашего мобильного приложения. \n",
    "Изучить воронку продаж. Узнать, как пользователи доходят до покупки. Сколько пользователей доходит до покупки, а сколько — «застревает» на предыдущих шагах? На каких именно?\n",
    "Исследовать результаты A/A/B-эксперимента. Дизайнеры захотели поменять шрифты во всём приложении, а менеджеры испугались, что пользователям будет непривычно. Договорились принять решение по результатам A/A/B-теста. Пользователей разбили на 3 группы: 2 контрольные со старыми шрифтами и одну экспериментальную — с новыми. Выяснить, какой шрифт лучше.\n",
    "Создание двух групп A вместо одной имеет определённые преимущества. Если две контрольные группы окажутся равны, вы можете быть уверены в точности проведенного тестирования. Если же между значениями A и A будут существенные различия, это поможет обнаружить факторы, которые привели к искажению результатов. Сравнение контрольных групп также помогает понять, сколько времени и данных потребуется для дальнейших тестов.\n",
    "В случае общей аналитики и A/A/B-эксперимента работайте с одними и теми же данными. В реальных проектах всегда идут эксперименты. Аналитики исследуют качество работы приложения по общим данным, не учитывая принадлежность пользователей к экспериментам.\n",
    "\n",
    "ОПИСАНИЕ ДАННЫХ:\n",
    "Каждая запись в логе — это действие пользователя, или событие. \n",
    "EventName — название события;\n",
    "DeviceIDHash — уникальный идентификатор пользователя;\n",
    "EventTimestamp — время события;\n",
    "ExpId — номер эксперимента: 246 и 247 — контрольные группы, а 248 — экспериментальная.\n",
    "\n",
    "ПЛАН:\n",
    "1. Изучить данные (Откройте файл с данными и изучите общую информацию\n",
    "Путь к файлу: /datasets/logs_exp.csv. Скачать датасет)\n",
    "2. Предобработка данных\n",
    "Замените названия столбцов на удобные для вас;\n",
    "Проверьте пропуски и типы данных. Откорректируйте, если нужно;\n",
    "Добавьте столбец даты и времени, а также отдельный столбец дат;\n",
    "3. Исследовательский анализ данных \n",
    "Изучите и проверьте данные:\n",
    "Сколько всего событий в логе?\n",
    "Сколько всего пользователей в логе?\n",
    "Сколько в среднем событий приходится на пользователя?\n",
    "Данными за какой период вы располагаете? Найдите максимальную и минимальную дату. Постройте гистограмму по дате и времени. Можно ли быть уверенным, что у вас одинаково полные данные за весь период? Технически в логи новых дней по некоторым пользователям могут «доезжать» события из прошлого — это может «перекашивать данные». Определите, с какого момента данные полные и отбросьте более старые. Данными за какой период времени вы располагаете на самом деле?\n",
    "Много ли событий и пользователей вы потеряли, отбросив старые данные?\n",
    "Проверьте, что у вас есть пользователи из всех трёх экспериментальных групп.\n",
    "4. Изучить воронку событий\n",
    "Посмотрите, какие события есть в логах, как часто они встречаются. Отсортируйте события по частоте.\n",
    "Посчитайте, сколько пользователей совершали каждое из этих событий. Отсортируйте события по числу пользователей. Посчитайте долю пользователей, которые хоть раз совершали событие.\n",
    "Предположите, в каком порядке происходят события. Все ли они выстраиваются в последовательную цепочку? Их не нужно учитывать при расчёте воронки.\n",
    "По воронке событий посчитайте, какая доля пользователей проходит на следующий шаг воронки (от числа пользователей на предыдущем). То есть для последовательности событий A → B → C посчитайте отношение числа пользователей с событием B к количеству пользователей с событием A, а также отношение числа пользователей с событием C к количеству пользователей с событием B.\n",
    "На каком шаге теряете больше всего пользователей?\n",
    "Какая доля пользователей доходит от первого события до оплаты?\n",
    "5. Изучить результаты эксперимента\n",
    "Сколько пользователей в каждой экспериментальной группе?\n",
    "Есть 2 контрольные группы для А/А-эксперимента, чтобы проверить корректность всех механизмов и расчётов. Проверьте, находят ли статистические критерии разницу между выборками 246 и 247.\n",
    "Выберите самое популярное событие. Посчитайте число пользователей, совершивших это событие в каждой из контрольных групп. Посчитайте долю пользователей, совершивших это событие. Проверьте, будет ли отличие между группами статистически достоверным. Проделайте то же самое для всех других событий (удобно обернуть проверку в отдельную функцию). Можно ли сказать, что разбиение на группы работает корректно?\n",
    "Аналогично поступите с группой с изменённым шрифтом. Сравните результаты с каждой из контрольных групп в отдельности по каждому событию. Сравните результаты с объединённой контрольной группой. Какие выводы из эксперимента можно сделать?\n",
    "Какой уровень значимости вы выбрали при проверке статистических гипотез выше? Посчитайте, сколько проверок статистических гипотез вы сделали. При уровне значимости 0.1 каждый десятый раз можно получать ложный результат. Какой уровень значимости стоит применить? Если вы хотите изменить его, проделайте предыдущие пункты и проверьте свои выводы.\n"
   ]
  },
  {
   "cell_type": "markdown",
   "metadata": {},
   "source": [
    "## Изучение данных"
   ]
  },
  {
   "cell_type": "markdown",
   "metadata": {},
   "source": [
    "(Откройте файл с данными и изучите общую информацию\n",
    "Путь к файлу: /datasets/logs_exp.csv. Скачать датасет)"
   ]
  },
  {
   "cell_type": "code",
   "execution_count": 1,
   "metadata": {},
   "outputs": [],
   "source": [
    "#импорт библиотек\n",
    "import pandas as pd\n",
    "import datetime as dt\n",
    "import numpy as np\n",
    "import scipy.stats as stats\n",
    "import matplotlib.pyplot as plt\n",
    "from pandas.plotting import register_matplotlib_converters\n",
    "from plotly import graph_objects as go\n",
    "from scipy import stats as st\n",
    "import math as mth"
   ]
  },
  {
   "cell_type": "code",
   "execution_count": 2,
   "metadata": {},
   "outputs": [],
   "source": [
    "#откроем файл с данными\n",
    "data=pd.read_csv('/datasets/logs_exp.csv',sep='\\t')"
   ]
  },
  {
   "cell_type": "code",
   "execution_count": 3,
   "metadata": {},
   "outputs": [
    {
     "data": {
      "text/html": [
       "<div>\n",
       "<style scoped>\n",
       "    .dataframe tbody tr th:only-of-type {\n",
       "        vertical-align: middle;\n",
       "    }\n",
       "\n",
       "    .dataframe tbody tr th {\n",
       "        vertical-align: top;\n",
       "    }\n",
       "\n",
       "    .dataframe thead th {\n",
       "        text-align: right;\n",
       "    }\n",
       "</style>\n",
       "<table border=\"1\" class=\"dataframe\">\n",
       "  <thead>\n",
       "    <tr style=\"text-align: right;\">\n",
       "      <th></th>\n",
       "      <th>EventName</th>\n",
       "      <th>DeviceIDHash</th>\n",
       "      <th>EventTimestamp</th>\n",
       "      <th>ExpId</th>\n",
       "    </tr>\n",
       "  </thead>\n",
       "  <tbody>\n",
       "    <tr>\n",
       "      <th>0</th>\n",
       "      <td>MainScreenAppear</td>\n",
       "      <td>4575588528974610257</td>\n",
       "      <td>1564029816</td>\n",
       "      <td>246</td>\n",
       "    </tr>\n",
       "    <tr>\n",
       "      <th>1</th>\n",
       "      <td>MainScreenAppear</td>\n",
       "      <td>7416695313311560658</td>\n",
       "      <td>1564053102</td>\n",
       "      <td>246</td>\n",
       "    </tr>\n",
       "    <tr>\n",
       "      <th>2</th>\n",
       "      <td>PaymentScreenSuccessful</td>\n",
       "      <td>3518123091307005509</td>\n",
       "      <td>1564054127</td>\n",
       "      <td>248</td>\n",
       "    </tr>\n",
       "    <tr>\n",
       "      <th>3</th>\n",
       "      <td>CartScreenAppear</td>\n",
       "      <td>3518123091307005509</td>\n",
       "      <td>1564054127</td>\n",
       "      <td>248</td>\n",
       "    </tr>\n",
       "    <tr>\n",
       "      <th>4</th>\n",
       "      <td>PaymentScreenSuccessful</td>\n",
       "      <td>6217807653094995999</td>\n",
       "      <td>1564055322</td>\n",
       "      <td>248</td>\n",
       "    </tr>\n",
       "  </tbody>\n",
       "</table>\n",
       "</div>"
      ],
      "text/plain": [
       "                 EventName         DeviceIDHash  EventTimestamp  ExpId\n",
       "0         MainScreenAppear  4575588528974610257      1564029816    246\n",
       "1         MainScreenAppear  7416695313311560658      1564053102    246\n",
       "2  PaymentScreenSuccessful  3518123091307005509      1564054127    248\n",
       "3         CartScreenAppear  3518123091307005509      1564054127    248\n",
       "4  PaymentScreenSuccessful  6217807653094995999      1564055322    248"
      ]
     },
     "execution_count": 3,
     "metadata": {},
     "output_type": "execute_result"
    }
   ],
   "source": [
    "#Изучим данные\n",
    "pd.set_option('display.max_columns', None)\n",
    "data.head()"
   ]
  },
  {
   "cell_type": "code",
   "execution_count": 4,
   "metadata": {},
   "outputs": [
    {
     "name": "stdout",
     "output_type": "stream",
     "text": [
      "<class 'pandas.core.frame.DataFrame'>\n",
      "RangeIndex: 244126 entries, 0 to 244125\n",
      "Data columns (total 4 columns):\n",
      " #   Column          Non-Null Count   Dtype \n",
      "---  ------          --------------   ----- \n",
      " 0   EventName       244126 non-null  object\n",
      " 1   DeviceIDHash    244126 non-null  int64 \n",
      " 2   EventTimestamp  244126 non-null  int64 \n",
      " 3   ExpId           244126 non-null  int64 \n",
      "dtypes: int64(3), object(1)\n",
      "memory usage: 7.5+ MB\n"
     ]
    }
   ],
   "source": [
    "data.info()"
   ]
  },
  {
   "cell_type": "markdown",
   "metadata": {},
   "source": [
    "В таблице 4 столбца, 244126 строк. Названия столбцов необходимо привести к нижнему регистру.\n",
    "\n",
    "Типы данных:\n",
    "- целочисленный (int)-DeviceIDHash,EventTimestamp,ExpId.\n",
    "- строки object(3)-EventName.\n",
    "\n",
    "Нужно заменить типы следующих столбцов:EventTimestamp-на дату .\n",
    "Пропусков в столбцах нет."
   ]
  },
  {
   "cell_type": "code",
   "execution_count": null,
   "metadata": {},
   "outputs": [],
   "source": []
  },
  {
   "cell_type": "markdown",
   "metadata": {},
   "source": [
    "## Предобработка данных"
   ]
  },
  {
   "cell_type": "markdown",
   "metadata": {},
   "source": [
    "Замените названия столбцов на удобные для вас;\n",
    "Проверьте пропуски и типы данных. Откорректируйте, если нужно;\n",
    "Добавьте столбец даты и времени, а также отдельный столбец дат;"
   ]
  },
  {
   "cell_type": "code",
   "execution_count": 5,
   "metadata": {},
   "outputs": [],
   "source": [
    "#переведем столбец EventTimestamp в тип даты и времени\n",
    "data['EventTimestamp']=pd.to_datetime(data['EventTimestamp'],unit='s')"
   ]
  },
  {
   "cell_type": "code",
   "execution_count": 6,
   "metadata": {},
   "outputs": [
    {
     "data": {
      "text/plain": [
       "Index(['eventname', 'userid', 'eventtime', 'expid'], dtype='object')"
      ]
     },
     "execution_count": 6,
     "metadata": {},
     "output_type": "execute_result"
    }
   ],
   "source": [
    "#Переименуем столбцы\n",
    "data=data.rename(columns={\n",
    "    'EventName': 'eventname',\n",
    "    'DeviceIDHash': 'userid',\n",
    "    'EventTimestamp': 'eventtime',\n",
    "    'ExpId': 'expid'})\n",
    "data.columns\n"
   ]
  },
  {
   "cell_type": "code",
   "execution_count": 7,
   "metadata": {},
   "outputs": [
    {
     "data": {
      "text/plain": [
       "413"
      ]
     },
     "execution_count": 7,
     "metadata": {},
     "output_type": "execute_result"
    }
   ],
   "source": [
    "#проверим данные на явные дубликаты\n",
    "data.duplicated().sum()"
   ]
  },
  {
   "cell_type": "code",
   "execution_count": 8,
   "metadata": {},
   "outputs": [
    {
     "data": {
      "text/plain": [
       "0.16917493425526162"
      ]
     },
     "execution_count": 8,
     "metadata": {},
     "output_type": "execute_result"
    }
   ],
   "source": [
    "#посмотрим долю дубликатов\n",
    "data.duplicated().sum()*100/len(data)"
   ]
  },
  {
   "cell_type": "code",
   "execution_count": 9,
   "metadata": {},
   "outputs": [],
   "source": [
    "#удалим явные дубликаты\n",
    "data = data.drop_duplicates()"
   ]
  },
  {
   "cell_type": "code",
   "execution_count": 10,
   "metadata": {},
   "outputs": [],
   "source": [
    "#добавим столбец с датой\n",
    "data['date']=pd.DatetimeIndex(data['eventtime']).date\n"
   ]
  },
  {
   "cell_type": "code",
   "execution_count": 11,
   "metadata": {
    "scrolled": true
   },
   "outputs": [
    {
     "data": {
      "text/html": [
       "<div>\n",
       "<style scoped>\n",
       "    .dataframe tbody tr th:only-of-type {\n",
       "        vertical-align: middle;\n",
       "    }\n",
       "\n",
       "    .dataframe tbody tr th {\n",
       "        vertical-align: top;\n",
       "    }\n",
       "\n",
       "    .dataframe thead th {\n",
       "        text-align: right;\n",
       "    }\n",
       "</style>\n",
       "<table border=\"1\" class=\"dataframe\">\n",
       "  <thead>\n",
       "    <tr style=\"text-align: right;\">\n",
       "      <th></th>\n",
       "      <th>eventname</th>\n",
       "      <th>userid</th>\n",
       "      <th>eventtime</th>\n",
       "      <th>expid</th>\n",
       "      <th>date</th>\n",
       "    </tr>\n",
       "  </thead>\n",
       "  <tbody>\n",
       "    <tr>\n",
       "      <th>0</th>\n",
       "      <td>MainScreenAppear</td>\n",
       "      <td>4575588528974610257</td>\n",
       "      <td>2019-07-25 04:43:36</td>\n",
       "      <td>246</td>\n",
       "      <td>2019-07-25</td>\n",
       "    </tr>\n",
       "    <tr>\n",
       "      <th>1</th>\n",
       "      <td>MainScreenAppear</td>\n",
       "      <td>7416695313311560658</td>\n",
       "      <td>2019-07-25 11:11:42</td>\n",
       "      <td>246</td>\n",
       "      <td>2019-07-25</td>\n",
       "    </tr>\n",
       "    <tr>\n",
       "      <th>2</th>\n",
       "      <td>PaymentScreenSuccessful</td>\n",
       "      <td>3518123091307005509</td>\n",
       "      <td>2019-07-25 11:28:47</td>\n",
       "      <td>248</td>\n",
       "      <td>2019-07-25</td>\n",
       "    </tr>\n",
       "    <tr>\n",
       "      <th>3</th>\n",
       "      <td>CartScreenAppear</td>\n",
       "      <td>3518123091307005509</td>\n",
       "      <td>2019-07-25 11:28:47</td>\n",
       "      <td>248</td>\n",
       "      <td>2019-07-25</td>\n",
       "    </tr>\n",
       "    <tr>\n",
       "      <th>4</th>\n",
       "      <td>PaymentScreenSuccessful</td>\n",
       "      <td>6217807653094995999</td>\n",
       "      <td>2019-07-25 11:48:42</td>\n",
       "      <td>248</td>\n",
       "      <td>2019-07-25</td>\n",
       "    </tr>\n",
       "  </tbody>\n",
       "</table>\n",
       "</div>"
      ],
      "text/plain": [
       "                 eventname               userid           eventtime  expid  \\\n",
       "0         MainScreenAppear  4575588528974610257 2019-07-25 04:43:36    246   \n",
       "1         MainScreenAppear  7416695313311560658 2019-07-25 11:11:42    246   \n",
       "2  PaymentScreenSuccessful  3518123091307005509 2019-07-25 11:28:47    248   \n",
       "3         CartScreenAppear  3518123091307005509 2019-07-25 11:28:47    248   \n",
       "4  PaymentScreenSuccessful  6217807653094995999 2019-07-25 11:48:42    248   \n",
       "\n",
       "         date  \n",
       "0  2019-07-25  \n",
       "1  2019-07-25  \n",
       "2  2019-07-25  \n",
       "3  2019-07-25  \n",
       "4  2019-07-25  "
      ]
     },
     "execution_count": 11,
     "metadata": {},
     "output_type": "execute_result"
    }
   ],
   "source": [
    "data.head()"
   ]
  },
  {
   "cell_type": "markdown",
   "metadata": {},
   "source": [
    "Промежуточный вывод:\n",
    "    1. Заменены названия столбцов на\n",
    "'eventname' (название события), 'userid' (уникальный идентификатор пользователя), 'eventtime'(время события), 'expid'(номер эксперимента)\n",
    "    2. Cтолбец EventTimestamp переведен в тип даты и времени+ добавлен столбец с датой 'date'\n",
    "    3. Обнаружены и удалены 413 явных дубликата(это 0,17% от всех данных).\n"
   ]
  },
  {
   "cell_type": "markdown",
   "metadata": {},
   "source": [
    "## Исследовательский анализ данных "
   ]
  },
  {
   "cell_type": "markdown",
   "metadata": {},
   "source": [
    "Изучите и проверьте данные:\n",
    "Сколько всего событий в логе?\n",
    "Сколько всего пользователей в логе?\n",
    "Сколько в среднем событий приходится на пользователя?\n",
    "Данными за какой период вы располагаете? Найдите максимальную и минимальную дату. Постройте гистограмму по дате и времени. Можно ли быть уверенным, что у вас одинаково полные данные за весь период? Технически в логи новых дней по некоторым пользователям могут «доезжать» события из прошлого — это может «перекашивать данные». Определите, с какого момента данные полные и отбросьте более старые. Данными за какой период времени вы располагаете на самом деле?\n",
    "Много ли событий и пользователей вы потеряли, отбросив старые данные?\n",
    "Проверьте, что у вас есть пользователи из всех трёх экспериментальных групп."
   ]
  },
  {
   "cell_type": "code",
   "execution_count": 12,
   "metadata": {},
   "outputs": [
    {
     "data": {
      "text/plain": [
       "243713"
      ]
     },
     "execution_count": 12,
     "metadata": {},
     "output_type": "execute_result"
    }
   ],
   "source": [
    "#Сколько всего событий в логе\n",
    "data['eventname'].count()"
   ]
  },
  {
   "cell_type": "code",
   "execution_count": 13,
   "metadata": {},
   "outputs": [
    {
     "data": {
      "text/plain": [
       "7551"
      ]
     },
     "execution_count": 13,
     "metadata": {},
     "output_type": "execute_result"
    }
   ],
   "source": [
    "#Сколько всего пользователей в логе\n",
    "len(data['userid'].unique())"
   ]
  },
  {
   "cell_type": "markdown",
   "metadata": {},
   "source": [
    "Определим сколько в среднем событий приходится на пользователя"
   ]
  },
  {
   "cell_type": "code",
   "execution_count": 14,
   "metadata": {},
   "outputs": [
    {
     "data": {
      "text/plain": [
       "20.0"
      ]
     },
     "execution_count": 14,
     "metadata": {},
     "output_type": "execute_result"
    }
   ],
   "source": [
    "\n",
    "\n",
    "data.groupby('userid')['eventname'].count().median()"
   ]
  },
  {
   "cell_type": "code",
   "execution_count": null,
   "metadata": {},
   "outputs": [],
   "source": []
  },
  {
   "cell_type": "markdown",
   "metadata": {},
   "source": [
    "Определим минимальную и максимальную даты "
   ]
  },
  {
   "cell_type": "code",
   "execution_count": 15,
   "metadata": {},
   "outputs": [
    {
     "data": {
      "text/plain": [
       "datetime.date(2019, 7, 25)"
      ]
     },
     "execution_count": 15,
     "metadata": {},
     "output_type": "execute_result"
    }
   ],
   "source": [
    "\n",
    "min_date = data['date'].min()\n",
    "\n",
    "min_date"
   ]
  },
  {
   "cell_type": "code",
   "execution_count": 16,
   "metadata": {},
   "outputs": [
    {
     "data": {
      "text/plain": [
       "datetime.date(2019, 8, 7)"
      ]
     },
     "execution_count": 16,
     "metadata": {},
     "output_type": "execute_result"
    }
   ],
   "source": [
    "max_date = data['date'].max()  \n",
    "max_date"
   ]
  },
  {
   "cell_type": "markdown",
   "metadata": {},
   "source": [
    "Получился период с 25 июля по 7 августа 2019 года"
   ]
  },
  {
   "cell_type": "code",
   "execution_count": 17,
   "metadata": {},
   "outputs": [
    {
     "data": {
      "image/png": "[encoded data removed]",
      "text/plain": [
       "<Figure size 720x720 with 1 Axes>"
      ]
     },
     "metadata": {
      "needs_background": "light"
     },
     "output_type": "display_data"
    }
   ],
   "source": [
    "#Построим гистограмму по дате и времени. \n",
    "plt.figure(figsize=(10, 10))\n",
    "plt.hist(data['eventtime'], bins=100)\n",
    "plt.xticks(rotation=90)\n",
    "plt.title('Распределение количества событий по датам')\n",
    "plt.ylabel('Количество событий')\n",
    "plt.show()\n",
    "\n"
   ]
  },
  {
   "cell_type": "markdown",
   "metadata": {},
   "source": [
    "<div class=\"alert alert-block alert-info\">\n",
    "<b>КОММЕНТАРИЙ ОТ УЧЕНИКА:  Спасибо, исправила </b>\n",
    "</div>"
   ]
  },
  {
   "cell_type": "markdown",
   "metadata": {},
   "source": [
    "Промежуточный вывод:\n",
    "Перед нами логи за период с 25 июля по 7 августа 2019 года.\n",
    "Всего событий 243713. \n",
    "Пользователей 7551. \n",
    "В среднем на одного пользователя - 20 событий.\n",
    "По гистограмме видно, что полные данные начинаются с 01.08.2019."
   ]
  },
  {
   "cell_type": "code",
   "execution_count": 18,
   "metadata": {},
   "outputs": [
    {
     "data": {
      "text/plain": [
       "2826"
      ]
     },
     "metadata": {},
     "output_type": "display_data"
    },
    {
     "data": {
      "text/plain": [
       "240887"
      ]
     },
     "metadata": {},
     "output_type": "display_data"
    },
    {
     "name": "stdout",
     "output_type": "stream",
     "text": [
      "1.1595606307418973\n"
     ]
    }
   ],
   "source": [
    "#сделаем срез данных за период с 1.08-7.08\n",
    "data_new=data.query('eventtime >= \"2019-08-01\"')\n",
    "#посмотрим сколько данных удалено\n",
    "display(len(data)-len(data_new))\n",
    "#посмотрим сколько данных осталось\n",
    "display(len(data_new))\n",
    "\n",
    "#посчитаем долю удаленных данных\n",
    "print((len(data)-len(data_new))*100/len(data))"
   ]
  },
  {
   "cell_type": "code",
   "execution_count": 19,
   "metadata": {
    "scrolled": true
   },
   "outputs": [
    {
     "data": {
      "text/plain": [
       "7534"
      ]
     },
     "execution_count": 19,
     "metadata": {},
     "output_type": "execute_result"
    }
   ],
   "source": [
    "#посмотрим сколько пользователей осталось в актуальном периоде\n",
    "len(data_new['userid'].unique())"
   ]
  },
  {
   "cell_type": "code",
   "execution_count": 20,
   "metadata": {},
   "outputs": [
    {
     "data": {
      "text/plain": [
       "7551"
      ]
     },
     "execution_count": 20,
     "metadata": {},
     "output_type": "execute_result"
    }
   ],
   "source": [
    "#всего пользователей было \n",
    "len(data['userid'].unique())"
   ]
  },
  {
   "cell_type": "code",
   "execution_count": 21,
   "metadata": {},
   "outputs": [
    {
     "data": {
      "text/plain": [
       "0.22513574361011787"
      ]
     },
     "execution_count": 21,
     "metadata": {},
     "output_type": "execute_result"
    }
   ],
   "source": [
    "#найдем долю удаленных пользователей\n",
    "(len(data['userid'].unique())-len(data_new['userid'].unique()))*100/len(data['userid'].unique())"
   ]
  },
  {
   "cell_type": "markdown",
   "metadata": {},
   "source": [
    "Проверим, что у нас есть пользователи из всех трёх экспериментальных групп."
   ]
  },
  {
   "cell_type": "code",
   "execution_count": 22,
   "metadata": {
    "scrolled": true
   },
   "outputs": [
    {
     "data": {
      "text/html": [
       "<div>\n",
       "<style scoped>\n",
       "    .dataframe tbody tr th:only-of-type {\n",
       "        vertical-align: middle;\n",
       "    }\n",
       "\n",
       "    .dataframe tbody tr th {\n",
       "        vertical-align: top;\n",
       "    }\n",
       "\n",
       "    .dataframe thead th {\n",
       "        text-align: right;\n",
       "    }\n",
       "</style>\n",
       "<table border=\"1\" class=\"dataframe\">\n",
       "  <thead>\n",
       "    <tr style=\"text-align: right;\">\n",
       "      <th></th>\n",
       "      <th>userid</th>\n",
       "    </tr>\n",
       "    <tr>\n",
       "      <th>expid</th>\n",
       "      <th></th>\n",
       "    </tr>\n",
       "  </thead>\n",
       "  <tbody>\n",
       "    <tr>\n",
       "      <th>246</th>\n",
       "      <td>79302</td>\n",
       "    </tr>\n",
       "    <tr>\n",
       "      <th>247</th>\n",
       "      <td>77022</td>\n",
       "    </tr>\n",
       "    <tr>\n",
       "      <th>248</th>\n",
       "      <td>84563</td>\n",
       "    </tr>\n",
       "  </tbody>\n",
       "</table>\n",
       "</div>"
      ],
      "text/plain": [
       "       userid\n",
       "expid        \n",
       "246     79302\n",
       "247     77022\n",
       "248     84563"
      ]
     },
     "execution_count": 22,
     "metadata": {},
     "output_type": "execute_result"
    }
   ],
   "source": [
    "data_group = data_new.pivot_table(index=['expid'], values='userid',aggfunc='count')\n",
    "data_group"
   ]
  },
  {
   "cell_type": "code",
   "execution_count": 23,
   "metadata": {},
   "outputs": [
    {
     "data": {
      "text/plain": [
       "19.0"
      ]
     },
     "execution_count": 23,
     "metadata": {},
     "output_type": "execute_result"
    }
   ],
   "source": [
    "#событий в среднем на 1 пользователя\n",
    "\n",
    "\n",
    "data_new.groupby('userid')['eventname'].count().median()"
   ]
  },
  {
   "cell_type": "markdown",
   "metadata": {},
   "source": [
    "Промежуточный вывод:\n",
    "Для дальнейшего анализа берем данные за период с 1.08-7.08.\n",
    "Отбросив данные более раннего периода мы теряем 1% данных.\n",
    "Событий в логе за этот период 240887.\n",
    "Пользователей в логе за этот период 7534.\n",
    "Пользователи есть во всех трёх экспериментальных группах.\n",
    "На 1 пользователя в среднем 19 событий.\n"
   ]
  },
  {
   "cell_type": "markdown",
   "metadata": {},
   "source": [
    "## Изучение воронки событий"
   ]
  },
  {
   "cell_type": "markdown",
   "metadata": {},
   "source": []
  },
  {
   "cell_type": "markdown",
   "metadata": {},
   "source": [
    "Посмотрим, какие события есть в логах, как часто они встречаются. Отсортируем события по частоте."
   ]
  },
  {
   "cell_type": "code",
   "execution_count": 24,
   "metadata": {},
   "outputs": [
    {
     "data": {
      "text/html": [
       "<div>\n",
       "<style scoped>\n",
       "    .dataframe tbody tr th:only-of-type {\n",
       "        vertical-align: middle;\n",
       "    }\n",
       "\n",
       "    .dataframe tbody tr th {\n",
       "        vertical-align: top;\n",
       "    }\n",
       "\n",
       "    .dataframe thead th {\n",
       "        text-align: right;\n",
       "    }\n",
       "</style>\n",
       "<table border=\"1\" class=\"dataframe\">\n",
       "  <thead>\n",
       "    <tr style=\"text-align: right;\">\n",
       "      <th></th>\n",
       "      <th>userid</th>\n",
       "    </tr>\n",
       "    <tr>\n",
       "      <th>eventname</th>\n",
       "      <th></th>\n",
       "    </tr>\n",
       "  </thead>\n",
       "  <tbody>\n",
       "    <tr>\n",
       "      <th>MainScreenAppear</th>\n",
       "      <td>117328</td>\n",
       "    </tr>\n",
       "    <tr>\n",
       "      <th>OffersScreenAppear</th>\n",
       "      <td>46333</td>\n",
       "    </tr>\n",
       "    <tr>\n",
       "      <th>CartScreenAppear</th>\n",
       "      <td>42303</td>\n",
       "    </tr>\n",
       "    <tr>\n",
       "      <th>PaymentScreenSuccessful</th>\n",
       "      <td>33918</td>\n",
       "    </tr>\n",
       "    <tr>\n",
       "      <th>Tutorial</th>\n",
       "      <td>1005</td>\n",
       "    </tr>\n",
       "  </tbody>\n",
       "</table>\n",
       "</div>"
      ],
      "text/plain": [
       "                         userid\n",
       "eventname                      \n",
       "MainScreenAppear         117328\n",
       "OffersScreenAppear        46333\n",
       "CartScreenAppear          42303\n",
       "PaymentScreenSuccessful   33918\n",
       "Tutorial                   1005"
      ]
     },
     "execution_count": 24,
     "metadata": {},
     "output_type": "execute_result"
    },
    {
     "data": {
      "image/png": "[encoded data removed]",
      "text/plain": [
       "<Figure size 720x360 with 1 Axes>"
      ]
     },
     "metadata": {
      "needs_background": "light"
     },
     "output_type": "display_data"
    }
   ],
   "source": [
    "data_r = data_new.pivot_table(index=['eventname'], values='userid',aggfunc='count')\n",
    "data_r.sort_values(by='userid', ascending=False).plot(grid=True, kind='bar', figsize=(10, 5));\n",
    "\n",
    "\n",
    "data_r.sort_values(by='userid', ascending=False)\n",
    "plt.title('Частота событий')\n",
    "plt.xlabel('события')\n",
    "plt.ylabel('количество событий')\n",
    "\n",
    "\n",
    "data_r.sort_values(by='userid', ascending=False)"
   ]
  },
  {
   "cell_type": "markdown",
   "metadata": {},
   "source": [
    "Чаще всего встречается событие MainScreenAppear случалось 117328 раз, самое редкое событие Tutorial-1005раз."
   ]
  },
  {
   "cell_type": "markdown",
   "metadata": {},
   "source": [
    "Посчитаем, сколько пользователей совершали каждое из этих событий. Отсортируем события по числу пользователей. Посчитаем долю пользователей, которые хоть раз совершали событие."
   ]
  },
  {
   "cell_type": "code",
   "execution_count": 25,
   "metadata": {},
   "outputs": [
    {
     "data": {
      "text/html": [
       "<div>\n",
       "<style scoped>\n",
       "    .dataframe tbody tr th:only-of-type {\n",
       "        vertical-align: middle;\n",
       "    }\n",
       "\n",
       "    .dataframe tbody tr th {\n",
       "        vertical-align: top;\n",
       "    }\n",
       "\n",
       "    .dataframe thead th {\n",
       "        text-align: right;\n",
       "    }\n",
       "</style>\n",
       "<table border=\"1\" class=\"dataframe\">\n",
       "  <thead>\n",
       "    <tr style=\"text-align: right;\">\n",
       "      <th></th>\n",
       "      <th>eventname</th>\n",
       "      <th>userid</th>\n",
       "      <th>part</th>\n",
       "    </tr>\n",
       "  </thead>\n",
       "  <tbody>\n",
       "    <tr>\n",
       "      <th>1</th>\n",
       "      <td>MainScreenAppear</td>\n",
       "      <td>7419</td>\n",
       "      <td>0.984736</td>\n",
       "    </tr>\n",
       "    <tr>\n",
       "      <th>2</th>\n",
       "      <td>OffersScreenAppear</td>\n",
       "      <td>4593</td>\n",
       "      <td>0.609636</td>\n",
       "    </tr>\n",
       "    <tr>\n",
       "      <th>0</th>\n",
       "      <td>CartScreenAppear</td>\n",
       "      <td>3734</td>\n",
       "      <td>0.495620</td>\n",
       "    </tr>\n",
       "    <tr>\n",
       "      <th>3</th>\n",
       "      <td>PaymentScreenSuccessful</td>\n",
       "      <td>3539</td>\n",
       "      <td>0.469737</td>\n",
       "    </tr>\n",
       "    <tr>\n",
       "      <th>4</th>\n",
       "      <td>Tutorial</td>\n",
       "      <td>840</td>\n",
       "      <td>0.111495</td>\n",
       "    </tr>\n",
       "  </tbody>\n",
       "</table>\n",
       "</div>"
      ],
      "text/plain": [
       "                 eventname  userid      part\n",
       "1         MainScreenAppear    7419  0.984736\n",
       "2       OffersScreenAppear    4593  0.609636\n",
       "0         CartScreenAppear    3734  0.495620\n",
       "3  PaymentScreenSuccessful    3539  0.469737\n",
       "4                 Tutorial     840  0.111495"
      ]
     },
     "execution_count": 25,
     "metadata": {},
     "output_type": "execute_result"
    }
   ],
   "source": [
    "users = data_new.groupby('eventname')['userid'].agg('nunique').reset_index()\n",
    "users['part']=users['userid']/data_new['userid'].nunique()\n",
    "\n",
    "users.sort_values(by='userid', ascending=False)"
   ]
  },
  {
   "cell_type": "markdown",
   "metadata": {},
   "source": [
    "Предположим, в каком порядке происходят события."
   ]
  },
  {
   "cell_type": "markdown",
   "metadata": {},
   "source": [
    "1\tMainScreenAppear\tПоявление главного экрана\n",
    "2\tOffersScreenAppear\tПоявление предложений на экране\n",
    "3\tCartScreenAppear\tПоявление экрана корзины\n",
    "4\tPaymentScreenSuccessful\tЭкран успешной оплаты\n",
    "5  Tutorial\n",
    "Первые четыре события образуют логичную цепочку пользователя по шагам в приложении. Tutorial-руководство проходят очень мало пользователей.\n",
    "Наверно не является обязательным этапом прохождения. Поэтому можно не включать в воронку продаж"
   ]
  },
  {
   "cell_type": "markdown",
   "metadata": {},
   "source": [
    "Промежуточный вывод: 98% пользователей хотя бы раз открыли главный экран, \n",
    "    61% хотя бы раз дошли до экрана предложений, около 50% -до корзины, 47% - до успешной оплаты, 11% хотябы раз посмотрели руководство."
   ]
  },
  {
   "cell_type": "markdown",
   "metadata": {},
   "source": [
    "Построим воронку и посмотрим какая доля пользователей проходит на следующий шаг воронки (от числа пользователей на предыдущем)"
   ]
  },
  {
   "cell_type": "code",
   "execution_count": null,
   "metadata": {},
   "outputs": [],
   "source": [
    " fig = go.Figure(go.Funnel(\n",
    "    y = [\"MainScreenAppear-главный экран\", \"OffersScreenAppear-товары\", \"CartScreenAppear-корзина\", \"PaymentScreenSuccessful-оплата\"],\n",
    "    x = [7419, 4593, 3734, 3539],\n",
    "    textposition = \"inside\",\n",
    "    textinfo = \"value+percent initial\",\n",
    "    opacity = 0.65))\n",
    "fig.update_layout(title=\"Доля пользователей, которая проходит на следующий шаг воронки\")\n",
    "fig.show()"
   ]
  },
  {
   "cell_type": "markdown",
   "metadata": {},
   "source": [
    "Промежуточный вывод:\n",
    "С главного экрана на страницу товаров проходит 62% пользователей, со страницы товаров в корзину переходит 50% пользователей, из корзины к оплате переходит 48% пользователей.\n",
    "\n",
    "Больше всего пользователей теряется на первом шаге (38%). Почему то пользователи не попадают на экран с товарами. Возможно пересмотреть навигацию(меню) на главном экране, или сообщить тех.специалистам, если не все пользователи могут попасть в каталог товаров.\n",
    "Только 48% пользователей доходит от первого события до оплаты."
   ]
  },
  {
   "cell_type": "markdown",
   "metadata": {},
   "source": [
    "## Изучение результатов эксперимента"
   ]
  },
  {
   "cell_type": "markdown",
   "metadata": {},
   "source": [
    "Сколько пользователей в каждой экспериментальной группе?\n",
    "Есть 2 контрольные группы для А/А-эксперимента, чтобы проверить корректность всех механизмов и расчётов. Проверьте, находят ли статистические критерии разницу между выборками 246 и 247.\n",
    "Выберите самое популярное событие. Посчитайте число пользователей, совершивших это событие в каждой из контрольных групп. Посчитайте долю пользователей, совершивших это событие. Проверьте, будет ли отличие между группами статистически достоверным. Проделайте то же самое для всех других событий (удобно обернуть проверку в отдельную функцию). Можно ли сказать, что разбиение на группы работает корректно?\n",
    "Аналогично поступите с группой с изменённым шрифтом. Сравните результаты с каждой из контрольных групп в отдельности по каждому событию. Сравните результаты с объединённой контрольной группой. Какие выводы из эксперимента можно сделать?\n",
    "Какой уровень значимости вы выбрали при проверке статистических гипотез выше? Посчитайте, сколько проверок статистических гипотез вы сделали. При уровне значимости 0.1 каждый десятый раз можно получать ложный результат. Какой уровень значимости стоит применить? Если вы хотите изменить его, проделайте предыдущие пункты и проверьте свои выводы.\n"
   ]
  },
  {
   "cell_type": "markdown",
   "metadata": {},
   "source": [
    "Посмотрим сколько пользователей в каждой экспериментальной группе"
   ]
  },
  {
   "cell_type": "code",
   "execution_count": null,
   "metadata": {
    "scrolled": true
   },
   "outputs": [],
   "source": [
    "users_group = data_new.groupby('expid')['userid'].agg('nunique').reset_index()\n",
    "\n",
    "users_group.sort_values(by='userid', ascending=False)"
   ]
  },
  {
   "cell_type": "code",
   "execution_count": null,
   "metadata": {},
   "outputs": [],
   "source": []
  },
  {
   "cell_type": "markdown",
   "metadata": {},
   "source": [
    "Количество пользователей в группах почти одинаковое (разница 1-2%).\n",
    "Количество пользователей в каждой из групп достаточно большое для проведения исследования и разница между размерами групп незначительная\n"
   ]
  },
  {
   "cell_type": "markdown",
   "metadata": {},
   "source": [
    "246 и 247 — контрольные группы, а 248 — экспериментальная."
   ]
  },
  {
   "cell_type": "markdown",
   "metadata": {},
   "source": [
    "Есть 2 контрольные группы для А/А-эксперимента, чтобы проверить корректность всех механизмов и расчётов. \n",
    "Проверим, находят ли статистические критерии разницу между выборками 246 и 247."
   ]
  },
  {
   "cell_type": "markdown",
   "metadata": {},
   "source": [
    "Выберем самое популярное событие 'MainScreenAppear'. Посчитаем число пользователей,\n",
    "совершивших это событие в каждой из контрольных групп. Посчитайте долю пользователей, совершивших это событие."
   ]
  },
  {
   "cell_type": "code",
   "execution_count": null,
   "metadata": {
    "scrolled": false
   },
   "outputs": [],
   "source": [
    "group_msa = data_new.query('eventname == \"MainScreenAppear\" and expid!=248')\n",
    "\n",
    "users_msa = group_msa.groupby('expid')['userid'].agg('nunique').reset_index().sort_values(by='userid', ascending=False)\n",
    "\n",
    "\n",
    "users_msa['part']=users_msa['userid']/users_group['userid']\n",
    "users_msa\n"
   ]
  },
  {
   "cell_type": "code",
   "execution_count": null,
   "metadata": {
    "scrolled": true
   },
   "outputs": [],
   "source": [
    "#Сделаем общую таблицу с числом уникальных пользователей по каждому событию и группе\n",
    "\n",
    "msa = data_new.pivot_table(index='eventname', columns= 'expid', values = 'userid',aggfunc = {'userid':'nunique'}).reset_index()\n",
    "#.drop(index='Tutorial')\n",
    "msa"
   ]
  },
  {
   "cell_type": "markdown",
   "metadata": {},
   "source": [
    "Проверим, будет ли отличие между группами статистически достоверным. "
   ]
  },
  {
   "cell_type": "markdown",
   "metadata": {},
   "source": [
    "гипотеза Н0: равные доли в обеих группах \n",
    "гипотеза Н1: доли выборках не равны"
   ]
  },
  {
   "cell_type": "code",
   "execution_count": null,
   "metadata": {},
   "outputs": [],
   "source": [
    "trials = np.array([users_group.loc[0,'userid'], \n",
    "                  users_group.loc[1,'userid']])\n",
    "trials\n"
   ]
  },
  {
   "cell_type": "code",
   "execution_count": null,
   "metadata": {},
   "outputs": [],
   "source": [
    "successes=np.array([msa.loc[1,246], \n",
    "                  msa.loc[1,247]])\n",
    "successes"
   ]
  },
  {
   "cell_type": "code",
   "execution_count": null,
   "metadata": {},
   "outputs": [],
   "source": [
    "\n",
    "alpha = .05 # критический уровень статистической значимости\n",
    "p1 = successes[0]/trials[0]\n",
    "p2 = successes[1]/trials[1]\n",
    "p_combined = (successes[0] + successes[1]) / (trials[0] + trials[1])\n",
    "difference = p1 - p2 \n",
    "z_value = difference / mth.sqrt(p_combined * (1 - p_combined) * (1 / trials[0] + 1 / trials[1]))\n",
    "distr = st.norm(0, 1)\n",
    "p_value = (1 - distr.cdf(abs(z_value))) * 2\n",
    "print('p-значение: ', p_value)\n",
    "if p_value < alpha:\n",
    "    print('Отвергаем нулевую гипотезу: между долями есть значимая разница')\n",
    "else:\n",
    "    print('Не получилось отвергнуть нулевую гипотезу, нет оснований считать доли разными')"
   ]
  },
  {
   "cell_type": "code",
   "execution_count": null,
   "metadata": {},
   "outputs": [],
   "source": [
    "#напишем функцию для проверки гипотез и проверим по всем событиям\n",
    "\n",
    "def check_hypothesis(successes1, successes2, trials1, trials2, alpha=0.05):\n",
    "\n",
    "\n",
    "    # число пользователей в группе 1 и группе 2:\n",
    "    \n",
    "    trials = np.array([trials1,trials2]) \n",
    "         \n",
    "    # число пользователей, совершивших событие в группе 1 и группе 2\n",
    "    successes = np.array([successes1, successes2]) \n",
    "    # пропорция успехов в первой группе:\n",
    "    p1 = successes[0]/trials[0]\n",
    "    # пропорция успехов во второй группе:\n",
    "    p2 = successes[1]/trials[1]\n",
    "    # пропорция успехов в комбинированном датасете:\n",
    "    p_combined = (successes[0] + successes[1]) / (trials[0] + trials[1])\n",
    "    # разница пропорций в датасетах\n",
    "    difference = p1 - p2\n",
    " \n",
    "    z_value = difference / mth.sqrt(p_combined * (1 - p_combined) * (1 / trials[0] + 1 / trials[1]))\n",
    "    \n",
    "    distr = st.norm(0, 1) \n",
    "    \n",
    "    p_value = (1 - distr.cdf(abs(z_value))) * 2\n",
    "    \n",
    "    \n",
    "    print(event)\n",
    "    print('p-значение: ', p_value)\n",
    "    \n",
    "    if (p_value < alpha):\n",
    "        print(\"Отвергаем нулевую гипотезу: между долями есть значимая разница\")\n",
    "        print('')\n",
    "    else:\n",
    "        print(\"Не получилось отвергнуть нулевую гипотезу, нет оснований считать доли разными\")\n",
    "        print('')"
   ]
  },
  {
   "cell_type": "markdown",
   "metadata": {},
   "source": [
    " Проверим, будет ли отличие между группами статистически достоверным и для других событий\n",
    "сформируем гипотезы:\n",
    "гипотеза Н0: равные доли в обеих группах \n",
    "гипотеза Н1: доли выборках не равны"
   ]
  },
  {
   "cell_type": "code",
   "execution_count": null,
   "metadata": {},
   "outputs": [],
   "source": [
    "for event in ['MainScreenAppear', 'OffersScreenAppear',\n",
    "       'CartScreenAppear', 'PaymentScreenSuccessful']:\n",
    "    successes1=msa[msa['eventname']==event][246]\n",
    "    successes2=msa[msa['eventname']==event][247]\n",
    "    check_hypothesis(successes1, successes2,  users_group.loc[0,'userid'], users_group.loc[1,'userid'], alpha=0.05)"
   ]
  },
  {
   "cell_type": "markdown",
   "metadata": {},
   "source": [
    "Сделав А-А  тестирование 2 экспериментальных групп 246 и 247 было выяснено:\n",
    "\n",
    "Статистически значимой разницы между долями для всех событий двух экспериментальных групп не обнаружено. Данное явление характерно для всех событий в обоих группах.\n",
    "\n",
    "Можно сказать, что разбиение на группы работает корректно.\n"
   ]
  },
  {
   "cell_type": "markdown",
   "metadata": {},
   "source": [
    "Аналогично поступим с группой 248 с изменённым шрифтом. \n",
    "Сравним результаты с каждой из контрольных групп в отдельности по каждому событию. \n",
    "А/Б тест\n",
    "Н0: Доли контрольной групы 246 и 248 не отличаются друг от друга\n",
    "Н1: Доли контрольной групы 246 и 248 групп отличаются друг от друга\n"
   ]
  },
  {
   "cell_type": "markdown",
   "metadata": {},
   "source": [
    "Сравним группы 246 и 248"
   ]
  },
  {
   "cell_type": "code",
   "execution_count": null,
   "metadata": {},
   "outputs": [],
   "source": [
    "for event in ['MainScreenAppear', 'OffersScreenAppear',\n",
    "       'CartScreenAppear', 'PaymentScreenSuccessful']:\n",
    "    successes1=msa[msa['eventname']==event][246]\n",
    "    successes2=msa[msa['eventname']==event][248]\n",
    "    check_hypothesis(successes1, successes2,  users_group.loc[0,'userid'], users_group.loc[2,'userid'], alpha=0.05)"
   ]
  },
  {
   "cell_type": "code",
   "execution_count": null,
   "metadata": {},
   "outputs": [],
   "source": []
  },
  {
   "cell_type": "markdown",
   "metadata": {},
   "source": [
    "сравним группы 247 и 248"
   ]
  },
  {
   "cell_type": "markdown",
   "metadata": {},
   "source": [
    "Сформулируем гипотезы:\n",
    "Н0: Доли контрольной групы 247 и 248 не отличаются друг от друга Н1: Доли контрольной групы 247 и 248 групп отличаются друг от друга"
   ]
  },
  {
   "cell_type": "code",
   "execution_count": null,
   "metadata": {},
   "outputs": [],
   "source": [
    "for event in ['MainScreenAppear', 'OffersScreenAppear',\n",
    "       'CartScreenAppear', 'PaymentScreenSuccessful']:\n",
    "    successes1=msa[msa['eventname']==event][247]\n",
    "    successes2=msa[msa['eventname']==event][248]\n",
    "    check_hypothesis(successes1, successes2,  users_group.loc[1,'userid'], users_group.loc[2,'userid'], alpha=0.05)"
   ]
  },
  {
   "cell_type": "code",
   "execution_count": null,
   "metadata": {},
   "outputs": [],
   "source": []
  },
  {
   "cell_type": "markdown",
   "metadata": {},
   "source": [
    "сравним группы объединенную экспериментальную группу(246+247) и 248"
   ]
  },
  {
   "cell_type": "markdown",
   "metadata": {},
   "source": [
    "Сформулируем гипотезы: \n",
    "Н0: Доли объединенной экспериментальной группы (246+247) и 248 не отличаются друг от друга Н1: Доли объединенной экспериментальной групы (246+247) и 248 групп отличаются друг от друга"
   ]
  },
  {
   "cell_type": "code",
   "execution_count": null,
   "metadata": {},
   "outputs": [],
   "source": [
    "#добавим столбец 246+247\n",
    "msa['246+247']=msa[246]+msa[247]"
   ]
  },
  {
   "cell_type": "code",
   "execution_count": null,
   "metadata": {},
   "outputs": [],
   "source": [
    "count=users_group.query('expid!=248')\n",
    "count.sum()"
   ]
  },
  {
   "cell_type": "code",
   "execution_count": null,
   "metadata": {},
   "outputs": [],
   "source": [
    "for event in ['MainScreenAppear', 'OffersScreenAppear',\n",
    "       'CartScreenAppear', 'PaymentScreenSuccessful']:\n",
    "    successes1=msa[msa['eventname']==event]['246+247']\n",
    "    successes2=msa[msa['eventname']==event][248]\n",
    "    check_hypothesis(successes1, successes2, 4997, users_group.loc[2,'userid'], alpha=0.05)"
   ]
  },
  {
   "cell_type": "markdown",
   "metadata": {},
   "source": [
    "Сделано 20 проверок статистических гипотез (4 проверки для 5 этапов). \n",
    "Чтобы снизить вероятность ложнопозитивного результата при множественном тестировании гипотез, можно скорректировать значение требуемого уровня значимости по методу Шидака"
   ]
  },
  {
   "cell_type": "code",
   "execution_count": null,
   "metadata": {},
   "outputs": [],
   "source": [
    "# Скорректированное значение требуемого уровня значимости по методу Шидака рассчитывается по формуле: \n",
    "\n",
    "alfa=1 - (1 - 0.05)**(1/20)\n",
    "alfa\n"
   ]
  },
  {
   "cell_type": "markdown",
   "metadata": {},
   "source": [
    " Так как для всех событий и групп p-value больше 0.05(а с поправкой соответственно гораздо больше 0.0026), min p-значение:  [0.07842923].Поэтому, не получилось отвергнуть нулевую гипотезу. \n",
    " "
   ]
  },
  {
   "cell_type": "markdown",
   "metadata": {},
   "source": [
    "Можно сделать вывод, что изменение шрифта не повлияло на поведение пользователей в приложении."
   ]
  },
  {
   "cell_type": "markdown",
   "metadata": {},
   "source": [
    "Вывод: Перед нами логи за период с 25 июля по 7 августа 2019 года. Всего событий 243713. Пользователей 7551. В среднем на одного пользователя - 20 событий. По гистограмме видно, что полные данные начинаются с 01.08.2019.\n",
    "Для дальнейшего анализ берем данные за период с 1.08-7.08.\n",
    "Отбросив данные более раннего периода мы теряем 1% данных.\n",
    "Событий в логе за этот период 240887.\n",
    "Пользователей в логе за этот период 7534.\n",
    "Пользователи есть во всех трёх экспериментальных группах.\n",
    "На 1 пользователя в среднем 19 событий. \n",
    "Событийный анализ позволил определить следующие особенности в поведении пользователей: \n",
    "Чаще всего встречается событие MainScreenAppear случалось 117328 раз, самое редкое событие Tutorial-1005раз. Получилась следующая воронка:\n",
    "1 MainScreenAppear Появление главного экрана \n",
    "2 OffersScreenAppear Появление предложений на экране\n",
    "3 CartScreenAppear Появление экрана корзины \n",
    "4 PaymentScreenSuccessful Экран успешной оплаты\n",
    "5 Tutorial\n",
    "Первые четыре события образуют логичную цепочку пользователя по шагам в приложении. \n",
    "Tutorial-руководство проходят очень мало пользователей. Наверно не является обязательным этапом прохождения.\n",
    "Если рассмотреть в процентном соотношении переход пользователей на каждый этап воронки, можно увидеть следующую картину:\n",
    "    98% пользователей хотя бы раз открыли главный экран, \n",
    "    61% хотя бы раз дошли до экрана предложений, \n",
    "    около 50% -до корзины, \n",
    "    47% - до успешной оплаты,\n",
    "    11% хотябы раз посмотрели руководство.\n",
    "Больше всего пользователей теряется на первом шаге (38%). Почему то пользователи не попадают на экран с товарами. Только 48% пользователей доходит от первого события до оплаты.\n",
    "Можно сделать вывод, что изменение шрифта не повлияло на поведение пользователей в приложении.На основе A/A/B-эксперимента было выявлено, что изменение шрифта не повлияло на поведение пользователей в приложении."
   ]
  },
  {
   "cell_type": "markdown",
   "metadata": {},
   "source": [
    "<div style=\"border:solid Chocolate 2px; padding: 40px\">\n",
    "\n",
    "\n",
    "\n",
    "<div class=\"alert alert-success\">\n",
    "\n",
    "\n",
    "    \n",
    "https://habr.com/ru/company/avito/blog/571094/\n",
    "\n",
    "https://habr.com/ru/company/yandex/blog/476826/\n",
    "\n",
    "https://academy.yandex.ru/journal/kak-provesti-a-b-testirovanie-6-prostykh-shagov\n",
    "\n",
    "https://habr.com/ru/company/yandex/blog/342704/\n",
    "\n",
    "https://r-analytics.blogspot.com/2013/10/blog-post_13.html \n",
    "\n",
    "</div>\n",
    "\n",
    "<div class=\"alert alert-danger\">\n",
    "\n",
    "   \n",
    "\n"
   ]
  },
  {
   "cell_type": "code",
   "execution_count": null,
   "metadata": {},
   "outputs": [],
   "source": []
  },
  {
   "cell_type": "code",
   "execution_count": null,
   "metadata": {},
   "outputs": [],
   "source": []
  },
  {
   "cell_type": "code",
   "execution_count": null,
   "metadata": {},
   "outputs": [],
   "source": []
  },
  {
   "cell_type": "code",
   "execution_count": null,
   "metadata": {},
   "outputs": [],
   "source": []
  },
  {
   "cell_type": "code",
   "execution_count": null,
   "metadata": {},
   "outputs": [],
   "source": []
  },
  {
   "cell_type": "code",
   "execution_count": null,
   "metadata": {},
   "outputs": [],
   "source": []
  },
  {
   "cell_type": "markdown",
   "metadata": {},
   "source": []
  }
 ],
 "metadata": {
  "ExecuteTimeLog": [
   {
    "duration": 5,
    "start_time": "2023-04-11T04:23:43.731Z"
   },
   {
    "duration": 168,
    "start_time": "2023-04-11T04:24:56.545Z"
   },
   {
    "duration": 3,
    "start_time": "2023-04-11T04:25:13.139Z"
   },
   {
    "duration": 44,
    "start_time": "2023-04-11T04:28:13.312Z"
   },
   {
    "duration": 1299,
    "start_time": "2023-04-11T04:28:22.869Z"
   },
   {
    "duration": 580,
    "start_time": "2023-04-11T04:28:25.416Z"
   },
   {
    "duration": 18,
    "start_time": "2023-04-11T04:29:15.654Z"
   },
   {
    "duration": 10,
    "start_time": "2023-04-11T04:30:55.606Z"
   },
   {
    "duration": 299,
    "start_time": "2023-04-11T04:32:37.534Z"
   },
   {
    "duration": 6,
    "start_time": "2023-04-11T04:32:39.206Z"
   },
   {
    "duration": 137,
    "start_time": "2023-04-11T04:32:53.483Z"
   },
   {
    "duration": 0,
    "start_time": "2023-04-11T04:32:53.622Z"
   },
   {
    "duration": 0,
    "start_time": "2023-04-11T04:32:53.623Z"
   },
   {
    "duration": 0,
    "start_time": "2023-04-11T04:32:53.624Z"
   },
   {
    "duration": 0,
    "start_time": "2023-04-11T04:32:53.625Z"
   },
   {
    "duration": 43,
    "start_time": "2023-04-11T04:33:06.326Z"
   },
   {
    "duration": 1045,
    "start_time": "2023-04-11T04:33:13.722Z"
   },
   {
    "duration": 253,
    "start_time": "2023-04-11T04:33:15.749Z"
   },
   {
    "duration": 278,
    "start_time": "2023-04-11T04:33:17.620Z"
   },
   {
    "duration": 9,
    "start_time": "2023-04-11T04:33:27.635Z"
   },
   {
    "duration": 156,
    "start_time": "2023-04-11T04:36:34.291Z"
   },
   {
    "duration": 7,
    "start_time": "2023-04-11T04:36:36.164Z"
   },
   {
    "duration": 22,
    "start_time": "2023-04-11T04:36:41.248Z"
   },
   {
    "duration": 74,
    "start_time": "2023-04-11T08:20:34.809Z"
   },
   {
    "duration": 8,
    "start_time": "2023-04-11T08:26:06.972Z"
   },
   {
    "duration": 61,
    "start_time": "2023-04-11T08:27:14.110Z"
   },
   {
    "duration": 2709,
    "start_time": "2023-04-11T08:42:11.909Z"
   },
   {
    "duration": 1312,
    "start_time": "2023-04-11T08:51:11.086Z"
   },
   {
    "duration": 183,
    "start_time": "2023-04-11T08:51:12.401Z"
   },
   {
    "duration": 28,
    "start_time": "2023-04-11T08:51:12.587Z"
   },
   {
    "duration": 41,
    "start_time": "2023-04-11T08:51:12.618Z"
   },
   {
    "duration": 125,
    "start_time": "2023-04-11T08:51:12.661Z"
   },
   {
    "duration": 0,
    "start_time": "2023-04-11T08:51:12.789Z"
   },
   {
    "duration": 1,
    "start_time": "2023-04-11T08:51:12.790Z"
   },
   {
    "duration": 0,
    "start_time": "2023-04-11T08:51:12.793Z"
   },
   {
    "duration": 14,
    "start_time": "2023-04-11T08:51:18.066Z"
   },
   {
    "duration": 101,
    "start_time": "2023-04-11T08:51:56.443Z"
   },
   {
    "duration": 22,
    "start_time": "2023-04-11T08:52:03.711Z"
   },
   {
    "duration": 74,
    "start_time": "2023-04-11T08:52:26.553Z"
   },
   {
    "duration": 72,
    "start_time": "2023-04-11T08:55:51.428Z"
   },
   {
    "duration": 67,
    "start_time": "2023-04-11T08:56:03.465Z"
   },
   {
    "duration": 78,
    "start_time": "2023-04-11T08:56:06.446Z"
   },
   {
    "duration": 62,
    "start_time": "2023-04-11T08:56:40.465Z"
   },
   {
    "duration": 5,
    "start_time": "2023-04-11T08:57:41.861Z"
   },
   {
    "duration": 1206,
    "start_time": "2023-04-11T08:58:43.009Z"
   },
   {
    "duration": 175,
    "start_time": "2023-04-11T08:58:44.217Z"
   },
   {
    "duration": 14,
    "start_time": "2023-04-11T08:58:44.396Z"
   },
   {
    "duration": 124,
    "start_time": "2023-04-11T08:58:44.413Z"
   },
   {
    "duration": 89,
    "start_time": "2023-04-11T08:58:44.539Z"
   },
   {
    "duration": 0,
    "start_time": "2023-04-11T08:58:44.630Z"
   },
   {
    "duration": 0,
    "start_time": "2023-04-11T08:58:44.631Z"
   },
   {
    "duration": 0,
    "start_time": "2023-04-11T08:58:44.632Z"
   },
   {
    "duration": 0,
    "start_time": "2023-04-11T08:58:44.633Z"
   },
   {
    "duration": 0,
    "start_time": "2023-04-11T08:58:44.634Z"
   },
   {
    "duration": 77,
    "start_time": "2023-04-11T08:58:47.530Z"
   },
   {
    "duration": 4,
    "start_time": "2023-04-11T08:58:49.438Z"
   },
   {
    "duration": 63,
    "start_time": "2023-04-11T08:59:55.828Z"
   },
   {
    "duration": 67,
    "start_time": "2023-04-11T09:00:02.818Z"
   },
   {
    "duration": 1141,
    "start_time": "2023-04-11T09:08:18.406Z"
   },
   {
    "duration": 180,
    "start_time": "2023-04-11T09:08:19.549Z"
   },
   {
    "duration": 13,
    "start_time": "2023-04-11T09:08:19.731Z"
   },
   {
    "duration": 62,
    "start_time": "2023-04-11T09:08:19.746Z"
   },
   {
    "duration": 15,
    "start_time": "2023-04-11T09:08:19.810Z"
   },
   {
    "duration": 35,
    "start_time": "2023-04-11T09:08:19.827Z"
   },
   {
    "duration": 93,
    "start_time": "2023-04-11T09:08:19.864Z"
   },
   {
    "duration": 73,
    "start_time": "2023-04-11T09:08:19.959Z"
   },
   {
    "duration": 88,
    "start_time": "2023-04-11T09:08:20.034Z"
   },
   {
    "duration": 7,
    "start_time": "2023-04-11T09:08:58.917Z"
   },
   {
    "duration": 74,
    "start_time": "2023-04-11T09:13:45.841Z"
   },
   {
    "duration": 9,
    "start_time": "2023-04-11T09:13:48.288Z"
   },
   {
    "duration": 40,
    "start_time": "2023-04-11T09:21:24.557Z"
   },
   {
    "duration": 118,
    "start_time": "2023-04-11T09:21:27.072Z"
   },
   {
    "duration": 26,
    "start_time": "2023-04-11T09:21:34.268Z"
   },
   {
    "duration": 15,
    "start_time": "2023-04-11T09:23:03.443Z"
   },
   {
    "duration": 9,
    "start_time": "2023-04-11T09:27:01.965Z"
   },
   {
    "duration": 14,
    "start_time": "2023-04-11T09:27:15.117Z"
   },
   {
    "duration": 11,
    "start_time": "2023-04-11T09:27:30.562Z"
   },
   {
    "duration": 7,
    "start_time": "2023-04-11T09:27:51.138Z"
   },
   {
    "duration": 97,
    "start_time": "2023-04-11T09:41:31.722Z"
   },
   {
    "duration": 21,
    "start_time": "2023-04-11T09:48:11.755Z"
   },
   {
    "duration": 21,
    "start_time": "2023-04-11T09:48:38.920Z"
   },
   {
    "duration": 19,
    "start_time": "2023-04-11T09:49:21.313Z"
   },
   {
    "duration": 17,
    "start_time": "2023-04-11T09:51:06.499Z"
   },
   {
    "duration": 19,
    "start_time": "2023-04-11T09:51:26.321Z"
   },
   {
    "duration": 18,
    "start_time": "2023-04-11T09:51:28.199Z"
   },
   {
    "duration": 34,
    "start_time": "2023-04-11T09:51:30.466Z"
   },
   {
    "duration": 26,
    "start_time": "2023-04-11T09:51:42.464Z"
   },
   {
    "duration": 22,
    "start_time": "2023-04-11T09:52:17.556Z"
   },
   {
    "duration": 20,
    "start_time": "2023-04-11T09:52:56.593Z"
   },
   {
    "duration": 20,
    "start_time": "2023-04-11T09:53:04.523Z"
   },
   {
    "duration": 23,
    "start_time": "2023-04-11T09:53:39.692Z"
   },
   {
    "duration": 400,
    "start_time": "2023-04-11T10:00:51.321Z"
   },
   {
    "duration": 195,
    "start_time": "2023-04-11T10:01:06.859Z"
   },
   {
    "duration": 172,
    "start_time": "2023-04-11T10:03:54.928Z"
   },
   {
    "duration": 192,
    "start_time": "2023-04-11T10:04:05.406Z"
   },
   {
    "duration": 128,
    "start_time": "2023-04-11T10:04:10.608Z"
   },
   {
    "duration": 145,
    "start_time": "2023-04-11T10:04:14.241Z"
   },
   {
    "duration": 298,
    "start_time": "2023-04-11T10:04:19.765Z"
   },
   {
    "duration": 87,
    "start_time": "2023-04-11T10:04:32.737Z"
   },
   {
    "duration": 311,
    "start_time": "2023-04-11T10:05:24.333Z"
   },
   {
    "duration": 555,
    "start_time": "2023-04-11T10:05:41.853Z"
   },
   {
    "duration": 300,
    "start_time": "2023-04-11T10:06:06.653Z"
   },
   {
    "duration": 416,
    "start_time": "2023-04-11T10:06:29.398Z"
   },
   {
    "duration": 261,
    "start_time": "2023-04-11T10:06:41.945Z"
   },
   {
    "duration": 38,
    "start_time": "2023-04-11T10:07:56.264Z"
   },
   {
    "duration": 42,
    "start_time": "2023-04-11T10:10:56.861Z"
   },
   {
    "duration": 211,
    "start_time": "2023-04-11T10:14:06.523Z"
   },
   {
    "duration": 95,
    "start_time": "2023-04-11T10:14:43.172Z"
   },
   {
    "duration": 3,
    "start_time": "2023-04-11T10:15:22.834Z"
   },
   {
    "duration": 4,
    "start_time": "2023-04-11T10:15:34.513Z"
   },
   {
    "duration": 279,
    "start_time": "2023-04-11T10:15:51.264Z"
   },
   {
    "duration": 76,
    "start_time": "2023-04-11T10:17:24.840Z"
   },
   {
    "duration": 1282,
    "start_time": "2023-04-11T10:17:30.560Z"
   },
   {
    "duration": 168,
    "start_time": "2023-04-11T10:17:31.844Z"
   },
   {
    "duration": 11,
    "start_time": "2023-04-11T10:17:32.013Z"
   },
   {
    "duration": 89,
    "start_time": "2023-04-11T10:17:32.026Z"
   },
   {
    "duration": 36,
    "start_time": "2023-04-11T10:17:32.117Z"
   },
   {
    "duration": 78,
    "start_time": "2023-04-11T10:17:32.154Z"
   },
   {
    "duration": 120,
    "start_time": "2023-04-11T10:17:32.234Z"
   },
   {
    "duration": 63,
    "start_time": "2023-04-11T10:17:32.356Z"
   },
   {
    "duration": 71,
    "start_time": "2023-04-11T10:17:32.421Z"
   },
   {
    "duration": 72,
    "start_time": "2023-04-11T10:17:32.495Z"
   },
   {
    "duration": 79,
    "start_time": "2023-04-11T10:17:32.568Z"
   },
   {
    "duration": 53,
    "start_time": "2023-04-11T10:17:32.648Z"
   },
   {
    "duration": 36,
    "start_time": "2023-04-11T10:17:32.703Z"
   },
   {
    "duration": 52,
    "start_time": "2023-04-11T10:17:32.742Z"
   },
   {
    "duration": 163,
    "start_time": "2023-04-11T10:17:32.796Z"
   },
   {
    "duration": 0,
    "start_time": "2023-04-11T10:17:32.960Z"
   },
   {
    "duration": 0,
    "start_time": "2023-04-11T10:17:32.961Z"
   },
   {
    "duration": 1,
    "start_time": "2023-04-11T10:17:32.962Z"
   },
   {
    "duration": 0,
    "start_time": "2023-04-11T10:17:32.964Z"
   },
   {
    "duration": 0,
    "start_time": "2023-04-11T10:17:32.965Z"
   },
   {
    "duration": 383,
    "start_time": "2023-04-11T10:18:26.880Z"
   },
   {
    "duration": 305,
    "start_time": "2023-04-11T10:19:39.325Z"
   },
   {
    "duration": 254,
    "start_time": "2023-04-11T10:20:10.820Z"
   },
   {
    "duration": 439,
    "start_time": "2023-04-11T10:20:45.163Z"
   },
   {
    "duration": 300,
    "start_time": "2023-04-11T10:21:11.031Z"
   },
   {
    "duration": 526,
    "start_time": "2023-04-11T10:22:23.670Z"
   },
   {
    "duration": 258,
    "start_time": "2023-04-11T10:22:28.848Z"
   },
   {
    "duration": 306,
    "start_time": "2023-04-11T10:23:32.869Z"
   },
   {
    "duration": 577,
    "start_time": "2023-04-11T10:26:53.316Z"
   },
   {
    "duration": 387,
    "start_time": "2023-04-11T10:26:59.916Z"
   },
   {
    "duration": 449,
    "start_time": "2023-04-11T10:27:40.320Z"
   },
   {
    "duration": 326,
    "start_time": "2023-04-11T10:27:52.679Z"
   },
   {
    "duration": 307,
    "start_time": "2023-04-11T10:28:06.573Z"
   },
   {
    "duration": 304,
    "start_time": "2023-04-11T10:28:15.337Z"
   },
   {
    "duration": 120,
    "start_time": "2023-04-11T10:32:20.846Z"
   },
   {
    "duration": 19,
    "start_time": "2023-04-11T13:00:06.632Z"
   },
   {
    "duration": 19,
    "start_time": "2023-04-11T13:00:12.543Z"
   },
   {
    "duration": 188,
    "start_time": "2023-04-11T13:01:22.942Z"
   },
   {
    "duration": 306,
    "start_time": "2023-04-11T13:01:52.389Z"
   },
   {
    "duration": 4,
    "start_time": "2023-04-11T13:16:52.601Z"
   },
   {
    "duration": 18,
    "start_time": "2023-04-11T13:17:08.580Z"
   },
   {
    "duration": 751,
    "start_time": "2023-04-11T13:18:56.701Z"
   },
   {
    "duration": 3,
    "start_time": "2023-04-11T13:23:19.469Z"
   },
   {
    "duration": 975,
    "start_time": "2023-04-11T13:23:29.476Z"
   },
   {
    "duration": 769,
    "start_time": "2023-04-11T13:27:51.380Z"
   },
   {
    "duration": 326,
    "start_time": "2023-04-11T13:29:59.961Z"
   },
   {
    "duration": 174,
    "start_time": "2023-04-11T13:30:33.191Z"
   },
   {
    "duration": 11,
    "start_time": "2023-04-11T13:30:52.796Z"
   },
   {
    "duration": 517,
    "start_time": "2023-04-11T13:33:51.506Z"
   },
   {
    "duration": 15,
    "start_time": "2023-04-11T13:34:16.261Z"
   },
   {
    "duration": 1549,
    "start_time": "2023-04-11T13:34:26.950Z"
   },
   {
    "duration": 850,
    "start_time": "2023-04-11T13:36:55.826Z"
   },
   {
    "duration": 0,
    "start_time": "2023-04-11T13:37:08.373Z"
   },
   {
    "duration": 14,
    "start_time": "2023-04-11T13:39:12.412Z"
   },
   {
    "duration": 522,
    "start_time": "2023-04-11T13:39:27.693Z"
   },
   {
    "duration": 1120,
    "start_time": "2023-04-11T13:39:36.134Z"
   },
   {
    "duration": 197,
    "start_time": "2023-04-11T13:39:37.256Z"
   },
   {
    "duration": 11,
    "start_time": "2023-04-11T13:39:37.455Z"
   },
   {
    "duration": 50,
    "start_time": "2023-04-11T13:39:37.468Z"
   },
   {
    "duration": 14,
    "start_time": "2023-04-11T13:39:37.521Z"
   },
   {
    "duration": 16,
    "start_time": "2023-04-11T13:39:37.537Z"
   },
   {
    "duration": 114,
    "start_time": "2023-04-11T13:39:37.555Z"
   },
   {
    "duration": 79,
    "start_time": "2023-04-11T13:39:37.671Z"
   },
   {
    "duration": 81,
    "start_time": "2023-04-11T13:39:37.752Z"
   },
   {
    "duration": 80,
    "start_time": "2023-04-11T13:39:37.835Z"
   },
   {
    "duration": 45,
    "start_time": "2023-04-11T13:39:37.917Z"
   },
   {
    "duration": 57,
    "start_time": "2023-04-11T13:39:37.965Z"
   },
   {
    "duration": 31,
    "start_time": "2023-04-11T13:39:38.024Z"
   },
   {
    "duration": 68,
    "start_time": "2023-04-11T13:39:38.058Z"
   },
   {
    "duration": 68,
    "start_time": "2023-04-11T13:39:38.128Z"
   },
   {
    "duration": 37,
    "start_time": "2023-04-11T13:39:38.198Z"
   },
   {
    "duration": 112,
    "start_time": "2023-04-11T13:39:38.237Z"
   },
   {
    "duration": 0,
    "start_time": "2023-04-11T13:39:38.351Z"
   },
   {
    "duration": 0,
    "start_time": "2023-04-11T13:39:38.353Z"
   },
   {
    "duration": 0,
    "start_time": "2023-04-11T13:39:38.359Z"
   },
   {
    "duration": 1088,
    "start_time": "2023-04-11T13:39:59.844Z"
   },
   {
    "duration": 14,
    "start_time": "2023-04-11T13:40:03.893Z"
   },
   {
    "duration": 1252,
    "start_time": "2023-04-11T13:40:45.682Z"
   },
   {
    "duration": 24,
    "start_time": "2023-04-11T13:40:58.260Z"
   },
   {
    "duration": 8,
    "start_time": "2023-04-11T13:41:05.609Z"
   },
   {
    "duration": 12,
    "start_time": "2023-04-11T13:41:16.412Z"
   },
   {
    "duration": 1106,
    "start_time": "2023-04-11T13:41:41.367Z"
   },
   {
    "duration": 112,
    "start_time": "2023-04-11T13:44:16.529Z"
   },
   {
    "duration": 9,
    "start_time": "2023-04-11T13:44:29.124Z"
   },
   {
    "duration": 20,
    "start_time": "2023-04-11T13:44:36.280Z"
   },
   {
    "duration": 13,
    "start_time": "2023-04-11T13:44:48.932Z"
   },
   {
    "duration": 817,
    "start_time": "2023-04-11T17:45:39.853Z"
   },
   {
    "duration": 33,
    "start_time": "2023-04-11T17:47:41.313Z"
   },
   {
    "duration": 17,
    "start_time": "2023-04-11T17:49:37.548Z"
   },
   {
    "duration": 27,
    "start_time": "2023-04-11T17:49:48.275Z"
   },
   {
    "duration": 14,
    "start_time": "2023-04-11T17:52:28.408Z"
   },
   {
    "duration": 21,
    "start_time": "2023-04-11T17:53:13.055Z"
   },
   {
    "duration": 16,
    "start_time": "2023-04-11T17:53:47.532Z"
   },
   {
    "duration": 23,
    "start_time": "2023-04-11T17:53:57.503Z"
   },
   {
    "duration": 16,
    "start_time": "2023-04-11T17:54:50.391Z"
   },
   {
    "duration": 20,
    "start_time": "2023-04-11T17:55:57.222Z"
   },
   {
    "duration": 16,
    "start_time": "2023-04-11T17:58:36.318Z"
   },
   {
    "duration": 126,
    "start_time": "2023-04-11T18:03:33.780Z"
   },
   {
    "duration": 19,
    "start_time": "2023-04-11T18:03:47.898Z"
   },
   {
    "duration": 26,
    "start_time": "2023-04-11T18:03:55.169Z"
   },
   {
    "duration": 1151,
    "start_time": "2023-04-11T18:04:02.667Z"
   },
   {
    "duration": 155,
    "start_time": "2023-04-11T18:04:03.820Z"
   },
   {
    "duration": 11,
    "start_time": "2023-04-11T18:04:03.976Z"
   },
   {
    "duration": 49,
    "start_time": "2023-04-11T18:04:03.988Z"
   },
   {
    "duration": 24,
    "start_time": "2023-04-11T18:04:04.039Z"
   },
   {
    "duration": 51,
    "start_time": "2023-04-11T18:04:04.065Z"
   },
   {
    "duration": 81,
    "start_time": "2023-04-11T18:04:04.117Z"
   },
   {
    "duration": 55,
    "start_time": "2023-04-11T18:04:04.200Z"
   },
   {
    "duration": 77,
    "start_time": "2023-04-11T18:04:04.257Z"
   },
   {
    "duration": 65,
    "start_time": "2023-04-11T18:04:04.335Z"
   },
   {
    "duration": 49,
    "start_time": "2023-04-11T18:04:04.402Z"
   },
   {
    "duration": 21,
    "start_time": "2023-04-11T18:04:04.453Z"
   },
   {
    "duration": 9,
    "start_time": "2023-04-11T18:04:04.476Z"
   },
   {
    "duration": 18,
    "start_time": "2023-04-11T18:04:04.488Z"
   },
   {
    "duration": 15,
    "start_time": "2023-04-11T18:04:04.508Z"
   },
   {
    "duration": 33,
    "start_time": "2023-04-11T18:04:04.525Z"
   },
   {
    "duration": 404,
    "start_time": "2023-04-11T18:04:04.559Z"
   },
   {
    "duration": 32,
    "start_time": "2023-04-11T18:04:04.965Z"
   },
   {
    "duration": 30,
    "start_time": "2023-04-11T18:04:04.999Z"
   },
   {
    "duration": 82,
    "start_time": "2023-04-11T18:04:05.031Z"
   },
   {
    "duration": 4,
    "start_time": "2023-04-11T18:06:31.333Z"
   },
   {
    "duration": 19,
    "start_time": "2023-04-11T18:06:58.104Z"
   },
   {
    "duration": 17,
    "start_time": "2023-04-11T18:07:15.841Z"
   },
   {
    "duration": 21,
    "start_time": "2023-04-11T18:07:34.688Z"
   },
   {
    "duration": 90,
    "start_time": "2023-04-11T18:12:06.193Z"
   },
   {
    "duration": 12,
    "start_time": "2023-04-11T18:12:15.536Z"
   },
   {
    "duration": 10,
    "start_time": "2023-04-11T18:12:58.964Z"
   },
   {
    "duration": 18,
    "start_time": "2023-04-11T18:13:04.870Z"
   },
   {
    "duration": 19,
    "start_time": "2023-04-11T18:20:48.624Z"
   },
   {
    "duration": 21,
    "start_time": "2023-04-11T18:22:16.772Z"
   },
   {
    "duration": 6,
    "start_time": "2023-04-11T18:24:01.271Z"
   },
   {
    "duration": 6,
    "start_time": "2023-04-11T18:24:30.369Z"
   },
   {
    "duration": 17,
    "start_time": "2023-04-11T18:26:57.972Z"
   },
   {
    "duration": 96,
    "start_time": "2023-04-11T18:29:16.975Z"
   },
   {
    "duration": 1172,
    "start_time": "2023-04-11T18:29:28.579Z"
   },
   {
    "duration": 178,
    "start_time": "2023-04-11T18:29:29.753Z"
   },
   {
    "duration": 17,
    "start_time": "2023-04-11T18:29:29.932Z"
   },
   {
    "duration": 32,
    "start_time": "2023-04-11T18:29:29.951Z"
   },
   {
    "duration": 14,
    "start_time": "2023-04-11T18:29:29.986Z"
   },
   {
    "duration": 10,
    "start_time": "2023-04-11T18:29:30.002Z"
   },
   {
    "duration": 92,
    "start_time": "2023-04-11T18:29:30.014Z"
   },
   {
    "duration": 77,
    "start_time": "2023-04-11T18:29:30.107Z"
   },
   {
    "duration": 74,
    "start_time": "2023-04-11T18:29:30.186Z"
   },
   {
    "duration": 81,
    "start_time": "2023-04-11T18:29:30.262Z"
   },
   {
    "duration": 10,
    "start_time": "2023-04-11T18:29:30.345Z"
   },
   {
    "duration": 39,
    "start_time": "2023-04-11T18:29:30.357Z"
   },
   {
    "duration": 54,
    "start_time": "2023-04-11T18:29:30.397Z"
   },
   {
    "duration": 21,
    "start_time": "2023-04-11T18:29:30.454Z"
   },
   {
    "duration": 19,
    "start_time": "2023-04-11T18:29:30.477Z"
   },
   {
    "duration": 45,
    "start_time": "2023-04-11T18:29:30.497Z"
   },
   {
    "duration": 407,
    "start_time": "2023-04-11T18:29:30.543Z"
   },
   {
    "duration": 46,
    "start_time": "2023-04-11T18:29:30.952Z"
   },
   {
    "duration": 7,
    "start_time": "2023-04-11T18:29:30.999Z"
   },
   {
    "duration": 64,
    "start_time": "2023-04-11T18:29:31.007Z"
   },
   {
    "duration": 37,
    "start_time": "2023-04-11T18:29:31.072Z"
   },
   {
    "duration": 27,
    "start_time": "2023-04-11T18:33:42.121Z"
   },
   {
    "duration": 33,
    "start_time": "2023-04-11T18:33:48.334Z"
   },
   {
    "duration": 63,
    "start_time": "2023-04-11T18:36:31.976Z"
   },
   {
    "duration": 55,
    "start_time": "2023-04-11T18:36:41.554Z"
   },
   {
    "duration": 173,
    "start_time": "2023-04-11T18:38:11.123Z"
   },
   {
    "duration": 175,
    "start_time": "2023-04-11T18:39:06.776Z"
   },
   {
    "duration": 196,
    "start_time": "2023-04-11T18:39:18.391Z"
   },
   {
    "duration": 200,
    "start_time": "2023-04-11T18:40:48.817Z"
   },
   {
    "duration": 201,
    "start_time": "2023-04-11T18:41:12.155Z"
   },
   {
    "duration": 190,
    "start_time": "2023-04-11T18:41:21.095Z"
   },
   {
    "duration": 301,
    "start_time": "2023-04-11T18:41:38.063Z"
   },
   {
    "duration": 204,
    "start_time": "2023-04-11T18:41:59.006Z"
   },
   {
    "duration": 198,
    "start_time": "2023-04-11T18:42:05.299Z"
   },
   {
    "duration": 53,
    "start_time": "2023-04-11T18:48:13.942Z"
   },
   {
    "duration": 1203,
    "start_time": "2023-04-11T18:48:34.193Z"
   },
   {
    "duration": 167,
    "start_time": "2023-04-11T18:48:35.397Z"
   },
   {
    "duration": 12,
    "start_time": "2023-04-11T18:48:35.565Z"
   },
   {
    "duration": 28,
    "start_time": "2023-04-11T18:48:35.579Z"
   },
   {
    "duration": 15,
    "start_time": "2023-04-11T18:48:35.609Z"
   },
   {
    "duration": 11,
    "start_time": "2023-04-11T18:48:35.626Z"
   },
   {
    "duration": 91,
    "start_time": "2023-04-11T18:48:35.638Z"
   },
   {
    "duration": 73,
    "start_time": "2023-04-11T18:48:35.731Z"
   },
   {
    "duration": 81,
    "start_time": "2023-04-11T18:48:35.805Z"
   },
   {
    "duration": 68,
    "start_time": "2023-04-11T18:48:35.889Z"
   },
   {
    "duration": 10,
    "start_time": "2023-04-11T18:48:35.958Z"
   },
   {
    "duration": 16,
    "start_time": "2023-04-11T18:48:35.983Z"
   },
   {
    "duration": 13,
    "start_time": "2023-04-11T18:48:36.001Z"
   },
   {
    "duration": 29,
    "start_time": "2023-04-11T18:48:36.015Z"
   },
   {
    "duration": 39,
    "start_time": "2023-04-11T18:48:36.046Z"
   },
   {
    "duration": 20,
    "start_time": "2023-04-11T18:48:36.086Z"
   },
   {
    "duration": 399,
    "start_time": "2023-04-11T18:48:36.107Z"
   },
   {
    "duration": 36,
    "start_time": "2023-04-11T18:48:36.507Z"
   },
   {
    "duration": 9,
    "start_time": "2023-04-11T18:48:36.546Z"
   },
   {
    "duration": 49,
    "start_time": "2023-04-11T18:48:36.557Z"
   },
   {
    "duration": 24,
    "start_time": "2023-04-11T18:48:36.609Z"
   },
   {
    "duration": 220,
    "start_time": "2023-04-11T18:48:36.634Z"
   },
   {
    "duration": 68,
    "start_time": "2023-04-11T18:48:36.856Z"
   },
   {
    "duration": 0,
    "start_time": "2023-04-11T18:48:36.926Z"
   },
   {
    "duration": 0,
    "start_time": "2023-04-11T18:48:36.928Z"
   },
   {
    "duration": 151,
    "start_time": "2023-04-11T18:48:47.355Z"
   },
   {
    "duration": 48,
    "start_time": "2023-04-11T18:48:57.665Z"
   },
   {
    "duration": 57,
    "start_time": "2023-04-11T18:51:21.839Z"
   },
   {
    "duration": 76,
    "start_time": "2023-04-11T18:52:43.184Z"
   },
   {
    "duration": 105,
    "start_time": "2023-04-11T18:53:00.722Z"
   },
   {
    "duration": 216,
    "start_time": "2023-04-11T18:53:31.860Z"
   },
   {
    "duration": 259,
    "start_time": "2023-04-11T18:54:39.610Z"
   },
   {
    "duration": 68,
    "start_time": "2023-04-11T18:55:25.379Z"
   },
   {
    "duration": 453,
    "start_time": "2023-04-11T19:03:25.509Z"
   },
   {
    "duration": 156,
    "start_time": "2023-04-11T19:03:48.841Z"
   },
   {
    "duration": 5,
    "start_time": "2023-04-11T19:08:31.472Z"
   },
   {
    "duration": 11,
    "start_time": "2023-04-11T19:12:30.211Z"
   },
   {
    "duration": 23,
    "start_time": "2023-04-11T19:13:17.071Z"
   },
   {
    "duration": 99,
    "start_time": "2023-04-11T19:14:36.640Z"
   },
   {
    "duration": 7,
    "start_time": "2023-04-11T19:15:10.204Z"
   },
   {
    "duration": 9,
    "start_time": "2023-04-11T19:16:53.080Z"
   },
   {
    "duration": 7,
    "start_time": "2023-04-11T19:17:03.330Z"
   },
   {
    "duration": 10,
    "start_time": "2023-04-11T19:17:04.824Z"
   },
   {
    "duration": 17,
    "start_time": "2023-04-11T19:19:16.703Z"
   },
   {
    "duration": 6,
    "start_time": "2023-04-11T19:19:39.901Z"
   },
   {
    "duration": 7,
    "start_time": "2023-04-11T19:19:45.514Z"
   },
   {
    "duration": 19,
    "start_time": "2023-04-11T19:22:15.936Z"
   },
   {
    "duration": 4,
    "start_time": "2023-04-11T19:24:40.242Z"
   },
   {
    "duration": 7,
    "start_time": "2023-04-11T19:24:48.716Z"
   },
   {
    "duration": 11,
    "start_time": "2023-04-11T19:25:52.509Z"
   },
   {
    "duration": 12,
    "start_time": "2023-04-11T19:26:52.534Z"
   },
   {
    "duration": 13,
    "start_time": "2023-04-11T19:27:14.741Z"
   },
   {
    "duration": 75,
    "start_time": "2023-04-11T19:28:15.855Z"
   },
   {
    "duration": 1221,
    "start_time": "2023-04-11T19:36:18.279Z"
   },
   {
    "duration": 154,
    "start_time": "2023-04-11T19:36:19.502Z"
   },
   {
    "duration": 10,
    "start_time": "2023-04-11T19:36:19.657Z"
   },
   {
    "duration": 30,
    "start_time": "2023-04-11T19:36:19.669Z"
   },
   {
    "duration": 13,
    "start_time": "2023-04-11T19:36:19.700Z"
   },
   {
    "duration": 10,
    "start_time": "2023-04-11T19:36:19.715Z"
   },
   {
    "duration": 101,
    "start_time": "2023-04-11T19:36:19.727Z"
   },
   {
    "duration": 75,
    "start_time": "2023-04-11T19:36:19.831Z"
   },
   {
    "duration": 75,
    "start_time": "2023-04-11T19:36:19.908Z"
   },
   {
    "duration": 69,
    "start_time": "2023-04-11T19:36:19.986Z"
   },
   {
    "duration": 21,
    "start_time": "2023-04-11T19:36:20.057Z"
   },
   {
    "duration": 27,
    "start_time": "2023-04-11T19:36:20.084Z"
   },
   {
    "duration": 8,
    "start_time": "2023-04-11T19:36:20.113Z"
   },
   {
    "duration": 39,
    "start_time": "2023-04-11T19:36:20.123Z"
   },
   {
    "duration": 15,
    "start_time": "2023-04-11T19:36:20.164Z"
   },
   {
    "duration": 36,
    "start_time": "2023-04-11T19:36:20.181Z"
   },
   {
    "duration": 355,
    "start_time": "2023-04-11T19:36:20.218Z"
   },
   {
    "duration": 38,
    "start_time": "2023-04-11T19:36:20.574Z"
   },
   {
    "duration": 8,
    "start_time": "2023-04-11T19:36:20.613Z"
   },
   {
    "duration": 36,
    "start_time": "2023-04-11T19:36:20.623Z"
   },
   {
    "duration": 36,
    "start_time": "2023-04-11T19:36:20.661Z"
   },
   {
    "duration": 188,
    "start_time": "2023-04-11T19:36:20.699Z"
   },
   {
    "duration": 59,
    "start_time": "2023-04-11T19:36:20.889Z"
   },
   {
    "duration": 83,
    "start_time": "2023-04-12T05:54:22.294Z"
   },
   {
    "duration": 1585,
    "start_time": "2023-04-12T06:07:35.188Z"
   },
   {
    "duration": 524,
    "start_time": "2023-04-12T06:07:36.775Z"
   },
   {
    "duration": 15,
    "start_time": "2023-04-12T06:07:37.301Z"
   },
   {
    "duration": 88,
    "start_time": "2023-04-12T06:07:37.319Z"
   },
   {
    "duration": 49,
    "start_time": "2023-04-12T06:07:37.410Z"
   },
   {
    "duration": 57,
    "start_time": "2023-04-12T06:07:37.461Z"
   },
   {
    "duration": 98,
    "start_time": "2023-04-12T06:07:37.519Z"
   },
   {
    "duration": 70,
    "start_time": "2023-04-12T06:07:37.619Z"
   },
   {
    "duration": 90,
    "start_time": "2023-04-12T06:07:37.690Z"
   },
   {
    "duration": 71,
    "start_time": "2023-04-12T06:07:37.782Z"
   },
   {
    "duration": 19,
    "start_time": "2023-04-12T06:07:37.856Z"
   },
   {
    "duration": 39,
    "start_time": "2023-04-12T06:07:37.877Z"
   },
   {
    "duration": 34,
    "start_time": "2023-04-12T06:07:37.919Z"
   },
   {
    "duration": 31,
    "start_time": "2023-04-12T06:07:37.957Z"
   },
   {
    "duration": 18,
    "start_time": "2023-04-12T06:07:37.990Z"
   },
   {
    "duration": 42,
    "start_time": "2023-04-12T06:07:38.010Z"
   },
   {
    "duration": 443,
    "start_time": "2023-04-12T06:07:38.054Z"
   },
   {
    "duration": 57,
    "start_time": "2023-04-12T06:07:38.499Z"
   },
   {
    "duration": 7,
    "start_time": "2023-04-12T06:07:38.558Z"
   },
   {
    "duration": 52,
    "start_time": "2023-04-12T06:07:38.567Z"
   },
   {
    "duration": 23,
    "start_time": "2023-04-12T06:07:38.621Z"
   },
   {
    "duration": 233,
    "start_time": "2023-04-12T06:07:38.646Z"
   },
   {
    "duration": 82,
    "start_time": "2023-04-12T06:07:38.884Z"
   },
   {
    "duration": 81,
    "start_time": "2023-04-12T06:21:07.514Z"
   },
   {
    "duration": 134,
    "start_time": "2023-04-12T06:28:09.205Z"
   },
   {
    "duration": 199,
    "start_time": "2023-04-12T06:46:25.319Z"
   },
   {
    "duration": 106,
    "start_time": "2023-04-12T07:03:12.201Z"
   },
   {
    "duration": 1624,
    "start_time": "2023-04-12T07:06:13.903Z"
   },
   {
    "duration": 248,
    "start_time": "2023-04-12T07:06:15.530Z"
   },
   {
    "duration": 16,
    "start_time": "2023-04-12T07:06:15.787Z"
   },
   {
    "duration": 55,
    "start_time": "2023-04-12T07:06:15.809Z"
   },
   {
    "duration": 51,
    "start_time": "2023-04-12T07:06:15.869Z"
   },
   {
    "duration": 34,
    "start_time": "2023-04-12T07:06:15.923Z"
   },
   {
    "duration": 162,
    "start_time": "2023-04-12T07:06:15.960Z"
   },
   {
    "duration": 106,
    "start_time": "2023-04-12T07:06:16.124Z"
   },
   {
    "duration": 131,
    "start_time": "2023-04-12T07:06:16.236Z"
   },
   {
    "duration": 124,
    "start_time": "2023-04-12T07:06:16.370Z"
   },
   {
    "duration": 64,
    "start_time": "2023-04-12T07:06:16.496Z"
   },
   {
    "duration": 63,
    "start_time": "2023-04-12T07:06:16.562Z"
   },
   {
    "duration": 101,
    "start_time": "2023-04-12T07:06:16.628Z"
   },
   {
    "duration": 92,
    "start_time": "2023-04-12T07:06:16.734Z"
   },
   {
    "duration": 48,
    "start_time": "2023-04-12T07:06:16.829Z"
   },
   {
    "duration": 44,
    "start_time": "2023-04-12T07:06:16.888Z"
   },
   {
    "duration": 600,
    "start_time": "2023-04-12T07:06:16.934Z"
   },
   {
    "duration": 56,
    "start_time": "2023-04-12T07:06:17.536Z"
   },
   {
    "duration": 28,
    "start_time": "2023-04-12T07:06:17.594Z"
   },
   {
    "duration": 47,
    "start_time": "2023-04-12T07:06:17.624Z"
   },
   {
    "duration": 35,
    "start_time": "2023-04-12T07:06:17.673Z"
   },
   {
    "duration": 248,
    "start_time": "2023-04-12T07:06:17.710Z"
   },
   {
    "duration": 99,
    "start_time": "2023-04-12T07:06:17.960Z"
   },
   {
    "duration": 242,
    "start_time": "2023-04-12T07:06:18.061Z"
   },
   {
    "duration": 0,
    "start_time": "2023-04-12T07:06:18.306Z"
   },
   {
    "duration": 1,
    "start_time": "2023-04-12T07:06:18.307Z"
   },
   {
    "duration": 525,
    "start_time": "2023-04-12T07:06:30.571Z"
   },
   {
    "duration": 30,
    "start_time": "2023-04-12T07:10:38.752Z"
   },
   {
    "duration": 2978,
    "start_time": "2023-04-12T09:04:56.232Z"
   },
   {
    "duration": 3182,
    "start_time": "2023-04-12T09:07:50.588Z"
   },
   {
    "duration": 2823,
    "start_time": "2023-04-12T09:08:07.217Z"
   },
   {
    "duration": 16,
    "start_time": "2023-04-12T09:13:15.914Z"
   },
   {
    "duration": 16,
    "start_time": "2023-04-12T09:14:32.037Z"
   },
   {
    "duration": 12,
    "start_time": "2023-04-12T09:20:44.195Z"
   },
   {
    "duration": 10,
    "start_time": "2023-04-12T09:20:50.393Z"
   },
   {
    "duration": 143,
    "start_time": "2023-04-12T09:23:26.401Z"
   },
   {
    "duration": 18,
    "start_time": "2023-04-12T09:23:39.849Z"
   },
   {
    "duration": 14,
    "start_time": "2023-04-12T09:25:46.001Z"
   },
   {
    "duration": 13,
    "start_time": "2023-04-12T09:27:07.898Z"
   },
   {
    "duration": 307,
    "start_time": "2023-04-12T09:29:18.413Z"
   },
   {
    "duration": 1807,
    "start_time": "2023-04-12T09:29:31.102Z"
   },
   {
    "duration": 175,
    "start_time": "2023-04-12T09:29:32.911Z"
   },
   {
    "duration": 13,
    "start_time": "2023-04-12T09:29:33.088Z"
   },
   {
    "duration": 53,
    "start_time": "2023-04-12T09:29:33.103Z"
   },
   {
    "duration": 51,
    "start_time": "2023-04-12T09:29:33.158Z"
   },
   {
    "duration": 62,
    "start_time": "2023-04-12T09:29:33.211Z"
   },
   {
    "duration": 133,
    "start_time": "2023-04-12T09:29:33.276Z"
   },
   {
    "duration": 81,
    "start_time": "2023-04-12T09:29:33.410Z"
   },
   {
    "duration": 97,
    "start_time": "2023-04-12T09:29:33.492Z"
   },
   {
    "duration": 78,
    "start_time": "2023-04-12T09:29:33.591Z"
   },
   {
    "duration": 9,
    "start_time": "2023-04-12T09:29:33.671Z"
   },
   {
    "duration": 31,
    "start_time": "2023-04-12T09:29:33.682Z"
   },
   {
    "duration": 90,
    "start_time": "2023-04-12T09:29:33.715Z"
   },
   {
    "duration": 43,
    "start_time": "2023-04-12T09:29:33.808Z"
   },
   {
    "duration": 19,
    "start_time": "2023-04-12T09:29:33.853Z"
   },
   {
    "duration": 27,
    "start_time": "2023-04-12T09:29:33.874Z"
   },
   {
    "duration": 426,
    "start_time": "2023-04-12T09:29:33.903Z"
   },
   {
    "duration": 47,
    "start_time": "2023-04-12T09:29:34.331Z"
   },
   {
    "duration": 31,
    "start_time": "2023-04-12T09:29:34.379Z"
   },
   {
    "duration": 36,
    "start_time": "2023-04-12T09:29:34.412Z"
   },
   {
    "duration": 31,
    "start_time": "2023-04-12T09:29:34.451Z"
   },
   {
    "duration": 228,
    "start_time": "2023-04-12T09:29:34.484Z"
   },
   {
    "duration": 78,
    "start_time": "2023-04-12T09:29:34.715Z"
   },
   {
    "duration": 337,
    "start_time": "2023-04-12T09:29:34.795Z"
   },
   {
    "duration": 0,
    "start_time": "2023-04-12T09:29:35.134Z"
   },
   {
    "duration": 0,
    "start_time": "2023-04-12T09:29:35.135Z"
   },
   {
    "duration": 212,
    "start_time": "2023-04-12T09:30:25.849Z"
   },
   {
    "duration": 17,
    "start_time": "2023-04-12T09:33:11.292Z"
   },
   {
    "duration": 13,
    "start_time": "2023-04-12T09:33:39.276Z"
   },
   {
    "duration": 180,
    "start_time": "2023-04-12T09:36:57.105Z"
   },
   {
    "duration": 50,
    "start_time": "2023-04-12T09:38:35.985Z"
   },
   {
    "duration": 1479,
    "start_time": "2023-04-12T18:25:39.601Z"
   },
   {
    "duration": 984,
    "start_time": "2023-04-12T18:25:41.082Z"
   },
   {
    "duration": 13,
    "start_time": "2023-04-12T18:25:42.068Z"
   },
   {
    "duration": 21,
    "start_time": "2023-04-12T18:25:42.082Z"
   },
   {
    "duration": 12,
    "start_time": "2023-04-12T18:25:42.105Z"
   },
   {
    "duration": 10,
    "start_time": "2023-04-12T18:25:42.119Z"
   },
   {
    "duration": 84,
    "start_time": "2023-04-12T18:25:42.131Z"
   },
   {
    "duration": 64,
    "start_time": "2023-04-12T18:25:42.217Z"
   },
   {
    "duration": 74,
    "start_time": "2023-04-12T18:25:42.290Z"
   },
   {
    "duration": 78,
    "start_time": "2023-04-12T18:25:42.366Z"
   },
   {
    "duration": 10,
    "start_time": "2023-04-12T18:25:42.446Z"
   },
   {
    "duration": 33,
    "start_time": "2023-04-12T18:25:42.458Z"
   },
   {
    "duration": 6,
    "start_time": "2023-04-12T18:25:42.493Z"
   },
   {
    "duration": 19,
    "start_time": "2023-04-12T18:25:42.502Z"
   },
   {
    "duration": 17,
    "start_time": "2023-04-12T18:25:42.522Z"
   },
   {
    "duration": 48,
    "start_time": "2023-04-12T18:25:42.541Z"
   },
   {
    "duration": 401,
    "start_time": "2023-04-12T18:25:42.591Z"
   },
   {
    "duration": 33,
    "start_time": "2023-04-12T18:25:42.995Z"
   },
   {
    "duration": 8,
    "start_time": "2023-04-12T18:25:43.030Z"
   },
   {
    "duration": 51,
    "start_time": "2023-04-12T18:25:43.039Z"
   },
   {
    "duration": 22,
    "start_time": "2023-04-12T18:25:43.092Z"
   },
   {
    "duration": 229,
    "start_time": "2023-04-12T18:25:43.116Z"
   },
   {
    "duration": 78,
    "start_time": "2023-04-12T18:25:43.347Z"
   },
   {
    "duration": 152,
    "start_time": "2023-04-12T18:25:43.426Z"
   },
   {
    "duration": 39,
    "start_time": "2023-04-12T18:25:43.580Z"
   },
   {
    "duration": 0,
    "start_time": "2023-04-12T18:25:43.621Z"
   },
   {
    "duration": 0,
    "start_time": "2023-04-12T18:25:43.622Z"
   },
   {
    "duration": 0,
    "start_time": "2023-04-12T18:25:43.623Z"
   },
   {
    "duration": 0,
    "start_time": "2023-04-12T18:25:43.625Z"
   },
   {
    "duration": 0,
    "start_time": "2023-04-12T18:25:43.626Z"
   },
   {
    "duration": 43,
    "start_time": "2023-04-12T18:48:58.285Z"
   },
   {
    "duration": 3,
    "start_time": "2023-04-12T18:49:39.573Z"
   },
   {
    "duration": 4,
    "start_time": "2023-04-12T18:49:44.493Z"
   },
   {
    "duration": 4,
    "start_time": "2023-04-12T18:50:14.543Z"
   },
   {
    "duration": 3,
    "start_time": "2023-04-12T18:50:49.107Z"
   },
   {
    "duration": 4,
    "start_time": "2023-04-12T18:51:13.110Z"
   },
   {
    "duration": 4,
    "start_time": "2023-04-12T18:51:48.281Z"
   },
   {
    "duration": 46,
    "start_time": "2023-04-12T18:53:39.764Z"
   },
   {
    "duration": 118,
    "start_time": "2023-04-12T19:02:03.240Z"
   },
   {
    "duration": 27,
    "start_time": "2023-04-12T19:02:05.733Z"
   },
   {
    "duration": 81,
    "start_time": "2023-04-12T19:02:29.938Z"
   },
   {
    "duration": 68,
    "start_time": "2023-04-12T19:02:40.538Z"
   },
   {
    "duration": 68,
    "start_time": "2023-04-12T19:03:36.639Z"
   },
   {
    "duration": 1214,
    "start_time": "2023-04-12T19:03:45.138Z"
   },
   {
    "duration": 160,
    "start_time": "2023-04-12T19:03:46.355Z"
   },
   {
    "duration": 12,
    "start_time": "2023-04-12T19:03:46.517Z"
   },
   {
    "duration": 22,
    "start_time": "2023-04-12T19:03:46.530Z"
   },
   {
    "duration": 34,
    "start_time": "2023-04-12T19:03:46.555Z"
   },
   {
    "duration": 11,
    "start_time": "2023-04-12T19:03:46.591Z"
   },
   {
    "duration": 68,
    "start_time": "2023-04-12T19:03:46.603Z"
   },
   {
    "duration": 76,
    "start_time": "2023-04-12T19:03:46.672Z"
   },
   {
    "duration": 91,
    "start_time": "2023-04-12T19:03:46.750Z"
   },
   {
    "duration": 74,
    "start_time": "2023-04-12T19:03:46.843Z"
   },
   {
    "duration": 9,
    "start_time": "2023-04-12T19:03:46.919Z"
   },
   {
    "duration": 12,
    "start_time": "2023-04-12T19:03:46.929Z"
   },
   {
    "duration": 6,
    "start_time": "2023-04-12T19:03:46.943Z"
   },
   {
    "duration": 44,
    "start_time": "2023-04-12T19:03:46.953Z"
   },
   {
    "duration": 16,
    "start_time": "2023-04-12T19:03:46.998Z"
   },
   {
    "duration": 18,
    "start_time": "2023-04-12T19:03:47.016Z"
   },
   {
    "duration": 413,
    "start_time": "2023-04-12T19:03:47.036Z"
   },
   {
    "duration": 42,
    "start_time": "2023-04-12T19:03:47.450Z"
   },
   {
    "duration": 7,
    "start_time": "2023-04-12T19:03:47.493Z"
   },
   {
    "duration": 20,
    "start_time": "2023-04-12T19:03:47.502Z"
   },
   {
    "duration": 20,
    "start_time": "2023-04-12T19:03:47.524Z"
   },
   {
    "duration": 248,
    "start_time": "2023-04-12T19:03:47.546Z"
   },
   {
    "duration": 71,
    "start_time": "2023-04-12T19:03:47.795Z"
   },
   {
    "duration": 167,
    "start_time": "2023-04-12T19:03:47.868Z"
   },
   {
    "duration": 54,
    "start_time": "2023-04-12T19:03:48.036Z"
   },
   {
    "duration": 0,
    "start_time": "2023-04-12T19:03:48.092Z"
   },
   {
    "duration": 0,
    "start_time": "2023-04-12T19:03:48.093Z"
   },
   {
    "duration": 0,
    "start_time": "2023-04-12T19:03:48.094Z"
   },
   {
    "duration": 0,
    "start_time": "2023-04-12T19:03:48.095Z"
   },
   {
    "duration": 0,
    "start_time": "2023-04-12T19:03:48.097Z"
   },
   {
    "duration": 0,
    "start_time": "2023-04-12T19:03:48.098Z"
   },
   {
    "duration": 0,
    "start_time": "2023-04-12T19:03:48.099Z"
   },
   {
    "duration": 0,
    "start_time": "2023-04-12T19:03:48.100Z"
   },
   {
    "duration": 0,
    "start_time": "2023-04-12T19:03:48.101Z"
   },
   {
    "duration": 70,
    "start_time": "2023-04-12T19:03:56.401Z"
   },
   {
    "duration": 15,
    "start_time": "2023-04-12T19:03:59.829Z"
   },
   {
    "duration": 8,
    "start_time": "2023-04-12T19:04:29.900Z"
   },
   {
    "duration": 3,
    "start_time": "2023-04-12T19:09:59.695Z"
   },
   {
    "duration": 5,
    "start_time": "2023-04-12T19:10:07.436Z"
   },
   {
    "duration": 4,
    "start_time": "2023-04-12T19:11:36.113Z"
   },
   {
    "duration": 139,
    "start_time": "2023-04-12T19:27:18.754Z"
   },
   {
    "duration": 3,
    "start_time": "2023-04-12T19:37:23.257Z"
   },
   {
    "duration": 6,
    "start_time": "2023-04-12T19:37:30.702Z"
   },
   {
    "duration": 6,
    "start_time": "2023-04-12T19:37:43.217Z"
   },
   {
    "duration": 139,
    "start_time": "2023-04-12T19:40:16.974Z"
   },
   {
    "duration": 52,
    "start_time": "2023-04-13T03:34:27.947Z"
   },
   {
    "duration": 49,
    "start_time": "2023-04-13T03:35:01.184Z"
   },
   {
    "duration": 7,
    "start_time": "2023-04-13T03:35:03.088Z"
   },
   {
    "duration": 1546,
    "start_time": "2023-04-13T03:35:11.346Z"
   },
   {
    "duration": 705,
    "start_time": "2023-04-13T03:35:12.895Z"
   },
   {
    "duration": 12,
    "start_time": "2023-04-13T03:35:13.601Z"
   },
   {
    "duration": 22,
    "start_time": "2023-04-13T03:35:13.615Z"
   },
   {
    "duration": 11,
    "start_time": "2023-04-13T03:35:13.639Z"
   },
   {
    "duration": 8,
    "start_time": "2023-04-13T03:35:13.652Z"
   },
   {
    "duration": 75,
    "start_time": "2023-04-13T03:35:13.661Z"
   },
   {
    "duration": 57,
    "start_time": "2023-04-13T03:35:13.738Z"
   },
   {
    "duration": 78,
    "start_time": "2023-04-13T03:35:13.796Z"
   },
   {
    "duration": 62,
    "start_time": "2023-04-13T03:35:13.876Z"
   },
   {
    "duration": 16,
    "start_time": "2023-04-13T03:35:13.939Z"
   },
   {
    "duration": 14,
    "start_time": "2023-04-13T03:35:13.956Z"
   },
   {
    "duration": 9,
    "start_time": "2023-04-13T03:35:13.971Z"
   },
   {
    "duration": 18,
    "start_time": "2023-04-13T03:35:13.981Z"
   },
   {
    "duration": 14,
    "start_time": "2023-04-13T03:35:14.018Z"
   },
   {
    "duration": 18,
    "start_time": "2023-04-13T03:35:14.034Z"
   },
   {
    "duration": 351,
    "start_time": "2023-04-13T03:35:14.054Z"
   },
   {
    "duration": 36,
    "start_time": "2023-04-13T03:35:14.406Z"
   },
   {
    "duration": 6,
    "start_time": "2023-04-13T03:35:14.443Z"
   },
   {
    "duration": 17,
    "start_time": "2023-04-13T03:35:14.451Z"
   },
   {
    "duration": 17,
    "start_time": "2023-04-13T03:35:14.469Z"
   },
   {
    "duration": 219,
    "start_time": "2023-04-13T03:35:14.488Z"
   },
   {
    "duration": 70,
    "start_time": "2023-04-13T03:35:14.709Z"
   },
   {
    "duration": 174,
    "start_time": "2023-04-13T03:35:14.780Z"
   },
   {
    "duration": 40,
    "start_time": "2023-04-13T03:35:14.955Z"
   },
   {
    "duration": 107,
    "start_time": "2023-04-13T03:35:15.018Z"
   },
   {
    "duration": 0,
    "start_time": "2023-04-13T03:35:15.126Z"
   },
   {
    "duration": 0,
    "start_time": "2023-04-13T03:35:15.127Z"
   },
   {
    "duration": 0,
    "start_time": "2023-04-13T03:35:15.129Z"
   },
   {
    "duration": 0,
    "start_time": "2023-04-13T03:35:15.130Z"
   },
   {
    "duration": 0,
    "start_time": "2023-04-13T03:35:15.131Z"
   },
   {
    "duration": 58,
    "start_time": "2023-04-13T03:35:26.156Z"
   },
   {
    "duration": 7,
    "start_time": "2023-04-13T03:35:38.722Z"
   },
   {
    "duration": 124,
    "start_time": "2023-04-13T03:39:02.136Z"
   },
   {
    "duration": 1259,
    "start_time": "2023-04-13T03:39:16.194Z"
   },
   {
    "duration": 157,
    "start_time": "2023-04-13T03:39:17.454Z"
   },
   {
    "duration": 24,
    "start_time": "2023-04-13T03:39:17.612Z"
   },
   {
    "duration": 24,
    "start_time": "2023-04-13T03:39:17.638Z"
   },
   {
    "duration": 12,
    "start_time": "2023-04-13T03:39:17.664Z"
   },
   {
    "duration": 9,
    "start_time": "2023-04-13T03:39:17.678Z"
   },
   {
    "duration": 76,
    "start_time": "2023-04-13T03:39:17.688Z"
   },
   {
    "duration": 71,
    "start_time": "2023-04-13T03:39:17.766Z"
   },
   {
    "duration": 69,
    "start_time": "2023-04-13T03:39:17.838Z"
   },
   {
    "duration": 68,
    "start_time": "2023-04-13T03:39:17.909Z"
   },
   {
    "duration": 8,
    "start_time": "2023-04-13T03:39:17.979Z"
   },
   {
    "duration": 34,
    "start_time": "2023-04-13T03:39:17.988Z"
   },
   {
    "duration": 8,
    "start_time": "2023-04-13T03:39:18.023Z"
   },
   {
    "duration": 18,
    "start_time": "2023-04-13T03:39:18.032Z"
   },
   {
    "duration": 14,
    "start_time": "2023-04-13T03:39:18.051Z"
   },
   {
    "duration": 15,
    "start_time": "2023-04-13T03:39:18.067Z"
   },
   {
    "duration": 381,
    "start_time": "2023-04-13T03:39:18.083Z"
   },
   {
    "duration": 29,
    "start_time": "2023-04-13T03:39:18.466Z"
   },
   {
    "duration": 6,
    "start_time": "2023-04-13T03:39:18.496Z"
   },
   {
    "duration": 22,
    "start_time": "2023-04-13T03:39:18.517Z"
   },
   {
    "duration": 20,
    "start_time": "2023-04-13T03:39:18.541Z"
   },
   {
    "duration": 215,
    "start_time": "2023-04-13T03:39:18.563Z"
   },
   {
    "duration": 83,
    "start_time": "2023-04-13T03:39:18.780Z"
   },
   {
    "duration": 172,
    "start_time": "2023-04-13T03:39:18.864Z"
   },
   {
    "duration": 41,
    "start_time": "2023-04-13T03:39:19.038Z"
   },
   {
    "duration": 60,
    "start_time": "2023-04-13T03:39:19.080Z"
   },
   {
    "duration": 0,
    "start_time": "2023-04-13T03:39:19.142Z"
   },
   {
    "duration": 0,
    "start_time": "2023-04-13T03:39:19.143Z"
   },
   {
    "duration": 0,
    "start_time": "2023-04-13T03:39:19.144Z"
   },
   {
    "duration": 0,
    "start_time": "2023-04-13T03:39:19.145Z"
   },
   {
    "duration": 0,
    "start_time": "2023-04-13T03:39:19.146Z"
   },
   {
    "duration": 0,
    "start_time": "2023-04-13T03:39:19.147Z"
   },
   {
    "duration": 0,
    "start_time": "2023-04-13T03:39:19.148Z"
   },
   {
    "duration": 28,
    "start_time": "2023-04-13T03:39:30.118Z"
   },
   {
    "duration": 148,
    "start_time": "2023-04-13T03:39:37.529Z"
   },
   {
    "duration": 5,
    "start_time": "2023-04-13T03:39:51.477Z"
   },
   {
    "duration": 11,
    "start_time": "2023-04-13T03:39:59.274Z"
   },
   {
    "duration": 162,
    "start_time": "2023-04-13T03:40:36.515Z"
   },
   {
    "duration": 20,
    "start_time": "2023-04-13T03:40:47.391Z"
   },
   {
    "duration": 88,
    "start_time": "2023-04-13T03:41:47.384Z"
   },
   {
    "duration": 45,
    "start_time": "2023-04-13T03:44:35.082Z"
   },
   {
    "duration": 20,
    "start_time": "2023-04-13T03:45:03.931Z"
   },
   {
    "duration": 30,
    "start_time": "2023-04-13T03:49:11.816Z"
   },
   {
    "duration": 19,
    "start_time": "2023-04-13T03:49:43.905Z"
   },
   {
    "duration": 15,
    "start_time": "2023-04-13T03:50:05.617Z"
   },
   {
    "duration": 31,
    "start_time": "2023-04-13T03:52:31.335Z"
   },
   {
    "duration": 40,
    "start_time": "2023-04-13T03:53:11.810Z"
   },
   {
    "duration": 40,
    "start_time": "2023-04-13T03:57:30.926Z"
   },
   {
    "duration": 32,
    "start_time": "2023-04-13T04:05:25.529Z"
   },
   {
    "duration": 31,
    "start_time": "2023-04-13T04:05:28.424Z"
   },
   {
    "duration": 34,
    "start_time": "2023-04-13T04:05:37.029Z"
   },
   {
    "duration": 1193,
    "start_time": "2023-04-13T04:06:01.399Z"
   },
   {
    "duration": 146,
    "start_time": "2023-04-13T04:06:02.594Z"
   },
   {
    "duration": 11,
    "start_time": "2023-04-13T04:06:02.741Z"
   },
   {
    "duration": 39,
    "start_time": "2023-04-13T04:06:02.754Z"
   },
   {
    "duration": 9,
    "start_time": "2023-04-13T04:06:02.795Z"
   },
   {
    "duration": 52,
    "start_time": "2023-04-13T04:06:02.806Z"
   },
   {
    "duration": 62,
    "start_time": "2023-04-13T04:06:02.859Z"
   },
   {
    "duration": 59,
    "start_time": "2023-04-13T04:06:02.923Z"
   },
   {
    "duration": 81,
    "start_time": "2023-04-13T04:06:02.983Z"
   },
   {
    "duration": 57,
    "start_time": "2023-04-13T04:06:03.066Z"
   },
   {
    "duration": 24,
    "start_time": "2023-04-13T04:06:03.124Z"
   },
   {
    "duration": 22,
    "start_time": "2023-04-13T04:06:03.149Z"
   },
   {
    "duration": 15,
    "start_time": "2023-04-13T04:06:03.172Z"
   },
   {
    "duration": 18,
    "start_time": "2023-04-13T04:06:03.189Z"
   },
   {
    "duration": 14,
    "start_time": "2023-04-13T04:06:03.209Z"
   },
   {
    "duration": 16,
    "start_time": "2023-04-13T04:06:03.225Z"
   },
   {
    "duration": 358,
    "start_time": "2023-04-13T04:06:03.243Z"
   },
   {
    "duration": 36,
    "start_time": "2023-04-13T04:06:03.605Z"
   },
   {
    "duration": 6,
    "start_time": "2023-04-13T04:06:03.643Z"
   },
   {
    "duration": 19,
    "start_time": "2023-04-13T04:06:03.650Z"
   },
   {
    "duration": 18,
    "start_time": "2023-04-13T04:06:03.670Z"
   },
   {
    "duration": 235,
    "start_time": "2023-04-13T04:06:03.690Z"
   },
   {
    "duration": 68,
    "start_time": "2023-04-13T04:06:03.927Z"
   },
   {
    "duration": 175,
    "start_time": "2023-04-13T04:06:03.997Z"
   },
   {
    "duration": 55,
    "start_time": "2023-04-13T04:06:04.174Z"
   },
   {
    "duration": 48,
    "start_time": "2023-04-13T04:06:04.231Z"
   },
   {
    "duration": 0,
    "start_time": "2023-04-13T04:06:04.281Z"
   },
   {
    "duration": 0,
    "start_time": "2023-04-13T04:06:04.282Z"
   },
   {
    "duration": 0,
    "start_time": "2023-04-13T04:06:04.283Z"
   },
   {
    "duration": 0,
    "start_time": "2023-04-13T04:06:04.284Z"
   },
   {
    "duration": 0,
    "start_time": "2023-04-13T04:06:04.285Z"
   },
   {
    "duration": 0,
    "start_time": "2023-04-13T04:06:04.286Z"
   },
   {
    "duration": 41,
    "start_time": "2023-04-13T05:10:00.450Z"
   },
   {
    "duration": 64,
    "start_time": "2023-04-13T05:31:15.432Z"
   },
   {
    "duration": 62,
    "start_time": "2023-04-13T05:32:08.751Z"
   },
   {
    "duration": 61,
    "start_time": "2023-04-13T05:32:21.755Z"
   },
   {
    "duration": 84,
    "start_time": "2023-04-13T06:00:00.565Z"
   },
   {
    "duration": 51,
    "start_time": "2023-04-13T06:00:52.998Z"
   },
   {
    "duration": 55,
    "start_time": "2023-04-13T06:01:08.242Z"
   },
   {
    "duration": 46,
    "start_time": "2023-04-13T06:01:34.997Z"
   },
   {
    "duration": 6,
    "start_time": "2023-04-13T07:52:59.653Z"
   },
   {
    "duration": 92,
    "start_time": "2023-04-13T07:54:52.045Z"
   },
   {
    "duration": 67,
    "start_time": "2023-04-13T07:57:05.279Z"
   },
   {
    "duration": 83,
    "start_time": "2023-04-13T07:57:19.453Z"
   },
   {
    "duration": 5,
    "start_time": "2023-04-13T07:58:33.689Z"
   },
   {
    "duration": 6,
    "start_time": "2023-04-13T08:01:03.929Z"
   },
   {
    "duration": 3,
    "start_time": "2023-04-13T08:01:12.355Z"
   },
   {
    "duration": 39,
    "start_time": "2023-04-13T08:04:01.256Z"
   },
   {
    "duration": 53,
    "start_time": "2023-04-13T08:07:25.028Z"
   },
   {
    "duration": 4,
    "start_time": "2023-04-13T08:07:48.930Z"
   },
   {
    "duration": 79,
    "start_time": "2023-04-13T08:07:58.458Z"
   },
   {
    "duration": 5,
    "start_time": "2023-04-13T08:07:58.910Z"
   },
   {
    "duration": 25,
    "start_time": "2023-04-13T08:07:59.144Z"
   },
   {
    "duration": 4,
    "start_time": "2023-04-13T08:07:59.380Z"
   },
   {
    "duration": 47,
    "start_time": "2023-04-13T08:07:59.619Z"
   },
   {
    "duration": 126,
    "start_time": "2023-04-13T08:11:48.832Z"
   },
   {
    "duration": 82,
    "start_time": "2023-04-13T08:11:58.356Z"
   },
   {
    "duration": 5,
    "start_time": "2023-04-13T08:11:58.631Z"
   },
   {
    "duration": 6,
    "start_time": "2023-04-13T08:11:58.855Z"
   },
   {
    "duration": 14,
    "start_time": "2023-04-13T08:11:59.116Z"
   },
   {
    "duration": 46,
    "start_time": "2023-04-13T08:11:59.440Z"
   },
   {
    "duration": 5,
    "start_time": "2023-04-13T08:15:53.980Z"
   },
   {
    "duration": 1450,
    "start_time": "2023-04-13T16:02:05.279Z"
   },
   {
    "duration": 564,
    "start_time": "2023-04-13T16:02:06.731Z"
   },
   {
    "duration": 11,
    "start_time": "2023-04-13T16:02:07.296Z"
   },
   {
    "duration": 64,
    "start_time": "2023-04-13T16:02:07.308Z"
   },
   {
    "duration": 25,
    "start_time": "2023-04-13T16:02:07.374Z"
   },
   {
    "duration": 10,
    "start_time": "2023-04-13T16:02:07.401Z"
   },
   {
    "duration": 69,
    "start_time": "2023-04-13T16:02:07.413Z"
   },
   {
    "duration": 69,
    "start_time": "2023-04-13T16:02:07.484Z"
   },
   {
    "duration": 63,
    "start_time": "2023-04-13T16:02:07.556Z"
   },
   {
    "duration": 77,
    "start_time": "2023-04-13T16:02:07.621Z"
   },
   {
    "duration": 10,
    "start_time": "2023-04-13T16:02:07.699Z"
   },
   {
    "duration": 31,
    "start_time": "2023-04-13T16:02:07.710Z"
   },
   {
    "duration": 21,
    "start_time": "2023-04-13T16:02:07.744Z"
   },
   {
    "duration": 19,
    "start_time": "2023-04-13T16:02:07.766Z"
   },
   {
    "duration": 47,
    "start_time": "2023-04-13T16:02:07.787Z"
   },
   {
    "duration": 32,
    "start_time": "2023-04-13T16:02:07.836Z"
   },
   {
    "duration": 393,
    "start_time": "2023-04-13T16:02:07.869Z"
   },
   {
    "duration": 30,
    "start_time": "2023-04-13T16:02:08.264Z"
   },
   {
    "duration": 8,
    "start_time": "2023-04-13T16:02:08.296Z"
   },
   {
    "duration": 55,
    "start_time": "2023-04-13T16:02:08.305Z"
   },
   {
    "duration": 21,
    "start_time": "2023-04-13T16:02:08.362Z"
   },
   {
    "duration": 217,
    "start_time": "2023-04-13T16:02:08.384Z"
   },
   {
    "duration": 80,
    "start_time": "2023-04-13T16:02:08.603Z"
   },
   {
    "duration": 173,
    "start_time": "2023-04-13T16:02:08.684Z"
   },
   {
    "duration": 38,
    "start_time": "2023-04-13T16:02:08.858Z"
   },
   {
    "duration": 39,
    "start_time": "2023-04-13T16:02:08.897Z"
   },
   {
    "duration": 1288,
    "start_time": "2023-04-13T16:02:08.938Z"
   },
   {
    "duration": 0,
    "start_time": "2023-04-13T16:02:10.228Z"
   },
   {
    "duration": 0,
    "start_time": "2023-04-13T16:02:10.229Z"
   },
   {
    "duration": 0,
    "start_time": "2023-04-13T16:02:10.230Z"
   },
   {
    "duration": 0,
    "start_time": "2023-04-13T16:02:10.231Z"
   },
   {
    "duration": 0,
    "start_time": "2023-04-13T16:02:10.232Z"
   },
   {
    "duration": 0,
    "start_time": "2023-04-13T16:02:10.233Z"
   },
   {
    "duration": 0,
    "start_time": "2023-04-13T16:02:10.234Z"
   },
   {
    "duration": 0,
    "start_time": "2023-04-13T16:02:10.236Z"
   },
   {
    "duration": 0,
    "start_time": "2023-04-13T16:02:10.237Z"
   },
   {
    "duration": 256,
    "start_time": "2023-04-13T16:13:33.400Z"
   },
   {
    "duration": 462,
    "start_time": "2023-04-13T16:13:50.930Z"
   },
   {
    "duration": 379,
    "start_time": "2023-04-13T16:14:19.225Z"
   },
   {
    "duration": 109,
    "start_time": "2023-04-13T16:14:37.955Z"
   },
   {
    "duration": 260,
    "start_time": "2023-04-13T16:15:04.648Z"
   },
   {
    "duration": 226,
    "start_time": "2023-04-13T16:15:32.559Z"
   },
   {
    "duration": 487,
    "start_time": "2023-04-13T16:15:38.956Z"
   },
   {
    "duration": 349,
    "start_time": "2023-04-13T16:15:51.436Z"
   },
   {
    "duration": 11,
    "start_time": "2023-04-13T16:16:33.468Z"
   },
   {
    "duration": 11,
    "start_time": "2023-04-13T16:16:57.827Z"
   },
   {
    "duration": 83,
    "start_time": "2023-04-13T16:34:30.898Z"
   },
   {
    "duration": 42,
    "start_time": "2023-04-17T09:58:05.275Z"
   },
   {
    "duration": 1231,
    "start_time": "2023-04-17T09:58:10.495Z"
   },
   {
    "duration": 957,
    "start_time": "2023-04-17T09:58:11.727Z"
   },
   {
    "duration": 11,
    "start_time": "2023-04-17T09:58:12.686Z"
   },
   {
    "duration": 37,
    "start_time": "2023-04-17T09:58:12.699Z"
   },
   {
    "duration": 11,
    "start_time": "2023-04-17T09:58:12.737Z"
   },
   {
    "duration": 17,
    "start_time": "2023-04-17T09:58:12.749Z"
   },
   {
    "duration": 68,
    "start_time": "2023-04-17T09:58:12.767Z"
   },
   {
    "duration": 49,
    "start_time": "2023-04-17T09:58:12.837Z"
   },
   {
    "duration": 76,
    "start_time": "2023-04-17T09:58:12.887Z"
   },
   {
    "duration": 55,
    "start_time": "2023-04-17T09:58:12.965Z"
   },
   {
    "duration": 19,
    "start_time": "2023-04-17T09:58:13.021Z"
   },
   {
    "duration": 17,
    "start_time": "2023-04-17T09:58:13.042Z"
   },
   {
    "duration": 15,
    "start_time": "2023-04-17T09:58:13.060Z"
   },
   {
    "duration": 17,
    "start_time": "2023-04-17T09:58:13.077Z"
   },
   {
    "duration": 14,
    "start_time": "2023-04-17T09:58:13.095Z"
   },
   {
    "duration": 36,
    "start_time": "2023-04-17T09:58:13.111Z"
   },
   {
    "duration": 329,
    "start_time": "2023-04-17T09:58:13.148Z"
   },
   {
    "duration": 26,
    "start_time": "2023-04-17T09:58:13.479Z"
   },
   {
    "duration": 6,
    "start_time": "2023-04-17T09:58:13.506Z"
   },
   {
    "duration": 40,
    "start_time": "2023-04-17T09:58:13.513Z"
   },
   {
    "duration": 26,
    "start_time": "2023-04-17T09:58:13.555Z"
   },
   {
    "duration": 188,
    "start_time": "2023-04-17T09:58:13.583Z"
   },
   {
    "duration": 63,
    "start_time": "2023-04-17T09:58:13.773Z"
   },
   {
    "duration": 141,
    "start_time": "2023-04-17T09:58:13.838Z"
   },
   {
    "duration": 57,
    "start_time": "2023-04-17T09:58:13.981Z"
   },
   {
    "duration": 6,
    "start_time": "2023-04-17T09:58:14.039Z"
   },
   {
    "duration": 52,
    "start_time": "2023-04-17T09:58:14.046Z"
   },
   {
    "duration": 0,
    "start_time": "2023-04-17T09:58:14.100Z"
   },
   {
    "duration": 0,
    "start_time": "2023-04-17T09:58:14.102Z"
   },
   {
    "duration": 0,
    "start_time": "2023-04-17T09:58:14.103Z"
   },
   {
    "duration": 0,
    "start_time": "2023-04-17T09:58:14.104Z"
   },
   {
    "duration": 0,
    "start_time": "2023-04-17T09:58:14.105Z"
   },
   {
    "duration": 0,
    "start_time": "2023-04-17T09:58:14.106Z"
   },
   {
    "duration": 0,
    "start_time": "2023-04-17T09:58:14.107Z"
   },
   {
    "duration": 0,
    "start_time": "2023-04-17T09:58:14.108Z"
   },
   {
    "duration": 0,
    "start_time": "2023-04-17T09:58:14.109Z"
   },
   {
    "duration": 0,
    "start_time": "2023-04-17T09:58:14.110Z"
   },
   {
    "duration": 45,
    "start_time": "2023-04-17T10:36:34.938Z"
   },
   {
    "duration": 110,
    "start_time": "2023-04-17T10:40:45.581Z"
   },
   {
    "duration": 73,
    "start_time": "2023-04-17T10:59:37.817Z"
   },
   {
    "duration": 4,
    "start_time": "2023-04-17T10:59:50.056Z"
   },
   {
    "duration": 821,
    "start_time": "2023-04-17T11:14:20.539Z"
   },
   {
    "duration": 71,
    "start_time": "2023-04-17T11:14:39.182Z"
   },
   {
    "duration": 74,
    "start_time": "2023-04-17T11:14:45.400Z"
   },
   {
    "duration": 113,
    "start_time": "2023-04-17T11:16:27.572Z"
   },
   {
    "duration": 48,
    "start_time": "2023-04-17T11:17:06.942Z"
   },
   {
    "duration": 84,
    "start_time": "2023-04-17T11:46:56.413Z"
   },
   {
    "duration": 18,
    "start_time": "2023-04-17T11:47:27.018Z"
   },
   {
    "duration": 57,
    "start_time": "2023-04-17T11:47:42.722Z"
   },
   {
    "duration": 7,
    "start_time": "2023-04-17T11:47:53.265Z"
   },
   {
    "duration": 3,
    "start_time": "2023-04-17T11:48:33.212Z"
   },
   {
    "duration": 3,
    "start_time": "2023-04-17T11:48:45.705Z"
   },
   {
    "duration": 3,
    "start_time": "2023-04-17T11:49:33.620Z"
   },
   {
    "duration": 3,
    "start_time": "2023-04-17T11:49:41.611Z"
   },
   {
    "duration": 3,
    "start_time": "2023-04-17T11:49:49.793Z"
   },
   {
    "duration": 9,
    "start_time": "2023-04-17T11:54:04.508Z"
   },
   {
    "duration": 67,
    "start_time": "2023-04-17T11:56:54.812Z"
   },
   {
    "duration": 71,
    "start_time": "2023-04-17T14:18:44.677Z"
   },
   {
    "duration": 189,
    "start_time": "2023-04-17T14:18:55.245Z"
   },
   {
    "duration": 109,
    "start_time": "2023-04-17T14:19:53.990Z"
   },
   {
    "duration": 195,
    "start_time": "2023-04-17T14:20:04.071Z"
   },
   {
    "duration": 82,
    "start_time": "2023-04-17T15:57:22.518Z"
   },
   {
    "duration": 42,
    "start_time": "2023-04-17T15:59:47.519Z"
   },
   {
    "duration": 86,
    "start_time": "2023-04-17T16:00:03.437Z"
   },
   {
    "duration": 5,
    "start_time": "2023-04-17T16:00:14.606Z"
   },
   {
    "duration": 45,
    "start_time": "2023-04-17T16:00:20.492Z"
   },
   {
    "duration": 43,
    "start_time": "2023-04-17T16:00:48.132Z"
   },
   {
    "duration": 2,
    "start_time": "2023-04-17T16:04:29.490Z"
   },
   {
    "duration": 4,
    "start_time": "2023-04-17T16:04:31.941Z"
   },
   {
    "duration": 43,
    "start_time": "2023-04-17T16:05:50.454Z"
   },
   {
    "duration": 5,
    "start_time": "2023-04-17T16:05:57.390Z"
   },
   {
    "duration": 109,
    "start_time": "2023-04-17T16:08:23.198Z"
   },
   {
    "duration": 64,
    "start_time": "2023-04-17T16:10:43.932Z"
   },
   {
    "duration": 45,
    "start_time": "2023-04-17T16:10:51.294Z"
   },
   {
    "duration": 30,
    "start_time": "2023-04-17T16:14:19.652Z"
   },
   {
    "duration": 27,
    "start_time": "2023-04-17T16:14:23.009Z"
   },
   {
    "duration": 5,
    "start_time": "2023-04-17T16:14:25.312Z"
   },
   {
    "duration": 711,
    "start_time": "2023-04-17T16:19:39.470Z"
   },
   {
    "duration": 22,
    "start_time": "2023-04-17T16:19:51.086Z"
   },
   {
    "duration": 12,
    "start_time": "2023-04-17T16:20:42.903Z"
   },
   {
    "duration": 13,
    "start_time": "2023-04-17T16:21:15.961Z"
   },
   {
    "duration": 23,
    "start_time": "2023-04-17T16:21:26.581Z"
   },
   {
    "duration": 17,
    "start_time": "2023-04-17T16:28:46.174Z"
   },
   {
    "duration": 3,
    "start_time": "2023-04-17T16:28:50.418Z"
   },
   {
    "duration": 73,
    "start_time": "2023-04-17T16:31:36.830Z"
   },
   {
    "duration": 5,
    "start_time": "2023-04-17T16:31:36.905Z"
   },
   {
    "duration": 52,
    "start_time": "2023-04-17T16:33:41.116Z"
   },
   {
    "duration": 39,
    "start_time": "2023-04-17T16:34:01.273Z"
   },
   {
    "duration": 77,
    "start_time": "2023-04-17T16:36:18.073Z"
   },
   {
    "duration": 26,
    "start_time": "2023-04-17T16:36:29.617Z"
   },
   {
    "duration": 1281,
    "start_time": "2023-04-17T16:36:50.766Z"
   },
   {
    "duration": 485,
    "start_time": "2023-04-17T16:36:52.049Z"
   },
   {
    "duration": 11,
    "start_time": "2023-04-17T16:36:52.536Z"
   },
   {
    "duration": 18,
    "start_time": "2023-04-17T16:36:52.549Z"
   },
   {
    "duration": 11,
    "start_time": "2023-04-17T16:36:52.568Z"
   },
   {
    "duration": 8,
    "start_time": "2023-04-17T16:36:52.580Z"
   },
   {
    "duration": 81,
    "start_time": "2023-04-17T16:36:52.590Z"
   },
   {
    "duration": 50,
    "start_time": "2023-04-17T16:36:52.672Z"
   },
   {
    "duration": 69,
    "start_time": "2023-04-17T16:36:52.724Z"
   },
   {
    "duration": 72,
    "start_time": "2023-04-17T16:36:52.794Z"
   },
   {
    "duration": 9,
    "start_time": "2023-04-17T16:36:52.869Z"
   },
   {
    "duration": 11,
    "start_time": "2023-04-17T16:36:52.880Z"
   },
   {
    "duration": 6,
    "start_time": "2023-04-17T16:36:52.893Z"
   },
   {
    "duration": 52,
    "start_time": "2023-04-17T16:36:52.903Z"
   },
   {
    "duration": 17,
    "start_time": "2023-04-17T16:36:52.957Z"
   },
   {
    "duration": 20,
    "start_time": "2023-04-17T16:36:52.975Z"
   },
   {
    "duration": 352,
    "start_time": "2023-04-17T16:36:52.997Z"
   },
   {
    "duration": 28,
    "start_time": "2023-04-17T16:36:53.350Z"
   },
   {
    "duration": 5,
    "start_time": "2023-04-17T16:36:53.380Z"
   },
   {
    "duration": 17,
    "start_time": "2023-04-17T16:36:53.387Z"
   },
   {
    "duration": 38,
    "start_time": "2023-04-17T16:36:53.406Z"
   },
   {
    "duration": 190,
    "start_time": "2023-04-17T16:36:53.446Z"
   },
   {
    "duration": 58,
    "start_time": "2023-04-17T16:36:53.638Z"
   },
   {
    "duration": 157,
    "start_time": "2023-04-17T16:36:53.697Z"
   },
   {
    "duration": 36,
    "start_time": "2023-04-17T16:36:53.856Z"
   },
   {
    "duration": 5,
    "start_time": "2023-04-17T16:36:53.893Z"
   },
   {
    "duration": 35,
    "start_time": "2023-04-17T16:36:53.937Z"
   },
   {
    "duration": 2,
    "start_time": "2023-04-17T16:36:53.974Z"
   },
   {
    "duration": 86,
    "start_time": "2023-04-17T16:36:53.977Z"
   },
   {
    "duration": 6,
    "start_time": "2023-04-17T16:36:54.064Z"
   },
   {
    "duration": 6,
    "start_time": "2023-04-17T16:36:54.072Z"
   },
   {
    "duration": 26,
    "start_time": "2023-04-17T16:36:54.079Z"
   },
   {
    "duration": 33,
    "start_time": "2023-04-17T16:36:54.106Z"
   },
   {
    "duration": 106,
    "start_time": "2023-04-17T16:36:54.140Z"
   },
   {
    "duration": 0,
    "start_time": "2023-04-17T16:36:54.248Z"
   },
   {
    "duration": 0,
    "start_time": "2023-04-17T16:36:54.249Z"
   },
   {
    "duration": 0,
    "start_time": "2023-04-17T16:36:54.251Z"
   },
   {
    "duration": 0,
    "start_time": "2023-04-17T16:36:54.252Z"
   },
   {
    "duration": 0,
    "start_time": "2023-04-17T16:36:54.253Z"
   },
   {
    "duration": 0,
    "start_time": "2023-04-17T16:36:54.254Z"
   },
   {
    "duration": 0,
    "start_time": "2023-04-17T16:36:54.255Z"
   },
   {
    "duration": 0,
    "start_time": "2023-04-17T16:36:54.256Z"
   },
   {
    "duration": 0,
    "start_time": "2023-04-17T16:36:54.258Z"
   },
   {
    "duration": 0,
    "start_time": "2023-04-17T16:36:54.259Z"
   },
   {
    "duration": 0,
    "start_time": "2023-04-17T16:36:54.260Z"
   },
   {
    "duration": 0,
    "start_time": "2023-04-17T16:36:54.261Z"
   },
   {
    "duration": 0,
    "start_time": "2023-04-17T16:36:54.262Z"
   },
   {
    "duration": 0,
    "start_time": "2023-04-17T16:36:54.263Z"
   },
   {
    "duration": 0,
    "start_time": "2023-04-17T16:36:54.264Z"
   },
   {
    "duration": 0,
    "start_time": "2023-04-17T16:36:54.265Z"
   },
   {
    "duration": 0,
    "start_time": "2023-04-17T16:36:54.266Z"
   },
   {
    "duration": 0,
    "start_time": "2023-04-17T16:36:54.267Z"
   },
   {
    "duration": 0,
    "start_time": "2023-04-17T16:36:54.268Z"
   },
   {
    "duration": 9,
    "start_time": "2023-04-17T16:39:09.371Z"
   },
   {
    "duration": 73,
    "start_time": "2023-04-17T16:39:19.274Z"
   },
   {
    "duration": 30,
    "start_time": "2023-04-17T16:39:42.208Z"
   },
   {
    "duration": 0,
    "start_time": "2023-04-17T16:39:42.240Z"
   },
   {
    "duration": 29,
    "start_time": "2023-04-17T16:40:39.309Z"
   },
   {
    "duration": 43,
    "start_time": "2023-04-17T16:41:09.608Z"
   },
   {
    "duration": 0,
    "start_time": "2023-04-17T16:41:32.360Z"
   },
   {
    "duration": 0,
    "start_time": "2023-04-17T16:41:39.784Z"
   },
   {
    "duration": 27,
    "start_time": "2023-04-17T16:41:41.920Z"
   },
   {
    "duration": 67,
    "start_time": "2023-04-17T16:42:48.311Z"
   },
   {
    "duration": 0,
    "start_time": "2023-04-17T16:42:48.404Z"
   },
   {
    "duration": 26,
    "start_time": "2023-04-17T16:42:54.076Z"
   },
   {
    "duration": 4,
    "start_time": "2023-04-17T16:42:56.907Z"
   },
   {
    "duration": 3,
    "start_time": "2023-04-17T16:43:23.387Z"
   },
   {
    "duration": 21,
    "start_time": "2023-04-17T16:44:12.207Z"
   },
   {
    "duration": 19,
    "start_time": "2023-04-17T16:44:24.309Z"
   },
   {
    "duration": 18,
    "start_time": "2023-04-17T16:44:38.907Z"
   },
   {
    "duration": 18,
    "start_time": "2023-04-17T16:44:42.077Z"
   },
   {
    "duration": 18,
    "start_time": "2023-04-17T16:44:45.509Z"
   },
   {
    "duration": 88,
    "start_time": "2023-04-17T16:46:16.193Z"
   },
   {
    "duration": 27,
    "start_time": "2023-04-17T16:46:27.907Z"
   },
   {
    "duration": 30,
    "start_time": "2023-04-17T16:46:40.203Z"
   },
   {
    "duration": 54,
    "start_time": "2023-04-17T16:48:49.610Z"
   },
   {
    "duration": 37,
    "start_time": "2023-04-17T16:56:00.100Z"
   },
   {
    "duration": 4,
    "start_time": "2023-04-17T16:56:22.597Z"
   },
   {
    "duration": 44,
    "start_time": "2023-04-18T09:18:40.622Z"
   },
   {
    "duration": 1254,
    "start_time": "2023-04-18T09:18:57.470Z"
   },
   {
    "duration": 674,
    "start_time": "2023-04-18T09:18:58.726Z"
   },
   {
    "duration": 11,
    "start_time": "2023-04-18T09:18:59.401Z"
   },
   {
    "duration": 22,
    "start_time": "2023-04-18T09:18:59.414Z"
   },
   {
    "duration": 12,
    "start_time": "2023-04-18T09:18:59.438Z"
   },
   {
    "duration": 9,
    "start_time": "2023-04-18T09:18:59.451Z"
   },
   {
    "duration": 65,
    "start_time": "2023-04-18T09:18:59.461Z"
   },
   {
    "duration": 51,
    "start_time": "2023-04-18T09:18:59.537Z"
   },
   {
    "duration": 72,
    "start_time": "2023-04-18T09:18:59.589Z"
   },
   {
    "duration": 55,
    "start_time": "2023-04-18T09:18:59.663Z"
   },
   {
    "duration": 18,
    "start_time": "2023-04-18T09:18:59.719Z"
   },
   {
    "duration": 10,
    "start_time": "2023-04-18T09:18:59.738Z"
   },
   {
    "duration": 12,
    "start_time": "2023-04-18T09:18:59.750Z"
   },
   {
    "duration": 17,
    "start_time": "2023-04-18T09:18:59.763Z"
   },
   {
    "duration": 14,
    "start_time": "2023-04-18T09:18:59.781Z"
   },
   {
    "duration": 16,
    "start_time": "2023-04-18T09:18:59.796Z"
   },
   {
    "duration": 359,
    "start_time": "2023-04-18T09:18:59.813Z"
   },
   {
    "duration": 36,
    "start_time": "2023-04-18T09:19:00.174Z"
   },
   {
    "duration": 29,
    "start_time": "2023-04-18T09:19:00.211Z"
   },
   {
    "duration": 76,
    "start_time": "2023-04-18T09:19:00.241Z"
   },
   {
    "duration": 35,
    "start_time": "2023-04-18T09:19:00.319Z"
   },
   {
    "duration": 196,
    "start_time": "2023-04-18T09:19:00.356Z"
   },
   {
    "duration": 63,
    "start_time": "2023-04-18T09:19:00.554Z"
   },
   {
    "duration": 148,
    "start_time": "2023-04-18T09:19:00.618Z"
   },
   {
    "duration": 70,
    "start_time": "2023-04-18T09:19:00.768Z"
   },
   {
    "duration": 37,
    "start_time": "2023-04-18T09:19:00.840Z"
   },
   {
    "duration": 60,
    "start_time": "2023-04-18T09:19:00.879Z"
   },
   {
    "duration": 6,
    "start_time": "2023-04-18T09:19:00.943Z"
   },
   {
    "duration": 27,
    "start_time": "2023-04-18T09:19:00.951Z"
   },
   {
    "duration": 50,
    "start_time": "2023-04-18T09:19:00.980Z"
   },
   {
    "duration": 17,
    "start_time": "2023-04-18T09:19:01.031Z"
   },
   {
    "duration": 109,
    "start_time": "2023-04-18T09:19:01.050Z"
   },
   {
    "duration": 0,
    "start_time": "2023-04-18T09:19:01.160Z"
   },
   {
    "duration": 0,
    "start_time": "2023-04-18T09:19:01.161Z"
   },
   {
    "duration": 0,
    "start_time": "2023-04-18T09:19:01.162Z"
   },
   {
    "duration": 0,
    "start_time": "2023-04-18T09:19:01.163Z"
   },
   {
    "duration": 0,
    "start_time": "2023-04-18T09:19:01.164Z"
   },
   {
    "duration": 0,
    "start_time": "2023-04-18T09:19:01.165Z"
   },
   {
    "duration": 0,
    "start_time": "2023-04-18T09:19:01.167Z"
   },
   {
    "duration": 1,
    "start_time": "2023-04-18T09:19:01.167Z"
   },
   {
    "duration": 0,
    "start_time": "2023-04-18T09:19:01.168Z"
   },
   {
    "duration": 0,
    "start_time": "2023-04-18T09:19:01.169Z"
   },
   {
    "duration": 0,
    "start_time": "2023-04-18T09:19:01.170Z"
   },
   {
    "duration": 0,
    "start_time": "2023-04-18T09:19:01.171Z"
   },
   {
    "duration": 0,
    "start_time": "2023-04-18T09:19:01.172Z"
   },
   {
    "duration": 0,
    "start_time": "2023-04-18T09:19:01.173Z"
   },
   {
    "duration": 0,
    "start_time": "2023-04-18T09:19:01.173Z"
   },
   {
    "duration": 0,
    "start_time": "2023-04-18T09:19:01.174Z"
   },
   {
    "duration": 0,
    "start_time": "2023-04-18T09:19:01.175Z"
   },
   {
    "duration": 0,
    "start_time": "2023-04-18T09:19:01.176Z"
   },
   {
    "duration": 0,
    "start_time": "2023-04-18T09:19:01.177Z"
   },
   {
    "duration": 0,
    "start_time": "2023-04-18T09:19:01.178Z"
   },
   {
    "duration": 0,
    "start_time": "2023-04-18T09:19:01.178Z"
   },
   {
    "duration": 0,
    "start_time": "2023-04-18T09:19:01.179Z"
   },
   {
    "duration": 0,
    "start_time": "2023-04-18T09:19:01.180Z"
   },
   {
    "duration": 0,
    "start_time": "2023-04-18T09:19:01.181Z"
   },
   {
    "duration": 0,
    "start_time": "2023-04-18T09:19:01.182Z"
   },
   {
    "duration": 0,
    "start_time": "2023-04-18T09:19:01.183Z"
   },
   {
    "duration": 25,
    "start_time": "2023-04-18T09:23:58.822Z"
   },
   {
    "duration": 25,
    "start_time": "2023-04-18T09:24:04.068Z"
   },
   {
    "duration": 28,
    "start_time": "2023-04-18T09:24:06.081Z"
   },
   {
    "duration": 29,
    "start_time": "2023-04-18T09:24:15.072Z"
   },
   {
    "duration": 79,
    "start_time": "2023-04-18T09:27:55.722Z"
   },
   {
    "duration": 68,
    "start_time": "2023-04-18T09:29:20.722Z"
   },
   {
    "duration": 19,
    "start_time": "2023-04-18T09:33:46.760Z"
   },
   {
    "duration": 38,
    "start_time": "2023-04-18T09:40:30.885Z"
   },
   {
    "duration": 28,
    "start_time": "2023-04-18T09:41:08.426Z"
   },
   {
    "duration": 32,
    "start_time": "2023-04-18T09:41:13.414Z"
   },
   {
    "duration": 35,
    "start_time": "2023-04-18T09:41:57.426Z"
   },
   {
    "duration": 8,
    "start_time": "2023-04-18T09:42:19.826Z"
   },
   {
    "duration": 9,
    "start_time": "2023-04-18T09:43:22.219Z"
   },
   {
    "duration": 8,
    "start_time": "2023-04-18T09:43:25.836Z"
   },
   {
    "duration": 24,
    "start_time": "2023-04-18T09:47:41.922Z"
   },
   {
    "duration": 4,
    "start_time": "2023-04-18T09:49:08.970Z"
   },
   {
    "duration": 3,
    "start_time": "2023-04-18T09:51:46.554Z"
   },
   {
    "duration": 4,
    "start_time": "2023-04-18T09:51:53.558Z"
   },
   {
    "duration": 54,
    "start_time": "2023-04-18T09:53:54.033Z"
   },
   {
    "duration": 11,
    "start_time": "2023-04-18T09:54:22.971Z"
   },
   {
    "duration": 1268,
    "start_time": "2023-04-18T09:54:32.327Z"
   },
   {
    "duration": 148,
    "start_time": "2023-04-18T09:54:33.597Z"
   },
   {
    "duration": 11,
    "start_time": "2023-04-18T09:54:33.747Z"
   },
   {
    "duration": 19,
    "start_time": "2023-04-18T09:54:33.759Z"
   },
   {
    "duration": 11,
    "start_time": "2023-04-18T09:54:33.780Z"
   },
   {
    "duration": 8,
    "start_time": "2023-04-18T09:54:33.792Z"
   },
   {
    "duration": 86,
    "start_time": "2023-04-18T09:54:33.802Z"
   },
   {
    "duration": 64,
    "start_time": "2023-04-18T09:54:33.889Z"
   },
   {
    "duration": 62,
    "start_time": "2023-04-18T09:54:33.955Z"
   },
   {
    "duration": 71,
    "start_time": "2023-04-18T09:54:34.019Z"
   },
   {
    "duration": 8,
    "start_time": "2023-04-18T09:54:34.091Z"
   },
   {
    "duration": 15,
    "start_time": "2023-04-18T09:54:34.100Z"
   },
   {
    "duration": 21,
    "start_time": "2023-04-18T09:54:34.117Z"
   },
   {
    "duration": 16,
    "start_time": "2023-04-18T09:54:34.140Z"
   },
   {
    "duration": 13,
    "start_time": "2023-04-18T09:54:34.158Z"
   },
   {
    "duration": 39,
    "start_time": "2023-04-18T09:54:34.172Z"
   },
   {
    "duration": 376,
    "start_time": "2023-04-18T09:54:34.212Z"
   },
   {
    "duration": 31,
    "start_time": "2023-04-18T09:54:34.589Z"
   },
   {
    "duration": 20,
    "start_time": "2023-04-18T09:54:34.621Z"
   },
   {
    "duration": 29,
    "start_time": "2023-04-18T09:54:34.642Z"
   },
   {
    "duration": 18,
    "start_time": "2023-04-18T09:54:34.673Z"
   },
   {
    "duration": 214,
    "start_time": "2023-04-18T09:54:34.692Z"
   },
   {
    "duration": 75,
    "start_time": "2023-04-18T09:54:34.907Z"
   },
   {
    "duration": 137,
    "start_time": "2023-04-18T09:54:34.984Z"
   },
   {
    "duration": 38,
    "start_time": "2023-04-18T09:54:35.124Z"
   },
   {
    "duration": 86,
    "start_time": "2023-04-18T09:54:35.164Z"
   },
   {
    "duration": 86,
    "start_time": "2023-04-18T09:54:35.252Z"
   },
   {
    "duration": 4,
    "start_time": "2023-04-18T09:54:35.340Z"
   },
   {
    "duration": 20,
    "start_time": "2023-04-18T09:54:35.345Z"
   },
   {
    "duration": 121,
    "start_time": "2023-04-18T09:54:35.367Z"
   },
   {
    "duration": 0,
    "start_time": "2023-04-18T09:54:35.490Z"
   },
   {
    "duration": 0,
    "start_time": "2023-04-18T09:54:35.491Z"
   },
   {
    "duration": 0,
    "start_time": "2023-04-18T09:54:35.492Z"
   },
   {
    "duration": 0,
    "start_time": "2023-04-18T09:54:35.493Z"
   },
   {
    "duration": 0,
    "start_time": "2023-04-18T09:54:35.495Z"
   },
   {
    "duration": 0,
    "start_time": "2023-04-18T09:54:35.496Z"
   },
   {
    "duration": 0,
    "start_time": "2023-04-18T09:54:35.497Z"
   },
   {
    "duration": 0,
    "start_time": "2023-04-18T09:54:35.498Z"
   },
   {
    "duration": 0,
    "start_time": "2023-04-18T09:54:35.499Z"
   },
   {
    "duration": 0,
    "start_time": "2023-04-18T09:54:35.500Z"
   },
   {
    "duration": 0,
    "start_time": "2023-04-18T09:54:35.501Z"
   },
   {
    "duration": 0,
    "start_time": "2023-04-18T09:54:35.503Z"
   },
   {
    "duration": 0,
    "start_time": "2023-04-18T09:54:35.503Z"
   },
   {
    "duration": 0,
    "start_time": "2023-04-18T09:54:35.504Z"
   },
   {
    "duration": 0,
    "start_time": "2023-04-18T09:54:35.506Z"
   },
   {
    "duration": 0,
    "start_time": "2023-04-18T09:54:35.507Z"
   },
   {
    "duration": 0,
    "start_time": "2023-04-18T09:54:35.508Z"
   },
   {
    "duration": 0,
    "start_time": "2023-04-18T09:54:35.536Z"
   },
   {
    "duration": 0,
    "start_time": "2023-04-18T09:54:35.537Z"
   },
   {
    "duration": 0,
    "start_time": "2023-04-18T09:54:35.538Z"
   },
   {
    "duration": 0,
    "start_time": "2023-04-18T09:54:35.539Z"
   },
   {
    "duration": 0,
    "start_time": "2023-04-18T09:54:35.540Z"
   },
   {
    "duration": 0,
    "start_time": "2023-04-18T09:54:35.541Z"
   },
   {
    "duration": 0,
    "start_time": "2023-04-18T09:54:35.542Z"
   },
   {
    "duration": 0,
    "start_time": "2023-04-18T09:54:35.543Z"
   },
   {
    "duration": 0,
    "start_time": "2023-04-18T09:54:35.544Z"
   },
   {
    "duration": 4,
    "start_time": "2023-04-18T09:55:07.914Z"
   },
   {
    "duration": 6,
    "start_time": "2023-04-18T09:55:13.637Z"
   },
   {
    "duration": 74,
    "start_time": "2023-04-18T10:03:34.979Z"
   },
   {
    "duration": 842,
    "start_time": "2023-04-18T10:04:23.559Z"
   },
   {
    "duration": 79,
    "start_time": "2023-04-18T10:06:17.426Z"
   },
   {
    "duration": 63,
    "start_time": "2023-04-18T10:09:41.567Z"
   },
   {
    "duration": 73,
    "start_time": "2023-04-18T10:09:58.783Z"
   },
   {
    "duration": 5,
    "start_time": "2023-04-18T10:12:02.551Z"
   },
   {
    "duration": 4,
    "start_time": "2023-04-18T10:12:06.752Z"
   },
   {
    "duration": 13,
    "start_time": "2023-04-18T10:12:20.453Z"
   },
   {
    "duration": 14,
    "start_time": "2023-04-18T10:12:35.917Z"
   },
   {
    "duration": 10,
    "start_time": "2023-04-18T10:31:05.014Z"
   },
   {
    "duration": 10,
    "start_time": "2023-04-18T10:33:53.176Z"
   },
   {
    "duration": 19,
    "start_time": "2023-04-18T10:35:55.470Z"
   },
   {
    "duration": 771,
    "start_time": "2023-04-18T10:36:51.530Z"
   },
   {
    "duration": 9,
    "start_time": "2023-04-18T11:09:51.273Z"
   },
   {
    "duration": 903,
    "start_time": "2023-04-18T12:51:04.166Z"
   },
   {
    "duration": 21,
    "start_time": "2023-04-18T12:53:08.762Z"
   },
   {
    "duration": 20,
    "start_time": "2023-04-18T12:53:16.425Z"
   },
   {
    "duration": 22,
    "start_time": "2023-04-18T12:54:54.451Z"
   },
   {
    "duration": 8,
    "start_time": "2023-04-18T13:01:31.523Z"
   },
   {
    "duration": 5,
    "start_time": "2023-04-18T13:01:37.559Z"
   },
   {
    "duration": 20,
    "start_time": "2023-04-18T13:01:39.323Z"
   },
   {
    "duration": 3,
    "start_time": "2023-04-18T13:01:40.868Z"
   },
   {
    "duration": 16,
    "start_time": "2023-04-18T13:08:15.332Z"
   },
   {
    "duration": 11,
    "start_time": "2023-04-18T13:11:04.932Z"
   },
   {
    "duration": 16,
    "start_time": "2023-04-18T13:11:09.004Z"
   },
   {
    "duration": 3,
    "start_time": "2023-04-18T13:11:13.317Z"
   },
   {
    "duration": 7,
    "start_time": "2023-04-18T13:11:15.775Z"
   },
   {
    "duration": 4,
    "start_time": "2023-04-18T13:13:59.474Z"
   },
   {
    "duration": 10,
    "start_time": "2023-04-18T13:14:21.047Z"
   },
   {
    "duration": 97,
    "start_time": "2023-04-18T13:31:36.992Z"
   },
   {
    "duration": 5,
    "start_time": "2023-04-18T13:32:00.812Z"
   },
   {
    "duration": 9,
    "start_time": "2023-04-18T13:32:10.712Z"
   },
   {
    "duration": 64,
    "start_time": "2023-04-18T13:36:04.603Z"
   },
   {
    "duration": 8,
    "start_time": "2023-04-18T13:36:49.608Z"
   },
   {
    "duration": 88,
    "start_time": "2023-04-18T13:37:54.906Z"
   },
   {
    "duration": 5,
    "start_time": "2023-04-18T13:38:45.289Z"
   },
   {
    "duration": 19,
    "start_time": "2023-04-18T13:38:45.296Z"
   },
   {
    "duration": 1192,
    "start_time": "2023-04-18T13:39:01.709Z"
   },
   {
    "duration": 165,
    "start_time": "2023-04-18T13:39:02.903Z"
   },
   {
    "duration": 10,
    "start_time": "2023-04-18T13:39:03.070Z"
   },
   {
    "duration": 21,
    "start_time": "2023-04-18T13:39:03.082Z"
   },
   {
    "duration": 12,
    "start_time": "2023-04-18T13:39:03.106Z"
   },
   {
    "duration": 28,
    "start_time": "2023-04-18T13:39:03.119Z"
   },
   {
    "duration": 62,
    "start_time": "2023-04-18T13:39:03.148Z"
   },
   {
    "duration": 73,
    "start_time": "2023-04-18T13:39:03.211Z"
   },
   {
    "duration": 66,
    "start_time": "2023-04-18T13:39:03.286Z"
   },
   {
    "duration": 59,
    "start_time": "2023-04-18T13:39:03.354Z"
   },
   {
    "duration": 28,
    "start_time": "2023-04-18T13:39:03.415Z"
   },
   {
    "duration": 15,
    "start_time": "2023-04-18T13:39:03.444Z"
   },
   {
    "duration": 9,
    "start_time": "2023-04-18T13:39:03.461Z"
   },
   {
    "duration": 14,
    "start_time": "2023-04-18T13:39:03.473Z"
   },
   {
    "duration": 13,
    "start_time": "2023-04-18T13:39:03.488Z"
   },
   {
    "duration": 23,
    "start_time": "2023-04-18T13:39:03.502Z"
   },
   {
    "duration": 366,
    "start_time": "2023-04-18T13:39:03.526Z"
   },
   {
    "duration": 30,
    "start_time": "2023-04-18T13:39:03.894Z"
   },
   {
    "duration": 8,
    "start_time": "2023-04-18T13:39:03.937Z"
   },
   {
    "duration": 22,
    "start_time": "2023-04-18T13:39:03.946Z"
   },
   {
    "duration": 14,
    "start_time": "2023-04-18T13:39:03.969Z"
   },
   {
    "duration": 202,
    "start_time": "2023-04-18T13:39:03.985Z"
   },
   {
    "duration": 63,
    "start_time": "2023-04-18T13:39:04.189Z"
   },
   {
    "duration": 141,
    "start_time": "2023-04-18T13:39:04.253Z"
   },
   {
    "duration": 73,
    "start_time": "2023-04-18T13:39:04.397Z"
   },
   {
    "duration": 71,
    "start_time": "2023-04-18T13:39:04.472Z"
   },
   {
    "duration": 76,
    "start_time": "2023-04-18T13:39:04.545Z"
   },
   {
    "duration": 80,
    "start_time": "2023-04-18T13:39:04.643Z"
   },
   {
    "duration": 4,
    "start_time": "2023-04-18T13:39:04.724Z"
   },
   {
    "duration": 1051,
    "start_time": "2023-04-18T13:39:04.729Z"
   },
   {
    "duration": 0,
    "start_time": "2023-04-18T13:39:05.782Z"
   },
   {
    "duration": 0,
    "start_time": "2023-04-18T13:39:05.783Z"
   },
   {
    "duration": 0,
    "start_time": "2023-04-18T13:39:05.784Z"
   },
   {
    "duration": 0,
    "start_time": "2023-04-18T13:39:05.785Z"
   },
   {
    "duration": 0,
    "start_time": "2023-04-18T13:39:05.786Z"
   },
   {
    "duration": 0,
    "start_time": "2023-04-18T13:39:05.787Z"
   },
   {
    "duration": 0,
    "start_time": "2023-04-18T13:39:05.789Z"
   },
   {
    "duration": 0,
    "start_time": "2023-04-18T13:39:05.790Z"
   },
   {
    "duration": 0,
    "start_time": "2023-04-18T13:39:05.791Z"
   },
   {
    "duration": 0,
    "start_time": "2023-04-18T13:39:05.792Z"
   },
   {
    "duration": 0,
    "start_time": "2023-04-18T13:39:05.793Z"
   },
   {
    "duration": 0,
    "start_time": "2023-04-18T13:39:05.794Z"
   },
   {
    "duration": 0,
    "start_time": "2023-04-18T13:39:05.795Z"
   },
   {
    "duration": 0,
    "start_time": "2023-04-18T13:39:05.796Z"
   },
   {
    "duration": 0,
    "start_time": "2023-04-18T13:39:05.797Z"
   },
   {
    "duration": 0,
    "start_time": "2023-04-18T13:39:05.798Z"
   },
   {
    "duration": 0,
    "start_time": "2023-04-18T13:39:05.798Z"
   },
   {
    "duration": 0,
    "start_time": "2023-04-18T13:39:05.799Z"
   },
   {
    "duration": 0,
    "start_time": "2023-04-18T13:39:05.800Z"
   },
   {
    "duration": 0,
    "start_time": "2023-04-18T13:39:05.801Z"
   },
   {
    "duration": 0,
    "start_time": "2023-04-18T13:39:05.802Z"
   },
   {
    "duration": 0,
    "start_time": "2023-04-18T13:39:05.803Z"
   },
   {
    "duration": 4,
    "start_time": "2023-04-18T13:40:52.417Z"
   },
   {
    "duration": 10,
    "start_time": "2023-04-18T13:41:06.835Z"
   },
   {
    "duration": 13,
    "start_time": "2023-04-18T13:42:12.210Z"
   },
   {
    "duration": 5,
    "start_time": "2023-04-18T13:42:25.592Z"
   },
   {
    "duration": 11,
    "start_time": "2023-04-18T13:42:55.062Z"
   },
   {
    "duration": 1106,
    "start_time": "2023-04-18T13:51:02.576Z"
   },
   {
    "duration": 137,
    "start_time": "2023-04-18T13:51:03.684Z"
   },
   {
    "duration": 14,
    "start_time": "2023-04-18T13:51:03.823Z"
   },
   {
    "duration": 17,
    "start_time": "2023-04-18T13:51:03.839Z"
   },
   {
    "duration": 11,
    "start_time": "2023-04-18T13:51:03.857Z"
   },
   {
    "duration": 9,
    "start_time": "2023-04-18T13:51:03.870Z"
   },
   {
    "duration": 83,
    "start_time": "2023-04-18T13:51:03.880Z"
   },
   {
    "duration": 54,
    "start_time": "2023-04-18T13:51:03.965Z"
   },
   {
    "duration": 70,
    "start_time": "2023-04-18T13:51:04.021Z"
   },
   {
    "duration": 66,
    "start_time": "2023-04-18T13:51:04.092Z"
   },
   {
    "duration": 29,
    "start_time": "2023-04-18T13:51:04.160Z"
   },
   {
    "duration": 26,
    "start_time": "2023-04-18T13:51:04.190Z"
   },
   {
    "duration": 51,
    "start_time": "2023-04-18T13:51:04.218Z"
   },
   {
    "duration": 48,
    "start_time": "2023-04-18T13:51:04.271Z"
   },
   {
    "duration": 32,
    "start_time": "2023-04-18T13:51:04.320Z"
   },
   {
    "duration": 23,
    "start_time": "2023-04-18T13:51:04.353Z"
   },
   {
    "duration": 333,
    "start_time": "2023-04-18T13:51:04.378Z"
   },
   {
    "duration": 41,
    "start_time": "2023-04-18T13:51:04.713Z"
   },
   {
    "duration": 7,
    "start_time": "2023-04-18T13:51:04.756Z"
   },
   {
    "duration": 30,
    "start_time": "2023-04-18T13:51:04.764Z"
   },
   {
    "duration": 22,
    "start_time": "2023-04-18T13:51:04.796Z"
   },
   {
    "duration": 187,
    "start_time": "2023-04-18T13:51:04.820Z"
   },
   {
    "duration": 58,
    "start_time": "2023-04-18T13:51:05.009Z"
   },
   {
    "duration": 141,
    "start_time": "2023-04-18T13:51:05.069Z"
   },
   {
    "duration": 34,
    "start_time": "2023-04-18T13:51:05.212Z"
   },
   {
    "duration": 29,
    "start_time": "2023-04-18T13:51:05.248Z"
   },
   {
    "duration": 158,
    "start_time": "2023-04-18T13:51:05.279Z"
   },
   {
    "duration": 76,
    "start_time": "2023-04-18T13:51:05.439Z"
   },
   {
    "duration": 4,
    "start_time": "2023-04-18T13:51:05.517Z"
   },
   {
    "duration": 18,
    "start_time": "2023-04-18T13:51:05.522Z"
   },
   {
    "duration": 6,
    "start_time": "2023-04-18T13:51:05.542Z"
   },
   {
    "duration": 6,
    "start_time": "2023-04-18T13:51:05.549Z"
   },
   {
    "duration": 665,
    "start_time": "2023-04-18T13:51:05.556Z"
   },
   {
    "duration": 0,
    "start_time": "2023-04-18T13:51:06.223Z"
   },
   {
    "duration": 0,
    "start_time": "2023-04-18T13:51:06.225Z"
   },
   {
    "duration": 0,
    "start_time": "2023-04-18T13:51:06.226Z"
   },
   {
    "duration": 0,
    "start_time": "2023-04-18T13:51:06.228Z"
   },
   {
    "duration": 0,
    "start_time": "2023-04-18T13:51:06.229Z"
   },
   {
    "duration": 0,
    "start_time": "2023-04-18T13:51:06.230Z"
   },
   {
    "duration": 0,
    "start_time": "2023-04-18T13:51:06.231Z"
   },
   {
    "duration": 0,
    "start_time": "2023-04-18T13:51:06.232Z"
   },
   {
    "duration": 0,
    "start_time": "2023-04-18T13:51:06.233Z"
   },
   {
    "duration": 0,
    "start_time": "2023-04-18T13:51:06.235Z"
   },
   {
    "duration": 0,
    "start_time": "2023-04-18T13:51:06.235Z"
   },
   {
    "duration": 0,
    "start_time": "2023-04-18T13:51:06.236Z"
   },
   {
    "duration": 0,
    "start_time": "2023-04-18T13:51:06.237Z"
   },
   {
    "duration": 0,
    "start_time": "2023-04-18T13:51:06.238Z"
   },
   {
    "duration": 0,
    "start_time": "2023-04-18T13:51:06.239Z"
   },
   {
    "duration": 0,
    "start_time": "2023-04-18T13:51:06.240Z"
   },
   {
    "duration": 0,
    "start_time": "2023-04-18T13:51:06.241Z"
   },
   {
    "duration": 0,
    "start_time": "2023-04-18T13:51:06.242Z"
   },
   {
    "duration": 0,
    "start_time": "2023-04-18T13:51:06.243Z"
   },
   {
    "duration": 0,
    "start_time": "2023-04-18T13:51:06.244Z"
   },
   {
    "duration": 9,
    "start_time": "2023-04-18T13:51:35.052Z"
   },
   {
    "duration": 0,
    "start_time": "2023-04-18T13:51:48.398Z"
   },
   {
    "duration": 9,
    "start_time": "2023-04-18T13:52:02.093Z"
   },
   {
    "duration": 8,
    "start_time": "2023-04-18T13:52:30.089Z"
   },
   {
    "duration": 9,
    "start_time": "2023-04-18T13:52:55.387Z"
   },
   {
    "duration": 9,
    "start_time": "2023-04-18T13:53:03.585Z"
   },
   {
    "duration": 4,
    "start_time": "2023-04-18T13:53:25.451Z"
   },
   {
    "duration": 714,
    "start_time": "2023-04-18T14:13:42.145Z"
   },
   {
    "duration": 690,
    "start_time": "2023-04-18T14:28:12.414Z"
   },
   {
    "duration": 1201,
    "start_time": "2023-04-18T14:40:02.005Z"
   },
   {
    "duration": 63,
    "start_time": "2023-04-18T14:50:36.981Z"
   },
   {
    "duration": 60,
    "start_time": "2023-04-18T14:51:02.862Z"
   },
   {
    "duration": 50,
    "start_time": "2023-04-18T14:51:06.039Z"
   },
   {
    "duration": 559,
    "start_time": "2023-04-18T14:51:40.961Z"
   },
   {
    "duration": 5,
    "start_time": "2023-04-18T14:52:15.176Z"
   },
   {
    "duration": 629,
    "start_time": "2023-04-18T14:52:20.429Z"
   },
   {
    "duration": 75,
    "start_time": "2023-04-18T14:53:48.482Z"
   },
   {
    "duration": 4,
    "start_time": "2023-04-18T14:53:55.911Z"
   },
   {
    "duration": 14,
    "start_time": "2023-04-18T14:53:58.254Z"
   },
   {
    "duration": 5,
    "start_time": "2023-04-18T14:54:03.259Z"
   },
   {
    "duration": 730,
    "start_time": "2023-04-18T14:54:05.558Z"
   },
   {
    "duration": 11,
    "start_time": "2023-04-18T14:54:23.028Z"
   },
   {
    "duration": 69,
    "start_time": "2023-04-18T15:00:46.455Z"
   },
   {
    "duration": 4,
    "start_time": "2023-04-18T15:00:46.526Z"
   },
   {
    "duration": 12,
    "start_time": "2023-04-18T15:05:11.939Z"
   },
   {
    "duration": 15,
    "start_time": "2023-04-18T15:05:53.426Z"
   },
   {
    "duration": 10,
    "start_time": "2023-04-18T15:06:35.136Z"
   },
   {
    "duration": 18,
    "start_time": "2023-04-18T15:06:47.388Z"
   },
   {
    "duration": 5,
    "start_time": "2023-04-18T15:10:01.533Z"
   },
   {
    "duration": 11,
    "start_time": "2023-04-18T15:10:03.949Z"
   },
   {
    "duration": 10,
    "start_time": "2023-04-18T15:11:07.332Z"
   },
   {
    "duration": 10,
    "start_time": "2023-04-18T15:15:27.433Z"
   },
   {
    "duration": 22,
    "start_time": "2023-04-18T15:16:39.244Z"
   },
   {
    "duration": 18,
    "start_time": "2023-04-18T15:18:13.283Z"
   },
   {
    "duration": 17,
    "start_time": "2023-04-18T15:30:40.621Z"
   },
   {
    "duration": 16,
    "start_time": "2023-04-18T15:32:46.828Z"
   },
   {
    "duration": 0,
    "start_time": "2023-04-18T15:36:33.584Z"
   },
   {
    "duration": 7,
    "start_time": "2023-04-18T15:36:58.939Z"
   },
   {
    "duration": 4,
    "start_time": "2023-04-18T15:38:11.618Z"
   },
   {
    "duration": 4,
    "start_time": "2023-04-18T15:39:37.315Z"
   },
   {
    "duration": 4,
    "start_time": "2023-04-18T15:39:43.004Z"
   },
   {
    "duration": 3,
    "start_time": "2023-04-18T15:40:08.509Z"
   },
   {
    "duration": 7,
    "start_time": "2023-04-18T15:40:28.002Z"
   },
   {
    "duration": 684,
    "start_time": "2023-04-18T15:44:47.810Z"
   },
   {
    "duration": 6,
    "start_time": "2023-04-18T15:45:53.813Z"
   },
   {
    "duration": 0,
    "start_time": "2023-04-18T15:46:42.118Z"
   },
   {
    "duration": 5,
    "start_time": "2023-04-18T15:46:57.846Z"
   },
   {
    "duration": 6,
    "start_time": "2023-04-18T15:47:35.114Z"
   },
   {
    "duration": 5,
    "start_time": "2023-04-18T15:51:09.141Z"
   },
   {
    "duration": 9,
    "start_time": "2023-04-18T15:52:21.308Z"
   },
   {
    "duration": 63,
    "start_time": "2023-04-18T15:52:31.755Z"
   },
   {
    "duration": 14,
    "start_time": "2023-04-18T15:52:39.432Z"
   },
   {
    "duration": 3,
    "start_time": "2023-04-18T15:54:43.611Z"
   },
   {
    "duration": 10,
    "start_time": "2023-04-18T15:54:56.708Z"
   },
   {
    "duration": 7,
    "start_time": "2023-04-18T15:55:01.971Z"
   },
   {
    "duration": 7,
    "start_time": "2023-04-18T15:55:14.316Z"
   },
   {
    "duration": 4,
    "start_time": "2023-04-18T15:56:16.031Z"
   },
   {
    "duration": 22,
    "start_time": "2023-04-18T15:56:22.418Z"
   },
   {
    "duration": 1092,
    "start_time": "2023-04-18T15:59:32.867Z"
   },
   {
    "duration": 140,
    "start_time": "2023-04-18T15:59:33.961Z"
   },
   {
    "duration": 10,
    "start_time": "2023-04-18T15:59:34.103Z"
   },
   {
    "duration": 23,
    "start_time": "2023-04-18T15:59:34.115Z"
   },
   {
    "duration": 11,
    "start_time": "2023-04-18T15:59:34.139Z"
   },
   {
    "duration": 9,
    "start_time": "2023-04-18T15:59:34.152Z"
   },
   {
    "duration": 75,
    "start_time": "2023-04-18T15:59:34.162Z"
   },
   {
    "duration": 56,
    "start_time": "2023-04-18T15:59:34.239Z"
   },
   {
    "duration": 86,
    "start_time": "2023-04-18T15:59:34.296Z"
   },
   {
    "duration": 61,
    "start_time": "2023-04-18T15:59:34.384Z"
   },
   {
    "duration": 8,
    "start_time": "2023-04-18T15:59:34.447Z"
   },
   {
    "duration": 11,
    "start_time": "2023-04-18T15:59:34.457Z"
   },
   {
    "duration": 8,
    "start_time": "2023-04-18T15:59:34.469Z"
   },
   {
    "duration": 16,
    "start_time": "2023-04-18T15:59:34.478Z"
   },
   {
    "duration": 44,
    "start_time": "2023-04-18T15:59:34.496Z"
   },
   {
    "duration": 17,
    "start_time": "2023-04-18T15:59:34.542Z"
   },
   {
    "duration": 338,
    "start_time": "2023-04-18T15:59:34.561Z"
   },
   {
    "duration": 41,
    "start_time": "2023-04-18T15:59:34.900Z"
   },
   {
    "duration": 7,
    "start_time": "2023-04-18T15:59:34.943Z"
   },
   {
    "duration": 18,
    "start_time": "2023-04-18T15:59:34.952Z"
   },
   {
    "duration": 15,
    "start_time": "2023-04-18T15:59:34.972Z"
   },
   {
    "duration": 200,
    "start_time": "2023-04-18T15:59:34.989Z"
   },
   {
    "duration": 66,
    "start_time": "2023-04-18T15:59:35.191Z"
   },
   {
    "duration": 131,
    "start_time": "2023-04-18T15:59:35.259Z"
   },
   {
    "duration": 56,
    "start_time": "2023-04-18T15:59:35.391Z"
   },
   {
    "duration": 33,
    "start_time": "2023-04-18T15:59:35.448Z"
   },
   {
    "duration": 114,
    "start_time": "2023-04-18T15:59:35.483Z"
   },
   {
    "duration": 2,
    "start_time": "2023-04-18T15:59:35.599Z"
   },
   {
    "duration": 7,
    "start_time": "2023-04-18T15:59:35.603Z"
   },
   {
    "duration": 5,
    "start_time": "2023-04-18T15:59:35.611Z"
   },
   {
    "duration": 20,
    "start_time": "2023-04-18T15:59:35.617Z"
   },
   {
    "duration": 5,
    "start_time": "2023-04-18T15:59:35.639Z"
   },
   {
    "duration": 22,
    "start_time": "2023-04-18T15:59:35.646Z"
   },
   {
    "duration": 3,
    "start_time": "2023-04-18T15:59:35.669Z"
   },
   {
    "duration": 45,
    "start_time": "2023-04-18T15:59:35.673Z"
   },
   {
    "duration": 0,
    "start_time": "2023-04-18T15:59:35.720Z"
   },
   {
    "duration": 0,
    "start_time": "2023-04-18T15:59:35.720Z"
   },
   {
    "duration": 0,
    "start_time": "2023-04-18T15:59:35.721Z"
   },
   {
    "duration": 0,
    "start_time": "2023-04-18T15:59:35.722Z"
   },
   {
    "duration": 0,
    "start_time": "2023-04-18T15:59:35.723Z"
   },
   {
    "duration": 0,
    "start_time": "2023-04-18T15:59:35.724Z"
   },
   {
    "duration": 0,
    "start_time": "2023-04-18T15:59:35.725Z"
   },
   {
    "duration": 1150,
    "start_time": "2023-04-18T16:03:23.318Z"
   },
   {
    "duration": 136,
    "start_time": "2023-04-18T16:03:24.470Z"
   },
   {
    "duration": 10,
    "start_time": "2023-04-18T16:03:24.608Z"
   },
   {
    "duration": 28,
    "start_time": "2023-04-18T16:03:24.619Z"
   },
   {
    "duration": 12,
    "start_time": "2023-04-18T16:03:24.649Z"
   },
   {
    "duration": 9,
    "start_time": "2023-04-18T16:03:24.662Z"
   },
   {
    "duration": 76,
    "start_time": "2023-04-18T16:03:24.672Z"
   },
   {
    "duration": 54,
    "start_time": "2023-04-18T16:03:24.749Z"
   },
   {
    "duration": 75,
    "start_time": "2023-04-18T16:03:24.805Z"
   },
   {
    "duration": 58,
    "start_time": "2023-04-18T16:03:24.882Z"
   },
   {
    "duration": 8,
    "start_time": "2023-04-18T16:03:24.941Z"
   },
   {
    "duration": 12,
    "start_time": "2023-04-18T16:03:24.950Z"
   },
   {
    "duration": 9,
    "start_time": "2023-04-18T16:03:24.963Z"
   },
   {
    "duration": 15,
    "start_time": "2023-04-18T16:03:24.974Z"
   },
   {
    "duration": 13,
    "start_time": "2023-04-18T16:03:24.990Z"
   },
   {
    "duration": 36,
    "start_time": "2023-04-18T16:03:25.005Z"
   },
   {
    "duration": 317,
    "start_time": "2023-04-18T16:03:25.042Z"
   },
   {
    "duration": 29,
    "start_time": "2023-04-18T16:03:25.361Z"
   },
   {
    "duration": 5,
    "start_time": "2023-04-18T16:03:25.392Z"
   },
   {
    "duration": 15,
    "start_time": "2023-04-18T16:03:25.399Z"
   },
   {
    "duration": 15,
    "start_time": "2023-04-18T16:03:25.436Z"
   },
   {
    "duration": 181,
    "start_time": "2023-04-18T16:03:25.452Z"
   },
   {
    "duration": 53,
    "start_time": "2023-04-18T16:03:25.635Z"
   },
   {
    "duration": 154,
    "start_time": "2023-04-18T16:03:25.690Z"
   },
   {
    "duration": 40,
    "start_time": "2023-04-18T16:03:25.845Z"
   },
   {
    "duration": 34,
    "start_time": "2023-04-18T16:03:25.936Z"
   },
   {
    "duration": 99,
    "start_time": "2023-04-18T16:03:25.972Z"
   },
   {
    "duration": 2,
    "start_time": "2023-04-18T16:03:26.073Z"
   },
   {
    "duration": 12,
    "start_time": "2023-04-18T16:03:26.076Z"
   },
   {
    "duration": 16,
    "start_time": "2023-04-18T16:03:26.089Z"
   },
   {
    "duration": 6,
    "start_time": "2023-04-18T16:03:26.106Z"
   },
   {
    "duration": 7,
    "start_time": "2023-04-18T16:03:26.113Z"
   },
   {
    "duration": 34,
    "start_time": "2023-04-18T16:03:26.121Z"
   },
   {
    "duration": 5,
    "start_time": "2023-04-18T16:03:26.157Z"
   },
   {
    "duration": 49,
    "start_time": "2023-04-18T16:03:26.163Z"
   },
   {
    "duration": 0,
    "start_time": "2023-04-18T16:03:26.213Z"
   },
   {
    "duration": 0,
    "start_time": "2023-04-18T16:03:26.214Z"
   },
   {
    "duration": 0,
    "start_time": "2023-04-18T16:03:26.215Z"
   },
   {
    "duration": 0,
    "start_time": "2023-04-18T16:03:26.216Z"
   },
   {
    "duration": 0,
    "start_time": "2023-04-18T16:03:26.217Z"
   },
   {
    "duration": 0,
    "start_time": "2023-04-18T16:03:26.217Z"
   },
   {
    "duration": 0,
    "start_time": "2023-04-18T16:03:26.218Z"
   },
   {
    "duration": 0,
    "start_time": "2023-04-18T16:03:26.219Z"
   },
   {
    "duration": 1300,
    "start_time": "2023-04-18T18:31:02.319Z"
   },
   {
    "duration": 793,
    "start_time": "2023-04-18T18:31:03.622Z"
   },
   {
    "duration": 12,
    "start_time": "2023-04-18T18:31:04.417Z"
   },
   {
    "duration": 21,
    "start_time": "2023-04-18T18:31:04.431Z"
   },
   {
    "duration": 14,
    "start_time": "2023-04-18T18:31:04.455Z"
   },
   {
    "duration": 25,
    "start_time": "2023-04-18T18:31:04.471Z"
   },
   {
    "duration": 81,
    "start_time": "2023-04-18T18:31:04.498Z"
   },
   {
    "duration": 71,
    "start_time": "2023-04-18T18:31:04.581Z"
   },
   {
    "duration": 83,
    "start_time": "2023-04-18T18:31:04.654Z"
   },
   {
    "duration": 67,
    "start_time": "2023-04-18T18:31:04.738Z"
   },
   {
    "duration": 19,
    "start_time": "2023-04-18T18:31:04.806Z"
   },
   {
    "duration": 18,
    "start_time": "2023-04-18T18:31:04.826Z"
   },
   {
    "duration": 12,
    "start_time": "2023-04-18T18:31:04.845Z"
   },
   {
    "duration": 24,
    "start_time": "2023-04-18T18:31:04.860Z"
   },
   {
    "duration": 22,
    "start_time": "2023-04-18T18:31:04.885Z"
   },
   {
    "duration": 35,
    "start_time": "2023-04-18T18:31:04.909Z"
   },
   {
    "duration": 398,
    "start_time": "2023-04-18T18:31:04.946Z"
   },
   {
    "duration": 34,
    "start_time": "2023-04-18T18:31:05.347Z"
   },
   {
    "duration": 7,
    "start_time": "2023-04-18T18:31:05.394Z"
   },
   {
    "duration": 22,
    "start_time": "2023-04-18T18:31:05.402Z"
   },
   {
    "duration": 18,
    "start_time": "2023-04-18T18:31:05.425Z"
   },
   {
    "duration": 255,
    "start_time": "2023-04-18T18:31:05.445Z"
   },
   {
    "duration": 66,
    "start_time": "2023-04-18T18:31:05.702Z"
   },
   {
    "duration": 117,
    "start_time": "2023-04-18T18:31:05.769Z"
   },
   {
    "duration": 0,
    "start_time": "2023-04-18T18:31:05.888Z"
   },
   {
    "duration": 0,
    "start_time": "2023-04-18T18:31:05.893Z"
   },
   {
    "duration": 0,
    "start_time": "2023-04-18T18:31:05.894Z"
   },
   {
    "duration": 0,
    "start_time": "2023-04-18T18:31:05.895Z"
   },
   {
    "duration": 0,
    "start_time": "2023-04-18T18:31:05.897Z"
   },
   {
    "duration": 0,
    "start_time": "2023-04-18T18:31:05.898Z"
   },
   {
    "duration": 0,
    "start_time": "2023-04-18T18:31:05.900Z"
   },
   {
    "duration": 0,
    "start_time": "2023-04-18T18:31:05.900Z"
   },
   {
    "duration": 0,
    "start_time": "2023-04-18T18:31:05.901Z"
   },
   {
    "duration": 0,
    "start_time": "2023-04-18T18:31:05.902Z"
   },
   {
    "duration": 0,
    "start_time": "2023-04-18T18:31:05.903Z"
   },
   {
    "duration": 0,
    "start_time": "2023-04-18T18:31:05.905Z"
   },
   {
    "duration": 0,
    "start_time": "2023-04-18T18:31:05.906Z"
   },
   {
    "duration": 0,
    "start_time": "2023-04-18T18:31:05.907Z"
   },
   {
    "duration": 0,
    "start_time": "2023-04-18T18:31:05.908Z"
   },
   {
    "duration": 0,
    "start_time": "2023-04-18T18:31:05.909Z"
   },
   {
    "duration": 0,
    "start_time": "2023-04-18T18:31:05.911Z"
   },
   {
    "duration": 0,
    "start_time": "2023-04-18T18:31:05.912Z"
   },
   {
    "duration": 0,
    "start_time": "2023-04-18T18:31:05.913Z"
   },
   {
    "duration": 1123,
    "start_time": "2023-04-18T18:31:51.772Z"
   },
   {
    "duration": 198,
    "start_time": "2023-04-18T18:31:52.897Z"
   },
   {
    "duration": 14,
    "start_time": "2023-04-18T18:31:53.097Z"
   },
   {
    "duration": 23,
    "start_time": "2023-04-18T18:31:53.113Z"
   },
   {
    "duration": 13,
    "start_time": "2023-04-18T18:31:53.139Z"
   },
   {
    "duration": 40,
    "start_time": "2023-04-18T18:31:53.154Z"
   },
   {
    "duration": 76,
    "start_time": "2023-04-18T18:31:53.197Z"
   },
   {
    "duration": 76,
    "start_time": "2023-04-18T18:31:53.275Z"
   },
   {
    "duration": 89,
    "start_time": "2023-04-18T18:31:53.353Z"
   },
   {
    "duration": 72,
    "start_time": "2023-04-18T18:31:53.444Z"
   },
   {
    "duration": 10,
    "start_time": "2023-04-18T18:31:53.518Z"
   },
   {
    "duration": 14,
    "start_time": "2023-04-18T18:31:53.530Z"
   },
   {
    "duration": 6,
    "start_time": "2023-04-18T18:31:53.546Z"
   },
   {
    "duration": 56,
    "start_time": "2023-04-18T18:31:53.557Z"
   },
   {
    "duration": 16,
    "start_time": "2023-04-18T18:31:53.614Z"
   },
   {
    "duration": 17,
    "start_time": "2023-04-18T18:31:53.632Z"
   },
   {
    "duration": 416,
    "start_time": "2023-04-18T18:31:53.650Z"
   },
   {
    "duration": 43,
    "start_time": "2023-04-18T18:31:54.068Z"
   },
   {
    "duration": 7,
    "start_time": "2023-04-18T18:31:54.113Z"
   },
   {
    "duration": 28,
    "start_time": "2023-04-18T18:31:54.121Z"
   },
   {
    "duration": 21,
    "start_time": "2023-04-18T18:31:54.151Z"
   },
   {
    "duration": 264,
    "start_time": "2023-04-18T18:31:54.173Z"
   },
   {
    "duration": 80,
    "start_time": "2023-04-18T18:31:54.439Z"
   },
   {
    "duration": 108,
    "start_time": "2023-04-18T18:31:54.521Z"
   },
   {
    "duration": 0,
    "start_time": "2023-04-18T18:31:54.631Z"
   },
   {
    "duration": 0,
    "start_time": "2023-04-18T18:31:54.632Z"
   },
   {
    "duration": 0,
    "start_time": "2023-04-18T18:31:54.633Z"
   },
   {
    "duration": 0,
    "start_time": "2023-04-18T18:31:54.634Z"
   },
   {
    "duration": 0,
    "start_time": "2023-04-18T18:31:54.635Z"
   },
   {
    "duration": 0,
    "start_time": "2023-04-18T18:31:54.636Z"
   },
   {
    "duration": 0,
    "start_time": "2023-04-18T18:31:54.637Z"
   },
   {
    "duration": 0,
    "start_time": "2023-04-18T18:31:54.638Z"
   },
   {
    "duration": 0,
    "start_time": "2023-04-18T18:31:54.639Z"
   },
   {
    "duration": 0,
    "start_time": "2023-04-18T18:31:54.640Z"
   },
   {
    "duration": 0,
    "start_time": "2023-04-18T18:31:54.642Z"
   },
   {
    "duration": 0,
    "start_time": "2023-04-18T18:31:54.643Z"
   },
   {
    "duration": 0,
    "start_time": "2023-04-18T18:31:54.644Z"
   },
   {
    "duration": 0,
    "start_time": "2023-04-18T18:31:54.645Z"
   },
   {
    "duration": 0,
    "start_time": "2023-04-18T18:31:54.646Z"
   },
   {
    "duration": 0,
    "start_time": "2023-04-18T18:31:54.647Z"
   },
   {
    "duration": 0,
    "start_time": "2023-04-18T18:31:54.648Z"
   },
   {
    "duration": 0,
    "start_time": "2023-04-18T18:31:54.649Z"
   },
   {
    "duration": 0,
    "start_time": "2023-04-18T18:31:54.651Z"
   },
   {
    "duration": 1193,
    "start_time": "2023-04-18T18:32:41.046Z"
   },
   {
    "duration": 176,
    "start_time": "2023-04-18T18:32:42.241Z"
   },
   {
    "duration": 12,
    "start_time": "2023-04-18T18:32:42.419Z"
   },
   {
    "duration": 22,
    "start_time": "2023-04-18T18:32:42.433Z"
   },
   {
    "duration": 14,
    "start_time": "2023-04-18T18:32:42.457Z"
   },
   {
    "duration": 11,
    "start_time": "2023-04-18T18:32:42.494Z"
   },
   {
    "duration": 70,
    "start_time": "2023-04-18T18:32:42.506Z"
   },
   {
    "duration": 66,
    "start_time": "2023-04-18T18:32:42.593Z"
   },
   {
    "duration": 90,
    "start_time": "2023-04-18T18:32:42.661Z"
   },
   {
    "duration": 79,
    "start_time": "2023-04-18T18:32:42.754Z"
   },
   {
    "duration": 11,
    "start_time": "2023-04-18T18:32:42.835Z"
   },
   {
    "duration": 14,
    "start_time": "2023-04-18T18:32:42.848Z"
   },
   {
    "duration": 7,
    "start_time": "2023-04-18T18:32:42.864Z"
   },
   {
    "duration": 18,
    "start_time": "2023-04-18T18:32:42.894Z"
   },
   {
    "duration": 16,
    "start_time": "2023-04-18T18:32:42.914Z"
   },
   {
    "duration": 34,
    "start_time": "2023-04-18T18:32:42.932Z"
   },
   {
    "duration": 404,
    "start_time": "2023-04-18T18:32:42.968Z"
   },
   {
    "duration": 44,
    "start_time": "2023-04-18T18:32:43.374Z"
   },
   {
    "duration": 8,
    "start_time": "2023-04-18T18:32:43.419Z"
   },
   {
    "duration": 18,
    "start_time": "2023-04-18T18:32:43.429Z"
   },
   {
    "duration": 29,
    "start_time": "2023-04-18T18:32:43.448Z"
   },
   {
    "duration": 227,
    "start_time": "2023-04-18T18:32:43.494Z"
   },
   {
    "duration": 74,
    "start_time": "2023-04-18T18:32:43.722Z"
   },
   {
    "duration": 140,
    "start_time": "2023-04-18T18:32:43.798Z"
   },
   {
    "duration": 86,
    "start_time": "2023-04-18T18:32:43.940Z"
   },
   {
    "duration": 82,
    "start_time": "2023-04-18T18:32:44.028Z"
   },
   {
    "duration": 108,
    "start_time": "2023-04-18T18:32:44.112Z"
   },
   {
    "duration": 2,
    "start_time": "2023-04-18T18:32:44.224Z"
   },
   {
    "duration": 18,
    "start_time": "2023-04-18T18:32:44.228Z"
   },
   {
    "duration": 15,
    "start_time": "2023-04-18T18:32:44.248Z"
   },
   {
    "duration": 121,
    "start_time": "2023-04-18T18:32:44.265Z"
   },
   {
    "duration": 0,
    "start_time": "2023-04-18T18:32:44.388Z"
   },
   {
    "duration": 0,
    "start_time": "2023-04-18T18:32:44.389Z"
   },
   {
    "duration": 0,
    "start_time": "2023-04-18T18:32:44.389Z"
   },
   {
    "duration": 0,
    "start_time": "2023-04-18T18:32:44.393Z"
   },
   {
    "duration": 0,
    "start_time": "2023-04-18T18:32:44.394Z"
   },
   {
    "duration": 0,
    "start_time": "2023-04-18T18:32:44.395Z"
   },
   {
    "duration": 0,
    "start_time": "2023-04-18T18:32:44.396Z"
   },
   {
    "duration": 0,
    "start_time": "2023-04-18T18:32:44.396Z"
   },
   {
    "duration": 0,
    "start_time": "2023-04-18T18:32:44.398Z"
   },
   {
    "duration": 0,
    "start_time": "2023-04-18T18:32:44.399Z"
   },
   {
    "duration": 0,
    "start_time": "2023-04-18T18:32:44.400Z"
   },
   {
    "duration": 0,
    "start_time": "2023-04-18T18:32:44.401Z"
   },
   {
    "duration": 3,
    "start_time": "2023-04-18T18:33:20.323Z"
   },
   {
    "duration": 1161,
    "start_time": "2023-04-18T18:33:27.936Z"
   },
   {
    "duration": 169,
    "start_time": "2023-04-18T18:33:29.099Z"
   },
   {
    "duration": 12,
    "start_time": "2023-04-18T18:33:29.270Z"
   },
   {
    "duration": 29,
    "start_time": "2023-04-18T18:33:29.284Z"
   },
   {
    "duration": 13,
    "start_time": "2023-04-18T18:33:29.315Z"
   },
   {
    "duration": 11,
    "start_time": "2023-04-18T18:33:29.331Z"
   },
   {
    "duration": 92,
    "start_time": "2023-04-18T18:33:29.344Z"
   },
   {
    "duration": 75,
    "start_time": "2023-04-18T18:33:29.438Z"
   },
   {
    "duration": 80,
    "start_time": "2023-04-18T18:33:29.515Z"
   },
   {
    "duration": 66,
    "start_time": "2023-04-18T18:33:29.597Z"
   },
   {
    "duration": 22,
    "start_time": "2023-04-18T18:33:29.665Z"
   },
   {
    "duration": 12,
    "start_time": "2023-04-18T18:33:29.693Z"
   },
   {
    "duration": 11,
    "start_time": "2023-04-18T18:33:29.707Z"
   },
   {
    "duration": 18,
    "start_time": "2023-04-18T18:33:29.721Z"
   },
   {
    "duration": 15,
    "start_time": "2023-04-18T18:33:29.741Z"
   },
   {
    "duration": 39,
    "start_time": "2023-04-18T18:33:29.758Z"
   },
   {
    "duration": 377,
    "start_time": "2023-04-18T18:33:29.799Z"
   },
   {
    "duration": 46,
    "start_time": "2023-04-18T18:33:30.178Z"
   },
   {
    "duration": 6,
    "start_time": "2023-04-18T18:33:30.226Z"
   },
   {
    "duration": 36,
    "start_time": "2023-04-18T18:33:30.234Z"
   },
   {
    "duration": 38,
    "start_time": "2023-04-18T18:33:30.272Z"
   },
   {
    "duration": 229,
    "start_time": "2023-04-18T18:33:30.312Z"
   },
   {
    "duration": 85,
    "start_time": "2023-04-18T18:33:30.543Z"
   },
   {
    "duration": 124,
    "start_time": "2023-04-18T18:33:30.631Z"
   },
   {
    "duration": 0,
    "start_time": "2023-04-18T18:33:30.758Z"
   },
   {
    "duration": 0,
    "start_time": "2023-04-18T18:33:30.760Z"
   },
   {
    "duration": 0,
    "start_time": "2023-04-18T18:33:30.761Z"
   },
   {
    "duration": 0,
    "start_time": "2023-04-18T18:33:30.762Z"
   },
   {
    "duration": 0,
    "start_time": "2023-04-18T18:33:30.764Z"
   },
   {
    "duration": 0,
    "start_time": "2023-04-18T18:33:30.765Z"
   },
   {
    "duration": 0,
    "start_time": "2023-04-18T18:33:30.766Z"
   },
   {
    "duration": 0,
    "start_time": "2023-04-18T18:33:30.768Z"
   },
   {
    "duration": 0,
    "start_time": "2023-04-18T18:33:30.769Z"
   },
   {
    "duration": 0,
    "start_time": "2023-04-18T18:33:30.770Z"
   },
   {
    "duration": 0,
    "start_time": "2023-04-18T18:33:30.771Z"
   },
   {
    "duration": 0,
    "start_time": "2023-04-18T18:33:30.794Z"
   },
   {
    "duration": 0,
    "start_time": "2023-04-18T18:33:30.795Z"
   },
   {
    "duration": 0,
    "start_time": "2023-04-18T18:33:30.797Z"
   },
   {
    "duration": 0,
    "start_time": "2023-04-18T18:33:30.798Z"
   },
   {
    "duration": 0,
    "start_time": "2023-04-18T18:33:30.799Z"
   },
   {
    "duration": 0,
    "start_time": "2023-04-18T18:33:30.801Z"
   },
   {
    "duration": 0,
    "start_time": "2023-04-18T18:33:30.802Z"
   },
   {
    "duration": 0,
    "start_time": "2023-04-18T18:33:30.803Z"
   },
   {
    "duration": 1046,
    "start_time": "2023-04-18T18:33:57.707Z"
   },
   {
    "duration": 214,
    "start_time": "2023-04-18T18:33:58.755Z"
   },
   {
    "duration": 11,
    "start_time": "2023-04-18T18:33:58.970Z"
   },
   {
    "duration": 24,
    "start_time": "2023-04-18T18:33:58.983Z"
   },
   {
    "duration": 13,
    "start_time": "2023-04-18T18:33:59.009Z"
   },
   {
    "duration": 10,
    "start_time": "2023-04-18T18:33:59.023Z"
   },
   {
    "duration": 86,
    "start_time": "2023-04-18T18:33:59.035Z"
   },
   {
    "duration": 61,
    "start_time": "2023-04-18T18:33:59.123Z"
   },
   {
    "duration": 79,
    "start_time": "2023-04-18T18:33:59.193Z"
   },
   {
    "duration": 74,
    "start_time": "2023-04-18T18:33:59.274Z"
   },
   {
    "duration": 14,
    "start_time": "2023-04-18T18:33:59.350Z"
   },
   {
    "duration": 14,
    "start_time": "2023-04-18T18:33:59.365Z"
   },
   {
    "duration": 6,
    "start_time": "2023-04-18T18:33:59.392Z"
   },
   {
    "duration": 44,
    "start_time": "2023-04-18T18:33:59.401Z"
   },
   {
    "duration": 15,
    "start_time": "2023-04-18T18:33:59.447Z"
   },
   {
    "duration": 18,
    "start_time": "2023-04-18T18:33:59.463Z"
   },
   {
    "duration": 388,
    "start_time": "2023-04-18T18:33:59.483Z"
   },
   {
    "duration": 38,
    "start_time": "2023-04-18T18:33:59.873Z"
   },
   {
    "duration": 7,
    "start_time": "2023-04-18T18:33:59.913Z"
   },
   {
    "duration": 24,
    "start_time": "2023-04-18T18:33:59.921Z"
   },
   {
    "duration": 19,
    "start_time": "2023-04-18T18:33:59.947Z"
   },
   {
    "duration": 237,
    "start_time": "2023-04-18T18:33:59.967Z"
   },
   {
    "duration": 67,
    "start_time": "2023-04-18T18:34:00.206Z"
   },
   {
    "duration": 168,
    "start_time": "2023-04-18T18:34:00.276Z"
   },
   {
    "duration": 65,
    "start_time": "2023-04-18T18:34:00.446Z"
   },
   {
    "duration": 86,
    "start_time": "2023-04-18T18:34:00.513Z"
   },
   {
    "duration": 107,
    "start_time": "2023-04-18T18:34:00.601Z"
   },
   {
    "duration": 3,
    "start_time": "2023-04-18T18:34:00.710Z"
   },
   {
    "duration": 19,
    "start_time": "2023-04-18T18:34:00.714Z"
   },
   {
    "duration": 25,
    "start_time": "2023-04-18T18:34:00.735Z"
   },
   {
    "duration": 148,
    "start_time": "2023-04-18T18:34:00.762Z"
   },
   {
    "duration": 0,
    "start_time": "2023-04-18T18:34:00.912Z"
   },
   {
    "duration": 0,
    "start_time": "2023-04-18T18:34:00.913Z"
   },
   {
    "duration": 0,
    "start_time": "2023-04-18T18:34:00.914Z"
   },
   {
    "duration": 0,
    "start_time": "2023-04-18T18:34:00.915Z"
   },
   {
    "duration": 0,
    "start_time": "2023-04-18T18:34:00.917Z"
   },
   {
    "duration": 0,
    "start_time": "2023-04-18T18:34:00.918Z"
   },
   {
    "duration": 0,
    "start_time": "2023-04-18T18:34:00.918Z"
   },
   {
    "duration": 0,
    "start_time": "2023-04-18T18:34:00.919Z"
   },
   {
    "duration": 0,
    "start_time": "2023-04-18T18:34:00.920Z"
   },
   {
    "duration": 0,
    "start_time": "2023-04-18T18:34:00.922Z"
   },
   {
    "duration": 0,
    "start_time": "2023-04-18T18:34:00.922Z"
   },
   {
    "duration": 0,
    "start_time": "2023-04-18T18:34:00.924Z"
   },
   {
    "duration": 1026,
    "start_time": "2023-04-18T18:34:46.525Z"
   },
   {
    "duration": 215,
    "start_time": "2023-04-18T18:34:47.553Z"
   },
   {
    "duration": 11,
    "start_time": "2023-04-18T18:34:47.770Z"
   },
   {
    "duration": 30,
    "start_time": "2023-04-18T18:34:47.783Z"
   },
   {
    "duration": 17,
    "start_time": "2023-04-18T18:34:47.816Z"
   },
   {
    "duration": 15,
    "start_time": "2023-04-18T18:34:47.836Z"
   },
   {
    "duration": 88,
    "start_time": "2023-04-18T18:34:47.853Z"
   },
   {
    "duration": 79,
    "start_time": "2023-04-18T18:34:47.943Z"
   },
   {
    "duration": 83,
    "start_time": "2023-04-18T18:34:48.024Z"
   },
   {
    "duration": 84,
    "start_time": "2023-04-18T18:34:48.109Z"
   },
   {
    "duration": 9,
    "start_time": "2023-04-18T18:34:48.196Z"
   },
   {
    "duration": 13,
    "start_time": "2023-04-18T18:34:48.207Z"
   },
   {
    "duration": 15,
    "start_time": "2023-04-18T18:34:48.222Z"
   },
   {
    "duration": 20,
    "start_time": "2023-04-18T18:34:48.242Z"
   },
   {
    "duration": 33,
    "start_time": "2023-04-18T18:34:48.264Z"
   },
   {
    "duration": 25,
    "start_time": "2023-04-18T18:34:48.298Z"
   },
   {
    "duration": 385,
    "start_time": "2023-04-18T18:34:48.324Z"
   },
   {
    "duration": 34,
    "start_time": "2023-04-18T18:34:48.710Z"
   },
   {
    "duration": 7,
    "start_time": "2023-04-18T18:34:48.746Z"
   },
   {
    "duration": 43,
    "start_time": "2023-04-18T18:34:48.754Z"
   },
   {
    "duration": 18,
    "start_time": "2023-04-18T18:34:48.799Z"
   },
   {
    "duration": 231,
    "start_time": "2023-04-18T18:34:48.819Z"
   },
   {
    "duration": 70,
    "start_time": "2023-04-18T18:34:49.052Z"
   },
   {
    "duration": 166,
    "start_time": "2023-04-18T18:34:49.124Z"
   },
   {
    "duration": 42,
    "start_time": "2023-04-18T18:34:49.292Z"
   },
   {
    "duration": 83,
    "start_time": "2023-04-18T18:34:49.336Z"
   },
   {
    "duration": 107,
    "start_time": "2023-04-18T18:34:49.420Z"
   },
   {
    "duration": 2,
    "start_time": "2023-04-18T18:34:49.529Z"
   },
   {
    "duration": 7,
    "start_time": "2023-04-18T18:34:49.532Z"
   },
   {
    "duration": 16,
    "start_time": "2023-04-18T18:34:49.540Z"
   },
   {
    "duration": 9,
    "start_time": "2023-04-18T18:34:49.558Z"
   },
   {
    "duration": 25,
    "start_time": "2023-04-18T18:34:49.568Z"
   },
   {
    "duration": 19,
    "start_time": "2023-04-18T18:34:49.595Z"
   },
   {
    "duration": 3,
    "start_time": "2023-04-18T18:34:49.615Z"
   },
   {
    "duration": 44,
    "start_time": "2023-04-18T18:34:49.619Z"
   },
   {
    "duration": 0,
    "start_time": "2023-04-18T18:34:49.664Z"
   },
   {
    "duration": 0,
    "start_time": "2023-04-18T18:34:49.666Z"
   },
   {
    "duration": 0,
    "start_time": "2023-04-18T18:34:49.667Z"
   },
   {
    "duration": 0,
    "start_time": "2023-04-18T18:34:49.668Z"
   },
   {
    "duration": 0,
    "start_time": "2023-04-18T18:34:49.669Z"
   },
   {
    "duration": 0,
    "start_time": "2023-04-18T18:34:49.670Z"
   },
   {
    "duration": 0,
    "start_time": "2023-04-18T18:34:49.671Z"
   },
   {
    "duration": 0,
    "start_time": "2023-04-18T18:34:49.672Z"
   },
   {
    "duration": 46,
    "start_time": "2023-04-18T19:04:05.121Z"
   },
   {
    "duration": 57,
    "start_time": "2023-04-18T19:04:13.557Z"
   },
   {
    "duration": 80,
    "start_time": "2023-04-18T19:04:37.307Z"
   },
   {
    "duration": 52,
    "start_time": "2023-04-18T19:04:51.508Z"
   },
   {
    "duration": 59,
    "start_time": "2023-04-18T19:04:57.208Z"
   },
   {
    "duration": 5,
    "start_time": "2023-04-18T19:05:05.248Z"
   },
   {
    "duration": 20,
    "start_time": "2023-04-18T19:05:10.028Z"
   },
   {
    "duration": 6,
    "start_time": "2023-04-18T19:05:34.721Z"
   },
   {
    "duration": 1026,
    "start_time": "2023-04-18T19:15:56.409Z"
   },
   {
    "duration": 215,
    "start_time": "2023-04-18T19:15:57.437Z"
   },
   {
    "duration": 12,
    "start_time": "2023-04-18T19:15:57.654Z"
   },
   {
    "duration": 32,
    "start_time": "2023-04-18T19:15:57.668Z"
   },
   {
    "duration": 14,
    "start_time": "2023-04-18T19:15:57.703Z"
   },
   {
    "duration": 11,
    "start_time": "2023-04-18T19:15:57.719Z"
   },
   {
    "duration": 88,
    "start_time": "2023-04-18T19:15:57.732Z"
   },
   {
    "duration": 73,
    "start_time": "2023-04-18T19:15:57.822Z"
   },
   {
    "duration": 70,
    "start_time": "2023-04-18T19:15:57.897Z"
   },
   {
    "duration": 76,
    "start_time": "2023-04-18T19:15:57.968Z"
   },
   {
    "duration": 11,
    "start_time": "2023-04-18T19:15:58.046Z"
   },
   {
    "duration": 13,
    "start_time": "2023-04-18T19:15:58.059Z"
   },
   {
    "duration": 9,
    "start_time": "2023-04-18T19:15:58.092Z"
   },
   {
    "duration": 21,
    "start_time": "2023-04-18T19:15:58.104Z"
   },
   {
    "duration": 17,
    "start_time": "2023-04-18T19:15:58.127Z"
   },
   {
    "duration": 18,
    "start_time": "2023-04-18T19:15:58.146Z"
   },
   {
    "duration": 441,
    "start_time": "2023-04-18T19:15:58.167Z"
   },
   {
    "duration": 36,
    "start_time": "2023-04-18T19:15:58.610Z"
   },
   {
    "duration": 7,
    "start_time": "2023-04-18T19:15:58.648Z"
   },
   {
    "duration": 47,
    "start_time": "2023-04-18T19:15:58.657Z"
   },
   {
    "duration": 18,
    "start_time": "2023-04-18T19:15:58.706Z"
   },
   {
    "duration": 244,
    "start_time": "2023-04-18T19:15:58.726Z"
   },
   {
    "duration": 70,
    "start_time": "2023-04-18T19:15:58.972Z"
   },
   {
    "duration": 157,
    "start_time": "2023-04-18T19:15:59.044Z"
   },
   {
    "duration": 114,
    "start_time": "2023-04-18T19:15:59.203Z"
   },
   {
    "duration": 90,
    "start_time": "2023-04-18T19:15:59.319Z"
   },
   {
    "duration": 119,
    "start_time": "2023-04-18T19:15:59.411Z"
   },
   {
    "duration": 6,
    "start_time": "2023-04-18T19:15:59.532Z"
   },
   {
    "duration": 10,
    "start_time": "2023-04-18T19:15:59.540Z"
   },
   {
    "duration": 8,
    "start_time": "2023-04-18T19:15:59.552Z"
   },
   {
    "duration": 32,
    "start_time": "2023-04-18T19:15:59.562Z"
   },
   {
    "duration": 28,
    "start_time": "2023-04-18T19:15:59.596Z"
   },
   {
    "duration": 23,
    "start_time": "2023-04-18T19:15:59.626Z"
   },
   {
    "duration": 56,
    "start_time": "2023-04-18T19:15:59.651Z"
   },
   {
    "duration": 0,
    "start_time": "2023-04-18T19:15:59.708Z"
   },
   {
    "duration": 0,
    "start_time": "2023-04-18T19:15:59.710Z"
   },
   {
    "duration": 0,
    "start_time": "2023-04-18T19:15:59.712Z"
   },
   {
    "duration": 0,
    "start_time": "2023-04-18T19:15:59.713Z"
   },
   {
    "duration": 0,
    "start_time": "2023-04-18T19:15:59.714Z"
   },
   {
    "duration": 0,
    "start_time": "2023-04-18T19:15:59.716Z"
   },
   {
    "duration": 0,
    "start_time": "2023-04-18T19:15:59.717Z"
   },
   {
    "duration": 0,
    "start_time": "2023-04-18T19:15:59.718Z"
   },
   {
    "duration": 0,
    "start_time": "2023-04-18T19:15:59.719Z"
   },
   {
    "duration": 2,
    "start_time": "2023-04-18T19:33:01.645Z"
   },
   {
    "duration": 4,
    "start_time": "2023-04-18T19:33:09.823Z"
   },
   {
    "duration": 1053,
    "start_time": "2023-04-18T19:35:08.211Z"
   },
   {
    "duration": 220,
    "start_time": "2023-04-18T19:35:09.266Z"
   },
   {
    "duration": 11,
    "start_time": "2023-04-18T19:35:09.489Z"
   },
   {
    "duration": 21,
    "start_time": "2023-04-18T19:35:09.501Z"
   },
   {
    "duration": 14,
    "start_time": "2023-04-18T19:35:09.524Z"
   },
   {
    "duration": 10,
    "start_time": "2023-04-18T19:35:09.539Z"
   },
   {
    "duration": 98,
    "start_time": "2023-04-18T19:35:09.551Z"
   },
   {
    "duration": 73,
    "start_time": "2023-04-18T19:35:09.651Z"
   },
   {
    "duration": 80,
    "start_time": "2023-04-18T19:35:09.725Z"
   },
   {
    "duration": 65,
    "start_time": "2023-04-18T19:35:09.807Z"
   },
   {
    "duration": 20,
    "start_time": "2023-04-18T19:35:09.874Z"
   },
   {
    "duration": 10,
    "start_time": "2023-04-18T19:35:09.896Z"
   },
   {
    "duration": 5,
    "start_time": "2023-04-18T19:35:09.908Z"
   },
   {
    "duration": 17,
    "start_time": "2023-04-18T19:35:09.916Z"
   },
   {
    "duration": 15,
    "start_time": "2023-04-18T19:35:09.934Z"
   },
   {
    "duration": 45,
    "start_time": "2023-04-18T19:35:09.951Z"
   },
   {
    "duration": 401,
    "start_time": "2023-04-18T19:35:09.997Z"
   },
   {
    "duration": 33,
    "start_time": "2023-04-18T19:35:10.399Z"
   },
   {
    "duration": 6,
    "start_time": "2023-04-18T19:35:10.434Z"
   },
   {
    "duration": 19,
    "start_time": "2023-04-18T19:35:10.442Z"
   },
   {
    "duration": 42,
    "start_time": "2023-04-18T19:35:10.463Z"
   },
   {
    "duration": 220,
    "start_time": "2023-04-18T19:35:10.507Z"
   },
   {
    "duration": 72,
    "start_time": "2023-04-18T19:35:10.729Z"
   },
   {
    "duration": 156,
    "start_time": "2023-04-18T19:35:10.803Z"
   },
   {
    "duration": 46,
    "start_time": "2023-04-18T19:35:10.961Z"
   },
   {
    "duration": 88,
    "start_time": "2023-04-18T19:35:11.009Z"
   },
   {
    "duration": 80,
    "start_time": "2023-04-18T19:35:11.098Z"
   },
   {
    "duration": 5,
    "start_time": "2023-04-18T19:35:11.192Z"
   },
   {
    "duration": 7,
    "start_time": "2023-04-18T19:35:11.199Z"
   },
   {
    "duration": 8,
    "start_time": "2023-04-18T19:35:11.207Z"
   },
   {
    "duration": 8,
    "start_time": "2023-04-18T19:35:11.216Z"
   },
   {
    "duration": 26,
    "start_time": "2023-04-18T19:35:11.225Z"
   },
   {
    "duration": 54,
    "start_time": "2023-04-18T19:35:11.253Z"
   },
   {
    "duration": 198,
    "start_time": "2023-04-18T19:35:11.308Z"
   },
   {
    "duration": 0,
    "start_time": "2023-04-18T19:35:11.509Z"
   },
   {
    "duration": 0,
    "start_time": "2023-04-18T19:35:11.510Z"
   },
   {
    "duration": 0,
    "start_time": "2023-04-18T19:35:11.511Z"
   },
   {
    "duration": 0,
    "start_time": "2023-04-18T19:35:11.512Z"
   },
   {
    "duration": 0,
    "start_time": "2023-04-18T19:35:11.513Z"
   },
   {
    "duration": 0,
    "start_time": "2023-04-18T19:35:11.514Z"
   },
   {
    "duration": 0,
    "start_time": "2023-04-18T19:35:11.515Z"
   },
   {
    "duration": 0,
    "start_time": "2023-04-18T19:35:11.516Z"
   },
   {
    "duration": 0,
    "start_time": "2023-04-18T19:35:11.517Z"
   },
   {
    "duration": 0,
    "start_time": "2023-04-18T19:35:11.518Z"
   },
   {
    "duration": 20,
    "start_time": "2023-04-18T19:37:18.868Z"
   },
   {
    "duration": 863,
    "start_time": "2023-04-18T19:37:27.011Z"
   },
   {
    "duration": 3,
    "start_time": "2023-04-18T19:37:41.112Z"
   },
   {
    "duration": 9,
    "start_time": "2023-04-18T19:37:43.162Z"
   },
   {
    "duration": 22,
    "start_time": "2023-04-18T19:37:45.609Z"
   },
   {
    "duration": 5,
    "start_time": "2023-04-18T19:38:15.311Z"
   },
   {
    "duration": 1461,
    "start_time": "2023-04-18T19:59:35.249Z"
   },
   {
    "duration": 319,
    "start_time": "2023-04-18T19:59:36.712Z"
   },
   {
    "duration": 11,
    "start_time": "2023-04-18T19:59:37.033Z"
   },
   {
    "duration": 19,
    "start_time": "2023-04-18T19:59:37.046Z"
   },
   {
    "duration": 31,
    "start_time": "2023-04-18T19:59:37.067Z"
   },
   {
    "duration": 17,
    "start_time": "2023-04-18T19:59:37.101Z"
   },
   {
    "duration": 105,
    "start_time": "2023-04-18T19:59:37.120Z"
   },
   {
    "duration": 75,
    "start_time": "2023-04-18T19:59:37.239Z"
   },
   {
    "duration": 88,
    "start_time": "2023-04-18T19:59:37.316Z"
   },
   {
    "duration": 73,
    "start_time": "2023-04-18T19:59:37.407Z"
   },
   {
    "duration": 19,
    "start_time": "2023-04-18T19:59:37.482Z"
   },
   {
    "duration": 12,
    "start_time": "2023-04-18T19:59:37.504Z"
   },
   {
    "duration": 7,
    "start_time": "2023-04-18T19:59:37.517Z"
   },
   {
    "duration": 20,
    "start_time": "2023-04-18T19:59:37.525Z"
   },
   {
    "duration": 49,
    "start_time": "2023-04-18T19:59:37.547Z"
   },
   {
    "duration": 27,
    "start_time": "2023-04-18T19:59:37.598Z"
   },
   {
    "duration": 418,
    "start_time": "2023-04-18T19:59:37.627Z"
   },
   {
    "duration": 33,
    "start_time": "2023-04-18T19:59:38.046Z"
   },
   {
    "duration": 10,
    "start_time": "2023-04-18T19:59:38.094Z"
   },
   {
    "duration": 42,
    "start_time": "2023-04-18T19:59:38.107Z"
   },
   {
    "duration": 20,
    "start_time": "2023-04-18T19:59:38.152Z"
   },
   {
    "duration": 250,
    "start_time": "2023-04-18T19:59:38.174Z"
   },
   {
    "duration": 73,
    "start_time": "2023-04-18T19:59:38.426Z"
   },
   {
    "duration": 247,
    "start_time": "2023-04-18T19:59:38.501Z"
   },
   {
    "duration": 61,
    "start_time": "2023-04-18T19:59:38.750Z"
   },
   {
    "duration": 37,
    "start_time": "2023-04-18T19:59:38.812Z"
   },
   {
    "duration": 102,
    "start_time": "2023-04-18T19:59:38.892Z"
   },
   {
    "duration": 4,
    "start_time": "2023-04-18T19:59:38.998Z"
   },
   {
    "duration": 13,
    "start_time": "2023-04-18T19:59:39.004Z"
   },
   {
    "duration": 12,
    "start_time": "2023-04-18T19:59:39.019Z"
   },
   {
    "duration": 10,
    "start_time": "2023-04-18T19:59:39.033Z"
   },
   {
    "duration": 34,
    "start_time": "2023-04-18T19:59:39.045Z"
   },
   {
    "duration": 29,
    "start_time": "2023-04-18T19:59:39.081Z"
   },
   {
    "duration": 22,
    "start_time": "2023-04-18T19:59:39.111Z"
   },
   {
    "duration": 47,
    "start_time": "2023-04-18T19:59:39.135Z"
   },
   {
    "duration": 0,
    "start_time": "2023-04-18T19:59:39.184Z"
   },
   {
    "duration": 0,
    "start_time": "2023-04-18T19:59:39.185Z"
   },
   {
    "duration": 0,
    "start_time": "2023-04-18T19:59:39.187Z"
   },
   {
    "duration": 0,
    "start_time": "2023-04-18T19:59:39.189Z"
   },
   {
    "duration": 0,
    "start_time": "2023-04-18T19:59:39.190Z"
   },
   {
    "duration": 0,
    "start_time": "2023-04-18T19:59:39.191Z"
   },
   {
    "duration": 1663,
    "start_time": "2023-04-19T05:34:24.860Z"
   },
   {
    "duration": 1469,
    "start_time": "2023-04-19T05:34:26.525Z"
   },
   {
    "duration": 37,
    "start_time": "2023-04-19T05:34:28.006Z"
   },
   {
    "duration": 78,
    "start_time": "2023-04-19T05:34:28.051Z"
   },
   {
    "duration": 34,
    "start_time": "2023-04-19T05:34:28.134Z"
   },
   {
    "duration": 101,
    "start_time": "2023-04-19T05:34:28.174Z"
   },
   {
    "duration": 182,
    "start_time": "2023-04-19T05:34:28.277Z"
   },
   {
    "duration": 98,
    "start_time": "2023-04-19T05:34:28.466Z"
   },
   {
    "duration": 161,
    "start_time": "2023-04-19T05:34:28.572Z"
   },
   {
    "duration": 142,
    "start_time": "2023-04-19T05:34:28.736Z"
   },
   {
    "duration": 106,
    "start_time": "2023-04-19T05:34:28.880Z"
   },
   {
    "duration": 91,
    "start_time": "2023-04-19T05:34:28.994Z"
   },
   {
    "duration": 84,
    "start_time": "2023-04-19T05:34:29.090Z"
   },
   {
    "duration": 96,
    "start_time": "2023-04-19T05:34:29.177Z"
   },
   {
    "duration": 48,
    "start_time": "2023-04-19T05:34:29.278Z"
   },
   {
    "duration": 89,
    "start_time": "2023-04-19T05:34:29.331Z"
   },
   {
    "duration": 646,
    "start_time": "2023-04-19T05:34:29.426Z"
   },
   {
    "duration": 55,
    "start_time": "2023-04-19T05:34:30.080Z"
   },
   {
    "duration": 18,
    "start_time": "2023-04-19T05:34:30.145Z"
   },
   {
    "duration": 145,
    "start_time": "2023-04-19T05:34:30.164Z"
   },
   {
    "duration": 109,
    "start_time": "2023-04-19T05:34:30.310Z"
   },
   {
    "duration": 442,
    "start_time": "2023-04-19T05:34:30.425Z"
   },
   {
    "duration": 132,
    "start_time": "2023-04-19T05:34:30.880Z"
   },
   {
    "duration": 535,
    "start_time": "2023-04-19T05:34:31.024Z"
   },
   {
    "duration": 110,
    "start_time": "2023-04-19T05:34:31.563Z"
   },
   {
    "duration": 242,
    "start_time": "2023-04-19T05:34:31.675Z"
   },
   {
    "duration": 230,
    "start_time": "2023-04-19T05:34:31.919Z"
   },
   {
    "duration": 22,
    "start_time": "2023-04-19T05:34:32.162Z"
   },
   {
    "duration": 136,
    "start_time": "2023-04-19T05:34:32.191Z"
   },
   {
    "duration": 142,
    "start_time": "2023-04-19T05:34:32.336Z"
   },
   {
    "duration": 131,
    "start_time": "2023-04-19T05:34:32.483Z"
   },
   {
    "duration": 176,
    "start_time": "2023-04-19T05:34:32.635Z"
   },
   {
    "duration": 58,
    "start_time": "2023-04-19T05:34:32.827Z"
   },
   {
    "duration": 65,
    "start_time": "2023-04-19T05:34:32.916Z"
   },
   {
    "duration": 126,
    "start_time": "2023-04-19T05:34:32.983Z"
   },
   {
    "duration": 193,
    "start_time": "2023-04-19T05:34:33.111Z"
   },
   {
    "duration": 328,
    "start_time": "2023-04-19T05:34:33.309Z"
   },
   {
    "duration": 168,
    "start_time": "2023-04-19T05:34:33.641Z"
   },
   {
    "duration": 1,
    "start_time": "2023-04-19T05:34:33.817Z"
   },
   {
    "duration": 12,
    "start_time": "2023-04-19T05:46:27.662Z"
   },
   {
    "duration": 12,
    "start_time": "2023-04-19T05:46:31.031Z"
   },
   {
    "duration": 51,
    "start_time": "2023-04-19T08:52:50.042Z"
   },
   {
    "duration": 1167,
    "start_time": "2023-04-19T08:52:58.999Z"
   },
   {
    "duration": 541,
    "start_time": "2023-04-19T08:53:00.168Z"
   },
   {
    "duration": 12,
    "start_time": "2023-04-19T08:53:00.711Z"
   },
   {
    "duration": 47,
    "start_time": "2023-04-19T08:53:00.725Z"
   },
   {
    "duration": 37,
    "start_time": "2023-04-19T08:53:00.775Z"
   },
   {
    "duration": 28,
    "start_time": "2023-04-19T08:53:00.814Z"
   },
   {
    "duration": 70,
    "start_time": "2023-04-19T08:53:00.844Z"
   },
   {
    "duration": 64,
    "start_time": "2023-04-19T08:53:00.916Z"
   },
   {
    "duration": 81,
    "start_time": "2023-04-19T08:53:00.982Z"
   },
   {
    "duration": 55,
    "start_time": "2023-04-19T08:53:01.066Z"
   },
   {
    "duration": 67,
    "start_time": "2023-04-19T08:53:01.123Z"
   },
   {
    "duration": 39,
    "start_time": "2023-04-19T08:53:01.192Z"
   },
   {
    "duration": 44,
    "start_time": "2023-04-19T08:53:01.233Z"
   },
   {
    "duration": 56,
    "start_time": "2023-04-19T08:53:01.279Z"
   },
   {
    "duration": 25,
    "start_time": "2023-04-19T08:53:01.337Z"
   },
   {
    "duration": 35,
    "start_time": "2023-04-19T08:53:01.364Z"
   },
   {
    "duration": 392,
    "start_time": "2023-04-19T08:53:01.401Z"
   },
   {
    "duration": 28,
    "start_time": "2023-04-19T08:53:01.795Z"
   },
   {
    "duration": 15,
    "start_time": "2023-04-19T08:53:01.824Z"
   },
   {
    "duration": 51,
    "start_time": "2023-04-19T08:53:01.840Z"
   },
   {
    "duration": 31,
    "start_time": "2023-04-19T08:53:01.893Z"
   },
   {
    "duration": 195,
    "start_time": "2023-04-19T08:53:01.926Z"
   },
   {
    "duration": 68,
    "start_time": "2023-04-19T08:53:02.122Z"
   },
   {
    "duration": 160,
    "start_time": "2023-04-19T08:53:02.191Z"
   },
   {
    "duration": 41,
    "start_time": "2023-04-19T08:53:02.352Z"
   },
   {
    "duration": 83,
    "start_time": "2023-04-19T08:53:02.396Z"
   },
   {
    "duration": 123,
    "start_time": "2023-04-19T08:53:02.480Z"
   },
   {
    "duration": 4,
    "start_time": "2023-04-19T08:53:02.606Z"
   },
   {
    "duration": 7,
    "start_time": "2023-04-19T08:53:02.611Z"
   },
   {
    "duration": 10,
    "start_time": "2023-04-19T08:53:02.620Z"
   },
   {
    "duration": 22,
    "start_time": "2023-04-19T08:53:02.631Z"
   },
   {
    "duration": 28,
    "start_time": "2023-04-19T08:53:02.655Z"
   },
   {
    "duration": 21,
    "start_time": "2023-04-19T08:53:02.685Z"
   },
   {
    "duration": 25,
    "start_time": "2023-04-19T08:53:02.708Z"
   },
   {
    "duration": 4,
    "start_time": "2023-04-19T08:53:02.734Z"
   },
   {
    "duration": 27,
    "start_time": "2023-04-19T08:53:02.739Z"
   },
   {
    "duration": 29,
    "start_time": "2023-04-19T08:53:02.768Z"
   },
   {
    "duration": 8,
    "start_time": "2023-04-19T08:53:02.798Z"
   },
   {
    "duration": 94,
    "start_time": "2023-04-19T08:53:55.281Z"
   },
   {
    "duration": 85,
    "start_time": "2023-04-19T08:54:09.961Z"
   },
   {
    "duration": 106,
    "start_time": "2023-04-19T08:55:09.419Z"
   },
   {
    "duration": 175,
    "start_time": "2023-04-19T08:55:32.205Z"
   },
   {
    "duration": 92,
    "start_time": "2023-04-19T08:56:11.347Z"
   },
   {
    "duration": 80,
    "start_time": "2023-04-19T08:57:15.708Z"
   },
   {
    "duration": 287,
    "start_time": "2023-04-19T09:01:17.658Z"
   },
   {
    "duration": 8,
    "start_time": "2023-04-19T09:04:57.169Z"
   },
   {
    "duration": 7,
    "start_time": "2023-04-19T09:11:42.976Z"
   },
   {
    "duration": 9,
    "start_time": "2023-04-19T09:13:04.346Z"
   },
   {
    "duration": 8,
    "start_time": "2023-04-19T09:13:25.409Z"
   },
   {
    "duration": 10,
    "start_time": "2023-04-19T09:13:46.337Z"
   },
   {
    "duration": 111,
    "start_time": "2023-04-19T09:14:51.434Z"
   },
   {
    "duration": 209,
    "start_time": "2023-04-19T09:38:33.166Z"
   },
   {
    "duration": 128,
    "start_time": "2023-04-19T09:50:35.861Z"
   },
   {
    "duration": 231,
    "start_time": "2023-04-19T09:51:13.504Z"
   },
   {
    "duration": 15,
    "start_time": "2023-04-19T09:53:31.170Z"
   },
   {
    "duration": 1039,
    "start_time": "2023-04-19T09:54:36.244Z"
   },
   {
    "duration": 191,
    "start_time": "2023-04-19T09:54:37.285Z"
   },
   {
    "duration": 11,
    "start_time": "2023-04-19T09:54:37.477Z"
   },
   {
    "duration": 19,
    "start_time": "2023-04-19T09:54:37.490Z"
   },
   {
    "duration": 10,
    "start_time": "2023-04-19T09:54:37.512Z"
   },
   {
    "duration": 31,
    "start_time": "2023-04-19T09:54:37.524Z"
   },
   {
    "duration": 59,
    "start_time": "2023-04-19T09:54:37.556Z"
   },
   {
    "duration": 71,
    "start_time": "2023-04-19T09:54:37.617Z"
   },
   {
    "duration": 74,
    "start_time": "2023-04-19T09:54:37.690Z"
   },
   {
    "duration": 55,
    "start_time": "2023-04-19T09:54:37.765Z"
   },
   {
    "duration": 17,
    "start_time": "2023-04-19T09:54:37.821Z"
   },
   {
    "duration": 12,
    "start_time": "2023-04-19T09:54:37.849Z"
   },
   {
    "duration": 9,
    "start_time": "2023-04-19T09:54:37.863Z"
   },
   {
    "duration": 26,
    "start_time": "2023-04-19T09:54:37.874Z"
   },
   {
    "duration": 15,
    "start_time": "2023-04-19T09:54:37.901Z"
   },
   {
    "duration": 31,
    "start_time": "2023-04-19T09:54:37.918Z"
   },
   {
    "duration": 359,
    "start_time": "2023-04-19T09:54:37.950Z"
   },
   {
    "duration": 28,
    "start_time": "2023-04-19T09:54:38.311Z"
   },
   {
    "duration": 6,
    "start_time": "2023-04-19T09:54:38.349Z"
   },
   {
    "duration": 9,
    "start_time": "2023-04-19T09:54:38.356Z"
   },
   {
    "duration": 10,
    "start_time": "2023-04-19T09:54:38.366Z"
   },
   {
    "duration": 16,
    "start_time": "2023-04-19T09:54:38.377Z"
   },
   {
    "duration": 18,
    "start_time": "2023-04-19T09:54:38.394Z"
   },
   {
    "duration": 226,
    "start_time": "2023-04-19T09:54:38.413Z"
   },
   {
    "duration": 59,
    "start_time": "2023-04-19T09:54:38.640Z"
   },
   {
    "duration": 161,
    "start_time": "2023-04-19T09:54:38.701Z"
   },
   {
    "duration": 37,
    "start_time": "2023-04-19T09:54:38.864Z"
   },
   {
    "duration": 82,
    "start_time": "2023-04-19T09:54:38.903Z"
   },
   {
    "duration": 118,
    "start_time": "2023-04-19T09:54:38.986Z"
   },
   {
    "duration": 3,
    "start_time": "2023-04-19T09:54:39.106Z"
   },
   {
    "duration": 11,
    "start_time": "2023-04-19T09:54:39.110Z"
   },
   {
    "duration": 7,
    "start_time": "2023-04-19T09:54:39.123Z"
   },
   {
    "duration": 18,
    "start_time": "2023-04-19T09:54:39.131Z"
   },
   {
    "duration": 17,
    "start_time": "2023-04-19T09:54:39.150Z"
   },
   {
    "duration": 14,
    "start_time": "2023-04-19T09:54:39.168Z"
   },
   {
    "duration": 14,
    "start_time": "2023-04-19T09:54:39.183Z"
   },
   {
    "duration": 3,
    "start_time": "2023-04-19T09:54:39.198Z"
   },
   {
    "duration": 9,
    "start_time": "2023-04-19T09:54:39.202Z"
   },
   {
    "duration": 41,
    "start_time": "2023-04-19T09:54:39.213Z"
   },
   {
    "duration": 3,
    "start_time": "2023-04-19T09:54:39.256Z"
   },
   {
    "duration": 4,
    "start_time": "2023-04-19T10:06:48.424Z"
   },
   {
    "duration": 995,
    "start_time": "2023-04-19T10:10:10.403Z"
   },
   {
    "duration": 192,
    "start_time": "2023-04-19T10:10:11.400Z"
   },
   {
    "duration": 11,
    "start_time": "2023-04-19T10:10:11.594Z"
   },
   {
    "duration": 20,
    "start_time": "2023-04-19T10:10:11.606Z"
   },
   {
    "duration": 29,
    "start_time": "2023-04-19T10:10:11.629Z"
   },
   {
    "duration": 18,
    "start_time": "2023-04-19T10:10:11.659Z"
   },
   {
    "duration": 61,
    "start_time": "2023-04-19T10:10:11.678Z"
   },
   {
    "duration": 57,
    "start_time": "2023-04-19T10:10:11.749Z"
   },
   {
    "duration": 76,
    "start_time": "2023-04-19T10:10:11.808Z"
   },
   {
    "duration": 77,
    "start_time": "2023-04-19T10:10:11.885Z"
   },
   {
    "duration": 9,
    "start_time": "2023-04-19T10:10:11.963Z"
   },
   {
    "duration": 14,
    "start_time": "2023-04-19T10:10:11.973Z"
   },
   {
    "duration": 9,
    "start_time": "2023-04-19T10:10:11.989Z"
   },
   {
    "duration": 18,
    "start_time": "2023-04-19T10:10:12.000Z"
   },
   {
    "duration": 37,
    "start_time": "2023-04-19T10:10:12.019Z"
   },
   {
    "duration": 15,
    "start_time": "2023-04-19T10:10:12.058Z"
   },
   {
    "duration": 398,
    "start_time": "2023-04-19T10:10:12.075Z"
   },
   {
    "duration": 30,
    "start_time": "2023-04-19T10:10:12.474Z"
   },
   {
    "duration": 6,
    "start_time": "2023-04-19T10:10:12.505Z"
   },
   {
    "duration": 21,
    "start_time": "2023-04-19T10:10:12.513Z"
   },
   {
    "duration": 16,
    "start_time": "2023-04-19T10:10:12.535Z"
   },
   {
    "duration": 18,
    "start_time": "2023-04-19T10:10:12.553Z"
   },
   {
    "duration": 16,
    "start_time": "2023-04-19T10:10:12.573Z"
   },
   {
    "duration": 220,
    "start_time": "2023-04-19T10:10:12.591Z"
   },
   {
    "duration": 65,
    "start_time": "2023-04-19T10:10:12.812Z"
   },
   {
    "duration": 172,
    "start_time": "2023-04-19T10:10:12.878Z"
   },
   {
    "duration": 45,
    "start_time": "2023-04-19T10:10:13.051Z"
   },
   {
    "duration": 85,
    "start_time": "2023-04-19T10:10:13.097Z"
   },
   {
    "duration": 129,
    "start_time": "2023-04-19T10:10:13.184Z"
   },
   {
    "duration": 4,
    "start_time": "2023-04-19T10:10:13.314Z"
   },
   {
    "duration": 33,
    "start_time": "2023-04-19T10:10:13.319Z"
   },
   {
    "duration": 7,
    "start_time": "2023-04-19T10:10:13.353Z"
   },
   {
    "duration": 11,
    "start_time": "2023-04-19T10:10:13.362Z"
   },
   {
    "duration": 21,
    "start_time": "2023-04-19T10:10:13.375Z"
   },
   {
    "duration": 15,
    "start_time": "2023-04-19T10:10:13.398Z"
   },
   {
    "duration": 44,
    "start_time": "2023-04-19T10:10:13.415Z"
   },
   {
    "duration": 5,
    "start_time": "2023-04-19T10:10:13.461Z"
   },
   {
    "duration": 14,
    "start_time": "2023-04-19T10:10:13.467Z"
   },
   {
    "duration": 27,
    "start_time": "2023-04-19T10:10:13.483Z"
   },
   {
    "duration": 9,
    "start_time": "2023-04-19T10:10:13.511Z"
   },
   {
    "duration": 1312,
    "start_time": "2023-04-20T06:17:11.636Z"
   },
   {
    "duration": 637,
    "start_time": "2023-04-20T06:17:12.950Z"
   },
   {
    "duration": 13,
    "start_time": "2023-04-20T06:17:13.589Z"
   },
   {
    "duration": 27,
    "start_time": "2023-04-20T06:17:13.604Z"
   },
   {
    "duration": 11,
    "start_time": "2023-04-20T06:17:13.633Z"
   },
   {
    "duration": 31,
    "start_time": "2023-04-20T06:17:13.645Z"
   },
   {
    "duration": 64,
    "start_time": "2023-04-20T06:17:13.678Z"
   },
   {
    "duration": 66,
    "start_time": "2023-04-20T06:17:13.744Z"
   },
   {
    "duration": 71,
    "start_time": "2023-04-20T06:17:13.812Z"
   },
   {
    "duration": 56,
    "start_time": "2023-04-20T06:17:13.886Z"
   },
   {
    "duration": 18,
    "start_time": "2023-04-20T06:17:13.944Z"
   },
   {
    "duration": 31,
    "start_time": "2023-04-20T06:17:13.963Z"
   },
   {
    "duration": 11,
    "start_time": "2023-04-20T06:17:13.996Z"
   },
   {
    "duration": 20,
    "start_time": "2023-04-20T06:17:14.008Z"
   },
   {
    "duration": 13,
    "start_time": "2023-04-20T06:17:14.029Z"
   },
   {
    "duration": 40,
    "start_time": "2023-04-20T06:17:14.043Z"
   },
   {
    "duration": 349,
    "start_time": "2023-04-20T06:17:14.085Z"
   },
   {
    "duration": 28,
    "start_time": "2023-04-20T06:17:14.435Z"
   },
   {
    "duration": 6,
    "start_time": "2023-04-20T06:17:14.472Z"
   },
   {
    "duration": 15,
    "start_time": "2023-04-20T06:17:14.480Z"
   },
   {
    "duration": 21,
    "start_time": "2023-04-20T06:17:14.497Z"
   },
   {
    "duration": 16,
    "start_time": "2023-04-20T06:17:14.519Z"
   },
   {
    "duration": 33,
    "start_time": "2023-04-20T06:17:14.537Z"
   },
   {
    "duration": 214,
    "start_time": "2023-04-20T06:17:14.572Z"
   },
   {
    "duration": 58,
    "start_time": "2023-04-20T06:17:14.788Z"
   },
   {
    "duration": 258,
    "start_time": "2023-04-20T06:17:14.848Z"
   },
   {
    "duration": 70,
    "start_time": "2023-04-20T06:17:15.107Z"
   },
   {
    "duration": 32,
    "start_time": "2023-04-20T06:17:15.180Z"
   },
   {
    "duration": 128,
    "start_time": "2023-04-20T06:17:15.213Z"
   },
   {
    "duration": 3,
    "start_time": "2023-04-20T06:17:15.343Z"
   },
   {
    "duration": 28,
    "start_time": "2023-04-20T06:17:15.347Z"
   },
   {
    "duration": 8,
    "start_time": "2023-04-20T06:17:15.377Z"
   },
   {
    "duration": 14,
    "start_time": "2023-04-20T06:17:15.386Z"
   },
   {
    "duration": 18,
    "start_time": "2023-04-20T06:17:15.401Z"
   },
   {
    "duration": 16,
    "start_time": "2023-04-20T06:17:15.420Z"
   },
   {
    "duration": 14,
    "start_time": "2023-04-20T06:17:15.437Z"
   },
   {
    "duration": 21,
    "start_time": "2023-04-20T06:17:15.452Z"
   },
   {
    "duration": 23,
    "start_time": "2023-04-20T06:17:15.474Z"
   },
   {
    "duration": 27,
    "start_time": "2023-04-20T06:17:15.499Z"
   },
   {
    "duration": 6,
    "start_time": "2023-04-20T06:17:15.527Z"
   },
   {
    "duration": 52,
    "start_time": "2023-06-08T13:35:04.035Z"
   },
   {
    "duration": 1001,
    "start_time": "2023-06-08T13:35:13.383Z"
   },
   {
    "duration": 556,
    "start_time": "2023-06-08T13:35:14.386Z"
   },
   {
    "duration": 11,
    "start_time": "2023-06-08T13:35:14.944Z"
   },
   {
    "duration": 35,
    "start_time": "2023-06-08T13:35:14.957Z"
   },
   {
    "duration": 15,
    "start_time": "2023-06-08T13:35:14.994Z"
   },
   {
    "duration": 11,
    "start_time": "2023-06-08T13:35:15.128Z"
   },
   {
    "duration": 70,
    "start_time": "2023-06-08T13:35:15.309Z"
   },
   {
    "duration": 64,
    "start_time": "2023-06-08T13:35:15.489Z"
   },
   {
    "duration": 75,
    "start_time": "2023-06-08T13:35:15.684Z"
   },
   {
    "duration": 64,
    "start_time": "2023-06-08T13:35:15.850Z"
   },
   {
    "duration": 9,
    "start_time": "2023-06-08T13:35:16.031Z"
   },
   {
    "duration": 14,
    "start_time": "2023-06-08T13:35:17.294Z"
   },
   {
    "duration": 7,
    "start_time": "2023-06-08T13:35:17.479Z"
   },
   {
    "duration": 22,
    "start_time": "2023-06-08T13:35:17.877Z"
   },
   {
    "duration": 18,
    "start_time": "2023-06-08T13:35:18.434Z"
   },
   {
    "duration": 19,
    "start_time": "2023-06-08T13:35:18.642Z"
   },
   {
    "duration": 409,
    "start_time": "2023-06-08T13:35:19.019Z"
   },
   {
    "duration": 33,
    "start_time": "2023-06-08T13:35:20.183Z"
   },
   {
    "duration": 7,
    "start_time": "2023-06-08T13:35:20.363Z"
   },
   {
    "duration": 6,
    "start_time": "2023-06-08T13:35:20.587Z"
   },
   {
    "duration": 10,
    "start_time": "2023-06-08T13:35:20.756Z"
   },
   {
    "duration": 20,
    "start_time": "2023-06-08T13:35:21.735Z"
   },
   {
    "duration": 20,
    "start_time": "2023-06-08T13:35:22.154Z"
   },
   {
    "duration": 219,
    "start_time": "2023-06-08T13:35:23.313Z"
   },
   {
    "duration": 82,
    "start_time": "2023-06-08T13:35:24.117Z"
   },
   {
    "duration": 231,
    "start_time": "2023-06-08T13:35:25.336Z"
   },
   {
    "duration": 953,
    "start_time": "2023-08-25T12:27:50.091Z"
   },
   {
    "duration": 649,
    "start_time": "2023-08-25T12:27:51.047Z"
   },
   {
    "duration": 10,
    "start_time": "2023-08-25T12:27:51.698Z"
   },
   {
    "duration": 32,
    "start_time": "2023-08-25T12:27:51.710Z"
   },
   {
    "duration": 10,
    "start_time": "2023-08-25T12:27:51.745Z"
   },
   {
    "duration": 15,
    "start_time": "2023-08-25T12:27:51.757Z"
   },
   {
    "duration": 62,
    "start_time": "2023-08-25T12:27:51.773Z"
   },
   {
    "duration": 56,
    "start_time": "2023-08-25T12:27:51.836Z"
   },
   {
    "duration": 75,
    "start_time": "2023-08-25T12:27:51.893Z"
   },
   {
    "duration": 59,
    "start_time": "2023-08-25T12:27:51.970Z"
   },
   {
    "duration": 21,
    "start_time": "2023-08-25T12:27:52.031Z"
   },
   {
    "duration": 34,
    "start_time": "2023-08-25T12:27:52.054Z"
   },
   {
    "duration": 30,
    "start_time": "2023-08-25T12:27:52.090Z"
   },
   {
    "duration": 29,
    "start_time": "2023-08-25T12:27:52.125Z"
   },
   {
    "duration": 28,
    "start_time": "2023-08-25T12:27:52.156Z"
   },
   {
    "duration": 61,
    "start_time": "2023-08-25T12:27:52.186Z"
   },
   {
    "duration": 377,
    "start_time": "2023-08-25T12:27:52.249Z"
   },
   {
    "duration": 34,
    "start_time": "2023-08-25T12:27:52.628Z"
   },
   {
    "duration": 6,
    "start_time": "2023-08-25T12:27:52.664Z"
   },
   {
    "duration": 19,
    "start_time": "2023-08-25T12:27:52.671Z"
   },
   {
    "duration": 42,
    "start_time": "2023-08-25T12:27:52.692Z"
   },
   {
    "duration": 27,
    "start_time": "2023-08-25T12:27:52.736Z"
   },
   {
    "duration": 21,
    "start_time": "2023-08-25T12:27:52.765Z"
   },
   {
    "duration": 177,
    "start_time": "2023-08-25T12:27:52.788Z"
   },
   {
    "duration": 56,
    "start_time": "2023-08-25T12:27:52.967Z"
   },
   {
    "duration": 176,
    "start_time": "2023-08-25T12:27:53.025Z"
   },
   {
    "duration": 46,
    "start_time": "2023-08-25T12:27:53.203Z"
   },
   {
    "duration": 34,
    "start_time": "2023-08-25T12:27:53.251Z"
   },
   {
    "duration": 110,
    "start_time": "2023-08-25T12:27:53.286Z"
   },
   {
    "duration": 4,
    "start_time": "2023-08-25T12:27:53.397Z"
   },
   {
    "duration": 13,
    "start_time": "2023-08-25T12:27:53.403Z"
   },
   {
    "duration": 16,
    "start_time": "2023-08-25T12:27:53.417Z"
   },
   {
    "duration": 24,
    "start_time": "2023-08-25T12:27:53.434Z"
   },
   {
    "duration": 29,
    "start_time": "2023-08-25T12:27:53.460Z"
   },
   {
    "duration": 15,
    "start_time": "2023-08-25T12:27:53.491Z"
   },
   {
    "duration": 15,
    "start_time": "2023-08-25T12:27:53.508Z"
   },
   {
    "duration": 14,
    "start_time": "2023-08-25T12:27:53.524Z"
   },
   {
    "duration": 20,
    "start_time": "2023-08-25T12:27:53.540Z"
   },
   {
    "duration": 39,
    "start_time": "2023-08-25T12:27:53.561Z"
   },
   {
    "duration": 4,
    "start_time": "2023-08-25T12:27:53.601Z"
   },
   {
    "duration": 941,
    "start_time": "2023-08-25T12:31:36.899Z"
   },
   {
    "duration": 197,
    "start_time": "2023-08-25T12:31:37.842Z"
   },
   {
    "duration": 12,
    "start_time": "2023-08-25T12:31:38.041Z"
   },
   {
    "duration": 28,
    "start_time": "2023-08-25T12:31:38.055Z"
   },
   {
    "duration": 10,
    "start_time": "2023-08-25T12:31:38.084Z"
   },
   {
    "duration": 10,
    "start_time": "2023-08-25T12:31:38.095Z"
   },
   {
    "duration": 69,
    "start_time": "2023-08-25T12:31:38.106Z"
   },
   {
    "duration": 53,
    "start_time": "2023-08-25T12:31:38.177Z"
   },
   {
    "duration": 71,
    "start_time": "2023-08-25T12:31:38.231Z"
   },
   {
    "duration": 62,
    "start_time": "2023-08-25T12:31:38.305Z"
   },
   {
    "duration": 8,
    "start_time": "2023-08-25T12:31:38.369Z"
   },
   {
    "duration": 14,
    "start_time": "2023-08-25T12:31:38.378Z"
   },
   {
    "duration": 19,
    "start_time": "2023-08-25T12:31:38.393Z"
   },
   {
    "duration": 43,
    "start_time": "2023-08-25T12:31:38.414Z"
   },
   {
    "duration": 20,
    "start_time": "2023-08-25T12:31:38.459Z"
   },
   {
    "duration": 26,
    "start_time": "2023-08-25T12:31:38.482Z"
   },
   {
    "duration": 373,
    "start_time": "2023-08-25T12:31:38.510Z"
   },
   {
    "duration": 31,
    "start_time": "2023-08-25T12:31:38.885Z"
   },
   {
    "duration": 7,
    "start_time": "2023-08-25T12:31:38.917Z"
   },
   {
    "duration": 25,
    "start_time": "2023-08-25T12:31:38.925Z"
   },
   {
    "duration": 11,
    "start_time": "2023-08-25T12:31:38.952Z"
   },
   {
    "duration": 22,
    "start_time": "2023-08-25T12:31:38.964Z"
   },
   {
    "duration": 17,
    "start_time": "2023-08-25T12:31:38.987Z"
   },
   {
    "duration": 223,
    "start_time": "2023-08-25T12:31:39.006Z"
   },
   {
    "duration": 67,
    "start_time": "2023-08-25T12:31:39.230Z"
   }
  ],
  "kernelspec": {
   "display_name": "Python 3 (ipykernel)",
   "language": "python",
   "name": "python3"
  },
  "language_info": {
   "codemirror_mode": {
    "name": "ipython",
    "version": 3
   },
   "file_extension": ".py",
   "mimetype": "text/x-python",
   "name": "python",
   "nbconvert_exporter": "python",
   "pygments_lexer": "ipython3",
   "version": "3.9.5"
  },
  "toc": {
   "base_numbering": 1,
   "nav_menu": {},
   "number_sections": true,
   "sideBar": true,
   "skip_h1_title": true,
   "title_cell": "Table of Contents",
   "title_sidebar": "Contents",
   "toc_cell": false,
   "toc_position": {
    "height": "calc(100% - 180px)",
    "left": "10px",
    "top": "150px",
    "width": "182.7px"
   },
   "toc_section_display": true,
   "toc_window_display": true
  }
 },
 "nbformat": 4,
 "nbformat_minor": 2
}
