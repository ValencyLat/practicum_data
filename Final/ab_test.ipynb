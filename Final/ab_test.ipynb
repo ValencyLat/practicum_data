{
 "cells": [
  {
   "cell_type": "markdown",
   "metadata": {
    "toc": true
   },
   "source": [
    "<h1>Содержание<span class=\"tocSkip\"></span></h1>\n",
    "<div class=\"toc\"><ul class=\"toc-item\"><li><span><a href=\"#ИЗУЧИТЬ-ДАННЫЕ\" data-toc-modified-id=\"ИЗУЧИТЬ-ДАННЫЕ-1\"><span class=\"toc-item-num\">1&nbsp;&nbsp;</span>ИЗУЧИТЬ ДАННЫЕ</a></span></li><li><span><a href=\"#ПРЕДОБРАБОТКА-ДАННЫХ\" data-toc-modified-id=\"ПРЕДОБРАБОТКА-ДАННЫХ-2\"><span class=\"toc-item-num\">2&nbsp;&nbsp;</span>ПРЕДОБРАБОТКА ДАННЫХ</a></span><ul class=\"toc-item\"><li><span><a href=\"#Проверим-корректность-всех-пунктов-технического-задания.\" data-toc-modified-id=\"Проверим-корректность-всех-пунктов-технического-задания.-2.1\"><span class=\"toc-item-num\">2.1&nbsp;&nbsp;</span>Проверим корректность всех пунктов технического задания.</a></span></li></ul></li><li><span><a href=\"#ИССЛЕДОВАТЕЛЬСКИЙ-АНАЛИЗ-ДАННЫХ\" data-toc-modified-id=\"ИССЛЕДОВАТЕЛЬСКИЙ-АНАЛИЗ-ДАННЫХ-3\"><span class=\"toc-item-num\">3&nbsp;&nbsp;</span>ИССЛЕДОВАТЕЛЬСКИЙ АНАЛИЗ ДАННЫХ</a></span></li><li><span><a href=\"#ВЫВОД\" data-toc-modified-id=\"ВЫВОД-4\"><span class=\"toc-item-num\">4&nbsp;&nbsp;</span>ВЫВОД</a></span></li></ul></div>"
   ]
  },
  {
   "cell_type": "markdown",
   "metadata": {},
   "source": [
    "# A/B - тестирование  изменений, связанных с внедрением улучшенной рекомендательной системы\n",
    "**Финальный проект**"
   ]
  },
  {
   "cell_type": "markdown",
   "metadata": {},
   "source": [
    "ЦЕЛЬ — провести оценку результатов A/B-теста. \n",
    "\n",
    "Оцените корректность проведения теста и проанализируйте его результаты\n",
    "(удостоверьтесь, что нет пересечений с конкурирующим тестом и нет пользователей, участвующих в двух группах теста одновременно;\n",
    "проверьте равномерность распределения пользователей по тестовым группам и правильность их формирования).\n"
   ]
  },
  {
   "cell_type": "markdown",
   "metadata": {},
   "source": [
    "ДАННЫЕ:Датасет с действиями пользователей, техническое задание и несколько вспомогательных датасетов.\n",
    "\n",
    "ab_project_marketing_events.csv\n",
    "final_ab_new_users.csv\n",
    "final_ab_events.csv\n",
    "final_ab_participants.csv\n",
    "\n",
    "/datasets/ab_project_marketing_events.csv — календарь маркетинговых событий на 2020 год;\n",
    "Структура файла:\n",
    "name — название маркетингового события;\n",
    "regions — регионы, в которых будет проводиться рекламная кампания;\n",
    "start_dt — дата начала кампании;\n",
    "finish_dt — дата завершения кампании.\n",
    "\n",
    "/datasets/final_ab_new_users.csv — все пользователи, зарегистрировавшиеся в интернет-магазине в период с 7 по 21 декабря 2020 года;\n",
    "Структура файла:\n",
    "user_id — идентификатор пользователя;\n",
    "first_date — дата регистрации;\n",
    "region — регион пользователя;\n",
    "device — устройство, с которого происходила регистрация.\n",
    "\n",
    "/datasets/final_ab_events.csv — все события новых пользователей в период с 7 декабря 2020 по 4 января 2021 года;\n",
    "Структура файла:\n",
    "user_id — идентификатор пользователя;\n",
    "event_dt — дата и время события;\n",
    "event_name — тип события;\n",
    "details — дополнительные данные о событии. Например, для покупок, purchase, в этом поле хранится стоимость покупки в долларах.\n",
    "\n",
    "/datasets/final_ab_participants.csv — таблица участников тестов.\n",
    "Структура файла:\n",
    "user_id — идентификатор пользователя;\n",
    "ab_test — название теста;\n",
    "group — группа пользователя."
   ]
  },
  {
   "cell_type": "markdown",
   "metadata": {},
   "source": [
    "ТЕХНИЧЕСКОЕ ЗАДАНИЕ\n",
    "Название теста: recommender_system_test;\n",
    "Группы: А (контрольная), B (новая платёжная воронка);\n",
    "Дата запуска: 2020-12-07;\n",
    "Дата остановки набора новых пользователей: 2020-12-21;\n",
    "Дата остановки: 2021-01-04;\n",
    "Аудитория: 15% новых пользователей из региона EU;\n",
    "Назначение теста: тестирование изменений, связанных с внедрением улучшенной рекомендательной системы;\n",
    "Ожидаемое количество участников теста: 6000.\n",
    "Ожидаемый эффект: за 14 дней с момента регистрации в системе пользователи покажут улучшение каждой метрики не менее, чем на 10%:\n",
    "конверсии в просмотр карточек товаров — событие product_page\n",
    "просмотры корзины — product_cart\n",
    "покупки — purchase.\n",
    "Загрузите данные теста, проверьте корректность его проведения и проанализируйте полученные результаты.\n"
   ]
  },
  {
   "cell_type": "markdown",
   "metadata": {},
   "source": [
    "ДЕКОМПОЗИЦИЯ: \n",
    "1 ИЗУЧИТЬ ДАННЫЕ Открыть файл с данными и изучить общую информацию. \n",
    "2 ПРЕДОБРАБОТКА ДАННЫХ \n",
    "2.1 Проверка на пропуски. \n",
    "2.3 Преобразование типов данных. \n",
    "2.4 Проверка на дубликаты явные/неявные.\n",
    "2.5 Проверка на аномалии в данных.\n",
    "2.6 Оценка корректности проведенеия теста.\n",
    "2.7 Проверка на соответствие данных требованиям технического задания.\n",
    "\n",
    "3 ИССЛЕДОВАТЕЛЬСКИЙ АНАЛИЗ ДАННЫХ. \n",
    "3.1 Проверка количества событий на пользователя (одинаково распределены в выборках?).\n",
    "3.2 Как число событий в выборках распределено по дням?\n",
    "3.3 Как меняется конверсия в воронке в выборках на разных этапах? \n",
    "3.4 Какие особенности данных нужно учесть, прежде чем приступать к A/B-тестированию?\n",
    "3.5 Провести оценку результатов A/B-тестирования:\n",
    "    Что можно сказать про результаты A/B-тестирования?\n",
    "    Проверить статистическую разницу долей z-критерием.\n",
    "3.6 Вывод по этапу исследовательского анализа данных и по проведённой оценке результатов A/B-тестирования.\n",
    " \n",
    "4 ОБЩИЙ ВЫВОД Сделать общее заключение о корректности проведения теста.\n"
   ]
  },
  {
   "cell_type": "code",
   "execution_count": 70,
   "metadata": {},
   "outputs": [],
   "source": [
    "\n",
    "#импорт библиотек\n",
    "import pandas as pd\n",
    "import datetime as dt\n",
    "import numpy as np\n",
    "import scipy.stats as stats\n",
    "import math as mth\n",
    "import matplotlib.pyplot as plt\n",
    "import seaborn as sns\n",
    "import plotly.express as px\n",
    "\n",
    "\n",
    "from pandas.plotting import register_matplotlib_converters\n",
    "from plotly import graph_objects as go\n",
    "from scipy import stats as st\n",
    "from datetime import datetime, timedelta\n",
    "from matplotlib import pyplot as plt"
   ]
  },
  {
   "cell_type": "markdown",
   "metadata": {},
   "source": [
    "## ИЗУЧИТЬ ДАННЫЕ "
   ]
  },
  {
   "cell_type": "markdown",
   "metadata": {},
   "source": [
    "Откроем календарь маркетинговых событий на 2020 год;\n",
    "Структура файла:\n",
    "name — название маркетингового события;\n",
    "regions — регионы, в которых будет проводиться рекламная кампания;\n",
    "start_dt — дата начала кампании;\n",
    "finish_dt — дата завершения кампании."
   ]
  },
  {
   "cell_type": "code",
   "execution_count": 71,
   "metadata": {
    "scrolled": true
   },
   "outputs": [
    {
     "data": {
      "text/html": [
       "<div>\n",
       "<style scoped>\n",
       "    .dataframe tbody tr th:only-of-type {\n",
       "        vertical-align: middle;\n",
       "    }\n",
       "\n",
       "    .dataframe tbody tr th {\n",
       "        vertical-align: top;\n",
       "    }\n",
       "\n",
       "    .dataframe thead th {\n",
       "        text-align: right;\n",
       "    }\n",
       "</style>\n",
       "<table border=\"1\" class=\"dataframe\">\n",
       "  <thead>\n",
       "    <tr style=\"text-align: right;\">\n",
       "      <th></th>\n",
       "      <th>name</th>\n",
       "      <th>regions</th>\n",
       "      <th>start_dt</th>\n",
       "      <th>finish_dt</th>\n",
       "    </tr>\n",
       "  </thead>\n",
       "  <tbody>\n",
       "    <tr>\n",
       "      <th>0</th>\n",
       "      <td>Christmas&amp;New Year Promo</td>\n",
       "      <td>EU, N.America</td>\n",
       "      <td>2020-12-25</td>\n",
       "      <td>2021-01-03</td>\n",
       "    </tr>\n",
       "    <tr>\n",
       "      <th>1</th>\n",
       "      <td>St. Valentine's Day Giveaway</td>\n",
       "      <td>EU, CIS, APAC, N.America</td>\n",
       "      <td>2020-02-14</td>\n",
       "      <td>2020-02-16</td>\n",
       "    </tr>\n",
       "    <tr>\n",
       "      <th>2</th>\n",
       "      <td>St. Patric's Day Promo</td>\n",
       "      <td>EU, N.America</td>\n",
       "      <td>2020-03-17</td>\n",
       "      <td>2020-03-19</td>\n",
       "    </tr>\n",
       "    <tr>\n",
       "      <th>3</th>\n",
       "      <td>Easter Promo</td>\n",
       "      <td>EU, CIS, APAC, N.America</td>\n",
       "      <td>2020-04-12</td>\n",
       "      <td>2020-04-19</td>\n",
       "    </tr>\n",
       "    <tr>\n",
       "      <th>4</th>\n",
       "      <td>4th of July Promo</td>\n",
       "      <td>N.America</td>\n",
       "      <td>2020-07-04</td>\n",
       "      <td>2020-07-11</td>\n",
       "    </tr>\n",
       "    <tr>\n",
       "      <th>5</th>\n",
       "      <td>Black Friday Ads Campaign</td>\n",
       "      <td>EU, CIS, APAC, N.America</td>\n",
       "      <td>2020-11-26</td>\n",
       "      <td>2020-12-01</td>\n",
       "    </tr>\n",
       "    <tr>\n",
       "      <th>6</th>\n",
       "      <td>Chinese New Year Promo</td>\n",
       "      <td>APAC</td>\n",
       "      <td>2020-01-25</td>\n",
       "      <td>2020-02-07</td>\n",
       "    </tr>\n",
       "    <tr>\n",
       "      <th>7</th>\n",
       "      <td>Labor day (May 1st) Ads Campaign</td>\n",
       "      <td>EU, CIS, APAC</td>\n",
       "      <td>2020-05-01</td>\n",
       "      <td>2020-05-03</td>\n",
       "    </tr>\n",
       "    <tr>\n",
       "      <th>8</th>\n",
       "      <td>International Women's Day Promo</td>\n",
       "      <td>EU, CIS, APAC</td>\n",
       "      <td>2020-03-08</td>\n",
       "      <td>2020-03-10</td>\n",
       "    </tr>\n",
       "    <tr>\n",
       "      <th>9</th>\n",
       "      <td>Victory Day CIS (May 9th) Event</td>\n",
       "      <td>CIS</td>\n",
       "      <td>2020-05-09</td>\n",
       "      <td>2020-05-11</td>\n",
       "    </tr>\n",
       "    <tr>\n",
       "      <th>10</th>\n",
       "      <td>CIS New Year Gift Lottery</td>\n",
       "      <td>CIS</td>\n",
       "      <td>2020-12-30</td>\n",
       "      <td>2021-01-07</td>\n",
       "    </tr>\n",
       "    <tr>\n",
       "      <th>11</th>\n",
       "      <td>Dragon Boat Festival Giveaway</td>\n",
       "      <td>APAC</td>\n",
       "      <td>2020-06-25</td>\n",
       "      <td>2020-07-01</td>\n",
       "    </tr>\n",
       "    <tr>\n",
       "      <th>12</th>\n",
       "      <td>Single's Day Gift Promo</td>\n",
       "      <td>APAC</td>\n",
       "      <td>2020-11-11</td>\n",
       "      <td>2020-11-12</td>\n",
       "    </tr>\n",
       "    <tr>\n",
       "      <th>13</th>\n",
       "      <td>Chinese Moon Festival</td>\n",
       "      <td>APAC</td>\n",
       "      <td>2020-10-01</td>\n",
       "      <td>2020-10-07</td>\n",
       "    </tr>\n",
       "  </tbody>\n",
       "</table>\n",
       "</div>"
      ],
      "text/plain": [
       "                                name                   regions    start_dt  \\\n",
       "0           Christmas&New Year Promo             EU, N.America  2020-12-25   \n",
       "1       St. Valentine's Day Giveaway  EU, CIS, APAC, N.America  2020-02-14   \n",
       "2             St. Patric's Day Promo             EU, N.America  2020-03-17   \n",
       "3                       Easter Promo  EU, CIS, APAC, N.America  2020-04-12   \n",
       "4                  4th of July Promo                 N.America  2020-07-04   \n",
       "5          Black Friday Ads Campaign  EU, CIS, APAC, N.America  2020-11-26   \n",
       "6             Chinese New Year Promo                      APAC  2020-01-25   \n",
       "7   Labor day (May 1st) Ads Campaign             EU, CIS, APAC  2020-05-01   \n",
       "8    International Women's Day Promo             EU, CIS, APAC  2020-03-08   \n",
       "9    Victory Day CIS (May 9th) Event                       CIS  2020-05-09   \n",
       "10         CIS New Year Gift Lottery                       CIS  2020-12-30   \n",
       "11     Dragon Boat Festival Giveaway                      APAC  2020-06-25   \n",
       "12           Single's Day Gift Promo                      APAC  2020-11-11   \n",
       "13             Chinese Moon Festival                      APAC  2020-10-01   \n",
       "\n",
       "     finish_dt  \n",
       "0   2021-01-03  \n",
       "1   2020-02-16  \n",
       "2   2020-03-19  \n",
       "3   2020-04-19  \n",
       "4   2020-07-11  \n",
       "5   2020-12-01  \n",
       "6   2020-02-07  \n",
       "7   2020-05-03  \n",
       "8   2020-03-10  \n",
       "9   2020-05-11  \n",
       "10  2021-01-07  \n",
       "11  2020-07-01  \n",
       "12  2020-11-12  \n",
       "13  2020-10-07  "
      ]
     },
     "execution_count": 71,
     "metadata": {},
     "output_type": "execute_result"
    }
   ],
   "source": [
    "#откроем файл с данными\n",
    "marketing=pd.read_csv('/datasets/ab_project_marketing_events.csv',sep=',')\n",
    "marketing"
   ]
  },
  {
   "cell_type": "markdown",
   "metadata": {},
   "source": [
    "Откроем файл со всеми пользователями, зарегистрировавшимися в интернет-магазине в период с 7 по 21 декабря 2020 года;\n",
    "Структура файла:\n",
    "user_id — идентификатор пользователя;\n",
    "first_date — дата регистрации;\n",
    "region — регион пользователя;\n",
    "device — устройство, с которого происходила регистрация."
   ]
  },
  {
   "cell_type": "code",
   "execution_count": 72,
   "metadata": {
    "scrolled": false
   },
   "outputs": [
    {
     "data": {
      "text/html": [
       "<div>\n",
       "<style scoped>\n",
       "    .dataframe tbody tr th:only-of-type {\n",
       "        vertical-align: middle;\n",
       "    }\n",
       "\n",
       "    .dataframe tbody tr th {\n",
       "        vertical-align: top;\n",
       "    }\n",
       "\n",
       "    .dataframe thead th {\n",
       "        text-align: right;\n",
       "    }\n",
       "</style>\n",
       "<table border=\"1\" class=\"dataframe\">\n",
       "  <thead>\n",
       "    <tr style=\"text-align: right;\">\n",
       "      <th></th>\n",
       "      <th>user_id</th>\n",
       "      <th>first_date</th>\n",
       "      <th>region</th>\n",
       "      <th>device</th>\n",
       "    </tr>\n",
       "  </thead>\n",
       "  <tbody>\n",
       "    <tr>\n",
       "      <th>0</th>\n",
       "      <td>D72A72121175D8BE</td>\n",
       "      <td>2020-12-07</td>\n",
       "      <td>EU</td>\n",
       "      <td>PC</td>\n",
       "    </tr>\n",
       "    <tr>\n",
       "      <th>1</th>\n",
       "      <td>F1C668619DFE6E65</td>\n",
       "      <td>2020-12-07</td>\n",
       "      <td>N.America</td>\n",
       "      <td>Android</td>\n",
       "    </tr>\n",
       "    <tr>\n",
       "      <th>2</th>\n",
       "      <td>2E1BF1D4C37EA01F</td>\n",
       "      <td>2020-12-07</td>\n",
       "      <td>EU</td>\n",
       "      <td>PC</td>\n",
       "    </tr>\n",
       "    <tr>\n",
       "      <th>3</th>\n",
       "      <td>50734A22C0C63768</td>\n",
       "      <td>2020-12-07</td>\n",
       "      <td>EU</td>\n",
       "      <td>iPhone</td>\n",
       "    </tr>\n",
       "    <tr>\n",
       "      <th>4</th>\n",
       "      <td>E1BDDCE0DAFA2679</td>\n",
       "      <td>2020-12-07</td>\n",
       "      <td>N.America</td>\n",
       "      <td>iPhone</td>\n",
       "    </tr>\n",
       "  </tbody>\n",
       "</table>\n",
       "</div>"
      ],
      "text/plain": [
       "            user_id  first_date     region   device\n",
       "0  D72A72121175D8BE  2020-12-07         EU       PC\n",
       "1  F1C668619DFE6E65  2020-12-07  N.America  Android\n",
       "2  2E1BF1D4C37EA01F  2020-12-07         EU       PC\n",
       "3  50734A22C0C63768  2020-12-07         EU   iPhone\n",
       "4  E1BDDCE0DAFA2679  2020-12-07  N.America   iPhone"
      ]
     },
     "execution_count": 72,
     "metadata": {},
     "output_type": "execute_result"
    }
   ],
   "source": [
    "#откроем файл с данными\n",
    "users=pd.read_csv('/datasets/final_ab_new_users.csv',sep=',')\n",
    "users.head(5)"
   ]
  },
  {
   "cell_type": "markdown",
   "metadata": {},
   "source": [
    "Откроем файл со всеми событиями новых пользователей в период с 7 декабря 2020 по 4 января 2021 года;\n",
    "Структура файла:\n",
    "user_id — идентификатор пользователя;\n",
    "event_dt — дата и время события;\n",
    "event_name — тип события;\n",
    "details — дополнительные данные о событии. Например, для покупок, purchase, в этом поле хранится стоимость покупки в долларах."
   ]
  },
  {
   "cell_type": "code",
   "execution_count": 73,
   "metadata": {
    "scrolled": true
   },
   "outputs": [
    {
     "data": {
      "text/html": [
       "<div>\n",
       "<style scoped>\n",
       "    .dataframe tbody tr th:only-of-type {\n",
       "        vertical-align: middle;\n",
       "    }\n",
       "\n",
       "    .dataframe tbody tr th {\n",
       "        vertical-align: top;\n",
       "    }\n",
       "\n",
       "    .dataframe thead th {\n",
       "        text-align: right;\n",
       "    }\n",
       "</style>\n",
       "<table border=\"1\" class=\"dataframe\">\n",
       "  <thead>\n",
       "    <tr style=\"text-align: right;\">\n",
       "      <th></th>\n",
       "      <th>user_id</th>\n",
       "      <th>event_dt</th>\n",
       "      <th>event_name</th>\n",
       "      <th>details</th>\n",
       "    </tr>\n",
       "  </thead>\n",
       "  <tbody>\n",
       "    <tr>\n",
       "      <th>0</th>\n",
       "      <td>E1BDDCE0DAFA2679</td>\n",
       "      <td>2020-12-07 20:22:03</td>\n",
       "      <td>purchase</td>\n",
       "      <td>99.99</td>\n",
       "    </tr>\n",
       "    <tr>\n",
       "      <th>1</th>\n",
       "      <td>7B6452F081F49504</td>\n",
       "      <td>2020-12-07 09:22:53</td>\n",
       "      <td>purchase</td>\n",
       "      <td>9.99</td>\n",
       "    </tr>\n",
       "    <tr>\n",
       "      <th>2</th>\n",
       "      <td>9CD9F34546DF254C</td>\n",
       "      <td>2020-12-07 12:59:29</td>\n",
       "      <td>purchase</td>\n",
       "      <td>4.99</td>\n",
       "    </tr>\n",
       "    <tr>\n",
       "      <th>3</th>\n",
       "      <td>96F27A054B191457</td>\n",
       "      <td>2020-12-07 04:02:40</td>\n",
       "      <td>purchase</td>\n",
       "      <td>4.99</td>\n",
       "    </tr>\n",
       "    <tr>\n",
       "      <th>4</th>\n",
       "      <td>1FD7660FDF94CA1F</td>\n",
       "      <td>2020-12-07 10:15:09</td>\n",
       "      <td>purchase</td>\n",
       "      <td>4.99</td>\n",
       "    </tr>\n",
       "    <tr>\n",
       "      <th>...</th>\n",
       "      <td>...</td>\n",
       "      <td>...</td>\n",
       "      <td>...</td>\n",
       "      <td>...</td>\n",
       "    </tr>\n",
       "    <tr>\n",
       "      <th>440312</th>\n",
       "      <td>245E85F65C358E08</td>\n",
       "      <td>2020-12-30 19:35:55</td>\n",
       "      <td>login</td>\n",
       "      <td>NaN</td>\n",
       "    </tr>\n",
       "    <tr>\n",
       "      <th>440313</th>\n",
       "      <td>9385A108F5A0A7A7</td>\n",
       "      <td>2020-12-30 10:54:15</td>\n",
       "      <td>login</td>\n",
       "      <td>NaN</td>\n",
       "    </tr>\n",
       "    <tr>\n",
       "      <th>440314</th>\n",
       "      <td>DB650B7559AC6EAC</td>\n",
       "      <td>2020-12-30 10:59:09</td>\n",
       "      <td>login</td>\n",
       "      <td>NaN</td>\n",
       "    </tr>\n",
       "    <tr>\n",
       "      <th>440315</th>\n",
       "      <td>F80C9BDDEA02E53C</td>\n",
       "      <td>2020-12-30 09:53:39</td>\n",
       "      <td>login</td>\n",
       "      <td>NaN</td>\n",
       "    </tr>\n",
       "    <tr>\n",
       "      <th>440316</th>\n",
       "      <td>7AEC61159B672CC5</td>\n",
       "      <td>2020-12-30 11:36:13</td>\n",
       "      <td>login</td>\n",
       "      <td>NaN</td>\n",
       "    </tr>\n",
       "  </tbody>\n",
       "</table>\n",
       "<p>440317 rows × 4 columns</p>\n",
       "</div>"
      ],
      "text/plain": [
       "                 user_id             event_dt event_name  details\n",
       "0       E1BDDCE0DAFA2679  2020-12-07 20:22:03   purchase    99.99\n",
       "1       7B6452F081F49504  2020-12-07 09:22:53   purchase     9.99\n",
       "2       9CD9F34546DF254C  2020-12-07 12:59:29   purchase     4.99\n",
       "3       96F27A054B191457  2020-12-07 04:02:40   purchase     4.99\n",
       "4       1FD7660FDF94CA1F  2020-12-07 10:15:09   purchase     4.99\n",
       "...                  ...                  ...        ...      ...\n",
       "440312  245E85F65C358E08  2020-12-30 19:35:55      login      NaN\n",
       "440313  9385A108F5A0A7A7  2020-12-30 10:54:15      login      NaN\n",
       "440314  DB650B7559AC6EAC  2020-12-30 10:59:09      login      NaN\n",
       "440315  F80C9BDDEA02E53C  2020-12-30 09:53:39      login      NaN\n",
       "440316  7AEC61159B672CC5  2020-12-30 11:36:13      login      NaN\n",
       "\n",
       "[440317 rows x 4 columns]"
      ]
     },
     "execution_count": 73,
     "metadata": {},
     "output_type": "execute_result"
    }
   ],
   "source": [
    "#откроем файл с данными\n",
    "events=pd.read_csv('/datasets/final_ab_events.csv',sep=',')\n",
    "events"
   ]
  },
  {
   "cell_type": "markdown",
   "metadata": {},
   "source": [
    "Откроем таблицу участников тестов.\n",
    "Структура файла:\n",
    "user_id — идентификатор пользователя;\n",
    "ab_test — название теста;\n",
    "group — группа пользователя."
   ]
  },
  {
   "cell_type": "code",
   "execution_count": 74,
   "metadata": {},
   "outputs": [
    {
     "data": {
      "text/html": [
       "<div>\n",
       "<style scoped>\n",
       "    .dataframe tbody tr th:only-of-type {\n",
       "        vertical-align: middle;\n",
       "    }\n",
       "\n",
       "    .dataframe tbody tr th {\n",
       "        vertical-align: top;\n",
       "    }\n",
       "\n",
       "    .dataframe thead th {\n",
       "        text-align: right;\n",
       "    }\n",
       "</style>\n",
       "<table border=\"1\" class=\"dataframe\">\n",
       "  <thead>\n",
       "    <tr style=\"text-align: right;\">\n",
       "      <th></th>\n",
       "      <th>user_id</th>\n",
       "      <th>group</th>\n",
       "      <th>ab_test</th>\n",
       "    </tr>\n",
       "  </thead>\n",
       "  <tbody>\n",
       "    <tr>\n",
       "      <th>0</th>\n",
       "      <td>D1ABA3E2887B6A73</td>\n",
       "      <td>A</td>\n",
       "      <td>recommender_system_test</td>\n",
       "    </tr>\n",
       "    <tr>\n",
       "      <th>1</th>\n",
       "      <td>A7A3664BD6242119</td>\n",
       "      <td>A</td>\n",
       "      <td>recommender_system_test</td>\n",
       "    </tr>\n",
       "    <tr>\n",
       "      <th>2</th>\n",
       "      <td>DABC14FDDFADD29E</td>\n",
       "      <td>A</td>\n",
       "      <td>recommender_system_test</td>\n",
       "    </tr>\n",
       "    <tr>\n",
       "      <th>3</th>\n",
       "      <td>04988C5DF189632E</td>\n",
       "      <td>A</td>\n",
       "      <td>recommender_system_test</td>\n",
       "    </tr>\n",
       "    <tr>\n",
       "      <th>4</th>\n",
       "      <td>482F14783456D21B</td>\n",
       "      <td>B</td>\n",
       "      <td>recommender_system_test</td>\n",
       "    </tr>\n",
       "    <tr>\n",
       "      <th>...</th>\n",
       "      <td>...</td>\n",
       "      <td>...</td>\n",
       "      <td>...</td>\n",
       "    </tr>\n",
       "    <tr>\n",
       "      <th>18263</th>\n",
       "      <td>1D302F8688B91781</td>\n",
       "      <td>B</td>\n",
       "      <td>interface_eu_test</td>\n",
       "    </tr>\n",
       "    <tr>\n",
       "      <th>18264</th>\n",
       "      <td>3DE51B726983B657</td>\n",
       "      <td>A</td>\n",
       "      <td>interface_eu_test</td>\n",
       "    </tr>\n",
       "    <tr>\n",
       "      <th>18265</th>\n",
       "      <td>F501F79D332BE86C</td>\n",
       "      <td>A</td>\n",
       "      <td>interface_eu_test</td>\n",
       "    </tr>\n",
       "    <tr>\n",
       "      <th>18266</th>\n",
       "      <td>63FBE257B05F2245</td>\n",
       "      <td>A</td>\n",
       "      <td>interface_eu_test</td>\n",
       "    </tr>\n",
       "    <tr>\n",
       "      <th>18267</th>\n",
       "      <td>79F9ABFB029CF724</td>\n",
       "      <td>B</td>\n",
       "      <td>interface_eu_test</td>\n",
       "    </tr>\n",
       "  </tbody>\n",
       "</table>\n",
       "<p>18268 rows × 3 columns</p>\n",
       "</div>"
      ],
      "text/plain": [
       "                user_id group                  ab_test\n",
       "0      D1ABA3E2887B6A73     A  recommender_system_test\n",
       "1      A7A3664BD6242119     A  recommender_system_test\n",
       "2      DABC14FDDFADD29E     A  recommender_system_test\n",
       "3      04988C5DF189632E     A  recommender_system_test\n",
       "4      482F14783456D21B     B  recommender_system_test\n",
       "...                 ...   ...                      ...\n",
       "18263  1D302F8688B91781     B        interface_eu_test\n",
       "18264  3DE51B726983B657     A        interface_eu_test\n",
       "18265  F501F79D332BE86C     A        interface_eu_test\n",
       "18266  63FBE257B05F2245     A        interface_eu_test\n",
       "18267  79F9ABFB029CF724     B        interface_eu_test\n",
       "\n",
       "[18268 rows x 3 columns]"
      ]
     },
     "execution_count": 74,
     "metadata": {},
     "output_type": "execute_result"
    }
   ],
   "source": [
    "#откроем файл с данными\n",
    "participants=pd.read_csv('/datasets/final_ab_participants.csv',sep=',')\n",
    "participants"
   ]
  },
  {
   "cell_type": "markdown",
   "metadata": {},
   "source": [
    "## ПРЕДОБРАБОТКА ДАННЫХ"
   ]
  },
  {
   "cell_type": "code",
   "execution_count": 75,
   "metadata": {
    "scrolled": false
   },
   "outputs": [
    {
     "name": "stdout",
     "output_type": "stream",
     "text": [
      "<class 'pandas.core.frame.DataFrame'>\n",
      "RangeIndex: 14 entries, 0 to 13\n",
      "Data columns (total 4 columns):\n",
      " #   Column     Non-Null Count  Dtype \n",
      "---  ------     --------------  ----- \n",
      " 0   name       14 non-null     object\n",
      " 1   regions    14 non-null     object\n",
      " 2   start_dt   14 non-null     object\n",
      " 3   finish_dt  14 non-null     object\n",
      "dtypes: object(4)\n",
      "memory usage: 576.0+ bytes\n"
     ]
    }
   ],
   "source": [
    "marketing.info()"
   ]
  },
  {
   "cell_type": "markdown",
   "metadata": {},
   "source": [
    "В таблице 4 столбца, 14 строк. \n",
    "Типы данных:строки object.\n",
    "Нужно заменить типы следующих столбцов:start_dt,finish_dt-на дату . Пропусков в столбцах нет."
   ]
  },
  {
   "cell_type": "code",
   "execution_count": 76,
   "metadata": {},
   "outputs": [],
   "source": [
    "#Преобразуем тип данных в столбцах 'start_dt','finish_dt'\n",
    "\n",
    "marketing['start_dt'] = pd.to_datetime(marketing['start_dt'])\n",
    "marketing['finish_dt'] = pd.to_datetime(marketing['finish_dt'])\n"
   ]
  },
  {
   "cell_type": "code",
   "execution_count": 77,
   "metadata": {},
   "outputs": [
    {
     "data": {
      "text/plain": [
       "0"
      ]
     },
     "execution_count": 77,
     "metadata": {},
     "output_type": "execute_result"
    }
   ],
   "source": [
    "#проверим данные на явные дубликаты\n",
    "marketing.duplicated().sum()"
   ]
  },
  {
   "cell_type": "code",
   "execution_count": 78,
   "metadata": {},
   "outputs": [
    {
     "name": "stdout",
     "output_type": "stream",
     "text": [
      "<class 'pandas.core.frame.DataFrame'>\n",
      "RangeIndex: 61733 entries, 0 to 61732\n",
      "Data columns (total 4 columns):\n",
      " #   Column      Non-Null Count  Dtype \n",
      "---  ------      --------------  ----- \n",
      " 0   user_id     61733 non-null  object\n",
      " 1   first_date  61733 non-null  object\n",
      " 2   region      61733 non-null  object\n",
      " 3   device      61733 non-null  object\n",
      "dtypes: object(4)\n",
      "memory usage: 1.9+ MB\n"
     ]
    }
   ],
   "source": [
    "users.info()"
   ]
  },
  {
   "cell_type": "markdown",
   "metadata": {},
   "source": [
    "В таблице 4 столбца, 61733 строк. \n",
    "Типы данных:строки object.\n",
    "Нужно заменить типы следующих столбцов:first_date-на дату . Пропусков в столбцах нет."
   ]
  },
  {
   "cell_type": "code",
   "execution_count": 79,
   "metadata": {},
   "outputs": [
    {
     "data": {
      "text/plain": [
       "0"
      ]
     },
     "execution_count": 79,
     "metadata": {},
     "output_type": "execute_result"
    }
   ],
   "source": [
    "#проверим данные на явные дубликаты\n",
    "users.duplicated().sum()"
   ]
  },
  {
   "cell_type": "code",
   "execution_count": 80,
   "metadata": {},
   "outputs": [],
   "source": [
    "users['first_date'] = pd.to_datetime(users['first_date'])"
   ]
  },
  {
   "cell_type": "code",
   "execution_count": 81,
   "metadata": {
    "scrolled": true
   },
   "outputs": [
    {
     "name": "stdout",
     "output_type": "stream",
     "text": [
      "<class 'pandas.core.frame.DataFrame'>\n",
      "RangeIndex: 440317 entries, 0 to 440316\n",
      "Data columns (total 4 columns):\n",
      " #   Column      Non-Null Count   Dtype  \n",
      "---  ------      --------------   -----  \n",
      " 0   user_id     440317 non-null  object \n",
      " 1   event_dt    440317 non-null  object \n",
      " 2   event_name  440317 non-null  object \n",
      " 3   details     62740 non-null   float64\n",
      "dtypes: float64(1), object(3)\n",
      "memory usage: 13.4+ MB\n"
     ]
    }
   ],
   "source": [
    "events.info()"
   ]
  },
  {
   "cell_type": "code",
   "execution_count": 82,
   "metadata": {},
   "outputs": [
    {
     "data": {
      "text/plain": [
       "377577"
      ]
     },
     "execution_count": 82,
     "metadata": {},
     "output_type": "execute_result"
    }
   ],
   "source": [
    "events['details'].isna().sum()"
   ]
  },
  {
   "cell_type": "code",
   "execution_count": 83,
   "metadata": {},
   "outputs": [
    {
     "data": {
      "text/plain": [
       "4.99      46362\n",
       "9.99       9530\n",
       "99.99      5631\n",
       "499.99     1217\n",
       "Name: details, dtype: int64"
      ]
     },
     "execution_count": 83,
     "metadata": {},
     "output_type": "execute_result"
    }
   ],
   "source": [
    "events['details'].value_counts()"
   ]
  },
  {
   "cell_type": "markdown",
   "metadata": {},
   "source": [
    "В таблице 4 столбца, 440317 строк. \n",
    "Типы данных:строки object.\n",
    "Нужно заменить типы следующих столбцов:event_dt -на дату . Пропуски есть в столбце details 377577 (дополнительные данные о событии).\n",
    "Пропуски оставим незаполненные, по видимому не было доп.информации по этим строкам."
   ]
  },
  {
   "cell_type": "code",
   "execution_count": 84,
   "metadata": {},
   "outputs": [],
   "source": [
    "events['event_dt'] = pd.to_datetime(events['event_dt'])"
   ]
  },
  {
   "cell_type": "code",
   "execution_count": 85,
   "metadata": {},
   "outputs": [
    {
     "data": {
      "text/plain": [
       "0"
      ]
     },
     "execution_count": 85,
     "metadata": {},
     "output_type": "execute_result"
    }
   ],
   "source": [
    "#проверим данные на явные дубликаты\n",
    "events.duplicated().sum()"
   ]
  },
  {
   "cell_type": "code",
   "execution_count": 86,
   "metadata": {},
   "outputs": [
    {
     "name": "stdout",
     "output_type": "stream",
     "text": [
      "<class 'pandas.core.frame.DataFrame'>\n",
      "RangeIndex: 18268 entries, 0 to 18267\n",
      "Data columns (total 3 columns):\n",
      " #   Column   Non-Null Count  Dtype \n",
      "---  ------   --------------  ----- \n",
      " 0   user_id  18268 non-null  object\n",
      " 1   group    18268 non-null  object\n",
      " 2   ab_test  18268 non-null  object\n",
      "dtypes: object(3)\n",
      "memory usage: 428.3+ KB\n"
     ]
    }
   ],
   "source": [
    "participants.info()"
   ]
  },
  {
   "cell_type": "markdown",
   "metadata": {},
   "source": [
    "В таблице 3 столбца, 18268 строк. \n",
    "Типы данных:строки object.\n",
    "Пропусков нет."
   ]
  },
  {
   "cell_type": "code",
   "execution_count": 87,
   "metadata": {},
   "outputs": [
    {
     "data": {
      "text/plain": [
       "0"
      ]
     },
     "execution_count": 87,
     "metadata": {},
     "output_type": "execute_result"
    }
   ],
   "source": [
    "#проверим данные на явные дубликаты\n",
    "participants.duplicated().sum()"
   ]
  },
  {
   "cell_type": "markdown",
   "metadata": {},
   "source": [
    "### Проверим корректность всех пунктов технического задания."
   ]
  },
  {
   "cell_type": "markdown",
   "metadata": {},
   "source": [
    "Время проведения теста. "
   ]
  },
  {
   "cell_type": "markdown",
   "metadata": {},
   "source": [
    "Откроем календарь маркетинговых событий за 2020 год. По ТЗ:\n",
    "Дата запуска: 2020-12-07;\n",
    "Дата остановки: 2021-01-04.\n",
    "Посмотрим какие еще акции попадают на эти даты."
   ]
  },
  {
   "cell_type": "code",
   "execution_count": 88,
   "metadata": {
    "scrolled": true
   },
   "outputs": [
    {
     "data": {
      "text/html": [
       "<div>\n",
       "<style scoped>\n",
       "    .dataframe tbody tr th:only-of-type {\n",
       "        vertical-align: middle;\n",
       "    }\n",
       "\n",
       "    .dataframe tbody tr th {\n",
       "        vertical-align: top;\n",
       "    }\n",
       "\n",
       "    .dataframe thead th {\n",
       "        text-align: right;\n",
       "    }\n",
       "</style>\n",
       "<table border=\"1\" class=\"dataframe\">\n",
       "  <thead>\n",
       "    <tr style=\"text-align: right;\">\n",
       "      <th></th>\n",
       "      <th>name</th>\n",
       "      <th>regions</th>\n",
       "      <th>start_dt</th>\n",
       "      <th>finish_dt</th>\n",
       "    </tr>\n",
       "  </thead>\n",
       "  <tbody>\n",
       "    <tr>\n",
       "      <th>6</th>\n",
       "      <td>Chinese New Year Promo</td>\n",
       "      <td>APAC</td>\n",
       "      <td>2020-01-25</td>\n",
       "      <td>2020-02-07</td>\n",
       "    </tr>\n",
       "    <tr>\n",
       "      <th>1</th>\n",
       "      <td>St. Valentine's Day Giveaway</td>\n",
       "      <td>EU, CIS, APAC, N.America</td>\n",
       "      <td>2020-02-14</td>\n",
       "      <td>2020-02-16</td>\n",
       "    </tr>\n",
       "    <tr>\n",
       "      <th>8</th>\n",
       "      <td>International Women's Day Promo</td>\n",
       "      <td>EU, CIS, APAC</td>\n",
       "      <td>2020-03-08</td>\n",
       "      <td>2020-03-10</td>\n",
       "    </tr>\n",
       "    <tr>\n",
       "      <th>2</th>\n",
       "      <td>St. Patric's Day Promo</td>\n",
       "      <td>EU, N.America</td>\n",
       "      <td>2020-03-17</td>\n",
       "      <td>2020-03-19</td>\n",
       "    </tr>\n",
       "    <tr>\n",
       "      <th>3</th>\n",
       "      <td>Easter Promo</td>\n",
       "      <td>EU, CIS, APAC, N.America</td>\n",
       "      <td>2020-04-12</td>\n",
       "      <td>2020-04-19</td>\n",
       "    </tr>\n",
       "    <tr>\n",
       "      <th>7</th>\n",
       "      <td>Labor day (May 1st) Ads Campaign</td>\n",
       "      <td>EU, CIS, APAC</td>\n",
       "      <td>2020-05-01</td>\n",
       "      <td>2020-05-03</td>\n",
       "    </tr>\n",
       "    <tr>\n",
       "      <th>9</th>\n",
       "      <td>Victory Day CIS (May 9th) Event</td>\n",
       "      <td>CIS</td>\n",
       "      <td>2020-05-09</td>\n",
       "      <td>2020-05-11</td>\n",
       "    </tr>\n",
       "    <tr>\n",
       "      <th>11</th>\n",
       "      <td>Dragon Boat Festival Giveaway</td>\n",
       "      <td>APAC</td>\n",
       "      <td>2020-06-25</td>\n",
       "      <td>2020-07-01</td>\n",
       "    </tr>\n",
       "    <tr>\n",
       "      <th>4</th>\n",
       "      <td>4th of July Promo</td>\n",
       "      <td>N.America</td>\n",
       "      <td>2020-07-04</td>\n",
       "      <td>2020-07-11</td>\n",
       "    </tr>\n",
       "    <tr>\n",
       "      <th>13</th>\n",
       "      <td>Chinese Moon Festival</td>\n",
       "      <td>APAC</td>\n",
       "      <td>2020-10-01</td>\n",
       "      <td>2020-10-07</td>\n",
       "    </tr>\n",
       "    <tr>\n",
       "      <th>12</th>\n",
       "      <td>Single's Day Gift Promo</td>\n",
       "      <td>APAC</td>\n",
       "      <td>2020-11-11</td>\n",
       "      <td>2020-11-12</td>\n",
       "    </tr>\n",
       "    <tr>\n",
       "      <th>5</th>\n",
       "      <td>Black Friday Ads Campaign</td>\n",
       "      <td>EU, CIS, APAC, N.America</td>\n",
       "      <td>2020-11-26</td>\n",
       "      <td>2020-12-01</td>\n",
       "    </tr>\n",
       "    <tr>\n",
       "      <th>0</th>\n",
       "      <td>Christmas&amp;New Year Promo</td>\n",
       "      <td>EU, N.America</td>\n",
       "      <td>2020-12-25</td>\n",
       "      <td>2021-01-03</td>\n",
       "    </tr>\n",
       "    <tr>\n",
       "      <th>10</th>\n",
       "      <td>CIS New Year Gift Lottery</td>\n",
       "      <td>CIS</td>\n",
       "      <td>2020-12-30</td>\n",
       "      <td>2021-01-07</td>\n",
       "    </tr>\n",
       "  </tbody>\n",
       "</table>\n",
       "</div>"
      ],
      "text/plain": [
       "                                name                   regions   start_dt  \\\n",
       "6             Chinese New Year Promo                      APAC 2020-01-25   \n",
       "1       St. Valentine's Day Giveaway  EU, CIS, APAC, N.America 2020-02-14   \n",
       "8    International Women's Day Promo             EU, CIS, APAC 2020-03-08   \n",
       "2             St. Patric's Day Promo             EU, N.America 2020-03-17   \n",
       "3                       Easter Promo  EU, CIS, APAC, N.America 2020-04-12   \n",
       "7   Labor day (May 1st) Ads Campaign             EU, CIS, APAC 2020-05-01   \n",
       "9    Victory Day CIS (May 9th) Event                       CIS 2020-05-09   \n",
       "11     Dragon Boat Festival Giveaway                      APAC 2020-06-25   \n",
       "4                  4th of July Promo                 N.America 2020-07-04   \n",
       "13             Chinese Moon Festival                      APAC 2020-10-01   \n",
       "12           Single's Day Gift Promo                      APAC 2020-11-11   \n",
       "5          Black Friday Ads Campaign  EU, CIS, APAC, N.America 2020-11-26   \n",
       "0           Christmas&New Year Promo             EU, N.America 2020-12-25   \n",
       "10         CIS New Year Gift Lottery                       CIS 2020-12-30   \n",
       "\n",
       "    finish_dt  \n",
       "6  2020-02-07  \n",
       "1  2020-02-16  \n",
       "8  2020-03-10  \n",
       "2  2020-03-19  \n",
       "3  2020-04-19  \n",
       "7  2020-05-03  \n",
       "9  2020-05-11  \n",
       "11 2020-07-01  \n",
       "4  2020-07-11  \n",
       "13 2020-10-07  \n",
       "12 2020-11-12  \n",
       "5  2020-12-01  \n",
       "0  2021-01-03  \n",
       "10 2021-01-07  "
      ]
     },
     "execution_count": 88,
     "metadata": {},
     "output_type": "execute_result"
    }
   ],
   "source": [
    "marketing.sort_values(by='start_dt')"
   ]
  },
  {
   "cell_type": "code",
   "execution_count": 89,
   "metadata": {
    "scrolled": false
   },
   "outputs": [
    {
     "data": {
      "text/html": [
       "<div>\n",
       "<style scoped>\n",
       "    .dataframe tbody tr th:only-of-type {\n",
       "        vertical-align: middle;\n",
       "    }\n",
       "\n",
       "    .dataframe tbody tr th {\n",
       "        vertical-align: top;\n",
       "    }\n",
       "\n",
       "    .dataframe thead th {\n",
       "        text-align: right;\n",
       "    }\n",
       "</style>\n",
       "<table border=\"1\" class=\"dataframe\">\n",
       "  <thead>\n",
       "    <tr style=\"text-align: right;\">\n",
       "      <th></th>\n",
       "      <th>name</th>\n",
       "      <th>regions</th>\n",
       "      <th>start_dt</th>\n",
       "      <th>finish_dt</th>\n",
       "    </tr>\n",
       "  </thead>\n",
       "  <tbody>\n",
       "    <tr>\n",
       "      <th>0</th>\n",
       "      <td>Christmas&amp;New Year Promo</td>\n",
       "      <td>EU, N.America</td>\n",
       "      <td>2020-12-25</td>\n",
       "      <td>2021-01-03</td>\n",
       "    </tr>\n",
       "    <tr>\n",
       "      <th>10</th>\n",
       "      <td>CIS New Year Gift Lottery</td>\n",
       "      <td>CIS</td>\n",
       "      <td>2020-12-30</td>\n",
       "      <td>2021-01-07</td>\n",
       "    </tr>\n",
       "  </tbody>\n",
       "</table>\n",
       "</div>"
      ],
      "text/plain": [
       "                         name        regions   start_dt  finish_dt\n",
       "0    Christmas&New Year Promo  EU, N.America 2020-12-25 2021-01-03\n",
       "10  CIS New Year Gift Lottery            CIS 2020-12-30 2021-01-07"
      ]
     },
     "execution_count": 89,
     "metadata": {},
     "output_type": "execute_result"
    }
   ],
   "source": [
    "marketing_corr=marketing.query('(start_dt<=\"2021-01-04\")&(finish_dt>=\"2020-12-07\")')\n",
    "marketing_corr"
   ]
  },
  {
   "cell_type": "markdown",
   "metadata": {},
   "source": [
    "Во время проведения теста проходят 2 акции:\n",
    "    Christmas&New Year Promo\tEU, N.America (Рождественская новогодняя акция в Европе и Сев. Америке продлится 9 дней, все эти дни попадают на наш тест) \n",
    "    CIS New Year Gift Lottery\tCIS (Новогодняя подарочная лотерея СНГ продлится 8 дней, 5 из них выпадают на тест)\n",
    "    Т.к по ТЗ нас интересует регион EU. Может оказать влияние на тест только акция  Christmas&New Year Promo.\n",
    "    \n",
    "Скорее всего  Christmas&New Year Promo будет влиять на обе группы тестирования в равной степени. Нужно посмотреть был ли всплеск событий в даты проведения акции Christmas&New Year Prom"
   ]
  },
  {
   "cell_type": "markdown",
   "metadata": {},
   "source": [
    "Посмотрим распределение событий в эти даты"
   ]
  },
  {
   "cell_type": "code",
   "execution_count": 90,
   "metadata": {
    "scrolled": false
   },
   "outputs": [
    {
     "data": {
      "image/png": "[encoded data removed]",
      "text/plain": [
       "<Figure size 720x720 with 1 Axes>"
      ]
     },
     "metadata": {
      "needs_background": "light"
     },
     "output_type": "display_data"
    }
   ],
   "source": [
    "#Построим гистограмму по дате и времени. \n",
    "plt.figure(figsize=(10, 10))\n",
    "plt.hist(events['event_dt'], bins=20)\n",
    "plt.xticks(rotation=90)\n",
    "plt.title('Распределение количества событий по датам')\n",
    "plt.ylabel('Количество событий')\n",
    "plt.show()"
   ]
  },
  {
   "cell_type": "markdown",
   "metadata": {},
   "source": [
    "Во время проведения теста проходит Christmas&New Year Promo\tEU, N.America с 2020-12-25 по 2021-01-03.\n",
    "с 25-29 декабря всплеска событий не наблюдается.\n"
   ]
  },
  {
   "cell_type": "markdown",
   "metadata": {},
   "source": [
    "Проверим пользователей из датасета users, зарегистрировавшихся с 2020-12-07 до\n",
    "даты остановки набора новых пользователей: 2020-12-21"
   ]
  },
  {
   "cell_type": "code",
   "execution_count": 91,
   "metadata": {},
   "outputs": [
    {
     "data": {
      "text/plain": [
       "Timestamp('2020-12-07 00:00:00')"
      ]
     },
     "execution_count": 91,
     "metadata": {},
     "output_type": "execute_result"
    }
   ],
   "source": [
    "users['first_date'].min()\n"
   ]
  },
  {
   "cell_type": "code",
   "execution_count": 92,
   "metadata": {},
   "outputs": [
    {
     "data": {
      "text/plain": [
       "Timestamp('2020-12-23 00:00:00')"
      ]
     },
     "execution_count": 92,
     "metadata": {},
     "output_type": "execute_result"
    }
   ],
   "source": [
    "users['first_date'].max()"
   ]
  },
  {
   "cell_type": "markdown",
   "metadata": {},
   "source": [
    "Последняя дата регистрации пользователя 2020-12-23. Отфильтруем данные до 2020-12-21."
   ]
  },
  {
   "cell_type": "code",
   "execution_count": 93,
   "metadata": {},
   "outputs": [
    {
     "data": {
      "text/plain": [
       "Timestamp('2020-12-21 00:00:00')"
      ]
     },
     "execution_count": 93,
     "metadata": {},
     "output_type": "execute_result"
    }
   ],
   "source": [
    "users=users.query('first_date<=\"2020-12-21\"')\n",
    "users['first_date'].max()"
   ]
  },
  {
   "cell_type": "markdown",
   "metadata": {},
   "source": [
    "Откроем файл со всеми событиями новых пользователей в период с 7 декабря 2020 по 4 января 2021 года и проверим на соответствие ТЗ по датам."
   ]
  },
  {
   "cell_type": "code",
   "execution_count": 94,
   "metadata": {},
   "outputs": [
    {
     "data": {
      "text/html": [
       "<div>\n",
       "<style scoped>\n",
       "    .dataframe tbody tr th:only-of-type {\n",
       "        vertical-align: middle;\n",
       "    }\n",
       "\n",
       "    .dataframe tbody tr th {\n",
       "        vertical-align: top;\n",
       "    }\n",
       "\n",
       "    .dataframe thead th {\n",
       "        text-align: right;\n",
       "    }\n",
       "</style>\n",
       "<table border=\"1\" class=\"dataframe\">\n",
       "  <thead>\n",
       "    <tr style=\"text-align: right;\">\n",
       "      <th></th>\n",
       "      <th>user_id</th>\n",
       "      <th>event_dt</th>\n",
       "      <th>event_name</th>\n",
       "      <th>details</th>\n",
       "    </tr>\n",
       "  </thead>\n",
       "  <tbody>\n",
       "    <tr>\n",
       "      <th>0</th>\n",
       "      <td>E1BDDCE0DAFA2679</td>\n",
       "      <td>2020-12-07 20:22:03</td>\n",
       "      <td>purchase</td>\n",
       "      <td>99.99</td>\n",
       "    </tr>\n",
       "    <tr>\n",
       "      <th>1</th>\n",
       "      <td>7B6452F081F49504</td>\n",
       "      <td>2020-12-07 09:22:53</td>\n",
       "      <td>purchase</td>\n",
       "      <td>9.99</td>\n",
       "    </tr>\n",
       "    <tr>\n",
       "      <th>2</th>\n",
       "      <td>9CD9F34546DF254C</td>\n",
       "      <td>2020-12-07 12:59:29</td>\n",
       "      <td>purchase</td>\n",
       "      <td>4.99</td>\n",
       "    </tr>\n",
       "    <tr>\n",
       "      <th>3</th>\n",
       "      <td>96F27A054B191457</td>\n",
       "      <td>2020-12-07 04:02:40</td>\n",
       "      <td>purchase</td>\n",
       "      <td>4.99</td>\n",
       "    </tr>\n",
       "    <tr>\n",
       "      <th>4</th>\n",
       "      <td>1FD7660FDF94CA1F</td>\n",
       "      <td>2020-12-07 10:15:09</td>\n",
       "      <td>purchase</td>\n",
       "      <td>4.99</td>\n",
       "    </tr>\n",
       "  </tbody>\n",
       "</table>\n",
       "</div>"
      ],
      "text/plain": [
       "            user_id            event_dt event_name  details\n",
       "0  E1BDDCE0DAFA2679 2020-12-07 20:22:03   purchase    99.99\n",
       "1  7B6452F081F49504 2020-12-07 09:22:53   purchase     9.99\n",
       "2  9CD9F34546DF254C 2020-12-07 12:59:29   purchase     4.99\n",
       "3  96F27A054B191457 2020-12-07 04:02:40   purchase     4.99\n",
       "4  1FD7660FDF94CA1F 2020-12-07 10:15:09   purchase     4.99"
      ]
     },
     "execution_count": 94,
     "metadata": {},
     "output_type": "execute_result"
    }
   ],
   "source": [
    "events.head()"
   ]
  },
  {
   "cell_type": "code",
   "execution_count": 95,
   "metadata": {},
   "outputs": [
    {
     "data": {
      "text/plain": [
       "Timestamp('2020-12-07 00:00:33')"
      ]
     },
     "execution_count": 95,
     "metadata": {},
     "output_type": "execute_result"
    }
   ],
   "source": [
    "events['event_dt'].min()"
   ]
  },
  {
   "cell_type": "code",
   "execution_count": 96,
   "metadata": {},
   "outputs": [
    {
     "data": {
      "text/plain": [
       "Timestamp('2020-12-30 23:36:33')"
      ]
     },
     "execution_count": 96,
     "metadata": {},
     "output_type": "execute_result"
    }
   ],
   "source": [
    "events['event_dt'].max()"
   ]
  },
  {
   "cell_type": "markdown",
   "metadata": {},
   "source": [
    "События events по ТЗ должны быть по 4 января 2021 года. Возможно произошел сбой и не удалось записать данные за последующие даты.\n"
   ]
  },
  {
   "cell_type": "markdown",
   "metadata": {},
   "source": [
    "Посмотрим аудиторию теста. "
   ]
  },
  {
   "cell_type": "code",
   "execution_count": 97,
   "metadata": {},
   "outputs": [
    {
     "data": {
      "text/plain": [
       "EU           42340\n",
       "N.America     8347\n",
       "CIS           2900\n",
       "APAC          2883\n",
       "Name: region, dtype: int64"
      ]
     },
     "execution_count": 97,
     "metadata": {},
     "output_type": "execute_result"
    }
   ],
   "source": [
    "#посмотрим столбец seats\n",
    "users['region'].value_counts()"
   ]
  },
  {
   "cell_type": "markdown",
   "metadata": {},
   "source": [
    "Удостоверимся, что нет пересечений с конкурирующим тестом и нет пользователей, участвующих в двух группах теста одновременно.\n",
    "Название теста: recommender_system_test;\n",
    "Группы: А (контрольная), B (новая платёжная воронка)."
   ]
  },
  {
   "cell_type": "code",
   "execution_count": 98,
   "metadata": {},
   "outputs": [
    {
     "data": {
      "text/plain": [
       "interface_eu_test          11567\n",
       "recommender_system_test     6701\n",
       "Name: ab_test, dtype: int64"
      ]
     },
     "execution_count": 98,
     "metadata": {},
     "output_type": "execute_result"
    }
   ],
   "source": [
    "participants['ab_test'].value_counts()\n"
   ]
  },
  {
   "cell_type": "code",
   "execution_count": 99,
   "metadata": {
    "scrolled": false
   },
   "outputs": [
    {
     "data": {
      "text/html": [
       "<div>\n",
       "<style scoped>\n",
       "    .dataframe tbody tr th:only-of-type {\n",
       "        vertical-align: middle;\n",
       "    }\n",
       "\n",
       "    .dataframe tbody tr th {\n",
       "        vertical-align: top;\n",
       "    }\n",
       "\n",
       "    .dataframe thead th {\n",
       "        text-align: right;\n",
       "    }\n",
       "</style>\n",
       "<table border=\"1\" class=\"dataframe\">\n",
       "  <thead>\n",
       "    <tr style=\"text-align: right;\">\n",
       "      <th></th>\n",
       "      <th>user_id</th>\n",
       "      <th>group</th>\n",
       "      <th>ab_test</th>\n",
       "    </tr>\n",
       "  </thead>\n",
       "  <tbody>\n",
       "    <tr>\n",
       "      <th>0</th>\n",
       "      <td>D1ABA3E2887B6A73</td>\n",
       "      <td>A</td>\n",
       "      <td>recommender_system_test</td>\n",
       "    </tr>\n",
       "    <tr>\n",
       "      <th>1</th>\n",
       "      <td>A7A3664BD6242119</td>\n",
       "      <td>A</td>\n",
       "      <td>recommender_system_test</td>\n",
       "    </tr>\n",
       "    <tr>\n",
       "      <th>2</th>\n",
       "      <td>DABC14FDDFADD29E</td>\n",
       "      <td>A</td>\n",
       "      <td>recommender_system_test</td>\n",
       "    </tr>\n",
       "    <tr>\n",
       "      <th>3</th>\n",
       "      <td>04988C5DF189632E</td>\n",
       "      <td>A</td>\n",
       "      <td>recommender_system_test</td>\n",
       "    </tr>\n",
       "    <tr>\n",
       "      <th>4</th>\n",
       "      <td>482F14783456D21B</td>\n",
       "      <td>B</td>\n",
       "      <td>recommender_system_test</td>\n",
       "    </tr>\n",
       "    <tr>\n",
       "      <th>...</th>\n",
       "      <td>...</td>\n",
       "      <td>...</td>\n",
       "      <td>...</td>\n",
       "    </tr>\n",
       "    <tr>\n",
       "      <th>6696</th>\n",
       "      <td>053FB26D6D49EDDC</td>\n",
       "      <td>A</td>\n",
       "      <td>recommender_system_test</td>\n",
       "    </tr>\n",
       "    <tr>\n",
       "      <th>6697</th>\n",
       "      <td>9D263B8EF15CF188</td>\n",
       "      <td>B</td>\n",
       "      <td>recommender_system_test</td>\n",
       "    </tr>\n",
       "    <tr>\n",
       "      <th>6698</th>\n",
       "      <td>F2FBBA33F37DEC46</td>\n",
       "      <td>A</td>\n",
       "      <td>recommender_system_test</td>\n",
       "    </tr>\n",
       "    <tr>\n",
       "      <th>6699</th>\n",
       "      <td>29C92313A98B1176</td>\n",
       "      <td>B</td>\n",
       "      <td>recommender_system_test</td>\n",
       "    </tr>\n",
       "    <tr>\n",
       "      <th>6700</th>\n",
       "      <td>6715343AFBA285AE</td>\n",
       "      <td>B</td>\n",
       "      <td>recommender_system_test</td>\n",
       "    </tr>\n",
       "  </tbody>\n",
       "</table>\n",
       "<p>6701 rows × 3 columns</p>\n",
       "</div>"
      ],
      "text/plain": [
       "               user_id group                  ab_test\n",
       "0     D1ABA3E2887B6A73     A  recommender_system_test\n",
       "1     A7A3664BD6242119     A  recommender_system_test\n",
       "2     DABC14FDDFADD29E     A  recommender_system_test\n",
       "3     04988C5DF189632E     A  recommender_system_test\n",
       "4     482F14783456D21B     B  recommender_system_test\n",
       "...                ...   ...                      ...\n",
       "6696  053FB26D6D49EDDC     A  recommender_system_test\n",
       "6697  9D263B8EF15CF188     B  recommender_system_test\n",
       "6698  F2FBBA33F37DEC46     A  recommender_system_test\n",
       "6699  29C92313A98B1176     B  recommender_system_test\n",
       "6700  6715343AFBA285AE     B  recommender_system_test\n",
       "\n",
       "[6701 rows x 3 columns]"
      ]
     },
     "execution_count": 99,
     "metadata": {},
     "output_type": "execute_result"
    }
   ],
   "source": [
    "\n",
    "participants_corr=participants.query('ab_test==\"recommender_system_test\"')\n",
    "participants_corr"
   ]
  },
  {
   "cell_type": "code",
   "execution_count": 100,
   "metadata": {},
   "outputs": [
    {
     "data": {
      "text/plain": [
       "6701"
      ]
     },
     "execution_count": 100,
     "metadata": {},
     "output_type": "execute_result"
    }
   ],
   "source": [
    "participants_corr['user_id'].nunique()"
   ]
  },
  {
   "cell_type": "code",
   "execution_count": null,
   "metadata": {},
   "outputs": [],
   "source": []
  },
  {
   "cell_type": "code",
   "execution_count": 101,
   "metadata": {},
   "outputs": [
    {
     "data": {
      "text/html": [
       "<div>\n",
       "<style scoped>\n",
       "    .dataframe tbody tr th:only-of-type {\n",
       "        vertical-align: middle;\n",
       "    }\n",
       "\n",
       "    .dataframe tbody tr th {\n",
       "        vertical-align: top;\n",
       "    }\n",
       "\n",
       "    .dataframe thead th {\n",
       "        text-align: right;\n",
       "    }\n",
       "</style>\n",
       "<table border=\"1\" class=\"dataframe\">\n",
       "  <thead>\n",
       "    <tr style=\"text-align: right;\">\n",
       "      <th></th>\n",
       "      <th>группа</th>\n",
       "      <th>пользователи</th>\n",
       "      <th>доля,%</th>\n",
       "    </tr>\n",
       "  </thead>\n",
       "  <tbody>\n",
       "    <tr>\n",
       "      <th>0</th>\n",
       "      <td>A</td>\n",
       "      <td>3824</td>\n",
       "      <td>57.0</td>\n",
       "    </tr>\n",
       "    <tr>\n",
       "      <th>1</th>\n",
       "      <td>B</td>\n",
       "      <td>2877</td>\n",
       "      <td>43.0</td>\n",
       "    </tr>\n",
       "  </tbody>\n",
       "</table>\n",
       "</div>"
      ],
      "text/plain": [
       "  группа  пользователи  доля,%\n",
       "0      A          3824    57.0\n",
       "1      B          2877    43.0"
      ]
     },
     "execution_count": 101,
     "metadata": {},
     "output_type": "execute_result"
    }
   ],
   "source": [
    "part=participants_corr.groupby('group')['user_id'].nunique().reset_index()\n",
    "part['mean']=round(part['user_id']*100/(part['user_id'].sum()))\n",
    "part.columns=['группа','пользователи','доля,%']\n",
    "part"
   ]
  },
  {
   "cell_type": "markdown",
   "metadata": {},
   "source": [
    "В группе А 3824 уникальных пользователя. В группе В 2877.\n",
    "Всего 6701 пользователей, значит нет пользователей, попавших в обе группы . В группе A больше пользователей, чем в B на 14%"
   ]
  },
  {
   "cell_type": "markdown",
   "metadata": {},
   "source": [
    "Проверим пересечение пользователей в разных тестах."
   ]
  },
  {
   "cell_type": "code",
   "execution_count": 102,
   "metadata": {},
   "outputs": [
    {
     "data": {
      "text/html": [
       "<div>\n",
       "<style scoped>\n",
       "    .dataframe tbody tr th:only-of-type {\n",
       "        vertical-align: middle;\n",
       "    }\n",
       "\n",
       "    .dataframe tbody tr th {\n",
       "        vertical-align: top;\n",
       "    }\n",
       "\n",
       "    .dataframe thead th {\n",
       "        text-align: right;\n",
       "    }\n",
       "</style>\n",
       "<table border=\"1\" class=\"dataframe\">\n",
       "  <thead>\n",
       "    <tr style=\"text-align: right;\">\n",
       "      <th></th>\n",
       "      <th>ab_test</th>\n",
       "      <th>group</th>\n",
       "      <th>user_id</th>\n",
       "    </tr>\n",
       "  </thead>\n",
       "  <tbody>\n",
       "    <tr>\n",
       "      <th>0</th>\n",
       "      <td>interface_eu_test</td>\n",
       "      <td>A</td>\n",
       "      <td>5831</td>\n",
       "    </tr>\n",
       "    <tr>\n",
       "      <th>1</th>\n",
       "      <td>interface_eu_test</td>\n",
       "      <td>B</td>\n",
       "      <td>5736</td>\n",
       "    </tr>\n",
       "    <tr>\n",
       "      <th>2</th>\n",
       "      <td>recommender_system_test</td>\n",
       "      <td>A</td>\n",
       "      <td>3824</td>\n",
       "    </tr>\n",
       "    <tr>\n",
       "      <th>3</th>\n",
       "      <td>recommender_system_test</td>\n",
       "      <td>B</td>\n",
       "      <td>2877</td>\n",
       "    </tr>\n",
       "  </tbody>\n",
       "</table>\n",
       "</div>"
      ],
      "text/plain": [
       "                   ab_test group  user_id\n",
       "0        interface_eu_test     A     5831\n",
       "1        interface_eu_test     B     5736\n",
       "2  recommender_system_test     A     3824\n",
       "3  recommender_system_test     B     2877"
      ]
     },
     "execution_count": 102,
     "metadata": {},
     "output_type": "execute_result"
    }
   ],
   "source": [
    "part1=participants.groupby(['ab_test','group'])['user_id'].nunique().reset_index()\n",
    "part1"
   ]
  },
  {
   "cell_type": "code",
   "execution_count": 103,
   "metadata": {},
   "outputs": [
    {
     "data": {
      "text/plain": [
       "16666"
      ]
     },
     "execution_count": 103,
     "metadata": {},
     "output_type": "execute_result"
    }
   ],
   "source": [
    "participants['user_id'].nunique()"
   ]
  },
  {
   "cell_type": "code",
   "execution_count": 104,
   "metadata": {},
   "outputs": [
    {
     "data": {
      "text/plain": [
       "18268"
      ]
     },
     "execution_count": 104,
     "metadata": {},
     "output_type": "execute_result"
    }
   ],
   "source": [
    "part1['user_id'].sum()"
   ]
  },
  {
   "cell_type": "code",
   "execution_count": 105,
   "metadata": {},
   "outputs": [
    {
     "data": {
      "text/plain": [
       "1602"
      ]
     },
     "execution_count": 105,
     "metadata": {},
     "output_type": "execute_result"
    }
   ],
   "source": [
    "(part1['user_id'].sum())-(participants['user_id'].nunique())"
   ]
  },
  {
   "cell_type": "markdown",
   "metadata": {},
   "source": [
    "1602 пользователя участвуют в recommender_system_test и interface_eu_test тестах одновременно."
   ]
  },
  {
   "cell_type": "code",
   "execution_count": null,
   "metadata": {},
   "outputs": [],
   "source": []
  },
  {
   "cell_type": "markdown",
   "metadata": {},
   "source": [
    "Посмотрим как они распределены по группам. Если пользователи попали в контрольную группу А конкурирующего теста, их оставим, так как на нее не оказывается никакого влияния.\n",
    "Рассмотрим подробнее пользователей, попавших в группу В 'interface_eu_test' теста."
   ]
  },
  {
   "cell_type": "markdown",
   "metadata": {},
   "source": [
    "Выберем из таблицы пользователей, попавших в оба теста одновременно."
   ]
  },
  {
   "cell_type": "code",
   "execution_count": 106,
   "metadata": {
    "scrolled": false
   },
   "outputs": [
    {
     "data": {
      "text/html": [
       "<div>\n",
       "<style scoped>\n",
       "    .dataframe tbody tr th:only-of-type {\n",
       "        vertical-align: middle;\n",
       "    }\n",
       "\n",
       "    .dataframe tbody tr th {\n",
       "        vertical-align: top;\n",
       "    }\n",
       "\n",
       "    .dataframe thead th {\n",
       "        text-align: right;\n",
       "    }\n",
       "</style>\n",
       "<table border=\"1\" class=\"dataframe\">\n",
       "  <thead>\n",
       "    <tr style=\"text-align: right;\">\n",
       "      <th></th>\n",
       "      <th>user_id</th>\n",
       "      <th>ab_test</th>\n",
       "    </tr>\n",
       "  </thead>\n",
       "  <tbody>\n",
       "    <tr>\n",
       "      <th>0</th>\n",
       "      <td>001064FEAAB631A1</td>\n",
       "      <td>2</td>\n",
       "    </tr>\n",
       "    <tr>\n",
       "      <th>1</th>\n",
       "      <td>00341D8401F0F665</td>\n",
       "      <td>2</td>\n",
       "    </tr>\n",
       "    <tr>\n",
       "      <th>2</th>\n",
       "      <td>003B6786B4FF5B03</td>\n",
       "      <td>2</td>\n",
       "    </tr>\n",
       "    <tr>\n",
       "      <th>3</th>\n",
       "      <td>0082295A41A867B5</td>\n",
       "      <td>2</td>\n",
       "    </tr>\n",
       "    <tr>\n",
       "      <th>4</th>\n",
       "      <td>00E68F103C66C1F7</td>\n",
       "      <td>2</td>\n",
       "    </tr>\n",
       "    <tr>\n",
       "      <th>...</th>\n",
       "      <td>...</td>\n",
       "      <td>...</td>\n",
       "    </tr>\n",
       "    <tr>\n",
       "      <th>1597</th>\n",
       "      <td>FF7BE2897FC0380D</td>\n",
       "      <td>2</td>\n",
       "    </tr>\n",
       "    <tr>\n",
       "      <th>1598</th>\n",
       "      <td>FF9A81323FA67D6E</td>\n",
       "      <td>2</td>\n",
       "    </tr>\n",
       "    <tr>\n",
       "      <th>1599</th>\n",
       "      <td>FFC53FD45DDA5EE8</td>\n",
       "      <td>2</td>\n",
       "    </tr>\n",
       "    <tr>\n",
       "      <th>1600</th>\n",
       "      <td>FFED90241D04503F</td>\n",
       "      <td>2</td>\n",
       "    </tr>\n",
       "    <tr>\n",
       "      <th>1601</th>\n",
       "      <td>FFF28D02B1EACBE1</td>\n",
       "      <td>2</td>\n",
       "    </tr>\n",
       "  </tbody>\n",
       "</table>\n",
       "<p>1602 rows × 2 columns</p>\n",
       "</div>"
      ],
      "text/plain": [
       "               user_id  ab_test\n",
       "0     001064FEAAB631A1        2\n",
       "1     00341D8401F0F665        2\n",
       "2     003B6786B4FF5B03        2\n",
       "3     0082295A41A867B5        2\n",
       "4     00E68F103C66C1F7        2\n",
       "...                ...      ...\n",
       "1597  FF7BE2897FC0380D        2\n",
       "1598  FF9A81323FA67D6E        2\n",
       "1599  FFC53FD45DDA5EE8        2\n",
       "1600  FFED90241D04503F        2\n",
       "1601  FFF28D02B1EACBE1        2\n",
       "\n",
       "[1602 rows x 2 columns]"
      ]
     },
     "execution_count": 106,
     "metadata": {},
     "output_type": "execute_result"
    }
   ],
   "source": [
    "user2=participants.groupby('user_id').agg({'ab_test':'nunique'}).query('ab_test == 2 ').reset_index()\n",
    "user2"
   ]
  },
  {
   "cell_type": "code",
   "execution_count": null,
   "metadata": {},
   "outputs": [],
   "source": []
  },
  {
   "cell_type": "code",
   "execution_count": 107,
   "metadata": {
    "scrolled": true
   },
   "outputs": [
    {
     "data": {
      "text/html": [
       "<div>\n",
       "<style scoped>\n",
       "    .dataframe tbody tr th:only-of-type {\n",
       "        vertical-align: middle;\n",
       "    }\n",
       "\n",
       "    .dataframe tbody tr th {\n",
       "        vertical-align: top;\n",
       "    }\n",
       "\n",
       "    .dataframe thead th {\n",
       "        text-align: right;\n",
       "    }\n",
       "</style>\n",
       "<table border=\"1\" class=\"dataframe\">\n",
       "  <thead>\n",
       "    <tr style=\"text-align: right;\">\n",
       "      <th></th>\n",
       "      <th>index</th>\n",
       "      <th>user_id</th>\n",
       "      <th>ab_test_x</th>\n",
       "      <th>group</th>\n",
       "      <th>ab_test_y</th>\n",
       "    </tr>\n",
       "  </thead>\n",
       "  <tbody>\n",
       "    <tr>\n",
       "      <th>0</th>\n",
       "      <td>0</td>\n",
       "      <td>001064FEAAB631A1</td>\n",
       "      <td>2</td>\n",
       "      <td>B</td>\n",
       "      <td>recommender_system_test</td>\n",
       "    </tr>\n",
       "    <tr>\n",
       "      <th>1</th>\n",
       "      <td>1</td>\n",
       "      <td>001064FEAAB631A1</td>\n",
       "      <td>2</td>\n",
       "      <td>B</td>\n",
       "      <td>interface_eu_test</td>\n",
       "    </tr>\n",
       "    <tr>\n",
       "      <th>2</th>\n",
       "      <td>2</td>\n",
       "      <td>00341D8401F0F665</td>\n",
       "      <td>2</td>\n",
       "      <td>A</td>\n",
       "      <td>recommender_system_test</td>\n",
       "    </tr>\n",
       "    <tr>\n",
       "      <th>3</th>\n",
       "      <td>3</td>\n",
       "      <td>00341D8401F0F665</td>\n",
       "      <td>2</td>\n",
       "      <td>A</td>\n",
       "      <td>interface_eu_test</td>\n",
       "    </tr>\n",
       "    <tr>\n",
       "      <th>4</th>\n",
       "      <td>4</td>\n",
       "      <td>003B6786B4FF5B03</td>\n",
       "      <td>2</td>\n",
       "      <td>A</td>\n",
       "      <td>recommender_system_test</td>\n",
       "    </tr>\n",
       "    <tr>\n",
       "      <th>...</th>\n",
       "      <td>...</td>\n",
       "      <td>...</td>\n",
       "      <td>...</td>\n",
       "      <td>...</td>\n",
       "      <td>...</td>\n",
       "    </tr>\n",
       "    <tr>\n",
       "      <th>3199</th>\n",
       "      <td>3199</td>\n",
       "      <td>FFC53FD45DDA5EE8</td>\n",
       "      <td>2</td>\n",
       "      <td>A</td>\n",
       "      <td>interface_eu_test</td>\n",
       "    </tr>\n",
       "    <tr>\n",
       "      <th>3200</th>\n",
       "      <td>3200</td>\n",
       "      <td>FFED90241D04503F</td>\n",
       "      <td>2</td>\n",
       "      <td>B</td>\n",
       "      <td>recommender_system_test</td>\n",
       "    </tr>\n",
       "    <tr>\n",
       "      <th>3201</th>\n",
       "      <td>3201</td>\n",
       "      <td>FFED90241D04503F</td>\n",
       "      <td>2</td>\n",
       "      <td>B</td>\n",
       "      <td>interface_eu_test</td>\n",
       "    </tr>\n",
       "    <tr>\n",
       "      <th>3202</th>\n",
       "      <td>3202</td>\n",
       "      <td>FFF28D02B1EACBE1</td>\n",
       "      <td>2</td>\n",
       "      <td>B</td>\n",
       "      <td>recommender_system_test</td>\n",
       "    </tr>\n",
       "    <tr>\n",
       "      <th>3203</th>\n",
       "      <td>3203</td>\n",
       "      <td>FFF28D02B1EACBE1</td>\n",
       "      <td>2</td>\n",
       "      <td>A</td>\n",
       "      <td>interface_eu_test</td>\n",
       "    </tr>\n",
       "  </tbody>\n",
       "</table>\n",
       "<p>3204 rows × 5 columns</p>\n",
       "</div>"
      ],
      "text/plain": [
       "      index           user_id  ab_test_x group                ab_test_y\n",
       "0         0  001064FEAAB631A1          2     B  recommender_system_test\n",
       "1         1  001064FEAAB631A1          2     B        interface_eu_test\n",
       "2         2  00341D8401F0F665          2     A  recommender_system_test\n",
       "3         3  00341D8401F0F665          2     A        interface_eu_test\n",
       "4         4  003B6786B4FF5B03          2     A  recommender_system_test\n",
       "...     ...               ...        ...   ...                      ...\n",
       "3199   3199  FFC53FD45DDA5EE8          2     A        interface_eu_test\n",
       "3200   3200  FFED90241D04503F          2     B  recommender_system_test\n",
       "3201   3201  FFED90241D04503F          2     B        interface_eu_test\n",
       "3202   3202  FFF28D02B1EACBE1          2     B  recommender_system_test\n",
       "3203   3203  FFF28D02B1EACBE1          2     A        interface_eu_test\n",
       "\n",
       "[3204 rows x 5 columns]"
      ]
     },
     "execution_count": 107,
     "metadata": {},
     "output_type": "execute_result"
    }
   ],
   "source": [
    "user2_table=user2.merge(participants, on='user_id').reset_index()\n",
    "user2_table"
   ]
  },
  {
   "cell_type": "code",
   "execution_count": 108,
   "metadata": {
    "scrolled": false
   },
   "outputs": [
    {
     "data": {
      "text/html": [
       "<div>\n",
       "<style scoped>\n",
       "    .dataframe tbody tr th:only-of-type {\n",
       "        vertical-align: middle;\n",
       "    }\n",
       "\n",
       "    .dataframe tbody tr th {\n",
       "        vertical-align: top;\n",
       "    }\n",
       "\n",
       "    .dataframe thead th {\n",
       "        text-align: right;\n",
       "    }\n",
       "</style>\n",
       "<table border=\"1\" class=\"dataframe\">\n",
       "  <thead>\n",
       "    <tr style=\"text-align: right;\">\n",
       "      <th></th>\n",
       "      <th>index</th>\n",
       "      <th>user_id</th>\n",
       "      <th>ab_test_x</th>\n",
       "      <th>group</th>\n",
       "      <th>ab_test_y</th>\n",
       "    </tr>\n",
       "  </thead>\n",
       "  <tbody>\n",
       "    <tr>\n",
       "      <th>1</th>\n",
       "      <td>1</td>\n",
       "      <td>001064FEAAB631A1</td>\n",
       "      <td>2</td>\n",
       "      <td>B</td>\n",
       "      <td>interface_eu_test</td>\n",
       "    </tr>\n",
       "    <tr>\n",
       "      <th>7</th>\n",
       "      <td>7</td>\n",
       "      <td>0082295A41A867B5</td>\n",
       "      <td>2</td>\n",
       "      <td>B</td>\n",
       "      <td>interface_eu_test</td>\n",
       "    </tr>\n",
       "    <tr>\n",
       "      <th>9</th>\n",
       "      <td>9</td>\n",
       "      <td>00E68F103C66C1F7</td>\n",
       "      <td>2</td>\n",
       "      <td>B</td>\n",
       "      <td>interface_eu_test</td>\n",
       "    </tr>\n",
       "    <tr>\n",
       "      <th>13</th>\n",
       "      <td>13</td>\n",
       "      <td>010DB4614355A4BB</td>\n",
       "      <td>2</td>\n",
       "      <td>B</td>\n",
       "      <td>interface_eu_test</td>\n",
       "    </tr>\n",
       "    <tr>\n",
       "      <th>19</th>\n",
       "      <td>19</td>\n",
       "      <td>020A95B66F363AFB</td>\n",
       "      <td>2</td>\n",
       "      <td>B</td>\n",
       "      <td>interface_eu_test</td>\n",
       "    </tr>\n",
       "    <tr>\n",
       "      <th>...</th>\n",
       "      <td>...</td>\n",
       "      <td>...</td>\n",
       "      <td>...</td>\n",
       "      <td>...</td>\n",
       "      <td>...</td>\n",
       "    </tr>\n",
       "    <tr>\n",
       "      <th>3187</th>\n",
       "      <td>3187</td>\n",
       "      <td>FEC0BCA6C323872F</td>\n",
       "      <td>2</td>\n",
       "      <td>B</td>\n",
       "      <td>interface_eu_test</td>\n",
       "    </tr>\n",
       "    <tr>\n",
       "      <th>3189</th>\n",
       "      <td>3189</td>\n",
       "      <td>FEE7040D7D2F2968</td>\n",
       "      <td>2</td>\n",
       "      <td>B</td>\n",
       "      <td>interface_eu_test</td>\n",
       "    </tr>\n",
       "    <tr>\n",
       "      <th>3195</th>\n",
       "      <td>3195</td>\n",
       "      <td>FF7BE2897FC0380D</td>\n",
       "      <td>2</td>\n",
       "      <td>B</td>\n",
       "      <td>interface_eu_test</td>\n",
       "    </tr>\n",
       "    <tr>\n",
       "      <th>3197</th>\n",
       "      <td>3197</td>\n",
       "      <td>FF9A81323FA67D6E</td>\n",
       "      <td>2</td>\n",
       "      <td>B</td>\n",
       "      <td>interface_eu_test</td>\n",
       "    </tr>\n",
       "    <tr>\n",
       "      <th>3201</th>\n",
       "      <td>3201</td>\n",
       "      <td>FFED90241D04503F</td>\n",
       "      <td>2</td>\n",
       "      <td>B</td>\n",
       "      <td>interface_eu_test</td>\n",
       "    </tr>\n",
       "  </tbody>\n",
       "</table>\n",
       "<p>783 rows × 5 columns</p>\n",
       "</div>"
      ],
      "text/plain": [
       "      index           user_id  ab_test_x group          ab_test_y\n",
       "1         1  001064FEAAB631A1          2     B  interface_eu_test\n",
       "7         7  0082295A41A867B5          2     B  interface_eu_test\n",
       "9         9  00E68F103C66C1F7          2     B  interface_eu_test\n",
       "13       13  010DB4614355A4BB          2     B  interface_eu_test\n",
       "19       19  020A95B66F363AFB          2     B  interface_eu_test\n",
       "...     ...               ...        ...   ...                ...\n",
       "3187   3187  FEC0BCA6C323872F          2     B  interface_eu_test\n",
       "3189   3189  FEE7040D7D2F2968          2     B  interface_eu_test\n",
       "3195   3195  FF7BE2897FC0380D          2     B  interface_eu_test\n",
       "3197   3197  FF9A81323FA67D6E          2     B  interface_eu_test\n",
       "3201   3201  FFED90241D04503F          2     B  interface_eu_test\n",
       "\n",
       "[783 rows x 5 columns]"
      ]
     },
     "execution_count": 108,
     "metadata": {},
     "output_type": "execute_result"
    }
   ],
   "source": [
    "user4=user2_table.query('ab_test_y == \"interface_eu_test\" & group==\"B\"')\n",
    "user4\n"
   ]
  },
  {
   "cell_type": "code",
   "execution_count": 109,
   "metadata": {
    "scrolled": true
   },
   "outputs": [
    {
     "data": {
      "text/html": [
       "<div>\n",
       "<style scoped>\n",
       "    .dataframe tbody tr th:only-of-type {\n",
       "        vertical-align: middle;\n",
       "    }\n",
       "\n",
       "    .dataframe tbody tr th {\n",
       "        vertical-align: top;\n",
       "    }\n",
       "\n",
       "    .dataframe thead th {\n",
       "        text-align: right;\n",
       "    }\n",
       "</style>\n",
       "<table border=\"1\" class=\"dataframe\">\n",
       "  <thead>\n",
       "    <tr style=\"text-align: right;\">\n",
       "      <th></th>\n",
       "      <th>index</th>\n",
       "      <th>index_x</th>\n",
       "      <th>user_id</th>\n",
       "      <th>ab_test_x_x</th>\n",
       "      <th>group_x</th>\n",
       "      <th>ab_test_y_x</th>\n",
       "      <th>index_y</th>\n",
       "      <th>ab_test_x_y</th>\n",
       "      <th>group_y</th>\n",
       "      <th>ab_test_y_y</th>\n",
       "    </tr>\n",
       "  </thead>\n",
       "  <tbody>\n",
       "    <tr>\n",
       "      <th>0</th>\n",
       "      <td>0</td>\n",
       "      <td>0</td>\n",
       "      <td>001064FEAAB631A1</td>\n",
       "      <td>2</td>\n",
       "      <td>B</td>\n",
       "      <td>recommender_system_test</td>\n",
       "      <td>1</td>\n",
       "      <td>2</td>\n",
       "      <td>B</td>\n",
       "      <td>interface_eu_test</td>\n",
       "    </tr>\n",
       "    <tr>\n",
       "      <th>1</th>\n",
       "      <td>1</td>\n",
       "      <td>1</td>\n",
       "      <td>001064FEAAB631A1</td>\n",
       "      <td>2</td>\n",
       "      <td>B</td>\n",
       "      <td>interface_eu_test</td>\n",
       "      <td>1</td>\n",
       "      <td>2</td>\n",
       "      <td>B</td>\n",
       "      <td>interface_eu_test</td>\n",
       "    </tr>\n",
       "    <tr>\n",
       "      <th>2</th>\n",
       "      <td>2</td>\n",
       "      <td>6</td>\n",
       "      <td>0082295A41A867B5</td>\n",
       "      <td>2</td>\n",
       "      <td>A</td>\n",
       "      <td>recommender_system_test</td>\n",
       "      <td>7</td>\n",
       "      <td>2</td>\n",
       "      <td>B</td>\n",
       "      <td>interface_eu_test</td>\n",
       "    </tr>\n",
       "    <tr>\n",
       "      <th>3</th>\n",
       "      <td>3</td>\n",
       "      <td>7</td>\n",
       "      <td>0082295A41A867B5</td>\n",
       "      <td>2</td>\n",
       "      <td>B</td>\n",
       "      <td>interface_eu_test</td>\n",
       "      <td>7</td>\n",
       "      <td>2</td>\n",
       "      <td>B</td>\n",
       "      <td>interface_eu_test</td>\n",
       "    </tr>\n",
       "    <tr>\n",
       "      <th>4</th>\n",
       "      <td>4</td>\n",
       "      <td>8</td>\n",
       "      <td>00E68F103C66C1F7</td>\n",
       "      <td>2</td>\n",
       "      <td>A</td>\n",
       "      <td>recommender_system_test</td>\n",
       "      <td>9</td>\n",
       "      <td>2</td>\n",
       "      <td>B</td>\n",
       "      <td>interface_eu_test</td>\n",
       "    </tr>\n",
       "    <tr>\n",
       "      <th>...</th>\n",
       "      <td>...</td>\n",
       "      <td>...</td>\n",
       "      <td>...</td>\n",
       "      <td>...</td>\n",
       "      <td>...</td>\n",
       "      <td>...</td>\n",
       "      <td>...</td>\n",
       "      <td>...</td>\n",
       "      <td>...</td>\n",
       "      <td>...</td>\n",
       "    </tr>\n",
       "    <tr>\n",
       "      <th>1561</th>\n",
       "      <td>1561</td>\n",
       "      <td>3195</td>\n",
       "      <td>FF7BE2897FC0380D</td>\n",
       "      <td>2</td>\n",
       "      <td>B</td>\n",
       "      <td>interface_eu_test</td>\n",
       "      <td>3195</td>\n",
       "      <td>2</td>\n",
       "      <td>B</td>\n",
       "      <td>interface_eu_test</td>\n",
       "    </tr>\n",
       "    <tr>\n",
       "      <th>1562</th>\n",
       "      <td>1562</td>\n",
       "      <td>3196</td>\n",
       "      <td>FF9A81323FA67D6E</td>\n",
       "      <td>2</td>\n",
       "      <td>B</td>\n",
       "      <td>recommender_system_test</td>\n",
       "      <td>3197</td>\n",
       "      <td>2</td>\n",
       "      <td>B</td>\n",
       "      <td>interface_eu_test</td>\n",
       "    </tr>\n",
       "    <tr>\n",
       "      <th>1563</th>\n",
       "      <td>1563</td>\n",
       "      <td>3197</td>\n",
       "      <td>FF9A81323FA67D6E</td>\n",
       "      <td>2</td>\n",
       "      <td>B</td>\n",
       "      <td>interface_eu_test</td>\n",
       "      <td>3197</td>\n",
       "      <td>2</td>\n",
       "      <td>B</td>\n",
       "      <td>interface_eu_test</td>\n",
       "    </tr>\n",
       "    <tr>\n",
       "      <th>1564</th>\n",
       "      <td>1564</td>\n",
       "      <td>3200</td>\n",
       "      <td>FFED90241D04503F</td>\n",
       "      <td>2</td>\n",
       "      <td>B</td>\n",
       "      <td>recommender_system_test</td>\n",
       "      <td>3201</td>\n",
       "      <td>2</td>\n",
       "      <td>B</td>\n",
       "      <td>interface_eu_test</td>\n",
       "    </tr>\n",
       "    <tr>\n",
       "      <th>1565</th>\n",
       "      <td>1565</td>\n",
       "      <td>3201</td>\n",
       "      <td>FFED90241D04503F</td>\n",
       "      <td>2</td>\n",
       "      <td>B</td>\n",
       "      <td>interface_eu_test</td>\n",
       "      <td>3201</td>\n",
       "      <td>2</td>\n",
       "      <td>B</td>\n",
       "      <td>interface_eu_test</td>\n",
       "    </tr>\n",
       "  </tbody>\n",
       "</table>\n",
       "<p>1566 rows × 10 columns</p>\n",
       "</div>"
      ],
      "text/plain": [
       "      index  index_x           user_id  ab_test_x_x group_x  \\\n",
       "0         0        0  001064FEAAB631A1            2       B   \n",
       "1         1        1  001064FEAAB631A1            2       B   \n",
       "2         2        6  0082295A41A867B5            2       A   \n",
       "3         3        7  0082295A41A867B5            2       B   \n",
       "4         4        8  00E68F103C66C1F7            2       A   \n",
       "...     ...      ...               ...          ...     ...   \n",
       "1561   1561     3195  FF7BE2897FC0380D            2       B   \n",
       "1562   1562     3196  FF9A81323FA67D6E            2       B   \n",
       "1563   1563     3197  FF9A81323FA67D6E            2       B   \n",
       "1564   1564     3200  FFED90241D04503F            2       B   \n",
       "1565   1565     3201  FFED90241D04503F            2       B   \n",
       "\n",
       "                  ab_test_y_x  index_y  ab_test_x_y group_y        ab_test_y_y  \n",
       "0     recommender_system_test        1            2       B  interface_eu_test  \n",
       "1           interface_eu_test        1            2       B  interface_eu_test  \n",
       "2     recommender_system_test        7            2       B  interface_eu_test  \n",
       "3           interface_eu_test        7            2       B  interface_eu_test  \n",
       "4     recommender_system_test        9            2       B  interface_eu_test  \n",
       "...                       ...      ...          ...     ...                ...  \n",
       "1561        interface_eu_test     3195            2       B  interface_eu_test  \n",
       "1562  recommender_system_test     3197            2       B  interface_eu_test  \n",
       "1563        interface_eu_test     3197            2       B  interface_eu_test  \n",
       "1564  recommender_system_test     3201            2       B  interface_eu_test  \n",
       "1565        interface_eu_test     3201            2       B  interface_eu_test  \n",
       "\n",
       "[1566 rows x 10 columns]"
      ]
     },
     "execution_count": 109,
     "metadata": {},
     "output_type": "execute_result"
    }
   ],
   "source": [
    "user3_table=user2_table.merge(user4, on='user_id').reset_index()\n",
    "user3_table"
   ]
  },
  {
   "cell_type": "code",
   "execution_count": 110,
   "metadata": {
    "scrolled": true
   },
   "outputs": [],
   "source": [
    "user3_table=user3_table[['user_id','group_x', 'ab_test_y_x']]\n",
    "user3_table=user3_table.query('ab_test_y_x==\"recommender_system_test\"')"
   ]
  },
  {
   "cell_type": "code",
   "execution_count": 111,
   "metadata": {
    "scrolled": true
   },
   "outputs": [
    {
     "data": {
      "text/html": [
       "<div>\n",
       "<style scoped>\n",
       "    .dataframe tbody tr th:only-of-type {\n",
       "        vertical-align: middle;\n",
       "    }\n",
       "\n",
       "    .dataframe tbody tr th {\n",
       "        vertical-align: top;\n",
       "    }\n",
       "\n",
       "    .dataframe thead th {\n",
       "        text-align: right;\n",
       "    }\n",
       "</style>\n",
       "<table border=\"1\" class=\"dataframe\">\n",
       "  <thead>\n",
       "    <tr style=\"text-align: right;\">\n",
       "      <th></th>\n",
       "      <th>тест</th>\n",
       "      <th>группа</th>\n",
       "      <th>пользователи</th>\n",
       "      <th>доля,%</th>\n",
       "    </tr>\n",
       "  </thead>\n",
       "  <tbody>\n",
       "    <tr>\n",
       "      <th>0</th>\n",
       "      <td>recommender_system_test</td>\n",
       "      <td>A</td>\n",
       "      <td>439</td>\n",
       "      <td>56.0</td>\n",
       "    </tr>\n",
       "    <tr>\n",
       "      <th>1</th>\n",
       "      <td>recommender_system_test</td>\n",
       "      <td>B</td>\n",
       "      <td>344</td>\n",
       "      <td>44.0</td>\n",
       "    </tr>\n",
       "  </tbody>\n",
       "</table>\n",
       "</div>"
      ],
      "text/plain": [
       "                      тест группа  пользователи  доля,%\n",
       "0  recommender_system_test      A           439    56.0\n",
       "1  recommender_system_test      B           344    44.0"
      ]
     },
     "execution_count": 111,
     "metadata": {},
     "output_type": "execute_result"
    }
   ],
   "source": [
    "userab=user3_table.groupby(['ab_test_y_x','group_x'])['user_id'].nunique().reset_index()\n",
    "userab['mean']=round(userab['user_id']*100/(userab['user_id'].sum()))\n",
    "userab.columns=['тест', 'группа','пользователи','доля,%']\n",
    "userab"
   ]
  },
  {
   "cell_type": "markdown",
   "metadata": {},
   "source": [
    "Пользователи группы В 'interface_eu_test' теста распределены равномерно в нашем тесте 'recommender_system_test' на группы А и В, и пользователи конкурирующего теста окажут примерно одинаковое влияние на пользователей обеих групп нашего теста. \n",
    "Поэтому не будем удалять пользователей попавших в оба теста одновременно."
   ]
  },
  {
   "cell_type": "markdown",
   "metadata": {},
   "source": [
    "Проверим пункт ТЗ \n",
    "\"Аудитория: 15% новых пользователей из региона EU\"."
   ]
  },
  {
   "cell_type": "markdown",
   "metadata": {},
   "source": [
    "Посчитаем сколько процентов составляют участники нашего теста из EU."
   ]
  },
  {
   "cell_type": "markdown",
   "metadata": {},
   "source": [
    "Найдем количество участников теста из EU. Соединим 2 таблицы."
   ]
  },
  {
   "cell_type": "code",
   "execution_count": 112,
   "metadata": {},
   "outputs": [
    {
     "data": {
      "text/html": [
       "<div>\n",
       "<style scoped>\n",
       "    .dataframe tbody tr th:only-of-type {\n",
       "        vertical-align: middle;\n",
       "    }\n",
       "\n",
       "    .dataframe tbody tr th {\n",
       "        vertical-align: top;\n",
       "    }\n",
       "\n",
       "    .dataframe thead th {\n",
       "        text-align: right;\n",
       "    }\n",
       "</style>\n",
       "<table border=\"1\" class=\"dataframe\">\n",
       "  <thead>\n",
       "    <tr style=\"text-align: right;\">\n",
       "      <th></th>\n",
       "      <th>index</th>\n",
       "      <th>user_id</th>\n",
       "      <th>group</th>\n",
       "      <th>ab_test</th>\n",
       "      <th>first_date</th>\n",
       "      <th>region</th>\n",
       "      <th>device</th>\n",
       "    </tr>\n",
       "  </thead>\n",
       "  <tbody>\n",
       "    <tr>\n",
       "      <th>0</th>\n",
       "      <td>0</td>\n",
       "      <td>D1ABA3E2887B6A73</td>\n",
       "      <td>A</td>\n",
       "      <td>recommender_system_test</td>\n",
       "      <td>2020-12-07</td>\n",
       "      <td>EU</td>\n",
       "      <td>PC</td>\n",
       "    </tr>\n",
       "    <tr>\n",
       "      <th>1</th>\n",
       "      <td>1</td>\n",
       "      <td>A7A3664BD6242119</td>\n",
       "      <td>A</td>\n",
       "      <td>recommender_system_test</td>\n",
       "      <td>2020-12-20</td>\n",
       "      <td>EU</td>\n",
       "      <td>iPhone</td>\n",
       "    </tr>\n",
       "    <tr>\n",
       "      <th>2</th>\n",
       "      <td>2</td>\n",
       "      <td>DABC14FDDFADD29E</td>\n",
       "      <td>A</td>\n",
       "      <td>recommender_system_test</td>\n",
       "      <td>2020-12-08</td>\n",
       "      <td>EU</td>\n",
       "      <td>Mac</td>\n",
       "    </tr>\n",
       "    <tr>\n",
       "      <th>3</th>\n",
       "      <td>3</td>\n",
       "      <td>04988C5DF189632E</td>\n",
       "      <td>A</td>\n",
       "      <td>recommender_system_test</td>\n",
       "      <td>2020-12-14</td>\n",
       "      <td>EU</td>\n",
       "      <td>iPhone</td>\n",
       "    </tr>\n",
       "    <tr>\n",
       "      <th>4</th>\n",
       "      <td>4</td>\n",
       "      <td>482F14783456D21B</td>\n",
       "      <td>B</td>\n",
       "      <td>recommender_system_test</td>\n",
       "      <td>2020-12-14</td>\n",
       "      <td>EU</td>\n",
       "      <td>PC</td>\n",
       "    </tr>\n",
       "  </tbody>\n",
       "</table>\n",
       "</div>"
      ],
      "text/plain": [
       "   index           user_id group                  ab_test first_date region  \\\n",
       "0      0  D1ABA3E2887B6A73     A  recommender_system_test 2020-12-07     EU   \n",
       "1      1  A7A3664BD6242119     A  recommender_system_test 2020-12-20     EU   \n",
       "2      2  DABC14FDDFADD29E     A  recommender_system_test 2020-12-08     EU   \n",
       "3      3  04988C5DF189632E     A  recommender_system_test 2020-12-14     EU   \n",
       "4      4  482F14783456D21B     B  recommender_system_test 2020-12-14     EU   \n",
       "\n",
       "   device  \n",
       "0      PC  \n",
       "1  iPhone  \n",
       "2     Mac  \n",
       "3  iPhone  \n",
       "4      PC  "
      ]
     },
     "execution_count": 112,
     "metadata": {},
     "output_type": "execute_result"
    }
   ],
   "source": [
    "new_table=participants_corr.merge(users, on='user_id').reset_index()\n",
    "new_table.head()\n"
   ]
  },
  {
   "cell_type": "code",
   "execution_count": null,
   "metadata": {},
   "outputs": [],
   "source": []
  },
  {
   "cell_type": "code",
   "execution_count": 113,
   "metadata": {
    "scrolled": true
   },
   "outputs": [
    {
     "data": {
      "text/html": [
       "<div>\n",
       "<style scoped>\n",
       "    .dataframe tbody tr th:only-of-type {\n",
       "        vertical-align: middle;\n",
       "    }\n",
       "\n",
       "    .dataframe tbody tr th {\n",
       "        vertical-align: top;\n",
       "    }\n",
       "\n",
       "    .dataframe thead th {\n",
       "        text-align: right;\n",
       "    }\n",
       "</style>\n",
       "<table border=\"1\" class=\"dataframe\">\n",
       "  <thead>\n",
       "    <tr style=\"text-align: right;\">\n",
       "      <th></th>\n",
       "      <th>region</th>\n",
       "      <th>user_id</th>\n",
       "    </tr>\n",
       "  </thead>\n",
       "  <tbody>\n",
       "    <tr>\n",
       "      <th>0</th>\n",
       "      <td>APAC</td>\n",
       "      <td>72</td>\n",
       "    </tr>\n",
       "    <tr>\n",
       "      <th>1</th>\n",
       "      <td>CIS</td>\n",
       "      <td>55</td>\n",
       "    </tr>\n",
       "    <tr>\n",
       "      <th>2</th>\n",
       "      <td>EU</td>\n",
       "      <td>6351</td>\n",
       "    </tr>\n",
       "    <tr>\n",
       "      <th>3</th>\n",
       "      <td>N.America</td>\n",
       "      <td>223</td>\n",
       "    </tr>\n",
       "  </tbody>\n",
       "</table>\n",
       "</div>"
      ],
      "text/plain": [
       "      region  user_id\n",
       "0       APAC       72\n",
       "1        CIS       55\n",
       "2         EU     6351\n",
       "3  N.America      223"
      ]
     },
     "execution_count": 113,
     "metadata": {},
     "output_type": "execute_result"
    }
   ],
   "source": [
    "eu_ab=new_table.groupby('region')['user_id'].nunique().reset_index()\n",
    "eu_ab"
   ]
  },
  {
   "cell_type": "markdown",
   "metadata": {},
   "source": [
    "Посмотрим сколько всего пользователей зарегистрировалось из региона EU.\n"
   ]
  },
  {
   "cell_type": "code",
   "execution_count": 114,
   "metadata": {},
   "outputs": [],
   "source": [
    "eu=users.groupby('region')['user_id'].nunique().reset_index()\n"
   ]
  },
  {
   "cell_type": "code",
   "execution_count": 115,
   "metadata": {},
   "outputs": [
    {
     "data": {
      "text/html": [
       "<div>\n",
       "<style scoped>\n",
       "    .dataframe tbody tr th:only-of-type {\n",
       "        vertical-align: middle;\n",
       "    }\n",
       "\n",
       "    .dataframe tbody tr th {\n",
       "        vertical-align: top;\n",
       "    }\n",
       "\n",
       "    .dataframe thead th {\n",
       "        text-align: right;\n",
       "    }\n",
       "</style>\n",
       "<table border=\"1\" class=\"dataframe\">\n",
       "  <thead>\n",
       "    <tr style=\"text-align: right;\">\n",
       "      <th></th>\n",
       "      <th>region</th>\n",
       "      <th>user_id</th>\n",
       "      <th>part</th>\n",
       "    </tr>\n",
       "  </thead>\n",
       "  <tbody>\n",
       "    <tr>\n",
       "      <th>0</th>\n",
       "      <td>APAC</td>\n",
       "      <td>2883</td>\n",
       "      <td>0.024974</td>\n",
       "    </tr>\n",
       "    <tr>\n",
       "      <th>1</th>\n",
       "      <td>CIS</td>\n",
       "      <td>2900</td>\n",
       "      <td>0.018966</td>\n",
       "    </tr>\n",
       "    <tr>\n",
       "      <th>2</th>\n",
       "      <td>EU</td>\n",
       "      <td>42340</td>\n",
       "      <td>0.150000</td>\n",
       "    </tr>\n",
       "    <tr>\n",
       "      <th>3</th>\n",
       "      <td>N.America</td>\n",
       "      <td>8347</td>\n",
       "      <td>0.026716</td>\n",
       "    </tr>\n",
       "  </tbody>\n",
       "</table>\n",
       "</div>"
      ],
      "text/plain": [
       "      region  user_id      part\n",
       "0       APAC     2883  0.024974\n",
       "1        CIS     2900  0.018966\n",
       "2         EU    42340  0.150000\n",
       "3  N.America     8347  0.026716"
      ]
     },
     "execution_count": 115,
     "metadata": {},
     "output_type": "execute_result"
    }
   ],
   "source": [
    "eu['part']=eu_ab['user_id']/eu['user_id']\n",
    "eu"
   ]
  },
  {
   "cell_type": "markdown",
   "metadata": {},
   "source": [
    "Всего зарегистрированных пользователей из EU 42340, 6351 пользователь принимает участие в тесте из региона EU.\n",
    "Аудитория: 15% новых пользователей из региона EU соответствует ТЗ."
   ]
  },
  {
   "cell_type": "markdown",
   "metadata": {},
   "source": [
    "Ожидаемое количество участников теста: 6000 также соответстует ТЗ (6351)"
   ]
  },
  {
   "cell_type": "code",
   "execution_count": 116,
   "metadata": {},
   "outputs": [],
   "source": [
    "new_table=new_table.query('region==\"EU\"')\n"
   ]
  },
  {
   "cell_type": "markdown",
   "metadata": {},
   "source": [
    "## ИССЛЕДОВАТЕЛЬСКИЙ АНАЛИЗ ДАННЫХ"
   ]
  },
  {
   "cell_type": "markdown",
   "metadata": {},
   "source": [
    "Сделаем финальную таблицу очищенных данных"
   ]
  },
  {
   "cell_type": "code",
   "execution_count": 117,
   "metadata": {
    "scrolled": true
   },
   "outputs": [
    {
     "data": {
      "text/html": [
       "<div>\n",
       "<style scoped>\n",
       "    .dataframe tbody tr th:only-of-type {\n",
       "        vertical-align: middle;\n",
       "    }\n",
       "\n",
       "    .dataframe tbody tr th {\n",
       "        vertical-align: top;\n",
       "    }\n",
       "\n",
       "    .dataframe thead th {\n",
       "        text-align: right;\n",
       "    }\n",
       "</style>\n",
       "<table border=\"1\" class=\"dataframe\">\n",
       "  <thead>\n",
       "    <tr style=\"text-align: right;\">\n",
       "      <th></th>\n",
       "      <th>index</th>\n",
       "      <th>user_id</th>\n",
       "      <th>group</th>\n",
       "      <th>ab_test</th>\n",
       "      <th>first_date</th>\n",
       "      <th>region</th>\n",
       "      <th>device</th>\n",
       "      <th>event_dt</th>\n",
       "      <th>event_name</th>\n",
       "      <th>details</th>\n",
       "    </tr>\n",
       "  </thead>\n",
       "  <tbody>\n",
       "    <tr>\n",
       "      <th>0</th>\n",
       "      <td>0</td>\n",
       "      <td>D1ABA3E2887B6A73</td>\n",
       "      <td>A</td>\n",
       "      <td>recommender_system_test</td>\n",
       "      <td>2020-12-07</td>\n",
       "      <td>EU</td>\n",
       "      <td>PC</td>\n",
       "      <td>2020-12-07 14:43:27</td>\n",
       "      <td>purchase</td>\n",
       "      <td>99.99</td>\n",
       "    </tr>\n",
       "    <tr>\n",
       "      <th>1</th>\n",
       "      <td>0</td>\n",
       "      <td>D1ABA3E2887B6A73</td>\n",
       "      <td>A</td>\n",
       "      <td>recommender_system_test</td>\n",
       "      <td>2020-12-07</td>\n",
       "      <td>EU</td>\n",
       "      <td>PC</td>\n",
       "      <td>2020-12-25 00:04:56</td>\n",
       "      <td>purchase</td>\n",
       "      <td>4.99</td>\n",
       "    </tr>\n",
       "    <tr>\n",
       "      <th>2</th>\n",
       "      <td>0</td>\n",
       "      <td>D1ABA3E2887B6A73</td>\n",
       "      <td>A</td>\n",
       "      <td>recommender_system_test</td>\n",
       "      <td>2020-12-07</td>\n",
       "      <td>EU</td>\n",
       "      <td>PC</td>\n",
       "      <td>2020-12-07 14:43:29</td>\n",
       "      <td>product_cart</td>\n",
       "      <td>NaN</td>\n",
       "    </tr>\n",
       "    <tr>\n",
       "      <th>3</th>\n",
       "      <td>0</td>\n",
       "      <td>D1ABA3E2887B6A73</td>\n",
       "      <td>A</td>\n",
       "      <td>recommender_system_test</td>\n",
       "      <td>2020-12-07</td>\n",
       "      <td>EU</td>\n",
       "      <td>PC</td>\n",
       "      <td>2020-12-25 00:04:57</td>\n",
       "      <td>product_cart</td>\n",
       "      <td>NaN</td>\n",
       "    </tr>\n",
       "    <tr>\n",
       "      <th>4</th>\n",
       "      <td>0</td>\n",
       "      <td>D1ABA3E2887B6A73</td>\n",
       "      <td>A</td>\n",
       "      <td>recommender_system_test</td>\n",
       "      <td>2020-12-07</td>\n",
       "      <td>EU</td>\n",
       "      <td>PC</td>\n",
       "      <td>2020-12-07 14:43:27</td>\n",
       "      <td>product_page</td>\n",
       "      <td>NaN</td>\n",
       "    </tr>\n",
       "  </tbody>\n",
       "</table>\n",
       "</div>"
      ],
      "text/plain": [
       "   index           user_id group                  ab_test first_date region  \\\n",
       "0      0  D1ABA3E2887B6A73     A  recommender_system_test 2020-12-07     EU   \n",
       "1      0  D1ABA3E2887B6A73     A  recommender_system_test 2020-12-07     EU   \n",
       "2      0  D1ABA3E2887B6A73     A  recommender_system_test 2020-12-07     EU   \n",
       "3      0  D1ABA3E2887B6A73     A  recommender_system_test 2020-12-07     EU   \n",
       "4      0  D1ABA3E2887B6A73     A  recommender_system_test 2020-12-07     EU   \n",
       "\n",
       "  device            event_dt    event_name  details  \n",
       "0     PC 2020-12-07 14:43:27      purchase    99.99  \n",
       "1     PC 2020-12-25 00:04:56      purchase     4.99  \n",
       "2     PC 2020-12-07 14:43:29  product_cart      NaN  \n",
       "3     PC 2020-12-25 00:04:57  product_cart      NaN  \n",
       "4     PC 2020-12-07 14:43:27  product_page      NaN  "
      ]
     },
     "execution_count": 117,
     "metadata": {},
     "output_type": "execute_result"
    }
   ],
   "source": [
    "\n",
    "ab_test= pd.merge(new_table, events, on='user_id', how='left')\n",
    "ab_test.head()"
   ]
  },
  {
   "cell_type": "code",
   "execution_count": 118,
   "metadata": {
    "scrolled": true
   },
   "outputs": [
    {
     "name": "stdout",
     "output_type": "stream",
     "text": [
      "<class 'pandas.core.frame.DataFrame'>\n",
      "Int64Index: 26290 entries, 0 to 26289\n",
      "Data columns (total 10 columns):\n",
      " #   Column      Non-Null Count  Dtype         \n",
      "---  ------      --------------  -----         \n",
      " 0   index       26290 non-null  int64         \n",
      " 1   user_id     26290 non-null  object        \n",
      " 2   group       26290 non-null  object        \n",
      " 3   ab_test     26290 non-null  object        \n",
      " 4   first_date  26290 non-null  datetime64[ns]\n",
      " 5   region      26290 non-null  object        \n",
      " 6   device      26290 non-null  object        \n",
      " 7   event_dt    23420 non-null  datetime64[ns]\n",
      " 8   event_name  23420 non-null  object        \n",
      " 9   details     3196 non-null   float64       \n",
      "dtypes: datetime64[ns](2), float64(1), int64(1), object(6)\n",
      "memory usage: 2.2+ MB\n"
     ]
    }
   ],
   "source": [
    "ab_test.info()"
   ]
  },
  {
   "cell_type": "code",
   "execution_count": 119,
   "metadata": {},
   "outputs": [
    {
     "data": {
      "text/plain": [
       "23420"
      ]
     },
     "execution_count": 119,
     "metadata": {},
     "output_type": "execute_result"
    }
   ],
   "source": [
    "#Сколько всего событий в логе\n",
    "ab_test['event_name'].count()"
   ]
  },
  {
   "cell_type": "code",
   "execution_count": 120,
   "metadata": {},
   "outputs": [
    {
     "data": {
      "text/plain": [
       "6351"
      ]
     },
     "execution_count": 120,
     "metadata": {},
     "output_type": "execute_result"
    }
   ],
   "source": [
    "#Сколько всего пользователей в логе\n",
    "len(ab_test['user_id'].unique())\n"
   ]
  },
  {
   "cell_type": "markdown",
   "metadata": {},
   "source": [
    "Количество событий на пользователя одинаково распределены в выборках?"
   ]
  },
  {
   "cell_type": "code",
   "execution_count": 121,
   "metadata": {},
   "outputs": [
    {
     "data": {
      "text/plain": [
       "1.881118881118881"
      ]
     },
     "execution_count": 121,
     "metadata": {},
     "output_type": "execute_result"
    }
   ],
   "source": [
    "ab_test.query('group==\"B\"').groupby('user_id')['event_name'].count().mean()"
   ]
  },
  {
   "cell_type": "code",
   "execution_count": 122,
   "metadata": {
    "scrolled": true
   },
   "outputs": [
    {
     "data": {
      "text/plain": [
       "5.0382498624105665"
      ]
     },
     "execution_count": 122,
     "metadata": {},
     "output_type": "execute_result"
    }
   ],
   "source": [
    "ab_test.query('group==\"A\"').groupby('user_id')['event_name'].count().mean()"
   ]
  },
  {
   "cell_type": "markdown",
   "metadata": {},
   "source": [
    "Количество событий на пользователя в выборках распределены не одинаково. На 1 пользователя группы А в среднем 5 событий, группы В 1,8."
   ]
  },
  {
   "cell_type": "markdown",
   "metadata": {},
   "source": [
    "Посчитаем для каждого пользователя количество событий"
   ]
  },
  {
   "cell_type": "code",
   "execution_count": 123,
   "metadata": {
    "scrolled": false
   },
   "outputs": [
    {
     "data": {
      "text/html": [
       "<div>\n",
       "<style scoped>\n",
       "    .dataframe tbody tr th:only-of-type {\n",
       "        vertical-align: middle;\n",
       "    }\n",
       "\n",
       "    .dataframe tbody tr th {\n",
       "        vertical-align: top;\n",
       "    }\n",
       "\n",
       "    .dataframe thead th {\n",
       "        text-align: right;\n",
       "    }\n",
       "</style>\n",
       "<table border=\"1\" class=\"dataframe\">\n",
       "  <thead>\n",
       "    <tr style=\"text-align: right;\">\n",
       "      <th></th>\n",
       "      <th>group</th>\n",
       "      <th>user_id</th>\n",
       "      <th>event_name</th>\n",
       "    </tr>\n",
       "  </thead>\n",
       "  <tbody>\n",
       "    <tr>\n",
       "      <th>0</th>\n",
       "      <td>A</td>\n",
       "      <td>000ABE35EE11412F</td>\n",
       "      <td>0</td>\n",
       "    </tr>\n",
       "    <tr>\n",
       "      <th>1</th>\n",
       "      <td>A</td>\n",
       "      <td>0010A1C096941592</td>\n",
       "      <td>12</td>\n",
       "    </tr>\n",
       "    <tr>\n",
       "      <th>2</th>\n",
       "      <td>A</td>\n",
       "      <td>001C05E87D336C59</td>\n",
       "      <td>0</td>\n",
       "    </tr>\n",
       "    <tr>\n",
       "      <th>3</th>\n",
       "      <td>A</td>\n",
       "      <td>00341D8401F0F665</td>\n",
       "      <td>2</td>\n",
       "    </tr>\n",
       "    <tr>\n",
       "      <th>4</th>\n",
       "      <td>A</td>\n",
       "      <td>003B6786B4FF5B03</td>\n",
       "      <td>0</td>\n",
       "    </tr>\n",
       "    <tr>\n",
       "      <th>...</th>\n",
       "      <td>...</td>\n",
       "      <td>...</td>\n",
       "      <td>...</td>\n",
       "    </tr>\n",
       "    <tr>\n",
       "      <th>6346</th>\n",
       "      <td>B</td>\n",
       "      <td>FFB3F647898BA928</td>\n",
       "      <td>0</td>\n",
       "    </tr>\n",
       "    <tr>\n",
       "      <th>6347</th>\n",
       "      <td>B</td>\n",
       "      <td>FFC2C5F898D1245B</td>\n",
       "      <td>0</td>\n",
       "    </tr>\n",
       "    <tr>\n",
       "      <th>6348</th>\n",
       "      <td>B</td>\n",
       "      <td>FFC53FD45DDA5EE8</td>\n",
       "      <td>0</td>\n",
       "    </tr>\n",
       "    <tr>\n",
       "      <th>6349</th>\n",
       "      <td>B</td>\n",
       "      <td>FFED90241D04503F</td>\n",
       "      <td>0</td>\n",
       "    </tr>\n",
       "    <tr>\n",
       "      <th>6350</th>\n",
       "      <td>B</td>\n",
       "      <td>FFF28D02B1EACBE1</td>\n",
       "      <td>9</td>\n",
       "    </tr>\n",
       "  </tbody>\n",
       "</table>\n",
       "<p>6351 rows × 3 columns</p>\n",
       "</div>"
      ],
      "text/plain": [
       "     group           user_id  event_name\n",
       "0        A  000ABE35EE11412F           0\n",
       "1        A  0010A1C096941592          12\n",
       "2        A  001C05E87D336C59           0\n",
       "3        A  00341D8401F0F665           2\n",
       "4        A  003B6786B4FF5B03           0\n",
       "...    ...               ...         ...\n",
       "6346     B  FFB3F647898BA928           0\n",
       "6347     B  FFC2C5F898D1245B           0\n",
       "6348     B  FFC53FD45DDA5EE8           0\n",
       "6349     B  FFED90241D04503F           0\n",
       "6350     B  FFF28D02B1EACBE1           9\n",
       "\n",
       "[6351 rows x 3 columns]"
      ]
     },
     "execution_count": 123,
     "metadata": {},
     "output_type": "execute_result"
    }
   ],
   "source": [
    "count_event=ab_test.groupby(['group','user_id'])['event_name'].count().reset_index()\n",
    "count_event"
   ]
  },
  {
   "cell_type": "markdown",
   "metadata": {},
   "source": [
    "Посмотрим среднее число событий на пользователя только для тех, которые совершали события."
   ]
  },
  {
   "cell_type": "code",
   "execution_count": 124,
   "metadata": {},
   "outputs": [
    {
     "data": {
      "text/plain": [
       "7.03110599078341"
      ]
     },
     "execution_count": 124,
     "metadata": {},
     "output_type": "execute_result"
    }
   ],
   "source": [
    "count_event=count_event.query('event_name!=0')\n",
    "count_event.query('group==\"A\"')['event_name'].mean()"
   ]
  },
  {
   "cell_type": "code",
   "execution_count": 125,
   "metadata": {},
   "outputs": [
    {
     "data": {
      "text/plain": [
       "5.827822120866591"
      ]
     },
     "execution_count": 125,
     "metadata": {},
     "output_type": "execute_result"
    }
   ],
   "source": [
    "count_event.query('group==\"B\"')['event_name'].mean()"
   ]
  },
  {
   "cell_type": "markdown",
   "metadata": {},
   "source": [
    "Среднее число событий на пользователя только для тех, которые совершали события в группе А-7, в группе В 5,8."
   ]
  },
  {
   "cell_type": "markdown",
   "metadata": {},
   "source": [
    "Построим гистограмму распределения"
   ]
  },
  {
   "cell_type": "code",
   "execution_count": 126,
   "metadata": {},
   "outputs": [
    {
     "data": {
      "text/plain": [
       "user_id\n",
       "000ABE35EE11412F     0\n",
       "0010A1C096941592    12\n",
       "001C05E87D336C59     0\n",
       "00341D8401F0F665     2\n",
       "003B6786B4FF5B03     0\n",
       "                    ..\n",
       "FF5A1CD38F5DD996    10\n",
       "FF5B24BCE4387F86     9\n",
       "FF825C1D791989B5     8\n",
       "FFAE9489C76F352B     6\n",
       "FFE858A7845F005E     0\n",
       "Name: event_name, Length: 3634, dtype: int64"
      ]
     },
     "execution_count": 126,
     "metadata": {},
     "output_type": "execute_result"
    }
   ],
   "source": [
    "b=ab_test.query('group==\"B\"').groupby('user_id')['event_name'].count()\n",
    "a=ab_test.query('group==\"A\"').groupby('user_id')['event_name'].count()\n",
    "a"
   ]
  },
  {
   "cell_type": "code",
   "execution_count": 127,
   "metadata": {
    "scrolled": false
   },
   "outputs": [
    {
     "data": {
      "image/png": "[encoded data removed]",
      "text/plain": [
       "<Figure size 1440x720 with 1 Axes>"
      ]
     },
     "metadata": {
      "needs_background": "light"
     },
     "output_type": "display_data"
    }
   ],
   "source": [
    "plt.figure(figsize=(20,10))\n",
    "bins = np.linspace(0, 30, 20)\n",
    "\n",
    "plt.hist([a, b], bins, label=['a', 'b'])\n",
    "plt.legend(loc='upper left')\n",
    "plt.xlabel('Количество событий')\n",
    "plt.ylabel('Частота')\n",
    "plt.show()\n"
   ]
  },
  {
   "cell_type": "markdown",
   "metadata": {},
   "source": [
    "Количество событий распределено не равномерно. Много нулевых событий, в группе А больше событий, чем в группе В.\n",
    "Больше всего от 5-10 событий совершено пользователями."
   ]
  },
  {
   "cell_type": "markdown",
   "metadata": {},
   "source": [
    "Как число событий в выборках распределено по дням?"
   ]
  },
  {
   "cell_type": "code",
   "execution_count": 128,
   "metadata": {},
   "outputs": [],
   "source": [
    "ab_test['event_dt'] = pd.to_datetime(ab_test['event_dt'], format='%Y-%m-%dT')\n",
    "ab_test['event_dt']=ab_test['event_dt'].dt.date"
   ]
  },
  {
   "cell_type": "code",
   "execution_count": 129,
   "metadata": {},
   "outputs": [],
   "source": [
    "data_cor= ab_test.pivot_table(index=['event_dt','group'], values='event_name', aggfunc='count').reset_index()\n"
   ]
  },
  {
   "cell_type": "code",
   "execution_count": 130,
   "metadata": {},
   "outputs": [
    {
     "data": {
      "application/vnd.plotly.v1+json": {
       "config": {
        "plotlyServerURL": "https://plot.ly"
       },
       "data": [
        {
         "alignmentgroup": "True",
         "hovertemplate": "group=A<br>event_dt=%{x}<br>event_name=%{text}<extra></extra>",
         "legendgroup": "A",
         "marker": {
          "color": "#636efa",
          "pattern": {
           "shape": ""
          }
         },
         "name": "A",
         "offsetgroup": "A",
         "orientation": "v",
         "showlegend": true,
         "text": [
          318,
          313,
          371,
          331,
          356,
          346,
          308,
          1015,
          1030,
          1007,
          1200,
          1244,
          1430,
          1434,
          1903,
          1236,
          959,
          850,
          639,
          580,
          547,
          479,
          413
         ],
         "textposition": "auto",
         "type": "bar",
         "x": [
          "2020-12-07",
          "2020-12-08",
          "2020-12-09",
          "2020-12-10",
          "2020-12-11",
          "2020-12-12",
          "2020-12-13",
          "2020-12-14",
          "2020-12-15",
          "2020-12-16",
          "2020-12-17",
          "2020-12-18",
          "2020-12-19",
          "2020-12-20",
          "2020-12-21",
          "2020-12-22",
          "2020-12-23",
          "2020-12-24",
          "2020-12-25",
          "2020-12-26",
          "2020-12-27",
          "2020-12-28",
          "2020-12-29"
         ],
         "xaxis": "x",
         "y": [
          318,
          313,
          371,
          331,
          356,
          346,
          308,
          1015,
          1030,
          1007,
          1200,
          1244,
          1430,
          1434,
          1903,
          1236,
          959,
          850,
          639,
          580,
          547,
          479,
          413
         ],
         "yaxis": "y"
        },
        {
         "alignmentgroup": "True",
         "hovertemplate": "group=B<br>event_dt=%{x}<br>event_name=%{text}<extra></extra>",
         "legendgroup": "B",
         "marker": {
          "color": "#EF553B",
          "pattern": {
           "shape": ""
          }
         },
         "name": "B",
         "offsetgroup": "B",
         "orientation": "v",
         "showlegend": true,
         "text": [
          356,
          238,
          338,
          249,
          161,
          199,
          164,
          248,
          222,
          369,
          281,
          259,
          288,
          309,
          401,
          185,
          189,
          149,
          107,
          113,
          114,
          95,
          73,
          4
         ],
         "textposition": "auto",
         "type": "bar",
         "x": [
          "2020-12-07",
          "2020-12-08",
          "2020-12-09",
          "2020-12-10",
          "2020-12-11",
          "2020-12-12",
          "2020-12-13",
          "2020-12-14",
          "2020-12-15",
          "2020-12-16",
          "2020-12-17",
          "2020-12-18",
          "2020-12-19",
          "2020-12-20",
          "2020-12-21",
          "2020-12-22",
          "2020-12-23",
          "2020-12-24",
          "2020-12-25",
          "2020-12-26",
          "2020-12-27",
          "2020-12-28",
          "2020-12-29",
          "2020-12-30"
         ],
         "xaxis": "x",
         "y": [
          356,
          238,
          338,
          249,
          161,
          199,
          164,
          248,
          222,
          369,
          281,
          259,
          288,
          309,
          401,
          185,
          189,
          149,
          107,
          113,
          114,
          95,
          73,
          4
         ],
         "yaxis": "y"
        }
       ],
       "layout": {
        "barmode": "relative",
        "legend": {
         "title": {
          "text": "group"
         },
         "tracegroupgap": 0
        },
        "margin": {
         "t": 60
        },
        "template": {
         "data": {
          "bar": [
           {
            "error_x": {
             "color": "#2a3f5f"
            },
            "error_y": {
             "color": "#2a3f5f"
            },
            "marker": {
             "line": {
              "color": "#E5ECF6",
              "width": 0.5
             },
             "pattern": {
              "fillmode": "overlay",
              "size": 10,
              "solidity": 0.2
             }
            },
            "type": "bar"
           }
          ],
          "barpolar": [
           {
            "marker": {
             "line": {
              "color": "#E5ECF6",
              "width": 0.5
             },
             "pattern": {
              "fillmode": "overlay",
              "size": 10,
              "solidity": 0.2
             }
            },
            "type": "barpolar"
           }
          ],
          "carpet": [
           {
            "aaxis": {
             "endlinecolor": "#2a3f5f",
             "gridcolor": "white",
             "linecolor": "white",
             "minorgridcolor": "white",
             "startlinecolor": "#2a3f5f"
            },
            "baxis": {
             "endlinecolor": "#2a3f5f",
             "gridcolor": "white",
             "linecolor": "white",
             "minorgridcolor": "white",
             "startlinecolor": "#2a3f5f"
            },
            "type": "carpet"
           }
          ],
          "choropleth": [
           {
            "colorbar": {
             "outlinewidth": 0,
             "ticks": ""
            },
            "type": "choropleth"
           }
          ],
          "contour": [
           {
            "colorbar": {
             "outlinewidth": 0,
             "ticks": ""
            },
            "colorscale": [
             [
              0,
              "#0d0887"
             ],
             [
              0.1111111111111111,
              "#46039f"
             ],
             [
              0.2222222222222222,
              "#7201a8"
             ],
             [
              0.3333333333333333,
              "#9c179e"
             ],
             [
              0.4444444444444444,
              "#bd3786"
             ],
             [
              0.5555555555555556,
              "#d8576b"
             ],
             [
              0.6666666666666666,
              "#ed7953"
             ],
             [
              0.7777777777777778,
              "#fb9f3a"
             ],
             [
              0.8888888888888888,
              "#fdca26"
             ],
             [
              1,
              "#f0f921"
             ]
            ],
            "type": "contour"
           }
          ],
          "contourcarpet": [
           {
            "colorbar": {
             "outlinewidth": 0,
             "ticks": ""
            },
            "type": "contourcarpet"
           }
          ],
          "heatmap": [
           {
            "colorbar": {
             "outlinewidth": 0,
             "ticks": ""
            },
            "colorscale": [
             [
              0,
              "#0d0887"
             ],
             [
              0.1111111111111111,
              "#46039f"
             ],
             [
              0.2222222222222222,
              "#7201a8"
             ],
             [
              0.3333333333333333,
              "#9c179e"
             ],
             [
              0.4444444444444444,
              "#bd3786"
             ],
             [
              0.5555555555555556,
              "#d8576b"
             ],
             [
              0.6666666666666666,
              "#ed7953"
             ],
             [
              0.7777777777777778,
              "#fb9f3a"
             ],
             [
              0.8888888888888888,
              "#fdca26"
             ],
             [
              1,
              "#f0f921"
             ]
            ],
            "type": "heatmap"
           }
          ],
          "heatmapgl": [
           {
            "colorbar": {
             "outlinewidth": 0,
             "ticks": ""
            },
            "colorscale": [
             [
              0,
              "#0d0887"
             ],
             [
              0.1111111111111111,
              "#46039f"
             ],
             [
              0.2222222222222222,
              "#7201a8"
             ],
             [
              0.3333333333333333,
              "#9c179e"
             ],
             [
              0.4444444444444444,
              "#bd3786"
             ],
             [
              0.5555555555555556,
              "#d8576b"
             ],
             [
              0.6666666666666666,
              "#ed7953"
             ],
             [
              0.7777777777777778,
              "#fb9f3a"
             ],
             [
              0.8888888888888888,
              "#fdca26"
             ],
             [
              1,
              "#f0f921"
             ]
            ],
            "type": "heatmapgl"
           }
          ],
          "histogram": [
           {
            "marker": {
             "pattern": {
              "fillmode": "overlay",
              "size": 10,
              "solidity": 0.2
             }
            },
            "type": "histogram"
           }
          ],
          "histogram2d": [
           {
            "colorbar": {
             "outlinewidth": 0,
             "ticks": ""
            },
            "colorscale": [
             [
              0,
              "#0d0887"
             ],
             [
              0.1111111111111111,
              "#46039f"
             ],
             [
              0.2222222222222222,
              "#7201a8"
             ],
             [
              0.3333333333333333,
              "#9c179e"
             ],
             [
              0.4444444444444444,
              "#bd3786"
             ],
             [
              0.5555555555555556,
              "#d8576b"
             ],
             [
              0.6666666666666666,
              "#ed7953"
             ],
             [
              0.7777777777777778,
              "#fb9f3a"
             ],
             [
              0.8888888888888888,
              "#fdca26"
             ],
             [
              1,
              "#f0f921"
             ]
            ],
            "type": "histogram2d"
           }
          ],
          "histogram2dcontour": [
           {
            "colorbar": {
             "outlinewidth": 0,
             "ticks": ""
            },
            "colorscale": [
             [
              0,
              "#0d0887"
             ],
             [
              0.1111111111111111,
              "#46039f"
             ],
             [
              0.2222222222222222,
              "#7201a8"
             ],
             [
              0.3333333333333333,
              "#9c179e"
             ],
             [
              0.4444444444444444,
              "#bd3786"
             ],
             [
              0.5555555555555556,
              "#d8576b"
             ],
             [
              0.6666666666666666,
              "#ed7953"
             ],
             [
              0.7777777777777778,
              "#fb9f3a"
             ],
             [
              0.8888888888888888,
              "#fdca26"
             ],
             [
              1,
              "#f0f921"
             ]
            ],
            "type": "histogram2dcontour"
           }
          ],
          "mesh3d": [
           {
            "colorbar": {
             "outlinewidth": 0,
             "ticks": ""
            },
            "type": "mesh3d"
           }
          ],
          "parcoords": [
           {
            "line": {
             "colorbar": {
              "outlinewidth": 0,
              "ticks": ""
             }
            },
            "type": "parcoords"
           }
          ],
          "pie": [
           {
            "automargin": true,
            "type": "pie"
           }
          ],
          "scatter": [
           {
            "marker": {
             "colorbar": {
              "outlinewidth": 0,
              "ticks": ""
             }
            },
            "type": "scatter"
           }
          ],
          "scatter3d": [
           {
            "line": {
             "colorbar": {
              "outlinewidth": 0,
              "ticks": ""
             }
            },
            "marker": {
             "colorbar": {
              "outlinewidth": 0,
              "ticks": ""
             }
            },
            "type": "scatter3d"
           }
          ],
          "scattercarpet": [
           {
            "marker": {
             "colorbar": {
              "outlinewidth": 0,
              "ticks": ""
             }
            },
            "type": "scattercarpet"
           }
          ],
          "scattergeo": [
           {
            "marker": {
             "colorbar": {
              "outlinewidth": 0,
              "ticks": ""
             }
            },
            "type": "scattergeo"
           }
          ],
          "scattergl": [
           {
            "marker": {
             "colorbar": {
              "outlinewidth": 0,
              "ticks": ""
             }
            },
            "type": "scattergl"
           }
          ],
          "scattermapbox": [
           {
            "marker": {
             "colorbar": {
              "outlinewidth": 0,
              "ticks": ""
             }
            },
            "type": "scattermapbox"
           }
          ],
          "scatterpolar": [
           {
            "marker": {
             "colorbar": {
              "outlinewidth": 0,
              "ticks": ""
             }
            },
            "type": "scatterpolar"
           }
          ],
          "scatterpolargl": [
           {
            "marker": {
             "colorbar": {
              "outlinewidth": 0,
              "ticks": ""
             }
            },
            "type": "scatterpolargl"
           }
          ],
          "scatterternary": [
           {
            "marker": {
             "colorbar": {
              "outlinewidth": 0,
              "ticks": ""
             }
            },
            "type": "scatterternary"
           }
          ],
          "surface": [
           {
            "colorbar": {
             "outlinewidth": 0,
             "ticks": ""
            },
            "colorscale": [
             [
              0,
              "#0d0887"
             ],
             [
              0.1111111111111111,
              "#46039f"
             ],
             [
              0.2222222222222222,
              "#7201a8"
             ],
             [
              0.3333333333333333,
              "#9c179e"
             ],
             [
              0.4444444444444444,
              "#bd3786"
             ],
             [
              0.5555555555555556,
              "#d8576b"
             ],
             [
              0.6666666666666666,
              "#ed7953"
             ],
             [
              0.7777777777777778,
              "#fb9f3a"
             ],
             [
              0.8888888888888888,
              "#fdca26"
             ],
             [
              1,
              "#f0f921"
             ]
            ],
            "type": "surface"
           }
          ],
          "table": [
           {
            "cells": {
             "fill": {
              "color": "#EBF0F8"
             },
             "line": {
              "color": "white"
             }
            },
            "header": {
             "fill": {
              "color": "#C8D4E3"
             },
             "line": {
              "color": "white"
             }
            },
            "type": "table"
           }
          ]
         },
         "layout": {
          "annotationdefaults": {
           "arrowcolor": "#2a3f5f",
           "arrowhead": 0,
           "arrowwidth": 1
          },
          "autotypenumbers": "strict",
          "coloraxis": {
           "colorbar": {
            "outlinewidth": 0,
            "ticks": ""
           }
          },
          "colorscale": {
           "diverging": [
            [
             0,
             "#8e0152"
            ],
            [
             0.1,
             "#c51b7d"
            ],
            [
             0.2,
             "#de77ae"
            ],
            [
             0.3,
             "#f1b6da"
            ],
            [
             0.4,
             "#fde0ef"
            ],
            [
             0.5,
             "#f7f7f7"
            ],
            [
             0.6,
             "#e6f5d0"
            ],
            [
             0.7,
             "#b8e186"
            ],
            [
             0.8,
             "#7fbc41"
            ],
            [
             0.9,
             "#4d9221"
            ],
            [
             1,
             "#276419"
            ]
           ],
           "sequential": [
            [
             0,
             "#0d0887"
            ],
            [
             0.1111111111111111,
             "#46039f"
            ],
            [
             0.2222222222222222,
             "#7201a8"
            ],
            [
             0.3333333333333333,
             "#9c179e"
            ],
            [
             0.4444444444444444,
             "#bd3786"
            ],
            [
             0.5555555555555556,
             "#d8576b"
            ],
            [
             0.6666666666666666,
             "#ed7953"
            ],
            [
             0.7777777777777778,
             "#fb9f3a"
            ],
            [
             0.8888888888888888,
             "#fdca26"
            ],
            [
             1,
             "#f0f921"
            ]
           ],
           "sequentialminus": [
            [
             0,
             "#0d0887"
            ],
            [
             0.1111111111111111,
             "#46039f"
            ],
            [
             0.2222222222222222,
             "#7201a8"
            ],
            [
             0.3333333333333333,
             "#9c179e"
            ],
            [
             0.4444444444444444,
             "#bd3786"
            ],
            [
             0.5555555555555556,
             "#d8576b"
            ],
            [
             0.6666666666666666,
             "#ed7953"
            ],
            [
             0.7777777777777778,
             "#fb9f3a"
            ],
            [
             0.8888888888888888,
             "#fdca26"
            ],
            [
             1,
             "#f0f921"
            ]
           ]
          },
          "colorway": [
           "#636efa",
           "#EF553B",
           "#00cc96",
           "#ab63fa",
           "#FFA15A",
           "#19d3f3",
           "#FF6692",
           "#B6E880",
           "#FF97FF",
           "#FECB52"
          ],
          "font": {
           "color": "#2a3f5f"
          },
          "geo": {
           "bgcolor": "white",
           "lakecolor": "white",
           "landcolor": "#E5ECF6",
           "showlakes": true,
           "showland": true,
           "subunitcolor": "white"
          },
          "hoverlabel": {
           "align": "left"
          },
          "hovermode": "closest",
          "mapbox": {
           "style": "light"
          },
          "paper_bgcolor": "white",
          "plot_bgcolor": "#E5ECF6",
          "polar": {
           "angularaxis": {
            "gridcolor": "white",
            "linecolor": "white",
            "ticks": ""
           },
           "bgcolor": "#E5ECF6",
           "radialaxis": {
            "gridcolor": "white",
            "linecolor": "white",
            "ticks": ""
           }
          },
          "scene": {
           "xaxis": {
            "backgroundcolor": "#E5ECF6",
            "gridcolor": "white",
            "gridwidth": 2,
            "linecolor": "white",
            "showbackground": true,
            "ticks": "",
            "zerolinecolor": "white"
           },
           "yaxis": {
            "backgroundcolor": "#E5ECF6",
            "gridcolor": "white",
            "gridwidth": 2,
            "linecolor": "white",
            "showbackground": true,
            "ticks": "",
            "zerolinecolor": "white"
           },
           "zaxis": {
            "backgroundcolor": "#E5ECF6",
            "gridcolor": "white",
            "gridwidth": 2,
            "linecolor": "white",
            "showbackground": true,
            "ticks": "",
            "zerolinecolor": "white"
           }
          },
          "shapedefaults": {
           "line": {
            "color": "#2a3f5f"
           }
          },
          "ternary": {
           "aaxis": {
            "gridcolor": "white",
            "linecolor": "white",
            "ticks": ""
           },
           "baxis": {
            "gridcolor": "white",
            "linecolor": "white",
            "ticks": ""
           },
           "bgcolor": "#E5ECF6",
           "caxis": {
            "gridcolor": "white",
            "linecolor": "white",
            "ticks": ""
           }
          },
          "title": {
           "x": 0.05
          },
          "xaxis": {
           "automargin": true,
           "gridcolor": "white",
           "linecolor": "white",
           "ticks": "",
           "title": {
            "standoff": 15
           },
           "zerolinecolor": "white",
           "zerolinewidth": 2
          },
          "yaxis": {
           "automargin": true,
           "gridcolor": "white",
           "linecolor": "white",
           "ticks": "",
           "title": {
            "standoff": 15
           },
           "zerolinecolor": "white",
           "zerolinewidth": 2
          }
         }
        },
        "title": {
         "text": "Распределение количества событий по дням"
        },
        "xaxis": {
         "anchor": "y",
         "domain": [
          0,
          1
         ],
         "title": {
          "text": "Дата"
         }
        },
        "yaxis": {
         "anchor": "x",
         "domain": [
          0,
          1
         ],
         "title": {
          "text": "Количество событий"
         }
        }
       }
      },
      "text/html": [
       "<div>                            <div id=\"43d90b63-ca42-46d7-ab42-89eb1c5cdfbc\" class=\"plotly-graph-div\" style=\"height:525px; width:100%;\"></div>            <script type=\"text/javascript\">                require([\"plotly\"], function(Plotly) {                    window.PLOTLYENV=window.PLOTLYENV || {};                                    if (document.getElementById(\"43d90b63-ca42-46d7-ab42-89eb1c5cdfbc\")) {                    Plotly.newPlot(                        \"43d90b63-ca42-46d7-ab42-89eb1c5cdfbc\",                        [{\"alignmentgroup\":\"True\",\"hovertemplate\":\"group=A<br>event_dt=%{x}<br>event_name=%{text}<extra></extra>\",\"legendgroup\":\"A\",\"marker\":{\"color\":\"#636efa\",\"pattern\":{\"shape\":\"\"}},\"name\":\"A\",\"offsetgroup\":\"A\",\"orientation\":\"v\",\"showlegend\":true,\"text\":[318.0,313.0,371.0,331.0,356.0,346.0,308.0,1015.0,1030.0,1007.0,1200.0,1244.0,1430.0,1434.0,1903.0,1236.0,959.0,850.0,639.0,580.0,547.0,479.0,413.0],\"textposition\":\"auto\",\"x\":[\"2020-12-07\",\"2020-12-08\",\"2020-12-09\",\"2020-12-10\",\"2020-12-11\",\"2020-12-12\",\"2020-12-13\",\"2020-12-14\",\"2020-12-15\",\"2020-12-16\",\"2020-12-17\",\"2020-12-18\",\"2020-12-19\",\"2020-12-20\",\"2020-12-21\",\"2020-12-22\",\"2020-12-23\",\"2020-12-24\",\"2020-12-25\",\"2020-12-26\",\"2020-12-27\",\"2020-12-28\",\"2020-12-29\"],\"xaxis\":\"x\",\"y\":[318,313,371,331,356,346,308,1015,1030,1007,1200,1244,1430,1434,1903,1236,959,850,639,580,547,479,413],\"yaxis\":\"y\",\"type\":\"bar\"},{\"alignmentgroup\":\"True\",\"hovertemplate\":\"group=B<br>event_dt=%{x}<br>event_name=%{text}<extra></extra>\",\"legendgroup\":\"B\",\"marker\":{\"color\":\"#EF553B\",\"pattern\":{\"shape\":\"\"}},\"name\":\"B\",\"offsetgroup\":\"B\",\"orientation\":\"v\",\"showlegend\":true,\"text\":[356.0,238.0,338.0,249.0,161.0,199.0,164.0,248.0,222.0,369.0,281.0,259.0,288.0,309.0,401.0,185.0,189.0,149.0,107.0,113.0,114.0,95.0,73.0,4.0],\"textposition\":\"auto\",\"x\":[\"2020-12-07\",\"2020-12-08\",\"2020-12-09\",\"2020-12-10\",\"2020-12-11\",\"2020-12-12\",\"2020-12-13\",\"2020-12-14\",\"2020-12-15\",\"2020-12-16\",\"2020-12-17\",\"2020-12-18\",\"2020-12-19\",\"2020-12-20\",\"2020-12-21\",\"2020-12-22\",\"2020-12-23\",\"2020-12-24\",\"2020-12-25\",\"2020-12-26\",\"2020-12-27\",\"2020-12-28\",\"2020-12-29\",\"2020-12-30\"],\"xaxis\":\"x\",\"y\":[356,238,338,249,161,199,164,248,222,369,281,259,288,309,401,185,189,149,107,113,114,95,73,4],\"yaxis\":\"y\",\"type\":\"bar\"}],                        {\"template\":{\"data\":{\"bar\":[{\"error_x\":{\"color\":\"#2a3f5f\"},\"error_y\":{\"color\":\"#2a3f5f\"},\"marker\":{\"line\":{\"color\":\"#E5ECF6\",\"width\":0.5},\"pattern\":{\"fillmode\":\"overlay\",\"size\":10,\"solidity\":0.2}},\"type\":\"bar\"}],\"barpolar\":[{\"marker\":{\"line\":{\"color\":\"#E5ECF6\",\"width\":0.5},\"pattern\":{\"fillmode\":\"overlay\",\"size\":10,\"solidity\":0.2}},\"type\":\"barpolar\"}],\"carpet\":[{\"aaxis\":{\"endlinecolor\":\"#2a3f5f\",\"gridcolor\":\"white\",\"linecolor\":\"white\",\"minorgridcolor\":\"white\",\"startlinecolor\":\"#2a3f5f\"},\"baxis\":{\"endlinecolor\":\"#2a3f5f\",\"gridcolor\":\"white\",\"linecolor\":\"white\",\"minorgridcolor\":\"white\",\"startlinecolor\":\"#2a3f5f\"},\"type\":\"carpet\"}],\"choropleth\":[{\"colorbar\":{\"outlinewidth\":0,\"ticks\":\"\"},\"type\":\"choropleth\"}],\"contour\":[{\"colorbar\":{\"outlinewidth\":0,\"ticks\":\"\"},\"colorscale\":[[0.0,\"#0d0887\"],[0.1111111111111111,\"#46039f\"],[0.2222222222222222,\"#7201a8\"],[0.3333333333333333,\"#9c179e\"],[0.4444444444444444,\"#bd3786\"],[0.5555555555555556,\"#d8576b\"],[0.6666666666666666,\"#ed7953\"],[0.7777777777777778,\"#fb9f3a\"],[0.8888888888888888,\"#fdca26\"],[1.0,\"#f0f921\"]],\"type\":\"contour\"}],\"contourcarpet\":[{\"colorbar\":{\"outlinewidth\":0,\"ticks\":\"\"},\"type\":\"contourcarpet\"}],\"heatmap\":[{\"colorbar\":{\"outlinewidth\":0,\"ticks\":\"\"},\"colorscale\":[[0.0,\"#0d0887\"],[0.1111111111111111,\"#46039f\"],[0.2222222222222222,\"#7201a8\"],[0.3333333333333333,\"#9c179e\"],[0.4444444444444444,\"#bd3786\"],[0.5555555555555556,\"#d8576b\"],[0.6666666666666666,\"#ed7953\"],[0.7777777777777778,\"#fb9f3a\"],[0.8888888888888888,\"#fdca26\"],[1.0,\"#f0f921\"]],\"type\":\"heatmap\"}],\"heatmapgl\":[{\"colorbar\":{\"outlinewidth\":0,\"ticks\":\"\"},\"colorscale\":[[0.0,\"#0d0887\"],[0.1111111111111111,\"#46039f\"],[0.2222222222222222,\"#7201a8\"],[0.3333333333333333,\"#9c179e\"],[0.4444444444444444,\"#bd3786\"],[0.5555555555555556,\"#d8576b\"],[0.6666666666666666,\"#ed7953\"],[0.7777777777777778,\"#fb9f3a\"],[0.8888888888888888,\"#fdca26\"],[1.0,\"#f0f921\"]],\"type\":\"heatmapgl\"}],\"histogram\":[{\"marker\":{\"pattern\":{\"fillmode\":\"overlay\",\"size\":10,\"solidity\":0.2}},\"type\":\"histogram\"}],\"histogram2d\":[{\"colorbar\":{\"outlinewidth\":0,\"ticks\":\"\"},\"colorscale\":[[0.0,\"#0d0887\"],[0.1111111111111111,\"#46039f\"],[0.2222222222222222,\"#7201a8\"],[0.3333333333333333,\"#9c179e\"],[0.4444444444444444,\"#bd3786\"],[0.5555555555555556,\"#d8576b\"],[0.6666666666666666,\"#ed7953\"],[0.7777777777777778,\"#fb9f3a\"],[0.8888888888888888,\"#fdca26\"],[1.0,\"#f0f921\"]],\"type\":\"histogram2d\"}],\"histogram2dcontour\":[{\"colorbar\":{\"outlinewidth\":0,\"ticks\":\"\"},\"colorscale\":[[0.0,\"#0d0887\"],[0.1111111111111111,\"#46039f\"],[0.2222222222222222,\"#7201a8\"],[0.3333333333333333,\"#9c179e\"],[0.4444444444444444,\"#bd3786\"],[0.5555555555555556,\"#d8576b\"],[0.6666666666666666,\"#ed7953\"],[0.7777777777777778,\"#fb9f3a\"],[0.8888888888888888,\"#fdca26\"],[1.0,\"#f0f921\"]],\"type\":\"histogram2dcontour\"}],\"mesh3d\":[{\"colorbar\":{\"outlinewidth\":0,\"ticks\":\"\"},\"type\":\"mesh3d\"}],\"parcoords\":[{\"line\":{\"colorbar\":{\"outlinewidth\":0,\"ticks\":\"\"}},\"type\":\"parcoords\"}],\"pie\":[{\"automargin\":true,\"type\":\"pie\"}],\"scatter\":[{\"marker\":{\"colorbar\":{\"outlinewidth\":0,\"ticks\":\"\"}},\"type\":\"scatter\"}],\"scatter3d\":[{\"line\":{\"colorbar\":{\"outlinewidth\":0,\"ticks\":\"\"}},\"marker\":{\"colorbar\":{\"outlinewidth\":0,\"ticks\":\"\"}},\"type\":\"scatter3d\"}],\"scattercarpet\":[{\"marker\":{\"colorbar\":{\"outlinewidth\":0,\"ticks\":\"\"}},\"type\":\"scattercarpet\"}],\"scattergeo\":[{\"marker\":{\"colorbar\":{\"outlinewidth\":0,\"ticks\":\"\"}},\"type\":\"scattergeo\"}],\"scattergl\":[{\"marker\":{\"colorbar\":{\"outlinewidth\":0,\"ticks\":\"\"}},\"type\":\"scattergl\"}],\"scattermapbox\":[{\"marker\":{\"colorbar\":{\"outlinewidth\":0,\"ticks\":\"\"}},\"type\":\"scattermapbox\"}],\"scatterpolar\":[{\"marker\":{\"colorbar\":{\"outlinewidth\":0,\"ticks\":\"\"}},\"type\":\"scatterpolar\"}],\"scatterpolargl\":[{\"marker\":{\"colorbar\":{\"outlinewidth\":0,\"ticks\":\"\"}},\"type\":\"scatterpolargl\"}],\"scatterternary\":[{\"marker\":{\"colorbar\":{\"outlinewidth\":0,\"ticks\":\"\"}},\"type\":\"scatterternary\"}],\"surface\":[{\"colorbar\":{\"outlinewidth\":0,\"ticks\":\"\"},\"colorscale\":[[0.0,\"#0d0887\"],[0.1111111111111111,\"#46039f\"],[0.2222222222222222,\"#7201a8\"],[0.3333333333333333,\"#9c179e\"],[0.4444444444444444,\"#bd3786\"],[0.5555555555555556,\"#d8576b\"],[0.6666666666666666,\"#ed7953\"],[0.7777777777777778,\"#fb9f3a\"],[0.8888888888888888,\"#fdca26\"],[1.0,\"#f0f921\"]],\"type\":\"surface\"}],\"table\":[{\"cells\":{\"fill\":{\"color\":\"#EBF0F8\"},\"line\":{\"color\":\"white\"}},\"header\":{\"fill\":{\"color\":\"#C8D4E3\"},\"line\":{\"color\":\"white\"}},\"type\":\"table\"}]},\"layout\":{\"annotationdefaults\":{\"arrowcolor\":\"#2a3f5f\",\"arrowhead\":0,\"arrowwidth\":1},\"autotypenumbers\":\"strict\",\"coloraxis\":{\"colorbar\":{\"outlinewidth\":0,\"ticks\":\"\"}},\"colorscale\":{\"diverging\":[[0,\"#8e0152\"],[0.1,\"#c51b7d\"],[0.2,\"#de77ae\"],[0.3,\"#f1b6da\"],[0.4,\"#fde0ef\"],[0.5,\"#f7f7f7\"],[0.6,\"#e6f5d0\"],[0.7,\"#b8e186\"],[0.8,\"#7fbc41\"],[0.9,\"#4d9221\"],[1,\"#276419\"]],\"sequential\":[[0.0,\"#0d0887\"],[0.1111111111111111,\"#46039f\"],[0.2222222222222222,\"#7201a8\"],[0.3333333333333333,\"#9c179e\"],[0.4444444444444444,\"#bd3786\"],[0.5555555555555556,\"#d8576b\"],[0.6666666666666666,\"#ed7953\"],[0.7777777777777778,\"#fb9f3a\"],[0.8888888888888888,\"#fdca26\"],[1.0,\"#f0f921\"]],\"sequentialminus\":[[0.0,\"#0d0887\"],[0.1111111111111111,\"#46039f\"],[0.2222222222222222,\"#7201a8\"],[0.3333333333333333,\"#9c179e\"],[0.4444444444444444,\"#bd3786\"],[0.5555555555555556,\"#d8576b\"],[0.6666666666666666,\"#ed7953\"],[0.7777777777777778,\"#fb9f3a\"],[0.8888888888888888,\"#fdca26\"],[1.0,\"#f0f921\"]]},\"colorway\":[\"#636efa\",\"#EF553B\",\"#00cc96\",\"#ab63fa\",\"#FFA15A\",\"#19d3f3\",\"#FF6692\",\"#B6E880\",\"#FF97FF\",\"#FECB52\"],\"font\":{\"color\":\"#2a3f5f\"},\"geo\":{\"bgcolor\":\"white\",\"lakecolor\":\"white\",\"landcolor\":\"#E5ECF6\",\"showlakes\":true,\"showland\":true,\"subunitcolor\":\"white\"},\"hoverlabel\":{\"align\":\"left\"},\"hovermode\":\"closest\",\"mapbox\":{\"style\":\"light\"},\"paper_bgcolor\":\"white\",\"plot_bgcolor\":\"#E5ECF6\",\"polar\":{\"angularaxis\":{\"gridcolor\":\"white\",\"linecolor\":\"white\",\"ticks\":\"\"},\"bgcolor\":\"#E5ECF6\",\"radialaxis\":{\"gridcolor\":\"white\",\"linecolor\":\"white\",\"ticks\":\"\"}},\"scene\":{\"xaxis\":{\"backgroundcolor\":\"#E5ECF6\",\"gridcolor\":\"white\",\"gridwidth\":2,\"linecolor\":\"white\",\"showbackground\":true,\"ticks\":\"\",\"zerolinecolor\":\"white\"},\"yaxis\":{\"backgroundcolor\":\"#E5ECF6\",\"gridcolor\":\"white\",\"gridwidth\":2,\"linecolor\":\"white\",\"showbackground\":true,\"ticks\":\"\",\"zerolinecolor\":\"white\"},\"zaxis\":{\"backgroundcolor\":\"#E5ECF6\",\"gridcolor\":\"white\",\"gridwidth\":2,\"linecolor\":\"white\",\"showbackground\":true,\"ticks\":\"\",\"zerolinecolor\":\"white\"}},\"shapedefaults\":{\"line\":{\"color\":\"#2a3f5f\"}},\"ternary\":{\"aaxis\":{\"gridcolor\":\"white\",\"linecolor\":\"white\",\"ticks\":\"\"},\"baxis\":{\"gridcolor\":\"white\",\"linecolor\":\"white\",\"ticks\":\"\"},\"bgcolor\":\"#E5ECF6\",\"caxis\":{\"gridcolor\":\"white\",\"linecolor\":\"white\",\"ticks\":\"\"}},\"title\":{\"x\":0.05},\"xaxis\":{\"automargin\":true,\"gridcolor\":\"white\",\"linecolor\":\"white\",\"ticks\":\"\",\"title\":{\"standoff\":15},\"zerolinecolor\":\"white\",\"zerolinewidth\":2},\"yaxis\":{\"automargin\":true,\"gridcolor\":\"white\",\"linecolor\":\"white\",\"ticks\":\"\",\"title\":{\"standoff\":15},\"zerolinecolor\":\"white\",\"zerolinewidth\":2}}},\"xaxis\":{\"anchor\":\"y\",\"domain\":[0.0,1.0],\"title\":{\"text\":\"\\u0414\\u0430\\u0442\\u0430\"}},\"yaxis\":{\"anchor\":\"x\",\"domain\":[0.0,1.0],\"title\":{\"text\":\"\\u041a\\u043e\\u043b\\u0438\\u0447\\u0435\\u0441\\u0442\\u0432\\u043e \\u0441\\u043e\\u0431\\u044b\\u0442\\u0438\\u0439\"}},\"legend\":{\"title\":{\"text\":\"group\"},\"tracegroupgap\":0},\"margin\":{\"t\":60},\"barmode\":\"relative\",\"title\":{\"text\":\"\\u0420\\u0430\\u0441\\u043f\\u0440\\u0435\\u0434\\u0435\\u043b\\u0435\\u043d\\u0438\\u0435 \\u043a\\u043e\\u043b\\u0438\\u0447\\u0435\\u0441\\u0442\\u0432\\u0430 \\u0441\\u043e\\u0431\\u044b\\u0442\\u0438\\u0439 \\u043f\\u043e \\u0434\\u043d\\u044f\\u043c\"}},                        {\"responsive\": true}                    ).then(function(){\n",
       "                            \n",
       "var gd = document.getElementById('43d90b63-ca42-46d7-ab42-89eb1c5cdfbc');\n",
       "var x = new MutationObserver(function (mutations, observer) {{\n",
       "        var display = window.getComputedStyle(gd).display;\n",
       "        if (!display || display === 'none') {{\n",
       "            console.log([gd, 'removed!']);\n",
       "            Plotly.purge(gd);\n",
       "            observer.disconnect();\n",
       "        }}\n",
       "}});\n",
       "\n",
       "// Listen for the removal of the full notebook cells\n",
       "var notebookContainer = gd.closest('#notebook-container');\n",
       "if (notebookContainer) {{\n",
       "    x.observe(notebookContainer, {childList: true});\n",
       "}}\n",
       "\n",
       "// Listen for the clearing of the current output cell\n",
       "var outputEl = gd.closest('.output');\n",
       "if (outputEl) {{\n",
       "    x.observe(outputEl, {childList: true});\n",
       "}}\n",
       "\n",
       "                        })                };                });            </script>        </div>"
      ]
     },
     "metadata": {},
     "output_type": "display_data"
    }
   ],
   "source": [
    "fig = px.bar(data_cor, # загружаем данные и заново их сортируем\n",
    "             x='event_dt',# указываем столбец с данными для оси X\n",
    "             y='event_name', # указываем столбец с данными для оси Y\n",
    "             text='event_name', # добавляем аргумент, который отобразит текст с информацией\n",
    "             color='group')\n",
    "\n",
    "# оформляем график\n",
    "fig.update_layout(title='Распределение количества событий по дням',\n",
    "                   xaxis_title='Дата',\n",
    "                   yaxis_title='Количество событий')\n",
    "fig.show() # выводим график"
   ]
  },
  {
   "cell_type": "markdown",
   "metadata": {},
   "source": [
    "Больше всего событий было совершено 21 декабря."
   ]
  },
  {
   "cell_type": "markdown",
   "metadata": {},
   "source": [
    "Посмотрим, какие события есть в логах, как часто они встречаются. Отсортируем события по частоте."
   ]
  },
  {
   "cell_type": "code",
   "execution_count": 131,
   "metadata": {},
   "outputs": [
    {
     "data": {
      "text/html": [
       "<div>\n",
       "<style scoped>\n",
       "    .dataframe tbody tr th:only-of-type {\n",
       "        vertical-align: middle;\n",
       "    }\n",
       "\n",
       "    .dataframe tbody tr th {\n",
       "        vertical-align: top;\n",
       "    }\n",
       "\n",
       "    .dataframe thead th {\n",
       "        text-align: right;\n",
       "    }\n",
       "</style>\n",
       "<table border=\"1\" class=\"dataframe\">\n",
       "  <thead>\n",
       "    <tr style=\"text-align: right;\">\n",
       "      <th></th>\n",
       "      <th>event_name</th>\n",
       "      <th>group</th>\n",
       "      <th>user_id</th>\n",
       "    </tr>\n",
       "  </thead>\n",
       "  <tbody>\n",
       "    <tr>\n",
       "      <th>0</th>\n",
       "      <td>login</td>\n",
       "      <td>A</td>\n",
       "      <td>2604</td>\n",
       "    </tr>\n",
       "    <tr>\n",
       "      <th>1</th>\n",
       "      <td>login</td>\n",
       "      <td>B</td>\n",
       "      <td>877</td>\n",
       "    </tr>\n",
       "    <tr>\n",
       "      <th>2</th>\n",
       "      <td>product_cart</td>\n",
       "      <td>A</td>\n",
       "      <td>782</td>\n",
       "    </tr>\n",
       "    <tr>\n",
       "      <th>3</th>\n",
       "      <td>product_cart</td>\n",
       "      <td>B</td>\n",
       "      <td>244</td>\n",
       "    </tr>\n",
       "    <tr>\n",
       "      <th>4</th>\n",
       "      <td>product_page</td>\n",
       "      <td>A</td>\n",
       "      <td>1685</td>\n",
       "    </tr>\n",
       "    <tr>\n",
       "      <th>5</th>\n",
       "      <td>product_page</td>\n",
       "      <td>B</td>\n",
       "      <td>493</td>\n",
       "    </tr>\n",
       "    <tr>\n",
       "      <th>6</th>\n",
       "      <td>purchase</td>\n",
       "      <td>A</td>\n",
       "      <td>833</td>\n",
       "    </tr>\n",
       "    <tr>\n",
       "      <th>7</th>\n",
       "      <td>purchase</td>\n",
       "      <td>B</td>\n",
       "      <td>249</td>\n",
       "    </tr>\n",
       "  </tbody>\n",
       "</table>\n",
       "</div>"
      ],
      "text/plain": [
       "     event_name group  user_id\n",
       "0         login     A     2604\n",
       "1         login     B      877\n",
       "2  product_cart     A      782\n",
       "3  product_cart     B      244\n",
       "4  product_page     A     1685\n",
       "5  product_page     B      493\n",
       "6      purchase     A      833\n",
       "7      purchase     B      249"
      ]
     },
     "execution_count": 131,
     "metadata": {},
     "output_type": "execute_result"
    }
   ],
   "source": [
    "data_b = ab_test.pivot_table(index=['event_name','group'], values='user_id',aggfunc = {'user_id':'nunique'}).reset_index()\n",
    "data_b"
   ]
  },
  {
   "cell_type": "code",
   "execution_count": 132,
   "metadata": {},
   "outputs": [
    {
     "data": {
      "application/vnd.plotly.v1+json": {
       "config": {
        "plotlyServerURL": "https://plot.ly"
       },
       "data": [
        {
         "alignmentgroup": "True",
         "hovertemplate": "group=A<br>event_name=%{x}<br>user_id=%{text}<extra></extra>",
         "legendgroup": "A",
         "marker": {
          "color": "#636efa",
          "pattern": {
           "shape": ""
          }
         },
         "name": "A",
         "offsetgroup": "A",
         "orientation": "v",
         "showlegend": true,
         "text": [
          2604,
          1685,
          833,
          782
         ],
         "textposition": "auto",
         "type": "bar",
         "x": [
          "login",
          "product_page",
          "purchase",
          "product_cart"
         ],
         "xaxis": "x",
         "y": [
          2604,
          1685,
          833,
          782
         ],
         "yaxis": "y"
        },
        {
         "alignmentgroup": "True",
         "hovertemplate": "group=B<br>event_name=%{x}<br>user_id=%{text}<extra></extra>",
         "legendgroup": "B",
         "marker": {
          "color": "#EF553B",
          "pattern": {
           "shape": ""
          }
         },
         "name": "B",
         "offsetgroup": "B",
         "orientation": "v",
         "showlegend": true,
         "text": [
          877,
          493,
          249,
          244
         ],
         "textposition": "auto",
         "type": "bar",
         "x": [
          "login",
          "product_page",
          "purchase",
          "product_cart"
         ],
         "xaxis": "x",
         "y": [
          877,
          493,
          249,
          244
         ],
         "yaxis": "y"
        }
       ],
       "layout": {
        "barmode": "relative",
        "legend": {
         "title": {
          "text": "group"
         },
         "tracegroupgap": 0
        },
        "margin": {
         "t": 60
        },
        "template": {
         "data": {
          "bar": [
           {
            "error_x": {
             "color": "#2a3f5f"
            },
            "error_y": {
             "color": "#2a3f5f"
            },
            "marker": {
             "line": {
              "color": "#E5ECF6",
              "width": 0.5
             },
             "pattern": {
              "fillmode": "overlay",
              "size": 10,
              "solidity": 0.2
             }
            },
            "type": "bar"
           }
          ],
          "barpolar": [
           {
            "marker": {
             "line": {
              "color": "#E5ECF6",
              "width": 0.5
             },
             "pattern": {
              "fillmode": "overlay",
              "size": 10,
              "solidity": 0.2
             }
            },
            "type": "barpolar"
           }
          ],
          "carpet": [
           {
            "aaxis": {
             "endlinecolor": "#2a3f5f",
             "gridcolor": "white",
             "linecolor": "white",
             "minorgridcolor": "white",
             "startlinecolor": "#2a3f5f"
            },
            "baxis": {
             "endlinecolor": "#2a3f5f",
             "gridcolor": "white",
             "linecolor": "white",
             "minorgridcolor": "white",
             "startlinecolor": "#2a3f5f"
            },
            "type": "carpet"
           }
          ],
          "choropleth": [
           {
            "colorbar": {
             "outlinewidth": 0,
             "ticks": ""
            },
            "type": "choropleth"
           }
          ],
          "contour": [
           {
            "colorbar": {
             "outlinewidth": 0,
             "ticks": ""
            },
            "colorscale": [
             [
              0,
              "#0d0887"
             ],
             [
              0.1111111111111111,
              "#46039f"
             ],
             [
              0.2222222222222222,
              "#7201a8"
             ],
             [
              0.3333333333333333,
              "#9c179e"
             ],
             [
              0.4444444444444444,
              "#bd3786"
             ],
             [
              0.5555555555555556,
              "#d8576b"
             ],
             [
              0.6666666666666666,
              "#ed7953"
             ],
             [
              0.7777777777777778,
              "#fb9f3a"
             ],
             [
              0.8888888888888888,
              "#fdca26"
             ],
             [
              1,
              "#f0f921"
             ]
            ],
            "type": "contour"
           }
          ],
          "contourcarpet": [
           {
            "colorbar": {
             "outlinewidth": 0,
             "ticks": ""
            },
            "type": "contourcarpet"
           }
          ],
          "heatmap": [
           {
            "colorbar": {
             "outlinewidth": 0,
             "ticks": ""
            },
            "colorscale": [
             [
              0,
              "#0d0887"
             ],
             [
              0.1111111111111111,
              "#46039f"
             ],
             [
              0.2222222222222222,
              "#7201a8"
             ],
             [
              0.3333333333333333,
              "#9c179e"
             ],
             [
              0.4444444444444444,
              "#bd3786"
             ],
             [
              0.5555555555555556,
              "#d8576b"
             ],
             [
              0.6666666666666666,
              "#ed7953"
             ],
             [
              0.7777777777777778,
              "#fb9f3a"
             ],
             [
              0.8888888888888888,
              "#fdca26"
             ],
             [
              1,
              "#f0f921"
             ]
            ],
            "type": "heatmap"
           }
          ],
          "heatmapgl": [
           {
            "colorbar": {
             "outlinewidth": 0,
             "ticks": ""
            },
            "colorscale": [
             [
              0,
              "#0d0887"
             ],
             [
              0.1111111111111111,
              "#46039f"
             ],
             [
              0.2222222222222222,
              "#7201a8"
             ],
             [
              0.3333333333333333,
              "#9c179e"
             ],
             [
              0.4444444444444444,
              "#bd3786"
             ],
             [
              0.5555555555555556,
              "#d8576b"
             ],
             [
              0.6666666666666666,
              "#ed7953"
             ],
             [
              0.7777777777777778,
              "#fb9f3a"
             ],
             [
              0.8888888888888888,
              "#fdca26"
             ],
             [
              1,
              "#f0f921"
             ]
            ],
            "type": "heatmapgl"
           }
          ],
          "histogram": [
           {
            "marker": {
             "pattern": {
              "fillmode": "overlay",
              "size": 10,
              "solidity": 0.2
             }
            },
            "type": "histogram"
           }
          ],
          "histogram2d": [
           {
            "colorbar": {
             "outlinewidth": 0,
             "ticks": ""
            },
            "colorscale": [
             [
              0,
              "#0d0887"
             ],
             [
              0.1111111111111111,
              "#46039f"
             ],
             [
              0.2222222222222222,
              "#7201a8"
             ],
             [
              0.3333333333333333,
              "#9c179e"
             ],
             [
              0.4444444444444444,
              "#bd3786"
             ],
             [
              0.5555555555555556,
              "#d8576b"
             ],
             [
              0.6666666666666666,
              "#ed7953"
             ],
             [
              0.7777777777777778,
              "#fb9f3a"
             ],
             [
              0.8888888888888888,
              "#fdca26"
             ],
             [
              1,
              "#f0f921"
             ]
            ],
            "type": "histogram2d"
           }
          ],
          "histogram2dcontour": [
           {
            "colorbar": {
             "outlinewidth": 0,
             "ticks": ""
            },
            "colorscale": [
             [
              0,
              "#0d0887"
             ],
             [
              0.1111111111111111,
              "#46039f"
             ],
             [
              0.2222222222222222,
              "#7201a8"
             ],
             [
              0.3333333333333333,
              "#9c179e"
             ],
             [
              0.4444444444444444,
              "#bd3786"
             ],
             [
              0.5555555555555556,
              "#d8576b"
             ],
             [
              0.6666666666666666,
              "#ed7953"
             ],
             [
              0.7777777777777778,
              "#fb9f3a"
             ],
             [
              0.8888888888888888,
              "#fdca26"
             ],
             [
              1,
              "#f0f921"
             ]
            ],
            "type": "histogram2dcontour"
           }
          ],
          "mesh3d": [
           {
            "colorbar": {
             "outlinewidth": 0,
             "ticks": ""
            },
            "type": "mesh3d"
           }
          ],
          "parcoords": [
           {
            "line": {
             "colorbar": {
              "outlinewidth": 0,
              "ticks": ""
             }
            },
            "type": "parcoords"
           }
          ],
          "pie": [
           {
            "automargin": true,
            "type": "pie"
           }
          ],
          "scatter": [
           {
            "marker": {
             "colorbar": {
              "outlinewidth": 0,
              "ticks": ""
             }
            },
            "type": "scatter"
           }
          ],
          "scatter3d": [
           {
            "line": {
             "colorbar": {
              "outlinewidth": 0,
              "ticks": ""
             }
            },
            "marker": {
             "colorbar": {
              "outlinewidth": 0,
              "ticks": ""
             }
            },
            "type": "scatter3d"
           }
          ],
          "scattercarpet": [
           {
            "marker": {
             "colorbar": {
              "outlinewidth": 0,
              "ticks": ""
             }
            },
            "type": "scattercarpet"
           }
          ],
          "scattergeo": [
           {
            "marker": {
             "colorbar": {
              "outlinewidth": 0,
              "ticks": ""
             }
            },
            "type": "scattergeo"
           }
          ],
          "scattergl": [
           {
            "marker": {
             "colorbar": {
              "outlinewidth": 0,
              "ticks": ""
             }
            },
            "type": "scattergl"
           }
          ],
          "scattermapbox": [
           {
            "marker": {
             "colorbar": {
              "outlinewidth": 0,
              "ticks": ""
             }
            },
            "type": "scattermapbox"
           }
          ],
          "scatterpolar": [
           {
            "marker": {
             "colorbar": {
              "outlinewidth": 0,
              "ticks": ""
             }
            },
            "type": "scatterpolar"
           }
          ],
          "scatterpolargl": [
           {
            "marker": {
             "colorbar": {
              "outlinewidth": 0,
              "ticks": ""
             }
            },
            "type": "scatterpolargl"
           }
          ],
          "scatterternary": [
           {
            "marker": {
             "colorbar": {
              "outlinewidth": 0,
              "ticks": ""
             }
            },
            "type": "scatterternary"
           }
          ],
          "surface": [
           {
            "colorbar": {
             "outlinewidth": 0,
             "ticks": ""
            },
            "colorscale": [
             [
              0,
              "#0d0887"
             ],
             [
              0.1111111111111111,
              "#46039f"
             ],
             [
              0.2222222222222222,
              "#7201a8"
             ],
             [
              0.3333333333333333,
              "#9c179e"
             ],
             [
              0.4444444444444444,
              "#bd3786"
             ],
             [
              0.5555555555555556,
              "#d8576b"
             ],
             [
              0.6666666666666666,
              "#ed7953"
             ],
             [
              0.7777777777777778,
              "#fb9f3a"
             ],
             [
              0.8888888888888888,
              "#fdca26"
             ],
             [
              1,
              "#f0f921"
             ]
            ],
            "type": "surface"
           }
          ],
          "table": [
           {
            "cells": {
             "fill": {
              "color": "#EBF0F8"
             },
             "line": {
              "color": "white"
             }
            },
            "header": {
             "fill": {
              "color": "#C8D4E3"
             },
             "line": {
              "color": "white"
             }
            },
            "type": "table"
           }
          ]
         },
         "layout": {
          "annotationdefaults": {
           "arrowcolor": "#2a3f5f",
           "arrowhead": 0,
           "arrowwidth": 1
          },
          "autotypenumbers": "strict",
          "coloraxis": {
           "colorbar": {
            "outlinewidth": 0,
            "ticks": ""
           }
          },
          "colorscale": {
           "diverging": [
            [
             0,
             "#8e0152"
            ],
            [
             0.1,
             "#c51b7d"
            ],
            [
             0.2,
             "#de77ae"
            ],
            [
             0.3,
             "#f1b6da"
            ],
            [
             0.4,
             "#fde0ef"
            ],
            [
             0.5,
             "#f7f7f7"
            ],
            [
             0.6,
             "#e6f5d0"
            ],
            [
             0.7,
             "#b8e186"
            ],
            [
             0.8,
             "#7fbc41"
            ],
            [
             0.9,
             "#4d9221"
            ],
            [
             1,
             "#276419"
            ]
           ],
           "sequential": [
            [
             0,
             "#0d0887"
            ],
            [
             0.1111111111111111,
             "#46039f"
            ],
            [
             0.2222222222222222,
             "#7201a8"
            ],
            [
             0.3333333333333333,
             "#9c179e"
            ],
            [
             0.4444444444444444,
             "#bd3786"
            ],
            [
             0.5555555555555556,
             "#d8576b"
            ],
            [
             0.6666666666666666,
             "#ed7953"
            ],
            [
             0.7777777777777778,
             "#fb9f3a"
            ],
            [
             0.8888888888888888,
             "#fdca26"
            ],
            [
             1,
             "#f0f921"
            ]
           ],
           "sequentialminus": [
            [
             0,
             "#0d0887"
            ],
            [
             0.1111111111111111,
             "#46039f"
            ],
            [
             0.2222222222222222,
             "#7201a8"
            ],
            [
             0.3333333333333333,
             "#9c179e"
            ],
            [
             0.4444444444444444,
             "#bd3786"
            ],
            [
             0.5555555555555556,
             "#d8576b"
            ],
            [
             0.6666666666666666,
             "#ed7953"
            ],
            [
             0.7777777777777778,
             "#fb9f3a"
            ],
            [
             0.8888888888888888,
             "#fdca26"
            ],
            [
             1,
             "#f0f921"
            ]
           ]
          },
          "colorway": [
           "#636efa",
           "#EF553B",
           "#00cc96",
           "#ab63fa",
           "#FFA15A",
           "#19d3f3",
           "#FF6692",
           "#B6E880",
           "#FF97FF",
           "#FECB52"
          ],
          "font": {
           "color": "#2a3f5f"
          },
          "geo": {
           "bgcolor": "white",
           "lakecolor": "white",
           "landcolor": "#E5ECF6",
           "showlakes": true,
           "showland": true,
           "subunitcolor": "white"
          },
          "hoverlabel": {
           "align": "left"
          },
          "hovermode": "closest",
          "mapbox": {
           "style": "light"
          },
          "paper_bgcolor": "white",
          "plot_bgcolor": "#E5ECF6",
          "polar": {
           "angularaxis": {
            "gridcolor": "white",
            "linecolor": "white",
            "ticks": ""
           },
           "bgcolor": "#E5ECF6",
           "radialaxis": {
            "gridcolor": "white",
            "linecolor": "white",
            "ticks": ""
           }
          },
          "scene": {
           "xaxis": {
            "backgroundcolor": "#E5ECF6",
            "gridcolor": "white",
            "gridwidth": 2,
            "linecolor": "white",
            "showbackground": true,
            "ticks": "",
            "zerolinecolor": "white"
           },
           "yaxis": {
            "backgroundcolor": "#E5ECF6",
            "gridcolor": "white",
            "gridwidth": 2,
            "linecolor": "white",
            "showbackground": true,
            "ticks": "",
            "zerolinecolor": "white"
           },
           "zaxis": {
            "backgroundcolor": "#E5ECF6",
            "gridcolor": "white",
            "gridwidth": 2,
            "linecolor": "white",
            "showbackground": true,
            "ticks": "",
            "zerolinecolor": "white"
           }
          },
          "shapedefaults": {
           "line": {
            "color": "#2a3f5f"
           }
          },
          "ternary": {
           "aaxis": {
            "gridcolor": "white",
            "linecolor": "white",
            "ticks": ""
           },
           "baxis": {
            "gridcolor": "white",
            "linecolor": "white",
            "ticks": ""
           },
           "bgcolor": "#E5ECF6",
           "caxis": {
            "gridcolor": "white",
            "linecolor": "white",
            "ticks": ""
           }
          },
          "title": {
           "x": 0.05
          },
          "xaxis": {
           "automargin": true,
           "gridcolor": "white",
           "linecolor": "white",
           "ticks": "",
           "title": {
            "standoff": 15
           },
           "zerolinecolor": "white",
           "zerolinewidth": 2
          },
          "yaxis": {
           "automargin": true,
           "gridcolor": "white",
           "linecolor": "white",
           "ticks": "",
           "title": {
            "standoff": 15
           },
           "zerolinecolor": "white",
           "zerolinewidth": 2
          }
         }
        },
        "title": {
         "text": "Распределение количества событий по дням"
        },
        "xaxis": {
         "anchor": "y",
         "domain": [
          0,
          1
         ],
         "title": {
          "text": "Дата"
         }
        },
        "yaxis": {
         "anchor": "x",
         "domain": [
          0,
          1
         ],
         "title": {
          "text": "Количество событий"
         }
        }
       }
      },
      "text/html": [
       "<div>                            <div id=\"a67282cc-9c98-494f-853a-0970c377325b\" class=\"plotly-graph-div\" style=\"height:525px; width:100%;\"></div>            <script type=\"text/javascript\">                require([\"plotly\"], function(Plotly) {                    window.PLOTLYENV=window.PLOTLYENV || {};                                    if (document.getElementById(\"a67282cc-9c98-494f-853a-0970c377325b\")) {                    Plotly.newPlot(                        \"a67282cc-9c98-494f-853a-0970c377325b\",                        [{\"alignmentgroup\":\"True\",\"hovertemplate\":\"group=A<br>event_name=%{x}<br>user_id=%{text}<extra></extra>\",\"legendgroup\":\"A\",\"marker\":{\"color\":\"#636efa\",\"pattern\":{\"shape\":\"\"}},\"name\":\"A\",\"offsetgroup\":\"A\",\"orientation\":\"v\",\"showlegend\":true,\"text\":[2604.0,1685.0,833.0,782.0],\"textposition\":\"auto\",\"x\":[\"login\",\"product_page\",\"purchase\",\"product_cart\"],\"xaxis\":\"x\",\"y\":[2604,1685,833,782],\"yaxis\":\"y\",\"type\":\"bar\"},{\"alignmentgroup\":\"True\",\"hovertemplate\":\"group=B<br>event_name=%{x}<br>user_id=%{text}<extra></extra>\",\"legendgroup\":\"B\",\"marker\":{\"color\":\"#EF553B\",\"pattern\":{\"shape\":\"\"}},\"name\":\"B\",\"offsetgroup\":\"B\",\"orientation\":\"v\",\"showlegend\":true,\"text\":[877.0,493.0,249.0,244.0],\"textposition\":\"auto\",\"x\":[\"login\",\"product_page\",\"purchase\",\"product_cart\"],\"xaxis\":\"x\",\"y\":[877,493,249,244],\"yaxis\":\"y\",\"type\":\"bar\"}],                        {\"template\":{\"data\":{\"bar\":[{\"error_x\":{\"color\":\"#2a3f5f\"},\"error_y\":{\"color\":\"#2a3f5f\"},\"marker\":{\"line\":{\"color\":\"#E5ECF6\",\"width\":0.5},\"pattern\":{\"fillmode\":\"overlay\",\"size\":10,\"solidity\":0.2}},\"type\":\"bar\"}],\"barpolar\":[{\"marker\":{\"line\":{\"color\":\"#E5ECF6\",\"width\":0.5},\"pattern\":{\"fillmode\":\"overlay\",\"size\":10,\"solidity\":0.2}},\"type\":\"barpolar\"}],\"carpet\":[{\"aaxis\":{\"endlinecolor\":\"#2a3f5f\",\"gridcolor\":\"white\",\"linecolor\":\"white\",\"minorgridcolor\":\"white\",\"startlinecolor\":\"#2a3f5f\"},\"baxis\":{\"endlinecolor\":\"#2a3f5f\",\"gridcolor\":\"white\",\"linecolor\":\"white\",\"minorgridcolor\":\"white\",\"startlinecolor\":\"#2a3f5f\"},\"type\":\"carpet\"}],\"choropleth\":[{\"colorbar\":{\"outlinewidth\":0,\"ticks\":\"\"},\"type\":\"choropleth\"}],\"contour\":[{\"colorbar\":{\"outlinewidth\":0,\"ticks\":\"\"},\"colorscale\":[[0.0,\"#0d0887\"],[0.1111111111111111,\"#46039f\"],[0.2222222222222222,\"#7201a8\"],[0.3333333333333333,\"#9c179e\"],[0.4444444444444444,\"#bd3786\"],[0.5555555555555556,\"#d8576b\"],[0.6666666666666666,\"#ed7953\"],[0.7777777777777778,\"#fb9f3a\"],[0.8888888888888888,\"#fdca26\"],[1.0,\"#f0f921\"]],\"type\":\"contour\"}],\"contourcarpet\":[{\"colorbar\":{\"outlinewidth\":0,\"ticks\":\"\"},\"type\":\"contourcarpet\"}],\"heatmap\":[{\"colorbar\":{\"outlinewidth\":0,\"ticks\":\"\"},\"colorscale\":[[0.0,\"#0d0887\"],[0.1111111111111111,\"#46039f\"],[0.2222222222222222,\"#7201a8\"],[0.3333333333333333,\"#9c179e\"],[0.4444444444444444,\"#bd3786\"],[0.5555555555555556,\"#d8576b\"],[0.6666666666666666,\"#ed7953\"],[0.7777777777777778,\"#fb9f3a\"],[0.8888888888888888,\"#fdca26\"],[1.0,\"#f0f921\"]],\"type\":\"heatmap\"}],\"heatmapgl\":[{\"colorbar\":{\"outlinewidth\":0,\"ticks\":\"\"},\"colorscale\":[[0.0,\"#0d0887\"],[0.1111111111111111,\"#46039f\"],[0.2222222222222222,\"#7201a8\"],[0.3333333333333333,\"#9c179e\"],[0.4444444444444444,\"#bd3786\"],[0.5555555555555556,\"#d8576b\"],[0.6666666666666666,\"#ed7953\"],[0.7777777777777778,\"#fb9f3a\"],[0.8888888888888888,\"#fdca26\"],[1.0,\"#f0f921\"]],\"type\":\"heatmapgl\"}],\"histogram\":[{\"marker\":{\"pattern\":{\"fillmode\":\"overlay\",\"size\":10,\"solidity\":0.2}},\"type\":\"histogram\"}],\"histogram2d\":[{\"colorbar\":{\"outlinewidth\":0,\"ticks\":\"\"},\"colorscale\":[[0.0,\"#0d0887\"],[0.1111111111111111,\"#46039f\"],[0.2222222222222222,\"#7201a8\"],[0.3333333333333333,\"#9c179e\"],[0.4444444444444444,\"#bd3786\"],[0.5555555555555556,\"#d8576b\"],[0.6666666666666666,\"#ed7953\"],[0.7777777777777778,\"#fb9f3a\"],[0.8888888888888888,\"#fdca26\"],[1.0,\"#f0f921\"]],\"type\":\"histogram2d\"}],\"histogram2dcontour\":[{\"colorbar\":{\"outlinewidth\":0,\"ticks\":\"\"},\"colorscale\":[[0.0,\"#0d0887\"],[0.1111111111111111,\"#46039f\"],[0.2222222222222222,\"#7201a8\"],[0.3333333333333333,\"#9c179e\"],[0.4444444444444444,\"#bd3786\"],[0.5555555555555556,\"#d8576b\"],[0.6666666666666666,\"#ed7953\"],[0.7777777777777778,\"#fb9f3a\"],[0.8888888888888888,\"#fdca26\"],[1.0,\"#f0f921\"]],\"type\":\"histogram2dcontour\"}],\"mesh3d\":[{\"colorbar\":{\"outlinewidth\":0,\"ticks\":\"\"},\"type\":\"mesh3d\"}],\"parcoords\":[{\"line\":{\"colorbar\":{\"outlinewidth\":0,\"ticks\":\"\"}},\"type\":\"parcoords\"}],\"pie\":[{\"automargin\":true,\"type\":\"pie\"}],\"scatter\":[{\"marker\":{\"colorbar\":{\"outlinewidth\":0,\"ticks\":\"\"}},\"type\":\"scatter\"}],\"scatter3d\":[{\"line\":{\"colorbar\":{\"outlinewidth\":0,\"ticks\":\"\"}},\"marker\":{\"colorbar\":{\"outlinewidth\":0,\"ticks\":\"\"}},\"type\":\"scatter3d\"}],\"scattercarpet\":[{\"marker\":{\"colorbar\":{\"outlinewidth\":0,\"ticks\":\"\"}},\"type\":\"scattercarpet\"}],\"scattergeo\":[{\"marker\":{\"colorbar\":{\"outlinewidth\":0,\"ticks\":\"\"}},\"type\":\"scattergeo\"}],\"scattergl\":[{\"marker\":{\"colorbar\":{\"outlinewidth\":0,\"ticks\":\"\"}},\"type\":\"scattergl\"}],\"scattermapbox\":[{\"marker\":{\"colorbar\":{\"outlinewidth\":0,\"ticks\":\"\"}},\"type\":\"scattermapbox\"}],\"scatterpolar\":[{\"marker\":{\"colorbar\":{\"outlinewidth\":0,\"ticks\":\"\"}},\"type\":\"scatterpolar\"}],\"scatterpolargl\":[{\"marker\":{\"colorbar\":{\"outlinewidth\":0,\"ticks\":\"\"}},\"type\":\"scatterpolargl\"}],\"scatterternary\":[{\"marker\":{\"colorbar\":{\"outlinewidth\":0,\"ticks\":\"\"}},\"type\":\"scatterternary\"}],\"surface\":[{\"colorbar\":{\"outlinewidth\":0,\"ticks\":\"\"},\"colorscale\":[[0.0,\"#0d0887\"],[0.1111111111111111,\"#46039f\"],[0.2222222222222222,\"#7201a8\"],[0.3333333333333333,\"#9c179e\"],[0.4444444444444444,\"#bd3786\"],[0.5555555555555556,\"#d8576b\"],[0.6666666666666666,\"#ed7953\"],[0.7777777777777778,\"#fb9f3a\"],[0.8888888888888888,\"#fdca26\"],[1.0,\"#f0f921\"]],\"type\":\"surface\"}],\"table\":[{\"cells\":{\"fill\":{\"color\":\"#EBF0F8\"},\"line\":{\"color\":\"white\"}},\"header\":{\"fill\":{\"color\":\"#C8D4E3\"},\"line\":{\"color\":\"white\"}},\"type\":\"table\"}]},\"layout\":{\"annotationdefaults\":{\"arrowcolor\":\"#2a3f5f\",\"arrowhead\":0,\"arrowwidth\":1},\"autotypenumbers\":\"strict\",\"coloraxis\":{\"colorbar\":{\"outlinewidth\":0,\"ticks\":\"\"}},\"colorscale\":{\"diverging\":[[0,\"#8e0152\"],[0.1,\"#c51b7d\"],[0.2,\"#de77ae\"],[0.3,\"#f1b6da\"],[0.4,\"#fde0ef\"],[0.5,\"#f7f7f7\"],[0.6,\"#e6f5d0\"],[0.7,\"#b8e186\"],[0.8,\"#7fbc41\"],[0.9,\"#4d9221\"],[1,\"#276419\"]],\"sequential\":[[0.0,\"#0d0887\"],[0.1111111111111111,\"#46039f\"],[0.2222222222222222,\"#7201a8\"],[0.3333333333333333,\"#9c179e\"],[0.4444444444444444,\"#bd3786\"],[0.5555555555555556,\"#d8576b\"],[0.6666666666666666,\"#ed7953\"],[0.7777777777777778,\"#fb9f3a\"],[0.8888888888888888,\"#fdca26\"],[1.0,\"#f0f921\"]],\"sequentialminus\":[[0.0,\"#0d0887\"],[0.1111111111111111,\"#46039f\"],[0.2222222222222222,\"#7201a8\"],[0.3333333333333333,\"#9c179e\"],[0.4444444444444444,\"#bd3786\"],[0.5555555555555556,\"#d8576b\"],[0.6666666666666666,\"#ed7953\"],[0.7777777777777778,\"#fb9f3a\"],[0.8888888888888888,\"#fdca26\"],[1.0,\"#f0f921\"]]},\"colorway\":[\"#636efa\",\"#EF553B\",\"#00cc96\",\"#ab63fa\",\"#FFA15A\",\"#19d3f3\",\"#FF6692\",\"#B6E880\",\"#FF97FF\",\"#FECB52\"],\"font\":{\"color\":\"#2a3f5f\"},\"geo\":{\"bgcolor\":\"white\",\"lakecolor\":\"white\",\"landcolor\":\"#E5ECF6\",\"showlakes\":true,\"showland\":true,\"subunitcolor\":\"white\"},\"hoverlabel\":{\"align\":\"left\"},\"hovermode\":\"closest\",\"mapbox\":{\"style\":\"light\"},\"paper_bgcolor\":\"white\",\"plot_bgcolor\":\"#E5ECF6\",\"polar\":{\"angularaxis\":{\"gridcolor\":\"white\",\"linecolor\":\"white\",\"ticks\":\"\"},\"bgcolor\":\"#E5ECF6\",\"radialaxis\":{\"gridcolor\":\"white\",\"linecolor\":\"white\",\"ticks\":\"\"}},\"scene\":{\"xaxis\":{\"backgroundcolor\":\"#E5ECF6\",\"gridcolor\":\"white\",\"gridwidth\":2,\"linecolor\":\"white\",\"showbackground\":true,\"ticks\":\"\",\"zerolinecolor\":\"white\"},\"yaxis\":{\"backgroundcolor\":\"#E5ECF6\",\"gridcolor\":\"white\",\"gridwidth\":2,\"linecolor\":\"white\",\"showbackground\":true,\"ticks\":\"\",\"zerolinecolor\":\"white\"},\"zaxis\":{\"backgroundcolor\":\"#E5ECF6\",\"gridcolor\":\"white\",\"gridwidth\":2,\"linecolor\":\"white\",\"showbackground\":true,\"ticks\":\"\",\"zerolinecolor\":\"white\"}},\"shapedefaults\":{\"line\":{\"color\":\"#2a3f5f\"}},\"ternary\":{\"aaxis\":{\"gridcolor\":\"white\",\"linecolor\":\"white\",\"ticks\":\"\"},\"baxis\":{\"gridcolor\":\"white\",\"linecolor\":\"white\",\"ticks\":\"\"},\"bgcolor\":\"#E5ECF6\",\"caxis\":{\"gridcolor\":\"white\",\"linecolor\":\"white\",\"ticks\":\"\"}},\"title\":{\"x\":0.05},\"xaxis\":{\"automargin\":true,\"gridcolor\":\"white\",\"linecolor\":\"white\",\"ticks\":\"\",\"title\":{\"standoff\":15},\"zerolinecolor\":\"white\",\"zerolinewidth\":2},\"yaxis\":{\"automargin\":true,\"gridcolor\":\"white\",\"linecolor\":\"white\",\"ticks\":\"\",\"title\":{\"standoff\":15},\"zerolinecolor\":\"white\",\"zerolinewidth\":2}}},\"xaxis\":{\"anchor\":\"y\",\"domain\":[0.0,1.0],\"title\":{\"text\":\"\\u0414\\u0430\\u0442\\u0430\"}},\"yaxis\":{\"anchor\":\"x\",\"domain\":[0.0,1.0],\"title\":{\"text\":\"\\u041a\\u043e\\u043b\\u0438\\u0447\\u0435\\u0441\\u0442\\u0432\\u043e \\u0441\\u043e\\u0431\\u044b\\u0442\\u0438\\u0439\"}},\"legend\":{\"title\":{\"text\":\"group\"},\"tracegroupgap\":0},\"margin\":{\"t\":60},\"barmode\":\"relative\",\"title\":{\"text\":\"\\u0420\\u0430\\u0441\\u043f\\u0440\\u0435\\u0434\\u0435\\u043b\\u0435\\u043d\\u0438\\u0435 \\u043a\\u043e\\u043b\\u0438\\u0447\\u0435\\u0441\\u0442\\u0432\\u0430 \\u0441\\u043e\\u0431\\u044b\\u0442\\u0438\\u0439 \\u043f\\u043e \\u0434\\u043d\\u044f\\u043c\"}},                        {\"responsive\": true}                    ).then(function(){\n",
       "                            \n",
       "var gd = document.getElementById('a67282cc-9c98-494f-853a-0970c377325b');\n",
       "var x = new MutationObserver(function (mutations, observer) {{\n",
       "        var display = window.getComputedStyle(gd).display;\n",
       "        if (!display || display === 'none') {{\n",
       "            console.log([gd, 'removed!']);\n",
       "            Plotly.purge(gd);\n",
       "            observer.disconnect();\n",
       "        }}\n",
       "}});\n",
       "\n",
       "// Listen for the removal of the full notebook cells\n",
       "var notebookContainer = gd.closest('#notebook-container');\n",
       "if (notebookContainer) {{\n",
       "    x.observe(notebookContainer, {childList: true});\n",
       "}}\n",
       "\n",
       "// Listen for the clearing of the current output cell\n",
       "var outputEl = gd.closest('.output');\n",
       "if (outputEl) {{\n",
       "    x.observe(outputEl, {childList: true});\n",
       "}}\n",
       "\n",
       "                        })                };                });            </script>        </div>"
      ]
     },
     "metadata": {},
     "output_type": "display_data"
    }
   ],
   "source": [
    "\n",
    "\n",
    "\n",
    "fig = px.bar(data_b.sort_values(by='user_id', ascending=False), # загружаем данные и заново их сортируем\n",
    "             x='event_name',# указываем столбец с данными для оси X\n",
    "             y='user_id', # указываем столбец с данными для оси Y\n",
    "             text='user_id', # добавляем аргумент, который отобразит текст с информацией\n",
    "             color='group')\n",
    "# оформляем график\n",
    "fig.update_layout(title='Распределение количества событий по дням',\n",
    "                   xaxis_title='Дата',\n",
    "                   yaxis_title='Количество событий')\n",
    "fig.show() # выводим график"
   ]
  },
  {
   "cell_type": "markdown",
   "metadata": {},
   "source": [
    "Чаще всего встречается событие login, самое редкое событие product_cart.\n",
    "Не получается логическая цепочка событий: Регистрация-карточки товаров-корзина-оплата.\n",
    "Событий у группы А больше, чем у В."
   ]
  },
  {
   "cell_type": "markdown",
   "metadata": {},
   "source": [
    "Посмотрим как меняется конверсия в воронке в выборках на разных этапах?"
   ]
  },
  {
   "cell_type": "code",
   "execution_count": 133,
   "metadata": {},
   "outputs": [
    {
     "data": {
      "application/vnd.plotly.v1+json": {
       "config": {
        "plotlyServerURL": "https://plot.ly"
       },
       "data": [
        {
         "opacity": 0.65,
         "textinfo": "value+percent initial",
         "textposition": "inside",
         "type": "funnel",
         "x": [
          2604,
          1685,
          782,
          833
         ],
         "y": [
          "login",
          "product_page",
          "Product_cart",
          "purchase"
         ]
        }
       ],
       "layout": {
        "template": {
         "data": {
          "bar": [
           {
            "error_x": {
             "color": "#2a3f5f"
            },
            "error_y": {
             "color": "#2a3f5f"
            },
            "marker": {
             "line": {
              "color": "#E5ECF6",
              "width": 0.5
             },
             "pattern": {
              "fillmode": "overlay",
              "size": 10,
              "solidity": 0.2
             }
            },
            "type": "bar"
           }
          ],
          "barpolar": [
           {
            "marker": {
             "line": {
              "color": "#E5ECF6",
              "width": 0.5
             },
             "pattern": {
              "fillmode": "overlay",
              "size": 10,
              "solidity": 0.2
             }
            },
            "type": "barpolar"
           }
          ],
          "carpet": [
           {
            "aaxis": {
             "endlinecolor": "#2a3f5f",
             "gridcolor": "white",
             "linecolor": "white",
             "minorgridcolor": "white",
             "startlinecolor": "#2a3f5f"
            },
            "baxis": {
             "endlinecolor": "#2a3f5f",
             "gridcolor": "white",
             "linecolor": "white",
             "minorgridcolor": "white",
             "startlinecolor": "#2a3f5f"
            },
            "type": "carpet"
           }
          ],
          "choropleth": [
           {
            "colorbar": {
             "outlinewidth": 0,
             "ticks": ""
            },
            "type": "choropleth"
           }
          ],
          "contour": [
           {
            "colorbar": {
             "outlinewidth": 0,
             "ticks": ""
            },
            "colorscale": [
             [
              0,
              "#0d0887"
             ],
             [
              0.1111111111111111,
              "#46039f"
             ],
             [
              0.2222222222222222,
              "#7201a8"
             ],
             [
              0.3333333333333333,
              "#9c179e"
             ],
             [
              0.4444444444444444,
              "#bd3786"
             ],
             [
              0.5555555555555556,
              "#d8576b"
             ],
             [
              0.6666666666666666,
              "#ed7953"
             ],
             [
              0.7777777777777778,
              "#fb9f3a"
             ],
             [
              0.8888888888888888,
              "#fdca26"
             ],
             [
              1,
              "#f0f921"
             ]
            ],
            "type": "contour"
           }
          ],
          "contourcarpet": [
           {
            "colorbar": {
             "outlinewidth": 0,
             "ticks": ""
            },
            "type": "contourcarpet"
           }
          ],
          "heatmap": [
           {
            "colorbar": {
             "outlinewidth": 0,
             "ticks": ""
            },
            "colorscale": [
             [
              0,
              "#0d0887"
             ],
             [
              0.1111111111111111,
              "#46039f"
             ],
             [
              0.2222222222222222,
              "#7201a8"
             ],
             [
              0.3333333333333333,
              "#9c179e"
             ],
             [
              0.4444444444444444,
              "#bd3786"
             ],
             [
              0.5555555555555556,
              "#d8576b"
             ],
             [
              0.6666666666666666,
              "#ed7953"
             ],
             [
              0.7777777777777778,
              "#fb9f3a"
             ],
             [
              0.8888888888888888,
              "#fdca26"
             ],
             [
              1,
              "#f0f921"
             ]
            ],
            "type": "heatmap"
           }
          ],
          "heatmapgl": [
           {
            "colorbar": {
             "outlinewidth": 0,
             "ticks": ""
            },
            "colorscale": [
             [
              0,
              "#0d0887"
             ],
             [
              0.1111111111111111,
              "#46039f"
             ],
             [
              0.2222222222222222,
              "#7201a8"
             ],
             [
              0.3333333333333333,
              "#9c179e"
             ],
             [
              0.4444444444444444,
              "#bd3786"
             ],
             [
              0.5555555555555556,
              "#d8576b"
             ],
             [
              0.6666666666666666,
              "#ed7953"
             ],
             [
              0.7777777777777778,
              "#fb9f3a"
             ],
             [
              0.8888888888888888,
              "#fdca26"
             ],
             [
              1,
              "#f0f921"
             ]
            ],
            "type": "heatmapgl"
           }
          ],
          "histogram": [
           {
            "marker": {
             "pattern": {
              "fillmode": "overlay",
              "size": 10,
              "solidity": 0.2
             }
            },
            "type": "histogram"
           }
          ],
          "histogram2d": [
           {
            "colorbar": {
             "outlinewidth": 0,
             "ticks": ""
            },
            "colorscale": [
             [
              0,
              "#0d0887"
             ],
             [
              0.1111111111111111,
              "#46039f"
             ],
             [
              0.2222222222222222,
              "#7201a8"
             ],
             [
              0.3333333333333333,
              "#9c179e"
             ],
             [
              0.4444444444444444,
              "#bd3786"
             ],
             [
              0.5555555555555556,
              "#d8576b"
             ],
             [
              0.6666666666666666,
              "#ed7953"
             ],
             [
              0.7777777777777778,
              "#fb9f3a"
             ],
             [
              0.8888888888888888,
              "#fdca26"
             ],
             [
              1,
              "#f0f921"
             ]
            ],
            "type": "histogram2d"
           }
          ],
          "histogram2dcontour": [
           {
            "colorbar": {
             "outlinewidth": 0,
             "ticks": ""
            },
            "colorscale": [
             [
              0,
              "#0d0887"
             ],
             [
              0.1111111111111111,
              "#46039f"
             ],
             [
              0.2222222222222222,
              "#7201a8"
             ],
             [
              0.3333333333333333,
              "#9c179e"
             ],
             [
              0.4444444444444444,
              "#bd3786"
             ],
             [
              0.5555555555555556,
              "#d8576b"
             ],
             [
              0.6666666666666666,
              "#ed7953"
             ],
             [
              0.7777777777777778,
              "#fb9f3a"
             ],
             [
              0.8888888888888888,
              "#fdca26"
             ],
             [
              1,
              "#f0f921"
             ]
            ],
            "type": "histogram2dcontour"
           }
          ],
          "mesh3d": [
           {
            "colorbar": {
             "outlinewidth": 0,
             "ticks": ""
            },
            "type": "mesh3d"
           }
          ],
          "parcoords": [
           {
            "line": {
             "colorbar": {
              "outlinewidth": 0,
              "ticks": ""
             }
            },
            "type": "parcoords"
           }
          ],
          "pie": [
           {
            "automargin": true,
            "type": "pie"
           }
          ],
          "scatter": [
           {
            "marker": {
             "colorbar": {
              "outlinewidth": 0,
              "ticks": ""
             }
            },
            "type": "scatter"
           }
          ],
          "scatter3d": [
           {
            "line": {
             "colorbar": {
              "outlinewidth": 0,
              "ticks": ""
             }
            },
            "marker": {
             "colorbar": {
              "outlinewidth": 0,
              "ticks": ""
             }
            },
            "type": "scatter3d"
           }
          ],
          "scattercarpet": [
           {
            "marker": {
             "colorbar": {
              "outlinewidth": 0,
              "ticks": ""
             }
            },
            "type": "scattercarpet"
           }
          ],
          "scattergeo": [
           {
            "marker": {
             "colorbar": {
              "outlinewidth": 0,
              "ticks": ""
             }
            },
            "type": "scattergeo"
           }
          ],
          "scattergl": [
           {
            "marker": {
             "colorbar": {
              "outlinewidth": 0,
              "ticks": ""
             }
            },
            "type": "scattergl"
           }
          ],
          "scattermapbox": [
           {
            "marker": {
             "colorbar": {
              "outlinewidth": 0,
              "ticks": ""
             }
            },
            "type": "scattermapbox"
           }
          ],
          "scatterpolar": [
           {
            "marker": {
             "colorbar": {
              "outlinewidth": 0,
              "ticks": ""
             }
            },
            "type": "scatterpolar"
           }
          ],
          "scatterpolargl": [
           {
            "marker": {
             "colorbar": {
              "outlinewidth": 0,
              "ticks": ""
             }
            },
            "type": "scatterpolargl"
           }
          ],
          "scatterternary": [
           {
            "marker": {
             "colorbar": {
              "outlinewidth": 0,
              "ticks": ""
             }
            },
            "type": "scatterternary"
           }
          ],
          "surface": [
           {
            "colorbar": {
             "outlinewidth": 0,
             "ticks": ""
            },
            "colorscale": [
             [
              0,
              "#0d0887"
             ],
             [
              0.1111111111111111,
              "#46039f"
             ],
             [
              0.2222222222222222,
              "#7201a8"
             ],
             [
              0.3333333333333333,
              "#9c179e"
             ],
             [
              0.4444444444444444,
              "#bd3786"
             ],
             [
              0.5555555555555556,
              "#d8576b"
             ],
             [
              0.6666666666666666,
              "#ed7953"
             ],
             [
              0.7777777777777778,
              "#fb9f3a"
             ],
             [
              0.8888888888888888,
              "#fdca26"
             ],
             [
              1,
              "#f0f921"
             ]
            ],
            "type": "surface"
           }
          ],
          "table": [
           {
            "cells": {
             "fill": {
              "color": "#EBF0F8"
             },
             "line": {
              "color": "white"
             }
            },
            "header": {
             "fill": {
              "color": "#C8D4E3"
             },
             "line": {
              "color": "white"
             }
            },
            "type": "table"
           }
          ]
         },
         "layout": {
          "annotationdefaults": {
           "arrowcolor": "#2a3f5f",
           "arrowhead": 0,
           "arrowwidth": 1
          },
          "autotypenumbers": "strict",
          "coloraxis": {
           "colorbar": {
            "outlinewidth": 0,
            "ticks": ""
           }
          },
          "colorscale": {
           "diverging": [
            [
             0,
             "#8e0152"
            ],
            [
             0.1,
             "#c51b7d"
            ],
            [
             0.2,
             "#de77ae"
            ],
            [
             0.3,
             "#f1b6da"
            ],
            [
             0.4,
             "#fde0ef"
            ],
            [
             0.5,
             "#f7f7f7"
            ],
            [
             0.6,
             "#e6f5d0"
            ],
            [
             0.7,
             "#b8e186"
            ],
            [
             0.8,
             "#7fbc41"
            ],
            [
             0.9,
             "#4d9221"
            ],
            [
             1,
             "#276419"
            ]
           ],
           "sequential": [
            [
             0,
             "#0d0887"
            ],
            [
             0.1111111111111111,
             "#46039f"
            ],
            [
             0.2222222222222222,
             "#7201a8"
            ],
            [
             0.3333333333333333,
             "#9c179e"
            ],
            [
             0.4444444444444444,
             "#bd3786"
            ],
            [
             0.5555555555555556,
             "#d8576b"
            ],
            [
             0.6666666666666666,
             "#ed7953"
            ],
            [
             0.7777777777777778,
             "#fb9f3a"
            ],
            [
             0.8888888888888888,
             "#fdca26"
            ],
            [
             1,
             "#f0f921"
            ]
           ],
           "sequentialminus": [
            [
             0,
             "#0d0887"
            ],
            [
             0.1111111111111111,
             "#46039f"
            ],
            [
             0.2222222222222222,
             "#7201a8"
            ],
            [
             0.3333333333333333,
             "#9c179e"
            ],
            [
             0.4444444444444444,
             "#bd3786"
            ],
            [
             0.5555555555555556,
             "#d8576b"
            ],
            [
             0.6666666666666666,
             "#ed7953"
            ],
            [
             0.7777777777777778,
             "#fb9f3a"
            ],
            [
             0.8888888888888888,
             "#fdca26"
            ],
            [
             1,
             "#f0f921"
            ]
           ]
          },
          "colorway": [
           "#636efa",
           "#EF553B",
           "#00cc96",
           "#ab63fa",
           "#FFA15A",
           "#19d3f3",
           "#FF6692",
           "#B6E880",
           "#FF97FF",
           "#FECB52"
          ],
          "font": {
           "color": "#2a3f5f"
          },
          "geo": {
           "bgcolor": "white",
           "lakecolor": "white",
           "landcolor": "#E5ECF6",
           "showlakes": true,
           "showland": true,
           "subunitcolor": "white"
          },
          "hoverlabel": {
           "align": "left"
          },
          "hovermode": "closest",
          "mapbox": {
           "style": "light"
          },
          "paper_bgcolor": "white",
          "plot_bgcolor": "#E5ECF6",
          "polar": {
           "angularaxis": {
            "gridcolor": "white",
            "linecolor": "white",
            "ticks": ""
           },
           "bgcolor": "#E5ECF6",
           "radialaxis": {
            "gridcolor": "white",
            "linecolor": "white",
            "ticks": ""
           }
          },
          "scene": {
           "xaxis": {
            "backgroundcolor": "#E5ECF6",
            "gridcolor": "white",
            "gridwidth": 2,
            "linecolor": "white",
            "showbackground": true,
            "ticks": "",
            "zerolinecolor": "white"
           },
           "yaxis": {
            "backgroundcolor": "#E5ECF6",
            "gridcolor": "white",
            "gridwidth": 2,
            "linecolor": "white",
            "showbackground": true,
            "ticks": "",
            "zerolinecolor": "white"
           },
           "zaxis": {
            "backgroundcolor": "#E5ECF6",
            "gridcolor": "white",
            "gridwidth": 2,
            "linecolor": "white",
            "showbackground": true,
            "ticks": "",
            "zerolinecolor": "white"
           }
          },
          "shapedefaults": {
           "line": {
            "color": "#2a3f5f"
           }
          },
          "ternary": {
           "aaxis": {
            "gridcolor": "white",
            "linecolor": "white",
            "ticks": ""
           },
           "baxis": {
            "gridcolor": "white",
            "linecolor": "white",
            "ticks": ""
           },
           "bgcolor": "#E5ECF6",
           "caxis": {
            "gridcolor": "white",
            "linecolor": "white",
            "ticks": ""
           }
          },
          "title": {
           "x": 0.05
          },
          "xaxis": {
           "automargin": true,
           "gridcolor": "white",
           "linecolor": "white",
           "ticks": "",
           "title": {
            "standoff": 15
           },
           "zerolinecolor": "white",
           "zerolinewidth": 2
          },
          "yaxis": {
           "automargin": true,
           "gridcolor": "white",
           "linecolor": "white",
           "ticks": "",
           "title": {
            "standoff": 15
           },
           "zerolinecolor": "white",
           "zerolinewidth": 2
          }
         }
        },
        "title": {
         "text": "Доля пользователей группы А, которая проходит на следующий шаг воронки"
        }
       }
      },
      "text/html": [
       "<div>                            <div id=\"305243c7-59b2-48c0-901a-8ccbe23fb1b3\" class=\"plotly-graph-div\" style=\"height:525px; width:100%;\"></div>            <script type=\"text/javascript\">                require([\"plotly\"], function(Plotly) {                    window.PLOTLYENV=window.PLOTLYENV || {};                                    if (document.getElementById(\"305243c7-59b2-48c0-901a-8ccbe23fb1b3\")) {                    Plotly.newPlot(                        \"305243c7-59b2-48c0-901a-8ccbe23fb1b3\",                        [{\"opacity\":0.65,\"textinfo\":\"value+percent initial\",\"textposition\":\"inside\",\"x\":[2604,1685,782,833],\"y\":[\"login\",\"product_page\",\"Product_cart\",\"purchase\"],\"type\":\"funnel\"}],                        {\"template\":{\"data\":{\"bar\":[{\"error_x\":{\"color\":\"#2a3f5f\"},\"error_y\":{\"color\":\"#2a3f5f\"},\"marker\":{\"line\":{\"color\":\"#E5ECF6\",\"width\":0.5},\"pattern\":{\"fillmode\":\"overlay\",\"size\":10,\"solidity\":0.2}},\"type\":\"bar\"}],\"barpolar\":[{\"marker\":{\"line\":{\"color\":\"#E5ECF6\",\"width\":0.5},\"pattern\":{\"fillmode\":\"overlay\",\"size\":10,\"solidity\":0.2}},\"type\":\"barpolar\"}],\"carpet\":[{\"aaxis\":{\"endlinecolor\":\"#2a3f5f\",\"gridcolor\":\"white\",\"linecolor\":\"white\",\"minorgridcolor\":\"white\",\"startlinecolor\":\"#2a3f5f\"},\"baxis\":{\"endlinecolor\":\"#2a3f5f\",\"gridcolor\":\"white\",\"linecolor\":\"white\",\"minorgridcolor\":\"white\",\"startlinecolor\":\"#2a3f5f\"},\"type\":\"carpet\"}],\"choropleth\":[{\"colorbar\":{\"outlinewidth\":0,\"ticks\":\"\"},\"type\":\"choropleth\"}],\"contour\":[{\"colorbar\":{\"outlinewidth\":0,\"ticks\":\"\"},\"colorscale\":[[0.0,\"#0d0887\"],[0.1111111111111111,\"#46039f\"],[0.2222222222222222,\"#7201a8\"],[0.3333333333333333,\"#9c179e\"],[0.4444444444444444,\"#bd3786\"],[0.5555555555555556,\"#d8576b\"],[0.6666666666666666,\"#ed7953\"],[0.7777777777777778,\"#fb9f3a\"],[0.8888888888888888,\"#fdca26\"],[1.0,\"#f0f921\"]],\"type\":\"contour\"}],\"contourcarpet\":[{\"colorbar\":{\"outlinewidth\":0,\"ticks\":\"\"},\"type\":\"contourcarpet\"}],\"heatmap\":[{\"colorbar\":{\"outlinewidth\":0,\"ticks\":\"\"},\"colorscale\":[[0.0,\"#0d0887\"],[0.1111111111111111,\"#46039f\"],[0.2222222222222222,\"#7201a8\"],[0.3333333333333333,\"#9c179e\"],[0.4444444444444444,\"#bd3786\"],[0.5555555555555556,\"#d8576b\"],[0.6666666666666666,\"#ed7953\"],[0.7777777777777778,\"#fb9f3a\"],[0.8888888888888888,\"#fdca26\"],[1.0,\"#f0f921\"]],\"type\":\"heatmap\"}],\"heatmapgl\":[{\"colorbar\":{\"outlinewidth\":0,\"ticks\":\"\"},\"colorscale\":[[0.0,\"#0d0887\"],[0.1111111111111111,\"#46039f\"],[0.2222222222222222,\"#7201a8\"],[0.3333333333333333,\"#9c179e\"],[0.4444444444444444,\"#bd3786\"],[0.5555555555555556,\"#d8576b\"],[0.6666666666666666,\"#ed7953\"],[0.7777777777777778,\"#fb9f3a\"],[0.8888888888888888,\"#fdca26\"],[1.0,\"#f0f921\"]],\"type\":\"heatmapgl\"}],\"histogram\":[{\"marker\":{\"pattern\":{\"fillmode\":\"overlay\",\"size\":10,\"solidity\":0.2}},\"type\":\"histogram\"}],\"histogram2d\":[{\"colorbar\":{\"outlinewidth\":0,\"ticks\":\"\"},\"colorscale\":[[0.0,\"#0d0887\"],[0.1111111111111111,\"#46039f\"],[0.2222222222222222,\"#7201a8\"],[0.3333333333333333,\"#9c179e\"],[0.4444444444444444,\"#bd3786\"],[0.5555555555555556,\"#d8576b\"],[0.6666666666666666,\"#ed7953\"],[0.7777777777777778,\"#fb9f3a\"],[0.8888888888888888,\"#fdca26\"],[1.0,\"#f0f921\"]],\"type\":\"histogram2d\"}],\"histogram2dcontour\":[{\"colorbar\":{\"outlinewidth\":0,\"ticks\":\"\"},\"colorscale\":[[0.0,\"#0d0887\"],[0.1111111111111111,\"#46039f\"],[0.2222222222222222,\"#7201a8\"],[0.3333333333333333,\"#9c179e\"],[0.4444444444444444,\"#bd3786\"],[0.5555555555555556,\"#d8576b\"],[0.6666666666666666,\"#ed7953\"],[0.7777777777777778,\"#fb9f3a\"],[0.8888888888888888,\"#fdca26\"],[1.0,\"#f0f921\"]],\"type\":\"histogram2dcontour\"}],\"mesh3d\":[{\"colorbar\":{\"outlinewidth\":0,\"ticks\":\"\"},\"type\":\"mesh3d\"}],\"parcoords\":[{\"line\":{\"colorbar\":{\"outlinewidth\":0,\"ticks\":\"\"}},\"type\":\"parcoords\"}],\"pie\":[{\"automargin\":true,\"type\":\"pie\"}],\"scatter\":[{\"marker\":{\"colorbar\":{\"outlinewidth\":0,\"ticks\":\"\"}},\"type\":\"scatter\"}],\"scatter3d\":[{\"line\":{\"colorbar\":{\"outlinewidth\":0,\"ticks\":\"\"}},\"marker\":{\"colorbar\":{\"outlinewidth\":0,\"ticks\":\"\"}},\"type\":\"scatter3d\"}],\"scattercarpet\":[{\"marker\":{\"colorbar\":{\"outlinewidth\":0,\"ticks\":\"\"}},\"type\":\"scattercarpet\"}],\"scattergeo\":[{\"marker\":{\"colorbar\":{\"outlinewidth\":0,\"ticks\":\"\"}},\"type\":\"scattergeo\"}],\"scattergl\":[{\"marker\":{\"colorbar\":{\"outlinewidth\":0,\"ticks\":\"\"}},\"type\":\"scattergl\"}],\"scattermapbox\":[{\"marker\":{\"colorbar\":{\"outlinewidth\":0,\"ticks\":\"\"}},\"type\":\"scattermapbox\"}],\"scatterpolar\":[{\"marker\":{\"colorbar\":{\"outlinewidth\":0,\"ticks\":\"\"}},\"type\":\"scatterpolar\"}],\"scatterpolargl\":[{\"marker\":{\"colorbar\":{\"outlinewidth\":0,\"ticks\":\"\"}},\"type\":\"scatterpolargl\"}],\"scatterternary\":[{\"marker\":{\"colorbar\":{\"outlinewidth\":0,\"ticks\":\"\"}},\"type\":\"scatterternary\"}],\"surface\":[{\"colorbar\":{\"outlinewidth\":0,\"ticks\":\"\"},\"colorscale\":[[0.0,\"#0d0887\"],[0.1111111111111111,\"#46039f\"],[0.2222222222222222,\"#7201a8\"],[0.3333333333333333,\"#9c179e\"],[0.4444444444444444,\"#bd3786\"],[0.5555555555555556,\"#d8576b\"],[0.6666666666666666,\"#ed7953\"],[0.7777777777777778,\"#fb9f3a\"],[0.8888888888888888,\"#fdca26\"],[1.0,\"#f0f921\"]],\"type\":\"surface\"}],\"table\":[{\"cells\":{\"fill\":{\"color\":\"#EBF0F8\"},\"line\":{\"color\":\"white\"}},\"header\":{\"fill\":{\"color\":\"#C8D4E3\"},\"line\":{\"color\":\"white\"}},\"type\":\"table\"}]},\"layout\":{\"annotationdefaults\":{\"arrowcolor\":\"#2a3f5f\",\"arrowhead\":0,\"arrowwidth\":1},\"autotypenumbers\":\"strict\",\"coloraxis\":{\"colorbar\":{\"outlinewidth\":0,\"ticks\":\"\"}},\"colorscale\":{\"diverging\":[[0,\"#8e0152\"],[0.1,\"#c51b7d\"],[0.2,\"#de77ae\"],[0.3,\"#f1b6da\"],[0.4,\"#fde0ef\"],[0.5,\"#f7f7f7\"],[0.6,\"#e6f5d0\"],[0.7,\"#b8e186\"],[0.8,\"#7fbc41\"],[0.9,\"#4d9221\"],[1,\"#276419\"]],\"sequential\":[[0.0,\"#0d0887\"],[0.1111111111111111,\"#46039f\"],[0.2222222222222222,\"#7201a8\"],[0.3333333333333333,\"#9c179e\"],[0.4444444444444444,\"#bd3786\"],[0.5555555555555556,\"#d8576b\"],[0.6666666666666666,\"#ed7953\"],[0.7777777777777778,\"#fb9f3a\"],[0.8888888888888888,\"#fdca26\"],[1.0,\"#f0f921\"]],\"sequentialminus\":[[0.0,\"#0d0887\"],[0.1111111111111111,\"#46039f\"],[0.2222222222222222,\"#7201a8\"],[0.3333333333333333,\"#9c179e\"],[0.4444444444444444,\"#bd3786\"],[0.5555555555555556,\"#d8576b\"],[0.6666666666666666,\"#ed7953\"],[0.7777777777777778,\"#fb9f3a\"],[0.8888888888888888,\"#fdca26\"],[1.0,\"#f0f921\"]]},\"colorway\":[\"#636efa\",\"#EF553B\",\"#00cc96\",\"#ab63fa\",\"#FFA15A\",\"#19d3f3\",\"#FF6692\",\"#B6E880\",\"#FF97FF\",\"#FECB52\"],\"font\":{\"color\":\"#2a3f5f\"},\"geo\":{\"bgcolor\":\"white\",\"lakecolor\":\"white\",\"landcolor\":\"#E5ECF6\",\"showlakes\":true,\"showland\":true,\"subunitcolor\":\"white\"},\"hoverlabel\":{\"align\":\"left\"},\"hovermode\":\"closest\",\"mapbox\":{\"style\":\"light\"},\"paper_bgcolor\":\"white\",\"plot_bgcolor\":\"#E5ECF6\",\"polar\":{\"angularaxis\":{\"gridcolor\":\"white\",\"linecolor\":\"white\",\"ticks\":\"\"},\"bgcolor\":\"#E5ECF6\",\"radialaxis\":{\"gridcolor\":\"white\",\"linecolor\":\"white\",\"ticks\":\"\"}},\"scene\":{\"xaxis\":{\"backgroundcolor\":\"#E5ECF6\",\"gridcolor\":\"white\",\"gridwidth\":2,\"linecolor\":\"white\",\"showbackground\":true,\"ticks\":\"\",\"zerolinecolor\":\"white\"},\"yaxis\":{\"backgroundcolor\":\"#E5ECF6\",\"gridcolor\":\"white\",\"gridwidth\":2,\"linecolor\":\"white\",\"showbackground\":true,\"ticks\":\"\",\"zerolinecolor\":\"white\"},\"zaxis\":{\"backgroundcolor\":\"#E5ECF6\",\"gridcolor\":\"white\",\"gridwidth\":2,\"linecolor\":\"white\",\"showbackground\":true,\"ticks\":\"\",\"zerolinecolor\":\"white\"}},\"shapedefaults\":{\"line\":{\"color\":\"#2a3f5f\"}},\"ternary\":{\"aaxis\":{\"gridcolor\":\"white\",\"linecolor\":\"white\",\"ticks\":\"\"},\"baxis\":{\"gridcolor\":\"white\",\"linecolor\":\"white\",\"ticks\":\"\"},\"bgcolor\":\"#E5ECF6\",\"caxis\":{\"gridcolor\":\"white\",\"linecolor\":\"white\",\"ticks\":\"\"}},\"title\":{\"x\":0.05},\"xaxis\":{\"automargin\":true,\"gridcolor\":\"white\",\"linecolor\":\"white\",\"ticks\":\"\",\"title\":{\"standoff\":15},\"zerolinecolor\":\"white\",\"zerolinewidth\":2},\"yaxis\":{\"automargin\":true,\"gridcolor\":\"white\",\"linecolor\":\"white\",\"ticks\":\"\",\"title\":{\"standoff\":15},\"zerolinecolor\":\"white\",\"zerolinewidth\":2}}},\"title\":{\"text\":\"\\u0414\\u043e\\u043b\\u044f \\u043f\\u043e\\u043b\\u044c\\u0437\\u043e\\u0432\\u0430\\u0442\\u0435\\u043b\\u0435\\u0439 \\u0433\\u0440\\u0443\\u043f\\u043f\\u044b \\u0410, \\u043a\\u043e\\u0442\\u043e\\u0440\\u0430\\u044f \\u043f\\u0440\\u043e\\u0445\\u043e\\u0434\\u0438\\u0442 \\u043d\\u0430 \\u0441\\u043b\\u0435\\u0434\\u0443\\u044e\\u0449\\u0438\\u0439 \\u0448\\u0430\\u0433 \\u0432\\u043e\\u0440\\u043e\\u043d\\u043a\\u0438\"}},                        {\"responsive\": true}                    ).then(function(){\n",
       "                            \n",
       "var gd = document.getElementById('305243c7-59b2-48c0-901a-8ccbe23fb1b3');\n",
       "var x = new MutationObserver(function (mutations, observer) {{\n",
       "        var display = window.getComputedStyle(gd).display;\n",
       "        if (!display || display === 'none') {{\n",
       "            console.log([gd, 'removed!']);\n",
       "            Plotly.purge(gd);\n",
       "            observer.disconnect();\n",
       "        }}\n",
       "}});\n",
       "\n",
       "// Listen for the removal of the full notebook cells\n",
       "var notebookContainer = gd.closest('#notebook-container');\n",
       "if (notebookContainer) {{\n",
       "    x.observe(notebookContainer, {childList: true});\n",
       "}}\n",
       "\n",
       "// Listen for the clearing of the current output cell\n",
       "var outputEl = gd.closest('.output');\n",
       "if (outputEl) {{\n",
       "    x.observe(outputEl, {childList: true});\n",
       "}}\n",
       "\n",
       "                        })                };                });            </script>        </div>"
      ]
     },
     "metadata": {},
     "output_type": "display_data"
    }
   ],
   "source": [
    " fig = go.Figure(go.Funnel(\n",
    "    y = [\"login\", \"product_page\", \"Product_cart\", \"purchase\"],\n",
    "    x = [2604, 1685, 782, 833],\n",
    "    textposition = \"inside\",\n",
    "    textinfo = \"value+percent initial\",\n",
    "    opacity = 0.65))\n",
    "fig.update_layout(title=\"Доля пользователей группы А, которая проходит на следующий шаг воронки\")\n",
    "fig.show()"
   ]
  },
  {
   "cell_type": "markdown",
   "metadata": {},
   "source": [
    "Группа А:\n",
    "Со страницы регистрации в карточки товаров переходят 65% пользователей, из карточек товаров к покупке переходит 32% пользователей, \n",
    "к корзине переходит 30% пользователей.\n",
    "\n",
    "Больше всего пользователей теряется на первом и втором шаге (35% и 33%). Пользователи могут переходить со страницы карточки товаров в оплату,минуя корзину.\n",
    "Доля пользователей от первого события до оплаты 32%."
   ]
  },
  {
   "cell_type": "code",
   "execution_count": 134,
   "metadata": {},
   "outputs": [
    {
     "data": {
      "application/vnd.plotly.v1+json": {
       "config": {
        "plotlyServerURL": "https://plot.ly"
       },
       "data": [
        {
         "opacity": 0.65,
         "textinfo": "value+percent initial",
         "textposition": "inside",
         "type": "funnel",
         "x": [
          877,
          493,
          244,
          249
         ],
         "y": [
          "login",
          "product_page",
          "Product_cart",
          "purchase"
         ]
        }
       ],
       "layout": {
        "template": {
         "data": {
          "bar": [
           {
            "error_x": {
             "color": "#2a3f5f"
            },
            "error_y": {
             "color": "#2a3f5f"
            },
            "marker": {
             "line": {
              "color": "#E5ECF6",
              "width": 0.5
             },
             "pattern": {
              "fillmode": "overlay",
              "size": 10,
              "solidity": 0.2
             }
            },
            "type": "bar"
           }
          ],
          "barpolar": [
           {
            "marker": {
             "line": {
              "color": "#E5ECF6",
              "width": 0.5
             },
             "pattern": {
              "fillmode": "overlay",
              "size": 10,
              "solidity": 0.2
             }
            },
            "type": "barpolar"
           }
          ],
          "carpet": [
           {
            "aaxis": {
             "endlinecolor": "#2a3f5f",
             "gridcolor": "white",
             "linecolor": "white",
             "minorgridcolor": "white",
             "startlinecolor": "#2a3f5f"
            },
            "baxis": {
             "endlinecolor": "#2a3f5f",
             "gridcolor": "white",
             "linecolor": "white",
             "minorgridcolor": "white",
             "startlinecolor": "#2a3f5f"
            },
            "type": "carpet"
           }
          ],
          "choropleth": [
           {
            "colorbar": {
             "outlinewidth": 0,
             "ticks": ""
            },
            "type": "choropleth"
           }
          ],
          "contour": [
           {
            "colorbar": {
             "outlinewidth": 0,
             "ticks": ""
            },
            "colorscale": [
             [
              0,
              "#0d0887"
             ],
             [
              0.1111111111111111,
              "#46039f"
             ],
             [
              0.2222222222222222,
              "#7201a8"
             ],
             [
              0.3333333333333333,
              "#9c179e"
             ],
             [
              0.4444444444444444,
              "#bd3786"
             ],
             [
              0.5555555555555556,
              "#d8576b"
             ],
             [
              0.6666666666666666,
              "#ed7953"
             ],
             [
              0.7777777777777778,
              "#fb9f3a"
             ],
             [
              0.8888888888888888,
              "#fdca26"
             ],
             [
              1,
              "#f0f921"
             ]
            ],
            "type": "contour"
           }
          ],
          "contourcarpet": [
           {
            "colorbar": {
             "outlinewidth": 0,
             "ticks": ""
            },
            "type": "contourcarpet"
           }
          ],
          "heatmap": [
           {
            "colorbar": {
             "outlinewidth": 0,
             "ticks": ""
            },
            "colorscale": [
             [
              0,
              "#0d0887"
             ],
             [
              0.1111111111111111,
              "#46039f"
             ],
             [
              0.2222222222222222,
              "#7201a8"
             ],
             [
              0.3333333333333333,
              "#9c179e"
             ],
             [
              0.4444444444444444,
              "#bd3786"
             ],
             [
              0.5555555555555556,
              "#d8576b"
             ],
             [
              0.6666666666666666,
              "#ed7953"
             ],
             [
              0.7777777777777778,
              "#fb9f3a"
             ],
             [
              0.8888888888888888,
              "#fdca26"
             ],
             [
              1,
              "#f0f921"
             ]
            ],
            "type": "heatmap"
           }
          ],
          "heatmapgl": [
           {
            "colorbar": {
             "outlinewidth": 0,
             "ticks": ""
            },
            "colorscale": [
             [
              0,
              "#0d0887"
             ],
             [
              0.1111111111111111,
              "#46039f"
             ],
             [
              0.2222222222222222,
              "#7201a8"
             ],
             [
              0.3333333333333333,
              "#9c179e"
             ],
             [
              0.4444444444444444,
              "#bd3786"
             ],
             [
              0.5555555555555556,
              "#d8576b"
             ],
             [
              0.6666666666666666,
              "#ed7953"
             ],
             [
              0.7777777777777778,
              "#fb9f3a"
             ],
             [
              0.8888888888888888,
              "#fdca26"
             ],
             [
              1,
              "#f0f921"
             ]
            ],
            "type": "heatmapgl"
           }
          ],
          "histogram": [
           {
            "marker": {
             "pattern": {
              "fillmode": "overlay",
              "size": 10,
              "solidity": 0.2
             }
            },
            "type": "histogram"
           }
          ],
          "histogram2d": [
           {
            "colorbar": {
             "outlinewidth": 0,
             "ticks": ""
            },
            "colorscale": [
             [
              0,
              "#0d0887"
             ],
             [
              0.1111111111111111,
              "#46039f"
             ],
             [
              0.2222222222222222,
              "#7201a8"
             ],
             [
              0.3333333333333333,
              "#9c179e"
             ],
             [
              0.4444444444444444,
              "#bd3786"
             ],
             [
              0.5555555555555556,
              "#d8576b"
             ],
             [
              0.6666666666666666,
              "#ed7953"
             ],
             [
              0.7777777777777778,
              "#fb9f3a"
             ],
             [
              0.8888888888888888,
              "#fdca26"
             ],
             [
              1,
              "#f0f921"
             ]
            ],
            "type": "histogram2d"
           }
          ],
          "histogram2dcontour": [
           {
            "colorbar": {
             "outlinewidth": 0,
             "ticks": ""
            },
            "colorscale": [
             [
              0,
              "#0d0887"
             ],
             [
              0.1111111111111111,
              "#46039f"
             ],
             [
              0.2222222222222222,
              "#7201a8"
             ],
             [
              0.3333333333333333,
              "#9c179e"
             ],
             [
              0.4444444444444444,
              "#bd3786"
             ],
             [
              0.5555555555555556,
              "#d8576b"
             ],
             [
              0.6666666666666666,
              "#ed7953"
             ],
             [
              0.7777777777777778,
              "#fb9f3a"
             ],
             [
              0.8888888888888888,
              "#fdca26"
             ],
             [
              1,
              "#f0f921"
             ]
            ],
            "type": "histogram2dcontour"
           }
          ],
          "mesh3d": [
           {
            "colorbar": {
             "outlinewidth": 0,
             "ticks": ""
            },
            "type": "mesh3d"
           }
          ],
          "parcoords": [
           {
            "line": {
             "colorbar": {
              "outlinewidth": 0,
              "ticks": ""
             }
            },
            "type": "parcoords"
           }
          ],
          "pie": [
           {
            "automargin": true,
            "type": "pie"
           }
          ],
          "scatter": [
           {
            "marker": {
             "colorbar": {
              "outlinewidth": 0,
              "ticks": ""
             }
            },
            "type": "scatter"
           }
          ],
          "scatter3d": [
           {
            "line": {
             "colorbar": {
              "outlinewidth": 0,
              "ticks": ""
             }
            },
            "marker": {
             "colorbar": {
              "outlinewidth": 0,
              "ticks": ""
             }
            },
            "type": "scatter3d"
           }
          ],
          "scattercarpet": [
           {
            "marker": {
             "colorbar": {
              "outlinewidth": 0,
              "ticks": ""
             }
            },
            "type": "scattercarpet"
           }
          ],
          "scattergeo": [
           {
            "marker": {
             "colorbar": {
              "outlinewidth": 0,
              "ticks": ""
             }
            },
            "type": "scattergeo"
           }
          ],
          "scattergl": [
           {
            "marker": {
             "colorbar": {
              "outlinewidth": 0,
              "ticks": ""
             }
            },
            "type": "scattergl"
           }
          ],
          "scattermapbox": [
           {
            "marker": {
             "colorbar": {
              "outlinewidth": 0,
              "ticks": ""
             }
            },
            "type": "scattermapbox"
           }
          ],
          "scatterpolar": [
           {
            "marker": {
             "colorbar": {
              "outlinewidth": 0,
              "ticks": ""
             }
            },
            "type": "scatterpolar"
           }
          ],
          "scatterpolargl": [
           {
            "marker": {
             "colorbar": {
              "outlinewidth": 0,
              "ticks": ""
             }
            },
            "type": "scatterpolargl"
           }
          ],
          "scatterternary": [
           {
            "marker": {
             "colorbar": {
              "outlinewidth": 0,
              "ticks": ""
             }
            },
            "type": "scatterternary"
           }
          ],
          "surface": [
           {
            "colorbar": {
             "outlinewidth": 0,
             "ticks": ""
            },
            "colorscale": [
             [
              0,
              "#0d0887"
             ],
             [
              0.1111111111111111,
              "#46039f"
             ],
             [
              0.2222222222222222,
              "#7201a8"
             ],
             [
              0.3333333333333333,
              "#9c179e"
             ],
             [
              0.4444444444444444,
              "#bd3786"
             ],
             [
              0.5555555555555556,
              "#d8576b"
             ],
             [
              0.6666666666666666,
              "#ed7953"
             ],
             [
              0.7777777777777778,
              "#fb9f3a"
             ],
             [
              0.8888888888888888,
              "#fdca26"
             ],
             [
              1,
              "#f0f921"
             ]
            ],
            "type": "surface"
           }
          ],
          "table": [
           {
            "cells": {
             "fill": {
              "color": "#EBF0F8"
             },
             "line": {
              "color": "white"
             }
            },
            "header": {
             "fill": {
              "color": "#C8D4E3"
             },
             "line": {
              "color": "white"
             }
            },
            "type": "table"
           }
          ]
         },
         "layout": {
          "annotationdefaults": {
           "arrowcolor": "#2a3f5f",
           "arrowhead": 0,
           "arrowwidth": 1
          },
          "autotypenumbers": "strict",
          "coloraxis": {
           "colorbar": {
            "outlinewidth": 0,
            "ticks": ""
           }
          },
          "colorscale": {
           "diverging": [
            [
             0,
             "#8e0152"
            ],
            [
             0.1,
             "#c51b7d"
            ],
            [
             0.2,
             "#de77ae"
            ],
            [
             0.3,
             "#f1b6da"
            ],
            [
             0.4,
             "#fde0ef"
            ],
            [
             0.5,
             "#f7f7f7"
            ],
            [
             0.6,
             "#e6f5d0"
            ],
            [
             0.7,
             "#b8e186"
            ],
            [
             0.8,
             "#7fbc41"
            ],
            [
             0.9,
             "#4d9221"
            ],
            [
             1,
             "#276419"
            ]
           ],
           "sequential": [
            [
             0,
             "#0d0887"
            ],
            [
             0.1111111111111111,
             "#46039f"
            ],
            [
             0.2222222222222222,
             "#7201a8"
            ],
            [
             0.3333333333333333,
             "#9c179e"
            ],
            [
             0.4444444444444444,
             "#bd3786"
            ],
            [
             0.5555555555555556,
             "#d8576b"
            ],
            [
             0.6666666666666666,
             "#ed7953"
            ],
            [
             0.7777777777777778,
             "#fb9f3a"
            ],
            [
             0.8888888888888888,
             "#fdca26"
            ],
            [
             1,
             "#f0f921"
            ]
           ],
           "sequentialminus": [
            [
             0,
             "#0d0887"
            ],
            [
             0.1111111111111111,
             "#46039f"
            ],
            [
             0.2222222222222222,
             "#7201a8"
            ],
            [
             0.3333333333333333,
             "#9c179e"
            ],
            [
             0.4444444444444444,
             "#bd3786"
            ],
            [
             0.5555555555555556,
             "#d8576b"
            ],
            [
             0.6666666666666666,
             "#ed7953"
            ],
            [
             0.7777777777777778,
             "#fb9f3a"
            ],
            [
             0.8888888888888888,
             "#fdca26"
            ],
            [
             1,
             "#f0f921"
            ]
           ]
          },
          "colorway": [
           "#636efa",
           "#EF553B",
           "#00cc96",
           "#ab63fa",
           "#FFA15A",
           "#19d3f3",
           "#FF6692",
           "#B6E880",
           "#FF97FF",
           "#FECB52"
          ],
          "font": {
           "color": "#2a3f5f"
          },
          "geo": {
           "bgcolor": "white",
           "lakecolor": "white",
           "landcolor": "#E5ECF6",
           "showlakes": true,
           "showland": true,
           "subunitcolor": "white"
          },
          "hoverlabel": {
           "align": "left"
          },
          "hovermode": "closest",
          "mapbox": {
           "style": "light"
          },
          "paper_bgcolor": "white",
          "plot_bgcolor": "#E5ECF6",
          "polar": {
           "angularaxis": {
            "gridcolor": "white",
            "linecolor": "white",
            "ticks": ""
           },
           "bgcolor": "#E5ECF6",
           "radialaxis": {
            "gridcolor": "white",
            "linecolor": "white",
            "ticks": ""
           }
          },
          "scene": {
           "xaxis": {
            "backgroundcolor": "#E5ECF6",
            "gridcolor": "white",
            "gridwidth": 2,
            "linecolor": "white",
            "showbackground": true,
            "ticks": "",
            "zerolinecolor": "white"
           },
           "yaxis": {
            "backgroundcolor": "#E5ECF6",
            "gridcolor": "white",
            "gridwidth": 2,
            "linecolor": "white",
            "showbackground": true,
            "ticks": "",
            "zerolinecolor": "white"
           },
           "zaxis": {
            "backgroundcolor": "#E5ECF6",
            "gridcolor": "white",
            "gridwidth": 2,
            "linecolor": "white",
            "showbackground": true,
            "ticks": "",
            "zerolinecolor": "white"
           }
          },
          "shapedefaults": {
           "line": {
            "color": "#2a3f5f"
           }
          },
          "ternary": {
           "aaxis": {
            "gridcolor": "white",
            "linecolor": "white",
            "ticks": ""
           },
           "baxis": {
            "gridcolor": "white",
            "linecolor": "white",
            "ticks": ""
           },
           "bgcolor": "#E5ECF6",
           "caxis": {
            "gridcolor": "white",
            "linecolor": "white",
            "ticks": ""
           }
          },
          "title": {
           "x": 0.05
          },
          "xaxis": {
           "automargin": true,
           "gridcolor": "white",
           "linecolor": "white",
           "ticks": "",
           "title": {
            "standoff": 15
           },
           "zerolinecolor": "white",
           "zerolinewidth": 2
          },
          "yaxis": {
           "automargin": true,
           "gridcolor": "white",
           "linecolor": "white",
           "ticks": "",
           "title": {
            "standoff": 15
           },
           "zerolinecolor": "white",
           "zerolinewidth": 2
          }
         }
        },
        "title": {
         "text": "Доля пользователей группы В, которая проходит на следующий шаг воронки"
        }
       }
      },
      "text/html": [
       "<div>                            <div id=\"d645cc4c-1c53-4be9-9a58-0e2842d9fb6b\" class=\"plotly-graph-div\" style=\"height:525px; width:100%;\"></div>            <script type=\"text/javascript\">                require([\"plotly\"], function(Plotly) {                    window.PLOTLYENV=window.PLOTLYENV || {};                                    if (document.getElementById(\"d645cc4c-1c53-4be9-9a58-0e2842d9fb6b\")) {                    Plotly.newPlot(                        \"d645cc4c-1c53-4be9-9a58-0e2842d9fb6b\",                        [{\"opacity\":0.65,\"textinfo\":\"value+percent initial\",\"textposition\":\"inside\",\"x\":[877,493,244,249],\"y\":[\"login\",\"product_page\",\"Product_cart\",\"purchase\"],\"type\":\"funnel\"}],                        {\"template\":{\"data\":{\"bar\":[{\"error_x\":{\"color\":\"#2a3f5f\"},\"error_y\":{\"color\":\"#2a3f5f\"},\"marker\":{\"line\":{\"color\":\"#E5ECF6\",\"width\":0.5},\"pattern\":{\"fillmode\":\"overlay\",\"size\":10,\"solidity\":0.2}},\"type\":\"bar\"}],\"barpolar\":[{\"marker\":{\"line\":{\"color\":\"#E5ECF6\",\"width\":0.5},\"pattern\":{\"fillmode\":\"overlay\",\"size\":10,\"solidity\":0.2}},\"type\":\"barpolar\"}],\"carpet\":[{\"aaxis\":{\"endlinecolor\":\"#2a3f5f\",\"gridcolor\":\"white\",\"linecolor\":\"white\",\"minorgridcolor\":\"white\",\"startlinecolor\":\"#2a3f5f\"},\"baxis\":{\"endlinecolor\":\"#2a3f5f\",\"gridcolor\":\"white\",\"linecolor\":\"white\",\"minorgridcolor\":\"white\",\"startlinecolor\":\"#2a3f5f\"},\"type\":\"carpet\"}],\"choropleth\":[{\"colorbar\":{\"outlinewidth\":0,\"ticks\":\"\"},\"type\":\"choropleth\"}],\"contour\":[{\"colorbar\":{\"outlinewidth\":0,\"ticks\":\"\"},\"colorscale\":[[0.0,\"#0d0887\"],[0.1111111111111111,\"#46039f\"],[0.2222222222222222,\"#7201a8\"],[0.3333333333333333,\"#9c179e\"],[0.4444444444444444,\"#bd3786\"],[0.5555555555555556,\"#d8576b\"],[0.6666666666666666,\"#ed7953\"],[0.7777777777777778,\"#fb9f3a\"],[0.8888888888888888,\"#fdca26\"],[1.0,\"#f0f921\"]],\"type\":\"contour\"}],\"contourcarpet\":[{\"colorbar\":{\"outlinewidth\":0,\"ticks\":\"\"},\"type\":\"contourcarpet\"}],\"heatmap\":[{\"colorbar\":{\"outlinewidth\":0,\"ticks\":\"\"},\"colorscale\":[[0.0,\"#0d0887\"],[0.1111111111111111,\"#46039f\"],[0.2222222222222222,\"#7201a8\"],[0.3333333333333333,\"#9c179e\"],[0.4444444444444444,\"#bd3786\"],[0.5555555555555556,\"#d8576b\"],[0.6666666666666666,\"#ed7953\"],[0.7777777777777778,\"#fb9f3a\"],[0.8888888888888888,\"#fdca26\"],[1.0,\"#f0f921\"]],\"type\":\"heatmap\"}],\"heatmapgl\":[{\"colorbar\":{\"outlinewidth\":0,\"ticks\":\"\"},\"colorscale\":[[0.0,\"#0d0887\"],[0.1111111111111111,\"#46039f\"],[0.2222222222222222,\"#7201a8\"],[0.3333333333333333,\"#9c179e\"],[0.4444444444444444,\"#bd3786\"],[0.5555555555555556,\"#d8576b\"],[0.6666666666666666,\"#ed7953\"],[0.7777777777777778,\"#fb9f3a\"],[0.8888888888888888,\"#fdca26\"],[1.0,\"#f0f921\"]],\"type\":\"heatmapgl\"}],\"histogram\":[{\"marker\":{\"pattern\":{\"fillmode\":\"overlay\",\"size\":10,\"solidity\":0.2}},\"type\":\"histogram\"}],\"histogram2d\":[{\"colorbar\":{\"outlinewidth\":0,\"ticks\":\"\"},\"colorscale\":[[0.0,\"#0d0887\"],[0.1111111111111111,\"#46039f\"],[0.2222222222222222,\"#7201a8\"],[0.3333333333333333,\"#9c179e\"],[0.4444444444444444,\"#bd3786\"],[0.5555555555555556,\"#d8576b\"],[0.6666666666666666,\"#ed7953\"],[0.7777777777777778,\"#fb9f3a\"],[0.8888888888888888,\"#fdca26\"],[1.0,\"#f0f921\"]],\"type\":\"histogram2d\"}],\"histogram2dcontour\":[{\"colorbar\":{\"outlinewidth\":0,\"ticks\":\"\"},\"colorscale\":[[0.0,\"#0d0887\"],[0.1111111111111111,\"#46039f\"],[0.2222222222222222,\"#7201a8\"],[0.3333333333333333,\"#9c179e\"],[0.4444444444444444,\"#bd3786\"],[0.5555555555555556,\"#d8576b\"],[0.6666666666666666,\"#ed7953\"],[0.7777777777777778,\"#fb9f3a\"],[0.8888888888888888,\"#fdca26\"],[1.0,\"#f0f921\"]],\"type\":\"histogram2dcontour\"}],\"mesh3d\":[{\"colorbar\":{\"outlinewidth\":0,\"ticks\":\"\"},\"type\":\"mesh3d\"}],\"parcoords\":[{\"line\":{\"colorbar\":{\"outlinewidth\":0,\"ticks\":\"\"}},\"type\":\"parcoords\"}],\"pie\":[{\"automargin\":true,\"type\":\"pie\"}],\"scatter\":[{\"marker\":{\"colorbar\":{\"outlinewidth\":0,\"ticks\":\"\"}},\"type\":\"scatter\"}],\"scatter3d\":[{\"line\":{\"colorbar\":{\"outlinewidth\":0,\"ticks\":\"\"}},\"marker\":{\"colorbar\":{\"outlinewidth\":0,\"ticks\":\"\"}},\"type\":\"scatter3d\"}],\"scattercarpet\":[{\"marker\":{\"colorbar\":{\"outlinewidth\":0,\"ticks\":\"\"}},\"type\":\"scattercarpet\"}],\"scattergeo\":[{\"marker\":{\"colorbar\":{\"outlinewidth\":0,\"ticks\":\"\"}},\"type\":\"scattergeo\"}],\"scattergl\":[{\"marker\":{\"colorbar\":{\"outlinewidth\":0,\"ticks\":\"\"}},\"type\":\"scattergl\"}],\"scattermapbox\":[{\"marker\":{\"colorbar\":{\"outlinewidth\":0,\"ticks\":\"\"}},\"type\":\"scattermapbox\"}],\"scatterpolar\":[{\"marker\":{\"colorbar\":{\"outlinewidth\":0,\"ticks\":\"\"}},\"type\":\"scatterpolar\"}],\"scatterpolargl\":[{\"marker\":{\"colorbar\":{\"outlinewidth\":0,\"ticks\":\"\"}},\"type\":\"scatterpolargl\"}],\"scatterternary\":[{\"marker\":{\"colorbar\":{\"outlinewidth\":0,\"ticks\":\"\"}},\"type\":\"scatterternary\"}],\"surface\":[{\"colorbar\":{\"outlinewidth\":0,\"ticks\":\"\"},\"colorscale\":[[0.0,\"#0d0887\"],[0.1111111111111111,\"#46039f\"],[0.2222222222222222,\"#7201a8\"],[0.3333333333333333,\"#9c179e\"],[0.4444444444444444,\"#bd3786\"],[0.5555555555555556,\"#d8576b\"],[0.6666666666666666,\"#ed7953\"],[0.7777777777777778,\"#fb9f3a\"],[0.8888888888888888,\"#fdca26\"],[1.0,\"#f0f921\"]],\"type\":\"surface\"}],\"table\":[{\"cells\":{\"fill\":{\"color\":\"#EBF0F8\"},\"line\":{\"color\":\"white\"}},\"header\":{\"fill\":{\"color\":\"#C8D4E3\"},\"line\":{\"color\":\"white\"}},\"type\":\"table\"}]},\"layout\":{\"annotationdefaults\":{\"arrowcolor\":\"#2a3f5f\",\"arrowhead\":0,\"arrowwidth\":1},\"autotypenumbers\":\"strict\",\"coloraxis\":{\"colorbar\":{\"outlinewidth\":0,\"ticks\":\"\"}},\"colorscale\":{\"diverging\":[[0,\"#8e0152\"],[0.1,\"#c51b7d\"],[0.2,\"#de77ae\"],[0.3,\"#f1b6da\"],[0.4,\"#fde0ef\"],[0.5,\"#f7f7f7\"],[0.6,\"#e6f5d0\"],[0.7,\"#b8e186\"],[0.8,\"#7fbc41\"],[0.9,\"#4d9221\"],[1,\"#276419\"]],\"sequential\":[[0.0,\"#0d0887\"],[0.1111111111111111,\"#46039f\"],[0.2222222222222222,\"#7201a8\"],[0.3333333333333333,\"#9c179e\"],[0.4444444444444444,\"#bd3786\"],[0.5555555555555556,\"#d8576b\"],[0.6666666666666666,\"#ed7953\"],[0.7777777777777778,\"#fb9f3a\"],[0.8888888888888888,\"#fdca26\"],[1.0,\"#f0f921\"]],\"sequentialminus\":[[0.0,\"#0d0887\"],[0.1111111111111111,\"#46039f\"],[0.2222222222222222,\"#7201a8\"],[0.3333333333333333,\"#9c179e\"],[0.4444444444444444,\"#bd3786\"],[0.5555555555555556,\"#d8576b\"],[0.6666666666666666,\"#ed7953\"],[0.7777777777777778,\"#fb9f3a\"],[0.8888888888888888,\"#fdca26\"],[1.0,\"#f0f921\"]]},\"colorway\":[\"#636efa\",\"#EF553B\",\"#00cc96\",\"#ab63fa\",\"#FFA15A\",\"#19d3f3\",\"#FF6692\",\"#B6E880\",\"#FF97FF\",\"#FECB52\"],\"font\":{\"color\":\"#2a3f5f\"},\"geo\":{\"bgcolor\":\"white\",\"lakecolor\":\"white\",\"landcolor\":\"#E5ECF6\",\"showlakes\":true,\"showland\":true,\"subunitcolor\":\"white\"},\"hoverlabel\":{\"align\":\"left\"},\"hovermode\":\"closest\",\"mapbox\":{\"style\":\"light\"},\"paper_bgcolor\":\"white\",\"plot_bgcolor\":\"#E5ECF6\",\"polar\":{\"angularaxis\":{\"gridcolor\":\"white\",\"linecolor\":\"white\",\"ticks\":\"\"},\"bgcolor\":\"#E5ECF6\",\"radialaxis\":{\"gridcolor\":\"white\",\"linecolor\":\"white\",\"ticks\":\"\"}},\"scene\":{\"xaxis\":{\"backgroundcolor\":\"#E5ECF6\",\"gridcolor\":\"white\",\"gridwidth\":2,\"linecolor\":\"white\",\"showbackground\":true,\"ticks\":\"\",\"zerolinecolor\":\"white\"},\"yaxis\":{\"backgroundcolor\":\"#E5ECF6\",\"gridcolor\":\"white\",\"gridwidth\":2,\"linecolor\":\"white\",\"showbackground\":true,\"ticks\":\"\",\"zerolinecolor\":\"white\"},\"zaxis\":{\"backgroundcolor\":\"#E5ECF6\",\"gridcolor\":\"white\",\"gridwidth\":2,\"linecolor\":\"white\",\"showbackground\":true,\"ticks\":\"\",\"zerolinecolor\":\"white\"}},\"shapedefaults\":{\"line\":{\"color\":\"#2a3f5f\"}},\"ternary\":{\"aaxis\":{\"gridcolor\":\"white\",\"linecolor\":\"white\",\"ticks\":\"\"},\"baxis\":{\"gridcolor\":\"white\",\"linecolor\":\"white\",\"ticks\":\"\"},\"bgcolor\":\"#E5ECF6\",\"caxis\":{\"gridcolor\":\"white\",\"linecolor\":\"white\",\"ticks\":\"\"}},\"title\":{\"x\":0.05},\"xaxis\":{\"automargin\":true,\"gridcolor\":\"white\",\"linecolor\":\"white\",\"ticks\":\"\",\"title\":{\"standoff\":15},\"zerolinecolor\":\"white\",\"zerolinewidth\":2},\"yaxis\":{\"automargin\":true,\"gridcolor\":\"white\",\"linecolor\":\"white\",\"ticks\":\"\",\"title\":{\"standoff\":15},\"zerolinecolor\":\"white\",\"zerolinewidth\":2}}},\"title\":{\"text\":\"\\u0414\\u043e\\u043b\\u044f \\u043f\\u043e\\u043b\\u044c\\u0437\\u043e\\u0432\\u0430\\u0442\\u0435\\u043b\\u0435\\u0439 \\u0433\\u0440\\u0443\\u043f\\u043f\\u044b \\u0412, \\u043a\\u043e\\u0442\\u043e\\u0440\\u0430\\u044f \\u043f\\u0440\\u043e\\u0445\\u043e\\u0434\\u0438\\u0442 \\u043d\\u0430 \\u0441\\u043b\\u0435\\u0434\\u0443\\u044e\\u0449\\u0438\\u0439 \\u0448\\u0430\\u0433 \\u0432\\u043e\\u0440\\u043e\\u043d\\u043a\\u0438\"}},                        {\"responsive\": true}                    ).then(function(){\n",
       "                            \n",
       "var gd = document.getElementById('d645cc4c-1c53-4be9-9a58-0e2842d9fb6b');\n",
       "var x = new MutationObserver(function (mutations, observer) {{\n",
       "        var display = window.getComputedStyle(gd).display;\n",
       "        if (!display || display === 'none') {{\n",
       "            console.log([gd, 'removed!']);\n",
       "            Plotly.purge(gd);\n",
       "            observer.disconnect();\n",
       "        }}\n",
       "}});\n",
       "\n",
       "// Listen for the removal of the full notebook cells\n",
       "var notebookContainer = gd.closest('#notebook-container');\n",
       "if (notebookContainer) {{\n",
       "    x.observe(notebookContainer, {childList: true});\n",
       "}}\n",
       "\n",
       "// Listen for the clearing of the current output cell\n",
       "var outputEl = gd.closest('.output');\n",
       "if (outputEl) {{\n",
       "    x.observe(outputEl, {childList: true});\n",
       "}}\n",
       "\n",
       "                        })                };                });            </script>        </div>"
      ]
     },
     "metadata": {},
     "output_type": "display_data"
    }
   ],
   "source": [
    "fig = go.Figure(go.Funnel(\n",
    "    y = [\"login\", \"product_page\", \"Product_cart\", \"purchase\"],\n",
    "    x = [877, 493, 244, 249],\n",
    "    textposition = \"inside\",\n",
    "    textinfo = \"value+percent initial\",\n",
    "    opacity = 0.65))\n",
    "fig.update_layout(title=\"Доля пользователей группы В, которая проходит на следующий шаг воронки\")\n",
    "fig.show()"
   ]
  },
  {
   "cell_type": "markdown",
   "metadata": {},
   "source": [
    " Группа В:\n",
    " Со страницы регистрации в карточки товаров переходят 56% пользователей, из карточек товаров к покупке переходит 28% пользователей, из оплаты к корзине переходит 28% пользователей.\n",
    "\n",
    "Больше всего пользователей теряется на первом и втором шаге (44% и 28%). Нарушена логическая цепочка шагов Авторизация-карточки товаров-корзина-оплата.\n",
    "Видимо есть покупка в 1 клик.\n",
    "Доля пользователей от первого события до оплаты 28%."
   ]
  },
  {
   "cell_type": "markdown",
   "metadata": {},
   "source": [
    "Ожидаемый эффект не виден:пользователи  не показали улучшение каждой метрики не менее, чем на 10%.\n"
   ]
  },
  {
   "cell_type": "markdown",
   "metadata": {},
   "source": [
    "Какие особенности данных нужно учесть, прежде чем приступать к A/B-тестированию:"
   ]
  },
  {
   "cell_type": "markdown",
   "metadata": {},
   "source": [
    "Перед тем как начать A/B-тест, нужно убедиться, что:\n",
    "\n",
    "- на результаты не влияют аномалии и выбросы в генеральной совокупности;\n",
    "- инструмент «деления» трафика работает безошибочно;\n",
    "- данные отправляются в системы аналитики корректно.\n",
    "Перед А/В тестом проводят A/A-тест. Если трафик и инструмент проведения A/A-теста не подвели,\n",
    "различий в показателях не будет и поможет определить длительность теста и методику анализа данных.\n",
    "Критерии успешного A/A-теста:\n",
    "\n",
    "- Количество пользователей в различных группах различается не более, чем на 1%;\n",
    "- Для всех групп фиксируют и отправляют в системы аналитики данные об одном и том же;\n",
    "- Различие ключевых метрик по группам не превышает 1% и не имеет статистической значимости;\n",
    "- Попавший в одну из групп посетитель остаётся в этой группе до конца теста.\n",
    "Если пользователь видит разные версии исследуемой страницы в ходе одного исследования,\n",
    "неизвестно, какая именно повлияла на его решения. Значит, и результаты такого теста нельзя интерпретировать однозначно."
   ]
  },
  {
   "cell_type": "markdown",
   "metadata": {},
   "source": [
    "В данных нет информации о проведении  A/A-теста. Считать проведенный А/В тест успешным нельзя."
   ]
  },
  {
   "cell_type": "markdown",
   "metadata": {},
   "source": [
    "Оценка результатов A/B-тестирования."
   ]
  },
  {
   "cell_type": "markdown",
   "metadata": {},
   "source": [
    "Проверим статистическую разницу долей z-критерием."
   ]
  },
  {
   "cell_type": "markdown",
   "metadata": {},
   "source": [
    "Посмотрим сколько пользователей в каждой экспериментальной группе"
   ]
  },
  {
   "cell_type": "code",
   "execution_count": 135,
   "metadata": {},
   "outputs": [
    {
     "data": {
      "text/html": [
       "<div>\n",
       "<style scoped>\n",
       "    .dataframe tbody tr th:only-of-type {\n",
       "        vertical-align: middle;\n",
       "    }\n",
       "\n",
       "    .dataframe tbody tr th {\n",
       "        vertical-align: top;\n",
       "    }\n",
       "\n",
       "    .dataframe thead th {\n",
       "        text-align: right;\n",
       "    }\n",
       "</style>\n",
       "<table border=\"1\" class=\"dataframe\">\n",
       "  <thead>\n",
       "    <tr style=\"text-align: right;\">\n",
       "      <th></th>\n",
       "      <th>group</th>\n",
       "      <th>user_id</th>\n",
       "    </tr>\n",
       "  </thead>\n",
       "  <tbody>\n",
       "    <tr>\n",
       "      <th>0</th>\n",
       "      <td>A</td>\n",
       "      <td>3634</td>\n",
       "    </tr>\n",
       "    <tr>\n",
       "      <th>1</th>\n",
       "      <td>B</td>\n",
       "      <td>2717</td>\n",
       "    </tr>\n",
       "  </tbody>\n",
       "</table>\n",
       "</div>"
      ],
      "text/plain": [
       "  group  user_id\n",
       "0     A     3634\n",
       "1     B     2717"
      ]
     },
     "execution_count": 135,
     "metadata": {},
     "output_type": "execute_result"
    }
   ],
   "source": [
    "users_group = ab_test.groupby('group')['user_id'].agg('nunique').reset_index()\n",
    "\n",
    "users_group.sort_values(by='user_id', ascending=False)"
   ]
  },
  {
   "cell_type": "markdown",
   "metadata": {},
   "source": [
    "Количество пользователей в группах не одинаковое (разница 14%). Количество пользователей в каждой из групп достаточное для проведения исследования,есть небольшая разница между размерами групп."
   ]
  },
  {
   "cell_type": "markdown",
   "metadata": {},
   "source": [
    "Сделаем общую таблицу с числом уникальных пользователей по каждому событию и группе"
   ]
  },
  {
   "cell_type": "code",
   "execution_count": 136,
   "metadata": {},
   "outputs": [
    {
     "data": {
      "text/html": [
       "<div>\n",
       "<style scoped>\n",
       "    .dataframe tbody tr th:only-of-type {\n",
       "        vertical-align: middle;\n",
       "    }\n",
       "\n",
       "    .dataframe tbody tr th {\n",
       "        vertical-align: top;\n",
       "    }\n",
       "\n",
       "    .dataframe thead th {\n",
       "        text-align: right;\n",
       "    }\n",
       "</style>\n",
       "<table border=\"1\" class=\"dataframe\">\n",
       "  <thead>\n",
       "    <tr style=\"text-align: right;\">\n",
       "      <th>group</th>\n",
       "      <th>event_name</th>\n",
       "      <th>A</th>\n",
       "      <th>B</th>\n",
       "    </tr>\n",
       "  </thead>\n",
       "  <tbody>\n",
       "    <tr>\n",
       "      <th>0</th>\n",
       "      <td>login</td>\n",
       "      <td>2604</td>\n",
       "      <td>877</td>\n",
       "    </tr>\n",
       "    <tr>\n",
       "      <th>1</th>\n",
       "      <td>product_cart</td>\n",
       "      <td>782</td>\n",
       "      <td>244</td>\n",
       "    </tr>\n",
       "    <tr>\n",
       "      <th>2</th>\n",
       "      <td>product_page</td>\n",
       "      <td>1685</td>\n",
       "      <td>493</td>\n",
       "    </tr>\n",
       "    <tr>\n",
       "      <th>3</th>\n",
       "      <td>purchase</td>\n",
       "      <td>833</td>\n",
       "      <td>249</td>\n",
       "    </tr>\n",
       "  </tbody>\n",
       "</table>\n",
       "</div>"
      ],
      "text/plain": [
       "group    event_name     A    B\n",
       "0             login  2604  877\n",
       "1      product_cart   782  244\n",
       "2      product_page  1685  493\n",
       "3          purchase   833  249"
      ]
     },
     "execution_count": 136,
     "metadata": {},
     "output_type": "execute_result"
    }
   ],
   "source": [
    "data_a = ab_test.pivot_table(index='event_name', columns= 'group', values='user_id',aggfunc = {'user_id':'nunique'}).reset_index()\n",
    "data_a"
   ]
  },
  {
   "cell_type": "markdown",
   "metadata": {},
   "source": [
    "Проверим, будет ли отличие между группами статистически достоверным."
   ]
  },
  {
   "cell_type": "markdown",
   "metadata": {},
   "source": [
    "гипотеза Н0: равные доли в обеих группах гипотеза Н1: доли выборках не равны"
   ]
  },
  {
   "cell_type": "markdown",
   "metadata": {},
   "source": [
    "Напишем функцию для проверки гипотез и проверим по всем событиям"
   ]
  },
  {
   "cell_type": "code",
   "execution_count": 137,
   "metadata": {},
   "outputs": [],
   "source": [
    "\n",
    "\n",
    "def check_hypothesis(successes1, successes2, trials1, trials2, alpha=0.05):\n",
    "\n",
    "\n",
    "    # число пользователей в группе 1 и группе 2:\n",
    "    \n",
    "    trials = np.array([trials1,trials2]) \n",
    "         \n",
    "    # число пользователей, совершивших событие в группе 1 и группе 2\n",
    "    successes = np.array([successes1, successes2]) \n",
    "    # пропорция успехов в первой группе:\n",
    "    p1 = successes[0]/trials[0]\n",
    "    # пропорция успехов во второй группе:\n",
    "    p2 = successes[1]/trials[1]\n",
    "    # пропорция успехов в комбинированном датасете:\n",
    "    p_combined = (successes[0] + successes[1]) / (trials[0] + trials[1])\n",
    "    # разница пропорций в датасетах\n",
    "    difference = p1 - p2\n",
    " \n",
    "    z_value = difference / mth.sqrt(p_combined * (1 - p_combined) * (1 / trials[0] + 1 / trials[1]))\n",
    "    \n",
    "    distr = st.norm(0, 1) \n",
    "    \n",
    "    p_value = (1 - distr.cdf(abs(z_value))) * 2\n",
    "    \n",
    "    \n",
    "    print(event)\n",
    "    print('p-значение: ', p_value)\n",
    "    \n",
    "    if (p_value < alpha):\n",
    "        print(\"Отвергаем нулевую гипотезу: между долями есть значимая разница\")\n",
    "        print('')\n",
    "    else:\n",
    "        print(\"Не получилось отвергнуть нулевую гипотезу, нет оснований считать доли разными\")\n",
    "        print('')"
   ]
  },
  {
   "cell_type": "code",
   "execution_count": 138,
   "metadata": {},
   "outputs": [
    {
     "name": "stdout",
     "output_type": "stream",
     "text": [
      "login\n",
      "p-значение:  [0.]\n",
      "Отвергаем нулевую гипотезу: между долями есть значимая разница\n",
      "\n",
      "product_cart\n",
      "p-значение:  [0.]\n",
      "Отвергаем нулевую гипотезу: между долями есть значимая разница\n",
      "\n",
      "product_page\n",
      "p-значение:  [0.]\n",
      "Отвергаем нулевую гипотезу: между долями есть значимая разница\n",
      "\n",
      "purchase\n",
      "p-значение:  [0.]\n",
      "Отвергаем нулевую гипотезу: между долями есть значимая разница\n",
      "\n"
     ]
    }
   ],
   "source": [
    "for event in ['login', 'product_cart',\n",
    "       'product_page', 'purchase']:\n",
    "    successes1=data_a[data_a['event_name']==event]['A']\n",
    "    successes2=data_a[data_a['event_name']==event]['B']\n",
    "    check_hypothesis(successes1, successes2,  users_group.loc[0,'user_id'], users_group.loc[1,'user_id'], alpha=0.05)"
   ]
  },
  {
   "cell_type": "markdown",
   "metadata": {},
   "source": [
    "## ВЫВОД"
   ]
  },
  {
   "cell_type": "markdown",
   "metadata": {},
   "source": [
    "Во время проведения теста проходит Christmas&New Year Promo EU, N.America с 2020-12-25 по 2021-01-03.\n",
    "Хотя 25-29 декабря всплеска событий не наблюдается.Возможно на обе группы одновременно акция оказала влияние. \n",
    "Лучше проводить тестирование, когда нет глобальных ауций, распродаж,сезонности.\n",
    "\n",
    "События events по ТЗ должны быть по 4 января 2021 года, а в данных конечная дата '2020-12-30 23:36:33'.\n",
    "Возможно произошел сбой и не удалось записать данные за последующие даты, что тоже повллияло на успешность проведения теста.\n",
    "\n",
    "1602 пользователя участвуют в recommender_system_test и interface_eu_test тестах одновременно, \n",
    "что возможно тоже оказало влияние на успешность проведения теста.\n",
    "\n",
    "В группе А 3824 уникальных пользователя. В группе В 2877. Всего 6701 пользователей, значит нет пользователей, попавших в обе группы .\n",
    "В группе A больше пользователей, чем в B на 14%.\n",
    "\n",
    "\n",
    "Всего зарегистрированных пользователей из EU 42340, 6351 пользователь принимает участие в тесте из региона EU.\n",
    "Аудитория: 15% новых пользователей из региона EU соответствует ТЗ.\n",
    "    \n",
    "Ожидаемое количество участников теста: 6000 также соответстует ТЗ (6351)\n",
    "Всего совершенных событий: 23420.\n",
    "\n",
    "Количество событий на пользователя в выборках распределены не одинаково. \n",
    "На 1 пользователя группы А в среднем 5 событий, группы В 1,8.\n",
    "Среднее число событий на пользователя только для тех, которые совершали события в группе А-7, в группе В 5,8.\n",
    "\n",
    "Много нулевых событий, в группе А больше событий, чем в группе В. Чаще всего от 5-10 событий совершено пользователями.\n",
    "Больше всего событий было совершено 21 декабря.\n",
    "\n",
    "Не получается логическая цепочка событий: Регистрация-карточки товаров-корзина-оплата.\n",
    "Конверсии по группам:   \n",
    "Группа А:\n",
    "Со страницы регистрации в карточки товаров переходят 65% пользователей, из карточек товаров к покупке переходит 32% пользователей, \n",
    "к корзине переходит 30% пользователей.\n",
    "\n",
    "Больше всего пользователей теряется на первом и втором шаге (35% и 33%). Пользователи могут переходить со страницы карточки товаров в оплату,минуя корзину.\n",
    "Доля пользователей от первого события до оплаты 32%.\n",
    "Группа В:\n",
    "Со страницы регистрации в карточки товаров переходят 56% пользователей, из карточек товаров к покупке переходит 28% пользователей, из оплаты к корзине переходит 28% пользователей.\n",
    "\n",
    "Больше всего пользователей теряется на первом и втором шаге (44% и 28%). Нарушена логическая цепочка шагов Авторизация-карточки товаров-корзина-оплата.\n",
    "Видимо есть покупка в 1 клик.\n",
    "Доля пользователей от первого события до оплаты 28%.\n",
    "\n",
    "Ожидаемый эффект не виден: за 14 дней с момента регистрации в системе пользователи  не показали улучшение каждой метрики не менее, чем на 10%.\n",
    "При проверке разницы долей z-критерием онаружена значимая разница.  \n",
    "В данных нет информации о проведении A/A-теста. Значит, и результаты такого теста нельзя интерпретировать однозначно.\n",
    "Считать проведенный А/В тест успешным нельзя.\n",
    "\n",
    "\n"
   ]
  },
  {
   "cell_type": "code",
   "execution_count": null,
   "metadata": {},
   "outputs": [],
   "source": []
  },
  {
   "cell_type": "code",
   "execution_count": null,
   "metadata": {},
   "outputs": [],
   "source": []
  },
  {
   "cell_type": "code",
   "execution_count": null,
   "metadata": {},
   "outputs": [],
   "source": []
  }
 ],
 "metadata": {
  "ExecuteTimeLog": [
   {
    "duration": 119,
    "start_time": "2023-06-06T14:47:01.881Z"
   },
   {
    "duration": 66,
    "start_time": "2023-06-06T14:54:49.782Z"
   },
   {
    "duration": 1320,
    "start_time": "2023-06-06T15:16:04.378Z"
   },
   {
    "duration": 5,
    "start_time": "2023-06-06T15:22:52.680Z"
   },
   {
    "duration": 78,
    "start_time": "2023-06-06T16:45:58.269Z"
   },
   {
    "duration": 25,
    "start_time": "2023-06-06T16:46:06.744Z"
   },
   {
    "duration": 45,
    "start_time": "2023-06-06T16:46:10.776Z"
   },
   {
    "duration": 413,
    "start_time": "2023-06-06T16:49:07.173Z"
   },
   {
    "duration": 2208,
    "start_time": "2023-06-06T16:50:21.196Z"
   },
   {
    "duration": 165,
    "start_time": "2023-06-06T16:51:30.131Z"
   },
   {
    "duration": 42,
    "start_time": "2023-06-06T16:52:18.031Z"
   },
   {
    "duration": 4,
    "start_time": "2023-06-06T16:53:13.755Z"
   },
   {
    "duration": 30,
    "start_time": "2023-06-06T16:53:13.951Z"
   },
   {
    "duration": 80,
    "start_time": "2023-06-06T16:53:14.141Z"
   },
   {
    "duration": 432,
    "start_time": "2023-06-06T16:53:14.343Z"
   },
   {
    "duration": 30,
    "start_time": "2023-06-06T16:53:14.777Z"
   },
   {
    "duration": 41,
    "start_time": "2023-06-06T16:57:53.936Z"
   },
   {
    "duration": 54,
    "start_time": "2023-06-06T16:58:41.635Z"
   },
   {
    "duration": 43,
    "start_time": "2023-06-06T16:59:00.824Z"
   },
   {
    "duration": 4,
    "start_time": "2023-06-06T16:59:11.257Z"
   },
   {
    "duration": 33,
    "start_time": "2023-06-06T16:59:11.678Z"
   },
   {
    "duration": 73,
    "start_time": "2023-06-06T16:59:12.093Z"
   },
   {
    "duration": 488,
    "start_time": "2023-06-06T16:59:12.532Z"
   },
   {
    "duration": 45,
    "start_time": "2023-06-06T16:59:13.022Z"
   },
   {
    "duration": 10,
    "start_time": "2023-06-06T17:00:33.557Z"
   },
   {
    "duration": 1318,
    "start_time": "2023-06-06T17:16:54.327Z"
   },
   {
    "duration": 36,
    "start_time": "2023-06-06T17:16:55.647Z"
   },
   {
    "duration": 11,
    "start_time": "2023-06-06T17:16:55.684Z"
   },
   {
    "duration": 106,
    "start_time": "2023-06-06T17:16:55.696Z"
   },
   {
    "duration": 543,
    "start_time": "2023-06-06T17:16:55.804Z"
   },
   {
    "duration": 32,
    "start_time": "2023-06-06T17:16:56.349Z"
   },
   {
    "duration": 106,
    "start_time": "2023-06-06T18:37:06.050Z"
   },
   {
    "duration": 6,
    "start_time": "2023-06-06T18:37:18.541Z"
   },
   {
    "duration": 7,
    "start_time": "2023-06-06T18:48:46.142Z"
   },
   {
    "duration": 22,
    "start_time": "2023-06-06T18:48:54.537Z"
   },
   {
    "duration": 19,
    "start_time": "2023-06-06T18:49:30.228Z"
   },
   {
    "duration": 6,
    "start_time": "2023-06-06T18:49:41.298Z"
   },
   {
    "duration": 1151,
    "start_time": "2023-06-06T18:56:41.535Z"
   },
   {
    "duration": 111,
    "start_time": "2023-06-06T18:58:32.996Z"
   },
   {
    "duration": 107,
    "start_time": "2023-06-06T18:58:39.783Z"
   },
   {
    "duration": 122,
    "start_time": "2023-06-06T18:58:52.333Z"
   },
   {
    "duration": 68,
    "start_time": "2023-06-06T18:59:26.234Z"
   },
   {
    "duration": 11,
    "start_time": "2023-06-06T19:01:15.886Z"
   },
   {
    "duration": 19,
    "start_time": "2023-06-06T19:01:25.146Z"
   },
   {
    "duration": 36,
    "start_time": "2023-06-06T19:02:37.280Z"
   },
   {
    "duration": 12,
    "start_time": "2023-06-06T19:02:52.166Z"
   },
   {
    "duration": 52,
    "start_time": "2023-06-06T19:04:31.344Z"
   },
   {
    "duration": 131,
    "start_time": "2023-06-06T19:08:43.211Z"
   },
   {
    "duration": 228,
    "start_time": "2023-06-06T19:09:02.705Z"
   },
   {
    "duration": 12,
    "start_time": "2023-06-06T19:09:48.659Z"
   },
   {
    "duration": 204,
    "start_time": "2023-06-06T19:10:55.130Z"
   },
   {
    "duration": 12,
    "start_time": "2023-06-06T19:11:06.657Z"
   },
   {
    "duration": 7,
    "start_time": "2023-06-06T19:15:12.078Z"
   },
   {
    "duration": 11,
    "start_time": "2023-06-06T19:15:22.305Z"
   },
   {
    "duration": 5,
    "start_time": "2023-06-06T19:16:48.354Z"
   },
   {
    "duration": 10,
    "start_time": "2023-06-06T19:17:02.986Z"
   },
   {
    "duration": 10,
    "start_time": "2023-06-06T19:17:06.685Z"
   },
   {
    "duration": 5,
    "start_time": "2023-06-06T19:17:17.156Z"
   },
   {
    "duration": 6,
    "start_time": "2023-06-06T19:18:58.080Z"
   },
   {
    "duration": 11,
    "start_time": "2023-06-06T19:19:06.560Z"
   },
   {
    "duration": 16,
    "start_time": "2023-06-06T19:19:19.046Z"
   },
   {
    "duration": 13,
    "start_time": "2023-06-06T19:22:30.354Z"
   },
   {
    "duration": 16,
    "start_time": "2023-06-06T19:22:55.037Z"
   },
   {
    "duration": 6,
    "start_time": "2023-06-06T19:23:20.951Z"
   },
   {
    "duration": 13,
    "start_time": "2023-06-06T19:23:58.446Z"
   },
   {
    "duration": 20,
    "start_time": "2023-06-06T19:31:55.937Z"
   },
   {
    "duration": 11,
    "start_time": "2023-06-06T19:33:04.736Z"
   },
   {
    "duration": 77,
    "start_time": "2023-06-06T19:34:24.949Z"
   },
   {
    "duration": 20,
    "start_time": "2023-06-06T19:37:53.824Z"
   },
   {
    "duration": 52,
    "start_time": "2023-06-06T19:39:55.646Z"
   },
   {
    "duration": 28,
    "start_time": "2023-06-06T19:44:08.231Z"
   },
   {
    "duration": 11,
    "start_time": "2023-06-06T19:44:33.652Z"
   },
   {
    "duration": 9,
    "start_time": "2023-06-06T19:47:10.000Z"
   },
   {
    "duration": 11,
    "start_time": "2023-06-06T19:47:16.620Z"
   },
   {
    "duration": 10,
    "start_time": "2023-06-06T19:47:36.784Z"
   },
   {
    "duration": 9,
    "start_time": "2023-06-06T19:51:49.479Z"
   },
   {
    "duration": 10,
    "start_time": "2023-06-06T19:52:25.035Z"
   },
   {
    "duration": 9,
    "start_time": "2023-06-06T19:52:47.788Z"
   },
   {
    "duration": 10,
    "start_time": "2023-06-06T19:53:36.631Z"
   },
   {
    "duration": 9,
    "start_time": "2023-06-06T19:53:43.252Z"
   },
   {
    "duration": 710,
    "start_time": "2023-06-06T19:55:36.324Z"
   },
   {
    "duration": 8,
    "start_time": "2023-06-06T19:56:03.738Z"
   },
   {
    "duration": 9,
    "start_time": "2023-06-06T19:56:15.331Z"
   },
   {
    "duration": 10,
    "start_time": "2023-06-06T19:59:00.123Z"
   },
   {
    "duration": 10,
    "start_time": "2023-06-06T20:00:04.976Z"
   },
   {
    "duration": 11,
    "start_time": "2023-06-06T20:00:13.979Z"
   },
   {
    "duration": 9,
    "start_time": "2023-06-06T20:00:33.588Z"
   },
   {
    "duration": 50,
    "start_time": "2023-06-07T05:18:39.819Z"
   },
   {
    "duration": 1376,
    "start_time": "2023-06-07T05:18:46.462Z"
   },
   {
    "duration": 3,
    "start_time": "2023-06-07T05:18:47.840Z"
   },
   {
    "duration": 95,
    "start_time": "2023-06-07T05:18:47.845Z"
   },
   {
    "duration": 175,
    "start_time": "2023-06-07T05:18:47.942Z"
   },
   {
    "duration": 578,
    "start_time": "2023-06-07T05:18:48.119Z"
   },
   {
    "duration": 69,
    "start_time": "2023-06-07T05:18:48.698Z"
   },
   {
    "duration": 10,
    "start_time": "2023-06-07T05:18:48.768Z"
   },
   {
    "duration": 104,
    "start_time": "2023-06-07T05:18:48.779Z"
   },
   {
    "duration": 0,
    "start_time": "2023-06-07T05:18:48.885Z"
   },
   {
    "duration": 0,
    "start_time": "2023-06-07T05:18:48.886Z"
   },
   {
    "duration": 0,
    "start_time": "2023-06-07T05:18:48.887Z"
   },
   {
    "duration": 0,
    "start_time": "2023-06-07T05:18:48.888Z"
   },
   {
    "duration": 0,
    "start_time": "2023-06-07T05:18:48.889Z"
   },
   {
    "duration": 0,
    "start_time": "2023-06-07T05:18:48.890Z"
   },
   {
    "duration": 0,
    "start_time": "2023-06-07T05:18:48.892Z"
   },
   {
    "duration": 0,
    "start_time": "2023-06-07T05:18:48.893Z"
   },
   {
    "duration": 0,
    "start_time": "2023-06-07T05:18:48.894Z"
   },
   {
    "duration": 0,
    "start_time": "2023-06-07T05:18:48.895Z"
   },
   {
    "duration": 0,
    "start_time": "2023-06-07T05:18:48.896Z"
   },
   {
    "duration": 0,
    "start_time": "2023-06-07T05:18:48.897Z"
   },
   {
    "duration": 0,
    "start_time": "2023-06-07T05:18:48.898Z"
   },
   {
    "duration": 0,
    "start_time": "2023-06-07T05:18:48.898Z"
   },
   {
    "duration": 0,
    "start_time": "2023-06-07T05:18:48.899Z"
   },
   {
    "duration": 0,
    "start_time": "2023-06-07T05:18:48.900Z"
   },
   {
    "duration": 0,
    "start_time": "2023-06-07T05:18:48.901Z"
   },
   {
    "duration": 0,
    "start_time": "2023-06-07T05:18:48.902Z"
   },
   {
    "duration": 0,
    "start_time": "2023-06-07T05:18:48.903Z"
   },
   {
    "duration": 0,
    "start_time": "2023-06-07T05:18:48.904Z"
   },
   {
    "duration": 0,
    "start_time": "2023-06-07T05:18:48.905Z"
   },
   {
    "duration": 0,
    "start_time": "2023-06-07T05:18:48.906Z"
   },
   {
    "duration": 0,
    "start_time": "2023-06-07T05:18:48.906Z"
   },
   {
    "duration": 0,
    "start_time": "2023-06-07T05:18:48.908Z"
   },
   {
    "duration": 0,
    "start_time": "2023-06-07T05:18:48.909Z"
   },
   {
    "duration": 0,
    "start_time": "2023-06-07T05:18:48.910Z"
   },
   {
    "duration": 0,
    "start_time": "2023-06-07T05:18:48.911Z"
   },
   {
    "duration": 0,
    "start_time": "2023-06-07T05:18:48.912Z"
   },
   {
    "duration": 102,
    "start_time": "2023-06-07T05:19:06.582Z"
   },
   {
    "duration": 18,
    "start_time": "2023-06-07T05:19:32.285Z"
   },
   {
    "duration": 4,
    "start_time": "2023-06-07T05:19:52.093Z"
   },
   {
    "duration": 2,
    "start_time": "2023-06-07T05:19:52.468Z"
   },
   {
    "duration": 33,
    "start_time": "2023-06-07T05:19:52.804Z"
   },
   {
    "duration": 73,
    "start_time": "2023-06-07T05:19:53.174Z"
   },
   {
    "duration": 438,
    "start_time": "2023-06-07T05:19:53.497Z"
   },
   {
    "duration": 44,
    "start_time": "2023-06-07T05:19:54.518Z"
   },
   {
    "duration": 8,
    "start_time": "2023-06-07T05:19:54.564Z"
   },
   {
    "duration": 257,
    "start_time": "2023-06-07T05:19:54.574Z"
   },
   {
    "duration": 0,
    "start_time": "2023-06-07T05:19:54.832Z"
   },
   {
    "duration": 0,
    "start_time": "2023-06-07T05:19:54.834Z"
   },
   {
    "duration": 17,
    "start_time": "2023-06-07T05:19:55.007Z"
   },
   {
    "duration": 259,
    "start_time": "2023-06-07T05:19:55.186Z"
   },
   {
    "duration": 0,
    "start_time": "2023-06-07T05:19:55.447Z"
   },
   {
    "duration": 13,
    "start_time": "2023-06-07T05:19:55.571Z"
   },
   {
    "duration": 53,
    "start_time": "2023-06-07T05:19:55.750Z"
   },
   {
    "duration": 5,
    "start_time": "2023-06-07T05:19:55.929Z"
   },
   {
    "duration": 8,
    "start_time": "2023-06-07T05:19:56.132Z"
   },
   {
    "duration": 115,
    "start_time": "2023-06-07T05:19:56.502Z"
   },
   {
    "duration": 182,
    "start_time": "2023-06-07T05:19:56.691Z"
   },
   {
    "duration": 14,
    "start_time": "2023-06-07T05:19:56.899Z"
   },
   {
    "duration": 75,
    "start_time": "2023-06-07T05:19:57.087Z"
   },
   {
    "duration": 9,
    "start_time": "2023-06-07T05:19:57.288Z"
   },
   {
    "duration": 82,
    "start_time": "2023-06-07T05:19:57.482Z"
   },
   {
    "duration": 73,
    "start_time": "2023-06-07T05:19:57.671Z"
   },
   {
    "duration": 10,
    "start_time": "2023-06-07T05:19:58.040Z"
   },
   {
    "duration": 14,
    "start_time": "2023-06-07T05:19:58.220Z"
   },
   {
    "duration": 17,
    "start_time": "2023-06-07T05:19:58.439Z"
   },
   {
    "duration": 73,
    "start_time": "2023-06-07T05:19:58.626Z"
   },
   {
    "duration": 82,
    "start_time": "2023-06-07T05:19:58.831Z"
   },
   {
    "duration": 8,
    "start_time": "2023-06-07T05:19:59.022Z"
   },
   {
    "duration": 11,
    "start_time": "2023-06-07T05:19:59.213Z"
   },
   {
    "duration": 5,
    "start_time": "2023-06-07T05:19:59.418Z"
   },
   {
    "duration": 11,
    "start_time": "2023-06-07T05:19:59.631Z"
   },
   {
    "duration": 9,
    "start_time": "2023-06-07T05:19:59.823Z"
   },
   {
    "duration": 4,
    "start_time": "2023-06-07T05:20:00.047Z"
   },
   {
    "duration": 4,
    "start_time": "2023-06-07T05:20:00.248Z"
   },
   {
    "duration": 15,
    "start_time": "2023-06-07T05:28:40.538Z"
   },
   {
    "duration": 13,
    "start_time": "2023-06-07T05:29:09.187Z"
   },
   {
    "duration": 5,
    "start_time": "2023-06-07T05:29:38.892Z"
   },
   {
    "duration": 6,
    "start_time": "2023-06-07T05:29:44.270Z"
   },
   {
    "duration": 5,
    "start_time": "2023-06-07T05:29:56.789Z"
   },
   {
    "duration": 3,
    "start_time": "2023-06-07T05:30:14.598Z"
   },
   {
    "duration": 2,
    "start_time": "2023-06-07T05:30:15.971Z"
   },
   {
    "duration": 32,
    "start_time": "2023-06-07T05:30:17.689Z"
   },
   {
    "duration": 70,
    "start_time": "2023-06-07T05:30:19.158Z"
   },
   {
    "duration": 384,
    "start_time": "2023-06-07T05:30:21.253Z"
   },
   {
    "duration": 42,
    "start_time": "2023-06-07T05:30:22.874Z"
   },
   {
    "duration": 8,
    "start_time": "2023-06-07T05:30:24.280Z"
   },
   {
    "duration": 6,
    "start_time": "2023-06-07T05:30:26.078Z"
   },
   {
    "duration": 7,
    "start_time": "2023-06-07T05:30:27.271Z"
   },
   {
    "duration": 25,
    "start_time": "2023-06-07T05:30:27.872Z"
   },
   {
    "duration": 29,
    "start_time": "2023-06-07T05:30:29.731Z"
   },
   {
    "duration": 11,
    "start_time": "2023-06-07T05:30:30.321Z"
   },
   {
    "duration": 54,
    "start_time": "2023-06-07T05:30:30.916Z"
   },
   {
    "duration": 6,
    "start_time": "2023-06-07T05:30:31.574Z"
   },
   {
    "duration": 7,
    "start_time": "2023-06-07T05:30:32.229Z"
   },
   {
    "duration": 87,
    "start_time": "2023-06-07T05:30:33.649Z"
   },
   {
    "duration": 150,
    "start_time": "2023-06-07T05:30:34.383Z"
   },
   {
    "duration": 12,
    "start_time": "2023-06-07T05:30:35.405Z"
   },
   {
    "duration": 9,
    "start_time": "2023-06-07T05:30:36.752Z"
   },
   {
    "duration": 9,
    "start_time": "2023-06-07T05:30:39.801Z"
   },
   {
    "duration": 9,
    "start_time": "2023-06-07T05:30:40.885Z"
   },
   {
    "duration": 4,
    "start_time": "2023-06-07T05:30:42.683Z"
   },
   {
    "duration": 11,
    "start_time": "2023-06-07T05:30:50.519Z"
   },
   {
    "duration": 5,
    "start_time": "2023-06-07T05:35:23.385Z"
   },
   {
    "duration": 12,
    "start_time": "2023-06-07T05:35:31.108Z"
   },
   {
    "duration": 10,
    "start_time": "2023-06-07T05:35:50.156Z"
   },
   {
    "duration": 4,
    "start_time": "2023-06-07T05:41:10.056Z"
   },
   {
    "duration": 2,
    "start_time": "2023-06-07T05:41:10.403Z"
   },
   {
    "duration": 32,
    "start_time": "2023-06-07T05:41:10.771Z"
   },
   {
    "duration": 65,
    "start_time": "2023-06-07T05:41:11.175Z"
   },
   {
    "duration": 450,
    "start_time": "2023-06-07T05:41:11.536Z"
   },
   {
    "duration": 50,
    "start_time": "2023-06-07T05:41:11.988Z"
   },
   {
    "duration": 9,
    "start_time": "2023-06-07T05:41:12.311Z"
   },
   {
    "duration": 4,
    "start_time": "2023-06-07T05:41:12.697Z"
   },
   {
    "duration": 7,
    "start_time": "2023-06-07T05:41:12.878Z"
   },
   {
    "duration": 15,
    "start_time": "2023-06-07T05:41:13.071Z"
   },
   {
    "duration": 31,
    "start_time": "2023-06-07T05:41:13.449Z"
   },
   {
    "duration": 13,
    "start_time": "2023-06-07T05:41:13.629Z"
   },
   {
    "duration": 98,
    "start_time": "2023-06-07T05:41:13.820Z"
   },
   {
    "duration": 4,
    "start_time": "2023-06-07T05:41:14.019Z"
   },
   {
    "duration": 7,
    "start_time": "2023-06-07T05:41:14.217Z"
   },
   {
    "duration": 90,
    "start_time": "2023-06-07T05:41:14.606Z"
   },
   {
    "duration": 151,
    "start_time": "2023-06-07T05:41:14.801Z"
   },
   {
    "duration": 11,
    "start_time": "2023-06-07T05:41:15.023Z"
   },
   {
    "duration": 12,
    "start_time": "2023-06-07T05:41:15.394Z"
   },
   {
    "duration": 10,
    "start_time": "2023-06-07T05:41:16.191Z"
   },
   {
    "duration": 11,
    "start_time": "2023-06-07T05:41:16.379Z"
   },
   {
    "duration": 13,
    "start_time": "2023-06-07T05:41:16.581Z"
   },
   {
    "duration": 13,
    "start_time": "2023-06-07T05:41:16.782Z"
   },
   {
    "duration": 68,
    "start_time": "2023-06-07T05:41:17.174Z"
   },
   {
    "duration": 9,
    "start_time": "2023-06-07T05:41:17.374Z"
   },
   {
    "duration": 7,
    "start_time": "2023-06-07T05:41:17.578Z"
   },
   {
    "duration": 6,
    "start_time": "2023-06-07T05:41:17.792Z"
   },
   {
    "duration": 9,
    "start_time": "2023-06-07T05:41:17.984Z"
   },
   {
    "duration": 10,
    "start_time": "2023-06-07T05:41:18.172Z"
   },
   {
    "duration": 4,
    "start_time": "2023-06-07T05:41:18.331Z"
   },
   {
    "duration": 2,
    "start_time": "2023-06-07T05:49:39.830Z"
   },
   {
    "duration": 9,
    "start_time": "2023-06-07T05:51:24.554Z"
   },
   {
    "duration": 54,
    "start_time": "2023-06-07T05:52:34.327Z"
   },
   {
    "duration": 76,
    "start_time": "2023-06-07T05:54:32.449Z"
   },
   {
    "duration": 8,
    "start_time": "2023-06-07T05:56:56.736Z"
   },
   {
    "duration": 90,
    "start_time": "2023-06-07T06:00:44.339Z"
   },
   {
    "duration": 13,
    "start_time": "2023-06-07T06:01:16.978Z"
   },
   {
    "duration": 4,
    "start_time": "2023-06-07T06:01:52.978Z"
   },
   {
    "duration": 3,
    "start_time": "2023-06-07T06:01:53.883Z"
   },
   {
    "duration": 32,
    "start_time": "2023-06-07T06:01:53.916Z"
   },
   {
    "duration": 63,
    "start_time": "2023-06-07T06:01:54.306Z"
   },
   {
    "duration": 388,
    "start_time": "2023-06-07T06:01:54.700Z"
   },
   {
    "duration": 43,
    "start_time": "2023-06-07T06:01:55.094Z"
   },
   {
    "duration": 9,
    "start_time": "2023-06-07T06:01:55.479Z"
   },
   {
    "duration": 5,
    "start_time": "2023-06-07T06:01:55.870Z"
   },
   {
    "duration": 5,
    "start_time": "2023-06-07T06:01:56.050Z"
   },
   {
    "duration": 17,
    "start_time": "2023-06-07T06:01:56.270Z"
   },
   {
    "duration": 31,
    "start_time": "2023-06-07T06:01:56.674Z"
   },
   {
    "duration": 12,
    "start_time": "2023-06-07T06:01:56.873Z"
   },
   {
    "duration": 50,
    "start_time": "2023-06-07T06:01:57.089Z"
   },
   {
    "duration": 5,
    "start_time": "2023-06-07T06:01:57.306Z"
   },
   {
    "duration": 11,
    "start_time": "2023-06-07T06:01:57.512Z"
   },
   {
    "duration": 87,
    "start_time": "2023-06-07T06:01:57.908Z"
   },
   {
    "duration": 155,
    "start_time": "2023-06-07T06:01:58.111Z"
   },
   {
    "duration": 10,
    "start_time": "2023-06-07T06:01:58.301Z"
   },
   {
    "duration": 12,
    "start_time": "2023-06-07T06:01:58.714Z"
   },
   {
    "duration": 15,
    "start_time": "2023-06-07T06:01:59.517Z"
   },
   {
    "duration": 10,
    "start_time": "2023-06-07T06:01:59.717Z"
   },
   {
    "duration": 2,
    "start_time": "2023-06-07T06:01:59.933Z"
   },
   {
    "duration": 9,
    "start_time": "2023-06-07T06:02:00.774Z"
   },
   {
    "duration": 135,
    "start_time": "2023-06-07T06:02:00.987Z"
   },
   {
    "duration": 13,
    "start_time": "2023-06-07T06:02:01.203Z"
   },
   {
    "duration": 24,
    "start_time": "2023-06-07T06:07:08.176Z"
   },
   {
    "duration": 10,
    "start_time": "2023-06-07T06:07:55.851Z"
   },
   {
    "duration": 38,
    "start_time": "2023-06-07T06:08:17.600Z"
   },
   {
    "duration": 5,
    "start_time": "2023-06-07T06:09:00.422Z"
   },
   {
    "duration": 6,
    "start_time": "2023-06-07T06:09:14.977Z"
   },
   {
    "duration": 8,
    "start_time": "2023-06-07T06:10:10.707Z"
   },
   {
    "duration": 9,
    "start_time": "2023-06-07T06:12:15.641Z"
   },
   {
    "duration": 4,
    "start_time": "2023-06-07T06:12:41.659Z"
   },
   {
    "duration": 6,
    "start_time": "2023-06-07T06:12:51.894Z"
   },
   {
    "duration": 71,
    "start_time": "2023-06-07T06:15:29.128Z"
   },
   {
    "duration": 98,
    "start_time": "2023-06-07T07:36:38.102Z"
   },
   {
    "duration": 12,
    "start_time": "2023-06-07T07:50:34.592Z"
   },
   {
    "duration": 10,
    "start_time": "2023-06-07T07:51:09.860Z"
   },
   {
    "duration": 11,
    "start_time": "2023-06-07T07:52:20.394Z"
   },
   {
    "duration": 8,
    "start_time": "2023-06-07T07:53:51.678Z"
   },
   {
    "duration": 6,
    "start_time": "2023-06-07T07:57:21.956Z"
   },
   {
    "duration": 12,
    "start_time": "2023-06-07T07:57:32.714Z"
   },
   {
    "duration": 3,
    "start_time": "2023-06-07T07:58:47.188Z"
   },
   {
    "duration": 4,
    "start_time": "2023-06-07T07:59:07.363Z"
   },
   {
    "duration": 2158,
    "start_time": "2023-06-07T08:02:52.373Z"
   },
   {
    "duration": 8,
    "start_time": "2023-06-07T08:03:15.602Z"
   },
   {
    "duration": 8,
    "start_time": "2023-06-07T08:03:39.462Z"
   },
   {
    "duration": 6,
    "start_time": "2023-06-07T08:06:22.102Z"
   },
   {
    "duration": 7,
    "start_time": "2023-06-07T08:13:39.284Z"
   },
   {
    "duration": 7,
    "start_time": "2023-06-07T08:14:08.114Z"
   },
   {
    "duration": 7,
    "start_time": "2023-06-07T08:15:02.087Z"
   },
   {
    "duration": 8,
    "start_time": "2023-06-07T08:15:07.757Z"
   },
   {
    "duration": 11,
    "start_time": "2023-06-07T08:15:53.690Z"
   },
   {
    "duration": 2361,
    "start_time": "2023-06-07T08:17:42.439Z"
   },
   {
    "duration": 1072,
    "start_time": "2023-06-07T08:18:14.444Z"
   },
   {
    "duration": 14,
    "start_time": "2023-06-07T08:18:40.397Z"
   },
   {
    "duration": 90,
    "start_time": "2023-06-07T08:19:59.861Z"
   },
   {
    "duration": 91,
    "start_time": "2023-06-07T08:20:24.955Z"
   },
   {
    "duration": 36,
    "start_time": "2023-06-07T08:20:42.339Z"
   },
   {
    "duration": 59,
    "start_time": "2023-06-07T08:21:12.003Z"
   },
   {
    "duration": 7,
    "start_time": "2023-06-07T08:21:30.452Z"
   },
   {
    "duration": 6,
    "start_time": "2023-06-07T08:21:32.620Z"
   },
   {
    "duration": 6,
    "start_time": "2023-06-07T08:21:33.839Z"
   },
   {
    "duration": 38,
    "start_time": "2023-06-07T08:21:36.267Z"
   },
   {
    "duration": 36,
    "start_time": "2023-06-07T08:22:16.897Z"
   },
   {
    "duration": 14,
    "start_time": "2023-06-07T08:22:27.675Z"
   },
   {
    "duration": 13,
    "start_time": "2023-06-07T08:23:22.108Z"
   },
   {
    "duration": 4,
    "start_time": "2023-06-07T08:24:04.122Z"
   },
   {
    "duration": 12,
    "start_time": "2023-06-07T08:25:06.876Z"
   },
   {
    "duration": 12,
    "start_time": "2023-06-07T08:25:26.604Z"
   },
   {
    "duration": 14,
    "start_time": "2023-06-07T08:26:39.678Z"
   },
   {
    "duration": 440,
    "start_time": "2023-06-07T08:27:22.771Z"
   },
   {
    "duration": 17,
    "start_time": "2023-06-07T08:27:47.579Z"
   },
   {
    "duration": 16,
    "start_time": "2023-06-07T08:28:02.778Z"
   },
   {
    "duration": 14,
    "start_time": "2023-06-07T08:28:33.303Z"
   },
   {
    "duration": 17,
    "start_time": "2023-06-07T08:28:50.578Z"
   },
   {
    "duration": 8,
    "start_time": "2023-06-07T08:29:30.376Z"
   },
   {
    "duration": 11,
    "start_time": "2023-06-07T08:30:05.963Z"
   },
   {
    "duration": 11,
    "start_time": "2023-06-07T08:31:09.916Z"
   },
   {
    "duration": 13,
    "start_time": "2023-06-07T08:31:16.179Z"
   },
   {
    "duration": 4,
    "start_time": "2023-06-07T08:45:19.952Z"
   },
   {
    "duration": 5651,
    "start_time": "2023-06-07T08:49:26.081Z"
   },
   {
    "duration": 11,
    "start_time": "2023-06-07T08:49:52.255Z"
   },
   {
    "duration": 16,
    "start_time": "2023-06-07T08:49:58.619Z"
   },
   {
    "duration": 14,
    "start_time": "2023-06-07T08:50:19.450Z"
   },
   {
    "duration": 4,
    "start_time": "2023-06-07T08:51:13.546Z"
   },
   {
    "duration": 4,
    "start_time": "2023-06-07T08:51:30.827Z"
   },
   {
    "duration": 8,
    "start_time": "2023-06-07T08:52:40.821Z"
   },
   {
    "duration": 7,
    "start_time": "2023-06-07T08:52:53.574Z"
   },
   {
    "duration": 1444,
    "start_time": "2023-06-07T08:54:56.922Z"
   },
   {
    "duration": 4,
    "start_time": "2023-06-07T08:55:02.636Z"
   },
   {
    "duration": 67,
    "start_time": "2023-06-07T11:43:53.085Z"
   },
   {
    "duration": 6,
    "start_time": "2023-06-07T11:44:03.677Z"
   },
   {
    "duration": 1814,
    "start_time": "2023-06-07T11:45:45.339Z"
   },
   {
    "duration": 4,
    "start_time": "2023-06-07T11:46:03.893Z"
   },
   {
    "duration": 392,
    "start_time": "2023-06-07T11:47:15.418Z"
   },
   {
    "duration": 44,
    "start_time": "2023-06-07T11:56:21.398Z"
   },
   {
    "duration": 35,
    "start_time": "2023-06-07T11:56:26.142Z"
   },
   {
    "duration": 27,
    "start_time": "2023-06-07T12:00:41.947Z"
   },
   {
    "duration": 34,
    "start_time": "2023-06-07T12:01:00.042Z"
   },
   {
    "duration": 33,
    "start_time": "2023-06-07T12:02:33.641Z"
   },
   {
    "duration": 29,
    "start_time": "2023-06-07T12:02:40.555Z"
   },
   {
    "duration": 13,
    "start_time": "2023-06-07T12:03:25.602Z"
   },
   {
    "duration": 33,
    "start_time": "2023-06-07T12:08:49.338Z"
   },
   {
    "duration": 6,
    "start_time": "2023-06-07T12:11:48.779Z"
   },
   {
    "duration": 14,
    "start_time": "2023-06-07T12:11:55.500Z"
   },
   {
    "duration": 9,
    "start_time": "2023-06-07T12:12:21.412Z"
   },
   {
    "duration": 4,
    "start_time": "2023-06-07T12:15:52.339Z"
   },
   {
    "duration": 10,
    "start_time": "2023-06-07T12:17:39.886Z"
   },
   {
    "duration": 158,
    "start_time": "2023-06-07T12:17:49.800Z"
   },
   {
    "duration": 169,
    "start_time": "2023-06-07T12:17:50.785Z"
   },
   {
    "duration": 302,
    "start_time": "2023-06-07T12:17:51.642Z"
   },
   {
    "duration": 134,
    "start_time": "2023-06-07T12:17:52.468Z"
   },
   {
    "duration": 272,
    "start_time": "2023-06-07T12:17:53.069Z"
   },
   {
    "duration": 125,
    "start_time": "2023-06-07T12:17:53.803Z"
   },
   {
    "duration": 208,
    "start_time": "2023-06-07T12:17:56.575Z"
   },
   {
    "duration": 8,
    "start_time": "2023-06-07T12:17:56.882Z"
   },
   {
    "duration": 182,
    "start_time": "2023-06-07T12:17:57.705Z"
   },
   {
    "duration": 21,
    "start_time": "2023-06-07T12:17:58.550Z"
   },
   {
    "duration": 3,
    "start_time": "2023-06-07T12:17:59.142Z"
   },
   {
    "duration": 25,
    "start_time": "2023-06-07T12:18:00.360Z"
   },
   {
    "duration": 7,
    "start_time": "2023-06-07T12:18:18.641Z"
   },
   {
    "duration": 10,
    "start_time": "2023-06-07T12:19:00.958Z"
   },
   {
    "duration": 5,
    "start_time": "2023-06-07T12:19:48.551Z"
   },
   {
    "duration": 8,
    "start_time": "2023-06-07T12:19:57.493Z"
   },
   {
    "duration": 7,
    "start_time": "2023-06-07T12:21:27.665Z"
   },
   {
    "duration": 29,
    "start_time": "2023-06-07T12:42:14.336Z"
   },
   {
    "duration": 18,
    "start_time": "2023-06-07T12:42:22.946Z"
   },
   {
    "duration": 6,
    "start_time": "2023-06-07T12:42:29.369Z"
   },
   {
    "duration": 135,
    "start_time": "2023-06-07T12:45:55.350Z"
   },
   {
    "duration": 245,
    "start_time": "2023-06-07T12:46:01.598Z"
   },
   {
    "duration": 187,
    "start_time": "2023-06-07T12:46:31.691Z"
   },
   {
    "duration": 557,
    "start_time": "2023-06-07T12:46:53.644Z"
   },
   {
    "duration": 60,
    "start_time": "2023-06-07T12:48:23.299Z"
   },
   {
    "duration": 8,
    "start_time": "2023-06-07T12:48:32.442Z"
   },
   {
    "duration": 1505,
    "start_time": "2023-06-07T12:48:38.543Z"
   },
   {
    "duration": 3,
    "start_time": "2023-06-07T12:48:40.050Z"
   },
   {
    "duration": 116,
    "start_time": "2023-06-07T12:48:40.054Z"
   },
   {
    "duration": 208,
    "start_time": "2023-06-07T12:48:40.172Z"
   },
   {
    "duration": 630,
    "start_time": "2023-06-07T12:48:40.382Z"
   },
   {
    "duration": 86,
    "start_time": "2023-06-07T12:48:41.014Z"
   },
   {
    "duration": 9,
    "start_time": "2023-06-07T12:48:41.102Z"
   },
   {
    "duration": 38,
    "start_time": "2023-06-07T12:48:41.113Z"
   },
   {
    "duration": 7,
    "start_time": "2023-06-07T12:48:41.153Z"
   },
   {
    "duration": 44,
    "start_time": "2023-06-07T12:48:41.161Z"
   },
   {
    "duration": 45,
    "start_time": "2023-06-07T12:48:41.207Z"
   },
   {
    "duration": 11,
    "start_time": "2023-06-07T12:48:41.253Z"
   },
   {
    "duration": 59,
    "start_time": "2023-06-07T12:48:41.266Z"
   },
   {
    "duration": 14,
    "start_time": "2023-06-07T12:48:41.327Z"
   },
   {
    "duration": 16,
    "start_time": "2023-06-07T12:48:41.342Z"
   },
   {
    "duration": 124,
    "start_time": "2023-06-07T12:48:41.359Z"
   },
   {
    "duration": 187,
    "start_time": "2023-06-07T12:48:41.485Z"
   },
   {
    "duration": 11,
    "start_time": "2023-06-07T12:48:41.673Z"
   },
   {
    "duration": 13,
    "start_time": "2023-06-07T12:48:41.685Z"
   },
   {
    "duration": 36,
    "start_time": "2023-06-07T12:48:41.699Z"
   },
   {
    "duration": 25,
    "start_time": "2023-06-07T12:48:41.738Z"
   },
   {
    "duration": 5,
    "start_time": "2023-06-07T12:48:41.764Z"
   },
   {
    "duration": 15,
    "start_time": "2023-06-07T12:48:41.770Z"
   },
   {
    "duration": 25,
    "start_time": "2023-06-07T12:48:41.787Z"
   },
   {
    "duration": 33,
    "start_time": "2023-06-07T12:48:41.814Z"
   },
   {
    "duration": 8,
    "start_time": "2023-06-07T12:48:41.849Z"
   },
   {
    "duration": 16,
    "start_time": "2023-06-07T12:48:41.858Z"
   },
   {
    "duration": 170,
    "start_time": "2023-06-07T12:48:41.875Z"
   },
   {
    "duration": 0,
    "start_time": "2023-06-07T12:48:42.047Z"
   },
   {
    "duration": 0,
    "start_time": "2023-06-07T12:48:42.048Z"
   },
   {
    "duration": 0,
    "start_time": "2023-06-07T12:48:42.049Z"
   },
   {
    "duration": 0,
    "start_time": "2023-06-07T12:48:42.050Z"
   },
   {
    "duration": 0,
    "start_time": "2023-06-07T12:48:42.052Z"
   },
   {
    "duration": 0,
    "start_time": "2023-06-07T12:48:42.053Z"
   },
   {
    "duration": 0,
    "start_time": "2023-06-07T12:48:42.054Z"
   },
   {
    "duration": 0,
    "start_time": "2023-06-07T12:48:42.055Z"
   },
   {
    "duration": 0,
    "start_time": "2023-06-07T12:48:42.056Z"
   },
   {
    "duration": 0,
    "start_time": "2023-06-07T12:48:42.057Z"
   },
   {
    "duration": 0,
    "start_time": "2023-06-07T12:48:42.058Z"
   },
   {
    "duration": 0,
    "start_time": "2023-06-07T12:48:42.059Z"
   },
   {
    "duration": 0,
    "start_time": "2023-06-07T12:48:42.060Z"
   },
   {
    "duration": 0,
    "start_time": "2023-06-07T12:48:42.060Z"
   },
   {
    "duration": 0,
    "start_time": "2023-06-07T12:48:42.061Z"
   },
   {
    "duration": 0,
    "start_time": "2023-06-07T12:48:42.062Z"
   },
   {
    "duration": 0,
    "start_time": "2023-06-07T12:48:42.063Z"
   },
   {
    "duration": 0,
    "start_time": "2023-06-07T12:48:42.064Z"
   },
   {
    "duration": 0,
    "start_time": "2023-06-07T12:48:42.065Z"
   },
   {
    "duration": 0,
    "start_time": "2023-06-07T12:48:42.066Z"
   },
   {
    "duration": 0,
    "start_time": "2023-06-07T12:48:42.067Z"
   },
   {
    "duration": 0,
    "start_time": "2023-06-07T12:48:42.068Z"
   },
   {
    "duration": 0,
    "start_time": "2023-06-07T12:48:42.069Z"
   },
   {
    "duration": 0,
    "start_time": "2023-06-07T12:48:42.070Z"
   },
   {
    "duration": 0,
    "start_time": "2023-06-07T12:48:42.071Z"
   },
   {
    "duration": 0,
    "start_time": "2023-06-07T12:48:42.071Z"
   },
   {
    "duration": 0,
    "start_time": "2023-06-07T12:48:42.072Z"
   },
   {
    "duration": 0,
    "start_time": "2023-06-07T12:48:42.074Z"
   },
   {
    "duration": 0,
    "start_time": "2023-06-07T12:48:42.075Z"
   },
   {
    "duration": 0,
    "start_time": "2023-06-07T12:48:42.076Z"
   },
   {
    "duration": 0,
    "start_time": "2023-06-07T12:48:42.077Z"
   },
   {
    "duration": 0,
    "start_time": "2023-06-07T12:48:42.078Z"
   },
   {
    "duration": 0,
    "start_time": "2023-06-07T12:48:42.079Z"
   },
   {
    "duration": 0,
    "start_time": "2023-06-07T12:48:42.080Z"
   },
   {
    "duration": 110,
    "start_time": "2023-06-07T12:48:48.583Z"
   },
   {
    "duration": 7,
    "start_time": "2023-06-07T12:48:53.714Z"
   },
   {
    "duration": 2,
    "start_time": "2023-06-07T12:48:54.098Z"
   },
   {
    "duration": 55,
    "start_time": "2023-06-07T12:48:54.495Z"
   },
   {
    "duration": 85,
    "start_time": "2023-06-07T12:48:54.873Z"
   },
   {
    "duration": 496,
    "start_time": "2023-06-07T12:48:55.281Z"
   },
   {
    "duration": 63,
    "start_time": "2023-06-07T12:48:55.779Z"
   },
   {
    "duration": 8,
    "start_time": "2023-06-07T12:48:56.005Z"
   },
   {
    "duration": 4,
    "start_time": "2023-06-07T12:48:56.399Z"
   },
   {
    "duration": 6,
    "start_time": "2023-06-07T12:48:56.582Z"
   },
   {
    "duration": 22,
    "start_time": "2023-06-07T12:48:56.764Z"
   },
   {
    "duration": 41,
    "start_time": "2023-06-07T12:48:57.165Z"
   },
   {
    "duration": 18,
    "start_time": "2023-06-07T12:48:57.350Z"
   },
   {
    "duration": 77,
    "start_time": "2023-06-07T12:48:57.552Z"
   },
   {
    "duration": 24,
    "start_time": "2023-06-07T12:48:57.714Z"
   },
   {
    "duration": 13,
    "start_time": "2023-06-07T12:48:57.936Z"
   },
   {
    "duration": 107,
    "start_time": "2023-06-07T12:48:58.304Z"
   },
   {
    "duration": 167,
    "start_time": "2023-06-07T12:48:58.506Z"
   },
   {
    "duration": 10,
    "start_time": "2023-06-07T12:48:58.698Z"
   },
   {
    "duration": 10,
    "start_time": "2023-06-07T12:48:59.093Z"
   },
   {
    "duration": 38,
    "start_time": "2023-06-07T12:48:59.914Z"
   },
   {
    "duration": 27,
    "start_time": "2023-06-07T12:49:00.111Z"
   },
   {
    "duration": 4,
    "start_time": "2023-06-07T12:49:00.945Z"
   },
   {
    "duration": 4,
    "start_time": "2023-06-07T12:49:01.146Z"
   },
   {
    "duration": 10,
    "start_time": "2023-06-07T12:49:01.555Z"
   },
   {
    "duration": 8,
    "start_time": "2023-06-07T12:49:01.994Z"
   },
   {
    "duration": 5,
    "start_time": "2023-06-07T12:49:02.207Z"
   },
   {
    "duration": 6,
    "start_time": "2023-06-07T12:49:02.395Z"
   },
   {
    "duration": 196,
    "start_time": "2023-06-07T12:49:02.610Z"
   },
   {
    "duration": 110,
    "start_time": "2023-06-07T12:49:03.456Z"
   },
   {
    "duration": 0,
    "start_time": "2023-06-07T12:49:03.568Z"
   },
   {
    "duration": 0,
    "start_time": "2023-06-07T12:49:03.569Z"
   },
   {
    "duration": 0,
    "start_time": "2023-06-07T12:49:03.571Z"
   },
   {
    "duration": 16,
    "start_time": "2023-06-07T12:49:04.141Z"
   },
   {
    "duration": 6,
    "start_time": "2023-06-07T12:49:04.357Z"
   },
   {
    "duration": 15,
    "start_time": "2023-06-07T12:49:05.050Z"
   },
   {
    "duration": 108,
    "start_time": "2023-06-07T12:49:05.279Z"
   },
   {
    "duration": 120,
    "start_time": "2023-06-07T12:49:05.945Z"
   },
   {
    "duration": 15,
    "start_time": "2023-06-07T12:49:06.142Z"
   },
   {
    "duration": 10,
    "start_time": "2023-06-07T12:49:06.383Z"
   },
   {
    "duration": 4,
    "start_time": "2023-06-07T12:49:06.596Z"
   },
   {
    "duration": 24,
    "start_time": "2023-06-07T12:49:06.809Z"
   },
   {
    "duration": 92,
    "start_time": "2023-06-07T12:49:07.486Z"
   },
   {
    "duration": 160,
    "start_time": "2023-06-07T12:49:08.115Z"
   },
   {
    "duration": 37,
    "start_time": "2023-06-07T12:49:09.153Z"
   },
   {
    "duration": 12,
    "start_time": "2023-06-07T12:49:10.158Z"
   },
   {
    "duration": 21,
    "start_time": "2023-06-07T12:49:11.098Z"
   },
   {
    "duration": 9,
    "start_time": "2023-06-07T12:49:11.610Z"
   },
   {
    "duration": 114,
    "start_time": "2023-06-07T12:49:12.265Z"
   },
   {
    "duration": 11,
    "start_time": "2023-06-07T12:49:18.918Z"
   },
   {
    "duration": 99,
    "start_time": "2023-06-07T12:49:28.043Z"
   },
   {
    "duration": 120,
    "start_time": "2023-06-07T12:49:28.659Z"
   },
   {
    "duration": 158,
    "start_time": "2023-06-07T12:49:29.185Z"
   },
   {
    "duration": 12,
    "start_time": "2023-06-07T12:49:29.985Z"
   },
   {
    "duration": 341,
    "start_time": "2023-06-07T12:51:24.812Z"
   },
   {
    "duration": 1937,
    "start_time": "2023-06-07T12:51:52.425Z"
   },
   {
    "duration": 1633,
    "start_time": "2023-06-07T12:53:51.965Z"
   },
   {
    "duration": 3,
    "start_time": "2023-06-07T12:53:53.600Z"
   },
   {
    "duration": 106,
    "start_time": "2023-06-07T12:53:53.604Z"
   },
   {
    "duration": 278,
    "start_time": "2023-06-07T12:53:53.712Z"
   },
   {
    "duration": 953,
    "start_time": "2023-06-07T12:53:53.993Z"
   },
   {
    "duration": 119,
    "start_time": "2023-06-07T12:53:54.949Z"
   },
   {
    "duration": 11,
    "start_time": "2023-06-07T12:53:55.070Z"
   },
   {
    "duration": 16,
    "start_time": "2023-06-07T12:53:55.083Z"
   },
   {
    "duration": 12,
    "start_time": "2023-06-07T12:53:55.100Z"
   },
   {
    "duration": 85,
    "start_time": "2023-06-07T12:53:55.114Z"
   },
   {
    "duration": 49,
    "start_time": "2023-06-07T12:53:55.202Z"
   },
   {
    "duration": 24,
    "start_time": "2023-06-07T12:53:55.253Z"
   },
   {
    "duration": 109,
    "start_time": "2023-06-07T12:53:55.282Z"
   },
   {
    "duration": 5,
    "start_time": "2023-06-07T12:53:55.395Z"
   },
   {
    "duration": 66,
    "start_time": "2023-06-07T12:53:55.401Z"
   },
   {
    "duration": 189,
    "start_time": "2023-06-07T12:53:55.469Z"
   },
   {
    "duration": 271,
    "start_time": "2023-06-07T12:53:55.659Z"
   },
   {
    "duration": 13,
    "start_time": "2023-06-07T12:53:55.931Z"
   },
   {
    "duration": 56,
    "start_time": "2023-06-07T12:53:55.945Z"
   },
   {
    "duration": 11,
    "start_time": "2023-06-07T12:53:56.003Z"
   },
   {
    "duration": 67,
    "start_time": "2023-06-07T12:53:56.015Z"
   },
   {
    "duration": 8,
    "start_time": "2023-06-07T12:53:56.083Z"
   },
   {
    "duration": 8,
    "start_time": "2023-06-07T12:53:56.092Z"
   },
   {
    "duration": 28,
    "start_time": "2023-06-07T12:53:56.102Z"
   },
   {
    "duration": 33,
    "start_time": "2023-06-07T12:53:56.138Z"
   },
   {
    "duration": 9,
    "start_time": "2023-06-07T12:53:56.173Z"
   },
   {
    "duration": 9,
    "start_time": "2023-06-07T12:53:56.183Z"
   },
   {
    "duration": 242,
    "start_time": "2023-06-07T12:53:56.194Z"
   },
   {
    "duration": 0,
    "start_time": "2023-06-07T12:53:56.439Z"
   },
   {
    "duration": 0,
    "start_time": "2023-06-07T12:53:56.441Z"
   },
   {
    "duration": 0,
    "start_time": "2023-06-07T12:53:56.442Z"
   },
   {
    "duration": 0,
    "start_time": "2023-06-07T12:53:56.444Z"
   },
   {
    "duration": 0,
    "start_time": "2023-06-07T12:53:56.446Z"
   },
   {
    "duration": 0,
    "start_time": "2023-06-07T12:53:56.447Z"
   },
   {
    "duration": 0,
    "start_time": "2023-06-07T12:53:56.448Z"
   },
   {
    "duration": 0,
    "start_time": "2023-06-07T12:53:56.449Z"
   },
   {
    "duration": 0,
    "start_time": "2023-06-07T12:53:56.453Z"
   },
   {
    "duration": 0,
    "start_time": "2023-06-07T12:53:56.455Z"
   },
   {
    "duration": 0,
    "start_time": "2023-06-07T12:53:56.456Z"
   },
   {
    "duration": 0,
    "start_time": "2023-06-07T12:53:56.457Z"
   },
   {
    "duration": 0,
    "start_time": "2023-06-07T12:53:56.458Z"
   },
   {
    "duration": 0,
    "start_time": "2023-06-07T12:53:56.460Z"
   },
   {
    "duration": 0,
    "start_time": "2023-06-07T12:53:56.462Z"
   },
   {
    "duration": 0,
    "start_time": "2023-06-07T12:53:56.464Z"
   },
   {
    "duration": 0,
    "start_time": "2023-06-07T12:53:56.465Z"
   },
   {
    "duration": 0,
    "start_time": "2023-06-07T12:53:56.467Z"
   },
   {
    "duration": 0,
    "start_time": "2023-06-07T12:53:56.469Z"
   },
   {
    "duration": 1,
    "start_time": "2023-06-07T12:53:56.470Z"
   },
   {
    "duration": 0,
    "start_time": "2023-06-07T12:53:56.472Z"
   },
   {
    "duration": 0,
    "start_time": "2023-06-07T12:53:56.475Z"
   },
   {
    "duration": 0,
    "start_time": "2023-06-07T12:53:56.476Z"
   },
   {
    "duration": 0,
    "start_time": "2023-06-07T12:53:56.479Z"
   },
   {
    "duration": 0,
    "start_time": "2023-06-07T12:53:56.480Z"
   },
   {
    "duration": 0,
    "start_time": "2023-06-07T12:53:56.481Z"
   },
   {
    "duration": 0,
    "start_time": "2023-06-07T12:53:56.482Z"
   },
   {
    "duration": 0,
    "start_time": "2023-06-07T12:53:56.484Z"
   },
   {
    "duration": 0,
    "start_time": "2023-06-07T12:53:56.485Z"
   },
   {
    "duration": 0,
    "start_time": "2023-06-07T12:53:56.518Z"
   },
   {
    "duration": 0,
    "start_time": "2023-06-07T12:53:56.519Z"
   },
   {
    "duration": 0,
    "start_time": "2023-06-07T12:53:56.521Z"
   },
   {
    "duration": 0,
    "start_time": "2023-06-07T12:53:56.522Z"
   },
   {
    "duration": 0,
    "start_time": "2023-06-07T12:53:56.522Z"
   },
   {
    "duration": 8,
    "start_time": "2023-06-07T12:53:57.714Z"
   },
   {
    "duration": 3,
    "start_time": "2023-06-07T12:53:58.131Z"
   },
   {
    "duration": 32,
    "start_time": "2023-06-07T12:53:58.543Z"
   },
   {
    "duration": 102,
    "start_time": "2023-06-07T12:53:58.977Z"
   },
   {
    "duration": 515,
    "start_time": "2023-06-07T12:53:59.399Z"
   },
   {
    "duration": 67,
    "start_time": "2023-06-07T12:53:59.915Z"
   },
   {
    "duration": 9,
    "start_time": "2023-06-07T12:54:00.263Z"
   },
   {
    "duration": 5,
    "start_time": "2023-06-07T12:54:00.681Z"
   },
   {
    "duration": 5,
    "start_time": "2023-06-07T12:54:00.899Z"
   },
   {
    "duration": 22,
    "start_time": "2023-06-07T12:54:01.131Z"
   },
   {
    "duration": 36,
    "start_time": "2023-06-07T12:54:01.547Z"
   },
   {
    "duration": 17,
    "start_time": "2023-06-07T12:54:01.759Z"
   },
   {
    "duration": 102,
    "start_time": "2023-06-07T12:54:01.974Z"
   },
   {
    "duration": 5,
    "start_time": "2023-06-07T12:54:02.200Z"
   },
   {
    "duration": 13,
    "start_time": "2023-06-07T12:54:02.410Z"
   },
   {
    "duration": 134,
    "start_time": "2023-06-07T12:54:02.863Z"
   },
   {
    "duration": 208,
    "start_time": "2023-06-07T12:54:03.076Z"
   },
   {
    "duration": 13,
    "start_time": "2023-06-07T12:54:03.335Z"
   },
   {
    "duration": 8,
    "start_time": "2023-06-07T12:54:03.776Z"
   },
   {
    "duration": 9,
    "start_time": "2023-06-07T12:54:04.699Z"
   },
   {
    "duration": 10,
    "start_time": "2023-06-07T12:54:04.943Z"
   },
   {
    "duration": 4,
    "start_time": "2023-06-07T12:54:05.959Z"
   },
   {
    "duration": 4,
    "start_time": "2023-06-07T12:54:06.169Z"
   },
   {
    "duration": 9,
    "start_time": "2023-06-07T12:54:06.976Z"
   },
   {
    "duration": 9,
    "start_time": "2023-06-07T12:54:07.499Z"
   },
   {
    "duration": 111,
    "start_time": "2023-06-07T12:55:38.175Z"
   },
   {
    "duration": 4,
    "start_time": "2023-06-07T12:55:46.410Z"
   },
   {
    "duration": 2,
    "start_time": "2023-06-07T12:55:46.798Z"
   },
   {
    "duration": 34,
    "start_time": "2023-06-07T12:55:47.200Z"
   },
   {
    "duration": 86,
    "start_time": "2023-06-07T12:55:47.593Z"
   },
   {
    "duration": 420,
    "start_time": "2023-06-07T12:55:48.005Z"
   },
   {
    "duration": 44,
    "start_time": "2023-06-07T12:55:48.426Z"
   },
   {
    "duration": 8,
    "start_time": "2023-06-07T12:55:48.804Z"
   },
   {
    "duration": 4,
    "start_time": "2023-06-07T12:55:49.201Z"
   },
   {
    "duration": 8,
    "start_time": "2023-06-07T12:55:49.427Z"
   },
   {
    "duration": 19,
    "start_time": "2023-06-07T12:55:49.637Z"
   },
   {
    "duration": 31,
    "start_time": "2023-06-07T12:55:50.034Z"
   },
   {
    "duration": 16,
    "start_time": "2023-06-07T12:55:50.227Z"
   },
   {
    "duration": 67,
    "start_time": "2023-06-07T12:55:50.402Z"
   },
   {
    "duration": 5,
    "start_time": "2023-06-07T12:55:50.595Z"
   },
   {
    "duration": 7,
    "start_time": "2023-06-07T12:55:50.781Z"
   },
   {
    "duration": 93,
    "start_time": "2023-06-07T12:55:51.145Z"
   },
   {
    "duration": 172,
    "start_time": "2023-06-07T12:55:51.325Z"
   },
   {
    "duration": 14,
    "start_time": "2023-06-07T12:55:51.542Z"
   },
   {
    "duration": 10,
    "start_time": "2023-06-07T12:55:51.891Z"
   },
   {
    "duration": 11,
    "start_time": "2023-06-07T12:55:52.675Z"
   },
   {
    "duration": 10,
    "start_time": "2023-06-07T12:55:52.895Z"
   },
   {
    "duration": 5,
    "start_time": "2023-06-07T12:55:53.694Z"
   },
   {
    "duration": 6,
    "start_time": "2023-06-07T12:55:53.901Z"
   },
   {
    "duration": 10,
    "start_time": "2023-06-07T12:55:54.301Z"
   },
   {
    "duration": 9,
    "start_time": "2023-06-07T12:55:54.742Z"
   },
   {
    "duration": 5,
    "start_time": "2023-06-07T12:55:54.932Z"
   },
   {
    "duration": 6,
    "start_time": "2023-06-07T12:55:55.162Z"
   },
   {
    "duration": 126,
    "start_time": "2023-06-07T12:55:55.374Z"
   },
   {
    "duration": 104,
    "start_time": "2023-06-07T12:55:55.590Z"
   },
   {
    "duration": 11,
    "start_time": "2023-06-07T12:55:55.798Z"
   },
   {
    "duration": 81,
    "start_time": "2023-06-07T12:55:56.015Z"
   },
   {
    "duration": 8,
    "start_time": "2023-06-07T12:55:56.232Z"
   },
   {
    "duration": 20,
    "start_time": "2023-06-07T12:55:56.846Z"
   },
   {
    "duration": 8,
    "start_time": "2023-06-07T12:55:57.071Z"
   },
   {
    "duration": 19,
    "start_time": "2023-06-07T12:55:57.505Z"
   },
   {
    "duration": 95,
    "start_time": "2023-06-07T12:55:57.712Z"
   },
   {
    "duration": 119,
    "start_time": "2023-06-07T12:55:58.146Z"
   },
   {
    "duration": 15,
    "start_time": "2023-06-07T12:55:58.380Z"
   },
   {
    "duration": 8,
    "start_time": "2023-06-07T12:55:58.581Z"
   },
   {
    "duration": 6,
    "start_time": "2023-06-07T12:55:58.811Z"
   },
   {
    "duration": 8,
    "start_time": "2023-06-07T12:55:58.997Z"
   },
   {
    "duration": 387,
    "start_time": "2023-06-07T12:55:59.663Z"
   },
   {
    "duration": 0,
    "start_time": "2023-06-07T12:56:00.051Z"
   },
   {
    "duration": 59,
    "start_time": "2023-06-07T12:56:00.078Z"
   },
   {
    "duration": 10,
    "start_time": "2023-06-07T12:56:00.471Z"
   },
   {
    "duration": 29,
    "start_time": "2023-06-07T12:56:00.908Z"
   },
   {
    "duration": 8,
    "start_time": "2023-06-07T12:56:01.091Z"
   },
   {
    "duration": 130,
    "start_time": "2023-06-07T12:56:01.315Z"
   },
   {
    "duration": 6,
    "start_time": "2023-06-07T12:56:01.707Z"
   },
   {
    "duration": 94,
    "start_time": "2023-06-07T12:56:05.882Z"
   },
   {
    "duration": 101,
    "start_time": "2023-06-07T12:56:06.080Z"
   },
   {
    "duration": 1843,
    "start_time": "2023-06-07T12:56:06.270Z"
   },
   {
    "duration": 0,
    "start_time": "2023-06-07T12:56:08.115Z"
   },
   {
    "duration": 2101,
    "start_time": "2023-06-07T12:56:20.199Z"
   },
   {
    "duration": 164,
    "start_time": "2023-06-07T12:56:41.841Z"
   },
   {
    "duration": 8,
    "start_time": "2023-06-07T14:09:46.251Z"
   },
   {
    "duration": 1385,
    "start_time": "2023-06-07T14:09:57.345Z"
   },
   {
    "duration": 5,
    "start_time": "2023-06-07T14:09:58.732Z"
   },
   {
    "duration": 58,
    "start_time": "2023-06-07T14:09:58.741Z"
   },
   {
    "duration": 80,
    "start_time": "2023-06-07T14:09:58.801Z"
   },
   {
    "duration": 480,
    "start_time": "2023-06-07T14:09:58.882Z"
   },
   {
    "duration": 33,
    "start_time": "2023-06-07T14:09:59.364Z"
   },
   {
    "duration": 9,
    "start_time": "2023-06-07T14:09:59.399Z"
   },
   {
    "duration": 25,
    "start_time": "2023-06-07T14:09:59.410Z"
   },
   {
    "duration": 26,
    "start_time": "2023-06-07T14:09:59.442Z"
   },
   {
    "duration": 28,
    "start_time": "2023-06-07T14:09:59.471Z"
   },
   {
    "duration": 46,
    "start_time": "2023-06-07T14:09:59.501Z"
   },
   {
    "duration": 18,
    "start_time": "2023-06-07T14:09:59.551Z"
   },
   {
    "duration": 87,
    "start_time": "2023-06-07T14:09:59.571Z"
   },
   {
    "duration": 5,
    "start_time": "2023-06-07T14:09:59.659Z"
   },
   {
    "duration": 28,
    "start_time": "2023-06-07T14:09:59.665Z"
   },
   {
    "duration": 113,
    "start_time": "2023-06-07T14:09:59.694Z"
   },
   {
    "duration": 190,
    "start_time": "2023-06-07T14:09:59.808Z"
   },
   {
    "duration": 38,
    "start_time": "2023-06-07T14:09:59.999Z"
   },
   {
    "duration": 64,
    "start_time": "2023-06-07T14:10:00.045Z"
   },
   {
    "duration": 121,
    "start_time": "2023-06-07T14:10:00.110Z"
   },
   {
    "duration": 73,
    "start_time": "2023-06-07T14:10:00.238Z"
   },
   {
    "duration": 53,
    "start_time": "2023-06-07T14:10:00.313Z"
   },
   {
    "duration": 35,
    "start_time": "2023-06-07T14:10:00.368Z"
   },
   {
    "duration": 70,
    "start_time": "2023-06-07T14:10:00.404Z"
   },
   {
    "duration": 30,
    "start_time": "2023-06-07T14:10:00.475Z"
   },
   {
    "duration": 55,
    "start_time": "2023-06-07T14:10:00.507Z"
   },
   {
    "duration": 29,
    "start_time": "2023-06-07T14:10:00.564Z"
   },
   {
    "duration": 150,
    "start_time": "2023-06-07T14:10:00.597Z"
   },
   {
    "duration": 0,
    "start_time": "2023-06-07T14:10:00.748Z"
   },
   {
    "duration": 0,
    "start_time": "2023-06-07T14:10:00.749Z"
   },
   {
    "duration": 0,
    "start_time": "2023-06-07T14:10:00.750Z"
   },
   {
    "duration": 0,
    "start_time": "2023-06-07T14:10:00.751Z"
   },
   {
    "duration": 0,
    "start_time": "2023-06-07T14:10:00.752Z"
   },
   {
    "duration": 0,
    "start_time": "2023-06-07T14:10:00.754Z"
   },
   {
    "duration": 0,
    "start_time": "2023-06-07T14:10:00.754Z"
   },
   {
    "duration": 0,
    "start_time": "2023-06-07T14:10:00.756Z"
   },
   {
    "duration": 0,
    "start_time": "2023-06-07T14:10:00.756Z"
   },
   {
    "duration": 1,
    "start_time": "2023-06-07T14:10:00.757Z"
   },
   {
    "duration": 0,
    "start_time": "2023-06-07T14:10:00.758Z"
   },
   {
    "duration": 0,
    "start_time": "2023-06-07T14:10:00.759Z"
   },
   {
    "duration": 0,
    "start_time": "2023-06-07T14:10:00.761Z"
   },
   {
    "duration": 0,
    "start_time": "2023-06-07T14:10:00.761Z"
   },
   {
    "duration": 0,
    "start_time": "2023-06-07T14:10:00.763Z"
   },
   {
    "duration": 0,
    "start_time": "2023-06-07T14:10:00.763Z"
   },
   {
    "duration": 0,
    "start_time": "2023-06-07T14:10:00.765Z"
   },
   {
    "duration": 0,
    "start_time": "2023-06-07T14:10:00.765Z"
   },
   {
    "duration": 0,
    "start_time": "2023-06-07T14:10:00.767Z"
   },
   {
    "duration": 0,
    "start_time": "2023-06-07T14:10:00.767Z"
   },
   {
    "duration": 0,
    "start_time": "2023-06-07T14:10:00.768Z"
   },
   {
    "duration": 0,
    "start_time": "2023-06-07T14:10:00.769Z"
   },
   {
    "duration": 0,
    "start_time": "2023-06-07T14:10:00.770Z"
   },
   {
    "duration": 0,
    "start_time": "2023-06-07T14:10:00.771Z"
   },
   {
    "duration": 0,
    "start_time": "2023-06-07T14:10:00.771Z"
   },
   {
    "duration": 0,
    "start_time": "2023-06-07T14:10:00.772Z"
   },
   {
    "duration": 0,
    "start_time": "2023-06-07T14:10:00.773Z"
   },
   {
    "duration": 0,
    "start_time": "2023-06-07T14:10:00.774Z"
   },
   {
    "duration": 0,
    "start_time": "2023-06-07T14:10:00.775Z"
   },
   {
    "duration": 0,
    "start_time": "2023-06-07T14:10:00.776Z"
   },
   {
    "duration": 0,
    "start_time": "2023-06-07T14:10:00.777Z"
   },
   {
    "duration": 0,
    "start_time": "2023-06-07T14:10:00.778Z"
   },
   {
    "duration": 0,
    "start_time": "2023-06-07T14:10:00.779Z"
   },
   {
    "duration": 0,
    "start_time": "2023-06-07T14:10:00.780Z"
   },
   {
    "duration": 4,
    "start_time": "2023-06-07T14:10:04.487Z"
   },
   {
    "duration": 17,
    "start_time": "2023-06-07T14:10:04.493Z"
   },
   {
    "duration": 59,
    "start_time": "2023-06-07T14:10:04.512Z"
   },
   {
    "duration": 82,
    "start_time": "2023-06-07T14:10:04.573Z"
   },
   {
    "duration": 445,
    "start_time": "2023-06-07T14:10:04.657Z"
   },
   {
    "duration": 55,
    "start_time": "2023-06-07T14:10:05.104Z"
   },
   {
    "duration": 11,
    "start_time": "2023-06-07T14:10:05.161Z"
   },
   {
    "duration": 14,
    "start_time": "2023-06-07T14:10:05.173Z"
   },
   {
    "duration": 6,
    "start_time": "2023-06-07T14:10:05.351Z"
   },
   {
    "duration": 24,
    "start_time": "2023-06-07T14:10:05.573Z"
   },
   {
    "duration": 36,
    "start_time": "2023-06-07T14:10:05.972Z"
   },
   {
    "duration": 11,
    "start_time": "2023-06-07T14:10:06.169Z"
   },
   {
    "duration": 67,
    "start_time": "2023-06-07T14:10:06.402Z"
   },
   {
    "duration": 5,
    "start_time": "2023-06-07T14:10:06.585Z"
   },
   {
    "duration": 7,
    "start_time": "2023-06-07T14:10:06.791Z"
   },
   {
    "duration": 103,
    "start_time": "2023-06-07T14:10:07.209Z"
   },
   {
    "duration": 172,
    "start_time": "2023-06-07T14:10:07.375Z"
   },
   {
    "duration": 10,
    "start_time": "2023-06-07T14:10:07.583Z"
   },
   {
    "duration": 10,
    "start_time": "2023-06-07T14:10:07.994Z"
   },
   {
    "duration": 11,
    "start_time": "2023-06-07T14:10:08.783Z"
   },
   {
    "duration": 14,
    "start_time": "2023-06-07T14:10:08.961Z"
   },
   {
    "duration": 6,
    "start_time": "2023-06-07T14:10:09.797Z"
   },
   {
    "duration": 5,
    "start_time": "2023-06-07T14:10:09.974Z"
   },
   {
    "duration": 12,
    "start_time": "2023-06-07T14:10:10.400Z"
   },
   {
    "duration": 19,
    "start_time": "2023-06-07T14:10:10.809Z"
   },
   {
    "duration": 17,
    "start_time": "2023-06-07T14:10:11.012Z"
   },
   {
    "duration": 5,
    "start_time": "2023-06-07T14:10:11.246Z"
   },
   {
    "duration": 415,
    "start_time": "2023-06-07T14:10:11.443Z"
   },
   {
    "duration": 0,
    "start_time": "2023-06-07T14:10:11.860Z"
   },
   {
    "duration": 0,
    "start_time": "2023-06-07T14:10:11.862Z"
   },
   {
    "duration": 142,
    "start_time": "2023-06-07T14:10:12.043Z"
   },
   {
    "duration": 9,
    "start_time": "2023-06-07T14:10:12.261Z"
   },
   {
    "duration": 15,
    "start_time": "2023-06-07T14:10:12.865Z"
   },
   {
    "duration": 7,
    "start_time": "2023-06-07T14:10:13.057Z"
   },
   {
    "duration": 16,
    "start_time": "2023-06-07T14:10:13.454Z"
   },
   {
    "duration": 119,
    "start_time": "2023-06-07T14:10:13.654Z"
   },
   {
    "duration": 92,
    "start_time": "2023-06-07T14:10:14.113Z"
   },
   {
    "duration": 20,
    "start_time": "2023-06-07T14:10:14.301Z"
   },
   {
    "duration": 7,
    "start_time": "2023-06-07T14:10:14.506Z"
   },
   {
    "duration": 4,
    "start_time": "2023-06-07T14:10:14.703Z"
   },
   {
    "duration": 7,
    "start_time": "2023-06-07T14:10:14.900Z"
   },
   {
    "duration": 201,
    "start_time": "2023-06-07T14:10:15.501Z"
   },
   {
    "duration": 188,
    "start_time": "2023-06-07T14:10:15.713Z"
   },
   {
    "duration": 82,
    "start_time": "2023-06-07T14:10:15.911Z"
   },
   {
    "duration": 11,
    "start_time": "2023-06-07T14:10:16.298Z"
   },
   {
    "duration": 46,
    "start_time": "2023-06-07T14:10:16.706Z"
   },
   {
    "duration": 11,
    "start_time": "2023-06-07T14:10:16.944Z"
   },
   {
    "duration": 333,
    "start_time": "2023-06-07T14:10:17.145Z"
   },
   {
    "duration": 6,
    "start_time": "2023-06-07T14:10:17.579Z"
   },
   {
    "duration": 505,
    "start_time": "2023-06-07T14:10:18.444Z"
   },
   {
    "duration": 0,
    "start_time": "2023-06-07T14:10:18.950Z"
   },
   {
    "duration": 0,
    "start_time": "2023-06-07T14:10:18.953Z"
   },
   {
    "duration": 125,
    "start_time": "2023-06-07T14:10:19.051Z"
   },
   {
    "duration": 8,
    "start_time": "2023-06-07T14:10:28.252Z"
   },
   {
    "duration": 8,
    "start_time": "2023-06-07T14:10:37.984Z"
   },
   {
    "duration": 11,
    "start_time": "2023-06-07T14:11:02.559Z"
   },
   {
    "duration": 381,
    "start_time": "2023-06-07T14:11:10.986Z"
   },
   {
    "duration": 10,
    "start_time": "2023-06-07T14:13:10.041Z"
   },
   {
    "duration": 205,
    "start_time": "2023-06-07T14:14:14.042Z"
   },
   {
    "duration": 1837,
    "start_time": "2023-06-07T14:19:14.209Z"
   },
   {
    "duration": 11384,
    "start_time": "2023-06-07T14:22:58.396Z"
   },
   {
    "duration": 46,
    "start_time": "2023-06-07T14:23:14.843Z"
   },
   {
    "duration": 15,
    "start_time": "2023-06-07T14:24:25.974Z"
   },
   {
    "duration": 25,
    "start_time": "2023-06-07T14:29:00.844Z"
   },
   {
    "duration": 205,
    "start_time": "2023-06-07T14:31:39.444Z"
   },
   {
    "duration": 62,
    "start_time": "2023-06-07T14:38:27.705Z"
   },
   {
    "duration": 81,
    "start_time": "2023-06-07T14:38:44.136Z"
   },
   {
    "duration": 14,
    "start_time": "2023-06-07T14:39:03.853Z"
   },
   {
    "duration": 19,
    "start_time": "2023-06-07T14:39:10.842Z"
   },
   {
    "duration": 1369,
    "start_time": "2023-06-08T04:53:00.775Z"
   },
   {
    "duration": 3,
    "start_time": "2023-06-08T04:53:02.145Z"
   },
   {
    "duration": 101,
    "start_time": "2023-06-08T04:53:02.150Z"
   },
   {
    "duration": 169,
    "start_time": "2023-06-08T04:53:02.253Z"
   },
   {
    "duration": 583,
    "start_time": "2023-06-08T04:53:02.423Z"
   },
   {
    "duration": 65,
    "start_time": "2023-06-08T04:53:03.008Z"
   },
   {
    "duration": 9,
    "start_time": "2023-06-08T04:53:03.074Z"
   },
   {
    "duration": 44,
    "start_time": "2023-06-08T04:53:03.085Z"
   },
   {
    "duration": 24,
    "start_time": "2023-06-08T04:53:03.131Z"
   },
   {
    "duration": 47,
    "start_time": "2023-06-08T04:53:03.157Z"
   },
   {
    "duration": 47,
    "start_time": "2023-06-08T04:53:03.206Z"
   },
   {
    "duration": 18,
    "start_time": "2023-06-08T04:53:03.255Z"
   },
   {
    "duration": 77,
    "start_time": "2023-06-08T04:53:03.274Z"
   },
   {
    "duration": 4,
    "start_time": "2023-06-08T04:53:03.353Z"
   },
   {
    "duration": 27,
    "start_time": "2023-06-08T04:53:03.358Z"
   },
   {
    "duration": 115,
    "start_time": "2023-06-08T04:53:03.386Z"
   },
   {
    "duration": 162,
    "start_time": "2023-06-08T04:53:03.502Z"
   },
   {
    "duration": 10,
    "start_time": "2023-06-08T04:53:03.666Z"
   },
   {
    "duration": 43,
    "start_time": "2023-06-08T04:53:03.678Z"
   },
   {
    "duration": 26,
    "start_time": "2023-06-08T04:53:03.723Z"
   },
   {
    "duration": 30,
    "start_time": "2023-06-08T04:53:03.750Z"
   },
   {
    "duration": 23,
    "start_time": "2023-06-08T04:53:03.781Z"
   },
   {
    "duration": 29,
    "start_time": "2023-06-08T04:53:03.805Z"
   },
   {
    "duration": 64,
    "start_time": "2023-06-08T04:53:03.836Z"
   },
   {
    "duration": 21,
    "start_time": "2023-06-08T04:53:03.901Z"
   },
   {
    "duration": 29,
    "start_time": "2023-06-08T04:53:03.926Z"
   },
   {
    "duration": 22,
    "start_time": "2023-06-08T04:53:03.957Z"
   },
   {
    "duration": 99,
    "start_time": "2023-06-08T04:53:03.984Z"
   },
   {
    "duration": 0,
    "start_time": "2023-06-08T04:53:04.085Z"
   },
   {
    "duration": 0,
    "start_time": "2023-06-08T04:53:04.086Z"
   },
   {
    "duration": 0,
    "start_time": "2023-06-08T04:53:04.087Z"
   },
   {
    "duration": 0,
    "start_time": "2023-06-08T04:53:04.088Z"
   },
   {
    "duration": 0,
    "start_time": "2023-06-08T04:53:04.090Z"
   },
   {
    "duration": 0,
    "start_time": "2023-06-08T04:53:04.091Z"
   },
   {
    "duration": 0,
    "start_time": "2023-06-08T04:53:04.092Z"
   },
   {
    "duration": 0,
    "start_time": "2023-06-08T04:53:04.093Z"
   },
   {
    "duration": 0,
    "start_time": "2023-06-08T04:53:04.094Z"
   },
   {
    "duration": 0,
    "start_time": "2023-06-08T04:53:04.095Z"
   },
   {
    "duration": 0,
    "start_time": "2023-06-08T04:53:04.096Z"
   },
   {
    "duration": 0,
    "start_time": "2023-06-08T04:53:04.098Z"
   },
   {
    "duration": 0,
    "start_time": "2023-06-08T04:53:04.099Z"
   },
   {
    "duration": 0,
    "start_time": "2023-06-08T04:53:04.099Z"
   },
   {
    "duration": 0,
    "start_time": "2023-06-08T04:53:04.101Z"
   },
   {
    "duration": 0,
    "start_time": "2023-06-08T04:53:04.102Z"
   },
   {
    "duration": 0,
    "start_time": "2023-06-08T04:53:04.103Z"
   },
   {
    "duration": 0,
    "start_time": "2023-06-08T04:53:04.104Z"
   },
   {
    "duration": 0,
    "start_time": "2023-06-08T04:53:04.106Z"
   },
   {
    "duration": 0,
    "start_time": "2023-06-08T04:53:04.107Z"
   },
   {
    "duration": 0,
    "start_time": "2023-06-08T04:53:04.108Z"
   },
   {
    "duration": 0,
    "start_time": "2023-06-08T04:53:04.109Z"
   },
   {
    "duration": 0,
    "start_time": "2023-06-08T04:53:04.110Z"
   },
   {
    "duration": 0,
    "start_time": "2023-06-08T04:53:04.111Z"
   },
   {
    "duration": 0,
    "start_time": "2023-06-08T04:53:04.112Z"
   },
   {
    "duration": 0,
    "start_time": "2023-06-08T04:53:04.113Z"
   },
   {
    "duration": 0,
    "start_time": "2023-06-08T04:53:04.114Z"
   },
   {
    "duration": 0,
    "start_time": "2023-06-08T04:53:04.115Z"
   },
   {
    "duration": 0,
    "start_time": "2023-06-08T04:53:04.116Z"
   },
   {
    "duration": 0,
    "start_time": "2023-06-08T04:53:04.117Z"
   },
   {
    "duration": 0,
    "start_time": "2023-06-08T04:53:04.118Z"
   },
   {
    "duration": 0,
    "start_time": "2023-06-08T04:53:04.119Z"
   },
   {
    "duration": 24,
    "start_time": "2023-06-08T04:53:37.751Z"
   },
   {
    "duration": 267,
    "start_time": "2023-06-08T04:54:21.398Z"
   },
   {
    "duration": 228,
    "start_time": "2023-06-08T04:55:24.575Z"
   },
   {
    "duration": 201,
    "start_time": "2023-06-08T04:55:41.536Z"
   },
   {
    "duration": 4,
    "start_time": "2023-06-08T05:03:00.194Z"
   },
   {
    "duration": 2,
    "start_time": "2023-06-08T05:03:00.630Z"
   },
   {
    "duration": 32,
    "start_time": "2023-06-08T05:03:01.013Z"
   },
   {
    "duration": 65,
    "start_time": "2023-06-08T05:03:01.445Z"
   },
   {
    "duration": 438,
    "start_time": "2023-06-08T05:03:01.881Z"
   },
   {
    "duration": 42,
    "start_time": "2023-06-08T05:03:02.324Z"
   },
   {
    "duration": 10,
    "start_time": "2023-06-08T05:03:02.734Z"
   },
   {
    "duration": 4,
    "start_time": "2023-06-08T05:03:03.144Z"
   },
   {
    "duration": 5,
    "start_time": "2023-06-08T05:03:03.347Z"
   },
   {
    "duration": 17,
    "start_time": "2023-06-08T05:03:03.547Z"
   },
   {
    "duration": 27,
    "start_time": "2023-06-08T05:03:03.972Z"
   },
   {
    "duration": 13,
    "start_time": "2023-06-08T05:03:04.177Z"
   },
   {
    "duration": 60,
    "start_time": "2023-06-08T05:03:04.386Z"
   },
   {
    "duration": 6,
    "start_time": "2023-06-08T05:03:04.601Z"
   },
   {
    "duration": 10,
    "start_time": "2023-06-08T05:03:04.795Z"
   },
   {
    "duration": 102,
    "start_time": "2023-06-08T05:03:05.232Z"
   },
   {
    "duration": 212,
    "start_time": "2023-06-08T05:03:05.424Z"
   },
   {
    "duration": 17,
    "start_time": "2023-06-08T05:03:05.641Z"
   },
   {
    "duration": 9,
    "start_time": "2023-06-08T05:03:06.063Z"
   },
   {
    "duration": 10,
    "start_time": "2023-06-08T05:03:06.928Z"
   },
   {
    "duration": 10,
    "start_time": "2023-06-08T05:03:07.112Z"
   },
   {
    "duration": 212,
    "start_time": "2023-06-08T05:03:07.764Z"
   },
   {
    "duration": 92,
    "start_time": "2023-06-08T05:03:07.978Z"
   },
   {
    "duration": 4,
    "start_time": "2023-06-08T05:03:08.641Z"
   },
   {
    "duration": 4,
    "start_time": "2023-06-08T05:03:08.848Z"
   },
   {
    "duration": 9,
    "start_time": "2023-06-08T05:03:09.303Z"
   },
   {
    "duration": 8,
    "start_time": "2023-06-08T05:03:09.703Z"
   },
   {
    "duration": 6,
    "start_time": "2023-06-08T05:03:09.912Z"
   },
   {
    "duration": 5,
    "start_time": "2023-06-08T05:03:10.129Z"
   },
   {
    "duration": 75,
    "start_time": "2023-06-08T05:03:10.569Z"
   },
   {
    "duration": 9,
    "start_time": "2023-06-08T05:03:10.804Z"
   },
   {
    "duration": 7,
    "start_time": "2023-06-08T05:03:11.423Z"
   },
   {
    "duration": 15,
    "start_time": "2023-06-08T05:03:11.647Z"
   },
   {
    "duration": 7,
    "start_time": "2023-06-08T05:03:11.850Z"
   },
   {
    "duration": 18,
    "start_time": "2023-06-08T05:03:12.286Z"
   },
   {
    "duration": 67,
    "start_time": "2023-06-08T05:03:12.503Z"
   },
   {
    "duration": 91,
    "start_time": "2023-06-08T05:03:12.967Z"
   },
   {
    "duration": 15,
    "start_time": "2023-06-08T05:03:13.156Z"
   },
   {
    "duration": 8,
    "start_time": "2023-06-08T05:03:13.380Z"
   },
   {
    "duration": 4,
    "start_time": "2023-06-08T05:03:13.583Z"
   },
   {
    "duration": 8,
    "start_time": "2023-06-08T05:03:13.808Z"
   },
   {
    "duration": 88,
    "start_time": "2023-06-08T05:03:14.453Z"
   },
   {
    "duration": 89,
    "start_time": "2023-06-08T05:03:14.674Z"
   },
   {
    "duration": 32,
    "start_time": "2023-06-08T05:03:14.885Z"
   },
   {
    "duration": 10,
    "start_time": "2023-06-08T05:03:15.328Z"
   },
   {
    "duration": 19,
    "start_time": "2023-06-08T05:03:15.777Z"
   },
   {
    "duration": 8,
    "start_time": "2023-06-08T05:03:16.005Z"
   },
   {
    "duration": 83,
    "start_time": "2023-06-08T05:03:16.239Z"
   },
   {
    "duration": 5,
    "start_time": "2023-06-08T05:03:16.673Z"
   },
   {
    "duration": 91,
    "start_time": "2023-06-08T05:03:17.546Z"
   },
   {
    "duration": 8,
    "start_time": "2023-06-08T05:05:38.497Z"
   },
   {
    "duration": 128,
    "start_time": "2023-06-08T05:23:51.176Z"
   },
   {
    "duration": 137,
    "start_time": "2023-06-08T05:24:20.131Z"
   },
   {
    "duration": 19,
    "start_time": "2023-06-08T05:25:16.755Z"
   },
   {
    "duration": 117,
    "start_time": "2023-06-08T05:26:05.256Z"
   },
   {
    "duration": 129,
    "start_time": "2023-06-08T05:26:17.367Z"
   },
   {
    "duration": 196,
    "start_time": "2023-06-08T05:26:30.971Z"
   },
   {
    "duration": 8,
    "start_time": "2023-06-08T05:33:48.561Z"
   },
   {
    "duration": 9,
    "start_time": "2023-06-08T05:33:53.868Z"
   },
   {
    "duration": 15,
    "start_time": "2023-06-08T05:34:39.477Z"
   },
   {
    "duration": 11,
    "start_time": "2023-06-08T05:34:52.471Z"
   },
   {
    "duration": 31,
    "start_time": "2023-06-08T05:37:47.776Z"
   },
   {
    "duration": 1093,
    "start_time": "2023-06-08T05:44:18.467Z"
   },
   {
    "duration": 3,
    "start_time": "2023-06-08T05:44:19.562Z"
   },
   {
    "duration": 62,
    "start_time": "2023-06-08T05:44:19.566Z"
   },
   {
    "duration": 66,
    "start_time": "2023-06-08T05:44:19.630Z"
   },
   {
    "duration": 439,
    "start_time": "2023-06-08T05:44:19.697Z"
   },
   {
    "duration": 30,
    "start_time": "2023-06-08T05:44:20.137Z"
   },
   {
    "duration": 10,
    "start_time": "2023-06-08T05:44:20.168Z"
   },
   {
    "duration": 16,
    "start_time": "2023-06-08T05:44:20.180Z"
   },
   {
    "duration": 11,
    "start_time": "2023-06-08T05:44:20.197Z"
   },
   {
    "duration": 19,
    "start_time": "2023-06-08T05:44:20.210Z"
   },
   {
    "duration": 30,
    "start_time": "2023-06-08T05:44:20.230Z"
   },
   {
    "duration": 10,
    "start_time": "2023-06-08T05:44:20.261Z"
   },
   {
    "duration": 73,
    "start_time": "2023-06-08T05:44:20.272Z"
   },
   {
    "duration": 5,
    "start_time": "2023-06-08T05:44:20.346Z"
   },
   {
    "duration": 30,
    "start_time": "2023-06-08T05:44:20.352Z"
   },
   {
    "duration": 110,
    "start_time": "2023-06-08T05:44:20.383Z"
   },
   {
    "duration": 157,
    "start_time": "2023-06-08T05:44:20.495Z"
   },
   {
    "duration": 11,
    "start_time": "2023-06-08T05:44:20.654Z"
   },
   {
    "duration": 24,
    "start_time": "2023-06-08T05:44:20.667Z"
   },
   {
    "duration": 10,
    "start_time": "2023-06-08T05:44:20.692Z"
   },
   {
    "duration": 26,
    "start_time": "2023-06-08T05:44:20.703Z"
   },
   {
    "duration": 298,
    "start_time": "2023-06-08T05:44:20.730Z"
   },
   {
    "duration": 6,
    "start_time": "2023-06-08T05:44:21.031Z"
   },
   {
    "duration": 55,
    "start_time": "2023-06-08T05:44:21.039Z"
   },
   {
    "duration": 37,
    "start_time": "2023-06-08T05:44:21.096Z"
   },
   {
    "duration": 21,
    "start_time": "2023-06-08T05:44:21.134Z"
   },
   {
    "duration": 16,
    "start_time": "2023-06-08T05:44:21.156Z"
   },
   {
    "duration": 10,
    "start_time": "2023-06-08T05:44:21.175Z"
   },
   {
    "duration": 32,
    "start_time": "2023-06-08T05:44:21.186Z"
   },
   {
    "duration": 37,
    "start_time": "2023-06-08T05:44:21.219Z"
   },
   {
    "duration": 34,
    "start_time": "2023-06-08T05:44:21.257Z"
   },
   {
    "duration": 12,
    "start_time": "2023-06-08T05:44:21.293Z"
   },
   {
    "duration": 14,
    "start_time": "2023-06-08T05:44:21.306Z"
   },
   {
    "duration": 14,
    "start_time": "2023-06-08T05:44:21.322Z"
   },
   {
    "duration": 7,
    "start_time": "2023-06-08T05:44:21.337Z"
   },
   {
    "duration": 19,
    "start_time": "2023-06-08T05:44:21.346Z"
   },
   {
    "duration": 15,
    "start_time": "2023-06-08T05:44:21.366Z"
   },
   {
    "duration": 39,
    "start_time": "2023-06-08T05:44:21.382Z"
   },
   {
    "duration": 9,
    "start_time": "2023-06-08T05:44:21.422Z"
   },
   {
    "duration": 43,
    "start_time": "2023-06-08T05:44:21.433Z"
   },
   {
    "duration": 8,
    "start_time": "2023-06-08T05:44:21.478Z"
   },
   {
    "duration": 10,
    "start_time": "2023-06-08T05:44:21.488Z"
   },
   {
    "duration": 120,
    "start_time": "2023-06-08T05:44:21.499Z"
   },
   {
    "duration": 15,
    "start_time": "2023-06-08T05:44:21.624Z"
   },
   {
    "duration": 4,
    "start_time": "2023-06-08T05:44:21.641Z"
   },
   {
    "duration": 20,
    "start_time": "2023-06-08T05:44:21.646Z"
   },
   {
    "duration": 14,
    "start_time": "2023-06-08T05:44:21.668Z"
   },
   {
    "duration": 108,
    "start_time": "2023-06-08T05:44:21.683Z"
   },
   {
    "duration": 0,
    "start_time": "2023-06-08T05:44:21.792Z"
   },
   {
    "duration": 0,
    "start_time": "2023-06-08T05:44:21.794Z"
   },
   {
    "duration": 0,
    "start_time": "2023-06-08T05:44:21.794Z"
   },
   {
    "duration": 0,
    "start_time": "2023-06-08T05:44:21.795Z"
   },
   {
    "duration": 0,
    "start_time": "2023-06-08T05:44:21.796Z"
   },
   {
    "duration": 0,
    "start_time": "2023-06-08T05:44:21.797Z"
   },
   {
    "duration": 0,
    "start_time": "2023-06-08T05:44:21.798Z"
   },
   {
    "duration": 0,
    "start_time": "2023-06-08T05:44:21.799Z"
   },
   {
    "duration": 0,
    "start_time": "2023-06-08T05:44:21.799Z"
   },
   {
    "duration": 109,
    "start_time": "2023-06-08T05:44:41.907Z"
   },
   {
    "duration": 10,
    "start_time": "2023-06-08T05:45:12.759Z"
   },
   {
    "duration": 11,
    "start_time": "2023-06-08T05:46:06.049Z"
   },
   {
    "duration": 8,
    "start_time": "2023-06-08T05:46:09.849Z"
   },
   {
    "duration": 37,
    "start_time": "2023-06-08T06:18:12.588Z"
   },
   {
    "duration": 21,
    "start_time": "2023-06-08T06:22:41.968Z"
   },
   {
    "duration": 817,
    "start_time": "2023-06-08T06:22:56.364Z"
   },
   {
    "duration": 64,
    "start_time": "2023-06-08T06:23:32.889Z"
   },
   {
    "duration": 22,
    "start_time": "2023-06-08T06:24:19.158Z"
   },
   {
    "duration": 9,
    "start_time": "2023-06-08T06:27:27.024Z"
   },
   {
    "duration": 1279,
    "start_time": "2023-06-08T06:27:40.095Z"
   },
   {
    "duration": 5,
    "start_time": "2023-06-08T06:28:02.599Z"
   },
   {
    "duration": 5,
    "start_time": "2023-06-08T06:28:36.791Z"
   },
   {
    "duration": 5,
    "start_time": "2023-06-08T06:29:45.786Z"
   },
   {
    "duration": 11,
    "start_time": "2023-06-08T06:29:59.082Z"
   },
   {
    "duration": 6,
    "start_time": "2023-06-08T06:33:18.924Z"
   },
   {
    "duration": 11,
    "start_time": "2023-06-08T06:34:19.931Z"
   },
   {
    "duration": 4,
    "start_time": "2023-06-08T06:34:39.051Z"
   },
   {
    "duration": 13,
    "start_time": "2023-06-08T06:34:59.344Z"
   },
   {
    "duration": 103,
    "start_time": "2023-06-08T06:38:22.180Z"
   },
   {
    "duration": 16,
    "start_time": "2023-06-08T06:38:26.969Z"
   },
   {
    "duration": 5,
    "start_time": "2023-06-08T06:38:33.860Z"
   },
   {
    "duration": 5,
    "start_time": "2023-06-08T06:38:43.033Z"
   },
   {
    "duration": 103,
    "start_time": "2023-06-08T06:39:02.469Z"
   },
   {
    "duration": 16,
    "start_time": "2023-06-08T06:39:05.480Z"
   },
   {
    "duration": 11,
    "start_time": "2023-06-08T06:39:56.976Z"
   },
   {
    "duration": 12,
    "start_time": "2023-06-08T06:43:18.629Z"
   },
   {
    "duration": 12,
    "start_time": "2023-06-08T06:43:28.454Z"
   },
   {
    "duration": 18,
    "start_time": "2023-06-08T06:44:47.702Z"
   },
   {
    "duration": 15,
    "start_time": "2023-06-08T06:45:33.093Z"
   },
   {
    "duration": 15,
    "start_time": "2023-06-08T06:46:25.896Z"
   },
   {
    "duration": 11,
    "start_time": "2023-06-08T06:46:40.734Z"
   },
   {
    "duration": 127,
    "start_time": "2023-06-08T06:47:00.303Z"
   },
   {
    "duration": 132,
    "start_time": "2023-06-08T06:47:49.531Z"
   },
   {
    "duration": 12,
    "start_time": "2023-06-08T06:48:04.664Z"
   },
   {
    "duration": 121,
    "start_time": "2023-06-08T06:48:29.190Z"
   },
   {
    "duration": 17,
    "start_time": "2023-06-08T06:49:11.944Z"
   },
   {
    "duration": 14,
    "start_time": "2023-06-08T06:49:31.052Z"
   },
   {
    "duration": 1364,
    "start_time": "2023-06-08T06:53:23.036Z"
   },
   {
    "duration": 254,
    "start_time": "2023-06-08T06:56:04.608Z"
   },
   {
    "duration": 98,
    "start_time": "2023-06-08T06:56:09.757Z"
   },
   {
    "duration": 20,
    "start_time": "2023-06-08T06:56:15.540Z"
   },
   {
    "duration": 61,
    "start_time": "2023-06-08T06:56:18.058Z"
   },
   {
    "duration": 120,
    "start_time": "2023-06-08T06:56:28.097Z"
   },
   {
    "duration": 17,
    "start_time": "2023-06-08T06:56:31.418Z"
   },
   {
    "duration": 5,
    "start_time": "2023-06-08T06:56:33.542Z"
   },
   {
    "duration": 5,
    "start_time": "2023-06-08T06:56:35.442Z"
   },
   {
    "duration": 12,
    "start_time": "2023-06-08T06:59:47.555Z"
   },
   {
    "duration": 12,
    "start_time": "2023-06-08T07:00:37.573Z"
   },
   {
    "duration": 11,
    "start_time": "2023-06-08T07:00:54.984Z"
   },
   {
    "duration": 15,
    "start_time": "2023-06-08T07:01:37.450Z"
   },
   {
    "duration": 10,
    "start_time": "2023-06-08T07:01:43.785Z"
   },
   {
    "duration": 12,
    "start_time": "2023-06-08T07:03:53.951Z"
   },
   {
    "duration": 13,
    "start_time": "2023-06-08T07:05:16.016Z"
   },
   {
    "duration": 7,
    "start_time": "2023-06-08T07:05:19.567Z"
   },
   {
    "duration": 7,
    "start_time": "2023-06-08T07:05:26.360Z"
   },
   {
    "duration": 89,
    "start_time": "2023-06-08T07:11:19.038Z"
   },
   {
    "duration": 10,
    "start_time": "2023-06-08T07:19:31.349Z"
   },
   {
    "duration": 12,
    "start_time": "2023-06-08T07:19:46.049Z"
   },
   {
    "duration": 26,
    "start_time": "2023-06-08T07:19:49.974Z"
   },
   {
    "duration": 20,
    "start_time": "2023-06-08T07:19:58.553Z"
   },
   {
    "duration": 18,
    "start_time": "2023-06-08T07:20:02.027Z"
   },
   {
    "duration": 88,
    "start_time": "2023-06-08T07:20:16.866Z"
   },
   {
    "duration": 1499,
    "start_time": "2023-06-08T07:21:33.867Z"
   },
   {
    "duration": 1168,
    "start_time": "2023-06-08T07:21:48.234Z"
   },
   {
    "duration": 1346,
    "start_time": "2023-06-08T07:22:08.812Z"
   },
   {
    "duration": 12,
    "start_time": "2023-06-08T07:22:13.985Z"
   },
   {
    "duration": 18,
    "start_time": "2023-06-08T07:23:20.308Z"
   },
   {
    "duration": 402,
    "start_time": "2023-06-08T07:23:36.803Z"
   },
   {
    "duration": 405,
    "start_time": "2023-06-08T07:25:12.899Z"
   },
   {
    "duration": 394,
    "start_time": "2023-06-08T07:25:32.090Z"
   },
   {
    "duration": 2185,
    "start_time": "2023-06-08T07:26:07.768Z"
   },
   {
    "duration": 14,
    "start_time": "2023-06-08T07:26:28.633Z"
   },
   {
    "duration": 214,
    "start_time": "2023-06-08T07:27:34.035Z"
   },
   {
    "duration": 11,
    "start_time": "2023-06-08T07:29:36.027Z"
   },
   {
    "duration": 19,
    "start_time": "2023-06-08T07:46:40.748Z"
   },
   {
    "duration": 16,
    "start_time": "2023-06-08T07:51:53.562Z"
   },
   {
    "duration": 10,
    "start_time": "2023-06-08T07:51:57.400Z"
   },
   {
    "duration": 17,
    "start_time": "2023-06-08T07:52:07.241Z"
   },
   {
    "duration": 4,
    "start_time": "2023-06-08T07:53:19.320Z"
   },
   {
    "duration": 2,
    "start_time": "2023-06-08T07:53:19.679Z"
   },
   {
    "duration": 31,
    "start_time": "2023-06-08T07:53:20.041Z"
   },
   {
    "duration": 61,
    "start_time": "2023-06-08T07:53:20.435Z"
   },
   {
    "duration": 473,
    "start_time": "2023-06-08T07:53:20.818Z"
   },
   {
    "duration": 43,
    "start_time": "2023-06-08T07:53:21.293Z"
   },
   {
    "duration": 9,
    "start_time": "2023-06-08T07:53:21.560Z"
   },
   {
    "duration": 5,
    "start_time": "2023-06-08T07:53:21.931Z"
   },
   {
    "duration": 6,
    "start_time": "2023-06-08T07:53:22.101Z"
   },
   {
    "duration": 16,
    "start_time": "2023-06-08T07:53:22.292Z"
   },
   {
    "duration": 31,
    "start_time": "2023-06-08T07:53:22.686Z"
   },
   {
    "duration": 14,
    "start_time": "2023-06-08T07:53:22.875Z"
   },
   {
    "duration": 60,
    "start_time": "2023-06-08T07:53:23.056Z"
   },
   {
    "duration": 5,
    "start_time": "2023-06-08T07:53:23.246Z"
   },
   {
    "duration": 9,
    "start_time": "2023-06-08T07:53:23.438Z"
   },
   {
    "duration": 93,
    "start_time": "2023-06-08T07:53:23.818Z"
   },
   {
    "duration": 149,
    "start_time": "2023-06-08T07:53:23.989Z"
   },
   {
    "duration": 13,
    "start_time": "2023-06-08T07:53:24.227Z"
   },
   {
    "duration": 10,
    "start_time": "2023-06-08T07:53:24.564Z"
   },
   {
    "duration": 9,
    "start_time": "2023-06-08T07:53:25.342Z"
   },
   {
    "duration": 10,
    "start_time": "2023-06-08T07:53:25.530Z"
   },
   {
    "duration": 278,
    "start_time": "2023-06-08T07:53:26.094Z"
   },
   {
    "duration": 5,
    "start_time": "2023-06-08T07:53:26.882Z"
   },
   {
    "duration": 5,
    "start_time": "2023-06-08T07:53:27.083Z"
   },
   {
    "duration": 10,
    "start_time": "2023-06-08T07:53:27.709Z"
   },
   {
    "duration": 9,
    "start_time": "2023-06-08T07:53:28.177Z"
   },
   {
    "duration": 6,
    "start_time": "2023-06-08T07:53:28.389Z"
   },
   {
    "duration": 6,
    "start_time": "2023-06-08T07:53:29.812Z"
   },
   {
    "duration": 9,
    "start_time": "2023-06-08T07:53:30.449Z"
   },
   {
    "duration": 7,
    "start_time": "2023-06-08T07:53:30.860Z"
   },
   {
    "duration": 12,
    "start_time": "2023-06-08T07:53:31.020Z"
   },
   {
    "duration": 5,
    "start_time": "2023-06-08T07:53:31.224Z"
   },
   {
    "duration": 12,
    "start_time": "2023-06-08T07:53:31.595Z"
   },
   {
    "duration": 16,
    "start_time": "2023-06-08T07:53:32.395Z"
   },
   {
    "duration": 7,
    "start_time": "2023-06-08T07:53:32.585Z"
   },
   {
    "duration": 4,
    "start_time": "2023-06-08T07:53:32.799Z"
   },
   {
    "duration": 8,
    "start_time": "2023-06-08T07:53:33.002Z"
   },
   {
    "duration": 31,
    "start_time": "2023-06-08T07:53:34.048Z"
   },
   {
    "duration": 10,
    "start_time": "2023-06-08T07:53:34.453Z"
   },
   {
    "duration": 23,
    "start_time": "2023-06-08T07:53:34.847Z"
   },
   {
    "duration": 8,
    "start_time": "2023-06-08T07:53:35.050Z"
   },
   {
    "duration": 6,
    "start_time": "2023-06-08T07:53:35.636Z"
   },
   {
    "duration": 108,
    "start_time": "2023-06-08T07:53:36.445Z"
   },
   {
    "duration": 5,
    "start_time": "2023-06-08T07:53:36.847Z"
   },
   {
    "duration": 5,
    "start_time": "2023-06-08T07:53:37.070Z"
   },
   {
    "duration": 12,
    "start_time": "2023-06-08T07:53:37.466Z"
   },
   {
    "duration": 17,
    "start_time": "2023-06-08T07:53:37.748Z"
   },
   {
    "duration": 4,
    "start_time": "2023-06-08T07:53:38.163Z"
   },
   {
    "duration": 15,
    "start_time": "2023-06-08T07:53:38.378Z"
   },
   {
    "duration": 5,
    "start_time": "2023-06-08T07:53:38.790Z"
   },
   {
    "duration": 26,
    "start_time": "2023-06-08T07:53:38.996Z"
   },
   {
    "duration": 218,
    "start_time": "2023-06-08T07:53:41.200Z"
   },
   {
    "duration": 5,
    "start_time": "2023-06-08T07:53:57.715Z"
   },
   {
    "duration": 7,
    "start_time": "2023-06-08T07:54:22.328Z"
   },
   {
    "duration": 13,
    "start_time": "2023-06-08T08:05:09.402Z"
   },
   {
    "duration": 10,
    "start_time": "2023-06-08T08:05:14.235Z"
   },
   {
    "duration": 23,
    "start_time": "2023-06-08T08:11:19.963Z"
   },
   {
    "duration": 8,
    "start_time": "2023-06-08T08:11:39.181Z"
   },
   {
    "duration": 5,
    "start_time": "2023-06-08T08:11:48.414Z"
   },
   {
    "duration": 5,
    "start_time": "2023-06-08T08:12:05.438Z"
   },
   {
    "duration": 6,
    "start_time": "2023-06-08T08:17:00.975Z"
   },
   {
    "duration": 1203,
    "start_time": "2023-06-08T08:17:08.440Z"
   },
   {
    "duration": 1521,
    "start_time": "2023-06-08T08:17:09.645Z"
   },
   {
    "duration": 58,
    "start_time": "2023-06-08T08:17:11.168Z"
   },
   {
    "duration": 86,
    "start_time": "2023-06-08T08:17:11.228Z"
   },
   {
    "duration": 509,
    "start_time": "2023-06-08T08:17:11.316Z"
   },
   {
    "duration": 32,
    "start_time": "2023-06-08T08:17:11.827Z"
   },
   {
    "duration": 9,
    "start_time": "2023-06-08T08:17:11.860Z"
   },
   {
    "duration": 8,
    "start_time": "2023-06-08T08:17:11.871Z"
   },
   {
    "duration": 12,
    "start_time": "2023-06-08T08:17:11.880Z"
   },
   {
    "duration": 29,
    "start_time": "2023-06-08T08:17:11.894Z"
   },
   {
    "duration": 31,
    "start_time": "2023-06-08T08:17:11.925Z"
   },
   {
    "duration": 12,
    "start_time": "2023-06-08T08:17:11.958Z"
   },
   {
    "duration": 68,
    "start_time": "2023-06-08T08:17:11.971Z"
   },
   {
    "duration": 5,
    "start_time": "2023-06-08T08:17:12.040Z"
   },
   {
    "duration": 33,
    "start_time": "2023-06-08T08:17:12.046Z"
   },
   {
    "duration": 127,
    "start_time": "2023-06-08T08:17:12.080Z"
   },
   {
    "duration": 170,
    "start_time": "2023-06-08T08:17:12.209Z"
   },
   {
    "duration": 11,
    "start_time": "2023-06-08T08:17:12.381Z"
   },
   {
    "duration": 23,
    "start_time": "2023-06-08T08:17:12.393Z"
   },
   {
    "duration": 20,
    "start_time": "2023-06-08T08:17:12.417Z"
   },
   {
    "duration": 22,
    "start_time": "2023-06-08T08:17:12.438Z"
   },
   {
    "duration": 303,
    "start_time": "2023-06-08T08:17:12.462Z"
   },
   {
    "duration": 6,
    "start_time": "2023-06-08T08:17:12.767Z"
   },
   {
    "duration": 14,
    "start_time": "2023-06-08T08:17:12.774Z"
   },
   {
    "duration": 19,
    "start_time": "2023-06-08T08:17:12.790Z"
   },
   {
    "duration": 30,
    "start_time": "2023-06-08T08:17:12.811Z"
   },
   {
    "duration": 86,
    "start_time": "2023-06-08T08:17:12.843Z"
   },
   {
    "duration": 13,
    "start_time": "2023-06-08T08:17:12.934Z"
   },
   {
    "duration": 40,
    "start_time": "2023-06-08T08:17:12.949Z"
   },
   {
    "duration": 34,
    "start_time": "2023-06-08T08:17:12.990Z"
   },
   {
    "duration": 30,
    "start_time": "2023-06-08T08:17:13.026Z"
   },
   {
    "duration": 19,
    "start_time": "2023-06-08T08:17:13.058Z"
   },
   {
    "duration": 40,
    "start_time": "2023-06-08T08:17:13.078Z"
   },
   {
    "duration": 46,
    "start_time": "2023-06-08T08:17:13.119Z"
   },
   {
    "duration": 181,
    "start_time": "2023-06-08T08:17:13.167Z"
   },
   {
    "duration": 62,
    "start_time": "2023-06-08T08:17:13.349Z"
   },
   {
    "duration": 68,
    "start_time": "2023-06-08T08:17:13.413Z"
   },
   {
    "duration": 125,
    "start_time": "2023-06-08T08:17:13.483Z"
   },
   {
    "duration": 29,
    "start_time": "2023-06-08T08:17:13.610Z"
   },
   {
    "duration": 86,
    "start_time": "2023-06-08T08:17:13.641Z"
   },
   {
    "duration": 392,
    "start_time": "2023-06-08T08:17:13.728Z"
   },
   {
    "duration": 50,
    "start_time": "2023-06-08T08:17:14.122Z"
   },
   {
    "duration": 230,
    "start_time": "2023-06-08T08:17:14.174Z"
   },
   {
    "duration": 5,
    "start_time": "2023-06-08T08:17:14.405Z"
   },
   {
    "duration": 55,
    "start_time": "2023-06-08T08:17:14.412Z"
   },
   {
    "duration": 35,
    "start_time": "2023-06-08T08:17:14.468Z"
   },
   {
    "duration": 27,
    "start_time": "2023-06-08T08:17:14.505Z"
   },
   {
    "duration": 153,
    "start_time": "2023-06-08T08:17:14.533Z"
   },
   {
    "duration": 0,
    "start_time": "2023-06-08T08:17:14.687Z"
   },
   {
    "duration": 0,
    "start_time": "2023-06-08T08:17:14.688Z"
   },
   {
    "duration": 0,
    "start_time": "2023-06-08T08:17:14.689Z"
   },
   {
    "duration": 0,
    "start_time": "2023-06-08T08:17:14.690Z"
   },
   {
    "duration": 0,
    "start_time": "2023-06-08T08:17:14.691Z"
   },
   {
    "duration": 0,
    "start_time": "2023-06-08T08:17:14.692Z"
   },
   {
    "duration": 0,
    "start_time": "2023-06-08T08:17:14.693Z"
   },
   {
    "duration": 0,
    "start_time": "2023-06-08T08:17:14.694Z"
   },
   {
    "duration": 0,
    "start_time": "2023-06-08T08:17:14.695Z"
   },
   {
    "duration": 0,
    "start_time": "2023-06-08T08:17:14.696Z"
   },
   {
    "duration": 0,
    "start_time": "2023-06-08T08:17:14.697Z"
   },
   {
    "duration": 0,
    "start_time": "2023-06-08T08:17:14.698Z"
   },
   {
    "duration": 0,
    "start_time": "2023-06-08T08:17:14.699Z"
   },
   {
    "duration": 0,
    "start_time": "2023-06-08T08:17:14.700Z"
   },
   {
    "duration": 0,
    "start_time": "2023-06-08T08:17:14.701Z"
   },
   {
    "duration": 12,
    "start_time": "2023-06-08T08:20:13.742Z"
   },
   {
    "duration": 16,
    "start_time": "2023-06-08T08:21:22.416Z"
   },
   {
    "duration": 239,
    "start_time": "2023-06-08T08:22:03.451Z"
   },
   {
    "duration": 14,
    "start_time": "2023-06-08T08:22:14.721Z"
   },
   {
    "duration": 97,
    "start_time": "2023-06-08T08:22:28.048Z"
   },
   {
    "duration": 18,
    "start_time": "2023-06-08T08:22:41.784Z"
   },
   {
    "duration": 23,
    "start_time": "2023-06-08T08:22:56.254Z"
   },
   {
    "duration": 10,
    "start_time": "2023-06-08T08:24:39.050Z"
   },
   {
    "duration": 9,
    "start_time": "2023-06-08T08:25:09.089Z"
   },
   {
    "duration": 14,
    "start_time": "2023-06-08T08:25:16.099Z"
   },
   {
    "duration": 15,
    "start_time": "2023-06-08T08:25:17.416Z"
   },
   {
    "duration": 14,
    "start_time": "2023-06-08T08:25:23.802Z"
   },
   {
    "duration": 9,
    "start_time": "2023-06-08T08:25:24.923Z"
   },
   {
    "duration": 431,
    "start_time": "2023-06-08T08:25:31.627Z"
   },
   {
    "duration": 16,
    "start_time": "2023-06-08T08:27:57.759Z"
   },
   {
    "duration": 1192,
    "start_time": "2023-06-08T08:28:15.573Z"
   },
   {
    "duration": 3,
    "start_time": "2023-06-08T08:28:16.767Z"
   },
   {
    "duration": 49,
    "start_time": "2023-06-08T08:28:16.771Z"
   },
   {
    "duration": 66,
    "start_time": "2023-06-08T08:28:16.822Z"
   },
   {
    "duration": 463,
    "start_time": "2023-06-08T08:28:16.890Z"
   },
   {
    "duration": 35,
    "start_time": "2023-06-08T08:28:17.355Z"
   },
   {
    "duration": 10,
    "start_time": "2023-06-08T08:28:17.391Z"
   },
   {
    "duration": 17,
    "start_time": "2023-06-08T08:28:17.403Z"
   },
   {
    "duration": 10,
    "start_time": "2023-06-08T08:28:17.422Z"
   },
   {
    "duration": 25,
    "start_time": "2023-06-08T08:28:17.434Z"
   },
   {
    "duration": 31,
    "start_time": "2023-06-08T08:28:17.460Z"
   },
   {
    "duration": 12,
    "start_time": "2023-06-08T08:28:17.493Z"
   },
   {
    "duration": 76,
    "start_time": "2023-06-08T08:28:17.506Z"
   },
   {
    "duration": 5,
    "start_time": "2023-06-08T08:28:17.583Z"
   },
   {
    "duration": 22,
    "start_time": "2023-06-08T08:28:17.589Z"
   },
   {
    "duration": 108,
    "start_time": "2023-06-08T08:28:17.613Z"
   },
   {
    "duration": 188,
    "start_time": "2023-06-08T08:28:17.724Z"
   },
   {
    "duration": 19,
    "start_time": "2023-06-08T08:28:17.914Z"
   },
   {
    "duration": 25,
    "start_time": "2023-06-08T08:28:17.935Z"
   },
   {
    "duration": 11,
    "start_time": "2023-06-08T08:28:17.962Z"
   },
   {
    "duration": 14,
    "start_time": "2023-06-08T08:28:17.975Z"
   },
   {
    "duration": 327,
    "start_time": "2023-06-08T08:28:17.990Z"
   },
   {
    "duration": 9,
    "start_time": "2023-06-08T08:28:18.318Z"
   },
   {
    "duration": 14,
    "start_time": "2023-06-08T08:28:18.328Z"
   },
   {
    "duration": 16,
    "start_time": "2023-06-08T08:28:18.344Z"
   },
   {
    "duration": 36,
    "start_time": "2023-06-08T08:28:18.361Z"
   },
   {
    "duration": 26,
    "start_time": "2023-06-08T08:28:18.398Z"
   },
   {
    "duration": 11,
    "start_time": "2023-06-08T08:28:18.429Z"
   },
   {
    "duration": 23,
    "start_time": "2023-06-08T08:28:18.442Z"
   },
   {
    "duration": 36,
    "start_time": "2023-06-08T08:28:18.466Z"
   },
   {
    "duration": 21,
    "start_time": "2023-06-08T08:28:18.503Z"
   },
   {
    "duration": 6,
    "start_time": "2023-06-08T08:28:18.525Z"
   },
   {
    "duration": 13,
    "start_time": "2023-06-08T08:28:18.533Z"
   },
   {
    "duration": 18,
    "start_time": "2023-06-08T08:28:18.548Z"
   },
   {
    "duration": 8,
    "start_time": "2023-06-08T08:28:18.568Z"
   },
   {
    "duration": 11,
    "start_time": "2023-06-08T08:28:18.577Z"
   },
   {
    "duration": 40,
    "start_time": "2023-06-08T08:28:18.589Z"
   },
   {
    "duration": 35,
    "start_time": "2023-06-08T08:28:18.630Z"
   },
   {
    "duration": 10,
    "start_time": "2023-06-08T08:28:18.667Z"
   },
   {
    "duration": 21,
    "start_time": "2023-06-08T08:28:18.678Z"
   },
   {
    "duration": 9,
    "start_time": "2023-06-08T08:28:18.724Z"
   },
   {
    "duration": 8,
    "start_time": "2023-06-08T08:28:18.735Z"
   },
   {
    "duration": 143,
    "start_time": "2023-06-08T08:28:18.744Z"
   },
   {
    "duration": 6,
    "start_time": "2023-06-08T08:28:18.889Z"
   },
   {
    "duration": 11,
    "start_time": "2023-06-08T08:28:18.897Z"
   },
   {
    "duration": 13,
    "start_time": "2023-06-08T08:28:18.924Z"
   },
   {
    "duration": 20,
    "start_time": "2023-06-08T08:28:18.938Z"
   },
   {
    "duration": 178,
    "start_time": "2023-06-08T08:28:18.959Z"
   },
   {
    "duration": 0,
    "start_time": "2023-06-08T08:28:19.139Z"
   },
   {
    "duration": 0,
    "start_time": "2023-06-08T08:28:19.140Z"
   },
   {
    "duration": 0,
    "start_time": "2023-06-08T08:28:19.141Z"
   },
   {
    "duration": 0,
    "start_time": "2023-06-08T08:28:19.142Z"
   },
   {
    "duration": 0,
    "start_time": "2023-06-08T08:28:19.144Z"
   },
   {
    "duration": 0,
    "start_time": "2023-06-08T08:28:19.144Z"
   },
   {
    "duration": 1,
    "start_time": "2023-06-08T08:28:19.145Z"
   },
   {
    "duration": 0,
    "start_time": "2023-06-08T08:28:19.147Z"
   },
   {
    "duration": 0,
    "start_time": "2023-06-08T08:28:19.148Z"
   },
   {
    "duration": 0,
    "start_time": "2023-06-08T08:28:19.149Z"
   },
   {
    "duration": 0,
    "start_time": "2023-06-08T08:28:19.150Z"
   },
   {
    "duration": 0,
    "start_time": "2023-06-08T08:28:19.151Z"
   },
   {
    "duration": 0,
    "start_time": "2023-06-08T08:28:19.152Z"
   },
   {
    "duration": 0,
    "start_time": "2023-06-08T08:28:19.153Z"
   },
   {
    "duration": 0,
    "start_time": "2023-06-08T08:28:19.155Z"
   },
   {
    "duration": 0,
    "start_time": "2023-06-08T08:28:19.156Z"
   },
   {
    "duration": 0,
    "start_time": "2023-06-08T08:28:19.157Z"
   },
   {
    "duration": 0,
    "start_time": "2023-06-08T08:28:19.158Z"
   },
   {
    "duration": 0,
    "start_time": "2023-06-08T08:28:19.159Z"
   },
   {
    "duration": 0,
    "start_time": "2023-06-08T08:28:19.160Z"
   },
   {
    "duration": 22,
    "start_time": "2023-06-08T08:28:41.830Z"
   },
   {
    "duration": 1279,
    "start_time": "2023-06-08T08:34:05.884Z"
   },
   {
    "duration": 2,
    "start_time": "2023-06-08T08:34:07.165Z"
   },
   {
    "duration": 43,
    "start_time": "2023-06-08T08:34:07.168Z"
   },
   {
    "duration": 77,
    "start_time": "2023-06-08T08:34:07.213Z"
   },
   {
    "duration": 482,
    "start_time": "2023-06-08T08:34:07.292Z"
   },
   {
    "duration": 34,
    "start_time": "2023-06-08T08:34:07.775Z"
   },
   {
    "duration": 10,
    "start_time": "2023-06-08T08:34:07.811Z"
   },
   {
    "duration": 15,
    "start_time": "2023-06-08T08:34:07.825Z"
   },
   {
    "duration": 20,
    "start_time": "2023-06-08T08:34:07.841Z"
   },
   {
    "duration": 35,
    "start_time": "2023-06-08T08:34:07.864Z"
   },
   {
    "duration": 38,
    "start_time": "2023-06-08T08:34:07.900Z"
   },
   {
    "duration": 11,
    "start_time": "2023-06-08T08:34:07.940Z"
   },
   {
    "duration": 72,
    "start_time": "2023-06-08T08:34:07.952Z"
   },
   {
    "duration": 5,
    "start_time": "2023-06-08T08:34:08.025Z"
   },
   {
    "duration": 120,
    "start_time": "2023-06-08T08:34:08.032Z"
   },
   {
    "duration": 122,
    "start_time": "2023-06-08T08:34:08.155Z"
   },
   {
    "duration": 187,
    "start_time": "2023-06-08T08:34:08.279Z"
   },
   {
    "duration": 11,
    "start_time": "2023-06-08T08:34:08.468Z"
   },
   {
    "duration": 30,
    "start_time": "2023-06-08T08:34:08.480Z"
   },
   {
    "duration": 159,
    "start_time": "2023-06-08T08:34:08.512Z"
   },
   {
    "duration": 83,
    "start_time": "2023-06-08T08:34:08.672Z"
   },
   {
    "duration": 354,
    "start_time": "2023-06-08T08:34:08.757Z"
   },
   {
    "duration": 5,
    "start_time": "2023-06-08T08:34:09.113Z"
   },
   {
    "duration": 19,
    "start_time": "2023-06-08T08:34:09.124Z"
   },
   {
    "duration": 44,
    "start_time": "2023-06-08T08:34:09.145Z"
   },
   {
    "duration": 19,
    "start_time": "2023-06-08T08:34:09.191Z"
   },
   {
    "duration": 27,
    "start_time": "2023-06-08T08:34:09.212Z"
   },
   {
    "duration": 21,
    "start_time": "2023-06-08T08:34:09.243Z"
   },
   {
    "duration": 35,
    "start_time": "2023-06-08T08:34:09.266Z"
   },
   {
    "duration": 40,
    "start_time": "2023-06-08T08:34:09.302Z"
   },
   {
    "duration": 34,
    "start_time": "2023-06-08T08:34:09.343Z"
   },
   {
    "duration": 37,
    "start_time": "2023-06-08T08:34:09.379Z"
   },
   {
    "duration": 43,
    "start_time": "2023-06-08T08:34:09.417Z"
   },
   {
    "duration": 37,
    "start_time": "2023-06-08T08:34:09.462Z"
   },
   {
    "duration": 77,
    "start_time": "2023-06-08T08:34:09.501Z"
   },
   {
    "duration": 74,
    "start_time": "2023-06-08T08:34:09.580Z"
   },
   {
    "duration": 33,
    "start_time": "2023-06-08T08:34:09.655Z"
   },
   {
    "duration": 55,
    "start_time": "2023-06-08T08:34:09.690Z"
   },
   {
    "duration": 25,
    "start_time": "2023-06-08T08:34:09.747Z"
   },
   {
    "duration": 79,
    "start_time": "2023-06-08T08:34:09.775Z"
   },
   {
    "duration": 21,
    "start_time": "2023-06-08T08:34:09.857Z"
   },
   {
    "duration": 36,
    "start_time": "2023-06-08T08:34:09.879Z"
   },
   {
    "duration": 175,
    "start_time": "2023-06-08T08:34:09.917Z"
   },
   {
    "duration": 5,
    "start_time": "2023-06-08T08:34:10.094Z"
   },
   {
    "duration": 13,
    "start_time": "2023-06-08T08:34:10.101Z"
   },
   {
    "duration": 29,
    "start_time": "2023-06-08T08:34:10.115Z"
   },
   {
    "duration": 15,
    "start_time": "2023-06-08T08:34:10.146Z"
   },
   {
    "duration": 29,
    "start_time": "2023-06-08T08:34:10.162Z"
   },
   {
    "duration": 36,
    "start_time": "2023-06-08T08:34:10.192Z"
   },
   {
    "duration": 112,
    "start_time": "2023-06-08T08:34:10.230Z"
   },
   {
    "duration": 0,
    "start_time": "2023-06-08T08:34:10.344Z"
   },
   {
    "duration": 0,
    "start_time": "2023-06-08T08:34:10.346Z"
   },
   {
    "duration": 0,
    "start_time": "2023-06-08T08:34:10.347Z"
   },
   {
    "duration": 0,
    "start_time": "2023-06-08T08:34:10.349Z"
   },
   {
    "duration": 0,
    "start_time": "2023-06-08T08:34:10.350Z"
   },
   {
    "duration": 0,
    "start_time": "2023-06-08T08:34:10.352Z"
   },
   {
    "duration": 0,
    "start_time": "2023-06-08T08:34:10.353Z"
   },
   {
    "duration": 0,
    "start_time": "2023-06-08T08:34:10.354Z"
   },
   {
    "duration": 0,
    "start_time": "2023-06-08T08:34:10.356Z"
   },
   {
    "duration": 0,
    "start_time": "2023-06-08T08:34:10.357Z"
   },
   {
    "duration": 0,
    "start_time": "2023-06-08T08:34:10.359Z"
   },
   {
    "duration": 0,
    "start_time": "2023-06-08T08:34:10.361Z"
   },
   {
    "duration": 0,
    "start_time": "2023-06-08T08:34:10.362Z"
   },
   {
    "duration": 0,
    "start_time": "2023-06-08T08:34:10.364Z"
   },
   {
    "duration": 0,
    "start_time": "2023-06-08T08:34:10.365Z"
   },
   {
    "duration": 1,
    "start_time": "2023-06-08T08:34:10.366Z"
   },
   {
    "duration": 0,
    "start_time": "2023-06-08T08:34:10.368Z"
   },
   {
    "duration": 0,
    "start_time": "2023-06-08T08:34:10.369Z"
   },
   {
    "duration": 0,
    "start_time": "2023-06-08T08:34:10.371Z"
   },
   {
    "duration": 1405,
    "start_time": "2023-06-08T08:34:45.146Z"
   },
   {
    "duration": 3,
    "start_time": "2023-06-08T08:34:46.553Z"
   },
   {
    "duration": 53,
    "start_time": "2023-06-08T08:34:46.558Z"
   },
   {
    "duration": 76,
    "start_time": "2023-06-08T08:34:46.612Z"
   },
   {
    "duration": 493,
    "start_time": "2023-06-08T08:34:46.690Z"
   },
   {
    "duration": 37,
    "start_time": "2023-06-08T08:34:47.184Z"
   },
   {
    "duration": 11,
    "start_time": "2023-06-08T08:34:47.224Z"
   },
   {
    "duration": 13,
    "start_time": "2023-06-08T08:34:47.236Z"
   },
   {
    "duration": 12,
    "start_time": "2023-06-08T08:34:47.251Z"
   },
   {
    "duration": 19,
    "start_time": "2023-06-08T08:34:47.266Z"
   },
   {
    "duration": 45,
    "start_time": "2023-06-08T08:34:47.287Z"
   },
   {
    "duration": 12,
    "start_time": "2023-06-08T08:34:47.334Z"
   },
   {
    "duration": 78,
    "start_time": "2023-06-08T08:34:47.347Z"
   },
   {
    "duration": 5,
    "start_time": "2023-06-08T08:34:47.427Z"
   },
   {
    "duration": 10,
    "start_time": "2023-06-08T08:34:47.434Z"
   },
   {
    "duration": 117,
    "start_time": "2023-06-08T08:34:47.446Z"
   },
   {
    "duration": 200,
    "start_time": "2023-06-08T08:34:47.565Z"
   },
   {
    "duration": 17,
    "start_time": "2023-06-08T08:34:47.767Z"
   },
   {
    "duration": 26,
    "start_time": "2023-06-08T08:34:47.787Z"
   },
   {
    "duration": 19,
    "start_time": "2023-06-08T08:34:47.815Z"
   },
   {
    "duration": 21,
    "start_time": "2023-06-08T08:34:47.836Z"
   },
   {
    "duration": 311,
    "start_time": "2023-06-08T08:34:47.859Z"
   },
   {
    "duration": 4,
    "start_time": "2023-06-08T08:34:48.172Z"
   },
   {
    "duration": 10,
    "start_time": "2023-06-08T08:34:48.177Z"
   },
   {
    "duration": 12,
    "start_time": "2023-06-08T08:34:48.189Z"
   },
   {
    "duration": 26,
    "start_time": "2023-06-08T08:34:48.202Z"
   },
   {
    "duration": 9,
    "start_time": "2023-06-08T08:34:48.229Z"
   },
   {
    "duration": 13,
    "start_time": "2023-06-08T08:34:48.242Z"
   },
   {
    "duration": 14,
    "start_time": "2023-06-08T08:34:48.257Z"
   },
   {
    "duration": 8,
    "start_time": "2023-06-08T08:34:48.273Z"
   },
   {
    "duration": 21,
    "start_time": "2023-06-08T08:34:48.283Z"
   },
   {
    "duration": 18,
    "start_time": "2023-06-08T08:34:48.306Z"
   },
   {
    "duration": 13,
    "start_time": "2023-06-08T08:34:48.326Z"
   },
   {
    "duration": 14,
    "start_time": "2023-06-08T08:34:48.340Z"
   },
   {
    "duration": 6,
    "start_time": "2023-06-08T08:34:48.356Z"
   },
   {
    "duration": 5,
    "start_time": "2023-06-08T08:34:48.364Z"
   },
   {
    "duration": 10,
    "start_time": "2023-06-08T08:34:48.370Z"
   },
   {
    "duration": 65,
    "start_time": "2023-06-08T08:34:48.381Z"
   },
   {
    "duration": 10,
    "start_time": "2023-06-08T08:34:48.447Z"
   },
   {
    "duration": 25,
    "start_time": "2023-06-08T08:34:48.458Z"
   },
   {
    "duration": 8,
    "start_time": "2023-06-08T08:34:48.485Z"
   },
   {
    "duration": 30,
    "start_time": "2023-06-08T08:34:48.494Z"
   },
   {
    "duration": 160,
    "start_time": "2023-06-08T08:34:48.526Z"
   },
   {
    "duration": 6,
    "start_time": "2023-06-08T08:34:48.687Z"
   },
   {
    "duration": 8,
    "start_time": "2023-06-08T08:34:48.695Z"
   },
   {
    "duration": 33,
    "start_time": "2023-06-08T08:34:48.704Z"
   },
   {
    "duration": 14,
    "start_time": "2023-06-08T08:34:48.739Z"
   },
   {
    "duration": 21,
    "start_time": "2023-06-08T08:34:48.755Z"
   },
   {
    "duration": 16,
    "start_time": "2023-06-08T08:34:48.778Z"
   },
   {
    "duration": 135,
    "start_time": "2023-06-08T08:34:48.795Z"
   },
   {
    "duration": 0,
    "start_time": "2023-06-08T08:34:48.931Z"
   },
   {
    "duration": 0,
    "start_time": "2023-06-08T08:34:48.932Z"
   },
   {
    "duration": 0,
    "start_time": "2023-06-08T08:34:48.934Z"
   },
   {
    "duration": 0,
    "start_time": "2023-06-08T08:34:48.935Z"
   },
   {
    "duration": 0,
    "start_time": "2023-06-08T08:34:48.935Z"
   },
   {
    "duration": 0,
    "start_time": "2023-06-08T08:34:48.936Z"
   },
   {
    "duration": 0,
    "start_time": "2023-06-08T08:34:48.937Z"
   },
   {
    "duration": 0,
    "start_time": "2023-06-08T08:34:48.938Z"
   },
   {
    "duration": 0,
    "start_time": "2023-06-08T08:34:48.939Z"
   },
   {
    "duration": 0,
    "start_time": "2023-06-08T08:34:48.940Z"
   },
   {
    "duration": 0,
    "start_time": "2023-06-08T08:34:48.941Z"
   },
   {
    "duration": 0,
    "start_time": "2023-06-08T08:34:48.942Z"
   },
   {
    "duration": 0,
    "start_time": "2023-06-08T08:34:48.943Z"
   },
   {
    "duration": 0,
    "start_time": "2023-06-08T08:34:48.944Z"
   },
   {
    "duration": 0,
    "start_time": "2023-06-08T08:34:48.944Z"
   },
   {
    "duration": 0,
    "start_time": "2023-06-08T08:34:48.945Z"
   },
   {
    "duration": 0,
    "start_time": "2023-06-08T08:34:48.946Z"
   },
   {
    "duration": 0,
    "start_time": "2023-06-08T08:34:48.947Z"
   },
   {
    "duration": 0,
    "start_time": "2023-06-08T08:34:48.948Z"
   },
   {
    "duration": 21,
    "start_time": "2023-06-08T08:35:34.861Z"
   },
   {
    "duration": 243,
    "start_time": "2023-06-08T08:36:28.538Z"
   },
   {
    "duration": 255,
    "start_time": "2023-06-08T08:36:47.264Z"
   },
   {
    "duration": 153,
    "start_time": "2023-06-08T08:37:41.794Z"
   },
   {
    "duration": 305,
    "start_time": "2023-06-08T08:38:46.133Z"
   },
   {
    "duration": 227,
    "start_time": "2023-06-08T08:39:49.544Z"
   },
   {
    "duration": 249,
    "start_time": "2023-06-08T08:40:06.846Z"
   },
   {
    "duration": 235,
    "start_time": "2023-06-08T08:40:14.261Z"
   },
   {
    "duration": 8970,
    "start_time": "2023-06-08T08:40:37.591Z"
   },
   {
    "duration": 8402,
    "start_time": "2023-06-08T08:40:46.841Z"
   },
   {
    "duration": 21,
    "start_time": "2023-06-08T08:41:02.049Z"
   },
   {
    "duration": 9042,
    "start_time": "2023-06-08T08:41:03.549Z"
   },
   {
    "duration": 8644,
    "start_time": "2023-06-08T08:41:12.593Z"
   },
   {
    "duration": 8779,
    "start_time": "2023-06-08T08:41:29.717Z"
   },
   {
    "duration": 196,
    "start_time": "2023-06-08T08:42:29.668Z"
   },
   {
    "duration": 167,
    "start_time": "2023-06-08T08:42:44.160Z"
   },
   {
    "duration": 19,
    "start_time": "2023-06-08T08:43:24.155Z"
   },
   {
    "duration": 191,
    "start_time": "2023-06-08T08:43:46.573Z"
   },
   {
    "duration": 17,
    "start_time": "2023-06-08T08:44:52.330Z"
   },
   {
    "duration": 16,
    "start_time": "2023-06-08T08:58:16.637Z"
   },
   {
    "duration": 24,
    "start_time": "2023-06-08T08:58:24.633Z"
   },
   {
    "duration": 18,
    "start_time": "2023-06-08T08:59:05.447Z"
   },
   {
    "duration": 14,
    "start_time": "2023-06-08T08:59:11.871Z"
   },
   {
    "duration": 14,
    "start_time": "2023-06-08T08:59:24.153Z"
   },
   {
    "duration": 14,
    "start_time": "2023-06-08T08:59:33.474Z"
   },
   {
    "duration": 21,
    "start_time": "2023-06-08T08:59:45.464Z"
   },
   {
    "duration": 18,
    "start_time": "2023-06-08T08:59:59.894Z"
   },
   {
    "duration": 15,
    "start_time": "2023-06-08T09:00:45.997Z"
   },
   {
    "duration": 16,
    "start_time": "2023-06-08T09:00:54.458Z"
   },
   {
    "duration": 14,
    "start_time": "2023-06-08T09:01:58.760Z"
   },
   {
    "duration": 16,
    "start_time": "2023-06-08T09:02:25.946Z"
   },
   {
    "duration": 13,
    "start_time": "2023-06-08T09:03:07.435Z"
   },
   {
    "duration": 18,
    "start_time": "2023-06-08T09:03:29.201Z"
   },
   {
    "duration": 25,
    "start_time": "2023-06-08T09:04:12.885Z"
   },
   {
    "duration": 13,
    "start_time": "2023-06-08T09:05:49.238Z"
   },
   {
    "duration": 20,
    "start_time": "2023-06-08T09:06:02.858Z"
   },
   {
    "duration": 5,
    "start_time": "2023-06-08T09:06:45.005Z"
   },
   {
    "duration": 13,
    "start_time": "2023-06-08T09:06:53.334Z"
   },
   {
    "duration": 8,
    "start_time": "2023-06-08T09:07:34.473Z"
   },
   {
    "duration": 7,
    "start_time": "2023-06-08T09:07:41.748Z"
   },
   {
    "duration": 2078,
    "start_time": "2023-06-08T09:08:03.876Z"
   },
   {
    "duration": 9,
    "start_time": "2023-06-08T09:08:13.706Z"
   },
   {
    "duration": 9,
    "start_time": "2023-06-08T09:11:01.139Z"
   },
   {
    "duration": 8,
    "start_time": "2023-06-08T09:11:22.439Z"
   },
   {
    "duration": 7,
    "start_time": "2023-06-08T09:11:37.876Z"
   },
   {
    "duration": 14,
    "start_time": "2023-06-08T09:18:53.446Z"
   },
   {
    "duration": 149,
    "start_time": "2023-06-08T09:18:56.476Z"
   },
   {
    "duration": 181,
    "start_time": "2023-06-08T09:19:18.135Z"
   },
   {
    "duration": 30,
    "start_time": "2023-06-08T09:20:14.881Z"
   },
   {
    "duration": 188,
    "start_time": "2023-06-08T09:20:16.733Z"
   },
   {
    "duration": 175,
    "start_time": "2023-06-08T09:20:30.734Z"
   },
   {
    "duration": 11,
    "start_time": "2023-06-08T09:20:43.615Z"
   },
   {
    "duration": 984,
    "start_time": "2023-06-08T09:20:45.700Z"
   },
   {
    "duration": 19,
    "start_time": "2023-06-08T09:20:54.661Z"
   },
   {
    "duration": 169,
    "start_time": "2023-06-08T09:20:56.777Z"
   },
   {
    "duration": 227,
    "start_time": "2023-06-08T09:24:24.611Z"
   },
   {
    "duration": 8,
    "start_time": "2023-06-08T09:26:15.084Z"
   },
   {
    "duration": 201,
    "start_time": "2023-06-08T09:26:18.030Z"
   },
   {
    "duration": 108,
    "start_time": "2023-06-08T09:26:40.682Z"
   },
   {
    "duration": 20,
    "start_time": "2023-06-08T09:26:43.245Z"
   },
   {
    "duration": 199,
    "start_time": "2023-06-08T09:26:44.780Z"
   },
   {
    "duration": 10,
    "start_time": "2023-06-08T10:25:40.677Z"
   },
   {
    "duration": 13,
    "start_time": "2023-06-08T10:26:07.833Z"
   },
   {
    "duration": 860,
    "start_time": "2023-06-08T10:26:42.966Z"
   },
   {
    "duration": 9,
    "start_time": "2023-06-08T10:27:36.452Z"
   },
   {
    "duration": 19,
    "start_time": "2023-06-08T10:28:16.757Z"
   },
   {
    "duration": 13,
    "start_time": "2023-06-08T10:28:49.510Z"
   },
   {
    "duration": 14,
    "start_time": "2023-06-08T10:29:00.455Z"
   },
   {
    "duration": 196,
    "start_time": "2023-06-08T10:30:17.214Z"
   },
   {
    "duration": 14,
    "start_time": "2023-06-08T10:31:43.673Z"
   },
   {
    "duration": 6,
    "start_time": "2023-06-08T10:32:17.286Z"
   },
   {
    "duration": 11,
    "start_time": "2023-06-08T10:32:27.448Z"
   },
   {
    "duration": 15,
    "start_time": "2023-06-08T10:33:01.303Z"
   },
   {
    "duration": 1455,
    "start_time": "2023-06-08T10:33:10.154Z"
   },
   {
    "duration": 3,
    "start_time": "2023-06-08T10:33:11.611Z"
   },
   {
    "duration": 88,
    "start_time": "2023-06-08T10:33:11.615Z"
   },
   {
    "duration": 78,
    "start_time": "2023-06-08T10:33:11.705Z"
   },
   {
    "duration": 516,
    "start_time": "2023-06-08T10:33:11.785Z"
   },
   {
    "duration": 34,
    "start_time": "2023-06-08T10:33:12.302Z"
   },
   {
    "duration": 11,
    "start_time": "2023-06-08T10:33:12.337Z"
   },
   {
    "duration": 21,
    "start_time": "2023-06-08T10:33:12.350Z"
   },
   {
    "duration": 15,
    "start_time": "2023-06-08T10:33:12.372Z"
   },
   {
    "duration": 39,
    "start_time": "2023-06-08T10:33:12.390Z"
   },
   {
    "duration": 46,
    "start_time": "2023-06-08T10:33:12.431Z"
   },
   {
    "duration": 12,
    "start_time": "2023-06-08T10:33:12.479Z"
   },
   {
    "duration": 84,
    "start_time": "2023-06-08T10:33:12.493Z"
   },
   {
    "duration": 9,
    "start_time": "2023-06-08T10:33:12.579Z"
   },
   {
    "duration": 20,
    "start_time": "2023-06-08T10:33:12.591Z"
   },
   {
    "duration": 133,
    "start_time": "2023-06-08T10:33:12.613Z"
   },
   {
    "duration": 210,
    "start_time": "2023-06-08T10:33:12.748Z"
   },
   {
    "duration": 13,
    "start_time": "2023-06-08T10:33:12.959Z"
   },
   {
    "duration": 114,
    "start_time": "2023-06-08T10:33:12.973Z"
   },
   {
    "duration": 25,
    "start_time": "2023-06-08T10:33:13.089Z"
   },
   {
    "duration": 37,
    "start_time": "2023-06-08T10:33:13.115Z"
   },
   {
    "duration": 393,
    "start_time": "2023-06-08T10:33:13.154Z"
   },
   {
    "duration": 4,
    "start_time": "2023-06-08T10:33:13.549Z"
   },
   {
    "duration": 11,
    "start_time": "2023-06-08T10:33:13.555Z"
   },
   {
    "duration": 12,
    "start_time": "2023-06-08T10:33:13.567Z"
   },
   {
    "duration": 11,
    "start_time": "2023-06-08T10:33:13.580Z"
   },
   {
    "duration": 19,
    "start_time": "2023-06-08T10:33:13.593Z"
   },
   {
    "duration": 13,
    "start_time": "2023-06-08T10:33:13.624Z"
   },
   {
    "duration": 15,
    "start_time": "2023-06-08T10:33:13.639Z"
   },
   {
    "duration": 17,
    "start_time": "2023-06-08T10:33:13.656Z"
   },
   {
    "duration": 22,
    "start_time": "2023-06-08T10:33:13.675Z"
   },
   {
    "duration": 6,
    "start_time": "2023-06-08T10:33:13.699Z"
   },
   {
    "duration": 28,
    "start_time": "2023-06-08T10:33:13.707Z"
   },
   {
    "duration": 24,
    "start_time": "2023-06-08T10:33:13.736Z"
   },
   {
    "duration": 7,
    "start_time": "2023-06-08T10:33:13.762Z"
   },
   {
    "duration": 9,
    "start_time": "2023-06-08T10:33:13.770Z"
   },
   {
    "duration": 10,
    "start_time": "2023-06-08T10:33:13.781Z"
   },
   {
    "duration": 55,
    "start_time": "2023-06-08T10:33:13.792Z"
   },
   {
    "duration": 9,
    "start_time": "2023-06-08T10:33:13.850Z"
   },
   {
    "duration": 43,
    "start_time": "2023-06-08T10:33:13.861Z"
   },
   {
    "duration": 9,
    "start_time": "2023-06-08T10:33:13.905Z"
   },
   {
    "duration": 17,
    "start_time": "2023-06-08T10:33:13.915Z"
   },
   {
    "duration": 139,
    "start_time": "2023-06-08T10:33:13.933Z"
   },
   {
    "duration": 16,
    "start_time": "2023-06-08T10:33:14.074Z"
   },
   {
    "duration": 149,
    "start_time": "2023-06-08T10:33:14.092Z"
   },
   {
    "duration": 0,
    "start_time": "2023-06-08T10:33:14.243Z"
   },
   {
    "duration": 0,
    "start_time": "2023-06-08T10:33:14.244Z"
   },
   {
    "duration": 0,
    "start_time": "2023-06-08T10:33:14.245Z"
   },
   {
    "duration": 0,
    "start_time": "2023-06-08T10:33:14.246Z"
   },
   {
    "duration": 0,
    "start_time": "2023-06-08T10:33:14.248Z"
   },
   {
    "duration": 0,
    "start_time": "2023-06-08T10:33:14.250Z"
   },
   {
    "duration": 0,
    "start_time": "2023-06-08T10:33:14.250Z"
   },
   {
    "duration": 0,
    "start_time": "2023-06-08T10:33:14.251Z"
   },
   {
    "duration": 0,
    "start_time": "2023-06-08T10:33:14.253Z"
   },
   {
    "duration": 0,
    "start_time": "2023-06-08T10:33:14.254Z"
   },
   {
    "duration": 0,
    "start_time": "2023-06-08T10:33:14.255Z"
   },
   {
    "duration": 0,
    "start_time": "2023-06-08T10:33:14.256Z"
   },
   {
    "duration": 0,
    "start_time": "2023-06-08T10:33:14.257Z"
   },
   {
    "duration": 0,
    "start_time": "2023-06-08T10:33:14.258Z"
   },
   {
    "duration": 0,
    "start_time": "2023-06-08T10:33:14.259Z"
   },
   {
    "duration": 0,
    "start_time": "2023-06-08T10:33:14.260Z"
   },
   {
    "duration": 0,
    "start_time": "2023-06-08T10:33:14.261Z"
   },
   {
    "duration": 0,
    "start_time": "2023-06-08T10:33:14.263Z"
   },
   {
    "duration": 0,
    "start_time": "2023-06-08T10:33:14.264Z"
   },
   {
    "duration": 0,
    "start_time": "2023-06-08T10:33:14.265Z"
   },
   {
    "duration": 0,
    "start_time": "2023-06-08T10:33:14.266Z"
   },
   {
    "duration": 0,
    "start_time": "2023-06-08T10:33:14.267Z"
   },
   {
    "duration": 0,
    "start_time": "2023-06-08T10:33:14.269Z"
   },
   {
    "duration": 0,
    "start_time": "2023-06-08T10:33:14.270Z"
   },
   {
    "duration": 0,
    "start_time": "2023-06-08T10:33:14.270Z"
   },
   {
    "duration": 0,
    "start_time": "2023-06-08T10:33:14.271Z"
   },
   {
    "duration": 0,
    "start_time": "2023-06-08T10:33:14.272Z"
   },
   {
    "duration": 0,
    "start_time": "2023-06-08T10:33:14.273Z"
   },
   {
    "duration": 0,
    "start_time": "2023-06-08T10:33:14.274Z"
   },
   {
    "duration": 0,
    "start_time": "2023-06-08T10:33:14.274Z"
   },
   {
    "duration": 0,
    "start_time": "2023-06-08T10:33:14.275Z"
   },
   {
    "duration": 0,
    "start_time": "2023-06-08T10:33:14.277Z"
   },
   {
    "duration": 0,
    "start_time": "2023-06-08T10:33:14.278Z"
   },
   {
    "duration": 0,
    "start_time": "2023-06-08T10:33:14.325Z"
   },
   {
    "duration": 0,
    "start_time": "2023-06-08T10:33:14.326Z"
   },
   {
    "duration": 0,
    "start_time": "2023-06-08T10:33:14.327Z"
   },
   {
    "duration": 4,
    "start_time": "2023-06-08T10:33:18.833Z"
   },
   {
    "duration": 2,
    "start_time": "2023-06-08T10:33:19.226Z"
   },
   {
    "duration": 32,
    "start_time": "2023-06-08T10:33:19.602Z"
   },
   {
    "duration": 80,
    "start_time": "2023-06-08T10:33:19.971Z"
   },
   {
    "duration": 427,
    "start_time": "2023-06-08T10:33:20.344Z"
   },
   {
    "duration": 44,
    "start_time": "2023-06-08T10:33:20.773Z"
   },
   {
    "duration": 9,
    "start_time": "2023-06-08T10:33:21.128Z"
   },
   {
    "duration": 5,
    "start_time": "2023-06-08T10:33:21.525Z"
   },
   {
    "duration": 5,
    "start_time": "2023-06-08T10:33:21.740Z"
   },
   {
    "duration": 18,
    "start_time": "2023-06-08T10:33:21.925Z"
   },
   {
    "duration": 30,
    "start_time": "2023-06-08T10:33:22.300Z"
   },
   {
    "duration": 11,
    "start_time": "2023-06-08T10:33:22.496Z"
   },
   {
    "duration": 60,
    "start_time": "2023-06-08T10:33:22.705Z"
   },
   {
    "duration": 5,
    "start_time": "2023-06-08T10:33:22.897Z"
   },
   {
    "duration": 11,
    "start_time": "2023-06-08T10:33:23.087Z"
   },
   {
    "duration": 95,
    "start_time": "2023-06-08T10:33:23.448Z"
   },
   {
    "duration": 236,
    "start_time": "2023-06-08T10:33:23.624Z"
   },
   {
    "duration": 27,
    "start_time": "2023-06-08T10:33:23.862Z"
   },
   {
    "duration": 10,
    "start_time": "2023-06-08T10:33:24.196Z"
   },
   {
    "duration": 10,
    "start_time": "2023-06-08T10:33:25.016Z"
   },
   {
    "duration": 11,
    "start_time": "2023-06-08T10:33:25.211Z"
   },
   {
    "duration": 240,
    "start_time": "2023-06-08T10:33:25.879Z"
   },
   {
    "duration": 14,
    "start_time": "2023-06-08T10:33:27.094Z"
   },
   {
    "duration": 4,
    "start_time": "2023-06-08T10:33:27.281Z"
   },
   {
    "duration": 9,
    "start_time": "2023-06-08T10:33:27.679Z"
   },
   {
    "duration": 9,
    "start_time": "2023-06-08T10:33:28.074Z"
   },
   {
    "duration": 6,
    "start_time": "2023-06-08T10:33:28.259Z"
   },
   {
    "duration": 5,
    "start_time": "2023-06-08T10:33:28.450Z"
   },
   {
    "duration": 10,
    "start_time": "2023-06-08T10:33:29.040Z"
   },
   {
    "duration": 7,
    "start_time": "2023-06-08T10:33:29.441Z"
   },
   {
    "duration": 12,
    "start_time": "2023-06-08T10:33:29.632Z"
   },
   {
    "duration": 6,
    "start_time": "2023-06-08T10:33:29.822Z"
   },
   {
    "duration": 16,
    "start_time": "2023-06-08T10:33:30.232Z"
   },
   {
    "duration": 24,
    "start_time": "2023-06-08T10:33:31.032Z"
   },
   {
    "duration": 11,
    "start_time": "2023-06-08T10:33:31.229Z"
   },
   {
    "duration": 6,
    "start_time": "2023-06-08T10:33:31.420Z"
   },
   {
    "duration": 11,
    "start_time": "2023-06-08T10:33:31.612Z"
   },
   {
    "duration": 33,
    "start_time": "2023-06-08T10:33:32.595Z"
   },
   {
    "duration": 10,
    "start_time": "2023-06-08T10:33:32.989Z"
   },
   {
    "duration": 28,
    "start_time": "2023-06-08T10:33:33.391Z"
   },
   {
    "duration": 8,
    "start_time": "2023-06-08T10:33:33.596Z"
   },
   {
    "duration": 7,
    "start_time": "2023-06-08T10:33:34.196Z"
   },
   {
    "duration": 164,
    "start_time": "2023-06-08T10:33:41.622Z"
   },
   {
    "duration": 19,
    "start_time": "2023-06-08T10:33:41.805Z"
   },
   {
    "duration": 178,
    "start_time": "2023-06-08T10:33:41.995Z"
   },
   {
    "duration": 14,
    "start_time": "2023-06-08T10:33:42.186Z"
   },
   {
    "duration": 5,
    "start_time": "2023-06-08T10:33:42.355Z"
   },
   {
    "duration": 15,
    "start_time": "2023-06-08T10:33:42.742Z"
   },
   {
    "duration": 16,
    "start_time": "2023-06-08T10:33:42.918Z"
   },
   {
    "duration": 22,
    "start_time": "2023-06-08T10:33:43.491Z"
   },
   {
    "duration": 305,
    "start_time": "2023-06-08T10:33:43.661Z"
   },
   {
    "duration": 0,
    "start_time": "2023-06-08T10:33:43.968Z"
   },
   {
    "duration": 8,
    "start_time": "2023-06-08T10:33:44.054Z"
   },
   {
    "duration": 144,
    "start_time": "2023-06-08T10:33:44.233Z"
   },
   {
    "duration": 144,
    "start_time": "2023-06-08T10:33:44.428Z"
   },
   {
    "duration": 19,
    "start_time": "2023-06-08T10:33:44.618Z"
   },
   {
    "duration": 245,
    "start_time": "2023-06-08T10:33:44.810Z"
   },
   {
    "duration": 4,
    "start_time": "2023-06-08T10:33:45.058Z"
   },
   {
    "duration": 13,
    "start_time": "2023-06-08T10:33:45.200Z"
   },
   {
    "duration": 12,
    "start_time": "2023-06-08T10:33:45.404Z"
   },
   {
    "duration": 118,
    "start_time": "2023-06-08T10:33:45.795Z"
   },
   {
    "duration": 11,
    "start_time": "2023-06-08T10:34:36.976Z"
   },
   {
    "duration": 8,
    "start_time": "2023-06-08T10:36:27.338Z"
   },
   {
    "duration": 7,
    "start_time": "2023-06-08T10:36:33.084Z"
   },
   {
    "duration": 139,
    "start_time": "2023-06-08T10:36:45.847Z"
   },
   {
    "duration": 212,
    "start_time": "2023-06-08T10:37:03.051Z"
   },
   {
    "duration": 135,
    "start_time": "2023-06-08T10:37:56.969Z"
   },
   {
    "duration": 298,
    "start_time": "2023-06-08T10:38:05.313Z"
   },
   {
    "duration": 295,
    "start_time": "2023-06-08T10:39:14.253Z"
   },
   {
    "duration": 17,
    "start_time": "2023-06-08T10:40:36.618Z"
   },
   {
    "duration": 308,
    "start_time": "2023-06-08T10:40:39.695Z"
   },
   {
    "duration": 124,
    "start_time": "2023-06-08T10:41:27.434Z"
   },
   {
    "duration": 14,
    "start_time": "2023-06-08T10:43:02.302Z"
   },
   {
    "duration": 169,
    "start_time": "2023-06-08T10:43:22.757Z"
   },
   {
    "duration": 126,
    "start_time": "2023-06-08T10:43:36.888Z"
   },
   {
    "duration": 333,
    "start_time": "2023-06-08T10:44:39.131Z"
   },
   {
    "duration": 29,
    "start_time": "2023-06-08T10:46:20.437Z"
   },
   {
    "duration": 246,
    "start_time": "2023-06-08T12:17:19.215Z"
   },
   {
    "duration": 15,
    "start_time": "2023-06-08T12:17:26.703Z"
   },
   {
    "duration": 226,
    "start_time": "2023-06-08T12:18:04.854Z"
   },
   {
    "duration": 213,
    "start_time": "2023-06-08T12:18:41.824Z"
   },
   {
    "duration": 483,
    "start_time": "2023-06-08T12:18:57.373Z"
   },
   {
    "duration": 171,
    "start_time": "2023-06-08T12:19:06.294Z"
   },
   {
    "duration": 210,
    "start_time": "2023-06-08T12:19:28.644Z"
   },
   {
    "duration": 195,
    "start_time": "2023-06-08T12:21:42.772Z"
   },
   {
    "duration": 234,
    "start_time": "2023-06-08T12:22:06.793Z"
   },
   {
    "duration": 24,
    "start_time": "2023-06-08T12:28:39.106Z"
   },
   {
    "duration": 575,
    "start_time": "2023-06-08T12:29:36.648Z"
   },
   {
    "duration": 55,
    "start_time": "2023-06-08T12:30:35.652Z"
   },
   {
    "duration": 50,
    "start_time": "2023-06-08T12:31:20.861Z"
   },
   {
    "duration": 49,
    "start_time": "2023-06-08T12:34:35.314Z"
   },
   {
    "duration": 15,
    "start_time": "2023-06-08T12:34:51.910Z"
   },
   {
    "duration": 124,
    "start_time": "2023-06-08T12:35:52.971Z"
   },
   {
    "duration": 16,
    "start_time": "2023-06-08T12:35:53.471Z"
   },
   {
    "duration": 91,
    "start_time": "2023-06-08T12:35:54.033Z"
   },
   {
    "duration": 6,
    "start_time": "2023-06-08T12:35:54.673Z"
   },
   {
    "duration": 19,
    "start_time": "2023-06-08T12:38:49.096Z"
   },
   {
    "duration": 6,
    "start_time": "2023-06-08T12:39:04.107Z"
   },
   {
    "duration": 18,
    "start_time": "2023-06-08T12:39:35.398Z"
   },
   {
    "duration": 11,
    "start_time": "2023-06-08T12:54:17.213Z"
   },
   {
    "duration": 115,
    "start_time": "2023-06-08T12:54:26.124Z"
   },
   {
    "duration": 64,
    "start_time": "2023-06-08T12:56:27.490Z"
   },
   {
    "duration": 20,
    "start_time": "2023-06-08T12:56:37.693Z"
   },
   {
    "duration": 182,
    "start_time": "2023-06-08T12:56:46.437Z"
   },
   {
    "duration": 218,
    "start_time": "2023-06-08T12:57:48.218Z"
   },
   {
    "duration": 120,
    "start_time": "2023-06-08T12:58:47.285Z"
   },
   {
    "duration": 12,
    "start_time": "2023-06-08T12:58:54.449Z"
   },
   {
    "duration": 27,
    "start_time": "2023-06-08T12:59:00.273Z"
   },
   {
    "duration": 169,
    "start_time": "2023-06-08T12:59:17.412Z"
   },
   {
    "duration": 28,
    "start_time": "2023-06-08T13:02:30.907Z"
   },
   {
    "duration": 271,
    "start_time": "2023-06-08T13:03:32.202Z"
   },
   {
    "duration": 190,
    "start_time": "2023-06-08T13:04:37.403Z"
   },
   {
    "duration": 158,
    "start_time": "2023-06-08T13:04:49.078Z"
   },
   {
    "duration": 61,
    "start_time": "2023-06-08T13:05:37.601Z"
   },
   {
    "duration": 160,
    "start_time": "2023-06-08T13:06:27.618Z"
   },
   {
    "duration": 62,
    "start_time": "2023-06-08T13:06:34.483Z"
   },
   {
    "duration": 64,
    "start_time": "2023-06-08T13:06:54.256Z"
   },
   {
    "duration": 11,
    "start_time": "2023-06-08T13:12:45.886Z"
   },
   {
    "duration": 12,
    "start_time": "2023-06-08T13:13:50.977Z"
   },
   {
    "duration": 10,
    "start_time": "2023-06-08T13:14:42.417Z"
   },
   {
    "duration": 10,
    "start_time": "2023-06-08T13:14:59.485Z"
   },
   {
    "duration": 3,
    "start_time": "2023-06-08T13:27:30.567Z"
   },
   {
    "duration": 15,
    "start_time": "2023-06-08T13:42:18.593Z"
   },
   {
    "duration": 19,
    "start_time": "2023-06-08T13:42:25.496Z"
   },
   {
    "duration": 12,
    "start_time": "2023-06-08T13:46:05.193Z"
   },
   {
    "duration": 4,
    "start_time": "2023-06-08T13:47:32.946Z"
   },
   {
    "duration": 4,
    "start_time": "2023-06-08T13:47:48.413Z"
   },
   {
    "duration": 5,
    "start_time": "2023-06-08T14:03:09.299Z"
   },
   {
    "duration": 2,
    "start_time": "2023-06-08T14:03:09.644Z"
   },
   {
    "duration": 32,
    "start_time": "2023-06-08T14:03:10.018Z"
   },
   {
    "duration": 67,
    "start_time": "2023-06-08T14:03:10.384Z"
   },
   {
    "duration": 492,
    "start_time": "2023-06-08T14:03:10.750Z"
   },
   {
    "duration": 46,
    "start_time": "2023-06-08T14:03:11.243Z"
   },
   {
    "duration": 10,
    "start_time": "2023-06-08T14:03:11.499Z"
   },
   {
    "duration": 4,
    "start_time": "2023-06-08T14:03:11.878Z"
   },
   {
    "duration": 6,
    "start_time": "2023-06-08T14:03:12.055Z"
   },
   {
    "duration": 18,
    "start_time": "2023-06-08T14:03:12.235Z"
   },
   {
    "duration": 30,
    "start_time": "2023-06-08T14:03:12.605Z"
   },
   {
    "duration": 12,
    "start_time": "2023-06-08T14:03:12.805Z"
   },
   {
    "duration": 66,
    "start_time": "2023-06-08T14:03:13.020Z"
   },
   {
    "duration": 6,
    "start_time": "2023-06-08T14:03:13.209Z"
   },
   {
    "duration": 10,
    "start_time": "2023-06-08T14:03:13.405Z"
   },
   {
    "duration": 94,
    "start_time": "2023-06-08T14:03:13.774Z"
   },
   {
    "duration": 156,
    "start_time": "2023-06-08T14:03:13.978Z"
   },
   {
    "duration": 11,
    "start_time": "2023-06-08T14:03:14.174Z"
   },
   {
    "duration": 9,
    "start_time": "2023-06-08T14:03:14.547Z"
   },
   {
    "duration": 10,
    "start_time": "2023-06-08T14:03:15.345Z"
   },
   {
    "duration": 11,
    "start_time": "2023-06-08T14:03:15.534Z"
   },
   {
    "duration": 226,
    "start_time": "2023-06-08T14:03:16.144Z"
   },
   {
    "duration": 5,
    "start_time": "2023-06-08T14:03:16.920Z"
   },
   {
    "duration": 4,
    "start_time": "2023-06-08T14:03:17.125Z"
   },
   {
    "duration": 12,
    "start_time": "2023-06-08T14:03:17.522Z"
   },
   {
    "duration": 10,
    "start_time": "2023-06-08T14:03:17.932Z"
   },
   {
    "duration": 6,
    "start_time": "2023-06-08T14:03:18.116Z"
   },
   {
    "duration": 4,
    "start_time": "2023-06-08T14:03:18.311Z"
   },
   {
    "duration": 9,
    "start_time": "2023-06-08T14:03:18.917Z"
   },
   {
    "duration": 7,
    "start_time": "2023-06-08T14:03:19.352Z"
   },
   {
    "duration": 13,
    "start_time": "2023-06-08T14:03:19.524Z"
   },
   {
    "duration": 6,
    "start_time": "2023-06-08T14:03:19.759Z"
   },
   {
    "duration": 12,
    "start_time": "2023-06-08T14:03:20.159Z"
   },
   {
    "duration": 17,
    "start_time": "2023-06-08T14:03:21.185Z"
   },
   {
    "duration": 8,
    "start_time": "2023-06-08T14:03:21.580Z"
   },
   {
    "duration": 5,
    "start_time": "2023-06-08T14:03:21.985Z"
   },
   {
    "duration": 8,
    "start_time": "2023-06-08T14:03:22.198Z"
   },
   {
    "duration": 32,
    "start_time": "2023-06-08T14:03:23.225Z"
   },
   {
    "duration": 11,
    "start_time": "2023-06-08T14:03:23.821Z"
   },
   {
    "duration": 21,
    "start_time": "2023-06-08T14:03:24.215Z"
   },
   {
    "duration": 8,
    "start_time": "2023-06-08T14:03:24.451Z"
   },
   {
    "duration": 7,
    "start_time": "2023-06-08T14:03:25.050Z"
   },
   {
    "duration": 132,
    "start_time": "2023-06-08T14:03:25.928Z"
   },
   {
    "duration": 24,
    "start_time": "2023-06-08T14:03:26.111Z"
   },
   {
    "duration": 6,
    "start_time": "2023-06-08T14:03:26.304Z"
   },
   {
    "duration": 5,
    "start_time": "2023-06-08T14:03:26.532Z"
   },
   {
    "duration": 14,
    "start_time": "2023-06-08T14:03:26.994Z"
   },
   {
    "duration": 16,
    "start_time": "2023-06-08T14:03:27.190Z"
   },
   {
    "duration": 24,
    "start_time": "2023-06-08T14:03:27.856Z"
   },
   {
    "duration": 10,
    "start_time": "2023-06-08T14:03:28.289Z"
   },
   {
    "duration": 8,
    "start_time": "2023-06-08T14:03:28.527Z"
   },
   {
    "duration": 26,
    "start_time": "2023-06-08T14:03:29.185Z"
   },
   {
    "duration": 257,
    "start_time": "2023-06-08T14:03:29.399Z"
   },
   {
    "duration": 23,
    "start_time": "2023-06-08T14:03:30.940Z"
   },
   {
    "duration": 28,
    "start_time": "2023-06-08T14:03:31.218Z"
   },
   {
    "duration": 80,
    "start_time": "2023-06-08T14:03:31.409Z"
   },
   {
    "duration": 82,
    "start_time": "2023-06-08T14:03:31.658Z"
   },
   {
    "duration": 83,
    "start_time": "2023-06-08T14:03:32.143Z"
   },
   {
    "duration": 68,
    "start_time": "2023-06-08T14:03:33.033Z"
   },
   {
    "duration": 78,
    "start_time": "2023-06-08T14:03:34.149Z"
   },
   {
    "duration": 11,
    "start_time": "2023-06-08T14:03:46.304Z"
   },
   {
    "duration": 77,
    "start_time": "2023-06-08T14:03:46.529Z"
   },
   {
    "duration": 14,
    "start_time": "2023-06-08T14:03:47.148Z"
   },
   {
    "duration": 94,
    "start_time": "2023-06-08T14:03:47.896Z"
   },
   {
    "duration": 4,
    "start_time": "2023-06-08T14:03:48.180Z"
   },
   {
    "duration": 15,
    "start_time": "2023-06-08T14:28:28.218Z"
   },
   {
    "duration": 15,
    "start_time": "2023-06-08T14:28:32.982Z"
   },
   {
    "duration": 19,
    "start_time": "2023-06-08T14:28:39.185Z"
   },
   {
    "duration": 17,
    "start_time": "2023-06-08T14:30:04.403Z"
   },
   {
    "duration": 22,
    "start_time": "2023-06-08T14:30:10.853Z"
   },
   {
    "duration": 13,
    "start_time": "2023-06-08T14:34:28.727Z"
   },
   {
    "duration": 4,
    "start_time": "2023-06-08T14:39:12.521Z"
   },
   {
    "duration": 4,
    "start_time": "2023-06-08T14:39:31.691Z"
   },
   {
    "duration": 3,
    "start_time": "2023-06-08T14:39:43.954Z"
   },
   {
    "duration": 4,
    "start_time": "2023-06-08T14:40:21.971Z"
   },
   {
    "duration": 3,
    "start_time": "2023-06-08T14:40:38.453Z"
   },
   {
    "duration": 4,
    "start_time": "2023-06-08T14:40:57.022Z"
   },
   {
    "duration": 4,
    "start_time": "2023-06-08T14:41:09.086Z"
   },
   {
    "duration": 14,
    "start_time": "2023-06-08T14:49:39.244Z"
   },
   {
    "duration": 6,
    "start_time": "2023-06-08T14:49:45.990Z"
   },
   {
    "duration": 18,
    "start_time": "2023-06-08T14:49:49.024Z"
   },
   {
    "duration": 1369,
    "start_time": "2023-06-08T15:44:12.449Z"
   },
   {
    "duration": 11,
    "start_time": "2023-06-08T15:44:13.821Z"
   },
   {
    "duration": 89,
    "start_time": "2023-06-08T15:44:13.834Z"
   },
   {
    "duration": 81,
    "start_time": "2023-06-08T15:44:13.925Z"
   },
   {
    "duration": 512,
    "start_time": "2023-06-08T15:44:14.009Z"
   },
   {
    "duration": 37,
    "start_time": "2023-06-08T15:44:14.526Z"
   },
   {
    "duration": 13,
    "start_time": "2023-06-08T15:44:14.565Z"
   },
   {
    "duration": 9,
    "start_time": "2023-06-08T15:44:14.580Z"
   },
   {
    "duration": 8,
    "start_time": "2023-06-08T15:44:14.590Z"
   },
   {
    "duration": 27,
    "start_time": "2023-06-08T15:44:14.601Z"
   },
   {
    "duration": 41,
    "start_time": "2023-06-08T15:44:14.632Z"
   },
   {
    "duration": 13,
    "start_time": "2023-06-08T15:44:14.675Z"
   },
   {
    "duration": 77,
    "start_time": "2023-06-08T15:44:14.689Z"
   },
   {
    "duration": 5,
    "start_time": "2023-06-08T15:44:14.768Z"
   },
   {
    "duration": 14,
    "start_time": "2023-06-08T15:44:14.775Z"
   },
   {
    "duration": 136,
    "start_time": "2023-06-08T15:44:14.791Z"
   },
   {
    "duration": 202,
    "start_time": "2023-06-08T15:44:14.931Z"
   },
   {
    "duration": 14,
    "start_time": "2023-06-08T15:44:15.136Z"
   },
   {
    "duration": 14,
    "start_time": "2023-06-08T15:44:15.151Z"
   },
   {
    "duration": 9,
    "start_time": "2023-06-08T15:44:15.167Z"
   },
   {
    "duration": 13,
    "start_time": "2023-06-08T15:44:15.178Z"
   },
   {
    "duration": 427,
    "start_time": "2023-06-08T15:44:15.193Z"
   },
   {
    "duration": 8,
    "start_time": "2023-06-08T15:44:15.629Z"
   },
   {
    "duration": 20,
    "start_time": "2023-06-08T15:44:15.641Z"
   },
   {
    "duration": 27,
    "start_time": "2023-06-08T15:44:15.663Z"
   },
   {
    "duration": 41,
    "start_time": "2023-06-08T15:44:15.693Z"
   },
   {
    "duration": 38,
    "start_time": "2023-06-08T15:44:15.735Z"
   },
   {
    "duration": 15,
    "start_time": "2023-06-08T15:44:15.778Z"
   },
   {
    "duration": 27,
    "start_time": "2023-06-08T15:44:15.795Z"
   },
   {
    "duration": 26,
    "start_time": "2023-06-08T15:44:15.826Z"
   },
   {
    "duration": 26,
    "start_time": "2023-06-08T15:44:15.854Z"
   },
   {
    "duration": 60,
    "start_time": "2023-06-08T15:44:15.883Z"
   },
   {
    "duration": 17,
    "start_time": "2023-06-08T15:44:15.945Z"
   },
   {
    "duration": 27,
    "start_time": "2023-06-08T15:44:15.965Z"
   },
   {
    "duration": 27,
    "start_time": "2023-06-08T15:44:15.994Z"
   },
   {
    "duration": 32,
    "start_time": "2023-06-08T15:44:16.024Z"
   },
   {
    "duration": 37,
    "start_time": "2023-06-08T15:44:16.057Z"
   },
   {
    "duration": 45,
    "start_time": "2023-06-08T15:44:16.096Z"
   },
   {
    "duration": 14,
    "start_time": "2023-06-08T15:44:16.143Z"
   },
   {
    "duration": 59,
    "start_time": "2023-06-08T15:44:16.158Z"
   },
   {
    "duration": 33,
    "start_time": "2023-06-08T15:44:16.219Z"
   },
   {
    "duration": 25,
    "start_time": "2023-06-08T15:44:16.254Z"
   },
   {
    "duration": 180,
    "start_time": "2023-06-08T15:44:16.281Z"
   },
   {
    "duration": 18,
    "start_time": "2023-06-08T15:44:16.463Z"
   },
   {
    "duration": 12,
    "start_time": "2023-06-08T15:44:16.482Z"
   },
   {
    "duration": 12,
    "start_time": "2023-06-08T15:44:16.496Z"
   },
   {
    "duration": 17,
    "start_time": "2023-06-08T15:44:16.528Z"
   },
   {
    "duration": 36,
    "start_time": "2023-06-08T15:44:16.547Z"
   },
   {
    "duration": 77,
    "start_time": "2023-06-08T15:44:16.584Z"
   },
   {
    "duration": 12,
    "start_time": "2023-06-08T15:44:16.663Z"
   },
   {
    "duration": 20,
    "start_time": "2023-06-08T15:44:16.677Z"
   },
   {
    "duration": 39,
    "start_time": "2023-06-08T15:44:16.698Z"
   },
   {
    "duration": 142,
    "start_time": "2023-06-08T15:44:16.740Z"
   },
   {
    "duration": 0,
    "start_time": "2023-06-08T15:44:16.884Z"
   },
   {
    "duration": 0,
    "start_time": "2023-06-08T15:44:16.885Z"
   },
   {
    "duration": 0,
    "start_time": "2023-06-08T15:44:16.887Z"
   },
   {
    "duration": 0,
    "start_time": "2023-06-08T15:44:16.889Z"
   },
   {
    "duration": 0,
    "start_time": "2023-06-08T15:44:16.890Z"
   },
   {
    "duration": 0,
    "start_time": "2023-06-08T15:44:16.891Z"
   },
   {
    "duration": 0,
    "start_time": "2023-06-08T15:44:16.893Z"
   },
   {
    "duration": 0,
    "start_time": "2023-06-08T15:44:16.894Z"
   },
   {
    "duration": 0,
    "start_time": "2023-06-08T15:44:16.896Z"
   },
   {
    "duration": 0,
    "start_time": "2023-06-08T15:44:16.897Z"
   },
   {
    "duration": 0,
    "start_time": "2023-06-08T15:44:16.898Z"
   },
   {
    "duration": 0,
    "start_time": "2023-06-08T15:44:16.899Z"
   },
   {
    "duration": 1,
    "start_time": "2023-06-08T15:44:16.900Z"
   },
   {
    "duration": 0,
    "start_time": "2023-06-08T15:44:16.901Z"
   },
   {
    "duration": 0,
    "start_time": "2023-06-08T15:44:16.903Z"
   },
   {
    "duration": 0,
    "start_time": "2023-06-08T15:44:16.904Z"
   },
   {
    "duration": 0,
    "start_time": "2023-06-08T15:44:16.905Z"
   },
   {
    "duration": 0,
    "start_time": "2023-06-08T15:44:16.906Z"
   },
   {
    "duration": 0,
    "start_time": "2023-06-08T15:44:16.907Z"
   },
   {
    "duration": 0,
    "start_time": "2023-06-08T15:44:16.908Z"
   },
   {
    "duration": 0,
    "start_time": "2023-06-08T15:44:16.909Z"
   },
   {
    "duration": 0,
    "start_time": "2023-06-08T15:44:16.911Z"
   },
   {
    "duration": 0,
    "start_time": "2023-06-08T15:44:16.913Z"
   },
   {
    "duration": 0,
    "start_time": "2023-06-08T15:44:16.915Z"
   },
   {
    "duration": 0,
    "start_time": "2023-06-08T15:44:16.916Z"
   },
   {
    "duration": 0,
    "start_time": "2023-06-08T15:44:16.930Z"
   },
   {
    "duration": 0,
    "start_time": "2023-06-08T15:44:16.937Z"
   },
   {
    "duration": 0,
    "start_time": "2023-06-08T15:44:16.941Z"
   },
   {
    "duration": 0,
    "start_time": "2023-06-08T15:44:16.942Z"
   },
   {
    "duration": 0,
    "start_time": "2023-06-08T15:44:16.947Z"
   },
   {
    "duration": 0,
    "start_time": "2023-06-08T15:44:16.948Z"
   },
   {
    "duration": 7,
    "start_time": "2023-06-08T15:44:47.842Z"
   },
   {
    "duration": 12,
    "start_time": "2023-06-08T15:44:52.866Z"
   },
   {
    "duration": 34,
    "start_time": "2023-06-08T15:44:58.474Z"
   },
   {
    "duration": 5,
    "start_time": "2023-06-08T15:45:02.910Z"
   },
   {
    "duration": 15,
    "start_time": "2023-06-08T15:45:14.268Z"
   },
   {
    "duration": 6,
    "start_time": "2023-06-08T15:45:24.222Z"
   },
   {
    "duration": 16,
    "start_time": "2023-06-08T15:45:30.598Z"
   },
   {
    "duration": 18,
    "start_time": "2023-06-08T15:45:49.290Z"
   },
   {
    "duration": 7,
    "start_time": "2023-06-08T15:50:58.470Z"
   },
   {
    "duration": 2708,
    "start_time": "2023-06-08T15:51:00.406Z"
   },
   {
    "duration": 9,
    "start_time": "2023-06-08T15:51:13.537Z"
   },
   {
    "duration": 8,
    "start_time": "2023-06-08T15:53:26.622Z"
   },
   {
    "duration": 2,
    "start_time": "2023-06-08T15:53:27.013Z"
   },
   {
    "duration": 45,
    "start_time": "2023-06-08T15:53:27.406Z"
   },
   {
    "duration": 71,
    "start_time": "2023-06-08T15:53:27.802Z"
   },
   {
    "duration": 496,
    "start_time": "2023-06-08T15:53:28.205Z"
   },
   {
    "duration": 57,
    "start_time": "2023-06-08T15:53:28.703Z"
   },
   {
    "duration": 18,
    "start_time": "2023-06-08T15:53:29.017Z"
   },
   {
    "duration": 6,
    "start_time": "2023-06-08T15:53:29.413Z"
   },
   {
    "duration": 8,
    "start_time": "2023-06-08T15:53:29.615Z"
   },
   {
    "duration": 29,
    "start_time": "2023-06-08T15:53:29.823Z"
   },
   {
    "duration": 40,
    "start_time": "2023-06-08T15:53:30.249Z"
   },
   {
    "duration": 12,
    "start_time": "2023-06-08T15:53:30.446Z"
   },
   {
    "duration": 87,
    "start_time": "2023-06-08T15:53:30.662Z"
   },
   {
    "duration": 6,
    "start_time": "2023-06-08T15:53:30.869Z"
   },
   {
    "duration": 18,
    "start_time": "2023-06-08T15:53:31.066Z"
   },
   {
    "duration": 100,
    "start_time": "2023-06-08T15:53:31.482Z"
   },
   {
    "duration": 200,
    "start_time": "2023-06-08T15:53:31.656Z"
   },
   {
    "duration": 12,
    "start_time": "2023-06-08T15:53:31.899Z"
   },
   {
    "duration": 9,
    "start_time": "2023-06-08T15:53:32.311Z"
   },
   {
    "duration": 12,
    "start_time": "2023-06-08T15:53:33.187Z"
   },
   {
    "duration": 18,
    "start_time": "2023-06-08T15:53:33.586Z"
   },
   {
    "duration": 247,
    "start_time": "2023-06-08T15:53:34.216Z"
   },
   {
    "duration": 9,
    "start_time": "2023-06-08T15:53:35.098Z"
   },
   {
    "duration": 6,
    "start_time": "2023-06-08T15:53:35.279Z"
   },
   {
    "duration": 14,
    "start_time": "2023-06-08T15:53:35.719Z"
   },
   {
    "duration": 15,
    "start_time": "2023-06-08T15:53:36.142Z"
   },
   {
    "duration": 6,
    "start_time": "2023-06-08T15:53:36.360Z"
   },
   {
    "duration": 6,
    "start_time": "2023-06-08T15:53:36.562Z"
   },
   {
    "duration": 10,
    "start_time": "2023-06-08T15:53:37.186Z"
   },
   {
    "duration": 17,
    "start_time": "2023-06-08T15:53:37.620Z"
   },
   {
    "duration": 12,
    "start_time": "2023-06-08T15:53:37.842Z"
   },
   {
    "duration": 8,
    "start_time": "2023-06-08T15:53:38.054Z"
   },
   {
    "duration": 14,
    "start_time": "2023-06-08T15:53:38.471Z"
   },
   {
    "duration": 22,
    "start_time": "2023-06-08T15:53:39.359Z"
   },
   {
    "duration": 13,
    "start_time": "2023-06-08T15:53:39.770Z"
   },
   {
    "duration": 5,
    "start_time": "2023-06-08T15:53:39.994Z"
   },
   {
    "duration": 9,
    "start_time": "2023-06-08T15:53:40.185Z"
   },
   {
    "duration": 56,
    "start_time": "2023-06-08T15:53:41.302Z"
   },
   {
    "duration": 14,
    "start_time": "2023-06-08T15:53:41.734Z"
   },
   {
    "duration": 31,
    "start_time": "2023-06-08T15:53:42.181Z"
   },
   {
    "duration": 9,
    "start_time": "2023-06-08T15:53:42.405Z"
   },
   {
    "duration": 8,
    "start_time": "2023-06-08T15:53:43.070Z"
   },
   {
    "duration": 146,
    "start_time": "2023-06-08T15:53:43.944Z"
   },
   {
    "duration": 17,
    "start_time": "2023-06-08T15:53:44.147Z"
   },
   {
    "duration": 6,
    "start_time": "2023-06-08T15:53:44.371Z"
   },
   {
    "duration": 5,
    "start_time": "2023-06-08T15:53:44.591Z"
   },
   {
    "duration": 17,
    "start_time": "2023-06-08T15:53:45.437Z"
   },
   {
    "duration": 19,
    "start_time": "2023-06-08T15:53:45.724Z"
   },
   {
    "duration": 23,
    "start_time": "2023-06-08T15:53:46.342Z"
   },
   {
    "duration": 12,
    "start_time": "2023-06-08T15:53:46.772Z"
   },
   {
    "duration": 12,
    "start_time": "2023-06-08T15:53:46.983Z"
   },
   {
    "duration": 23,
    "start_time": "2023-06-08T15:53:47.638Z"
   },
   {
    "duration": 15,
    "start_time": "2023-06-08T15:53:47.849Z"
   },
   {
    "duration": 38,
    "start_time": "2023-06-08T15:53:48.514Z"
   },
   {
    "duration": 30,
    "start_time": "2023-06-08T15:53:48.746Z"
   },
   {
    "duration": 454,
    "start_time": "2023-06-08T15:53:48.974Z"
   },
   {
    "duration": 92,
    "start_time": "2023-06-08T15:53:49.430Z"
   },
   {
    "duration": 0,
    "start_time": "2023-06-08T15:53:49.524Z"
   },
   {
    "duration": 71,
    "start_time": "2023-06-08T15:53:49.630Z"
   },
   {
    "duration": 101,
    "start_time": "2023-06-08T15:53:49.843Z"
   },
   {
    "duration": 11,
    "start_time": "2023-06-08T15:53:50.281Z"
   },
   {
    "duration": 16,
    "start_time": "2023-06-08T15:53:50.722Z"
   },
   {
    "duration": 70,
    "start_time": "2023-06-08T15:53:51.443Z"
   },
   {
    "duration": 102,
    "start_time": "2023-06-08T15:53:51.677Z"
   },
   {
    "duration": 14,
    "start_time": "2023-06-08T15:53:51.917Z"
   },
   {
    "duration": 98,
    "start_time": "2023-06-08T15:53:52.153Z"
   },
   {
    "duration": 177,
    "start_time": "2023-06-08T15:53:52.486Z"
   },
   {
    "duration": 29,
    "start_time": "2023-06-08T15:53:52.746Z"
   },
   {
    "duration": 151,
    "start_time": "2023-06-08T15:53:52.946Z"
   },
   {
    "duration": 91,
    "start_time": "2023-06-08T15:53:53.221Z"
   },
   {
    "duration": 119,
    "start_time": "2023-06-08T15:53:53.448Z"
   },
   {
    "duration": 8,
    "start_time": "2023-06-08T15:53:53.720Z"
   },
   {
    "duration": 164,
    "start_time": "2023-06-08T15:53:54.310Z"
   },
   {
    "duration": 20,
    "start_time": "2023-06-08T15:53:55.165Z"
   },
   {
    "duration": 12,
    "start_time": "2023-06-08T15:53:57.776Z"
   },
   {
    "duration": 1382,
    "start_time": "2023-06-08T15:53:58.495Z"
   },
   {
    "duration": 0,
    "start_time": "2023-06-08T15:53:59.879Z"
   },
   {
    "duration": 29,
    "start_time": "2023-06-08T16:03:12.935Z"
   },
   {
    "duration": 31,
    "start_time": "2023-06-08T16:03:26.913Z"
   },
   {
    "duration": 27,
    "start_time": "2023-06-08T16:04:24.779Z"
   },
   {
    "duration": 106,
    "start_time": "2023-06-08T16:04:33.068Z"
   },
   {
    "duration": 110,
    "start_time": "2023-06-08T16:07:00.490Z"
   },
   {
    "duration": 31,
    "start_time": "2023-06-08T16:08:15.212Z"
   },
   {
    "duration": 61,
    "start_time": "2023-06-08T16:08:51.464Z"
   },
   {
    "duration": 15,
    "start_time": "2023-06-08T16:12:06.421Z"
   },
   {
    "duration": 10,
    "start_time": "2023-06-08T16:13:59.357Z"
   },
   {
    "duration": 33,
    "start_time": "2023-06-08T16:16:01.023Z"
   },
   {
    "duration": 67,
    "start_time": "2023-06-08T16:16:02.999Z"
   },
   {
    "duration": 2653,
    "start_time": "2023-06-08T16:17:26.306Z"
   },
   {
    "duration": 5,
    "start_time": "2023-06-08T16:17:32.001Z"
   },
   {
    "duration": 2499,
    "start_time": "2023-06-08T16:17:34.459Z"
   },
   {
    "duration": 24,
    "start_time": "2023-06-08T16:17:49.774Z"
   },
   {
    "duration": 5,
    "start_time": "2023-06-08T16:17:53.053Z"
   },
   {
    "duration": 16,
    "start_time": "2023-06-08T16:17:57.057Z"
   },
   {
    "duration": 1474,
    "start_time": "2023-06-08T19:44:47.947Z"
   },
   {
    "duration": 3,
    "start_time": "2023-06-08T19:44:49.423Z"
   },
   {
    "duration": 86,
    "start_time": "2023-06-08T19:44:49.428Z"
   },
   {
    "duration": 249,
    "start_time": "2023-06-08T19:44:49.516Z"
   },
   {
    "duration": 1990,
    "start_time": "2023-06-08T19:44:49.768Z"
   },
   {
    "duration": 122,
    "start_time": "2023-06-08T19:44:51.760Z"
   },
   {
    "duration": 9,
    "start_time": "2023-06-08T19:44:51.884Z"
   },
   {
    "duration": 9,
    "start_time": "2023-06-08T19:44:51.895Z"
   },
   {
    "duration": 10,
    "start_time": "2023-06-08T19:44:51.906Z"
   },
   {
    "duration": 26,
    "start_time": "2023-06-08T19:44:51.917Z"
   },
   {
    "duration": 34,
    "start_time": "2023-06-08T19:44:51.957Z"
   },
   {
    "duration": 13,
    "start_time": "2023-06-08T19:44:51.992Z"
   },
   {
    "duration": 75,
    "start_time": "2023-06-08T19:44:52.006Z"
   },
   {
    "duration": 5,
    "start_time": "2023-06-08T19:44:52.084Z"
   },
   {
    "duration": 28,
    "start_time": "2023-06-08T19:44:52.090Z"
   },
   {
    "duration": 106,
    "start_time": "2023-06-08T19:44:52.120Z"
   },
   {
    "duration": 213,
    "start_time": "2023-06-08T19:44:52.229Z"
   },
   {
    "duration": 17,
    "start_time": "2023-06-08T19:44:52.444Z"
   },
   {
    "duration": 113,
    "start_time": "2023-06-08T19:44:52.463Z"
   },
   {
    "duration": 18,
    "start_time": "2023-06-08T19:44:52.578Z"
   },
   {
    "duration": 28,
    "start_time": "2023-06-08T19:44:52.598Z"
   },
   {
    "duration": 354,
    "start_time": "2023-06-08T19:44:52.628Z"
   },
   {
    "duration": 5,
    "start_time": "2023-06-08T19:44:52.984Z"
   },
   {
    "duration": 14,
    "start_time": "2023-06-08T19:44:52.990Z"
   },
   {
    "duration": 14,
    "start_time": "2023-06-08T19:44:53.005Z"
   },
   {
    "duration": 9,
    "start_time": "2023-06-08T19:44:53.022Z"
   },
   {
    "duration": 28,
    "start_time": "2023-06-08T19:44:53.033Z"
   },
   {
    "duration": 6,
    "start_time": "2023-06-08T19:44:53.063Z"
   },
   {
    "duration": 11,
    "start_time": "2023-06-08T19:44:53.071Z"
   },
   {
    "duration": 13,
    "start_time": "2023-06-08T19:44:53.084Z"
   },
   {
    "duration": 23,
    "start_time": "2023-06-08T19:44:53.098Z"
   },
   {
    "duration": 17,
    "start_time": "2023-06-08T19:44:53.123Z"
   },
   {
    "duration": 28,
    "start_time": "2023-06-08T19:44:53.141Z"
   },
   {
    "duration": 28,
    "start_time": "2023-06-08T19:44:53.170Z"
   },
   {
    "duration": 15,
    "start_time": "2023-06-08T19:44:53.200Z"
   },
   {
    "duration": 6,
    "start_time": "2023-06-08T19:44:53.217Z"
   },
   {
    "duration": 32,
    "start_time": "2023-06-08T19:44:53.224Z"
   },
   {
    "duration": 48,
    "start_time": "2023-06-08T19:44:53.261Z"
   },
   {
    "duration": 20,
    "start_time": "2023-06-08T19:44:53.311Z"
   },
   {
    "duration": 46,
    "start_time": "2023-06-08T19:44:53.334Z"
   },
   {
    "duration": 10,
    "start_time": "2023-06-08T19:44:53.385Z"
   },
   {
    "duration": 10,
    "start_time": "2023-06-08T19:44:53.397Z"
   },
   {
    "duration": 174,
    "start_time": "2023-06-08T19:44:53.409Z"
   },
   {
    "duration": 18,
    "start_time": "2023-06-08T19:44:53.585Z"
   },
   {
    "duration": 6,
    "start_time": "2023-06-08T19:44:53.605Z"
   },
   {
    "duration": 8,
    "start_time": "2023-06-08T19:44:53.613Z"
   },
   {
    "duration": 42,
    "start_time": "2023-06-08T19:44:53.623Z"
   },
   {
    "duration": 17,
    "start_time": "2023-06-08T19:44:53.667Z"
   },
   {
    "duration": 27,
    "start_time": "2023-06-08T19:44:53.686Z"
   },
   {
    "duration": 11,
    "start_time": "2023-06-08T19:44:53.715Z"
   },
   {
    "duration": 8,
    "start_time": "2023-06-08T19:44:53.758Z"
   },
   {
    "duration": 29,
    "start_time": "2023-06-08T19:44:53.768Z"
   },
   {
    "duration": 115,
    "start_time": "2023-06-08T19:44:53.798Z"
   },
   {
    "duration": 0,
    "start_time": "2023-06-08T19:44:53.915Z"
   },
   {
    "duration": 0,
    "start_time": "2023-06-08T19:44:53.917Z"
   },
   {
    "duration": 0,
    "start_time": "2023-06-08T19:44:53.918Z"
   },
   {
    "duration": 0,
    "start_time": "2023-06-08T19:44:53.920Z"
   },
   {
    "duration": 0,
    "start_time": "2023-06-08T19:44:53.922Z"
   },
   {
    "duration": 0,
    "start_time": "2023-06-08T19:44:53.923Z"
   },
   {
    "duration": 0,
    "start_time": "2023-06-08T19:44:53.925Z"
   },
   {
    "duration": 0,
    "start_time": "2023-06-08T19:44:53.927Z"
   },
   {
    "duration": 0,
    "start_time": "2023-06-08T19:44:53.928Z"
   },
   {
    "duration": 0,
    "start_time": "2023-06-08T19:44:53.958Z"
   },
   {
    "duration": 0,
    "start_time": "2023-06-08T19:44:53.960Z"
   },
   {
    "duration": 0,
    "start_time": "2023-06-08T19:44:53.961Z"
   },
   {
    "duration": 0,
    "start_time": "2023-06-08T19:44:53.963Z"
   },
   {
    "duration": 0,
    "start_time": "2023-06-08T19:44:53.964Z"
   },
   {
    "duration": 0,
    "start_time": "2023-06-08T19:44:53.965Z"
   },
   {
    "duration": 4,
    "start_time": "2023-06-08T19:44:54.044Z"
   },
   {
    "duration": 16,
    "start_time": "2023-06-08T19:44:54.050Z"
   },
   {
    "duration": 39,
    "start_time": "2023-06-08T19:44:54.067Z"
   },
   {
    "duration": 74,
    "start_time": "2023-06-08T19:44:54.108Z"
   },
   {
    "duration": 462,
    "start_time": "2023-06-08T19:44:54.184Z"
   },
   {
    "duration": 32,
    "start_time": "2023-06-08T19:44:54.648Z"
   },
   {
    "duration": 10,
    "start_time": "2023-06-08T19:44:54.682Z"
   },
   {
    "duration": 11,
    "start_time": "2023-06-08T19:44:54.694Z"
   },
   {
    "duration": 9,
    "start_time": "2023-06-08T19:44:54.707Z"
   },
   {
    "duration": 29,
    "start_time": "2023-06-08T19:44:54.717Z"
   },
   {
    "duration": 34,
    "start_time": "2023-06-08T19:44:54.756Z"
   },
   {
    "duration": 11,
    "start_time": "2023-06-08T19:44:54.791Z"
   },
   {
    "duration": 77,
    "start_time": "2023-06-08T19:44:54.804Z"
   },
   {
    "duration": 5,
    "start_time": "2023-06-08T19:44:54.884Z"
   },
   {
    "duration": 17,
    "start_time": "2023-06-08T19:44:54.891Z"
   },
   {
    "duration": 100,
    "start_time": "2023-06-08T19:44:54.910Z"
   },
   {
    "duration": 193,
    "start_time": "2023-06-08T19:44:55.012Z"
   },
   {
    "duration": 12,
    "start_time": "2023-06-08T19:44:55.207Z"
   },
   {
    "duration": 29,
    "start_time": "2023-06-08T19:44:55.221Z"
   },
   {
    "duration": 15,
    "start_time": "2023-06-08T19:44:55.252Z"
   },
   {
    "duration": 17,
    "start_time": "2023-06-08T19:44:55.268Z"
   },
   {
    "duration": 249,
    "start_time": "2023-06-08T19:44:55.287Z"
   },
   {
    "duration": 4,
    "start_time": "2023-06-08T19:44:55.538Z"
   },
   {
    "duration": 16,
    "start_time": "2023-06-08T19:44:55.544Z"
   },
   {
    "duration": 34,
    "start_time": "2023-06-08T19:44:55.562Z"
   },
   {
    "duration": 10,
    "start_time": "2023-06-08T19:44:55.598Z"
   },
   {
    "duration": 18,
    "start_time": "2023-06-08T19:44:55.610Z"
   },
   {
    "duration": 16,
    "start_time": "2023-06-08T19:44:55.630Z"
   },
   {
    "duration": 13,
    "start_time": "2023-06-08T19:44:55.648Z"
   },
   {
    "duration": 11,
    "start_time": "2023-06-08T19:44:55.662Z"
   },
   {
    "duration": 27,
    "start_time": "2023-06-08T19:44:55.675Z"
   },
   {
    "duration": 6,
    "start_time": "2023-06-08T19:44:55.704Z"
   },
   {
    "duration": 56,
    "start_time": "2023-06-08T19:44:55.711Z"
   },
   {
    "duration": 27,
    "start_time": "2023-06-08T19:44:55.769Z"
   },
   {
    "duration": 20,
    "start_time": "2023-06-08T19:44:55.798Z"
   },
   {
    "duration": 27,
    "start_time": "2023-06-08T19:44:55.821Z"
   },
   {
    "duration": 29,
    "start_time": "2023-06-08T19:44:55.850Z"
   },
   {
    "duration": 52,
    "start_time": "2023-06-08T19:44:55.881Z"
   },
   {
    "duration": 10,
    "start_time": "2023-06-08T19:44:55.935Z"
   },
   {
    "duration": 23,
    "start_time": "2023-06-08T19:44:55.946Z"
   },
   {
    "duration": 9,
    "start_time": "2023-06-08T19:44:55.974Z"
   },
   {
    "duration": 12,
    "start_time": "2023-06-08T19:44:55.985Z"
   },
   {
    "duration": 158,
    "start_time": "2023-06-08T19:44:55.999Z"
   },
   {
    "duration": 18,
    "start_time": "2023-06-08T19:44:56.159Z"
   },
   {
    "duration": 44,
    "start_time": "2023-06-08T19:44:56.179Z"
   },
   {
    "duration": 63,
    "start_time": "2023-06-08T19:44:56.225Z"
   },
   {
    "duration": 32,
    "start_time": "2023-06-08T19:44:56.290Z"
   },
   {
    "duration": 22,
    "start_time": "2023-06-08T19:44:56.324Z"
   },
   {
    "duration": 24,
    "start_time": "2023-06-08T19:44:56.348Z"
   },
   {
    "duration": 10,
    "start_time": "2023-06-08T19:44:56.374Z"
   },
   {
    "duration": 8,
    "start_time": "2023-06-08T19:44:56.385Z"
   },
   {
    "duration": 19,
    "start_time": "2023-06-08T19:44:56.394Z"
   },
   {
    "duration": 45,
    "start_time": "2023-06-08T19:44:56.415Z"
   },
   {
    "duration": 0,
    "start_time": "2023-06-08T19:44:56.462Z"
   },
   {
    "duration": 0,
    "start_time": "2023-06-08T19:44:56.463Z"
   },
   {
    "duration": 0,
    "start_time": "2023-06-08T19:44:56.464Z"
   },
   {
    "duration": 0,
    "start_time": "2023-06-08T19:44:56.465Z"
   },
   {
    "duration": 0,
    "start_time": "2023-06-08T19:44:56.466Z"
   },
   {
    "duration": 0,
    "start_time": "2023-06-08T19:44:56.467Z"
   },
   {
    "duration": 0,
    "start_time": "2023-06-08T19:44:56.468Z"
   },
   {
    "duration": 0,
    "start_time": "2023-06-08T19:44:56.469Z"
   },
   {
    "duration": 0,
    "start_time": "2023-06-08T19:44:56.470Z"
   },
   {
    "duration": 0,
    "start_time": "2023-06-08T19:44:56.472Z"
   },
   {
    "duration": 0,
    "start_time": "2023-06-08T19:44:56.473Z"
   },
   {
    "duration": 0,
    "start_time": "2023-06-08T19:44:56.474Z"
   },
   {
    "duration": 0,
    "start_time": "2023-06-08T19:44:56.475Z"
   },
   {
    "duration": 0,
    "start_time": "2023-06-08T19:44:56.476Z"
   },
   {
    "duration": 0,
    "start_time": "2023-06-08T19:44:56.477Z"
   },
   {
    "duration": 0,
    "start_time": "2023-06-08T19:44:56.478Z"
   },
   {
    "duration": 0,
    "start_time": "2023-06-08T19:44:56.480Z"
   },
   {
    "duration": 0,
    "start_time": "2023-06-08T19:44:56.481Z"
   },
   {
    "duration": 0,
    "start_time": "2023-06-08T19:44:56.482Z"
   },
   {
    "duration": 0,
    "start_time": "2023-06-08T19:44:56.483Z"
   },
   {
    "duration": 0,
    "start_time": "2023-06-08T19:44:56.484Z"
   },
   {
    "duration": 0,
    "start_time": "2023-06-08T19:44:56.485Z"
   },
   {
    "duration": 0,
    "start_time": "2023-06-08T19:44:56.486Z"
   },
   {
    "duration": 0,
    "start_time": "2023-06-08T19:44:56.488Z"
   },
   {
    "duration": 70,
    "start_time": "2023-06-08T19:49:54.393Z"
   },
   {
    "duration": 14,
    "start_time": "2023-06-08T19:56:27.246Z"
   },
   {
    "duration": 33,
    "start_time": "2023-06-08T19:56:41.438Z"
   },
   {
    "duration": 7,
    "start_time": "2023-06-08T19:57:38.896Z"
   },
   {
    "duration": 22,
    "start_time": "2023-06-08T19:57:43.438Z"
   },
   {
    "duration": 15,
    "start_time": "2023-06-08T19:59:10.988Z"
   },
   {
    "duration": 1249,
    "start_time": "2023-06-08T20:01:16.841Z"
   },
   {
    "duration": 3,
    "start_time": "2023-06-08T20:01:18.093Z"
   },
   {
    "duration": 49,
    "start_time": "2023-06-08T20:01:18.098Z"
   },
   {
    "duration": 80,
    "start_time": "2023-06-08T20:01:18.150Z"
   },
   {
    "duration": 519,
    "start_time": "2023-06-08T20:01:18.232Z"
   },
   {
    "duration": 35,
    "start_time": "2023-06-08T20:01:18.756Z"
   },
   {
    "duration": 20,
    "start_time": "2023-06-08T20:01:18.793Z"
   },
   {
    "duration": 11,
    "start_time": "2023-06-08T20:01:18.815Z"
   },
   {
    "duration": 23,
    "start_time": "2023-06-08T20:01:18.829Z"
   },
   {
    "duration": 37,
    "start_time": "2023-06-08T20:01:18.855Z"
   },
   {
    "duration": 48,
    "start_time": "2023-06-08T20:01:18.894Z"
   },
   {
    "duration": 20,
    "start_time": "2023-06-08T20:01:18.944Z"
   },
   {
    "duration": 96,
    "start_time": "2023-06-08T20:01:18.966Z"
   },
   {
    "duration": 9,
    "start_time": "2023-06-08T20:01:19.066Z"
   },
   {
    "duration": 21,
    "start_time": "2023-06-08T20:01:19.076Z"
   },
   {
    "duration": 134,
    "start_time": "2023-06-08T20:01:19.099Z"
   },
   {
    "duration": 263,
    "start_time": "2023-06-08T20:01:19.236Z"
   },
   {
    "duration": 12,
    "start_time": "2023-06-08T20:01:19.501Z"
   },
   {
    "duration": 21,
    "start_time": "2023-06-08T20:01:19.515Z"
   },
   {
    "duration": 11,
    "start_time": "2023-06-08T20:01:19.537Z"
   },
   {
    "duration": 15,
    "start_time": "2023-06-08T20:01:19.549Z"
   },
   {
    "duration": 508,
    "start_time": "2023-06-08T20:01:19.565Z"
   },
   {
    "duration": 7,
    "start_time": "2023-06-08T20:01:20.075Z"
   },
   {
    "duration": 15,
    "start_time": "2023-06-08T20:01:20.084Z"
   },
   {
    "duration": 62,
    "start_time": "2023-06-08T20:01:20.101Z"
   },
   {
    "duration": 9,
    "start_time": "2023-06-08T20:01:20.165Z"
   },
   {
    "duration": 10,
    "start_time": "2023-06-08T20:01:20.176Z"
   },
   {
    "duration": 7,
    "start_time": "2023-06-08T20:01:20.188Z"
   },
   {
    "duration": 9,
    "start_time": "2023-06-08T20:01:20.197Z"
   },
   {
    "duration": 22,
    "start_time": "2023-06-08T20:01:20.208Z"
   },
   {
    "duration": 44,
    "start_time": "2023-06-08T20:01:20.232Z"
   },
   {
    "duration": 18,
    "start_time": "2023-06-08T20:01:20.278Z"
   },
   {
    "duration": 29,
    "start_time": "2023-06-08T20:01:20.298Z"
   },
   {
    "duration": 16,
    "start_time": "2023-06-08T20:01:20.329Z"
   },
   {
    "duration": 11,
    "start_time": "2023-06-08T20:01:20.346Z"
   },
   {
    "duration": 4,
    "start_time": "2023-06-08T20:01:20.359Z"
   },
   {
    "duration": 25,
    "start_time": "2023-06-08T20:01:20.365Z"
   },
   {
    "duration": 42,
    "start_time": "2023-06-08T20:01:20.393Z"
   },
   {
    "duration": 42,
    "start_time": "2023-06-08T20:01:20.439Z"
   },
   {
    "duration": 38,
    "start_time": "2023-06-08T20:01:20.483Z"
   },
   {
    "duration": 11,
    "start_time": "2023-06-08T20:01:20.528Z"
   },
   {
    "duration": 21,
    "start_time": "2023-06-08T20:01:20.541Z"
   },
   {
    "duration": 159,
    "start_time": "2023-06-08T20:01:20.565Z"
   },
   {
    "duration": 15,
    "start_time": "2023-06-08T20:01:20.725Z"
   },
   {
    "duration": 15,
    "start_time": "2023-06-08T20:01:20.742Z"
   },
   {
    "duration": 22,
    "start_time": "2023-06-08T20:01:20.759Z"
   },
   {
    "duration": 32,
    "start_time": "2023-06-08T20:01:20.783Z"
   },
   {
    "duration": 23,
    "start_time": "2023-06-08T20:01:20.817Z"
   },
   {
    "duration": 53,
    "start_time": "2023-06-08T20:01:20.842Z"
   },
   {
    "duration": 34,
    "start_time": "2023-06-08T20:01:20.897Z"
   },
   {
    "duration": 7,
    "start_time": "2023-06-08T20:01:20.933Z"
   },
   {
    "duration": 24,
    "start_time": "2023-06-08T20:01:20.942Z"
   },
   {
    "duration": 160,
    "start_time": "2023-06-08T20:01:20.969Z"
   },
   {
    "duration": 0,
    "start_time": "2023-06-08T20:01:21.132Z"
   },
   {
    "duration": 0,
    "start_time": "2023-06-08T20:01:21.133Z"
   },
   {
    "duration": 0,
    "start_time": "2023-06-08T20:01:21.135Z"
   },
   {
    "duration": 0,
    "start_time": "2023-06-08T20:01:21.137Z"
   },
   {
    "duration": 0,
    "start_time": "2023-06-08T20:01:21.139Z"
   },
   {
    "duration": 0,
    "start_time": "2023-06-08T20:01:21.157Z"
   },
   {
    "duration": 0,
    "start_time": "2023-06-08T20:01:21.158Z"
   },
   {
    "duration": 1,
    "start_time": "2023-06-08T20:01:21.159Z"
   },
   {
    "duration": 0,
    "start_time": "2023-06-08T20:01:21.160Z"
   },
   {
    "duration": 0,
    "start_time": "2023-06-08T20:01:21.161Z"
   },
   {
    "duration": 0,
    "start_time": "2023-06-08T20:01:21.163Z"
   },
   {
    "duration": 0,
    "start_time": "2023-06-08T20:01:21.163Z"
   },
   {
    "duration": 0,
    "start_time": "2023-06-08T20:01:21.167Z"
   },
   {
    "duration": 0,
    "start_time": "2023-06-08T20:01:21.168Z"
   },
   {
    "duration": 0,
    "start_time": "2023-06-08T20:01:21.172Z"
   },
   {
    "duration": 0,
    "start_time": "2023-06-08T20:01:21.173Z"
   },
   {
    "duration": 0,
    "start_time": "2023-06-08T20:01:21.175Z"
   },
   {
    "duration": 0,
    "start_time": "2023-06-08T20:01:21.177Z"
   },
   {
    "duration": 0,
    "start_time": "2023-06-08T20:01:21.179Z"
   },
   {
    "duration": 0,
    "start_time": "2023-06-08T20:01:21.181Z"
   },
   {
    "duration": 9,
    "start_time": "2023-06-08T20:07:21.269Z"
   },
   {
    "duration": 1329,
    "start_time": "2023-06-08T20:07:29.562Z"
   },
   {
    "duration": 4,
    "start_time": "2023-06-08T20:07:30.893Z"
   },
   {
    "duration": 99,
    "start_time": "2023-06-08T20:07:30.899Z"
   },
   {
    "duration": 125,
    "start_time": "2023-06-08T20:07:31.001Z"
   },
   {
    "duration": 529,
    "start_time": "2023-06-08T20:07:31.129Z"
   },
   {
    "duration": 34,
    "start_time": "2023-06-08T20:07:31.660Z"
   },
   {
    "duration": 140,
    "start_time": "2023-06-08T20:07:31.696Z"
   },
   {
    "duration": 43,
    "start_time": "2023-06-08T20:07:31.838Z"
   },
   {
    "duration": 46,
    "start_time": "2023-06-08T20:07:31.883Z"
   },
   {
    "duration": 33,
    "start_time": "2023-06-08T20:07:31.932Z"
   },
   {
    "duration": 49,
    "start_time": "2023-06-08T20:07:31.967Z"
   },
   {
    "duration": 12,
    "start_time": "2023-06-08T20:07:32.018Z"
   },
   {
    "duration": 95,
    "start_time": "2023-06-08T20:07:32.031Z"
   },
   {
    "duration": 4,
    "start_time": "2023-06-08T20:07:32.128Z"
   },
   {
    "duration": 28,
    "start_time": "2023-06-08T20:07:32.134Z"
   },
   {
    "duration": 113,
    "start_time": "2023-06-08T20:07:32.164Z"
   },
   {
    "duration": 210,
    "start_time": "2023-06-08T20:07:32.279Z"
   },
   {
    "duration": 12,
    "start_time": "2023-06-08T20:07:32.491Z"
   },
   {
    "duration": 17,
    "start_time": "2023-06-08T20:07:32.505Z"
   },
   {
    "duration": 33,
    "start_time": "2023-06-08T20:07:32.524Z"
   },
   {
    "duration": 20,
    "start_time": "2023-06-08T20:07:32.559Z"
   },
   {
    "duration": 335,
    "start_time": "2023-06-08T20:07:32.582Z"
   },
   {
    "duration": 6,
    "start_time": "2023-06-08T20:07:32.918Z"
   },
   {
    "duration": 11,
    "start_time": "2023-06-08T20:07:32.925Z"
   },
   {
    "duration": 39,
    "start_time": "2023-06-08T20:07:32.937Z"
   },
   {
    "duration": 36,
    "start_time": "2023-06-08T20:07:32.979Z"
   },
   {
    "duration": 9,
    "start_time": "2023-06-08T20:07:33.018Z"
   },
   {
    "duration": 8,
    "start_time": "2023-06-08T20:07:33.033Z"
   },
   {
    "duration": 10,
    "start_time": "2023-06-08T20:07:33.043Z"
   },
   {
    "duration": 14,
    "start_time": "2023-06-08T20:07:33.055Z"
   },
   {
    "duration": 11,
    "start_time": "2023-06-08T20:07:33.072Z"
   },
   {
    "duration": 13,
    "start_time": "2023-06-08T20:07:33.085Z"
   },
   {
    "duration": 26,
    "start_time": "2023-06-08T20:07:33.100Z"
   },
   {
    "duration": 43,
    "start_time": "2023-06-08T20:07:33.129Z"
   },
   {
    "duration": 10,
    "start_time": "2023-06-08T20:07:33.175Z"
   },
   {
    "duration": 19,
    "start_time": "2023-06-08T20:07:33.188Z"
   },
   {
    "duration": 31,
    "start_time": "2023-06-08T20:07:33.209Z"
   },
   {
    "duration": 70,
    "start_time": "2023-06-08T20:07:33.242Z"
   },
   {
    "duration": 13,
    "start_time": "2023-06-08T20:07:33.315Z"
   },
   {
    "duration": 32,
    "start_time": "2023-06-08T20:07:33.330Z"
   },
   {
    "duration": 9,
    "start_time": "2023-06-08T20:07:33.364Z"
   },
   {
    "duration": 15,
    "start_time": "2023-06-08T20:07:33.375Z"
   },
   {
    "duration": 166,
    "start_time": "2023-06-08T20:07:33.392Z"
   },
   {
    "duration": 18,
    "start_time": "2023-06-08T20:07:33.560Z"
   },
   {
    "duration": 5,
    "start_time": "2023-06-08T20:07:33.580Z"
   },
   {
    "duration": 8,
    "start_time": "2023-06-08T20:07:33.587Z"
   },
   {
    "duration": 17,
    "start_time": "2023-06-08T20:07:33.597Z"
   },
   {
    "duration": 47,
    "start_time": "2023-06-08T20:07:33.616Z"
   },
   {
    "duration": 22,
    "start_time": "2023-06-08T20:07:33.665Z"
   },
   {
    "duration": 20,
    "start_time": "2023-06-08T20:07:33.689Z"
   },
   {
    "duration": 10,
    "start_time": "2023-06-08T20:07:33.711Z"
   },
   {
    "duration": 42,
    "start_time": "2023-06-08T20:07:33.722Z"
   },
   {
    "duration": 109,
    "start_time": "2023-06-08T20:07:33.766Z"
   },
   {
    "duration": 0,
    "start_time": "2023-06-08T20:07:33.877Z"
   },
   {
    "duration": 0,
    "start_time": "2023-06-08T20:07:33.879Z"
   },
   {
    "duration": 0,
    "start_time": "2023-06-08T20:07:33.880Z"
   },
   {
    "duration": 0,
    "start_time": "2023-06-08T20:07:33.881Z"
   },
   {
    "duration": 0,
    "start_time": "2023-06-08T20:07:33.882Z"
   },
   {
    "duration": 0,
    "start_time": "2023-06-08T20:07:33.883Z"
   },
   {
    "duration": 0,
    "start_time": "2023-06-08T20:07:33.884Z"
   },
   {
    "duration": 0,
    "start_time": "2023-06-08T20:07:33.886Z"
   },
   {
    "duration": 0,
    "start_time": "2023-06-08T20:07:33.887Z"
   },
   {
    "duration": 0,
    "start_time": "2023-06-08T20:07:33.888Z"
   },
   {
    "duration": 0,
    "start_time": "2023-06-08T20:07:33.889Z"
   },
   {
    "duration": 0,
    "start_time": "2023-06-08T20:07:33.890Z"
   },
   {
    "duration": 0,
    "start_time": "2023-06-08T20:07:33.891Z"
   },
   {
    "duration": 0,
    "start_time": "2023-06-08T20:07:33.892Z"
   },
   {
    "duration": 0,
    "start_time": "2023-06-08T20:07:33.893Z"
   },
   {
    "duration": 0,
    "start_time": "2023-06-08T20:07:33.895Z"
   },
   {
    "duration": 0,
    "start_time": "2023-06-08T20:07:33.896Z"
   },
   {
    "duration": 0,
    "start_time": "2023-06-08T20:07:33.897Z"
   },
   {
    "duration": 0,
    "start_time": "2023-06-08T20:07:33.898Z"
   },
   {
    "duration": 0,
    "start_time": "2023-06-08T20:07:33.899Z"
   },
   {
    "duration": 4,
    "start_time": "2023-06-08T20:07:42.047Z"
   },
   {
    "duration": 3,
    "start_time": "2023-06-08T20:07:42.449Z"
   },
   {
    "duration": 32,
    "start_time": "2023-06-08T20:07:42.872Z"
   },
   {
    "duration": 76,
    "start_time": "2023-06-08T20:07:43.313Z"
   },
   {
    "duration": 515,
    "start_time": "2023-06-08T20:07:43.718Z"
   },
   {
    "duration": 47,
    "start_time": "2023-06-08T20:07:44.235Z"
   },
   {
    "duration": 11,
    "start_time": "2023-06-08T20:07:44.576Z"
   },
   {
    "duration": 5,
    "start_time": "2023-06-08T20:07:45.014Z"
   },
   {
    "duration": 7,
    "start_time": "2023-06-08T20:07:45.217Z"
   },
   {
    "duration": 16,
    "start_time": "2023-06-08T20:07:45.417Z"
   },
   {
    "duration": 36,
    "start_time": "2023-06-08T20:07:45.846Z"
   },
   {
    "duration": 13,
    "start_time": "2023-06-08T20:07:46.047Z"
   },
   {
    "duration": 55,
    "start_time": "2023-06-08T20:07:46.250Z"
   },
   {
    "duration": 7,
    "start_time": "2023-06-08T20:07:46.466Z"
   },
   {
    "duration": 11,
    "start_time": "2023-06-08T20:07:46.675Z"
   },
   {
    "duration": 96,
    "start_time": "2023-06-08T20:07:47.118Z"
   },
   {
    "duration": 224,
    "start_time": "2023-06-08T20:07:47.314Z"
   },
   {
    "duration": 21,
    "start_time": "2023-06-08T20:07:47.540Z"
   },
   {
    "duration": 10,
    "start_time": "2023-06-08T20:07:48.006Z"
   },
   {
    "duration": 12,
    "start_time": "2023-06-08T20:07:48.748Z"
   },
   {
    "duration": 14,
    "start_time": "2023-06-08T20:07:48.946Z"
   },
   {
    "duration": 241,
    "start_time": "2023-06-08T20:07:49.559Z"
   },
   {
    "duration": 5,
    "start_time": "2023-06-08T20:07:50.414Z"
   },
   {
    "duration": 5,
    "start_time": "2023-06-08T20:07:50.620Z"
   },
   {
    "duration": 13,
    "start_time": "2023-06-08T20:07:51.065Z"
   },
   {
    "duration": 13,
    "start_time": "2023-06-08T20:07:51.517Z"
   },
   {
    "duration": 7,
    "start_time": "2023-06-08T20:07:51.722Z"
   },
   {
    "duration": 6,
    "start_time": "2023-06-08T20:07:51.946Z"
   },
   {
    "duration": 10,
    "start_time": "2023-06-08T20:07:52.618Z"
   },
   {
    "duration": 7,
    "start_time": "2023-06-08T20:07:53.043Z"
   },
   {
    "duration": 20,
    "start_time": "2023-06-08T20:07:53.248Z"
   },
   {
    "duration": 8,
    "start_time": "2023-06-08T20:07:53.470Z"
   },
   {
    "duration": 15,
    "start_time": "2023-06-08T20:07:53.915Z"
   },
   {
    "duration": 17,
    "start_time": "2023-06-08T20:07:54.839Z"
   },
   {
    "duration": 9,
    "start_time": "2023-06-08T20:07:55.054Z"
   },
   {
    "duration": 6,
    "start_time": "2023-06-08T20:07:55.258Z"
   },
   {
    "duration": 17,
    "start_time": "2023-06-08T20:07:55.498Z"
   },
   {
    "duration": 41,
    "start_time": "2023-06-08T20:07:56.580Z"
   },
   {
    "duration": 11,
    "start_time": "2023-06-08T20:07:57.046Z"
   },
   {
    "duration": 25,
    "start_time": "2023-06-08T20:07:57.477Z"
   },
   {
    "duration": 10,
    "start_time": "2023-06-08T20:07:57.717Z"
   },
   {
    "duration": 10,
    "start_time": "2023-06-08T20:07:58.407Z"
   },
   {
    "duration": 160,
    "start_time": "2023-06-08T20:07:59.320Z"
   },
   {
    "duration": 18,
    "start_time": "2023-06-08T20:07:59.510Z"
   },
   {
    "duration": 5,
    "start_time": "2023-06-08T20:07:59.754Z"
   },
   {
    "duration": 5,
    "start_time": "2023-06-08T20:07:59.964Z"
   },
   {
    "duration": 14,
    "start_time": "2023-06-08T20:08:00.412Z"
   },
   {
    "duration": 15,
    "start_time": "2023-06-08T20:08:00.627Z"
   },
   {
    "duration": 24,
    "start_time": "2023-06-08T20:08:01.321Z"
   },
   {
    "duration": 16,
    "start_time": "2023-06-08T20:08:01.748Z"
   },
   {
    "duration": 9,
    "start_time": "2023-06-08T20:08:01.964Z"
   },
   {
    "duration": 20,
    "start_time": "2023-06-08T20:08:02.641Z"
   },
   {
    "duration": 14,
    "start_time": "2023-06-08T20:08:02.867Z"
   },
   {
    "duration": 19,
    "start_time": "2023-06-08T20:08:03.564Z"
   },
   {
    "duration": 20,
    "start_time": "2023-06-08T20:08:03.824Z"
   },
   {
    "duration": 503,
    "start_time": "2023-06-08T20:08:04.014Z"
   },
   {
    "duration": 48,
    "start_time": "2023-06-08T20:08:04.520Z"
   },
   {
    "duration": 25,
    "start_time": "2023-06-08T20:08:04.712Z"
   },
   {
    "duration": 57,
    "start_time": "2023-06-08T20:08:04.956Z"
   },
   {
    "duration": 12,
    "start_time": "2023-06-08T20:08:06.049Z"
   },
   {
    "duration": 10,
    "start_time": "2023-06-08T20:08:06.547Z"
   },
   {
    "duration": 49,
    "start_time": "2023-06-08T20:08:08.123Z"
   },
   {
    "duration": 16,
    "start_time": "2023-06-08T20:08:09.055Z"
   },
   {
    "duration": 25,
    "start_time": "2023-06-08T20:08:09.757Z"
   },
   {
    "duration": 5,
    "start_time": "2023-06-08T20:08:10.637Z"
   },
   {
    "duration": 24,
    "start_time": "2023-06-08T20:08:10.855Z"
   },
   {
    "duration": 47,
    "start_time": "2023-06-08T20:08:11.754Z"
   },
   {
    "duration": 1649,
    "start_time": "2023-06-09T04:38:28.226Z"
   },
   {
    "duration": 3,
    "start_time": "2023-06-09T04:38:29.877Z"
   },
   {
    "duration": 111,
    "start_time": "2023-06-09T04:38:29.882Z"
   },
   {
    "duration": 256,
    "start_time": "2023-06-09T04:38:29.995Z"
   },
   {
    "duration": 1924,
    "start_time": "2023-06-09T04:38:30.253Z"
   },
   {
    "duration": 161,
    "start_time": "2023-06-09T04:38:32.179Z"
   },
   {
    "duration": 11,
    "start_time": "2023-06-09T04:38:32.341Z"
   },
   {
    "duration": 19,
    "start_time": "2023-06-09T04:38:32.354Z"
   },
   {
    "duration": 9,
    "start_time": "2023-06-09T04:38:32.380Z"
   },
   {
    "duration": 25,
    "start_time": "2023-06-09T04:38:32.394Z"
   },
   {
    "duration": 61,
    "start_time": "2023-06-09T04:38:32.422Z"
   },
   {
    "duration": 19,
    "start_time": "2023-06-09T04:38:32.486Z"
   },
   {
    "duration": 94,
    "start_time": "2023-06-09T04:38:32.508Z"
   },
   {
    "duration": 6,
    "start_time": "2023-06-09T04:38:32.604Z"
   },
   {
    "duration": 10,
    "start_time": "2023-06-09T04:38:32.612Z"
   },
   {
    "duration": 190,
    "start_time": "2023-06-09T04:38:32.624Z"
   },
   {
    "duration": 302,
    "start_time": "2023-06-09T04:38:32.816Z"
   },
   {
    "duration": 16,
    "start_time": "2023-06-09T04:38:33.120Z"
   },
   {
    "duration": 32,
    "start_time": "2023-06-09T04:38:33.138Z"
   },
   {
    "duration": 15,
    "start_time": "2023-06-09T04:38:33.176Z"
   },
   {
    "duration": 33,
    "start_time": "2023-06-09T04:38:33.193Z"
   },
   {
    "duration": 400,
    "start_time": "2023-06-09T04:38:33.228Z"
   },
   {
    "duration": 6,
    "start_time": "2023-06-09T04:38:33.630Z"
   },
   {
    "duration": 23,
    "start_time": "2023-06-09T04:38:33.638Z"
   },
   {
    "duration": 25,
    "start_time": "2023-06-09T04:38:33.666Z"
   },
   {
    "duration": 14,
    "start_time": "2023-06-09T04:38:33.693Z"
   },
   {
    "duration": 15,
    "start_time": "2023-06-09T04:38:33.709Z"
   },
   {
    "duration": 7,
    "start_time": "2023-06-09T04:38:33.730Z"
   },
   {
    "duration": 20,
    "start_time": "2023-06-09T04:38:33.739Z"
   },
   {
    "duration": 10,
    "start_time": "2023-06-09T04:38:33.764Z"
   },
   {
    "duration": 14,
    "start_time": "2023-06-09T04:38:33.776Z"
   },
   {
    "duration": 7,
    "start_time": "2023-06-09T04:38:33.792Z"
   },
   {
    "duration": 17,
    "start_time": "2023-06-09T04:38:33.801Z"
   },
   {
    "duration": 59,
    "start_time": "2023-06-09T04:38:33.820Z"
   },
   {
    "duration": 11,
    "start_time": "2023-06-09T04:38:33.882Z"
   },
   {
    "duration": 14,
    "start_time": "2023-06-09T04:38:33.895Z"
   },
   {
    "duration": 12,
    "start_time": "2023-06-09T04:38:33.911Z"
   },
   {
    "duration": 79,
    "start_time": "2023-06-09T04:38:33.925Z"
   },
   {
    "duration": 15,
    "start_time": "2023-06-09T04:38:34.006Z"
   },
   {
    "duration": 51,
    "start_time": "2023-06-09T04:38:34.023Z"
   },
   {
    "duration": 15,
    "start_time": "2023-06-09T04:38:34.076Z"
   },
   {
    "duration": 8,
    "start_time": "2023-06-09T04:38:34.094Z"
   },
   {
    "duration": 184,
    "start_time": "2023-06-09T04:38:34.104Z"
   },
   {
    "duration": 24,
    "start_time": "2023-06-09T04:38:34.290Z"
   },
   {
    "duration": 11,
    "start_time": "2023-06-09T04:38:34.317Z"
   },
   {
    "duration": 10,
    "start_time": "2023-06-09T04:38:34.330Z"
   },
   {
    "duration": 21,
    "start_time": "2023-06-09T04:38:34.364Z"
   },
   {
    "duration": 22,
    "start_time": "2023-06-09T04:38:34.387Z"
   },
   {
    "duration": 22,
    "start_time": "2023-06-09T04:38:34.411Z"
   },
   {
    "duration": 43,
    "start_time": "2023-06-09T04:38:34.436Z"
   },
   {
    "duration": 8,
    "start_time": "2023-06-09T04:38:34.480Z"
   },
   {
    "duration": 32,
    "start_time": "2023-06-09T04:38:34.489Z"
   },
   {
    "duration": 152,
    "start_time": "2023-06-09T04:38:34.523Z"
   },
   {
    "duration": 0,
    "start_time": "2023-06-09T04:38:34.681Z"
   },
   {
    "duration": 0,
    "start_time": "2023-06-09T04:38:34.682Z"
   },
   {
    "duration": 0,
    "start_time": "2023-06-09T04:38:34.683Z"
   },
   {
    "duration": 0,
    "start_time": "2023-06-09T04:38:34.686Z"
   },
   {
    "duration": 0,
    "start_time": "2023-06-09T04:38:34.687Z"
   },
   {
    "duration": 0,
    "start_time": "2023-06-09T04:38:34.689Z"
   },
   {
    "duration": 1,
    "start_time": "2023-06-09T04:38:34.690Z"
   },
   {
    "duration": 0,
    "start_time": "2023-06-09T04:38:34.692Z"
   },
   {
    "duration": 0,
    "start_time": "2023-06-09T04:38:34.694Z"
   },
   {
    "duration": 0,
    "start_time": "2023-06-09T04:38:34.695Z"
   },
   {
    "duration": 0,
    "start_time": "2023-06-09T04:38:34.697Z"
   },
   {
    "duration": 0,
    "start_time": "2023-06-09T04:38:34.698Z"
   },
   {
    "duration": 0,
    "start_time": "2023-06-09T04:38:34.700Z"
   },
   {
    "duration": 0,
    "start_time": "2023-06-09T04:38:34.702Z"
   },
   {
    "duration": 0,
    "start_time": "2023-06-09T04:38:34.704Z"
   },
   {
    "duration": 0,
    "start_time": "2023-06-09T04:38:34.705Z"
   },
   {
    "duration": 5,
    "start_time": "2023-06-09T04:46:36.304Z"
   },
   {
    "duration": 2,
    "start_time": "2023-06-09T04:46:36.669Z"
   },
   {
    "duration": 33,
    "start_time": "2023-06-09T04:46:37.004Z"
   },
   {
    "duration": 70,
    "start_time": "2023-06-09T04:46:37.366Z"
   },
   {
    "duration": 507,
    "start_time": "2023-06-09T04:46:37.726Z"
   },
   {
    "duration": 54,
    "start_time": "2023-06-09T04:46:38.235Z"
   },
   {
    "duration": 16,
    "start_time": "2023-06-09T04:46:38.453Z"
   },
   {
    "duration": 6,
    "start_time": "2023-06-09T04:46:38.999Z"
   },
   {
    "duration": 6,
    "start_time": "2023-06-09T04:46:39.189Z"
   },
   {
    "duration": 17,
    "start_time": "2023-06-09T04:46:39.377Z"
   },
   {
    "duration": 34,
    "start_time": "2023-06-09T04:46:39.917Z"
   },
   {
    "duration": 16,
    "start_time": "2023-06-09T04:46:40.144Z"
   },
   {
    "duration": 69,
    "start_time": "2023-06-09T04:46:40.351Z"
   },
   {
    "duration": 5,
    "start_time": "2023-06-09T04:46:40.530Z"
   },
   {
    "duration": 7,
    "start_time": "2023-06-09T04:46:40.728Z"
   },
   {
    "duration": 101,
    "start_time": "2023-06-09T04:46:41.092Z"
   },
   {
    "duration": 219,
    "start_time": "2023-06-09T04:46:41.280Z"
   },
   {
    "duration": 12,
    "start_time": "2023-06-09T04:46:41.501Z"
   },
   {
    "duration": 9,
    "start_time": "2023-06-09T04:46:41.884Z"
   },
   {
    "duration": 12,
    "start_time": "2023-06-09T04:46:42.680Z"
   },
   {
    "duration": 11,
    "start_time": "2023-06-09T04:46:42.871Z"
   },
   {
    "duration": 244,
    "start_time": "2023-06-09T04:46:43.480Z"
   },
   {
    "duration": 5,
    "start_time": "2023-06-09T04:46:44.246Z"
   },
   {
    "duration": 5,
    "start_time": "2023-06-09T04:46:44.418Z"
   },
   {
    "duration": 10,
    "start_time": "2023-06-09T04:46:44.835Z"
   },
   {
    "duration": 10,
    "start_time": "2023-06-09T04:46:45.209Z"
   },
   {
    "duration": 6,
    "start_time": "2023-06-09T04:46:45.407Z"
   },
   {
    "duration": 6,
    "start_time": "2023-06-09T04:46:45.599Z"
   },
   {
    "duration": 9,
    "start_time": "2023-06-09T04:46:46.242Z"
   },
   {
    "duration": 7,
    "start_time": "2023-06-09T04:46:46.672Z"
   },
   {
    "duration": 12,
    "start_time": "2023-06-09T04:46:46.884Z"
   },
   {
    "duration": 6,
    "start_time": "2023-06-09T04:46:47.085Z"
   },
   {
    "duration": 15,
    "start_time": "2023-06-09T04:46:47.521Z"
   },
   {
    "duration": 23,
    "start_time": "2023-06-09T04:46:48.375Z"
   },
   {
    "duration": 11,
    "start_time": "2023-06-09T04:46:48.581Z"
   },
   {
    "duration": 7,
    "start_time": "2023-06-09T04:46:48.796Z"
   },
   {
    "duration": 11,
    "start_time": "2023-06-09T04:46:49.011Z"
   },
   {
    "duration": 39,
    "start_time": "2023-06-09T04:46:50.089Z"
   },
   {
    "duration": 10,
    "start_time": "2023-06-09T04:46:50.511Z"
   },
   {
    "duration": 29,
    "start_time": "2023-06-09T04:46:50.959Z"
   },
   {
    "duration": 10,
    "start_time": "2023-06-09T04:46:51.176Z"
   },
   {
    "duration": 7,
    "start_time": "2023-06-09T04:46:51.820Z"
   },
   {
    "duration": 158,
    "start_time": "2023-06-09T04:46:52.656Z"
   },
   {
    "duration": 17,
    "start_time": "2023-06-09T04:46:53.086Z"
   },
   {
    "duration": 5,
    "start_time": "2023-06-09T04:46:53.296Z"
   },
   {
    "duration": 5,
    "start_time": "2023-06-09T04:46:53.509Z"
   },
   {
    "duration": 18,
    "start_time": "2023-06-09T04:46:53.941Z"
   },
   {
    "duration": 22,
    "start_time": "2023-06-09T04:46:54.128Z"
   },
   {
    "duration": 32,
    "start_time": "2023-06-09T04:46:54.797Z"
   },
   {
    "duration": 11,
    "start_time": "2023-06-09T04:46:55.222Z"
   },
   {
    "duration": 7,
    "start_time": "2023-06-09T04:46:55.422Z"
   },
   {
    "duration": 25,
    "start_time": "2023-06-09T04:46:56.048Z"
   },
   {
    "duration": 19,
    "start_time": "2023-06-09T04:46:56.258Z"
   },
   {
    "duration": 27,
    "start_time": "2023-06-09T04:46:56.905Z"
   },
   {
    "duration": 18,
    "start_time": "2023-06-09T04:46:57.090Z"
   },
   {
    "duration": 479,
    "start_time": "2023-06-09T04:46:57.304Z"
   },
   {
    "duration": 265,
    "start_time": "2023-06-09T04:47:16.658Z"
   },
   {
    "duration": 194,
    "start_time": "2023-06-09T04:57:59.026Z"
   },
   {
    "duration": 111,
    "start_time": "2023-06-09T04:58:15.405Z"
   },
   {
    "duration": 17,
    "start_time": "2023-06-09T04:58:22.658Z"
   },
   {
    "duration": 28,
    "start_time": "2023-06-09T04:58:32.653Z"
   },
   {
    "duration": 23,
    "start_time": "2023-06-09T04:58:38.146Z"
   },
   {
    "duration": 36,
    "start_time": "2023-06-09T04:58:43.270Z"
   },
   {
    "duration": 16,
    "start_time": "2023-06-09T05:00:42.275Z"
   },
   {
    "duration": 12,
    "start_time": "2023-06-09T05:00:50.006Z"
   },
   {
    "duration": 12,
    "start_time": "2023-06-09T05:00:50.214Z"
   },
   {
    "duration": 236,
    "start_time": "2023-06-09T05:00:50.779Z"
   },
   {
    "duration": 5,
    "start_time": "2023-06-09T05:00:51.746Z"
   },
   {
    "duration": 5,
    "start_time": "2023-06-09T05:00:51.939Z"
   },
   {
    "duration": 10,
    "start_time": "2023-06-09T05:00:52.317Z"
   },
   {
    "duration": 9,
    "start_time": "2023-06-09T05:00:52.719Z"
   },
   {
    "duration": 6,
    "start_time": "2023-06-09T05:00:52.916Z"
   },
   {
    "duration": 7,
    "start_time": "2023-06-09T05:00:53.107Z"
   },
   {
    "duration": 12,
    "start_time": "2023-06-09T05:00:53.672Z"
   },
   {
    "duration": 7,
    "start_time": "2023-06-09T05:00:54.074Z"
   },
   {
    "duration": 14,
    "start_time": "2023-06-09T05:00:54.256Z"
   },
   {
    "duration": 7,
    "start_time": "2023-06-09T05:00:54.469Z"
   },
   {
    "duration": 21,
    "start_time": "2023-06-09T05:00:54.878Z"
   },
   {
    "duration": 17,
    "start_time": "2023-06-09T05:00:55.704Z"
   },
   {
    "duration": 11,
    "start_time": "2023-06-09T05:00:55.887Z"
   },
   {
    "duration": 5,
    "start_time": "2023-06-09T05:00:56.090Z"
   },
   {
    "duration": 9,
    "start_time": "2023-06-09T05:00:56.303Z"
   },
   {
    "duration": 40,
    "start_time": "2023-06-09T05:00:57.307Z"
   },
   {
    "duration": 11,
    "start_time": "2023-06-09T05:00:57.708Z"
   },
   {
    "duration": 23,
    "start_time": "2023-06-09T05:00:58.108Z"
   },
   {
    "duration": 9,
    "start_time": "2023-06-09T05:00:58.295Z"
   },
   {
    "duration": 9,
    "start_time": "2023-06-09T05:00:58.938Z"
   },
   {
    "duration": 167,
    "start_time": "2023-06-09T05:00:59.762Z"
   },
   {
    "duration": 23,
    "start_time": "2023-06-09T05:00:59.950Z"
   },
   {
    "duration": 7,
    "start_time": "2023-06-09T05:01:00.139Z"
   },
   {
    "duration": 18,
    "start_time": "2023-06-09T05:01:00.353Z"
   },
   {
    "duration": 15,
    "start_time": "2023-06-09T05:01:00.737Z"
   },
   {
    "duration": 18,
    "start_time": "2023-06-09T05:01:00.940Z"
   },
   {
    "duration": 23,
    "start_time": "2023-06-09T05:01:01.578Z"
   },
   {
    "duration": 12,
    "start_time": "2023-06-09T05:01:01.996Z"
   },
   {
    "duration": 9,
    "start_time": "2023-06-09T05:01:02.188Z"
   },
   {
    "duration": 36,
    "start_time": "2023-06-09T05:01:02.836Z"
   },
   {
    "duration": 291,
    "start_time": "2023-06-09T05:01:03.041Z"
   },
   {
    "duration": 148,
    "start_time": "2023-06-09T05:01:03.628Z"
   },
   {
    "duration": 21,
    "start_time": "2023-06-09T05:01:03.843Z"
   },
   {
    "duration": 56,
    "start_time": "2023-06-09T05:01:04.065Z"
   },
   {
    "duration": 57,
    "start_time": "2023-06-09T05:01:04.455Z"
   },
   {
    "duration": 33,
    "start_time": "2023-06-09T05:01:04.651Z"
   },
   {
    "duration": 54,
    "start_time": "2023-06-09T05:01:04.873Z"
   },
   {
    "duration": 11,
    "start_time": "2023-06-09T05:01:05.502Z"
   },
   {
    "duration": 15,
    "start_time": "2023-06-09T05:01:05.941Z"
   },
   {
    "duration": 52,
    "start_time": "2023-06-09T05:01:07.180Z"
   },
   {
    "duration": 14,
    "start_time": "2023-06-09T05:01:13.870Z"
   },
   {
    "duration": 24,
    "start_time": "2023-06-09T05:01:14.477Z"
   },
   {
    "duration": 6,
    "start_time": "2023-06-09T05:01:15.273Z"
   },
   {
    "duration": 18,
    "start_time": "2023-06-09T05:01:15.486Z"
   },
   {
    "duration": 69,
    "start_time": "2023-06-09T05:01:16.826Z"
   },
   {
    "duration": 317,
    "start_time": "2023-06-09T05:03:26.478Z"
   },
   {
    "duration": 51,
    "start_time": "2023-06-09T05:03:49.688Z"
   },
   {
    "duration": 256,
    "start_time": "2023-06-09T05:04:06.528Z"
   },
   {
    "duration": 59,
    "start_time": "2023-06-09T05:04:25.623Z"
   },
   {
    "duration": 60,
    "start_time": "2023-06-09T05:08:33.981Z"
   },
   {
    "duration": 3,
    "start_time": "2023-06-09T05:12:29.946Z"
   },
   {
    "duration": 4,
    "start_time": "2023-06-09T05:12:37.015Z"
   },
   {
    "duration": 1893,
    "start_time": "2023-06-09T05:25:44.957Z"
   },
   {
    "duration": 42,
    "start_time": "2023-06-09T05:25:46.855Z"
   },
   {
    "duration": 83,
    "start_time": "2023-06-09T05:25:46.899Z"
   },
   {
    "duration": 556,
    "start_time": "2023-06-09T05:25:46.984Z"
   },
   {
    "duration": 38,
    "start_time": "2023-06-09T05:25:47.541Z"
   },
   {
    "duration": 10,
    "start_time": "2023-06-09T05:25:47.581Z"
   },
   {
    "duration": 16,
    "start_time": "2023-06-09T05:25:47.592Z"
   },
   {
    "duration": 9,
    "start_time": "2023-06-09T05:25:47.609Z"
   },
   {
    "duration": 27,
    "start_time": "2023-06-09T05:25:47.619Z"
   },
   {
    "duration": 40,
    "start_time": "2023-06-09T05:25:47.648Z"
   },
   {
    "duration": 12,
    "start_time": "2023-06-09T05:25:47.690Z"
   },
   {
    "duration": 81,
    "start_time": "2023-06-09T05:25:47.703Z"
   },
   {
    "duration": 4,
    "start_time": "2023-06-09T05:25:47.786Z"
   },
   {
    "duration": 9,
    "start_time": "2023-06-09T05:25:47.792Z"
   },
   {
    "duration": 128,
    "start_time": "2023-06-09T05:25:47.803Z"
   },
   {
    "duration": 229,
    "start_time": "2023-06-09T05:25:47.933Z"
   },
   {
    "duration": 13,
    "start_time": "2023-06-09T05:25:48.164Z"
   },
   {
    "duration": 10,
    "start_time": "2023-06-09T05:25:48.179Z"
   },
   {
    "duration": 10,
    "start_time": "2023-06-09T05:25:48.191Z"
   },
   {
    "duration": 14,
    "start_time": "2023-06-09T05:25:48.203Z"
   },
   {
    "duration": 379,
    "start_time": "2023-06-09T05:25:48.218Z"
   },
   {
    "duration": 5,
    "start_time": "2023-06-09T05:25:48.598Z"
   },
   {
    "duration": 6,
    "start_time": "2023-06-09T05:25:48.605Z"
   },
   {
    "duration": 14,
    "start_time": "2023-06-09T05:25:48.612Z"
   },
   {
    "duration": 30,
    "start_time": "2023-06-09T05:25:48.628Z"
   },
   {
    "duration": 8,
    "start_time": "2023-06-09T05:25:48.659Z"
   },
   {
    "duration": 6,
    "start_time": "2023-06-09T05:25:48.670Z"
   },
   {
    "duration": 9,
    "start_time": "2023-06-09T05:25:48.681Z"
   },
   {
    "duration": 8,
    "start_time": "2023-06-09T05:25:48.691Z"
   },
   {
    "duration": 18,
    "start_time": "2023-06-09T05:25:48.700Z"
   },
   {
    "duration": 39,
    "start_time": "2023-06-09T05:25:48.720Z"
   },
   {
    "duration": 22,
    "start_time": "2023-06-09T05:25:48.761Z"
   },
   {
    "duration": 19,
    "start_time": "2023-06-09T05:25:48.784Z"
   },
   {
    "duration": 12,
    "start_time": "2023-06-09T05:25:48.805Z"
   },
   {
    "duration": 6,
    "start_time": "2023-06-09T05:25:48.819Z"
   },
   {
    "duration": 42,
    "start_time": "2023-06-09T05:25:48.826Z"
   },
   {
    "duration": 46,
    "start_time": "2023-06-09T05:25:48.870Z"
   },
   {
    "duration": 11,
    "start_time": "2023-06-09T05:25:48.918Z"
   },
   {
    "duration": 48,
    "start_time": "2023-06-09T05:25:48.931Z"
   },
   {
    "duration": 10,
    "start_time": "2023-06-09T05:25:48.981Z"
   },
   {
    "duration": 16,
    "start_time": "2023-06-09T05:25:48.993Z"
   },
   {
    "duration": 214,
    "start_time": "2023-06-09T05:25:49.012Z"
   },
   {
    "duration": 19,
    "start_time": "2023-06-09T05:25:49.229Z"
   },
   {
    "duration": 7,
    "start_time": "2023-06-09T05:25:49.257Z"
   },
   {
    "duration": 11,
    "start_time": "2023-06-09T05:25:49.266Z"
   },
   {
    "duration": 17,
    "start_time": "2023-06-09T05:25:49.278Z"
   },
   {
    "duration": 14,
    "start_time": "2023-06-09T05:25:49.297Z"
   },
   {
    "duration": 51,
    "start_time": "2023-06-09T05:25:49.312Z"
   },
   {
    "duration": 9,
    "start_time": "2023-06-09T05:25:49.365Z"
   },
   {
    "duration": 11,
    "start_time": "2023-06-09T05:25:49.376Z"
   },
   {
    "duration": 26,
    "start_time": "2023-06-09T05:25:49.389Z"
   },
   {
    "duration": 289,
    "start_time": "2023-06-09T05:25:49.417Z"
   },
   {
    "duration": 21,
    "start_time": "2023-06-09T05:25:49.708Z"
   },
   {
    "duration": 32,
    "start_time": "2023-06-09T05:25:49.731Z"
   },
   {
    "duration": 458,
    "start_time": "2023-06-09T05:25:49.765Z"
   },
   {
    "duration": 76,
    "start_time": "2023-06-09T05:25:50.225Z"
   },
   {
    "duration": 55,
    "start_time": "2023-06-09T05:25:50.357Z"
   },
   {
    "duration": 0,
    "start_time": "2023-06-09T05:25:50.413Z"
   },
   {
    "duration": 0,
    "start_time": "2023-06-09T05:25:50.414Z"
   },
   {
    "duration": 0,
    "start_time": "2023-06-09T05:25:50.415Z"
   },
   {
    "duration": 0,
    "start_time": "2023-06-09T05:25:50.417Z"
   },
   {
    "duration": 0,
    "start_time": "2023-06-09T05:25:50.418Z"
   },
   {
    "duration": 0,
    "start_time": "2023-06-09T05:25:50.419Z"
   },
   {
    "duration": 0,
    "start_time": "2023-06-09T05:25:50.420Z"
   },
   {
    "duration": 0,
    "start_time": "2023-06-09T05:25:50.421Z"
   },
   {
    "duration": 0,
    "start_time": "2023-06-09T05:25:50.422Z"
   },
   {
    "duration": 0,
    "start_time": "2023-06-09T05:25:50.423Z"
   },
   {
    "duration": 0,
    "start_time": "2023-06-09T05:25:50.424Z"
   },
   {
    "duration": 0,
    "start_time": "2023-06-09T05:25:50.425Z"
   },
   {
    "duration": 0,
    "start_time": "2023-06-09T05:25:50.426Z"
   },
   {
    "duration": 0,
    "start_time": "2023-06-09T05:25:50.428Z"
   },
   {
    "duration": 1275,
    "start_time": "2023-06-09T05:37:11.870Z"
   },
   {
    "duration": 37,
    "start_time": "2023-06-09T05:37:13.148Z"
   },
   {
    "duration": 92,
    "start_time": "2023-06-09T05:37:13.187Z"
   },
   {
    "duration": 522,
    "start_time": "2023-06-09T05:37:13.281Z"
   },
   {
    "duration": 32,
    "start_time": "2023-06-09T05:37:13.805Z"
   },
   {
    "duration": 11,
    "start_time": "2023-06-09T05:37:13.839Z"
   },
   {
    "duration": 10,
    "start_time": "2023-06-09T05:37:13.856Z"
   },
   {
    "duration": 10,
    "start_time": "2023-06-09T05:37:13.869Z"
   },
   {
    "duration": 27,
    "start_time": "2023-06-09T05:37:13.880Z"
   },
   {
    "duration": 36,
    "start_time": "2023-06-09T05:37:13.909Z"
   },
   {
    "duration": 16,
    "start_time": "2023-06-09T05:37:13.956Z"
   },
   {
    "duration": 57,
    "start_time": "2023-06-09T05:37:13.974Z"
   },
   {
    "duration": 25,
    "start_time": "2023-06-09T05:37:14.033Z"
   },
   {
    "duration": 12,
    "start_time": "2023-06-09T05:37:14.063Z"
   },
   {
    "duration": 119,
    "start_time": "2023-06-09T05:37:14.077Z"
   },
   {
    "duration": 205,
    "start_time": "2023-06-09T05:37:14.198Z"
   },
   {
    "duration": 11,
    "start_time": "2023-06-09T05:37:14.405Z"
   },
   {
    "duration": 11,
    "start_time": "2023-06-09T05:37:14.418Z"
   },
   {
    "duration": 28,
    "start_time": "2023-06-09T05:37:14.431Z"
   },
   {
    "duration": 21,
    "start_time": "2023-06-09T05:37:14.460Z"
   },
   {
    "duration": 336,
    "start_time": "2023-06-09T05:37:14.484Z"
   },
   {
    "duration": 5,
    "start_time": "2023-06-09T05:37:14.822Z"
   },
   {
    "duration": 5,
    "start_time": "2023-06-09T05:37:14.829Z"
   },
   {
    "duration": 32,
    "start_time": "2023-06-09T05:37:14.835Z"
   },
   {
    "duration": 12,
    "start_time": "2023-06-09T05:37:14.869Z"
   },
   {
    "duration": 12,
    "start_time": "2023-06-09T05:37:14.883Z"
   },
   {
    "duration": 5,
    "start_time": "2023-06-09T05:37:14.897Z"
   },
   {
    "duration": 13,
    "start_time": "2023-06-09T05:37:14.904Z"
   },
   {
    "duration": 45,
    "start_time": "2023-06-09T05:37:14.919Z"
   },
   {
    "duration": 13,
    "start_time": "2023-06-09T05:37:14.967Z"
   },
   {
    "duration": 6,
    "start_time": "2023-06-09T05:37:14.982Z"
   },
   {
    "duration": 14,
    "start_time": "2023-06-09T05:37:14.989Z"
   },
   {
    "duration": 29,
    "start_time": "2023-06-09T05:37:15.005Z"
   },
   {
    "duration": 52,
    "start_time": "2023-06-09T05:37:15.035Z"
   },
   {
    "duration": 44,
    "start_time": "2023-06-09T05:37:15.089Z"
   },
   {
    "duration": 14,
    "start_time": "2023-06-09T05:37:15.135Z"
   },
   {
    "duration": 59,
    "start_time": "2023-06-09T05:37:15.151Z"
   },
   {
    "duration": 15,
    "start_time": "2023-06-09T05:37:15.212Z"
   },
   {
    "duration": 35,
    "start_time": "2023-06-09T05:37:15.229Z"
   },
   {
    "duration": 11,
    "start_time": "2023-06-09T05:37:15.267Z"
   },
   {
    "duration": 9,
    "start_time": "2023-06-09T05:37:15.284Z"
   },
   {
    "duration": 184,
    "start_time": "2023-06-09T05:37:15.295Z"
   },
   {
    "duration": 15,
    "start_time": "2023-06-09T05:37:15.481Z"
   },
   {
    "duration": 5,
    "start_time": "2023-06-09T05:37:15.498Z"
   },
   {
    "duration": 6,
    "start_time": "2023-06-09T05:37:15.505Z"
   },
   {
    "duration": 17,
    "start_time": "2023-06-09T05:37:15.512Z"
   },
   {
    "duration": 19,
    "start_time": "2023-06-09T05:37:15.556Z"
   },
   {
    "duration": 22,
    "start_time": "2023-06-09T05:37:15.576Z"
   },
   {
    "duration": 8,
    "start_time": "2023-06-09T05:37:15.600Z"
   },
   {
    "duration": 15,
    "start_time": "2023-06-09T05:37:15.610Z"
   },
   {
    "duration": 43,
    "start_time": "2023-06-09T05:37:15.626Z"
   },
   {
    "duration": 259,
    "start_time": "2023-06-09T05:37:15.671Z"
   },
   {
    "duration": 38,
    "start_time": "2023-06-09T05:37:15.932Z"
   },
   {
    "duration": 24,
    "start_time": "2023-06-09T05:37:15.972Z"
   },
   {
    "duration": 433,
    "start_time": "2023-06-09T05:37:15.998Z"
   },
   {
    "duration": 73,
    "start_time": "2023-06-09T05:37:16.433Z"
   },
   {
    "duration": 59,
    "start_time": "2023-06-09T05:37:16.555Z"
   },
   {
    "duration": 0,
    "start_time": "2023-06-09T05:37:16.616Z"
   },
   {
    "duration": 0,
    "start_time": "2023-06-09T05:37:16.617Z"
   },
   {
    "duration": 0,
    "start_time": "2023-06-09T05:37:16.618Z"
   },
   {
    "duration": 0,
    "start_time": "2023-06-09T05:37:16.619Z"
   },
   {
    "duration": 0,
    "start_time": "2023-06-09T05:37:16.620Z"
   },
   {
    "duration": 0,
    "start_time": "2023-06-09T05:37:16.621Z"
   },
   {
    "duration": 0,
    "start_time": "2023-06-09T05:37:16.622Z"
   },
   {
    "duration": 0,
    "start_time": "2023-06-09T05:37:16.623Z"
   },
   {
    "duration": 0,
    "start_time": "2023-06-09T05:37:16.624Z"
   },
   {
    "duration": 0,
    "start_time": "2023-06-09T05:37:16.625Z"
   },
   {
    "duration": 0,
    "start_time": "2023-06-09T05:37:16.626Z"
   },
   {
    "duration": 0,
    "start_time": "2023-06-09T05:37:16.628Z"
   },
   {
    "duration": 0,
    "start_time": "2023-06-09T05:37:16.629Z"
   },
   {
    "duration": 0,
    "start_time": "2023-06-09T05:37:16.630Z"
   },
   {
    "duration": 25,
    "start_time": "2023-06-09T05:38:35.320Z"
   },
   {
    "duration": 54,
    "start_time": "2023-06-09T05:38:37.958Z"
   },
   {
    "duration": 11,
    "start_time": "2023-06-09T05:39:15.978Z"
   },
   {
    "duration": 9,
    "start_time": "2023-06-09T05:40:26.417Z"
   },
   {
    "duration": 13,
    "start_time": "2023-06-09T05:44:44.677Z"
   },
   {
    "duration": 5,
    "start_time": "2023-06-09T05:45:15.896Z"
   },
   {
    "duration": 6,
    "start_time": "2023-06-09T05:46:39.268Z"
   },
   {
    "duration": 156,
    "start_time": "2023-06-09T05:46:43.054Z"
   },
   {
    "duration": 30,
    "start_time": "2023-06-09T05:46:48.643Z"
   },
   {
    "duration": 6,
    "start_time": "2023-06-09T05:46:52.604Z"
   },
   {
    "duration": 23,
    "start_time": "2023-06-09T05:46:55.198Z"
   },
   {
    "duration": 1457,
    "start_time": "2023-06-09T06:16:55.965Z"
   },
   {
    "duration": 70,
    "start_time": "2023-06-09T06:16:57.425Z"
   },
   {
    "duration": 118,
    "start_time": "2023-06-09T06:16:57.497Z"
   },
   {
    "duration": 684,
    "start_time": "2023-06-09T06:16:57.618Z"
   },
   {
    "duration": 72,
    "start_time": "2023-06-09T06:16:58.304Z"
   },
   {
    "duration": 19,
    "start_time": "2023-06-09T06:16:58.378Z"
   },
   {
    "duration": 60,
    "start_time": "2023-06-09T06:16:58.399Z"
   },
   {
    "duration": 14,
    "start_time": "2023-06-09T06:16:58.461Z"
   },
   {
    "duration": 43,
    "start_time": "2023-06-09T06:16:58.478Z"
   },
   {
    "duration": 61,
    "start_time": "2023-06-09T06:16:58.525Z"
   },
   {
    "duration": 18,
    "start_time": "2023-06-09T06:16:58.589Z"
   },
   {
    "duration": 101,
    "start_time": "2023-06-09T06:16:58.609Z"
   },
   {
    "duration": 201,
    "start_time": "2023-06-09T06:16:58.711Z"
   },
   {
    "duration": 169,
    "start_time": "2023-06-09T06:16:58.913Z"
   },
   {
    "duration": 163,
    "start_time": "2023-06-09T06:16:59.083Z"
   },
   {
    "duration": 294,
    "start_time": "2023-06-09T06:16:59.249Z"
   },
   {
    "duration": 24,
    "start_time": "2023-06-09T06:16:59.545Z"
   },
   {
    "duration": 17,
    "start_time": "2023-06-09T06:16:59.572Z"
   },
   {
    "duration": 21,
    "start_time": "2023-06-09T06:16:59.592Z"
   },
   {
    "duration": 41,
    "start_time": "2023-06-09T06:16:59.615Z"
   },
   {
    "duration": 421,
    "start_time": "2023-06-09T06:16:59.659Z"
   },
   {
    "duration": 6,
    "start_time": "2023-06-09T06:17:00.082Z"
   },
   {
    "duration": 78,
    "start_time": "2023-06-09T06:17:00.091Z"
   },
   {
    "duration": 64,
    "start_time": "2023-06-09T06:17:00.171Z"
   },
   {
    "duration": 62,
    "start_time": "2023-06-09T06:17:00.237Z"
   },
   {
    "duration": 95,
    "start_time": "2023-06-09T06:17:00.302Z"
   },
   {
    "duration": 71,
    "start_time": "2023-06-09T06:17:00.399Z"
   },
   {
    "duration": 59,
    "start_time": "2023-06-09T06:17:00.475Z"
   },
   {
    "duration": 73,
    "start_time": "2023-06-09T06:17:00.536Z"
   },
   {
    "duration": 47,
    "start_time": "2023-06-09T06:17:00.612Z"
   },
   {
    "duration": 35,
    "start_time": "2023-06-09T06:17:00.661Z"
   },
   {
    "duration": 38,
    "start_time": "2023-06-09T06:17:00.698Z"
   },
   {
    "duration": 46,
    "start_time": "2023-06-09T06:17:00.738Z"
   },
   {
    "duration": 33,
    "start_time": "2023-06-09T06:17:00.786Z"
   },
   {
    "duration": 44,
    "start_time": "2023-06-09T06:17:00.821Z"
   },
   {
    "duration": 57,
    "start_time": "2023-06-09T06:17:00.867Z"
   },
   {
    "duration": 98,
    "start_time": "2023-06-09T06:17:00.925Z"
   },
   {
    "duration": 12,
    "start_time": "2023-06-09T06:17:01.025Z"
   },
   {
    "duration": 44,
    "start_time": "2023-06-09T06:17:01.039Z"
   },
   {
    "duration": 13,
    "start_time": "2023-06-09T06:17:01.085Z"
   },
   {
    "duration": 42,
    "start_time": "2023-06-09T06:17:01.100Z"
   },
   {
    "duration": 296,
    "start_time": "2023-06-09T06:17:01.144Z"
   },
   {
    "duration": 37,
    "start_time": "2023-06-09T06:17:01.442Z"
   },
   {
    "duration": 54,
    "start_time": "2023-06-09T06:17:01.481Z"
   },
   {
    "duration": 145,
    "start_time": "2023-06-09T06:17:01.537Z"
   },
   {
    "duration": 60,
    "start_time": "2023-06-09T06:17:01.684Z"
   },
   {
    "duration": 46,
    "start_time": "2023-06-09T06:17:01.747Z"
   },
   {
    "duration": 83,
    "start_time": "2023-06-09T06:17:01.795Z"
   },
   {
    "duration": 42,
    "start_time": "2023-06-09T06:17:01.880Z"
   },
   {
    "duration": 55,
    "start_time": "2023-06-09T06:17:01.924Z"
   },
   {
    "duration": 29,
    "start_time": "2023-06-09T06:17:01.981Z"
   },
   {
    "duration": 295,
    "start_time": "2023-06-09T06:17:02.013Z"
   },
   {
    "duration": 29,
    "start_time": "2023-06-09T06:17:02.310Z"
   },
   {
    "duration": 41,
    "start_time": "2023-06-09T06:17:02.341Z"
   },
   {
    "duration": 2199,
    "start_time": "2023-06-09T06:17:02.385Z"
   },
   {
    "duration": 25,
    "start_time": "2023-06-09T06:17:04.586Z"
   },
   {
    "duration": 168,
    "start_time": "2023-06-09T06:17:04.612Z"
   },
   {
    "duration": 15,
    "start_time": "2023-06-09T06:17:04.782Z"
   },
   {
    "duration": 31,
    "start_time": "2023-06-09T06:17:04.799Z"
   },
   {
    "duration": 40,
    "start_time": "2023-06-09T06:17:04.833Z"
   },
   {
    "duration": 41,
    "start_time": "2023-06-09T06:17:04.874Z"
   },
   {
    "duration": 6,
    "start_time": "2023-06-09T06:17:04.917Z"
   },
   {
    "duration": 46,
    "start_time": "2023-06-09T06:17:04.925Z"
   },
   {
    "duration": 62,
    "start_time": "2023-06-09T06:17:04.973Z"
   },
   {
    "duration": 1381,
    "start_time": "2023-06-10T06:24:45.389Z"
   },
   {
    "duration": 73,
    "start_time": "2023-06-10T06:24:46.772Z"
   },
   {
    "duration": 174,
    "start_time": "2023-06-10T06:24:46.846Z"
   },
   {
    "duration": 59,
    "start_time": "2023-06-10T06:24:47.022Z"
   },
   {
    "duration": 0,
    "start_time": "2023-06-10T06:24:47.084Z"
   },
   {
    "duration": 0,
    "start_time": "2023-06-10T06:24:47.085Z"
   },
   {
    "duration": 0,
    "start_time": "2023-06-10T06:24:47.087Z"
   },
   {
    "duration": 0,
    "start_time": "2023-06-10T06:24:47.088Z"
   },
   {
    "duration": 0,
    "start_time": "2023-06-10T06:24:47.090Z"
   },
   {
    "duration": 0,
    "start_time": "2023-06-10T06:24:47.091Z"
   },
   {
    "duration": 0,
    "start_time": "2023-06-10T06:24:47.092Z"
   },
   {
    "duration": 0,
    "start_time": "2023-06-10T06:24:47.094Z"
   },
   {
    "duration": 0,
    "start_time": "2023-06-10T06:24:47.095Z"
   },
   {
    "duration": 0,
    "start_time": "2023-06-10T06:24:47.096Z"
   },
   {
    "duration": 0,
    "start_time": "2023-06-10T06:24:47.098Z"
   },
   {
    "duration": 0,
    "start_time": "2023-06-10T06:24:47.099Z"
   },
   {
    "duration": 0,
    "start_time": "2023-06-10T06:24:47.101Z"
   },
   {
    "duration": 0,
    "start_time": "2023-06-10T06:24:47.102Z"
   },
   {
    "duration": 0,
    "start_time": "2023-06-10T06:24:47.104Z"
   },
   {
    "duration": 0,
    "start_time": "2023-06-10T06:24:47.105Z"
   },
   {
    "duration": 0,
    "start_time": "2023-06-10T06:24:47.107Z"
   },
   {
    "duration": 0,
    "start_time": "2023-06-10T06:24:47.108Z"
   },
   {
    "duration": 0,
    "start_time": "2023-06-10T06:24:47.109Z"
   },
   {
    "duration": 0,
    "start_time": "2023-06-10T06:24:47.111Z"
   },
   {
    "duration": 0,
    "start_time": "2023-06-10T06:24:47.112Z"
   },
   {
    "duration": 0,
    "start_time": "2023-06-10T06:24:47.113Z"
   },
   {
    "duration": 0,
    "start_time": "2023-06-10T06:24:47.115Z"
   },
   {
    "duration": 0,
    "start_time": "2023-06-10T06:24:47.116Z"
   },
   {
    "duration": 0,
    "start_time": "2023-06-10T06:24:47.117Z"
   },
   {
    "duration": 0,
    "start_time": "2023-06-10T06:24:47.119Z"
   },
   {
    "duration": 0,
    "start_time": "2023-06-10T06:24:47.120Z"
   },
   {
    "duration": 0,
    "start_time": "2023-06-10T06:24:47.125Z"
   },
   {
    "duration": 0,
    "start_time": "2023-06-10T06:24:47.126Z"
   },
   {
    "duration": 0,
    "start_time": "2023-06-10T06:24:47.127Z"
   },
   {
    "duration": 0,
    "start_time": "2023-06-10T06:24:47.128Z"
   },
   {
    "duration": 1,
    "start_time": "2023-06-10T06:24:47.129Z"
   },
   {
    "duration": 0,
    "start_time": "2023-06-10T06:24:47.130Z"
   },
   {
    "duration": 0,
    "start_time": "2023-06-10T06:24:47.131Z"
   },
   {
    "duration": 0,
    "start_time": "2023-06-10T06:24:47.132Z"
   },
   {
    "duration": 0,
    "start_time": "2023-06-10T06:24:47.133Z"
   },
   {
    "duration": 0,
    "start_time": "2023-06-10T06:24:47.134Z"
   },
   {
    "duration": 0,
    "start_time": "2023-06-10T06:24:47.135Z"
   },
   {
    "duration": 0,
    "start_time": "2023-06-10T06:24:47.136Z"
   },
   {
    "duration": 0,
    "start_time": "2023-06-10T06:24:47.137Z"
   },
   {
    "duration": 0,
    "start_time": "2023-06-10T06:24:47.138Z"
   },
   {
    "duration": 0,
    "start_time": "2023-06-10T06:24:47.139Z"
   },
   {
    "duration": 0,
    "start_time": "2023-06-10T06:24:47.140Z"
   },
   {
    "duration": 0,
    "start_time": "2023-06-10T06:24:47.141Z"
   },
   {
    "duration": 0,
    "start_time": "2023-06-10T06:24:47.142Z"
   },
   {
    "duration": 0,
    "start_time": "2023-06-10T06:24:47.143Z"
   },
   {
    "duration": 0,
    "start_time": "2023-06-10T06:24:47.144Z"
   },
   {
    "duration": 0,
    "start_time": "2023-06-10T06:24:47.145Z"
   },
   {
    "duration": 0,
    "start_time": "2023-06-10T06:24:47.146Z"
   },
   {
    "duration": 0,
    "start_time": "2023-06-10T06:24:47.147Z"
   },
   {
    "duration": 0,
    "start_time": "2023-06-10T06:24:47.148Z"
   },
   {
    "duration": 0,
    "start_time": "2023-06-10T06:24:47.150Z"
   },
   {
    "duration": 0,
    "start_time": "2023-06-10T06:24:47.150Z"
   },
   {
    "duration": 0,
    "start_time": "2023-06-10T06:24:47.151Z"
   },
   {
    "duration": 0,
    "start_time": "2023-06-10T06:24:47.152Z"
   },
   {
    "duration": 0,
    "start_time": "2023-06-10T06:24:47.154Z"
   },
   {
    "duration": 0,
    "start_time": "2023-06-10T06:24:47.155Z"
   },
   {
    "duration": 0,
    "start_time": "2023-06-10T06:24:47.156Z"
   },
   {
    "duration": 0,
    "start_time": "2023-06-10T06:24:47.157Z"
   },
   {
    "duration": 0,
    "start_time": "2023-06-10T06:24:47.158Z"
   },
   {
    "duration": 1329,
    "start_time": "2023-06-10T06:25:12.406Z"
   },
   {
    "duration": 37,
    "start_time": "2023-06-10T06:25:13.738Z"
   },
   {
    "duration": 88,
    "start_time": "2023-06-10T06:25:13.777Z"
   },
   {
    "duration": 657,
    "start_time": "2023-06-10T06:25:13.868Z"
   },
   {
    "duration": 67,
    "start_time": "2023-06-10T06:25:14.527Z"
   },
   {
    "duration": 10,
    "start_time": "2023-06-10T06:25:14.595Z"
   },
   {
    "duration": 23,
    "start_time": "2023-06-10T06:25:14.606Z"
   },
   {
    "duration": 29,
    "start_time": "2023-06-10T06:25:14.631Z"
   },
   {
    "duration": 41,
    "start_time": "2023-06-10T06:25:14.662Z"
   },
   {
    "duration": 84,
    "start_time": "2023-06-10T06:25:14.706Z"
   },
   {
    "duration": 24,
    "start_time": "2023-06-10T06:25:14.793Z"
   },
   {
    "duration": 109,
    "start_time": "2023-06-10T06:25:14.819Z"
   },
   {
    "duration": 6,
    "start_time": "2023-06-10T06:25:14.930Z"
   },
   {
    "duration": 26,
    "start_time": "2023-06-10T06:25:14.938Z"
   },
   {
    "duration": 116,
    "start_time": "2023-06-10T06:25:14.966Z"
   },
   {
    "duration": 266,
    "start_time": "2023-06-10T06:25:15.084Z"
   },
   {
    "duration": 11,
    "start_time": "2023-06-10T06:25:15.352Z"
   },
   {
    "duration": 49,
    "start_time": "2023-06-10T06:25:15.364Z"
   },
   {
    "duration": 19,
    "start_time": "2023-06-10T06:25:15.415Z"
   },
   {
    "duration": 22,
    "start_time": "2023-06-10T06:25:15.436Z"
   },
   {
    "duration": 354,
    "start_time": "2023-06-10T06:25:15.460Z"
   },
   {
    "duration": 12,
    "start_time": "2023-06-10T06:25:15.816Z"
   },
   {
    "duration": 26,
    "start_time": "2023-06-10T06:25:15.829Z"
   },
   {
    "duration": 27,
    "start_time": "2023-06-10T06:25:15.857Z"
   },
   {
    "duration": 16,
    "start_time": "2023-06-10T06:25:15.886Z"
   },
   {
    "duration": 94,
    "start_time": "2023-06-10T06:25:15.905Z"
   },
   {
    "duration": 56,
    "start_time": "2023-06-10T06:25:16.000Z"
   },
   {
    "duration": 41,
    "start_time": "2023-06-10T06:25:16.060Z"
   },
   {
    "duration": 39,
    "start_time": "2023-06-10T06:25:16.103Z"
   },
   {
    "duration": 46,
    "start_time": "2023-06-10T06:25:16.144Z"
   },
   {
    "duration": 24,
    "start_time": "2023-06-10T06:25:16.192Z"
   },
   {
    "duration": 29,
    "start_time": "2023-06-10T06:25:16.217Z"
   },
   {
    "duration": 25,
    "start_time": "2023-06-10T06:25:16.248Z"
   },
   {
    "duration": 26,
    "start_time": "2023-06-10T06:25:16.275Z"
   },
   {
    "duration": 29,
    "start_time": "2023-06-10T06:25:16.303Z"
   },
   {
    "duration": 35,
    "start_time": "2023-06-10T06:25:16.334Z"
   },
   {
    "duration": 61,
    "start_time": "2023-06-10T06:25:16.371Z"
   },
   {
    "duration": 10,
    "start_time": "2023-06-10T06:25:16.434Z"
   },
   {
    "duration": 29,
    "start_time": "2023-06-10T06:25:16.446Z"
   },
   {
    "duration": 8,
    "start_time": "2023-06-10T06:25:16.477Z"
   },
   {
    "duration": 19,
    "start_time": "2023-06-10T06:25:16.487Z"
   },
   {
    "duration": 138,
    "start_time": "2023-06-10T06:25:16.507Z"
   },
   {
    "duration": 19,
    "start_time": "2023-06-10T06:25:16.647Z"
   },
   {
    "duration": 6,
    "start_time": "2023-06-10T06:25:16.668Z"
   },
   {
    "duration": 13,
    "start_time": "2023-06-10T06:25:16.675Z"
   },
   {
    "duration": 23,
    "start_time": "2023-06-10T06:25:16.690Z"
   },
   {
    "duration": 13,
    "start_time": "2023-06-10T06:25:16.724Z"
   },
   {
    "duration": 32,
    "start_time": "2023-06-10T06:25:16.738Z"
   },
   {
    "duration": 32,
    "start_time": "2023-06-10T06:25:16.772Z"
   },
   {
    "duration": 12,
    "start_time": "2023-06-10T06:25:16.805Z"
   },
   {
    "duration": 37,
    "start_time": "2023-06-10T06:25:16.818Z"
   },
   {
    "duration": 232,
    "start_time": "2023-06-10T06:25:16.856Z"
   },
   {
    "duration": 19,
    "start_time": "2023-06-10T06:25:17.090Z"
   },
   {
    "duration": 27,
    "start_time": "2023-06-10T06:25:17.110Z"
   },
   {
    "duration": 690,
    "start_time": "2023-06-10T06:25:17.139Z"
   },
   {
    "duration": 30,
    "start_time": "2023-06-10T06:25:17.830Z"
   },
   {
    "duration": 109,
    "start_time": "2023-06-10T06:25:17.862Z"
   },
   {
    "duration": 63,
    "start_time": "2023-06-10T06:25:17.973Z"
   },
   {
    "duration": 35,
    "start_time": "2023-06-10T06:25:18.038Z"
   },
   {
    "duration": 18,
    "start_time": "2023-06-10T06:25:18.075Z"
   },
   {
    "duration": 38,
    "start_time": "2023-06-10T06:25:18.094Z"
   },
   {
    "duration": 6,
    "start_time": "2023-06-10T06:25:18.133Z"
   },
   {
    "duration": 33,
    "start_time": "2023-06-10T06:25:18.141Z"
   },
   {
    "duration": 91,
    "start_time": "2023-06-10T08:06:11.924Z"
   },
   {
    "duration": 43,
    "start_time": "2023-06-10T08:17:23.354Z"
   },
   {
    "duration": 1389,
    "start_time": "2023-06-10T09:23:55.194Z"
   },
   {
    "duration": 74,
    "start_time": "2023-06-10T09:23:56.585Z"
   },
   {
    "duration": 177,
    "start_time": "2023-06-10T09:23:56.661Z"
   },
   {
    "duration": 539,
    "start_time": "2023-06-10T09:23:56.841Z"
   },
   {
    "duration": 70,
    "start_time": "2023-06-10T09:23:57.381Z"
   },
   {
    "duration": 10,
    "start_time": "2023-06-10T09:23:57.453Z"
   },
   {
    "duration": 11,
    "start_time": "2023-06-10T09:23:57.464Z"
   },
   {
    "duration": 8,
    "start_time": "2023-06-10T09:23:57.477Z"
   },
   {
    "duration": 20,
    "start_time": "2023-06-10T09:23:57.487Z"
   },
   {
    "duration": 40,
    "start_time": "2023-06-10T09:23:57.509Z"
   },
   {
    "duration": 12,
    "start_time": "2023-06-10T09:23:57.551Z"
   },
   {
    "duration": 59,
    "start_time": "2023-06-10T09:23:57.564Z"
   },
   {
    "duration": 5,
    "start_time": "2023-06-10T09:23:57.624Z"
   },
   {
    "duration": 15,
    "start_time": "2023-06-10T09:23:57.630Z"
   },
   {
    "duration": 110,
    "start_time": "2023-06-10T09:23:57.647Z"
   },
   {
    "duration": 158,
    "start_time": "2023-06-10T09:23:57.758Z"
   },
   {
    "duration": 11,
    "start_time": "2023-06-10T09:23:57.918Z"
   },
   {
    "duration": 15,
    "start_time": "2023-06-10T09:23:57.931Z"
   },
   {
    "duration": 10,
    "start_time": "2023-06-10T09:23:57.948Z"
   },
   {
    "duration": 13,
    "start_time": "2023-06-10T09:23:57.960Z"
   },
   {
    "duration": 343,
    "start_time": "2023-06-10T09:23:57.974Z"
   },
   {
    "duration": 6,
    "start_time": "2023-06-10T09:23:58.319Z"
   },
   {
    "duration": 24,
    "start_time": "2023-06-10T09:23:58.327Z"
   },
   {
    "duration": 18,
    "start_time": "2023-06-10T09:23:58.353Z"
   },
   {
    "duration": 30,
    "start_time": "2023-06-10T09:23:58.372Z"
   },
   {
    "duration": 19,
    "start_time": "2023-06-10T09:23:58.403Z"
   },
   {
    "duration": 18,
    "start_time": "2023-06-10T09:23:58.424Z"
   },
   {
    "duration": 11,
    "start_time": "2023-06-10T09:23:58.446Z"
   },
   {
    "duration": 8,
    "start_time": "2023-06-10T09:23:58.459Z"
   },
   {
    "duration": 45,
    "start_time": "2023-06-10T09:23:58.468Z"
   },
   {
    "duration": 7,
    "start_time": "2023-06-10T09:23:58.514Z"
   },
   {
    "duration": 22,
    "start_time": "2023-06-10T09:23:58.523Z"
   },
   {
    "duration": 30,
    "start_time": "2023-06-10T09:23:58.547Z"
   },
   {
    "duration": 9,
    "start_time": "2023-06-10T09:23:58.579Z"
   },
   {
    "duration": 9,
    "start_time": "2023-06-10T09:23:58.590Z"
   },
   {
    "duration": 17,
    "start_time": "2023-06-10T09:23:58.601Z"
   },
   {
    "duration": 34,
    "start_time": "2023-06-10T09:23:58.620Z"
   },
   {
    "duration": 9,
    "start_time": "2023-06-10T09:23:58.656Z"
   },
   {
    "duration": 20,
    "start_time": "2023-06-10T09:23:58.667Z"
   },
   {
    "duration": 8,
    "start_time": "2023-06-10T09:23:58.715Z"
   },
   {
    "duration": 12,
    "start_time": "2023-06-10T09:23:58.724Z"
   },
   {
    "duration": 321,
    "start_time": "2023-06-10T09:23:58.737Z"
   },
   {
    "duration": 0,
    "start_time": "2023-06-10T09:23:59.059Z"
   },
   {
    "duration": 0,
    "start_time": "2023-06-10T09:23:59.060Z"
   },
   {
    "duration": 0,
    "start_time": "2023-06-10T09:23:59.060Z"
   },
   {
    "duration": 0,
    "start_time": "2023-06-10T09:23:59.061Z"
   },
   {
    "duration": 0,
    "start_time": "2023-06-10T09:23:59.062Z"
   },
   {
    "duration": 0,
    "start_time": "2023-06-10T09:23:59.063Z"
   },
   {
    "duration": 0,
    "start_time": "2023-06-10T09:23:59.064Z"
   },
   {
    "duration": 0,
    "start_time": "2023-06-10T09:23:59.065Z"
   },
   {
    "duration": 0,
    "start_time": "2023-06-10T09:23:59.066Z"
   },
   {
    "duration": 0,
    "start_time": "2023-06-10T09:23:59.067Z"
   },
   {
    "duration": 0,
    "start_time": "2023-06-10T09:23:59.068Z"
   },
   {
    "duration": 0,
    "start_time": "2023-06-10T09:23:59.068Z"
   },
   {
    "duration": 0,
    "start_time": "2023-06-10T09:23:59.069Z"
   },
   {
    "duration": 0,
    "start_time": "2023-06-10T09:23:59.070Z"
   },
   {
    "duration": 0,
    "start_time": "2023-06-10T09:23:59.071Z"
   },
   {
    "duration": 0,
    "start_time": "2023-06-10T09:23:59.072Z"
   },
   {
    "duration": 0,
    "start_time": "2023-06-10T09:23:59.073Z"
   },
   {
    "duration": 0,
    "start_time": "2023-06-10T09:23:59.074Z"
   },
   {
    "duration": 0,
    "start_time": "2023-06-10T09:23:59.075Z"
   },
   {
    "duration": 0,
    "start_time": "2023-06-10T09:23:59.076Z"
   },
   {
    "duration": 0,
    "start_time": "2023-06-10T09:23:59.077Z"
   },
   {
    "duration": 0,
    "start_time": "2023-06-10T09:23:59.078Z"
   },
   {
    "duration": 0,
    "start_time": "2023-06-10T09:23:59.079Z"
   },
   {
    "duration": 0,
    "start_time": "2023-06-10T09:23:59.079Z"
   },
   {
    "duration": 6,
    "start_time": "2023-06-10T09:24:06.870Z"
   },
   {
    "duration": 32,
    "start_time": "2023-06-10T09:24:08.607Z"
   },
   {
    "duration": 66,
    "start_time": "2023-06-10T09:24:09.069Z"
   },
   {
    "duration": 404,
    "start_time": "2023-06-10T09:24:09.975Z"
   },
   {
    "duration": 33,
    "start_time": "2023-06-10T09:24:10.405Z"
   },
   {
    "duration": 12,
    "start_time": "2023-06-10T09:24:11.371Z"
   },
   {
    "duration": 5,
    "start_time": "2023-06-10T09:24:12.458Z"
   },
   {
    "duration": 6,
    "start_time": "2023-06-10T09:24:13.056Z"
   },
   {
    "duration": 16,
    "start_time": "2023-06-10T09:24:13.489Z"
   },
   {
    "duration": 28,
    "start_time": "2023-06-10T09:24:14.552Z"
   },
   {
    "duration": 11,
    "start_time": "2023-06-10T09:24:15.014Z"
   },
   {
    "duration": 63,
    "start_time": "2023-06-10T09:24:15.389Z"
   },
   {
    "duration": 6,
    "start_time": "2023-06-10T09:24:15.719Z"
   },
   {
    "duration": 10,
    "start_time": "2023-06-10T09:24:15.998Z"
   },
   {
    "duration": 102,
    "start_time": "2023-06-10T09:24:16.685Z"
   },
   {
    "duration": 132,
    "start_time": "2023-06-10T09:24:16.955Z"
   },
   {
    "duration": 10,
    "start_time": "2023-06-10T09:24:17.155Z"
   },
   {
    "duration": 9,
    "start_time": "2023-06-10T09:24:17.606Z"
   },
   {
    "duration": 10,
    "start_time": "2023-06-10T09:24:18.889Z"
   },
   {
    "duration": 10,
    "start_time": "2023-06-10T09:24:19.150Z"
   },
   {
    "duration": 192,
    "start_time": "2023-06-10T09:24:21.904Z"
   },
   {
    "duration": 4,
    "start_time": "2023-06-10T09:24:24.394Z"
   },
   {
    "duration": 4,
    "start_time": "2023-06-10T09:24:24.785Z"
   },
   {
    "duration": 12,
    "start_time": "2023-06-10T09:24:25.425Z"
   },
   {
    "duration": 8,
    "start_time": "2023-06-10T09:24:26.190Z"
   },
   {
    "duration": 6,
    "start_time": "2023-06-10T09:24:26.581Z"
   },
   {
    "duration": 6,
    "start_time": "2023-06-10T09:24:27.104Z"
   },
   {
    "duration": 8,
    "start_time": "2023-06-10T09:24:28.477Z"
   },
   {
    "duration": 6,
    "start_time": "2023-06-10T09:24:29.056Z"
   },
   {
    "duration": 12,
    "start_time": "2023-06-10T09:24:29.357Z"
   },
   {
    "duration": 5,
    "start_time": "2023-06-10T09:24:29.622Z"
   },
   {
    "duration": 12,
    "start_time": "2023-06-10T09:24:30.193Z"
   },
   {
    "duration": 14,
    "start_time": "2023-06-10T09:24:32.107Z"
   },
   {
    "duration": 6,
    "start_time": "2023-06-10T09:24:32.457Z"
   },
   {
    "duration": 4,
    "start_time": "2023-06-10T09:24:32.783Z"
   },
   {
    "duration": 8,
    "start_time": "2023-06-10T09:24:33.389Z"
   },
   {
    "duration": 32,
    "start_time": "2023-06-10T09:24:39.618Z"
   },
   {
    "duration": 105,
    "start_time": "2023-06-10T09:50:29.559Z"
   },
   {
    "duration": 10,
    "start_time": "2023-06-10T09:50:43.544Z"
   },
   {
    "duration": 6,
    "start_time": "2023-06-10T09:50:55.491Z"
   },
   {
    "duration": 33,
    "start_time": "2023-06-10T09:53:24.170Z"
   },
   {
    "duration": 29,
    "start_time": "2023-06-10T09:54:14.642Z"
   },
   {
    "duration": 12,
    "start_time": "2023-06-10T09:54:42.982Z"
   },
   {
    "duration": 20,
    "start_time": "2023-06-10T09:57:18.111Z"
   },
   {
    "duration": 13,
    "start_time": "2023-06-10T09:57:41.902Z"
   },
   {
    "duration": 28,
    "start_time": "2023-06-10T09:57:56.548Z"
   },
   {
    "duration": 34,
    "start_time": "2023-06-10T09:58:04.101Z"
   },
   {
    "duration": 35,
    "start_time": "2023-06-10T09:58:27.477Z"
   },
   {
    "duration": 36,
    "start_time": "2023-06-10T09:58:33.498Z"
   },
   {
    "duration": 34,
    "start_time": "2023-06-10T09:59:01.323Z"
   },
   {
    "duration": 29,
    "start_time": "2023-06-10T09:59:13.870Z"
   },
   {
    "duration": 33,
    "start_time": "2023-06-10T09:59:16.672Z"
   },
   {
    "duration": 35,
    "start_time": "2023-06-10T09:59:22.522Z"
   },
   {
    "duration": 10,
    "start_time": "2023-06-10T10:00:02.405Z"
   },
   {
    "duration": 41,
    "start_time": "2023-06-10T10:00:08.786Z"
   },
   {
    "duration": 46,
    "start_time": "2023-06-10T10:00:35.911Z"
   },
   {
    "duration": 35,
    "start_time": "2023-06-10T10:01:03.514Z"
   },
   {
    "duration": 42,
    "start_time": "2023-06-10T10:02:22.895Z"
   },
   {
    "duration": 46,
    "start_time": "2023-06-10T10:02:36.239Z"
   },
   {
    "duration": 41,
    "start_time": "2023-06-10T10:03:10.464Z"
   },
   {
    "duration": 49,
    "start_time": "2023-06-10T10:03:15.785Z"
   },
   {
    "duration": 38,
    "start_time": "2023-06-10T10:05:43.441Z"
   },
   {
    "duration": 40,
    "start_time": "2023-06-10T10:05:54.504Z"
   },
   {
    "duration": 42,
    "start_time": "2023-06-10T10:06:42.991Z"
   },
   {
    "duration": 46,
    "start_time": "2023-06-10T10:08:29.544Z"
   },
   {
    "duration": 35,
    "start_time": "2023-06-10T10:08:54.301Z"
   },
   {
    "duration": 34,
    "start_time": "2023-06-10T10:09:01.421Z"
   },
   {
    "duration": 3,
    "start_time": "2023-06-10T10:09:17.468Z"
   },
   {
    "duration": 35,
    "start_time": "2023-06-10T10:10:22.372Z"
   },
   {
    "duration": 51,
    "start_time": "2023-06-10T10:10:41.746Z"
   },
   {
    "duration": 38,
    "start_time": "2023-06-10T10:11:57.440Z"
   },
   {
    "duration": 27,
    "start_time": "2023-06-10T10:15:18.000Z"
   },
   {
    "duration": 54,
    "start_time": "2023-06-10T10:15:23.443Z"
   },
   {
    "duration": 7,
    "start_time": "2023-06-10T10:16:49.768Z"
   },
   {
    "duration": 10,
    "start_time": "2023-06-10T10:16:58.376Z"
   },
   {
    "duration": 9,
    "start_time": "2023-06-10T10:17:42.856Z"
   },
   {
    "duration": 9,
    "start_time": "2023-06-10T10:18:11.200Z"
   },
   {
    "duration": 9,
    "start_time": "2023-06-10T10:18:24.382Z"
   },
   {
    "duration": 9,
    "start_time": "2023-06-10T10:20:10.914Z"
   },
   {
    "duration": 12,
    "start_time": "2023-06-10T10:20:32.706Z"
   },
   {
    "duration": 47,
    "start_time": "2023-06-10T15:49:46.836Z"
   },
   {
    "duration": 6,
    "start_time": "2023-06-10T15:50:03.463Z"
   },
   {
    "duration": 1423,
    "start_time": "2023-06-10T15:51:28.328Z"
   },
   {
    "duration": 99,
    "start_time": "2023-06-10T15:51:29.753Z"
   },
   {
    "duration": 296,
    "start_time": "2023-06-10T15:51:29.854Z"
   },
   {
    "duration": 2556,
    "start_time": "2023-06-10T15:51:30.152Z"
   },
   {
    "duration": 152,
    "start_time": "2023-06-10T15:51:32.710Z"
   },
   {
    "duration": 10,
    "start_time": "2023-06-10T15:51:32.863Z"
   },
   {
    "duration": 14,
    "start_time": "2023-06-10T15:51:32.875Z"
   },
   {
    "duration": 13,
    "start_time": "2023-06-10T15:51:32.896Z"
   },
   {
    "duration": 26,
    "start_time": "2023-06-10T15:51:32.920Z"
   },
   {
    "duration": 45,
    "start_time": "2023-06-10T15:51:32.947Z"
   },
   {
    "duration": 26,
    "start_time": "2023-06-10T15:51:32.999Z"
   },
   {
    "duration": 81,
    "start_time": "2023-06-10T15:51:33.029Z"
   },
   {
    "duration": 13,
    "start_time": "2023-06-10T15:51:33.118Z"
   },
   {
    "duration": 8,
    "start_time": "2023-06-10T15:51:33.137Z"
   },
   {
    "duration": 121,
    "start_time": "2023-06-10T15:51:33.147Z"
   },
   {
    "duration": 204,
    "start_time": "2023-06-10T15:51:33.270Z"
   },
   {
    "duration": 18,
    "start_time": "2023-06-10T15:51:33.475Z"
   },
   {
    "duration": 17,
    "start_time": "2023-06-10T15:51:33.500Z"
   },
   {
    "duration": 16,
    "start_time": "2023-06-10T15:51:33.518Z"
   },
   {
    "duration": 10,
    "start_time": "2023-06-10T15:51:33.535Z"
   },
   {
    "duration": 392,
    "start_time": "2023-06-10T15:51:33.547Z"
   },
   {
    "duration": 6,
    "start_time": "2023-06-10T15:51:33.941Z"
   },
   {
    "duration": 6,
    "start_time": "2023-06-10T15:51:33.949Z"
   },
   {
    "duration": 30,
    "start_time": "2023-06-10T15:51:33.956Z"
   },
   {
    "duration": 21,
    "start_time": "2023-06-10T15:51:33.987Z"
   },
   {
    "duration": 23,
    "start_time": "2023-06-10T15:51:34.014Z"
   },
   {
    "duration": 7,
    "start_time": "2023-06-10T15:51:34.040Z"
   },
   {
    "duration": 11,
    "start_time": "2023-06-10T15:51:34.049Z"
   },
   {
    "duration": 7,
    "start_time": "2023-06-10T15:51:34.062Z"
   },
   {
    "duration": 22,
    "start_time": "2023-06-10T15:51:34.071Z"
   },
   {
    "duration": 26,
    "start_time": "2023-06-10T15:51:34.094Z"
   },
   {
    "duration": 18,
    "start_time": "2023-06-10T15:51:34.123Z"
   },
   {
    "duration": 22,
    "start_time": "2023-06-10T15:51:34.142Z"
   },
   {
    "duration": 9,
    "start_time": "2023-06-10T15:51:34.165Z"
   },
   {
    "duration": 25,
    "start_time": "2023-06-10T15:51:34.176Z"
   },
   {
    "duration": 22,
    "start_time": "2023-06-10T15:51:34.210Z"
   },
   {
    "duration": 91,
    "start_time": "2023-06-10T15:51:34.234Z"
   },
   {
    "duration": 0,
    "start_time": "2023-06-10T15:51:34.332Z"
   },
   {
    "duration": 0,
    "start_time": "2023-06-10T15:51:34.334Z"
   },
   {
    "duration": 0,
    "start_time": "2023-06-10T15:51:34.335Z"
   },
   {
    "duration": 0,
    "start_time": "2023-06-10T15:51:34.337Z"
   },
   {
    "duration": 0,
    "start_time": "2023-06-10T15:51:34.340Z"
   },
   {
    "duration": 0,
    "start_time": "2023-06-10T15:51:34.341Z"
   },
   {
    "duration": 8,
    "start_time": "2023-06-10T15:51:34.426Z"
   },
   {
    "duration": 104,
    "start_time": "2023-06-10T15:51:34.436Z"
   },
   {
    "duration": 84,
    "start_time": "2023-06-10T15:51:34.546Z"
   },
   {
    "duration": 535,
    "start_time": "2023-06-10T15:51:34.632Z"
   },
   {
    "duration": 46,
    "start_time": "2023-06-10T15:51:35.169Z"
   },
   {
    "duration": 9,
    "start_time": "2023-06-10T15:51:35.218Z"
   },
   {
    "duration": 5,
    "start_time": "2023-06-10T15:51:35.229Z"
   },
   {
    "duration": 9,
    "start_time": "2023-06-10T15:51:35.235Z"
   },
   {
    "duration": 19,
    "start_time": "2023-06-10T15:51:35.245Z"
   },
   {
    "duration": 48,
    "start_time": "2023-06-10T15:51:35.267Z"
   },
   {
    "duration": 13,
    "start_time": "2023-06-10T15:51:35.317Z"
   },
   {
    "duration": 86,
    "start_time": "2023-06-10T15:51:35.332Z"
   },
   {
    "duration": 9,
    "start_time": "2023-06-10T15:51:35.422Z"
   },
   {
    "duration": 14,
    "start_time": "2023-06-10T15:51:35.432Z"
   },
   {
    "duration": 116,
    "start_time": "2023-06-10T15:51:35.447Z"
   },
   {
    "duration": 169,
    "start_time": "2023-06-10T15:51:35.565Z"
   },
   {
    "duration": 12,
    "start_time": "2023-06-10T15:51:35.736Z"
   },
   {
    "duration": 21,
    "start_time": "2023-06-10T15:51:35.750Z"
   },
   {
    "duration": 23,
    "start_time": "2023-06-10T15:51:35.773Z"
   },
   {
    "duration": 22,
    "start_time": "2023-06-10T15:51:35.798Z"
   },
   {
    "duration": 289,
    "start_time": "2023-06-10T15:51:35.822Z"
   },
   {
    "duration": 13,
    "start_time": "2023-06-10T15:51:36.123Z"
   },
   {
    "duration": 4,
    "start_time": "2023-06-10T15:51:36.137Z"
   },
   {
    "duration": 13,
    "start_time": "2023-06-10T15:51:36.142Z"
   },
   {
    "duration": 9,
    "start_time": "2023-06-10T15:51:36.156Z"
   },
   {
    "duration": 25,
    "start_time": "2023-06-10T15:51:36.166Z"
   },
   {
    "duration": 19,
    "start_time": "2023-06-10T15:51:36.200Z"
   },
   {
    "duration": 25,
    "start_time": "2023-06-10T15:51:36.223Z"
   },
   {
    "duration": 6,
    "start_time": "2023-06-10T15:51:36.250Z"
   },
   {
    "duration": 15,
    "start_time": "2023-06-10T15:51:36.258Z"
   },
   {
    "duration": 5,
    "start_time": "2023-06-10T15:51:36.275Z"
   },
   {
    "duration": 15,
    "start_time": "2023-06-10T15:51:36.282Z"
   },
   {
    "duration": 20,
    "start_time": "2023-06-10T15:51:36.298Z"
   },
   {
    "duration": 14,
    "start_time": "2023-06-10T15:51:36.320Z"
   },
   {
    "duration": 8,
    "start_time": "2023-06-10T15:51:36.341Z"
   },
   {
    "duration": 8,
    "start_time": "2023-06-10T15:51:36.351Z"
   },
   {
    "duration": 137,
    "start_time": "2023-06-10T15:51:36.389Z"
   },
   {
    "duration": 0,
    "start_time": "2023-06-10T15:51:36.527Z"
   },
   {
    "duration": 0,
    "start_time": "2023-06-10T15:51:36.528Z"
   },
   {
    "duration": 0,
    "start_time": "2023-06-10T15:51:36.530Z"
   },
   {
    "duration": 0,
    "start_time": "2023-06-10T15:51:36.531Z"
   },
   {
    "duration": 0,
    "start_time": "2023-06-10T15:51:36.532Z"
   },
   {
    "duration": 0,
    "start_time": "2023-06-10T15:51:36.533Z"
   },
   {
    "duration": 0,
    "start_time": "2023-06-10T15:51:36.534Z"
   },
   {
    "duration": 0,
    "start_time": "2023-06-10T15:51:36.536Z"
   },
   {
    "duration": 0,
    "start_time": "2023-06-10T15:51:36.537Z"
   },
   {
    "duration": 0,
    "start_time": "2023-06-10T15:51:36.538Z"
   },
   {
    "duration": 0,
    "start_time": "2023-06-10T15:51:36.539Z"
   },
   {
    "duration": 0,
    "start_time": "2023-06-10T15:51:36.540Z"
   },
   {
    "duration": 0,
    "start_time": "2023-06-10T15:51:36.541Z"
   },
   {
    "duration": 0,
    "start_time": "2023-06-10T15:51:36.542Z"
   },
   {
    "duration": 0,
    "start_time": "2023-06-10T15:51:36.543Z"
   },
   {
    "duration": 0,
    "start_time": "2023-06-10T15:51:36.544Z"
   },
   {
    "duration": 0,
    "start_time": "2023-06-10T15:51:36.545Z"
   },
   {
    "duration": 0,
    "start_time": "2023-06-10T15:51:36.546Z"
   },
   {
    "duration": 0,
    "start_time": "2023-06-10T15:51:36.547Z"
   },
   {
    "duration": 0,
    "start_time": "2023-06-10T15:51:36.548Z"
   },
   {
    "duration": 0,
    "start_time": "2023-06-10T15:51:36.549Z"
   },
   {
    "duration": 0,
    "start_time": "2023-06-10T15:51:36.550Z"
   },
   {
    "duration": 0,
    "start_time": "2023-06-10T15:51:36.551Z"
   },
   {
    "duration": 0,
    "start_time": "2023-06-10T15:51:36.552Z"
   },
   {
    "duration": 0,
    "start_time": "2023-06-10T15:51:36.553Z"
   },
   {
    "duration": 0,
    "start_time": "2023-06-10T15:51:36.554Z"
   },
   {
    "duration": 0,
    "start_time": "2023-06-10T15:51:36.555Z"
   },
   {
    "duration": 0,
    "start_time": "2023-06-10T15:51:36.556Z"
   },
   {
    "duration": 1,
    "start_time": "2023-06-10T15:51:36.556Z"
   },
   {
    "duration": 0,
    "start_time": "2023-06-10T15:51:36.557Z"
   },
   {
    "duration": 0,
    "start_time": "2023-06-10T15:51:36.558Z"
   },
   {
    "duration": 0,
    "start_time": "2023-06-10T15:51:36.560Z"
   },
   {
    "duration": 0,
    "start_time": "2023-06-10T15:51:36.560Z"
   },
   {
    "duration": 0,
    "start_time": "2023-06-10T15:51:36.561Z"
   },
   {
    "duration": 0,
    "start_time": "2023-06-10T15:51:36.562Z"
   },
   {
    "duration": 0,
    "start_time": "2023-06-10T15:51:36.563Z"
   },
   {
    "duration": 17,
    "start_time": "2023-06-10T15:55:24.499Z"
   },
   {
    "duration": 46,
    "start_time": "2023-06-10T15:55:27.068Z"
   },
   {
    "duration": 27,
    "start_time": "2023-06-10T15:55:49.637Z"
   },
   {
    "duration": 154,
    "start_time": "2023-06-10T15:59:08.613Z"
   },
   {
    "duration": 28,
    "start_time": "2023-06-10T16:00:20.200Z"
   },
   {
    "duration": 26,
    "start_time": "2023-06-10T16:00:51.503Z"
   },
   {
    "duration": 33,
    "start_time": "2023-06-10T16:00:57.996Z"
   },
   {
    "duration": 30,
    "start_time": "2023-06-10T16:01:11.421Z"
   },
   {
    "duration": 10,
    "start_time": "2023-06-10T16:16:15.305Z"
   },
   {
    "duration": 19,
    "start_time": "2023-06-10T16:16:28.674Z"
   },
   {
    "duration": 21,
    "start_time": "2023-06-10T16:16:35.122Z"
   },
   {
    "duration": 37,
    "start_time": "2023-06-10T16:17:13.098Z"
   },
   {
    "duration": 13,
    "start_time": "2023-06-10T16:19:50.904Z"
   },
   {
    "duration": 7,
    "start_time": "2023-06-10T16:20:15.604Z"
   },
   {
    "duration": 15,
    "start_time": "2023-06-10T16:20:24.192Z"
   },
   {
    "duration": 3,
    "start_time": "2023-06-10T16:21:13.229Z"
   },
   {
    "duration": 4,
    "start_time": "2023-06-10T16:21:23.314Z"
   },
   {
    "duration": 4,
    "start_time": "2023-06-10T16:23:30.128Z"
   },
   {
    "duration": 27,
    "start_time": "2023-06-10T16:31:08.266Z"
   },
   {
    "duration": 17,
    "start_time": "2023-06-10T16:38:38.713Z"
   },
   {
    "duration": 9,
    "start_time": "2023-06-10T16:39:00.841Z"
   },
   {
    "duration": 12,
    "start_time": "2023-06-10T16:39:06.543Z"
   },
   {
    "duration": 61,
    "start_time": "2023-06-10T17:01:18.593Z"
   },
   {
    "duration": 56,
    "start_time": "2023-06-10T17:02:08.684Z"
   },
   {
    "duration": 42,
    "start_time": "2023-06-10T17:02:16.286Z"
   },
   {
    "duration": 39,
    "start_time": "2023-06-10T17:02:37.402Z"
   },
   {
    "duration": 32,
    "start_time": "2023-06-10T17:03:01.743Z"
   },
   {
    "duration": 20,
    "start_time": "2023-06-10T17:03:17.020Z"
   },
   {
    "duration": 3,
    "start_time": "2023-06-10T17:05:07.308Z"
   },
   {
    "duration": 6,
    "start_time": "2023-06-10T17:05:13.946Z"
   },
   {
    "duration": 4,
    "start_time": "2023-06-10T17:06:04.523Z"
   },
   {
    "duration": 10,
    "start_time": "2023-06-10T17:06:56.435Z"
   },
   {
    "duration": 11,
    "start_time": "2023-06-10T17:07:14.178Z"
   },
   {
    "duration": 8,
    "start_time": "2023-06-10T17:07:49.521Z"
   },
   {
    "duration": 47,
    "start_time": "2023-06-10T17:16:12.659Z"
   },
   {
    "duration": 27,
    "start_time": "2023-06-10T17:16:30.771Z"
   },
   {
    "duration": 27,
    "start_time": "2023-06-10T17:16:37.091Z"
   },
   {
    "duration": 62,
    "start_time": "2023-06-10T17:17:58.052Z"
   },
   {
    "duration": 35,
    "start_time": "2023-06-10T17:18:17.070Z"
   },
   {
    "duration": 26,
    "start_time": "2023-06-10T17:18:24.634Z"
   },
   {
    "duration": 31,
    "start_time": "2023-06-10T17:18:41.538Z"
   },
   {
    "duration": 5,
    "start_time": "2023-06-10T17:19:04.954Z"
   },
   {
    "duration": 31,
    "start_time": "2023-06-10T17:19:14.888Z"
   },
   {
    "duration": 8,
    "start_time": "2023-06-10T17:21:50.144Z"
   },
   {
    "duration": 9,
    "start_time": "2023-06-10T17:21:56.502Z"
   },
   {
    "duration": 9,
    "start_time": "2023-06-10T17:23:18.771Z"
   },
   {
    "duration": 7,
    "start_time": "2023-06-10T17:23:56.967Z"
   },
   {
    "duration": 7,
    "start_time": "2023-06-10T17:23:59.026Z"
   },
   {
    "duration": 14,
    "start_time": "2023-06-10T17:24:00.422Z"
   },
   {
    "duration": 18,
    "start_time": "2023-06-10T17:24:14.818Z"
   },
   {
    "duration": 15,
    "start_time": "2023-06-10T17:24:37.403Z"
   },
   {
    "duration": 16,
    "start_time": "2023-06-10T17:24:47.033Z"
   },
   {
    "duration": 17,
    "start_time": "2023-06-10T17:25:26.430Z"
   },
   {
    "duration": 28,
    "start_time": "2023-06-10T17:26:01.045Z"
   },
   {
    "duration": 23,
    "start_time": "2023-06-10T17:27:13.199Z"
   },
   {
    "duration": 22,
    "start_time": "2023-06-10T17:27:39.794Z"
   },
   {
    "duration": 745,
    "start_time": "2023-06-10T17:29:07.025Z"
   },
   {
    "duration": 13,
    "start_time": "2023-06-10T17:29:50.175Z"
   },
   {
    "duration": 15,
    "start_time": "2023-06-10T17:30:00.076Z"
   },
   {
    "duration": 1291,
    "start_time": "2023-06-10T17:36:23.865Z"
   },
   {
    "duration": 65,
    "start_time": "2023-06-10T17:36:25.158Z"
   },
   {
    "duration": 208,
    "start_time": "2023-06-10T17:36:25.225Z"
   },
   {
    "duration": 940,
    "start_time": "2023-06-10T17:36:25.435Z"
   },
   {
    "duration": 55,
    "start_time": "2023-06-10T17:36:26.376Z"
   },
   {
    "duration": 11,
    "start_time": "2023-06-10T17:36:26.433Z"
   },
   {
    "duration": 6,
    "start_time": "2023-06-10T17:36:26.446Z"
   },
   {
    "duration": 9,
    "start_time": "2023-06-10T17:36:26.453Z"
   },
   {
    "duration": 28,
    "start_time": "2023-06-10T17:36:26.464Z"
   },
   {
    "duration": 31,
    "start_time": "2023-06-10T17:36:26.495Z"
   },
   {
    "duration": 11,
    "start_time": "2023-06-10T17:36:26.528Z"
   },
   {
    "duration": 86,
    "start_time": "2023-06-10T17:36:26.540Z"
   },
   {
    "duration": 5,
    "start_time": "2023-06-10T17:36:26.627Z"
   },
   {
    "duration": 19,
    "start_time": "2023-06-10T17:36:26.633Z"
   },
   {
    "duration": 109,
    "start_time": "2023-06-10T17:36:26.654Z"
   },
   {
    "duration": 207,
    "start_time": "2023-06-10T17:36:26.764Z"
   },
   {
    "duration": 13,
    "start_time": "2023-06-10T17:36:26.973Z"
   },
   {
    "duration": 17,
    "start_time": "2023-06-10T17:36:26.988Z"
   },
   {
    "duration": 14,
    "start_time": "2023-06-10T17:36:27.007Z"
   },
   {
    "duration": 12,
    "start_time": "2023-06-10T17:36:27.023Z"
   },
   {
    "duration": 321,
    "start_time": "2023-06-10T17:36:27.037Z"
   },
   {
    "duration": 18,
    "start_time": "2023-06-10T17:36:27.360Z"
   },
   {
    "duration": 6,
    "start_time": "2023-06-10T17:36:27.380Z"
   },
   {
    "duration": 15,
    "start_time": "2023-06-10T17:36:27.388Z"
   },
   {
    "duration": 9,
    "start_time": "2023-06-10T17:36:27.405Z"
   },
   {
    "duration": 7,
    "start_time": "2023-06-10T17:36:27.416Z"
   },
   {
    "duration": 5,
    "start_time": "2023-06-10T17:36:27.425Z"
   },
   {
    "duration": 12,
    "start_time": "2023-06-10T17:36:27.474Z"
   },
   {
    "duration": 13,
    "start_time": "2023-06-10T17:36:27.488Z"
   },
   {
    "duration": 30,
    "start_time": "2023-06-10T17:36:27.503Z"
   },
   {
    "duration": 8,
    "start_time": "2023-06-10T17:36:27.535Z"
   },
   {
    "duration": 39,
    "start_time": "2023-06-10T17:36:27.546Z"
   },
   {
    "duration": 25,
    "start_time": "2023-06-10T17:36:27.587Z"
   },
   {
    "duration": 12,
    "start_time": "2023-06-10T17:36:27.614Z"
   },
   {
    "duration": 6,
    "start_time": "2023-06-10T17:36:27.628Z"
   },
   {
    "duration": 39,
    "start_time": "2023-06-10T17:36:27.636Z"
   },
   {
    "duration": 45,
    "start_time": "2023-06-10T17:36:27.677Z"
   },
   {
    "duration": 0,
    "start_time": "2023-06-10T17:36:27.723Z"
   },
   {
    "duration": 0,
    "start_time": "2023-06-10T17:36:27.725Z"
   },
   {
    "duration": 0,
    "start_time": "2023-06-10T17:36:27.727Z"
   },
   {
    "duration": 0,
    "start_time": "2023-06-10T17:36:27.728Z"
   },
   {
    "duration": 0,
    "start_time": "2023-06-10T17:36:27.730Z"
   },
   {
    "duration": 0,
    "start_time": "2023-06-10T17:36:27.732Z"
   },
   {
    "duration": 0,
    "start_time": "2023-06-10T17:36:27.733Z"
   },
   {
    "duration": 0,
    "start_time": "2023-06-10T17:36:27.735Z"
   },
   {
    "duration": 0,
    "start_time": "2023-06-10T17:36:27.737Z"
   },
   {
    "duration": 0,
    "start_time": "2023-06-10T17:36:27.739Z"
   },
   {
    "duration": 0,
    "start_time": "2023-06-10T17:36:27.741Z"
   },
   {
    "duration": 0,
    "start_time": "2023-06-10T17:36:27.743Z"
   },
   {
    "duration": 0,
    "start_time": "2023-06-10T17:36:27.744Z"
   },
   {
    "duration": 0,
    "start_time": "2023-06-10T17:36:27.746Z"
   },
   {
    "duration": 0,
    "start_time": "2023-06-10T17:36:27.748Z"
   },
   {
    "duration": 0,
    "start_time": "2023-06-10T17:36:27.749Z"
   },
   {
    "duration": 0,
    "start_time": "2023-06-10T17:36:27.751Z"
   },
   {
    "duration": 0,
    "start_time": "2023-06-10T17:36:27.752Z"
   },
   {
    "duration": 0,
    "start_time": "2023-06-10T17:36:27.754Z"
   },
   {
    "duration": 0,
    "start_time": "2023-06-10T17:36:27.756Z"
   },
   {
    "duration": 0,
    "start_time": "2023-06-10T17:36:27.757Z"
   },
   {
    "duration": 0,
    "start_time": "2023-06-10T17:36:27.774Z"
   },
   {
    "duration": 0,
    "start_time": "2023-06-10T17:36:27.776Z"
   },
   {
    "duration": 0,
    "start_time": "2023-06-10T17:36:27.777Z"
   },
   {
    "duration": 0,
    "start_time": "2023-06-10T17:36:27.781Z"
   },
   {
    "duration": 0,
    "start_time": "2023-06-10T17:36:27.783Z"
   },
   {
    "duration": 0,
    "start_time": "2023-06-10T17:36:27.784Z"
   },
   {
    "duration": 0,
    "start_time": "2023-06-10T17:36:27.788Z"
   },
   {
    "duration": 0,
    "start_time": "2023-06-10T17:36:27.790Z"
   },
   {
    "duration": 0,
    "start_time": "2023-06-10T17:36:27.791Z"
   },
   {
    "duration": 0,
    "start_time": "2023-06-10T17:36:27.792Z"
   },
   {
    "duration": 0,
    "start_time": "2023-06-10T17:36:27.793Z"
   },
   {
    "duration": 0,
    "start_time": "2023-06-10T17:36:27.794Z"
   },
   {
    "duration": 0,
    "start_time": "2023-06-10T17:36:27.795Z"
   },
   {
    "duration": 0,
    "start_time": "2023-06-10T17:36:27.796Z"
   },
   {
    "duration": 0,
    "start_time": "2023-06-10T17:36:27.798Z"
   },
   {
    "duration": 0,
    "start_time": "2023-06-10T17:36:27.799Z"
   },
   {
    "duration": 0,
    "start_time": "2023-06-10T17:36:27.800Z"
   },
   {
    "duration": 0,
    "start_time": "2023-06-10T17:36:27.801Z"
   },
   {
    "duration": 0,
    "start_time": "2023-06-10T17:36:27.802Z"
   },
   {
    "duration": 0,
    "start_time": "2023-06-10T17:36:27.803Z"
   },
   {
    "duration": 0,
    "start_time": "2023-06-10T17:36:27.804Z"
   },
   {
    "duration": 0,
    "start_time": "2023-06-10T17:36:27.806Z"
   },
   {
    "duration": 12,
    "start_time": "2023-06-10T17:36:32.377Z"
   },
   {
    "duration": 194,
    "start_time": "2023-06-10T17:36:32.590Z"
   },
   {
    "duration": 12,
    "start_time": "2023-06-10T17:36:32.817Z"
   },
   {
    "duration": 10,
    "start_time": "2023-06-10T17:36:33.281Z"
   },
   {
    "duration": 10,
    "start_time": "2023-06-10T17:36:34.685Z"
   },
   {
    "duration": 16,
    "start_time": "2023-06-10T17:36:34.952Z"
   },
   {
    "duration": 233,
    "start_time": "2023-06-10T17:36:36.723Z"
   },
   {
    "duration": 5,
    "start_time": "2023-06-10T17:36:37.980Z"
   },
   {
    "duration": 5,
    "start_time": "2023-06-10T17:36:38.213Z"
   },
   {
    "duration": 11,
    "start_time": "2023-06-10T17:36:38.684Z"
   },
   {
    "duration": 14,
    "start_time": "2023-06-10T17:36:39.396Z"
   },
   {
    "duration": 6,
    "start_time": "2023-06-10T17:36:39.734Z"
   },
   {
    "duration": 5,
    "start_time": "2023-06-10T17:36:40.139Z"
   },
   {
    "duration": 24,
    "start_time": "2023-06-10T17:36:53.606Z"
   },
   {
    "duration": 8,
    "start_time": "2023-06-10T17:36:53.815Z"
   },
   {
    "duration": 5,
    "start_time": "2023-06-10T17:36:54.035Z"
   },
   {
    "duration": 12,
    "start_time": "2023-06-10T17:36:54.242Z"
   },
   {
    "duration": 53,
    "start_time": "2023-06-10T17:36:55.103Z"
   },
   {
    "duration": 8,
    "start_time": "2023-06-10T17:36:55.309Z"
   },
   {
    "duration": 11,
    "start_time": "2023-06-10T17:36:55.535Z"
   },
   {
    "duration": 56,
    "start_time": "2023-06-10T17:36:55.786Z"
   },
   {
    "duration": 25,
    "start_time": "2023-06-10T17:36:55.965Z"
   },
   {
    "duration": 14,
    "start_time": "2023-06-10T17:36:56.186Z"
   },
   {
    "duration": 16,
    "start_time": "2023-06-10T17:36:56.386Z"
   },
   {
    "duration": 15,
    "start_time": "2023-06-10T17:36:56.596Z"
   },
   {
    "duration": 25,
    "start_time": "2023-06-10T17:36:56.797Z"
   },
   {
    "duration": 11,
    "start_time": "2023-06-10T17:36:57.021Z"
   },
   {
    "duration": 16,
    "start_time": "2023-06-10T17:36:57.201Z"
   },
   {
    "duration": 111,
    "start_time": "2023-06-10T17:36:57.418Z"
   },
   {
    "duration": 11,
    "start_time": "2023-06-10T17:36:57.620Z"
   },
   {
    "duration": 5,
    "start_time": "2023-06-10T17:36:57.854Z"
   },
   {
    "duration": 9,
    "start_time": "2023-06-10T17:39:42.134Z"
   },
   {
    "duration": 4,
    "start_time": "2023-06-10T17:41:50.456Z"
   },
   {
    "duration": 12,
    "start_time": "2023-06-10T17:41:56.734Z"
   },
   {
    "duration": 13,
    "start_time": "2023-06-10T17:42:39.663Z"
   },
   {
    "duration": 12,
    "start_time": "2023-06-10T17:42:57.915Z"
   },
   {
    "duration": 13,
    "start_time": "2023-06-10T17:43:10.520Z"
   },
   {
    "duration": 16,
    "start_time": "2023-06-10T17:43:44.575Z"
   },
   {
    "duration": 12,
    "start_time": "2023-06-10T17:44:11.816Z"
   },
   {
    "duration": 16,
    "start_time": "2023-06-10T17:47:54.871Z"
   },
   {
    "duration": 784,
    "start_time": "2023-06-10T17:47:59.888Z"
   },
   {
    "duration": 8,
    "start_time": "2023-06-10T17:48:38.549Z"
   },
   {
    "duration": 13,
    "start_time": "2023-06-10T17:48:42.413Z"
   },
   {
    "duration": 7,
    "start_time": "2023-06-10T17:48:59.679Z"
   },
   {
    "duration": 13,
    "start_time": "2023-06-10T17:49:02.744Z"
   },
   {
    "duration": 228,
    "start_time": "2023-06-10T17:49:29.888Z"
   },
   {
    "duration": 14,
    "start_time": "2023-06-10T17:49:52.037Z"
   },
   {
    "duration": 19,
    "start_time": "2023-06-10T17:50:26.582Z"
   },
   {
    "duration": 14,
    "start_time": "2023-06-10T19:05:08.142Z"
   },
   {
    "duration": 1309,
    "start_time": "2023-06-10T19:08:14.388Z"
   },
   {
    "duration": 36,
    "start_time": "2023-06-10T19:08:15.699Z"
   },
   {
    "duration": 77,
    "start_time": "2023-06-10T19:08:15.736Z"
   },
   {
    "duration": 498,
    "start_time": "2023-06-10T19:08:15.815Z"
   },
   {
    "duration": 31,
    "start_time": "2023-06-10T19:08:16.315Z"
   },
   {
    "duration": 10,
    "start_time": "2023-06-10T19:08:16.348Z"
   },
   {
    "duration": 20,
    "start_time": "2023-06-10T19:08:16.359Z"
   },
   {
    "duration": 8,
    "start_time": "2023-06-10T19:08:16.383Z"
   },
   {
    "duration": 17,
    "start_time": "2023-06-10T19:08:16.392Z"
   },
   {
    "duration": 30,
    "start_time": "2023-06-10T19:08:16.411Z"
   },
   {
    "duration": 34,
    "start_time": "2023-06-10T19:08:16.443Z"
   },
   {
    "duration": 63,
    "start_time": "2023-06-10T19:08:16.480Z"
   },
   {
    "duration": 4,
    "start_time": "2023-06-10T19:08:16.545Z"
   },
   {
    "duration": 30,
    "start_time": "2023-06-10T19:08:16.551Z"
   },
   {
    "duration": 108,
    "start_time": "2023-06-10T19:08:16.582Z"
   },
   {
    "duration": 195,
    "start_time": "2023-06-10T19:08:16.692Z"
   },
   {
    "duration": 11,
    "start_time": "2023-06-10T19:08:16.889Z"
   },
   {
    "duration": 14,
    "start_time": "2023-06-10T19:08:16.902Z"
   },
   {
    "duration": 11,
    "start_time": "2023-06-10T19:08:16.918Z"
   },
   {
    "duration": 13,
    "start_time": "2023-06-10T19:08:16.931Z"
   },
   {
    "duration": 329,
    "start_time": "2023-06-10T19:08:16.946Z"
   },
   {
    "duration": 9,
    "start_time": "2023-06-10T19:08:17.281Z"
   },
   {
    "duration": 61,
    "start_time": "2023-06-10T19:08:17.292Z"
   },
   {
    "duration": 11,
    "start_time": "2023-06-10T19:08:17.354Z"
   },
   {
    "duration": 14,
    "start_time": "2023-06-10T19:08:17.366Z"
   },
   {
    "duration": 8,
    "start_time": "2023-06-10T19:08:17.387Z"
   },
   {
    "duration": 5,
    "start_time": "2023-06-10T19:08:17.396Z"
   },
   {
    "duration": 8,
    "start_time": "2023-06-10T19:08:17.405Z"
   },
   {
    "duration": 18,
    "start_time": "2023-06-10T19:08:17.414Z"
   },
   {
    "duration": 18,
    "start_time": "2023-06-10T19:08:17.434Z"
   },
   {
    "duration": 12,
    "start_time": "2023-06-10T19:08:17.453Z"
   },
   {
    "duration": 23,
    "start_time": "2023-06-10T19:08:17.467Z"
   },
   {
    "duration": 20,
    "start_time": "2023-06-10T19:08:17.492Z"
   },
   {
    "duration": 7,
    "start_time": "2023-06-10T19:08:17.513Z"
   },
   {
    "duration": 4,
    "start_time": "2023-06-10T19:08:17.521Z"
   },
   {
    "duration": 24,
    "start_time": "2023-06-10T19:08:17.526Z"
   },
   {
    "duration": 48,
    "start_time": "2023-06-10T19:08:17.552Z"
   },
   {
    "duration": 19,
    "start_time": "2023-06-10T19:08:17.601Z"
   },
   {
    "duration": 12,
    "start_time": "2023-06-10T19:08:17.622Z"
   },
   {
    "duration": 53,
    "start_time": "2023-06-10T19:08:17.636Z"
   },
   {
    "duration": 6,
    "start_time": "2023-06-10T19:08:17.690Z"
   },
   {
    "duration": 12,
    "start_time": "2023-06-10T19:08:17.698Z"
   },
   {
    "duration": 32,
    "start_time": "2023-06-10T19:08:17.712Z"
   },
   {
    "duration": 36,
    "start_time": "2023-06-10T19:08:17.745Z"
   },
   {
    "duration": 22,
    "start_time": "2023-06-10T19:08:17.786Z"
   },
   {
    "duration": 8,
    "start_time": "2023-06-10T19:08:17.810Z"
   },
   {
    "duration": 15,
    "start_time": "2023-06-10T19:08:17.820Z"
   },
   {
    "duration": 141,
    "start_time": "2023-06-10T19:08:17.836Z"
   },
   {
    "duration": 23,
    "start_time": "2023-06-10T19:08:17.980Z"
   },
   {
    "duration": 6,
    "start_time": "2023-06-10T19:08:18.005Z"
   },
   {
    "duration": 9,
    "start_time": "2023-06-10T19:08:18.012Z"
   },
   {
    "duration": 16,
    "start_time": "2023-06-10T19:08:18.023Z"
   },
   {
    "duration": 48,
    "start_time": "2023-06-10T19:08:18.040Z"
   },
   {
    "duration": 27,
    "start_time": "2023-06-10T19:08:18.090Z"
   },
   {
    "duration": 9,
    "start_time": "2023-06-10T19:08:18.118Z"
   },
   {
    "duration": 5,
    "start_time": "2023-06-10T19:08:18.129Z"
   },
   {
    "duration": 57,
    "start_time": "2023-06-10T19:08:18.135Z"
   },
   {
    "duration": 266,
    "start_time": "2023-06-10T19:08:18.194Z"
   },
   {
    "duration": 29,
    "start_time": "2023-06-10T19:08:18.462Z"
   },
   {
    "duration": 16,
    "start_time": "2023-06-10T19:08:18.493Z"
   },
   {
    "duration": 424,
    "start_time": "2023-06-10T19:08:18.511Z"
   },
   {
    "duration": 53,
    "start_time": "2023-06-10T19:08:18.937Z"
   },
   {
    "duration": 108,
    "start_time": "2023-06-10T19:08:18.992Z"
   },
   {
    "duration": 10,
    "start_time": "2023-06-10T19:08:19.102Z"
   },
   {
    "duration": 8,
    "start_time": "2023-06-10T19:08:19.113Z"
   },
   {
    "duration": 18,
    "start_time": "2023-06-10T19:08:19.178Z"
   },
   {
    "duration": 22,
    "start_time": "2023-06-10T19:08:19.197Z"
   },
   {
    "duration": 58,
    "start_time": "2023-06-10T19:08:19.220Z"
   },
   {
    "duration": 17,
    "start_time": "2023-06-10T19:08:19.284Z"
   },
   {
    "duration": 9,
    "start_time": "2023-06-10T19:55:23.451Z"
   },
   {
    "duration": 9,
    "start_time": "2023-06-10T19:56:52.110Z"
   },
   {
    "duration": 1234,
    "start_time": "2023-06-10T19:59:18.676Z"
   },
   {
    "duration": 37,
    "start_time": "2023-06-10T19:59:19.913Z"
   },
   {
    "duration": 71,
    "start_time": "2023-06-10T19:59:19.951Z"
   },
   {
    "duration": 660,
    "start_time": "2023-06-10T19:59:20.025Z"
   },
   {
    "duration": 32,
    "start_time": "2023-06-10T19:59:20.687Z"
   },
   {
    "duration": 10,
    "start_time": "2023-06-10T19:59:20.721Z"
   },
   {
    "duration": 42,
    "start_time": "2023-06-10T19:59:20.733Z"
   },
   {
    "duration": 5,
    "start_time": "2023-06-10T19:59:20.777Z"
   },
   {
    "duration": 36,
    "start_time": "2023-06-10T19:59:20.784Z"
   },
   {
    "duration": 36,
    "start_time": "2023-06-10T19:59:20.823Z"
   },
   {
    "duration": 20,
    "start_time": "2023-06-10T19:59:20.861Z"
   },
   {
    "duration": 60,
    "start_time": "2023-06-10T19:59:20.883Z"
   },
   {
    "duration": 4,
    "start_time": "2023-06-10T19:59:20.945Z"
   },
   {
    "duration": 12,
    "start_time": "2023-06-10T19:59:20.951Z"
   },
   {
    "duration": 149,
    "start_time": "2023-06-10T19:59:20.975Z"
   },
   {
    "duration": 204,
    "start_time": "2023-06-10T19:59:21.126Z"
   },
   {
    "duration": 12,
    "start_time": "2023-06-10T19:59:21.332Z"
   },
   {
    "duration": 32,
    "start_time": "2023-06-10T19:59:21.346Z"
   },
   {
    "duration": 9,
    "start_time": "2023-06-10T19:59:21.380Z"
   },
   {
    "duration": 13,
    "start_time": "2023-06-10T19:59:21.391Z"
   },
   {
    "duration": 326,
    "start_time": "2023-06-10T19:59:21.405Z"
   },
   {
    "duration": 5,
    "start_time": "2023-06-10T19:59:21.732Z"
   },
   {
    "duration": 33,
    "start_time": "2023-06-10T19:59:21.738Z"
   },
   {
    "duration": 13,
    "start_time": "2023-06-10T19:59:21.773Z"
   },
   {
    "duration": 13,
    "start_time": "2023-06-10T19:59:21.788Z"
   },
   {
    "duration": 10,
    "start_time": "2023-06-10T19:59:21.803Z"
   },
   {
    "duration": 5,
    "start_time": "2023-06-10T19:59:21.815Z"
   },
   {
    "duration": 10,
    "start_time": "2023-06-10T19:59:21.824Z"
   },
   {
    "duration": 19,
    "start_time": "2023-06-10T19:59:21.836Z"
   },
   {
    "duration": 11,
    "start_time": "2023-06-10T19:59:21.875Z"
   },
   {
    "duration": 6,
    "start_time": "2023-06-10T19:59:21.888Z"
   },
   {
    "duration": 15,
    "start_time": "2023-06-10T19:59:21.896Z"
   },
   {
    "duration": 14,
    "start_time": "2023-06-10T19:59:21.913Z"
   },
   {
    "duration": 48,
    "start_time": "2023-06-10T19:59:21.928Z"
   },
   {
    "duration": 4,
    "start_time": "2023-06-10T19:59:21.977Z"
   },
   {
    "duration": 13,
    "start_time": "2023-06-10T19:59:21.983Z"
   },
   {
    "duration": 35,
    "start_time": "2023-06-10T19:59:21.997Z"
   },
   {
    "duration": 47,
    "start_time": "2023-06-10T19:59:22.034Z"
   },
   {
    "duration": 14,
    "start_time": "2023-06-10T19:59:22.083Z"
   },
   {
    "duration": 18,
    "start_time": "2023-06-10T19:59:22.099Z"
   },
   {
    "duration": 5,
    "start_time": "2023-06-10T19:59:22.119Z"
   },
   {
    "duration": 14,
    "start_time": "2023-06-10T19:59:22.126Z"
   },
   {
    "duration": 62,
    "start_time": "2023-06-10T19:59:22.141Z"
   },
   {
    "duration": 8,
    "start_time": "2023-06-10T19:59:22.205Z"
   },
   {
    "duration": 22,
    "start_time": "2023-06-10T19:59:22.215Z"
   },
   {
    "duration": 40,
    "start_time": "2023-06-10T19:59:22.239Z"
   },
   {
    "duration": 17,
    "start_time": "2023-06-10T19:59:22.280Z"
   },
   {
    "duration": 145,
    "start_time": "2023-06-10T19:59:22.299Z"
   },
   {
    "duration": 33,
    "start_time": "2023-06-10T19:59:22.446Z"
   },
   {
    "duration": 6,
    "start_time": "2023-06-10T19:59:22.481Z"
   },
   {
    "duration": 14,
    "start_time": "2023-06-10T19:59:22.488Z"
   },
   {
    "duration": 22,
    "start_time": "2023-06-10T19:59:22.504Z"
   },
   {
    "duration": 13,
    "start_time": "2023-06-10T19:59:22.528Z"
   },
   {
    "duration": 53,
    "start_time": "2023-06-10T19:59:22.542Z"
   },
   {
    "duration": 10,
    "start_time": "2023-06-10T19:59:22.597Z"
   },
   {
    "duration": 7,
    "start_time": "2023-06-10T19:59:22.609Z"
   },
   {
    "duration": 21,
    "start_time": "2023-06-10T19:59:22.619Z"
   },
   {
    "duration": 241,
    "start_time": "2023-06-10T19:59:22.675Z"
   },
   {
    "duration": 19,
    "start_time": "2023-06-10T19:59:22.918Z"
   },
   {
    "duration": 15,
    "start_time": "2023-06-10T19:59:22.939Z"
   },
   {
    "duration": 422,
    "start_time": "2023-06-10T19:59:22.956Z"
   },
   {
    "duration": 31,
    "start_time": "2023-06-10T19:59:23.380Z"
   },
   {
    "duration": 104,
    "start_time": "2023-06-10T19:59:23.413Z"
   },
   {
    "duration": 64,
    "start_time": "2023-06-10T19:59:23.519Z"
   },
   {
    "duration": 9,
    "start_time": "2023-06-10T19:59:23.585Z"
   },
   {
    "duration": 16,
    "start_time": "2023-06-10T19:59:23.595Z"
   },
   {
    "duration": 72,
    "start_time": "2023-06-10T19:59:23.612Z"
   },
   {
    "duration": 4,
    "start_time": "2023-06-10T19:59:23.686Z"
   },
   {
    "duration": 23,
    "start_time": "2023-06-10T19:59:23.692Z"
   },
   {
    "duration": 1270,
    "start_time": "2023-06-11T11:54:55.546Z"
   },
   {
    "duration": 75,
    "start_time": "2023-06-11T11:54:56.818Z"
   },
   {
    "duration": 221,
    "start_time": "2023-06-11T11:54:56.895Z"
   },
   {
    "duration": 1454,
    "start_time": "2023-06-11T11:54:57.118Z"
   },
   {
    "duration": 115,
    "start_time": "2023-06-11T11:54:58.574Z"
   },
   {
    "duration": 9,
    "start_time": "2023-06-11T11:54:58.691Z"
   },
   {
    "duration": 34,
    "start_time": "2023-06-11T11:54:58.702Z"
   },
   {
    "duration": 9,
    "start_time": "2023-06-11T11:54:58.737Z"
   },
   {
    "duration": 17,
    "start_time": "2023-06-11T11:54:58.747Z"
   },
   {
    "duration": 28,
    "start_time": "2023-06-11T11:54:58.767Z"
   },
   {
    "duration": 10,
    "start_time": "2023-06-11T11:54:58.797Z"
   },
   {
    "duration": 53,
    "start_time": "2023-06-11T11:54:58.808Z"
   },
   {
    "duration": 5,
    "start_time": "2023-06-11T11:54:58.862Z"
   },
   {
    "duration": 15,
    "start_time": "2023-06-11T11:54:58.869Z"
   },
   {
    "duration": 95,
    "start_time": "2023-06-11T11:54:58.885Z"
   },
   {
    "duration": 167,
    "start_time": "2023-06-11T11:54:58.982Z"
   },
   {
    "duration": 11,
    "start_time": "2023-06-11T11:54:59.151Z"
   },
   {
    "duration": 15,
    "start_time": "2023-06-11T11:54:59.164Z"
   },
   {
    "duration": 10,
    "start_time": "2023-06-11T11:54:59.181Z"
   },
   {
    "duration": 13,
    "start_time": "2023-06-11T11:54:59.206Z"
   },
   {
    "duration": 310,
    "start_time": "2023-06-11T11:54:59.220Z"
   },
   {
    "duration": 5,
    "start_time": "2023-06-11T11:54:59.531Z"
   },
   {
    "duration": 13,
    "start_time": "2023-06-11T11:54:59.538Z"
   },
   {
    "duration": 11,
    "start_time": "2023-06-11T11:54:59.553Z"
   },
   {
    "duration": 8,
    "start_time": "2023-06-11T11:54:59.566Z"
   },
   {
    "duration": 34,
    "start_time": "2023-06-11T11:54:59.576Z"
   },
   {
    "duration": 5,
    "start_time": "2023-06-11T11:54:59.612Z"
   },
   {
    "duration": 14,
    "start_time": "2023-06-11T11:54:59.621Z"
   },
   {
    "duration": 8,
    "start_time": "2023-06-11T11:54:59.636Z"
   },
   {
    "duration": 15,
    "start_time": "2023-06-11T11:54:59.646Z"
   },
   {
    "duration": 7,
    "start_time": "2023-06-11T11:54:59.663Z"
   },
   {
    "duration": 46,
    "start_time": "2023-06-11T11:54:59.672Z"
   },
   {
    "duration": 14,
    "start_time": "2023-06-11T11:54:59.720Z"
   },
   {
    "duration": 11,
    "start_time": "2023-06-11T11:54:59.736Z"
   },
   {
    "duration": 13,
    "start_time": "2023-06-11T11:54:59.748Z"
   },
   {
    "duration": 21,
    "start_time": "2023-06-11T11:54:59.762Z"
   },
   {
    "duration": 39,
    "start_time": "2023-06-11T11:54:59.785Z"
   },
   {
    "duration": 17,
    "start_time": "2023-06-11T11:54:59.825Z"
   },
   {
    "duration": 12,
    "start_time": "2023-06-11T11:54:59.843Z"
   },
   {
    "duration": 17,
    "start_time": "2023-06-11T11:54:59.856Z"
   },
   {
    "duration": 5,
    "start_time": "2023-06-11T11:54:59.874Z"
   },
   {
    "duration": 13,
    "start_time": "2023-06-11T11:54:59.906Z"
   },
   {
    "duration": 34,
    "start_time": "2023-06-11T11:54:59.920Z"
   },
   {
    "duration": 11,
    "start_time": "2023-06-11T11:54:59.956Z"
   },
   {
    "duration": 50,
    "start_time": "2023-06-11T11:54:59.969Z"
   },
   {
    "duration": 10,
    "start_time": "2023-06-11T11:55:00.021Z"
   },
   {
    "duration": 32,
    "start_time": "2023-06-11T11:55:00.032Z"
   },
   {
    "duration": 135,
    "start_time": "2023-06-11T11:55:00.066Z"
   },
   {
    "duration": 17,
    "start_time": "2023-06-11T11:55:00.205Z"
   },
   {
    "duration": 22,
    "start_time": "2023-06-11T11:55:00.224Z"
   },
   {
    "duration": 28,
    "start_time": "2023-06-11T11:55:00.247Z"
   },
   {
    "duration": 46,
    "start_time": "2023-06-11T11:55:00.276Z"
   },
   {
    "duration": 68,
    "start_time": "2023-06-11T11:55:00.323Z"
   },
   {
    "duration": 53,
    "start_time": "2023-06-11T11:55:00.393Z"
   },
   {
    "duration": 89,
    "start_time": "2023-06-11T11:55:00.448Z"
   },
   {
    "duration": 68,
    "start_time": "2023-06-11T11:55:00.539Z"
   },
   {
    "duration": 77,
    "start_time": "2023-06-11T11:55:00.609Z"
   },
   {
    "duration": 247,
    "start_time": "2023-06-11T11:55:00.687Z"
   },
   {
    "duration": 18,
    "start_time": "2023-06-11T11:55:00.935Z"
   },
   {
    "duration": 46,
    "start_time": "2023-06-11T11:55:00.955Z"
   },
   {
    "duration": 661,
    "start_time": "2023-06-11T11:55:01.003Z"
   },
   {
    "duration": 22,
    "start_time": "2023-06-11T11:55:01.667Z"
   },
   {
    "duration": 122,
    "start_time": "2023-06-11T11:55:01.690Z"
   },
   {
    "duration": 15,
    "start_time": "2023-06-11T11:55:01.814Z"
   },
   {
    "duration": 55,
    "start_time": "2023-06-11T11:55:01.830Z"
   },
   {
    "duration": 38,
    "start_time": "2023-06-11T11:55:01.886Z"
   },
   {
    "duration": 53,
    "start_time": "2023-06-11T11:55:01.926Z"
   },
   {
    "duration": 19,
    "start_time": "2023-06-11T11:55:01.981Z"
   },
   {
    "duration": 95,
    "start_time": "2023-06-11T11:55:02.001Z"
   },
   {
    "duration": 1457,
    "start_time": "2023-08-24T12:45:36.863Z"
   },
   {
    "duration": 78,
    "start_time": "2023-08-24T12:45:38.323Z"
   },
   {
    "duration": 175,
    "start_time": "2023-08-24T12:45:38.403Z"
   },
   {
    "duration": 625,
    "start_time": "2023-08-24T12:45:38.580Z"
   },
   {
    "duration": 69,
    "start_time": "2023-08-24T12:45:39.207Z"
   },
   {
    "duration": 11,
    "start_time": "2023-08-24T12:45:39.278Z"
   },
   {
    "duration": 13,
    "start_time": "2023-08-24T12:45:39.290Z"
   },
   {
    "duration": 17,
    "start_time": "2023-08-24T12:45:39.304Z"
   },
   {
    "duration": 23,
    "start_time": "2023-08-24T12:45:39.322Z"
   },
   {
    "duration": 32,
    "start_time": "2023-08-24T12:45:39.348Z"
   },
   {
    "duration": 13,
    "start_time": "2023-08-24T12:45:39.382Z"
   },
   {
    "duration": 71,
    "start_time": "2023-08-24T12:45:39.396Z"
   },
   {
    "duration": 4,
    "start_time": "2023-08-24T12:45:39.469Z"
   },
   {
    "duration": 10,
    "start_time": "2023-08-24T12:45:39.475Z"
   },
   {
    "duration": 106,
    "start_time": "2023-08-24T12:45:39.487Z"
   },
   {
    "duration": 192,
    "start_time": "2023-08-24T12:45:39.595Z"
   },
   {
    "duration": 13,
    "start_time": "2023-08-24T12:45:39.789Z"
   },
   {
    "duration": 11,
    "start_time": "2023-08-24T12:45:39.804Z"
   },
   {
    "duration": 10,
    "start_time": "2023-08-24T12:45:39.817Z"
   },
   {
    "duration": 32,
    "start_time": "2023-08-24T12:45:39.828Z"
   },
   {
    "duration": 320,
    "start_time": "2023-08-24T12:45:39.862Z"
   },
   {
    "duration": 5,
    "start_time": "2023-08-24T12:45:40.185Z"
   },
   {
    "duration": 6,
    "start_time": "2023-08-24T12:45:40.192Z"
   },
   {
    "duration": 11,
    "start_time": "2023-08-24T12:45:40.200Z"
   },
   {
    "duration": 9,
    "start_time": "2023-08-24T12:45:40.213Z"
   },
   {
    "duration": 6,
    "start_time": "2023-08-24T12:45:40.253Z"
   },
   {
    "duration": 5,
    "start_time": "2023-08-24T12:45:40.261Z"
   },
   {
    "duration": 9,
    "start_time": "2023-08-24T12:45:40.269Z"
   },
   {
    "duration": 7,
    "start_time": "2023-08-24T12:45:40.280Z"
   },
   {
    "duration": 12,
    "start_time": "2023-08-24T12:45:40.288Z"
   },
   {
    "duration": 5,
    "start_time": "2023-08-24T12:45:40.302Z"
   },
   {
    "duration": 57,
    "start_time": "2023-08-24T12:45:40.308Z"
   },
   {
    "duration": 14,
    "start_time": "2023-08-24T12:45:40.366Z"
   },
   {
    "duration": 6,
    "start_time": "2023-08-24T12:45:40.382Z"
   },
   {
    "duration": 4,
    "start_time": "2023-08-24T12:45:40.390Z"
   },
   {
    "duration": 8,
    "start_time": "2023-08-24T12:45:40.395Z"
   },
   {
    "duration": 64,
    "start_time": "2023-08-24T12:45:40.405Z"
   },
   {
    "duration": 19,
    "start_time": "2023-08-24T12:45:40.471Z"
   },
   {
    "duration": 13,
    "start_time": "2023-08-24T12:45:40.492Z"
   },
   {
    "duration": 19,
    "start_time": "2023-08-24T12:45:40.507Z"
   },
   {
    "duration": 30,
    "start_time": "2023-08-24T12:45:40.528Z"
   },
   {
    "duration": 15,
    "start_time": "2023-08-24T12:45:40.560Z"
   },
   {
    "duration": 33,
    "start_time": "2023-08-24T12:45:40.577Z"
   },
   {
    "duration": 9,
    "start_time": "2023-08-24T12:45:40.612Z"
   },
   {
    "duration": 23,
    "start_time": "2023-08-24T12:45:40.653Z"
   },
   {
    "duration": 8,
    "start_time": "2023-08-24T12:45:40.678Z"
   },
   {
    "duration": 9,
    "start_time": "2023-08-24T12:45:40.688Z"
   },
   {
    "duration": 159,
    "start_time": "2023-08-24T12:45:40.698Z"
   },
   {
    "duration": 19,
    "start_time": "2023-08-24T12:45:40.858Z"
   },
   {
    "duration": 5,
    "start_time": "2023-08-24T12:45:40.878Z"
   },
   {
    "duration": 9,
    "start_time": "2023-08-24T12:45:40.885Z"
   },
   {
    "duration": 18,
    "start_time": "2023-08-24T12:45:40.896Z"
   },
   {
    "duration": 45,
    "start_time": "2023-08-24T12:45:40.916Z"
   },
   {
    "duration": 21,
    "start_time": "2023-08-24T12:45:40.962Z"
   },
   {
    "duration": 20,
    "start_time": "2023-08-24T12:45:40.985Z"
   },
   {
    "duration": 8,
    "start_time": "2023-08-24T12:45:41.007Z"
   },
   {
    "duration": 24,
    "start_time": "2023-08-24T12:45:41.017Z"
   },
   {
    "duration": 262,
    "start_time": "2023-08-24T12:45:41.053Z"
   },
   {
    "duration": 22,
    "start_time": "2023-08-24T12:45:41.317Z"
   },
   {
    "duration": 36,
    "start_time": "2023-08-24T12:45:41.341Z"
   },
   {
    "duration": 612,
    "start_time": "2023-08-24T12:45:41.379Z"
   },
   {
    "duration": 23,
    "start_time": "2023-08-24T12:45:41.992Z"
   },
   {
    "duration": 74,
    "start_time": "2023-08-24T12:45:42.016Z"
   },
   {
    "duration": 10,
    "start_time": "2023-08-24T12:45:42.092Z"
   },
   {
    "duration": 56,
    "start_time": "2023-08-24T12:45:42.103Z"
   },
   {
    "duration": 16,
    "start_time": "2023-08-24T12:45:42.160Z"
   },
   {
    "duration": 21,
    "start_time": "2023-08-24T12:45:42.177Z"
   },
   {
    "duration": 4,
    "start_time": "2023-08-24T12:45:42.200Z"
   },
   {
    "duration": 30,
    "start_time": "2023-08-24T12:45:42.205Z"
   },
   {
    "duration": 4,
    "start_time": "2023-08-24T12:46:17.715Z"
   },
   {
    "duration": 32,
    "start_time": "2023-08-24T12:46:18.266Z"
   },
   {
    "duration": 72,
    "start_time": "2023-08-24T12:46:18.603Z"
   },
   {
    "duration": 458,
    "start_time": "2023-08-24T12:46:18.975Z"
   },
   {
    "duration": 52,
    "start_time": "2023-08-24T12:46:19.436Z"
   },
   {
    "duration": 10,
    "start_time": "2023-08-24T12:46:19.686Z"
   },
   {
    "duration": 5,
    "start_time": "2023-08-24T12:46:20.041Z"
   },
   {
    "duration": 5,
    "start_time": "2023-08-24T12:46:20.221Z"
   },
   {
    "duration": 18,
    "start_time": "2023-08-24T12:46:20.414Z"
   },
   {
    "duration": 29,
    "start_time": "2023-08-24T12:46:20.764Z"
   },
   {
    "duration": 12,
    "start_time": "2023-08-24T12:46:20.940Z"
   },
   {
    "duration": 58,
    "start_time": "2023-08-24T12:46:21.146Z"
   },
   {
    "duration": 5,
    "start_time": "2023-08-24T12:46:21.335Z"
   },
   {
    "duration": 7,
    "start_time": "2023-08-24T12:46:21.540Z"
   },
   {
    "duration": 86,
    "start_time": "2023-08-24T12:46:21.933Z"
   },
   {
    "duration": 177,
    "start_time": "2023-08-24T12:46:22.132Z"
   },
   {
    "duration": 12,
    "start_time": "2023-08-24T12:46:22.310Z"
   },
   {
    "duration": 9,
    "start_time": "2023-08-24T12:46:22.689Z"
   },
   {
    "duration": 10,
    "start_time": "2023-08-24T12:46:23.475Z"
   },
   {
    "duration": 11,
    "start_time": "2023-08-24T12:46:23.675Z"
   },
   {
    "duration": 226,
    "start_time": "2023-08-24T12:46:24.285Z"
   },
   {
    "duration": 6,
    "start_time": "2023-08-24T12:46:24.859Z"
   },
   {
    "duration": 6,
    "start_time": "2023-08-24T12:46:25.073Z"
   },
   {
    "duration": 14,
    "start_time": "2023-08-24T12:46:25.468Z"
   },
   {
    "duration": 13,
    "start_time": "2023-08-24T12:46:25.838Z"
   },
   {
    "duration": 6,
    "start_time": "2023-08-24T12:46:26.052Z"
   },
   {
    "duration": 6,
    "start_time": "2023-08-24T12:46:26.242Z"
   },
   {
    "duration": 10,
    "start_time": "2023-08-24T12:46:26.838Z"
   },
   {
    "duration": 7,
    "start_time": "2023-08-24T12:46:27.233Z"
   },
   {
    "duration": 11,
    "start_time": "2023-08-24T12:46:27.436Z"
   },
   {
    "duration": 7,
    "start_time": "2023-08-24T12:46:27.649Z"
   },
   {
    "duration": 13,
    "start_time": "2023-08-24T12:46:28.032Z"
   },
   {
    "duration": 21,
    "start_time": "2023-08-24T12:46:28.647Z"
   },
   {
    "duration": 7,
    "start_time": "2023-08-24T12:46:28.840Z"
   },
   {
    "duration": 4,
    "start_time": "2023-08-24T12:46:29.032Z"
   },
   {
    "duration": 8,
    "start_time": "2023-08-24T12:46:29.234Z"
   },
   {
    "duration": 30,
    "start_time": "2023-08-24T12:46:30.248Z"
   },
   {
    "duration": 21,
    "start_time": "2023-08-24T12:46:30.641Z"
   },
   {
    "duration": 15,
    "start_time": "2023-08-24T12:46:30.843Z"
   },
   {
    "duration": 20,
    "start_time": "2023-08-24T12:46:31.057Z"
   },
   {
    "duration": 7,
    "start_time": "2023-08-24T12:46:31.246Z"
   },
   {
    "duration": 13,
    "start_time": "2023-08-24T12:46:31.474Z"
   },
   {
    "duration": 36,
    "start_time": "2023-08-24T12:46:32.508Z"
   },
   {
    "duration": 10,
    "start_time": "2023-08-24T12:46:32.924Z"
   },
   {
    "duration": 20,
    "start_time": "2023-08-24T12:46:33.341Z"
   },
   {
    "duration": 9,
    "start_time": "2023-08-24T12:46:33.555Z"
   },
   {
    "duration": 6,
    "start_time": "2023-08-24T12:46:34.185Z"
   },
   {
    "duration": 126,
    "start_time": "2023-08-24T12:46:34.780Z"
   },
   {
    "duration": 16,
    "start_time": "2023-08-24T12:46:34.977Z"
   },
   {
    "duration": 5,
    "start_time": "2023-08-24T12:46:35.197Z"
   },
   {
    "duration": 6,
    "start_time": "2023-08-24T12:46:35.401Z"
   },
   {
    "duration": 13,
    "start_time": "2023-08-24T12:46:35.828Z"
   },
   {
    "duration": 15,
    "start_time": "2023-08-24T12:46:36.018Z"
   },
   {
    "duration": 21,
    "start_time": "2023-08-24T12:46:36.682Z"
   },
   {
    "duration": 9,
    "start_time": "2023-08-24T12:46:37.076Z"
   },
   {
    "duration": 7,
    "start_time": "2023-08-24T12:46:37.301Z"
   },
   {
    "duration": 21,
    "start_time": "2023-08-24T12:46:37.919Z"
   },
   {
    "duration": 279,
    "start_time": "2023-08-24T12:46:38.133Z"
   },
   {
    "duration": 20,
    "start_time": "2023-08-24T12:46:38.762Z"
   },
   {
    "duration": 18,
    "start_time": "2023-08-24T12:46:38.966Z"
   },
   {
    "duration": 51,
    "start_time": "2023-08-24T12:46:39.181Z"
   },
   {
    "duration": 20,
    "start_time": "2023-08-24T12:46:39.821Z"
   },
   {
    "duration": 49,
    "start_time": "2023-08-24T12:46:40.036Z"
   },
   {
    "duration": 9,
    "start_time": "2023-08-24T12:46:40.653Z"
   },
   {
    "duration": 9,
    "start_time": "2023-08-24T12:46:41.067Z"
   },
   {
    "duration": 16,
    "start_time": "2023-08-24T12:46:42.961Z"
   },
   {
    "duration": 25,
    "start_time": "2023-08-24T12:46:43.585Z"
   },
   {
    "duration": 6,
    "start_time": "2023-08-24T12:46:44.440Z"
   },
   {
    "duration": 18,
    "start_time": "2023-08-24T12:46:44.650Z"
   }
  ],
  "kernelspec": {
   "display_name": "Python 3 (ipykernel)",
   "language": "python",
   "name": "python3"
  },
  "language_info": {
   "codemirror_mode": {
    "name": "ipython",
    "version": 3
   },
   "file_extension": ".py",
   "mimetype": "text/x-python",
   "name": "python",
   "nbconvert_exporter": "python",
   "pygments_lexer": "ipython3",
   "version": "3.9.5"
  },
  "toc": {
   "base_numbering": 1,
   "nav_menu": {
    "height": "277px",
    "width": "717px"
   },
   "number_sections": true,
   "sideBar": true,
   "skip_h1_title": true,
   "title_cell": "Содержание",
   "title_sidebar": "Contents",
   "toc_cell": true,
   "toc_position": {},
   "toc_section_display": true,
   "toc_window_display": true
  }
 },
 "nbformat": 4,
 "nbformat_minor": 2
}
