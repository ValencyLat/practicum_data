{
 "cells": [
  {
   "cell_type": "markdown",
   "metadata": {},
   "source": [
    "# Анализ базы данных сервиса для чтения книг по подписке.\n",
    "Финальный проект по SQL\n"
   ]
  },
  {
   "cell_type": "markdown",
   "metadata": {},
   "source": [
    "ЦЕЛЬ:Проанализировать базу данных для формулировки ценностного предложения для нового продукта."
   ]
  },
  {
   "cell_type": "markdown",
   "metadata": {},
   "source": [
    "ОПИСАНИЕ: Коронавирус застал мир врасплох, изменив привычный порядок вещей. В свободное время жители городов больше не выходят на улицу, не посещают кафе и торговые центры. Зато стало больше времени для книг. Это заметили стартаперы — и бросились создавать приложения для тех, кто любит читать.\n",
    "Ваша компания решила быть на волне и купила крупный сервис для чтения книг по подписке. Ваша первая задача как аналитика — проанализировать базу данных. В ней — информация о книгах, издательствах, авторах, а также пользовательские обзоры книг. Эти данные помогут сформулировать ценностное предложение для нового продукта."
   ]
  },
  {
   "cell_type": "markdown",
   "metadata": {},
   "source": [
    "ДАННЫЕ:\n",
    "Таблица books\n",
    "Содержит данные о книгах:\n",
    "book_id — идентификатор книги;\n",
    "author_id — идентификатор автора;\n",
    "title — название книги;\n",
    "num_pages — количество страниц;\n",
    "publication_date — дата публикации книги;\n",
    "publisher_id — идентификатор издателя.\n",
    "Таблица authors\n",
    "Содержит данные об авторах:\n",
    "author_id — идентификатор автора;\n",
    "author — имя автора.\n",
    "Таблица publishers\n",
    "Содержит данные об издательствах:\n",
    "publisher_id — идентификатор издательства;\n",
    "publisher — название издательства;\n",
    "Таблица ratings\n",
    "Содержит данные о пользовательских оценках книг:\n",
    "rating_id — идентификатор оценки;\n",
    "book_id — идентификатор книги;\n",
    "username — имя пользователя, оставившего оценку;\n",
    "rating — оценка книги.\n",
    "Таблица reviews\n",
    "Содержит данные о пользовательских обзорах на книги:\n",
    "review_id — идентификатор обзора;\n",
    "book_id — идентификатор книги;\n",
    "username — имя пользователя, написавшего обзор;\n",
    "text — текст обзора."
   ]
  },
  {
   "cell_type": "code",
   "execution_count": 1,
   "metadata": {},
   "outputs": [],
   "source": [
    "# импортируем библиотеки\n",
    "import pandas as pd\n",
    "from sqlalchemy import text, create_engine\n",
    "\n",
    "# устанавливаем параметры\n",
    "db_config = {'user': 'praktikum_student', # имя пользователя\n",
    "'pwd': 'Sdf4$2;d-d30pp', # пароль\n",
    "'host': 'rc1b-wcoijxj3yxfsf3fs.mdb.yandexcloud.net',\n",
    "'port': 6432, # порт подключения\n",
    "'db': 'data-analyst-final-project-db'} # название базы данных\n",
    "connection_string = 'postgresql://{user}:{pwd}@{host}:{port}/{db}'.format(**db_config)\n",
    "\n",
    "# сохраняем коннектор\n",
    "engine = create_engine(connection_string, connect_args={'sslmode':'require'})\n",
    "\n",
    "\n"
   ]
  },
  {
   "cell_type": "markdown",
   "metadata": {},
   "source": [
    "## Изучим данные"
   ]
  },
  {
   "cell_type": "markdown",
   "metadata": {},
   "source": [
    "Откроем таблицу books"
   ]
  },
  {
   "cell_type": "code",
   "execution_count": 2,
   "metadata": {},
   "outputs": [
    {
     "data": {
      "text/html": [
       "<div>\n",
       "<style scoped>\n",
       "    .dataframe tbody tr th:only-of-type {\n",
       "        vertical-align: middle;\n",
       "    }\n",
       "\n",
       "    .dataframe tbody tr th {\n",
       "        vertical-align: top;\n",
       "    }\n",
       "\n",
       "    .dataframe thead th {\n",
       "        text-align: right;\n",
       "    }\n",
       "</style>\n",
       "<table border=\"1\" class=\"dataframe\">\n",
       "  <thead>\n",
       "    <tr style=\"text-align: right;\">\n",
       "      <th></th>\n",
       "      <th>book_id</th>\n",
       "      <th>author_id</th>\n",
       "      <th>title</th>\n",
       "      <th>num_pages</th>\n",
       "      <th>publication_date</th>\n",
       "      <th>publisher_id</th>\n",
       "    </tr>\n",
       "  </thead>\n",
       "  <tbody>\n",
       "    <tr>\n",
       "      <th>0</th>\n",
       "      <td>1</td>\n",
       "      <td>546</td>\n",
       "      <td>'Salem's Lot</td>\n",
       "      <td>594</td>\n",
       "      <td>2005-11-01</td>\n",
       "      <td>93</td>\n",
       "    </tr>\n",
       "    <tr>\n",
       "      <th>1</th>\n",
       "      <td>2</td>\n",
       "      <td>465</td>\n",
       "      <td>1 000 Places to See Before You Die</td>\n",
       "      <td>992</td>\n",
       "      <td>2003-05-22</td>\n",
       "      <td>336</td>\n",
       "    </tr>\n",
       "    <tr>\n",
       "      <th>2</th>\n",
       "      <td>3</td>\n",
       "      <td>407</td>\n",
       "      <td>13 Little Blue Envelopes (Little Blue Envelope...</td>\n",
       "      <td>322</td>\n",
       "      <td>2010-12-21</td>\n",
       "      <td>135</td>\n",
       "    </tr>\n",
       "    <tr>\n",
       "      <th>3</th>\n",
       "      <td>4</td>\n",
       "      <td>82</td>\n",
       "      <td>1491: New Revelations of the Americas Before C...</td>\n",
       "      <td>541</td>\n",
       "      <td>2006-10-10</td>\n",
       "      <td>309</td>\n",
       "    </tr>\n",
       "    <tr>\n",
       "      <th>4</th>\n",
       "      <td>5</td>\n",
       "      <td>125</td>\n",
       "      <td>1776</td>\n",
       "      <td>386</td>\n",
       "      <td>2006-07-04</td>\n",
       "      <td>268</td>\n",
       "    </tr>\n",
       "  </tbody>\n",
       "</table>\n",
       "</div>"
      ],
      "text/plain": [
       "   book_id  author_id                                              title  \\\n",
       "0        1        546                                       'Salem's Lot   \n",
       "1        2        465                 1 000 Places to See Before You Die   \n",
       "2        3        407  13 Little Blue Envelopes (Little Blue Envelope...   \n",
       "3        4         82  1491: New Revelations of the Americas Before C...   \n",
       "4        5        125                                               1776   \n",
       "\n",
       "   num_pages publication_date  publisher_id  \n",
       "0        594       2005-11-01            93  \n",
       "1        992       2003-05-22           336  \n",
       "2        322       2010-12-21           135  \n",
       "3        541       2006-10-10           309  \n",
       "4        386       2006-07-04           268  "
      ]
     },
     "execution_count": 2,
     "metadata": {},
     "output_type": "execute_result"
    }
   ],
   "source": [
    "# чтобы выполнить SQL-запрос, используем Pandas\n",
    "query = '''SELECT * \n",
    "           FROM books  \n",
    "           LIMIT 5'''\n",
    "\n",
    "con=engine.connect()\n",
    "\n",
    "pd.io.sql.read_sql(sql=text(query), con = con)"
   ]
  },
  {
   "cell_type": "markdown",
   "metadata": {},
   "source": [
    "Откроем таблицу authors"
   ]
  },
  {
   "cell_type": "code",
   "execution_count": 3,
   "metadata": {},
   "outputs": [
    {
     "data": {
      "text/html": [
       "<div>\n",
       "<style scoped>\n",
       "    .dataframe tbody tr th:only-of-type {\n",
       "        vertical-align: middle;\n",
       "    }\n",
       "\n",
       "    .dataframe tbody tr th {\n",
       "        vertical-align: top;\n",
       "    }\n",
       "\n",
       "    .dataframe thead th {\n",
       "        text-align: right;\n",
       "    }\n",
       "</style>\n",
       "<table border=\"1\" class=\"dataframe\">\n",
       "  <thead>\n",
       "    <tr style=\"text-align: right;\">\n",
       "      <th></th>\n",
       "      <th>author_id</th>\n",
       "      <th>author</th>\n",
       "    </tr>\n",
       "  </thead>\n",
       "  <tbody>\n",
       "    <tr>\n",
       "      <th>0</th>\n",
       "      <td>1</td>\n",
       "      <td>A.S. Byatt</td>\n",
       "    </tr>\n",
       "    <tr>\n",
       "      <th>1</th>\n",
       "      <td>2</td>\n",
       "      <td>Aesop/Laura Harris/Laura Gibbs</td>\n",
       "    </tr>\n",
       "    <tr>\n",
       "      <th>2</th>\n",
       "      <td>3</td>\n",
       "      <td>Agatha Christie</td>\n",
       "    </tr>\n",
       "    <tr>\n",
       "      <th>3</th>\n",
       "      <td>4</td>\n",
       "      <td>Alan Brennert</td>\n",
       "    </tr>\n",
       "    <tr>\n",
       "      <th>4</th>\n",
       "      <td>5</td>\n",
       "      <td>Alan Moore/David   Lloyd</td>\n",
       "    </tr>\n",
       "  </tbody>\n",
       "</table>\n",
       "</div>"
      ],
      "text/plain": [
       "   author_id                          author\n",
       "0          1                      A.S. Byatt\n",
       "1          2  Aesop/Laura Harris/Laura Gibbs\n",
       "2          3                 Agatha Christie\n",
       "3          4                   Alan Brennert\n",
       "4          5        Alan Moore/David   Lloyd"
      ]
     },
     "execution_count": 3,
     "metadata": {},
     "output_type": "execute_result"
    }
   ],
   "source": [
    "query = '''SELECT * \n",
    "           FROM authors \n",
    "           LIMIT 5'''\n",
    "\n",
    "con=engine.connect()\n",
    "\n",
    "pd.io.sql.read_sql(sql=text(query), con = con)"
   ]
  },
  {
   "cell_type": "markdown",
   "metadata": {},
   "source": [
    "Откроем таблицу ratings"
   ]
  },
  {
   "cell_type": "code",
   "execution_count": 4,
   "metadata": {},
   "outputs": [
    {
     "data": {
      "text/html": [
       "<div>\n",
       "<style scoped>\n",
       "    .dataframe tbody tr th:only-of-type {\n",
       "        vertical-align: middle;\n",
       "    }\n",
       "\n",
       "    .dataframe tbody tr th {\n",
       "        vertical-align: top;\n",
       "    }\n",
       "\n",
       "    .dataframe thead th {\n",
       "        text-align: right;\n",
       "    }\n",
       "</style>\n",
       "<table border=\"1\" class=\"dataframe\">\n",
       "  <thead>\n",
       "    <tr style=\"text-align: right;\">\n",
       "      <th></th>\n",
       "      <th>rating_id</th>\n",
       "      <th>book_id</th>\n",
       "      <th>username</th>\n",
       "      <th>rating</th>\n",
       "    </tr>\n",
       "  </thead>\n",
       "  <tbody>\n",
       "    <tr>\n",
       "      <th>0</th>\n",
       "      <td>1</td>\n",
       "      <td>1</td>\n",
       "      <td>ryanfranco</td>\n",
       "      <td>4</td>\n",
       "    </tr>\n",
       "    <tr>\n",
       "      <th>1</th>\n",
       "      <td>2</td>\n",
       "      <td>1</td>\n",
       "      <td>grantpatricia</td>\n",
       "      <td>2</td>\n",
       "    </tr>\n",
       "    <tr>\n",
       "      <th>2</th>\n",
       "      <td>3</td>\n",
       "      <td>1</td>\n",
       "      <td>brandtandrea</td>\n",
       "      <td>5</td>\n",
       "    </tr>\n",
       "    <tr>\n",
       "      <th>3</th>\n",
       "      <td>4</td>\n",
       "      <td>2</td>\n",
       "      <td>lorichen</td>\n",
       "      <td>3</td>\n",
       "    </tr>\n",
       "    <tr>\n",
       "      <th>4</th>\n",
       "      <td>5</td>\n",
       "      <td>2</td>\n",
       "      <td>mariokeller</td>\n",
       "      <td>2</td>\n",
       "    </tr>\n",
       "  </tbody>\n",
       "</table>\n",
       "</div>"
      ],
      "text/plain": [
       "   rating_id  book_id       username  rating\n",
       "0          1        1     ryanfranco       4\n",
       "1          2        1  grantpatricia       2\n",
       "2          3        1   brandtandrea       5\n",
       "3          4        2       lorichen       3\n",
       "4          5        2    mariokeller       2"
      ]
     },
     "execution_count": 4,
     "metadata": {},
     "output_type": "execute_result"
    }
   ],
   "source": [
    "query = '''SELECT * \n",
    "           FROM ratings\n",
    "           LIMIT 5'''\n",
    "\n",
    "con=engine.connect()\n",
    "\n",
    "pd.io.sql.read_sql(sql=text(query), con = con)"
   ]
  },
  {
   "cell_type": "markdown",
   "metadata": {},
   "source": [
    "Откроем таблицу reviews"
   ]
  },
  {
   "cell_type": "code",
   "execution_count": 5,
   "metadata": {},
   "outputs": [
    {
     "data": {
      "text/html": [
       "<div>\n",
       "<style scoped>\n",
       "    .dataframe tbody tr th:only-of-type {\n",
       "        vertical-align: middle;\n",
       "    }\n",
       "\n",
       "    .dataframe tbody tr th {\n",
       "        vertical-align: top;\n",
       "    }\n",
       "\n",
       "    .dataframe thead th {\n",
       "        text-align: right;\n",
       "    }\n",
       "</style>\n",
       "<table border=\"1\" class=\"dataframe\">\n",
       "  <thead>\n",
       "    <tr style=\"text-align: right;\">\n",
       "      <th></th>\n",
       "      <th>review_id</th>\n",
       "      <th>book_id</th>\n",
       "      <th>username</th>\n",
       "      <th>text</th>\n",
       "    </tr>\n",
       "  </thead>\n",
       "  <tbody>\n",
       "    <tr>\n",
       "      <th>0</th>\n",
       "      <td>1</td>\n",
       "      <td>1</td>\n",
       "      <td>brandtandrea</td>\n",
       "      <td>Mention society tell send professor analysis. ...</td>\n",
       "    </tr>\n",
       "    <tr>\n",
       "      <th>1</th>\n",
       "      <td>2</td>\n",
       "      <td>1</td>\n",
       "      <td>ryanfranco</td>\n",
       "      <td>Foot glass pretty audience hit themselves. Amo...</td>\n",
       "    </tr>\n",
       "    <tr>\n",
       "      <th>2</th>\n",
       "      <td>3</td>\n",
       "      <td>2</td>\n",
       "      <td>lorichen</td>\n",
       "      <td>Listen treat keep worry. Miss husband tax but ...</td>\n",
       "    </tr>\n",
       "    <tr>\n",
       "      <th>3</th>\n",
       "      <td>4</td>\n",
       "      <td>3</td>\n",
       "      <td>johnsonamanda</td>\n",
       "      <td>Finally month interesting blue could nature cu...</td>\n",
       "    </tr>\n",
       "    <tr>\n",
       "      <th>4</th>\n",
       "      <td>5</td>\n",
       "      <td>3</td>\n",
       "      <td>scotttamara</td>\n",
       "      <td>Nation purpose heavy give wait song will. List...</td>\n",
       "    </tr>\n",
       "  </tbody>\n",
       "</table>\n",
       "</div>"
      ],
      "text/plain": [
       "   review_id  book_id       username  \\\n",
       "0          1        1   brandtandrea   \n",
       "1          2        1     ryanfranco   \n",
       "2          3        2       lorichen   \n",
       "3          4        3  johnsonamanda   \n",
       "4          5        3    scotttamara   \n",
       "\n",
       "                                                text  \n",
       "0  Mention society tell send professor analysis. ...  \n",
       "1  Foot glass pretty audience hit themselves. Amo...  \n",
       "2  Listen treat keep worry. Miss husband tax but ...  \n",
       "3  Finally month interesting blue could nature cu...  \n",
       "4  Nation purpose heavy give wait song will. List...  "
      ]
     },
     "execution_count": 5,
     "metadata": {},
     "output_type": "execute_result"
    }
   ],
   "source": [
    "query = '''SELECT * \n",
    "           FROM reviews \n",
    "           LIMIT 5'''\n",
    "\n",
    "con=engine.connect()\n",
    "\n",
    "pd.io.sql.read_sql(sql=text(query), con = con)"
   ]
  },
  {
   "cell_type": "markdown",
   "metadata": {},
   "source": [
    "Откроем таблицу publishers"
   ]
  },
  {
   "cell_type": "code",
   "execution_count": 6,
   "metadata": {},
   "outputs": [
    {
     "data": {
      "text/html": [
       "<div>\n",
       "<style scoped>\n",
       "    .dataframe tbody tr th:only-of-type {\n",
       "        vertical-align: middle;\n",
       "    }\n",
       "\n",
       "    .dataframe tbody tr th {\n",
       "        vertical-align: top;\n",
       "    }\n",
       "\n",
       "    .dataframe thead th {\n",
       "        text-align: right;\n",
       "    }\n",
       "</style>\n",
       "<table border=\"1\" class=\"dataframe\">\n",
       "  <thead>\n",
       "    <tr style=\"text-align: right;\">\n",
       "      <th></th>\n",
       "      <th>publisher_id</th>\n",
       "      <th>publisher</th>\n",
       "    </tr>\n",
       "  </thead>\n",
       "  <tbody>\n",
       "    <tr>\n",
       "      <th>0</th>\n",
       "      <td>1</td>\n",
       "      <td>Ace</td>\n",
       "    </tr>\n",
       "    <tr>\n",
       "      <th>1</th>\n",
       "      <td>2</td>\n",
       "      <td>Ace Book</td>\n",
       "    </tr>\n",
       "    <tr>\n",
       "      <th>2</th>\n",
       "      <td>3</td>\n",
       "      <td>Ace Books</td>\n",
       "    </tr>\n",
       "    <tr>\n",
       "      <th>3</th>\n",
       "      <td>4</td>\n",
       "      <td>Ace Hardcover</td>\n",
       "    </tr>\n",
       "    <tr>\n",
       "      <th>4</th>\n",
       "      <td>5</td>\n",
       "      <td>Addison Wesley Publishing Company</td>\n",
       "    </tr>\n",
       "  </tbody>\n",
       "</table>\n",
       "</div>"
      ],
      "text/plain": [
       "   publisher_id                          publisher\n",
       "0             1                                Ace\n",
       "1             2                           Ace Book\n",
       "2             3                          Ace Books\n",
       "3             4                      Ace Hardcover\n",
       "4             5  Addison Wesley Publishing Company"
      ]
     },
     "execution_count": 6,
     "metadata": {},
     "output_type": "execute_result"
    }
   ],
   "source": [
    "query = '''SELECT * \n",
    "           FROM publishers \n",
    "           LIMIT 5'''\n",
    "\n",
    "con=engine.connect()\n",
    "\n",
    "pd.io.sql.read_sql(sql=text(query), con = con)"
   ]
  },
  {
   "cell_type": "markdown",
   "metadata": {},
   "source": [
    "## Исследовательский анализ"
   ]
  },
  {
   "cell_type": "markdown",
   "metadata": {},
   "source": [
    "### Посчитаем, сколько книг вышло после 1 января 2000 года"
   ]
  },
  {
   "cell_type": "code",
   "execution_count": 7,
   "metadata": {},
   "outputs": [
    {
     "data": {
      "text/html": [
       "<div>\n",
       "<style scoped>\n",
       "    .dataframe tbody tr th:only-of-type {\n",
       "        vertical-align: middle;\n",
       "    }\n",
       "\n",
       "    .dataframe tbody tr th {\n",
       "        vertical-align: top;\n",
       "    }\n",
       "\n",
       "    .dataframe thead th {\n",
       "        text-align: right;\n",
       "    }\n",
       "</style>\n",
       "<table border=\"1\" class=\"dataframe\">\n",
       "  <thead>\n",
       "    <tr style=\"text-align: right;\">\n",
       "      <th></th>\n",
       "      <th>count</th>\n",
       "    </tr>\n",
       "  </thead>\n",
       "  <tbody>\n",
       "    <tr>\n",
       "      <th>0</th>\n",
       "      <td>819</td>\n",
       "    </tr>\n",
       "  </tbody>\n",
       "</table>\n",
       "</div>"
      ],
      "text/plain": [
       "   count\n",
       "0    819"
      ]
     },
     "execution_count": 7,
     "metadata": {},
     "output_type": "execute_result"
    }
   ],
   "source": [
    "query = '''SELECT COUNT(book_id)\n",
    "           FROM books\n",
    "           WHERE  publication_date >'2000-01-01'\n",
    "        '''\n",
    "\n",
    "con=engine.connect()\n",
    "\n",
    "pd.io.sql.read_sql(sql=text(query), con = con)"
   ]
  },
  {
   "cell_type": "markdown",
   "metadata": {},
   "source": [
    "ВЫВОД:После 1 января 2000 года вышло 819 книг."
   ]
  },
  {
   "cell_type": "markdown",
   "metadata": {},
   "source": [
    "### Для каждой книги посчитаем количество обзоров и среднюю оценку"
   ]
  },
  {
   "cell_type": "code",
   "execution_count": 8,
   "metadata": {},
   "outputs": [
    {
     "data": {
      "text/html": [
       "<div>\n",
       "<style scoped>\n",
       "    .dataframe tbody tr th:only-of-type {\n",
       "        vertical-align: middle;\n",
       "    }\n",
       "\n",
       "    .dataframe tbody tr th {\n",
       "        vertical-align: top;\n",
       "    }\n",
       "\n",
       "    .dataframe thead th {\n",
       "        text-align: right;\n",
       "    }\n",
       "</style>\n",
       "<table border=\"1\" class=\"dataframe\">\n",
       "  <thead>\n",
       "    <tr style=\"text-align: right;\">\n",
       "      <th></th>\n",
       "      <th>title</th>\n",
       "      <th>count</th>\n",
       "      <th>avg</th>\n",
       "    </tr>\n",
       "  </thead>\n",
       "  <tbody>\n",
       "    <tr>\n",
       "      <th>0</th>\n",
       "      <td>Twilight (Twilight  #1)</td>\n",
       "      <td>7</td>\n",
       "      <td>3.662500</td>\n",
       "    </tr>\n",
       "    <tr>\n",
       "      <th>1</th>\n",
       "      <td>The Hobbit  or There and Back Again</td>\n",
       "      <td>6</td>\n",
       "      <td>4.125000</td>\n",
       "    </tr>\n",
       "    <tr>\n",
       "      <th>2</th>\n",
       "      <td>The Catcher in the Rye</td>\n",
       "      <td>6</td>\n",
       "      <td>3.825581</td>\n",
       "    </tr>\n",
       "    <tr>\n",
       "      <th>3</th>\n",
       "      <td>Harry Potter and the Prisoner of Azkaban (Harr...</td>\n",
       "      <td>6</td>\n",
       "      <td>4.414634</td>\n",
       "    </tr>\n",
       "    <tr>\n",
       "      <th>4</th>\n",
       "      <td>Harry Potter and the Chamber of Secrets (Harry...</td>\n",
       "      <td>6</td>\n",
       "      <td>4.287500</td>\n",
       "    </tr>\n",
       "    <tr>\n",
       "      <th>...</th>\n",
       "      <td>...</td>\n",
       "      <td>...</td>\n",
       "      <td>...</td>\n",
       "    </tr>\n",
       "    <tr>\n",
       "      <th>995</th>\n",
       "      <td>Essential Tales and Poems</td>\n",
       "      <td>0</td>\n",
       "      <td>4.000000</td>\n",
       "    </tr>\n",
       "    <tr>\n",
       "      <th>996</th>\n",
       "      <td>Leonardo's Notebooks</td>\n",
       "      <td>0</td>\n",
       "      <td>4.000000</td>\n",
       "    </tr>\n",
       "    <tr>\n",
       "      <th>997</th>\n",
       "      <td>The Cat in the Hat and Other Dr. Seuss Favorites</td>\n",
       "      <td>0</td>\n",
       "      <td>5.000000</td>\n",
       "    </tr>\n",
       "    <tr>\n",
       "      <th>998</th>\n",
       "      <td>Anne Rice's The Vampire Lestat: A Graphic Novel</td>\n",
       "      <td>0</td>\n",
       "      <td>3.666667</td>\n",
       "    </tr>\n",
       "    <tr>\n",
       "      <th>999</th>\n",
       "      <td>The Natural Way to Draw</td>\n",
       "      <td>0</td>\n",
       "      <td>3.000000</td>\n",
       "    </tr>\n",
       "  </tbody>\n",
       "</table>\n",
       "<p>1000 rows × 3 columns</p>\n",
       "</div>"
      ],
      "text/plain": [
       "                                                 title  count       avg\n",
       "0                              Twilight (Twilight  #1)      7  3.662500\n",
       "1                  The Hobbit  or There and Back Again      6  4.125000\n",
       "2                               The Catcher in the Rye      6  3.825581\n",
       "3    Harry Potter and the Prisoner of Azkaban (Harr...      6  4.414634\n",
       "4    Harry Potter and the Chamber of Secrets (Harry...      6  4.287500\n",
       "..                                                 ...    ...       ...\n",
       "995                          Essential Tales and Poems      0  4.000000\n",
       "996                               Leonardo's Notebooks      0  4.000000\n",
       "997   The Cat in the Hat and Other Dr. Seuss Favorites      0  5.000000\n",
       "998    Anne Rice's The Vampire Lestat: A Graphic Novel      0  3.666667\n",
       "999                            The Natural Way to Draw      0  3.000000\n",
       "\n",
       "[1000 rows x 3 columns]"
      ]
     },
     "execution_count": 8,
     "metadata": {},
     "output_type": "execute_result"
    }
   ],
   "source": [
    "query = '''SELECT b.title, \n",
    "           COUNT(DISTINCT re.review_id), \n",
    "           AVG(r.rating)\n",
    "           FROM books AS b\n",
    "           LEFT JOIN reviews AS re ON b.book_id = re.book_id\n",
    "           LEFT JOIN  ratings AS r ON b.book_id = r.book_id\n",
    "           GROUP BY b.book_id\n",
    "           ORDER BY COUNT(re.review_id) DESC\n",
    "        '''\n",
    "\n",
    "con=engine.connect()\n",
    "\n",
    "pd.io.sql.read_sql(sql=text(query), con = con)"
   ]
  },
  {
   "cell_type": "markdown",
   "metadata": {},
   "source": [
    "ВЫВОД: Топ-3:\n",
    "- 1120 обзоров на книгу \"Twilight (Twilight #1)\"Сумерки\" — роман Стефани Майер со средней оценкой 3.66.\n",
    "- 528 обзоров на книгу The Hobbit or There and Back Again «Хоббит, или Туда и обратно» — детский фантастический роман английского писателя J. R. R. Tolkien со средней оценкой 4.12\n",
    "- 516 обзоров на книгу The Catcher in the Rye «Над пропастью во ржи» — американский роман Дж. Д. Сэлинджера со средней оценкой 3.82\n",
    "\n"
   ]
  },
  {
   "cell_type": "markdown",
   "metadata": {},
   "source": [
    "### Определите издательство, которое выпустило наибольшее число книг толще 50 страниц — так вы исключите из анализа брошюры"
   ]
  },
  {
   "cell_type": "code",
   "execution_count": 9,
   "metadata": {},
   "outputs": [
    {
     "data": {
      "text/html": [
       "<div>\n",
       "<style scoped>\n",
       "    .dataframe tbody tr th:only-of-type {\n",
       "        vertical-align: middle;\n",
       "    }\n",
       "\n",
       "    .dataframe tbody tr th {\n",
       "        vertical-align: top;\n",
       "    }\n",
       "\n",
       "    .dataframe thead th {\n",
       "        text-align: right;\n",
       "    }\n",
       "</style>\n",
       "<table border=\"1\" class=\"dataframe\">\n",
       "  <thead>\n",
       "    <tr style=\"text-align: right;\">\n",
       "      <th></th>\n",
       "      <th>publisher</th>\n",
       "      <th>cnt_book</th>\n",
       "    </tr>\n",
       "  </thead>\n",
       "  <tbody>\n",
       "    <tr>\n",
       "      <th>0</th>\n",
       "      <td>Penguin Books</td>\n",
       "      <td>42</td>\n",
       "    </tr>\n",
       "  </tbody>\n",
       "</table>\n",
       "</div>"
      ],
      "text/plain": [
       "       publisher  cnt_book\n",
       "0  Penguin Books        42"
      ]
     },
     "execution_count": 9,
     "metadata": {},
     "output_type": "execute_result"
    }
   ],
   "source": [
    "query = '''SELECT p.publisher,\n",
    "           COUNT(b.book_id) AS cnt_book\n",
    "           FROM publishers AS p\n",
    "           JOIN books AS b ON p.publisher_id = b.publisher_id\n",
    "           WHERE num_pages>50 \n",
    "           GROUP BY p.publisher\n",
    "           ORDER BY cnt_book DESC\n",
    "           LIMIT 1    \n",
    "        '''\n",
    "con=engine.connect()\n",
    "\n",
    "pd.io.sql.read_sql(sql=text(query), con = con)"
   ]
  },
  {
   "cell_type": "markdown",
   "metadata": {},
   "source": [
    "ВЫВОД:Издательство \"Penguin Books\" выпустило наибольшее число книг толще 50 страниц."
   ]
  },
  {
   "cell_type": "markdown",
   "metadata": {},
   "source": [
    "### Определите автора с самой высокой средней оценкой книг — учитывайте только книги с 50 и более оценками"
   ]
  },
  {
   "cell_type": "code",
   "execution_count": 10,
   "metadata": {},
   "outputs": [
    {
     "data": {
      "text/html": [
       "<div>\n",
       "<style scoped>\n",
       "    .dataframe tbody tr th:only-of-type {\n",
       "        vertical-align: middle;\n",
       "    }\n",
       "\n",
       "    .dataframe tbody tr th {\n",
       "        vertical-align: top;\n",
       "    }\n",
       "\n",
       "    .dataframe thead th {\n",
       "        text-align: right;\n",
       "    }\n",
       "</style>\n",
       "<table border=\"1\" class=\"dataframe\">\n",
       "  <thead>\n",
       "    <tr style=\"text-align: right;\">\n",
       "      <th></th>\n",
       "      <th>author</th>\n",
       "      <th>avg</th>\n",
       "    </tr>\n",
       "  </thead>\n",
       "  <tbody>\n",
       "    <tr>\n",
       "      <th>0</th>\n",
       "      <td>J.K. Rowling/Mary GrandPré</td>\n",
       "      <td>4.287097</td>\n",
       "    </tr>\n",
       "    <tr>\n",
       "      <th>1</th>\n",
       "      <td>Markus Zusak/Cao Xuân Việt Khương</td>\n",
       "      <td>4.264151</td>\n",
       "    </tr>\n",
       "    <tr>\n",
       "      <th>2</th>\n",
       "      <td>J.R.R. Tolkien</td>\n",
       "      <td>4.246914</td>\n",
       "    </tr>\n",
       "    <tr>\n",
       "      <th>3</th>\n",
       "      <td>Louisa May Alcott</td>\n",
       "      <td>4.192308</td>\n",
       "    </tr>\n",
       "    <tr>\n",
       "      <th>4</th>\n",
       "      <td>Rick Riordan</td>\n",
       "      <td>4.080645</td>\n",
       "    </tr>\n",
       "    <tr>\n",
       "      <th>5</th>\n",
       "      <td>William Golding</td>\n",
       "      <td>3.901408</td>\n",
       "    </tr>\n",
       "    <tr>\n",
       "      <th>6</th>\n",
       "      <td>J.D. Salinger</td>\n",
       "      <td>3.825581</td>\n",
       "    </tr>\n",
       "    <tr>\n",
       "      <th>7</th>\n",
       "      <td>Paulo Coelho/Alan R. Clarke/Özdemir İnce</td>\n",
       "      <td>3.789474</td>\n",
       "    </tr>\n",
       "    <tr>\n",
       "      <th>8</th>\n",
       "      <td>William Shakespeare/Paul Werstine/Barbara A. M...</td>\n",
       "      <td>3.787879</td>\n",
       "    </tr>\n",
       "    <tr>\n",
       "      <th>9</th>\n",
       "      <td>Lois Lowry</td>\n",
       "      <td>3.750000</td>\n",
       "    </tr>\n",
       "  </tbody>\n",
       "</table>\n",
       "</div>"
      ],
      "text/plain": [
       "                                              author       avg\n",
       "0                         J.K. Rowling/Mary GrandPré  4.287097\n",
       "1                  Markus Zusak/Cao Xuân Việt Khương  4.264151\n",
       "2                                     J.R.R. Tolkien  4.246914\n",
       "3                                  Louisa May Alcott  4.192308\n",
       "4                                       Rick Riordan  4.080645\n",
       "5                                    William Golding  3.901408\n",
       "6                                      J.D. Salinger  3.825581\n",
       "7           Paulo Coelho/Alan R. Clarke/Özdemir İnce  3.789474\n",
       "8  William Shakespeare/Paul Werstine/Barbara A. M...  3.787879\n",
       "9                                         Lois Lowry  3.750000"
      ]
     },
     "execution_count": 10,
     "metadata": {},
     "output_type": "execute_result"
    }
   ],
   "source": [
    "query = '''SELECT a.author,\n",
    "           AVG(r.rating)\n",
    "           FROM (SELECT book_id,\n",
    "           COUNT(rating_id) \n",
    "           FROM ratings \n",
    "           GROUP BY book_id\n",
    "           HAVING COUNT(rating_id)>50\n",
    "           ORDER BY COUNT(rating_id) DESC) AS ratin\n",
    "           JOIN books AS b ON ratin.book_id = b.book_id     \n",
    "           JOIN authors AS a ON b.author_id = a.author_id\n",
    "           JOIN ratings AS r ON b.book_id = r.book_id\n",
    "           GROUP BY a.author\n",
    "           ORDER BY AVG(r.rating) DESC\n",
    "           LIMIT 10    \n",
    "        '''\n",
    "con=engine.connect()\n",
    "\n",
    "pd.io.sql.read_sql(sql=text(query), con = con)"
   ]
  },
  {
   "cell_type": "markdown",
   "metadata": {},
   "source": [
    "ВЫВОД: Автор J.K. Rowling/Mary GrandPré с самой высокой средней оценкой книг (средним рейтинг 4.28) (Известная по серии романов о Гарри Поттере.)"
   ]
  },
  {
   "cell_type": "markdown",
   "metadata": {},
   "source": [
    "### Посчитайте среднее количество обзоров от пользователей, которые поставили больше 48 оценок"
   ]
  },
  {
   "cell_type": "code",
   "execution_count": 11,
   "metadata": {},
   "outputs": [
    {
     "data": {
      "text/html": [
       "<div>\n",
       "<style scoped>\n",
       "    .dataframe tbody tr th:only-of-type {\n",
       "        vertical-align: middle;\n",
       "    }\n",
       "\n",
       "    .dataframe tbody tr th {\n",
       "        vertical-align: top;\n",
       "    }\n",
       "\n",
       "    .dataframe thead th {\n",
       "        text-align: right;\n",
       "    }\n",
       "</style>\n",
       "<table border=\"1\" class=\"dataframe\">\n",
       "  <thead>\n",
       "    <tr style=\"text-align: right;\">\n",
       "      <th></th>\n",
       "      <th>avg</th>\n",
       "    </tr>\n",
       "  </thead>\n",
       "  <tbody>\n",
       "    <tr>\n",
       "      <th>0</th>\n",
       "      <td>24.0</td>\n",
       "    </tr>\n",
       "  </tbody>\n",
       "</table>\n",
       "</div>"
      ],
      "text/plain": [
       "    avg\n",
       "0  24.0"
      ]
     },
     "execution_count": 11,
     "metadata": {},
     "output_type": "execute_result"
    }
   ],
   "source": [
    "query = '''SELECT AVG(count_rating.rev)\n",
    "           FROM(SELECT COUNT(review_id) AS rev,\n",
    "  username\n",
    "  FROM reviews\n",
    "  GROUP BY username) AS count_rating\n",
    "  WHERE username IN (SELECT username\n",
    "           FROM ratings\n",
    "           GROUP BY username\n",
    "           HAVING  COUNT(rating_id)>48\n",
    "           )     \n",
    "        '''\n",
    "con=engine.connect()\n",
    "\n",
    "pd.io.sql.read_sql(sql=text(query), con = con)"
   ]
  },
  {
   "cell_type": "markdown",
   "metadata": {},
   "source": [
    "Среднее количество обзоров от пользователей, которые поставили больше 48 оценок- 24."
   ]
  },
  {
   "cell_type": "markdown",
   "metadata": {},
   "source": [
    "## Вывод"
   ]
  },
  {
   "cell_type": "markdown",
   "metadata": {},
   "source": [
    "ВЫВОД:\n",
    "\n",
    "После 1 января 2000 года вышло 819 книг. Британское издательство \"Penguin Books\" , основанное в 1935 году в Лондоне  выпустило наибольшее число книг толще 50 страниц. \n",
    "Топ-3:\n",
    "1120 обзоров на книгу \"Twilight (Twilight #1)\"Сумерки\" — роман Стефани Майер со средней оценкой 3.66.\n",
    "528 обзоров на книгу The Hobbit or There and Back Again «Хоббит, или Туда и обратно» — детский фантастический роман английского писателя J. R. R. Tolkien со средней оценкой 4.12\n",
    "516 обзоров на книгу The Catcher in the Rye «Над пропастью во ржи» — американский роман Дж. Д. Сэлинджера со средней оценкой 3.82\n",
    "Автор J.K. Rowling/Mary GrandPré с самой высокой средней оценкой книг (средним рейтинг 4.28) (Известная по серии романов о Гарри Поттере.)\n",
    "Среднее количество обзоров 24 от пользователей, которые поставили больше 48 оценок.\n",
    "\n",
    "\n"
   ]
  },
  {
   "cell_type": "code",
   "execution_count": null,
   "metadata": {},
   "outputs": [],
   "source": []
  }
 ],
 "metadata": {
  "ExecuteTimeLog": [
   {
    "duration": 7957,
    "start_time": "2023-06-11T12:39:55.262Z"
   },
   {
    "duration": 136,
    "start_time": "2023-06-11T12:41:00.908Z"
   },
   {
    "duration": 3,
    "start_time": "2023-06-11T12:41:11.301Z"
   },
   {
    "duration": 45,
    "start_time": "2023-06-11T12:41:18.472Z"
   },
   {
    "duration": 16,
    "start_time": "2023-06-11T12:42:08.183Z"
   },
   {
    "duration": 17,
    "start_time": "2023-06-11T12:43:17.800Z"
   },
   {
    "duration": 18,
    "start_time": "2023-06-11T12:43:20.980Z"
   },
   {
    "duration": 12,
    "start_time": "2023-06-11T12:43:57.596Z"
   },
   {
    "duration": 12,
    "start_time": "2023-06-11T12:45:52.104Z"
   },
   {
    "duration": 40,
    "start_time": "2023-06-11T12:47:22.860Z"
   },
   {
    "duration": 120,
    "start_time": "2023-06-11T12:48:12.263Z"
   },
   {
    "duration": 49,
    "start_time": "2023-06-11T12:48:23.201Z"
   },
   {
    "duration": 64,
    "start_time": "2023-06-11T12:48:52.070Z"
   },
   {
    "duration": 24,
    "start_time": "2023-06-11T12:50:25.180Z"
   },
   {
    "duration": 152,
    "start_time": "2023-06-11T12:50:45.196Z"
   },
   {
    "duration": 21,
    "start_time": "2023-06-11T12:52:29.292Z"
   },
   {
    "duration": 22,
    "start_time": "2023-06-11T12:53:22.255Z"
   },
   {
    "duration": 127,
    "start_time": "2023-06-11T12:53:31.812Z"
   },
   {
    "duration": 134,
    "start_time": "2023-06-11T12:54:33.759Z"
   },
   {
    "duration": 145,
    "start_time": "2023-06-11T12:54:38.870Z"
   },
   {
    "duration": 149,
    "start_time": "2023-06-11T12:55:36.690Z"
   },
   {
    "duration": 399,
    "start_time": "2023-06-11T12:59:02.453Z"
   },
   {
    "duration": 27,
    "start_time": "2023-06-11T12:59:42.518Z"
   },
   {
    "duration": 14,
    "start_time": "2023-06-11T13:04:32.164Z"
   },
   {
    "duration": 25,
    "start_time": "2023-06-11T13:46:57.096Z"
   },
   {
    "duration": 37,
    "start_time": "2023-06-11T14:04:32.728Z"
   },
   {
    "duration": 19,
    "start_time": "2023-06-11T15:25:16.546Z"
   },
   {
    "duration": 20,
    "start_time": "2023-06-11T15:37:46.451Z"
   },
   {
    "duration": 33,
    "start_time": "2023-06-11T15:38:03.742Z"
   },
   {
    "duration": 25,
    "start_time": "2023-06-11T15:38:17.672Z"
   },
   {
    "duration": 21,
    "start_time": "2023-06-11T15:38:33.376Z"
   },
   {
    "duration": 52,
    "start_time": "2023-06-11T15:40:12.134Z"
   },
   {
    "duration": 56,
    "start_time": "2023-06-11T15:40:29.420Z"
   },
   {
    "duration": 49,
    "start_time": "2023-06-12T06:51:35.409Z"
   },
   {
    "duration": 9646,
    "start_time": "2023-06-12T06:51:49.045Z"
   },
   {
    "duration": 225,
    "start_time": "2023-06-12T06:51:58.693Z"
   },
   {
    "duration": 123,
    "start_time": "2023-06-12T06:51:58.920Z"
   },
   {
    "duration": 55,
    "start_time": "2023-06-12T06:51:59.045Z"
   },
   {
    "duration": 52,
    "start_time": "2023-06-12T06:51:59.102Z"
   },
   {
    "duration": 51,
    "start_time": "2023-06-12T06:51:59.156Z"
   },
   {
    "duration": 52,
    "start_time": "2023-06-12T06:51:59.210Z"
   },
   {
    "duration": 164,
    "start_time": "2023-06-12T06:51:59.264Z"
   },
   {
    "duration": 0,
    "start_time": "2023-06-12T06:51:59.430Z"
   },
   {
    "duration": 0,
    "start_time": "2023-06-12T06:51:59.431Z"
   },
   {
    "duration": 0,
    "start_time": "2023-06-12T06:51:59.433Z"
   },
   {
    "duration": 0,
    "start_time": "2023-06-12T06:51:59.434Z"
   },
   {
    "duration": 59,
    "start_time": "2023-06-12T06:52:05.421Z"
   },
   {
    "duration": 161,
    "start_time": "2023-06-12T06:53:00.426Z"
   },
   {
    "duration": 98,
    "start_time": "2023-06-12T06:54:00.815Z"
   },
   {
    "duration": 88,
    "start_time": "2023-06-12T06:54:42.952Z"
   },
   {
    "duration": 78,
    "start_time": "2023-06-12T06:55:32.756Z"
   },
   {
    "duration": 71,
    "start_time": "2023-06-12T06:55:35.335Z"
   },
   {
    "duration": 183,
    "start_time": "2023-06-12T06:55:55.855Z"
   },
   {
    "duration": 85,
    "start_time": "2023-06-12T06:58:47.440Z"
   },
   {
    "duration": 87,
    "start_time": "2023-06-12T06:59:27.304Z"
   },
   {
    "duration": 57,
    "start_time": "2023-06-12T07:12:55.960Z"
   },
   {
    "duration": 58,
    "start_time": "2023-06-12T07:13:00.253Z"
   },
   {
    "duration": 51,
    "start_time": "2023-06-13T07:16:21.981Z"
   },
   {
    "duration": 44,
    "start_time": "2023-06-13T07:16:39.862Z"
   },
   {
    "duration": 34,
    "start_time": "2023-06-13T07:16:39.908Z"
   },
   {
    "duration": 11,
    "start_time": "2023-06-13T07:16:39.944Z"
   },
   {
    "duration": 12,
    "start_time": "2023-06-13T07:16:39.957Z"
   },
   {
    "duration": 11,
    "start_time": "2023-06-13T07:16:39.970Z"
   },
   {
    "duration": 9,
    "start_time": "2023-06-13T07:16:39.983Z"
   },
   {
    "duration": 32,
    "start_time": "2023-06-13T07:16:39.993Z"
   },
   {
    "duration": 11,
    "start_time": "2023-06-13T07:16:40.027Z"
   },
   {
    "duration": 23,
    "start_time": "2023-06-13T07:16:40.041Z"
   },
   {
    "duration": 77,
    "start_time": "2023-06-13T07:16:40.066Z"
   },
   {
    "duration": 0,
    "start_time": "2023-06-13T07:16:40.144Z"
   },
   {
    "duration": 0,
    "start_time": "2023-06-13T07:16:40.150Z"
   },
   {
    "duration": 0,
    "start_time": "2023-06-13T07:16:40.151Z"
   },
   {
    "duration": 12,
    "start_time": "2023-06-13T07:16:40.166Z"
   },
   {
    "duration": 33,
    "start_time": "2023-06-13T07:16:40.530Z"
   },
   {
    "duration": 12,
    "start_time": "2023-06-13T07:16:40.912Z"
   },
   {
    "duration": 12,
    "start_time": "2023-06-13T07:16:41.272Z"
   },
   {
    "duration": 12,
    "start_time": "2023-06-13T07:16:41.612Z"
   },
   {
    "duration": 10,
    "start_time": "2023-06-13T07:16:42.305Z"
   },
   {
    "duration": 27,
    "start_time": "2023-06-13T07:16:43.057Z"
   },
   {
    "duration": 14,
    "start_time": "2023-06-13T07:16:44.723Z"
   },
   {
    "duration": 17,
    "start_time": "2023-06-13T07:16:45.537Z"
   },
   {
    "duration": 21,
    "start_time": "2023-06-13T07:16:45.729Z"
   },
   {
    "duration": 16,
    "start_time": "2023-06-13T07:16:46.773Z"
   },
   {
    "duration": 76,
    "start_time": "2023-06-13T07:16:46.967Z"
   },
   {
    "duration": 67,
    "start_time": "2023-06-13T07:31:04.060Z"
   },
   {
    "duration": 14,
    "start_time": "2023-06-13T07:31:20.013Z"
   },
   {
    "duration": 55,
    "start_time": "2023-06-13T07:35:43.551Z"
   },
   {
    "duration": 25,
    "start_time": "2023-06-13T07:38:12.649Z"
   },
   {
    "duration": 20,
    "start_time": "2023-06-13T07:38:32.675Z"
   },
   {
    "duration": 17,
    "start_time": "2023-06-13T07:39:37.182Z"
   },
   {
    "duration": 5433,
    "start_time": "2023-06-13T07:48:50.634Z"
   },
   {
    "duration": 41,
    "start_time": "2023-06-13T07:48:56.069Z"
   },
   {
    "duration": 35,
    "start_time": "2023-06-13T07:48:56.111Z"
   },
   {
    "duration": 11,
    "start_time": "2023-06-13T07:48:56.148Z"
   },
   {
    "duration": 20,
    "start_time": "2023-06-13T07:48:56.160Z"
   },
   {
    "duration": 12,
    "start_time": "2023-06-13T07:48:56.181Z"
   },
   {
    "duration": 10,
    "start_time": "2023-06-13T07:48:56.194Z"
   },
   {
    "duration": 31,
    "start_time": "2023-06-13T07:48:56.206Z"
   },
   {
    "duration": 15,
    "start_time": "2023-06-13T07:48:56.239Z"
   },
   {
    "duration": 14,
    "start_time": "2023-06-13T07:48:56.256Z"
   },
   {
    "duration": 13,
    "start_time": "2023-06-13T07:48:56.272Z"
   },
   {
    "duration": 10371,
    "start_time": "2023-06-13T21:51:49.078Z"
   },
   {
    "duration": 264,
    "start_time": "2023-06-13T21:51:59.451Z"
   },
   {
    "duration": 175,
    "start_time": "2023-06-13T21:51:59.716Z"
   },
   {
    "duration": 71,
    "start_time": "2023-06-13T21:51:59.893Z"
   },
   {
    "duration": 74,
    "start_time": "2023-06-13T21:51:59.966Z"
   },
   {
    "duration": 47,
    "start_time": "2023-06-13T21:52:00.042Z"
   },
   {
    "duration": 69,
    "start_time": "2023-06-13T21:52:00.091Z"
   },
   {
    "duration": 90,
    "start_time": "2023-06-13T21:52:00.162Z"
   },
   {
    "duration": 72,
    "start_time": "2023-06-13T21:52:00.253Z"
   },
   {
    "duration": 58,
    "start_time": "2023-06-13T21:52:00.331Z"
   },
   {
    "duration": 74,
    "start_time": "2023-06-13T21:52:00.390Z"
   }
  ],
  "kernelspec": {
   "display_name": "Python 3 (ipykernel)",
   "language": "python",
   "name": "python3"
  },
  "language_info": {
   "codemirror_mode": {
    "name": "ipython",
    "version": 3
   },
   "file_extension": ".py",
   "mimetype": "text/x-python",
   "name": "python",
   "nbconvert_exporter": "python",
   "pygments_lexer": "ipython3",
   "version": "3.9.5"
  },
  "toc": {
   "base_numbering": 1,
   "nav_menu": {},
   "number_sections": true,
   "sideBar": true,
   "skip_h1_title": true,
   "title_cell": "Table of Contents",
   "title_sidebar": "Contents",
   "toc_cell": false,
   "toc_position": {},
   "toc_section_display": true,
   "toc_window_display": false
  }
 },
 "nbformat": 4,
 "nbformat_minor": 2
}
